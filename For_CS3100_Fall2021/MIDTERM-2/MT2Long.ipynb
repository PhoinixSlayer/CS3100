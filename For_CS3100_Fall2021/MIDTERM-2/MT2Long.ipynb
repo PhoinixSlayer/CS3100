{
  "nbformat": 4,
  "nbformat_minor": 0,
  "metadata": {
    "kernelspec": {
      "display_name": "Python 3",
      "language": "python",
      "name": "python3"
    },
    "language_info": {
      "codemirror_mode": {
        "name": "ipython",
        "version": 3
      },
      "file_extension": ".py",
      "mimetype": "text/x-python",
      "name": "python",
      "nbconvert_exporter": "python",
      "pygments_lexer": "ipython3",
      "version": "3.8.5"
    },
    "toc": {
      "colors": {
        "hover_highlight": "#DAA520",
        "running_highlight": "#FF0000",
        "selected_highlight": "#FFD700"
      },
      "moveMenuLeft": true,
      "nav_menu": {
        "height": "318px",
        "width": "252px"
      },
      "navigate_menu": true,
      "number_sections": true,
      "sideBar": true,
      "threshold": 4,
      "toc_cell": false,
      "toc_section_display": "block",
      "toc_window_display": false,
      "widenNotebook": false
    },
    "colab": {
      "name": "MT2Long.ipynb",
      "provenance": []
    }
  },
  "cells": [
    {
      "cell_type": "code",
      "metadata": {
        "run_control": {
          "frozen": false,
          "read_only": false
        },
        "id": "69an8KJ22uvG",
        "outputId": "e624c479-fe7a-4e2e-f159-882fe90ca833",
        "colab": {
          "base_uri": "https://localhost:8080/"
        }
      },
      "source": [
        "#~~~~~~~~~~~~~~~~~~~~~~~~~~~~~~~~~~~~~~~~~~~~~~~~~~~~~~~\n",
        "import sys\n",
        "\n",
        "# -- Detect if in Own Install or in Colab\n",
        "try:\n",
        "    import google.colab\n",
        "    OWN_INSTALL = False\n",
        "except:\n",
        "    OWN_INSTALL = True\n",
        "    \n",
        "if OWN_INSTALL:\n",
        "    \n",
        "  #---- Leave these definitions ON if running on laptop\n",
        "  #---- Else turn OFF by putting them between ''' ... '''\n",
        "\n",
        "  sys.path[0:0] = ['../../../../..',  '../../../../../3rdparty',  \n",
        "                   '../../../..',  '../../../../3rdparty',  \n",
        "                   '../../..',     '../../../3rdparty', \n",
        "                   '../..',        '../../3rdparty',\n",
        "                   '..',           '../3rdparty' ]\n",
        "\n",
        "else: # In colab\n",
        "  ! if [ ! -d Jove ]; then git clone https://github.com/ganeshutah/Jove Jove; fi\n",
        "  sys.path.append('./Jove')\n",
        "  sys.path.append('./Jove/jove')\n",
        "\n",
        "# -- common imports --\n",
        "from jove.DotBashers import *\n",
        "from jove.Def_DFA import *\n",
        "from jove.Def_NFA import *\n",
        "from jove.Def_RE2NFA import *\n",
        "from jove.Def_NFA2RE import *\n",
        "from jove.Def_md2mc import *\n",
        "from jove.JoveEditor import *\n",
        "#~~~~~~~~~~~~~~~~~~~~~~~~~~~~~~~~~~~~~~~~~~~~~~~~~~~~~~~"
      ],
      "execution_count": 2,
      "outputs": [
        {
          "output_type": "stream",
          "name": "stdout",
          "text": [
            "Cloning into 'Jove'...\n",
            "remote: Enumerating objects: 5094, done.\u001b[K\n",
            "remote: Counting objects: 100% (460/460), done.\u001b[K\n",
            "remote: Compressing objects: 100% (321/321), done.\u001b[K\n",
            "remote: Total 5094 (delta 265), reused 308 (delta 124), pack-reused 4634\u001b[K\n",
            "Receiving objects: 100% (5094/5094), 7.64 MiB | 24.37 MiB/s, done.\n",
            "Resolving deltas: 100% (3270/3270), done.\n",
            "You may use any of these help commands:\n",
            "help(ResetStNum)\n",
            "help(NxtStateStr)\n",
            "\n",
            "You may use any of these help commands:\n",
            "help(mkp_dfa)\n",
            "help(mk_dfa)\n",
            "help(totalize_dfa)\n",
            "help(addtosigma_delta)\n",
            "help(step_dfa)\n",
            "help(run_dfa)\n",
            "help(accepts_dfa)\n",
            "help(comp_dfa)\n",
            "help(union_dfa)\n",
            "help(intersect_dfa)\n",
            "help(pruneUnreach)\n",
            "help(iso_dfa)\n",
            "help(langeq_dfa)\n",
            "help(same_status)\n",
            "help(h_langeq_dfa)\n",
            "help(fixptDist)\n",
            "help(min_dfa)\n",
            "help(pairFR)\n",
            "help(state_combos)\n",
            "help(sepFinNonFin)\n",
            "help(bash_eql_classes)\n",
            "help(listminus)\n",
            "help(bash_1)\n",
            "help(mk_rep_eqc)\n",
            "help(F_of)\n",
            "help(rep_of_s)\n",
            "help(q0_of)\n",
            "help(Delta_of)\n",
            "help(mk_state_eqc_name)\n",
            "\n",
            "You may use any of these help commands:\n",
            "help(mk_nfa)\n",
            "help(totalize_nfa)\n",
            "help(step_nfa)\n",
            "help(run_nfa)\n",
            "help(ec_step_nfa)\n",
            "help(Eclosure)\n",
            "help(Echelp)\n",
            "help(accepts_nfa)\n",
            "help(nfa2dfa)\n",
            "help(n2d)\n",
            "help(inSets)\n",
            "help(rev_dfa)\n",
            "help(min_dfa_brz)\n",
            "\n",
            "You may use any of these help commands:\n",
            "help(re2nfa)\n",
            "\n",
            "You may use any of these help commands:\n",
            "help(RE2Str)\n",
            "help(mk_gnfa)\n",
            "help(mk_gnfa_from_D)\n",
            "help(dfa2nfa)\n",
            "help(del_gnfa_states)\n",
            "help(gnfa_w_REStr)\n",
            "help(del_one_gnfa_state)\n",
            "help(Edges_Exist_Via)\n",
            "help(choose_state_to_del)\n",
            "help(form_alt_RE)\n",
            "help(form_concat_RE)\n",
            "help(form_kleene_RE)\n",
            "\n",
            "You may use any of these help commands:\n",
            "help(md2mc)\n",
            ".. and if you want to dig more, then ..\n",
            "help(default_line_attr)\n",
            "help(length_ok_input_items)\n",
            "help(union_line_attr_list_fld)\n",
            "help(extend_rsltdict)\n",
            "help(form_delta)\n",
            "help(get_machine_components)\n",
            "\n",
            " \"help(JoveEditor)\" gives you info on the generic animation panel that animates all machines. \n"
          ]
        }
      ]
    },
    {
      "cell_type": "markdown",
      "metadata": {
        "id": "k64MM1-Z2uvL"
      },
      "source": [
        "# Question 1, Part (a) : Develop a CFG and then a PDA that directly encodes this CFG for the language Labcd\n",
        "\n",
        " \n",
        "## Labcd = { a^i b^j c^k d^l : if i=2 then j=k else l > k }\n",
        "\n",
        "### NOTE it is d raised to \"ell\" not d raised to \"one\" (as l and 1  -- ELL and ONE -- often look similar)\n",
        "\n",
        "## Type the PDA Design directly below\n",
        "\n",
        "## But begin the PDA design with the CFG productions you developed\n",
        "\n",
        "## Then, for each PDA transition, put the CFG rule it encodes as comments\n",
        "\n",
        "## See additional details below\n",
        "\n",
        "# You may begin your design with nonterminal names of > 1 character\n",
        "\n",
        "## BUT finally, you need single-character non-terminals for Jove's CFG simulation using PDA"
      ]
    },
    {
      "cell_type": "code",
      "metadata": {
        "id": "vJx9jyUQ2uvO"
      },
      "source": [
        "\n",
        "#----- MY FINAL PRODUCTION  RULES ARE HERE after I turned all non-terminals into 1-character non-terminals ------\n",
        "\n",
        "# ....\n",
        "# S -> aA | bB | cCd | dD\n",
        "# A -> aX | aA | bB | cCD | dD\n",
        "# B -> bB | cCd | dD\n",
        "# C -> cCd | dD\n",
        "# D -> dD | ''\n",
        "# X -> aA | bXcD | ''  # This matches b's and c's and returning to main A state if there are >3 a's\n",
        "\n",
        "#----- MY PDA IS BELOW\n",
        "\n",
        "\n",
        "\n",
        "Labcd = md2mc('''\n",
        "\n",
        "PDA\n",
        "\n",
        "!! Standard transitions\n",
        "I : '', # ; S# -> W\n",
        "W : '', # ; # -> F\n",
        "\n",
        "!! Sigma-based transitions\n",
        "W : a, a; '' -> W\n",
        "W : b, b; '' -> W\n",
        "W : c, c; '' -> W\n",
        "W : d, d; '' -> W\n",
        "\n",
        "!!--- be neat and careful as you have to avoid mistakes ---\n",
        "\n",
        "!! PUT YOUR CFG PRODUCTION RULE OR RULES HERE\n",
        "!! S -> aA | bB | cCd | dD\n",
        "!! PUT WHAT PDA TRANSITIONS IT GENERATED, BELOW\n",
        "W : '',S ; aA -> W\n",
        "W : '',S ; bB -> W\n",
        "W : '',S ; cCd -> W\n",
        "W : '',S ; dD -> W\n",
        "\n",
        "!! PUT YOUR CFG PRODUCTION RULE OR RULES HERE\n",
        "!! A -> aX | aA | bB | cCD | dD\n",
        "!! PUT WHAT PDA TRANSITIONS IT GENERATED, BELOW\n",
        "W : '',A ; aX -> W\n",
        "W : '',A ; aA -> W\n",
        "W : '',A ; bB -> W\n",
        "W : '',A ; cCd -> W\n",
        "W : '',A ; dD -> W\n",
        "\n",
        "!! PUT YOUR CFG PRODUCTION RULE OR RULES HERE\n",
        "!! B -> bB | cCd | dD\n",
        "!! PUT WHAT PDA TRANSITIONS IT GENERATED, BELOW\n",
        "W : '',B ; bB -> W\n",
        "W : '',B ; cCd -> W\n",
        "W : '',B ; dD -> W\n",
        "\n",
        "!! PUT YOUR CFG PRODUCTION RULE OR RULES HERE\n",
        "!! C -> cCd | dD\n",
        "!! PUT WHAT PDA TRANSITIONS IT GENERATED, BELOW\n",
        "W : '',C ; cCd -> W\n",
        "W : '',C ; dD -> W\n",
        "\n",
        "!! PUT YOUR CFG PRODUCTION RULE OR RULES HERE\n",
        "!! D -> dD | ''\n",
        "!! PUT WHAT PDA TRANSITIONS IT GENERATED, BELOW\n",
        "W : '',D ; dD -> W\n",
        "W : '',D ; '' -> W\n",
        "\n",
        "!! PUT YOUR CFG PRODUCTION RULE OR RULES HERE\n",
        "!! X -> aA | bXcD | ''\n",
        "!! PUT WHAT PDA TRANSITIONS IT GENERATED, BELOW\n",
        "W : '',X ; aA -> W\n",
        "W : '',X ; bXcD -> W\n",
        "W : '',X ; '' -> W\n",
        "\n",
        "\n",
        "''')\n"
      ],
      "execution_count": 16,
      "outputs": []
    },
    {
      "cell_type": "code",
      "metadata": {
        "id": "DNsVXJqm2uvQ",
        "outputId": "0272c4a5-4829-4b44-de39-27c6c9d5b089",
        "colab": {
          "base_uri": "https://localhost:8080/",
          "height": 570
        }
      },
      "source": [
        "dotObj_pda(Labcd, FuseEdges=True)"
      ],
      "execution_count": 4,
      "outputs": [
        {
          "output_type": "execute_result",
          "data": {
            "text/plain": [
              "<graphviz.dot.Digraph at 0x7fa0579163d0>"
            ],
            "image/svg+xml": "<?xml version=\"1.0\" encoding=\"UTF-8\" standalone=\"no\"?>\n<!DOCTYPE svg PUBLIC \"-//W3C//DTD SVG 1.1//EN\"\n \"http://www.w3.org/Graphics/SVG/1.1/DTD/svg11.dtd\">\n<!-- Generated by graphviz version 2.40.1 (20161225.0304)\n -->\n<!-- Title: %3 Pages: 1 -->\n<svg width=\"682pt\" height=\"412pt\"\n viewBox=\"0.00 0.00 682.00 412.50\" xmlns=\"http://www.w3.org/2000/svg\" xmlns:xlink=\"http://www.w3.org/1999/xlink\">\n<g id=\"graph0\" class=\"graph\" transform=\"scale(1 1) rotate(0) translate(4 408.4983)\">\n<title>%3</title>\n<polygon fill=\"#ffffff\" stroke=\"transparent\" points=\"-4,4 -4,-408.4983 678,-408.4983 678,4 -4,4\"/>\n<!-- EMPTY -->\n<g id=\"node1\" class=\"node\">\n<title>EMPTY</title>\n</g>\n<!-- I -->\n<g id=\"node2\" class=\"node\">\n<title>I</title>\n<ellipse fill=\"none\" stroke=\"#000000\" cx=\"109\" cy=\"-22\" rx=\"18\" ry=\"18\"/>\n<text text-anchor=\"middle\" x=\"109\" y=\"-18.3\" font-family=\"Times,serif\" font-size=\"14.00\" fill=\"#000000\">I</text>\n</g>\n<!-- EMPTY&#45;&gt;I -->\n<g id=\"edge1\" class=\"edge\">\n<title>EMPTY&#45;&gt;I</title>\n<path fill=\"none\" stroke=\"#000000\" d=\"M54.3048,-22C62.6909,-22 71.9407,-22 80.4103,-22\"/>\n<polygon fill=\"#000000\" stroke=\"#000000\" points=\"80.5976,-25.5001 90.5976,-22 80.5976,-18.5001 80.5976,-25.5001\"/>\n</g>\n<!-- W -->\n<g id=\"node3\" class=\"node\">\n<title>W</title>\n<ellipse fill=\"none\" stroke=\"#000000\" cx=\"382.5\" cy=\"-22\" rx=\"19.4965\" ry=\"19.4965\"/>\n<text text-anchor=\"middle\" x=\"382.5\" y=\"-18.3\" font-family=\"Times,serif\" font-size=\"14.00\" fill=\"#000000\">W</text>\n</g>\n<!-- I&#45;&gt;W -->\n<g id=\"edge2\" class=\"edge\">\n<title>I&#45;&gt;W</title>\n<path fill=\"none\" stroke=\"#000000\" d=\"M127.3698,-22C173.7272,-22 295.7984,-22 352.6167,-22\"/>\n<polygon fill=\"#000000\" stroke=\"#000000\" points=\"352.7515,-25.5001 362.7515,-22 352.7515,-18.5001 352.7515,-25.5001\"/>\n<text text-anchor=\"middle\" x=\"168.5\" y=\"-25.8\" font-family=\"Times,serif\" font-size=\"14.00\" fill=\"#000000\">&#39;&#39;, # ; S#</text>\n</g>\n<!-- W&#45;&gt;W -->\n<g id=\"edge4\" class=\"edge\">\n<title>W&#45;&gt;W</title>\n<path fill=\"none\" stroke=\"#000000\" d=\"M363.4662,-27.9105C331.0382,-41.036 337.3828,-59.4983 382.5,-59.4983 422.6825,-59.4983 432.1101,-44.8537 410.7827,-32.3777\"/>\n<polygon fill=\"#000000\" stroke=\"#000000\" points=\"412.0607,-29.1081 401.5338,-27.9105 409.0163,-35.4114 412.0607,-29.1081\"/>\n<text text-anchor=\"middle\" x=\"382.5\" y=\"-393.2983\" font-family=\"Times,serif\" font-size=\"14.00\" fill=\"#000000\">c, c ; &#39;&#39; </text>\n<text text-anchor=\"middle\" x=\"382.5\" y=\"-378.2983\" font-family=\"Times,serif\" font-size=\"14.00\" fill=\"#000000\"> &#39;&#39;, B ; dD </text>\n<text text-anchor=\"middle\" x=\"382.5\" y=\"-363.2983\" font-family=\"Times,serif\" font-size=\"14.00\" fill=\"#000000\"> &#39;&#39;, D ; dD </text>\n<text text-anchor=\"middle\" x=\"382.5\" y=\"-348.2983\" font-family=\"Times,serif\" font-size=\"14.00\" fill=\"#000000\"> d, d ; &#39;&#39; </text>\n<text text-anchor=\"middle\" x=\"382.5\" y=\"-333.2983\" font-family=\"Times,serif\" font-size=\"14.00\" fill=\"#000000\"> &#39;&#39;, B ; bB </text>\n<text text-anchor=\"middle\" x=\"382.5\" y=\"-318.2983\" font-family=\"Times,serif\" font-size=\"14.00\" fill=\"#000000\"> &#39;&#39;, X ; aA </text>\n<text text-anchor=\"middle\" x=\"382.5\" y=\"-303.2983\" font-family=\"Times,serif\" font-size=\"14.00\" fill=\"#000000\"> &#39;&#39;, C ; dD </text>\n<text text-anchor=\"middle\" x=\"382.5\" y=\"-288.2983\" font-family=\"Times,serif\" font-size=\"14.00\" fill=\"#000000\"> &#39;&#39;, S ; dD </text>\n<text text-anchor=\"middle\" x=\"382.5\" y=\"-273.2983\" font-family=\"Times,serif\" font-size=\"14.00\" fill=\"#000000\"> &#39;&#39;, A ; aX </text>\n<text text-anchor=\"middle\" x=\"382.5\" y=\"-258.2983\" font-family=\"Times,serif\" font-size=\"14.00\" fill=\"#000000\"> &#39;&#39;, S ; bB </text>\n<text text-anchor=\"middle\" x=\"382.5\" y=\"-243.2983\" font-family=\"Times,serif\" font-size=\"14.00\" fill=\"#000000\"> &#39;&#39;, S ; cCd </text>\n<text text-anchor=\"middle\" x=\"382.5\" y=\"-228.2983\" font-family=\"Times,serif\" font-size=\"14.00\" fill=\"#000000\"> &#39;&#39;, X ; bXcD </text>\n<text text-anchor=\"middle\" x=\"382.5\" y=\"-213.2983\" font-family=\"Times,serif\" font-size=\"14.00\" fill=\"#000000\"> &#39;&#39;, A ; dD </text>\n<text text-anchor=\"middle\" x=\"382.5\" y=\"-198.2983\" font-family=\"Times,serif\" font-size=\"14.00\" fill=\"#000000\"> &#39;&#39;, A ; aA </text>\n<text text-anchor=\"middle\" x=\"382.5\" y=\"-183.2983\" font-family=\"Times,serif\" font-size=\"14.00\" fill=\"#000000\"> &#39;&#39;, A ; bB </text>\n<text text-anchor=\"middle\" x=\"382.5\" y=\"-168.2983\" font-family=\"Times,serif\" font-size=\"14.00\" fill=\"#000000\"> &#39;&#39;, S ; aA </text>\n<text text-anchor=\"middle\" x=\"382.5\" y=\"-153.2983\" font-family=\"Times,serif\" font-size=\"14.00\" fill=\"#000000\"> &#39;&#39;, X ; &#39;&#39; </text>\n<text text-anchor=\"middle\" x=\"382.5\" y=\"-138.2983\" font-family=\"Times,serif\" font-size=\"14.00\" fill=\"#000000\"> b, b ; &#39;&#39; </text>\n<text text-anchor=\"middle\" x=\"382.5\" y=\"-123.2983\" font-family=\"Times,serif\" font-size=\"14.00\" fill=\"#000000\"> &#39;&#39;, D ; &#39;&#39; </text>\n<text text-anchor=\"middle\" x=\"382.5\" y=\"-108.2983\" font-family=\"Times,serif\" font-size=\"14.00\" fill=\"#000000\"> &#39;&#39;, C ; cCd </text>\n<text text-anchor=\"middle\" x=\"382.5\" y=\"-93.2983\" font-family=\"Times,serif\" font-size=\"14.00\" fill=\"#000000\"> &#39;&#39;, B ; cCd </text>\n<text text-anchor=\"middle\" x=\"382.5\" y=\"-78.2983\" font-family=\"Times,serif\" font-size=\"14.00\" fill=\"#000000\"> a, a ; &#39;&#39; </text>\n<text text-anchor=\"middle\" x=\"382.5\" y=\"-63.2983\" font-family=\"Times,serif\" font-size=\"14.00\" fill=\"#000000\"> &#39;&#39;, A ; cCd</text>\n</g>\n<!-- F -->\n<g id=\"node4\" class=\"node\">\n<title>F</title>\n<ellipse fill=\"none\" stroke=\"#000000\" cx=\"652\" cy=\"-22\" rx=\"18\" ry=\"18\"/>\n<ellipse fill=\"none\" stroke=\"#000000\" cx=\"652\" cy=\"-22\" rx=\"22\" ry=\"22\"/>\n<text text-anchor=\"middle\" x=\"652\" y=\"-18.3\" font-family=\"Times,serif\" font-size=\"14.00\" fill=\"#000000\">F</text>\n</g>\n<!-- W&#45;&gt;F -->\n<g id=\"edge3\" class=\"edge\">\n<title>W&#45;&gt;F</title>\n<path fill=\"none\" stroke=\"#000000\" d=\"M402.317,-22C448.453,-22 563.3914,-22 619.7755,-22\"/>\n<polygon fill=\"#000000\" stroke=\"#000000\" points=\"619.9135,-25.5001 629.9135,-22 619.9135,-18.5001 619.9135,-25.5001\"/>\n<text text-anchor=\"middle\" x=\"592.5\" y=\"-25.8\" font-family=\"Times,serif\" font-size=\"14.00\" fill=\"#000000\">&#39;&#39;, # ; #</text>\n</g>\n</g>\n</svg>\n"
          },
          "metadata": {},
          "execution_count": 4
        }
      ]
    },
    {
      "cell_type": "markdown",
      "metadata": {
        "id": "1J5xTZwN2uvR"
      },
      "source": [
        "# Question 1, Part (b) : "
      ]
    },
    {
      "cell_type": "code",
      "metadata": {
        "id": "3jRvIpkX2uvS",
        "outputId": "7aad7982-e99a-477a-d324-81837219277c",
        "colab": {
          "base_uri": "https://localhost:8080/"
        }
      },
      "source": [
        "explore_pda('d', Labcd)"
      ],
      "execution_count": 5,
      "outputs": [
        {
          "output_type": "stream",
          "name": "stdout",
          "text": [
            "String d accepted by your PDA in 1 ways :-) \n",
            "Here are the ways: \n",
            "Final state  ('F', '', '#')\n",
            "Reached as follows:\n",
            "->  ('I', 'd', '#')\n",
            "->  ('W', 'd', 'S#')\n",
            "->  ('W', 'd', 'dD#')\n",
            "->  ('W', '', 'D#')\n",
            "->  ('W', '', '#')\n",
            "->  ('F', '', '#') .\n"
          ]
        }
      ]
    },
    {
      "cell_type": "code",
      "metadata": {
        "id": "VMzR4vTE2uvT",
        "outputId": "156c8ed2-54c4-4f56-df3c-7171f8c66bfb",
        "colab": {
          "base_uri": "https://localhost:8080/"
        }
      },
      "source": [
        "explore_pda('dd', Labcd)"
      ],
      "execution_count": 6,
      "outputs": [
        {
          "output_type": "stream",
          "name": "stdout",
          "text": [
            "String dd accepted by your PDA in 1 ways :-) \n",
            "Here are the ways: \n",
            "Final state  ('F', '', '#')\n",
            "Reached as follows:\n",
            "->  ('I', 'dd', '#')\n",
            "->  ('W', 'dd', 'S#')\n",
            "->  ('W', 'dd', 'dD#')\n",
            "->  ('W', 'd', 'D#')\n",
            "->  ('W', 'd', 'dD#')\n",
            "->  ('W', '', 'D#')\n",
            "->  ('W', '', '#')\n",
            "->  ('F', '', '#') .\n"
          ]
        }
      ]
    },
    {
      "cell_type": "code",
      "metadata": {
        "id": "85I3mXrD2uvV",
        "outputId": "5790ae3a-c63b-478d-c74e-a969922d4092",
        "colab": {
          "base_uri": "https://localhost:8080/"
        }
      },
      "source": [
        "explore_pda('cdd', Labcd)"
      ],
      "execution_count": 7,
      "outputs": [
        {
          "output_type": "stream",
          "name": "stdout",
          "text": [
            "String cdd accepted by your PDA in 1 ways :-) \n",
            "Here are the ways: \n",
            "Final state  ('F', '', '#')\n",
            "Reached as follows:\n",
            "->  ('I', 'cdd', '#')\n",
            "->  ('W', 'cdd', 'S#')\n",
            "->  ('W', 'cdd', 'cCd#')\n",
            "->  ('W', 'dd', 'Cd#')\n",
            "->  ('W', 'dd', 'dDd#')\n",
            "->  ('W', 'd', 'Dd#')\n",
            "->  ('W', 'd', 'd#')\n",
            "->  ('W', '', '#')\n",
            "->  ('F', '', '#') .\n"
          ]
        }
      ]
    },
    {
      "cell_type": "code",
      "metadata": {
        "id": "-7yfSCY52uvV",
        "outputId": "d1930006-a54b-4346-a12f-d13ab074b2bd",
        "colab": {
          "base_uri": "https://localhost:8080/"
        }
      },
      "source": [
        "explore_pda('ccdd', Labcd)"
      ],
      "execution_count": 8,
      "outputs": [
        {
          "output_type": "stream",
          "name": "stdout",
          "text": [
            "String ccdd rejected by your PDA :-(\n",
            "Visited states are:\n",
            "{('W', 'd', 'Ddd#'), ('W', 'ccdd', 'cCd#'), ('W', 'cdd', 'dDd#'), ('W', 'ccdd', 'dD#'), ('W', 'd', 'dDdd#'), ('W', 'ccdd', 'aA#'), ('W', '', 'dDdd#'), ('W', 'cdd', 'Cd#'), ('W', 'cdd', 'cCdd#'), ('I', 'ccdd', '#'), ('W', 'dd', 'cCddd#'), ('W', '', 'd#'), ('W', '', 'dd#'), ('W', '', 'Ddd#'), ('W', 'dd', 'Cdd#'), ('W', 'ccdd', 'S#'), ('W', 'd', 'dd#'), ('W', 'ccdd', 'bB#'), ('W', 'dd', 'dDdd#')}\n"
          ]
        }
      ]
    },
    {
      "cell_type": "code",
      "metadata": {
        "id": "ugUz5W7R2uvW",
        "outputId": "f58b995a-1515-4113-ef01-803c4763e6bd",
        "colab": {
          "base_uri": "https://localhost:8080/"
        }
      },
      "source": [
        "explore_pda('ccd', Labcd)"
      ],
      "execution_count": 9,
      "outputs": [
        {
          "output_type": "stream",
          "name": "stdout",
          "text": [
            "String ccd rejected by your PDA :-(\n",
            "Visited states are:\n",
            "{('W', 'ccd', 'bB#'), ('W', 'ccd', 'S#'), ('W', 'cd', 'cCdd#'), ('W', 'cd', 'Cd#'), ('W', 'd', 'cCddd#'), ('W', '', 'dd#'), ('W', 'd', 'dDdd#'), ('W', '', 'Ddd#'), ('W', 'd', 'Cdd#'), ('W', 'ccd', 'aA#'), ('W', 'ccd', 'cCd#'), ('W', '', 'dDdd#'), ('W', 'cd', 'dDd#'), ('W', 'ccd', 'dD#'), ('I', 'ccd', '#')}\n"
          ]
        }
      ]
    },
    {
      "cell_type": "code",
      "metadata": {
        "id": "i0cZAJyV2uvX",
        "outputId": "47147530-6d68-4e85-de13-b9d47de6f286",
        "colab": {
          "base_uri": "https://localhost:8080/"
        }
      },
      "source": [
        "explore_pda('acd', Labcd)"
      ],
      "execution_count": 10,
      "outputs": [
        {
          "output_type": "stream",
          "name": "stdout",
          "text": [
            "String acd rejected by your PDA :-(\n",
            "Visited states are:\n",
            "{('W', 'cd', 'aX#'), ('W', 'cd', 'aA#'), ('W', 'acd', 'S#'), ('W', 'd', 'dDd#'), ('W', '', 'Dd#'), ('W', 'd', 'Cd#'), ('W', 'cd', 'A#'), ('W', 'cd', 'dD#'), ('W', 'acd', 'aA#'), ('W', 'cd', 'bB#'), ('W', '', 'd#'), ('W', 'cd', 'cCd#'), ('I', 'acd', '#'), ('W', 'acd', 'bB#'), ('W', 'acd', 'cCd#'), ('W', '', 'dDd#'), ('W', 'acd', 'dD#'), ('W', 'd', 'cCdd#')}\n"
          ]
        }
      ]
    },
    {
      "cell_type": "code",
      "metadata": {
        "id": "K9V-BINh2uvX",
        "outputId": "b43b4de2-c66c-457a-8ade-07f8f96010b9",
        "colab": {
          "base_uri": "https://localhost:8080/"
        }
      },
      "source": [
        "explore_pda('aacd', Labcd)"
      ],
      "execution_count": 11,
      "outputs": [
        {
          "output_type": "stream",
          "name": "stdout",
          "text": [
            "String aacd rejected by your PDA :-(\n",
            "Visited states are:\n",
            "{('W', 'cd', 'aX#'), ('W', 'cd', 'aA#'), ('W', 'd', 'dDd#'), ('W', 'cd', 'X#'), ('W', 'aacd', 'S#'), ('I', 'aacd', '#'), ('W', '', 'Dd#'), ('W', 'd', 'Cd#'), ('W', 'cd', 'A#'), ('W', 'cd', 'dD#'), ('W', 'acd', 'aA#'), ('F', 'cd', '#'), ('W', 'cd', 'bB#'), ('W', '', 'd#'), ('W', 'cd', 'cCd#'), ('W', 'cd', 'bXcD#'), ('W', 'acd', 'aX#'), ('W', 'acd', 'bB#'), ('W', 'aacd', 'bB#'), ('W', 'acd', 'cCd#'), ('W', 'aacd', 'dD#'), ('W', 'acd', 'A#'), ('W', '', 'dDd#'), ('W', 'acd', 'dD#'), ('W', 'aacd', 'cCd#'), ('W', 'aacd', 'aA#'), ('W', 'd', 'cCdd#'), ('W', 'cd', '#')}\n"
          ]
        }
      ]
    },
    {
      "cell_type": "code",
      "metadata": {
        "id": "adkkGlRx2uvX",
        "outputId": "adde9d87-5954-4a89-8972-49b5dd4a9acc",
        "colab": {
          "base_uri": "https://localhost:8080/"
        }
      },
      "source": [
        "explore_pda('aaad', Labcd)"
      ],
      "execution_count": 12,
      "outputs": [
        {
          "output_type": "stream",
          "name": "stdout",
          "text": [
            "String aaad accepted by your PDA in 2 ways :-) \n",
            "Here are the ways: \n",
            "Final state  ('F', '', '#')\n",
            "Reached as follows:\n",
            "->  ('I', 'aaad', '#')\n",
            "->  ('W', 'aaad', 'S#')\n",
            "->  ('W', 'aaad', 'aA#')\n",
            "->  ('W', 'aad', 'A#')\n",
            "->  ('W', 'aad', 'aA#')\n",
            "->  ('W', 'ad', 'A#')\n",
            "->  ('W', 'ad', 'aA#')\n",
            "->  ('W', 'd', 'A#')\n",
            "->  ('W', 'd', 'dD#')\n",
            "->  ('W', '', 'D#')\n",
            "->  ('W', '', '#')\n",
            "->  ('F', '', '#') .\n",
            "Final state  ('F', '', '#')\n",
            "Reached as follows:\n",
            "->  ('I', 'aaad', '#')\n",
            "->  ('W', 'aaad', 'S#')\n",
            "->  ('W', 'aaad', 'aA#')\n",
            "->  ('W', 'aad', 'A#')\n",
            "->  ('W', 'aad', 'aX#')\n",
            "->  ('W', 'ad', 'X#')\n",
            "->  ('W', 'ad', 'aA#')\n",
            "->  ('W', 'd', 'A#')\n",
            "->  ('W', 'd', 'dD#')\n",
            "->  ('W', '', 'D#')\n",
            "->  ('W', '', '#')\n",
            "->  ('F', '', '#') .\n"
          ]
        }
      ]
    },
    {
      "cell_type": "code",
      "metadata": {
        "id": "brom0Dr62uvY",
        "outputId": "0b1a5232-edc4-4f07-a970-efcd4ac991a1",
        "colab": {
          "base_uri": "https://localhost:8080/"
        }
      },
      "source": [
        "explore_pda('aaaccdd', Labcd)"
      ],
      "execution_count": 13,
      "outputs": [
        {
          "output_type": "stream",
          "name": "stdout",
          "text": [
            "String aaaccdd rejected by your PDA :-(\n",
            "Visited states are:\n",
            "{('W', 'd', 'Ddd#'), ('W', 'ccdd', 'cCd#'), ('W', 'aaaccdd', 'bB#'), ('W', 'cdd', 'dDd#'), ('F', 'ccdd', '#'), ('W', 'ccdd', 'dD#'), ('I', 'aaaccdd', '#'), ('W', 'accdd', 'X#'), ('W', 'accdd', 'aA#'), ('W', 'accdd', 'aX#'), ('W', '', 'dDdd#'), ('W', 'cdd', 'cCdd#'), ('W', 'ccdd', '#'), ('W', '', 'dd#'), ('W', 'aaccdd', 'A#'), ('W', 'aaccdd', 'dD#'), ('W', 'aaaccdd', 'aA#'), ('W', 'dd', 'Cdd#'), ('W', 'aaccdd', 'cCd#'), ('W', 'd', 'dd#'), ('W', 'ccdd', 'bB#'), ('W', 'aaaccdd', 'dD#'), ('W', 'accdd', 'A#'), ('W', 'accdd', 'bXcD#'), ('W', 'aaaccdd', 'cCd#'), ('W', 'accdd', 'cCd#'), ('W', 'aaaccdd', 'S#'), ('F', 'accdd', '#'), ('W', 'accdd', 'dD#'), ('W', 'd', 'dDdd#'), ('W', 'ccdd', 'X#'), ('W', 'ccdd', 'aA#'), ('W', 'ccdd', 'aX#'), ('W', 'cdd', 'Cd#'), ('W', 'aaccdd', 'aA#'), ('W', 'dd', 'cCddd#'), ('W', '', 'd#'), ('W', 'accdd', '#'), ('W', '', 'Ddd#'), ('W', 'aaccdd', 'aX#'), ('W', 'aaccdd', 'bB#'), ('W', 'accdd', 'bB#'), ('W', 'dd', 'dDdd#'), ('W', 'ccdd', 'A#'), ('W', 'ccdd', 'bXcD#')}\n"
          ]
        }
      ]
    },
    {
      "cell_type": "code",
      "metadata": {
        "id": "HF_CIs_-2uvY",
        "outputId": "f110a254-2b69-43b8-b5c0-009c80ff2c9e",
        "colab": {
          "base_uri": "https://localhost:8080/"
        }
      },
      "source": [
        "explore_pda('aaaccddd', Labcd)"
      ],
      "execution_count": 14,
      "outputs": [
        {
          "output_type": "stream",
          "name": "stdout",
          "text": [
            "String aaaccddd accepted by your PDA in 2 ways :-) \n",
            "Here are the ways: \n",
            "Final state  ('F', '', '#')\n",
            "Reached as follows:\n",
            "->  ('I', 'aaaccddd', '#')\n",
            "->  ('W', 'aaaccddd', 'S#')\n",
            "->  ('W', 'aaaccddd', 'aA#')\n",
            "->  ('W', 'aaccddd', 'A#')\n",
            "->  ('W', 'aaccddd', 'aA#')\n",
            "->  ('W', 'accddd', 'A#')\n",
            "->  ('W', 'accddd', 'aA#')\n",
            "->  ('W', 'ccddd', 'A#')\n",
            "->  ('W', 'ccddd', 'cCd#')\n",
            "->  ('W', 'cddd', 'Cd#')\n",
            "->  ('W', 'cddd', 'cCdd#')\n",
            "->  ('W', 'ddd', 'Cdd#')\n",
            "->  ('W', 'ddd', 'dDdd#')\n",
            "->  ('W', 'dd', 'Ddd#')\n",
            "->  ('W', 'dd', 'dd#')\n",
            "->  ('W', 'd', 'd#')\n",
            "->  ('W', '', '#')\n",
            "->  ('F', '', '#') .\n",
            "Final state  ('F', '', '#')\n",
            "Reached as follows:\n",
            "->  ('I', 'aaaccddd', '#')\n",
            "->  ('W', 'aaaccddd', 'S#')\n",
            "->  ('W', 'aaaccddd', 'aA#')\n",
            "->  ('W', 'aaccddd', 'A#')\n",
            "->  ('W', 'aaccddd', 'aX#')\n",
            "->  ('W', 'accddd', 'X#')\n",
            "->  ('W', 'accddd', 'aA#')\n",
            "->  ('W', 'ccddd', 'A#')\n",
            "->  ('W', 'ccddd', 'cCd#')\n",
            "->  ('W', 'cddd', 'Cd#')\n",
            "->  ('W', 'cddd', 'cCdd#')\n",
            "->  ('W', 'ddd', 'Cdd#')\n",
            "->  ('W', 'ddd', 'dDdd#')\n",
            "->  ('W', 'dd', 'Ddd#')\n",
            "->  ('W', 'dd', 'dd#')\n",
            "->  ('W', 'd', 'd#')\n",
            "->  ('W', '', '#')\n",
            "->  ('F', '', '#') .\n"
          ]
        }
      ]
    },
    {
      "cell_type": "code",
      "metadata": {
        "id": "T6GJ3Orf2uvY"
      },
      "source": [
        ""
      ],
      "execution_count": null,
      "outputs": []
    },
    {
      "cell_type": "markdown",
      "metadata": {
        "id": "htretYo02uvZ"
      },
      "source": [
        "# Questions 2 and 3: Now do the PL proofs of MT2\n",
        "## Check Canvas for the actual question wording. \n",
        "## You have to answer this on Canvas."
      ]
    }
  ]
}