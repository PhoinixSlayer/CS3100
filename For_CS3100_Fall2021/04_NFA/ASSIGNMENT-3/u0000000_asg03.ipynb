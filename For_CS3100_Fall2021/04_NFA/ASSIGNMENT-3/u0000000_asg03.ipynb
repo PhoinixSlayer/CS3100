{
  "nbformat": 4,
  "nbformat_minor": 0,
  "metadata": {
    "colab": {
      "name": "u0000000_asg03.ipynb",
      "provenance": []
    },
    "kernelspec": {
      "display_name": "Python 3",
      "language": "python",
      "name": "python3"
    },
    "language_info": {
      "codemirror_mode": {
        "name": "ipython",
        "version": 3
      },
      "file_extension": ".py",
      "mimetype": "text/x-python",
      "name": "python",
      "nbconvert_exporter": "python",
      "pygments_lexer": "ipython3",
      "version": "3.8.5"
    },
    "toc": {
      "colors": {
        "hover_highlight": "#DAA520",
        "running_highlight": "#FF0000",
        "selected_highlight": "#FFD700"
      },
      "moveMenuLeft": true,
      "nav_menu": {
        "height": "121px",
        "width": "252px"
      },
      "navigate_menu": true,
      "number_sections": true,
      "sideBar": true,
      "threshold": 4,
      "toc_cell": false,
      "toc_section_display": "block",
      "toc_window_display": false,
      "widenNotebook": false
    },
    "widgets": {
      "application/vnd.jupyter.widget-state+json": {
        "3a13ee042190478dbe38e7750b80ddb8": {
          "model_module": "@jupyter-widgets/controls",
          "model_name": "VBoxModel",
          "model_module_version": "1.5.0",
          "state": {
            "_view_name": "VBoxView",
            "_dom_classes": [],
            "_model_name": "VBoxModel",
            "_view_module": "@jupyter-widgets/controls",
            "_model_module_version": "1.5.0",
            "_view_count": null,
            "_view_module_version": "1.5.0",
            "box_style": "",
            "layout": "IPY_MODEL_78f569b7d7414e6888fb353ad80f9179",
            "_model_module": "@jupyter-widgets/controls",
            "children": [
              "IPY_MODEL_cd730e6bba254caba9c4613ec71380ba",
              "IPY_MODEL_8e3e6f1204e2483d86986c247fd031c0",
              "IPY_MODEL_f61f5e3b64f94ea8b29427be462392dc",
              "IPY_MODEL_dd4e0e277a1044229dc79be11f24a5ea"
            ]
          }
        },
        "78f569b7d7414e6888fb353ad80f9179": {
          "model_module": "@jupyter-widgets/base",
          "model_name": "LayoutModel",
          "model_module_version": "1.2.0",
          "state": {
            "_view_name": "LayoutView",
            "grid_template_rows": null,
            "right": null,
            "justify_content": null,
            "_view_module": "@jupyter-widgets/base",
            "overflow": null,
            "_model_module_version": "1.2.0",
            "_view_count": null,
            "flex_flow": null,
            "width": null,
            "min_width": null,
            "border": null,
            "align_items": null,
            "bottom": null,
            "_model_module": "@jupyter-widgets/base",
            "top": null,
            "grid_column": null,
            "overflow_y": null,
            "overflow_x": null,
            "grid_auto_flow": null,
            "grid_area": null,
            "grid_template_columns": null,
            "flex": null,
            "_model_name": "LayoutModel",
            "justify_items": null,
            "grid_row": null,
            "max_height": null,
            "align_content": null,
            "visibility": null,
            "align_self": null,
            "height": null,
            "min_height": null,
            "padding": null,
            "grid_auto_rows": null,
            "grid_gap": null,
            "max_width": null,
            "order": null,
            "_view_module_version": "1.2.0",
            "grid_template_areas": null,
            "object_position": null,
            "object_fit": null,
            "grid_auto_columns": null,
            "margin": null,
            "display": null,
            "left": null
          }
        },
        "cd730e6bba254caba9c4613ec71380ba": {
          "model_module": "@jupyter-widgets/controls",
          "model_name": "HBoxModel",
          "model_module_version": "1.5.0",
          "state": {
            "_view_name": "HBoxView",
            "_dom_classes": [],
            "_model_name": "HBoxModel",
            "_view_module": "@jupyter-widgets/controls",
            "_model_module_version": "1.5.0",
            "_view_count": null,
            "_view_module_version": "1.5.0",
            "box_style": "",
            "layout": "IPY_MODEL_0d73d230d0a74a31a98b4244e2612c69",
            "_model_module": "@jupyter-widgets/controls",
            "children": [
              "IPY_MODEL_f99abaa7d9fe419dac64e8b7627ea560",
              "IPY_MODEL_75ae9b728c324c5e93c297dfcd09e8dd"
            ]
          }
        },
        "8e3e6f1204e2483d86986c247fd031c0": {
          "model_module": "@jupyter-widgets/output",
          "model_name": "OutputModel",
          "model_module_version": "1.0.0",
          "state": {
            "_view_name": "OutputView",
            "msg_id": "",
            "_dom_classes": [],
            "_model_name": "OutputModel",
            "outputs": [
              {
                "output_type": "display_data",
                "data": {
                  "text/plain": "<graphviz.files.Source at 0x7f924fc64710>",
                  "image/svg+xml": "<?xml version=\"1.0\" encoding=\"UTF-8\" standalone=\"no\"?>\n<!DOCTYPE svg PUBLIC \"-//W3C//DTD SVG 1.1//EN\"\n \"http://www.w3.org/Graphics/SVG/1.1/DTD/svg11.dtd\">\n<!-- Generated by graphviz version 2.40.1 (20161225.0304)\n -->\n<!-- Title: %3 Pages: 1 -->\n<svg width=\"333pt\" height=\"122pt\"\n viewBox=\"0.00 0.00 332.59 122.00\" xmlns=\"http://www.w3.org/2000/svg\" xmlns:xlink=\"http://www.w3.org/1999/xlink\">\n<g id=\"graph0\" class=\"graph\" transform=\"scale(1 1) rotate(0) translate(4 117.9977)\">\n<title>%3</title>\n<polygon fill=\"#ffffff\" stroke=\"transparent\" points=\"-4,4 -4,-117.9977 328.5917,-117.9977 328.5917,4 -4,4\"/>\n<!-- EMPTY -->\n<g id=\"node1\" class=\"node\">\n<title>EMPTY</title>\n</g>\n<!-- I -->\n<g id=\"node3\" class=\"node\">\n<title>I</title>\n<ellipse fill=\"#66cd00\" stroke=\"#000000\" cx=\"109\" cy=\"-29.9977\" rx=\"18\" ry=\"18\"/>\n<text text-anchor=\"middle\" x=\"109\" y=\"-26.2977\" font-family=\"Times,serif\" font-size=\"14.00\" fill=\"#ffffff\">I</text>\n</g>\n<!-- EMPTY&#45;&gt;I -->\n<g id=\"edge1\" class=\"edge\">\n<title>EMPTY&#45;&gt;I</title>\n<path fill=\"none\" stroke=\"#000000\" d=\"M54.3048,-29.9977C62.6909,-29.9977 71.9407,-29.9977 80.4103,-29.9977\"/>\n<polygon fill=\"#000000\" stroke=\"#000000\" points=\"80.5976,-33.4978 90.5976,-29.9977 80.5976,-26.4978 80.5976,-33.4978\"/>\n</g>\n<!-- S1 -->\n<g id=\"node2\" class=\"node\">\n<title>S1</title>\n<ellipse fill=\"none\" stroke=\"#000000\" cx=\"195.7982\" cy=\"-29.9977\" rx=\"20.5982\" ry=\"20.5982\"/>\n<text text-anchor=\"middle\" x=\"195.7982\" y=\"-26.2977\" font-family=\"Times,serif\" font-size=\"14.00\" fill=\"#000000\">S1</text>\n</g>\n<!-- F10 -->\n<g id=\"node4\" class=\"node\">\n<title>F10</title>\n<ellipse fill=\"#66cd00\" stroke=\"#000000\" cx=\"294.594\" cy=\"-29.9977\" rx=\"25.9957\" ry=\"25.9957\"/>\n<ellipse fill=\"none\" stroke=\"#000000\" cx=\"294.594\" cy=\"-29.9977\" rx=\"29.9954\" ry=\"29.9954\"/>\n<text text-anchor=\"middle\" x=\"294.594\" y=\"-26.2977\" font-family=\"Times,serif\" font-size=\"14.00\" fill=\"#ffffff\">F10</text>\n</g>\n<!-- S1&#45;&gt;F10 -->\n<g id=\"edge5\" class=\"edge\">\n<title>S1&#45;&gt;F10</title>\n<path fill=\"none\" stroke=\"#000000\" d=\"M216.7502,-29.9977C227.6555,-29.9977 241.3667,-29.9977 254.2314,-29.9977\"/>\n<polygon fill=\"#000000\" stroke=\"#000000\" points=\"254.2974,-33.4978 264.2974,-29.9977 254.2974,-26.4978 254.2974,-33.4978\"/>\n<text text-anchor=\"start\" x=\"234.5963\" y=\"-33.7977\" font-family=\"Times,serif\" font-size=\"14.00\" fill=\"#000000\"> 0</text>\n</g>\n<!-- I&#45;&gt;S1 -->\n<g id=\"edge2\" class=\"edge\">\n<title>I&#45;&gt;S1</title>\n<path fill=\"none\" stroke=\"#000000\" d=\"M127.4077,-29.9977C138.2934,-29.9977 152.3613,-29.9977 164.9052,-29.9977\"/>\n<polygon fill=\"#000000\" stroke=\"#000000\" points=\"164.9803,-33.4978 174.9802,-29.9977 164.9802,-26.4978 164.9803,-33.4978\"/>\n<text text-anchor=\"start\" x=\"145\" y=\"-33.7977\" font-family=\"Times,serif\" font-size=\"14.00\" fill=\"#000000\"> 1</text>\n</g>\n<!-- I&#45;&gt;I -->\n<g id=\"edge3\" class=\"edge\">\n<title>I&#45;&gt;I</title>\n<path fill=\"none\" stroke=\"#000000\" d=\"M105.7643,-47.7794C105.2144,-57.3126 106.293,-65.9977 109,-65.9977 110.6496,-65.9977 111.6945,-62.7726 112.1347,-58.0958\"/>\n<polygon fill=\"#000000\" stroke=\"#000000\" points=\"115.6375,-57.8133 112.2357,-47.7794 108.6379,-57.7446 115.6375,-57.8133\"/>\n<text text-anchor=\"start\" x=\"103\" y=\"-69.7977\" font-family=\"Times,serif\" font-size=\"14.00\" fill=\"#000000\"> 1</text>\n</g>\n<!-- I&#45;&gt;I -->\n<g id=\"edge4\" class=\"edge\">\n<title>I&#45;&gt;I</title>\n<path fill=\"none\" stroke=\"#000000\" d=\"M103.6841,-47.418C100.6538,-64.7886 102.4258,-83.9977 109,-83.9977 114.2902,-83.9977 116.4708,-71.5594 115.5419,-57.6497\"/>\n<polygon fill=\"#000000\" stroke=\"#000000\" points=\"118.9808,-56.9305 114.3159,-47.418 112.0305,-57.7634 118.9808,-56.9305\"/>\n<text text-anchor=\"start\" x=\"103\" y=\"-87.7977\" font-family=\"Times,serif\" font-size=\"14.00\" fill=\"#000000\"> 0</text>\n</g>\n</g>\n</svg>\n"
                },
                "metadata": {}
              }
            ],
            "_view_module": "@jupyter-widgets/output",
            "_model_module_version": "1.0.0",
            "_view_count": null,
            "_view_module_version": "1.0.0",
            "layout": "IPY_MODEL_34e07132cc2d4a34ab8f8e762fa6bd50",
            "_model_module": "@jupyter-widgets/output"
          }
        },
        "f61f5e3b64f94ea8b29427be462392dc": {
          "model_module": "@jupyter-widgets/output",
          "model_name": "OutputModel",
          "model_module_version": "1.0.0",
          "state": {
            "_view_name": "OutputView",
            "msg_id": "",
            "_dom_classes": [],
            "_model_name": "OutputModel",
            "outputs": [
              {
                "output_type": "display_data",
                "data": {
                  "text/plain": "<graphviz.files.Source at 0x7f924fc64a50>",
                  "image/svg+xml": "<?xml version=\"1.0\" encoding=\"UTF-8\" standalone=\"no\"?>\n<!DOCTYPE svg PUBLIC \"-//W3C//DTD SVG 1.1//EN\"\n \"http://www.w3.org/Graphics/SVG/1.1/DTD/svg11.dtd\">\n<!-- Generated by graphviz version 2.40.1 (20161225.0304)\n -->\n<!-- Title: %3 Pages: 1 -->\n<svg width=\"116pt\" height=\"47pt\"\n viewBox=\"0.00 0.00 116.00 47.00\" xmlns=\"http://www.w3.org/2000/svg\" xmlns:xlink=\"http://www.w3.org/1999/xlink\">\n<g id=\"graph0\" class=\"graph\" transform=\"scale(1 1) rotate(0) translate(4 43)\">\n<title>%3</title>\n<polygon fill=\"#ffffff\" stroke=\"transparent\" points=\"-4,4 -4,-43 112,-43 112,4 -4,4\"/>\n<!-- feed -->\n<g id=\"node1\" class=\"node\">\n<title>feed</title>\n<polygon fill=\"none\" stroke=\"#000000\" points=\"8,-3.5 8,-34.5 57,-34.5 57,-3.5 8,-3.5\"/>\n<text text-anchor=\"start\" x=\"17\" y=\"-15.9\" font-family=\"Times,serif\" font-size=\"12.00\" fill=\"#000000\">10010</text>\n<polygon fill=\"none\" stroke=\"#000000\" points=\"57,-3.5 57,-34.5 82,-34.5 82,-3.5 57,-3.5\"/>\n<text text-anchor=\"start\" x=\"66\" y=\"-15.9\" font-family=\"Times,serif\" font-size=\"12.00\" fill=\"#000000\"> &#160;</text>\n<polygon fill=\"none\" stroke=\"#000000\" points=\"82,-3.5 82,-34.5 100,-34.5 100,-3.5 82,-3.5\"/>\n</g>\n</g>\n</svg>\n"
                },
                "metadata": {}
              }
            ],
            "_view_module": "@jupyter-widgets/output",
            "_model_module_version": "1.0.0",
            "_view_count": null,
            "_view_module_version": "1.0.0",
            "layout": "IPY_MODEL_d560a304acbb45a0bd6cddc7f812c64d",
            "_model_module": "@jupyter-widgets/output"
          }
        },
        "dd4e0e277a1044229dc79be11f24a5ea": {
          "model_module": "@jupyter-widgets/controls",
          "model_name": "HBoxModel",
          "model_module_version": "1.5.0",
          "state": {
            "_view_name": "HBoxView",
            "_dom_classes": [],
            "_model_name": "HBoxModel",
            "_view_module": "@jupyter-widgets/controls",
            "_model_module_version": "1.5.0",
            "_view_count": null,
            "_view_module_version": "1.5.0",
            "box_style": "",
            "layout": "IPY_MODEL_f1f5c5c34c1a4fbdb6e2d60f5bb65cf9",
            "_model_module": "@jupyter-widgets/controls",
            "children": [
              "IPY_MODEL_11813cfc8a0a4ada827d0c41fae534a2",
              "IPY_MODEL_d35241befb7844ecb7c5c05a4441cf25",
              "IPY_MODEL_a89f0150e60447b9b1106faa849a94f8",
              "IPY_MODEL_2906e55533044c7d92ad21600d1034df"
            ]
          }
        },
        "0d73d230d0a74a31a98b4244e2612c69": {
          "model_module": "@jupyter-widgets/base",
          "model_name": "LayoutModel",
          "model_module_version": "1.2.0",
          "state": {
            "_view_name": "LayoutView",
            "grid_template_rows": null,
            "right": null,
            "justify_content": null,
            "_view_module": "@jupyter-widgets/base",
            "overflow": null,
            "_model_module_version": "1.2.0",
            "_view_count": null,
            "flex_flow": null,
            "width": null,
            "min_width": null,
            "border": null,
            "align_items": null,
            "bottom": null,
            "_model_module": "@jupyter-widgets/base",
            "top": null,
            "grid_column": null,
            "overflow_y": null,
            "overflow_x": null,
            "grid_auto_flow": null,
            "grid_area": null,
            "grid_template_columns": null,
            "flex": null,
            "_model_name": "LayoutModel",
            "justify_items": null,
            "grid_row": null,
            "max_height": null,
            "align_content": null,
            "visibility": null,
            "align_self": null,
            "height": null,
            "min_height": null,
            "padding": null,
            "grid_auto_rows": null,
            "grid_gap": null,
            "max_width": null,
            "order": null,
            "_view_module_version": "1.2.0",
            "grid_template_areas": null,
            "object_position": null,
            "object_fit": null,
            "grid_auto_columns": null,
            "margin": null,
            "display": null,
            "left": null
          }
        },
        "f99abaa7d9fe419dac64e8b7627ea560": {
          "model_module": "@jupyter-widgets/controls",
          "model_name": "TextModel",
          "model_module_version": "1.5.0",
          "state": {
            "_view_name": "TextView",
            "style": "IPY_MODEL_ce9d727ce50848168d490be6fe05637f",
            "_dom_classes": [],
            "description": "Input:",
            "_model_name": "TextModel",
            "placeholder": "Sigma: {0,1}",
            "_view_module": "@jupyter-widgets/controls",
            "_model_module_version": "1.5.0",
            "value": "10010",
            "_view_count": null,
            "disabled": true,
            "_view_module_version": "1.5.0",
            "continuous_update": true,
            "description_tooltip": null,
            "_model_module": "@jupyter-widgets/controls",
            "layout": "IPY_MODEL_b89230106ae24eb291f25cb5e3678744"
          }
        },
        "75ae9b728c324c5e93c297dfcd09e8dd": {
          "model_module": "@jupyter-widgets/controls",
          "model_name": "ButtonModel",
          "model_module_version": "1.5.0",
          "state": {
            "_view_name": "ButtonView",
            "style": "IPY_MODEL_2a60e828d880475484bc2da825c622ff",
            "_dom_classes": [],
            "description": "Change Input",
            "_model_name": "ButtonModel",
            "button_style": "primary",
            "_view_module": "@jupyter-widgets/controls",
            "_model_module_version": "1.5.0",
            "tooltip": "",
            "_view_count": null,
            "disabled": false,
            "_view_module_version": "1.5.0",
            "layout": "IPY_MODEL_d867a5738d0b47ae9a231504f6e53a28",
            "_model_module": "@jupyter-widgets/controls",
            "icon": ""
          }
        },
        "f1f5c5c34c1a4fbdb6e2d60f5bb65cf9": {
          "model_module": "@jupyter-widgets/base",
          "model_name": "LayoutModel",
          "model_module_version": "1.2.0",
          "state": {
            "_view_name": "LayoutView",
            "grid_template_rows": null,
            "right": null,
            "justify_content": null,
            "_view_module": "@jupyter-widgets/base",
            "overflow": null,
            "_model_module_version": "1.2.0",
            "_view_count": null,
            "flex_flow": null,
            "width": null,
            "min_width": null,
            "border": null,
            "align_items": null,
            "bottom": null,
            "_model_module": "@jupyter-widgets/base",
            "top": null,
            "grid_column": null,
            "overflow_y": null,
            "overflow_x": null,
            "grid_auto_flow": null,
            "grid_area": null,
            "grid_template_columns": null,
            "flex": null,
            "_model_name": "LayoutModel",
            "justify_items": null,
            "grid_row": null,
            "max_height": null,
            "align_content": null,
            "visibility": null,
            "align_self": null,
            "height": null,
            "min_height": null,
            "padding": null,
            "grid_auto_rows": null,
            "grid_gap": null,
            "max_width": null,
            "order": null,
            "_view_module_version": "1.2.0",
            "grid_template_areas": null,
            "object_position": null,
            "object_fit": null,
            "grid_auto_columns": null,
            "margin": null,
            "display": null,
            "left": null
          }
        },
        "11813cfc8a0a4ada827d0c41fae534a2": {
          "model_module": "@jupyter-widgets/controls",
          "model_name": "PlayModel",
          "model_module_version": "1.5.0",
          "state": {
            "_view_name": "PlayView",
            "style": "IPY_MODEL_542f16c5249f480281ccad7ab16430fc",
            "interval": 950,
            "_dom_classes": [],
            "description": "Press play",
            "_model_name": "PlayModel",
            "max": 15,
            "_view_module": "@jupyter-widgets/controls",
            "_model_module_version": "1.5.0",
            "value": 15,
            "_view_count": null,
            "disabled": false,
            "_repeat": false,
            "_view_module_version": "1.5.0",
            "show_repeat": true,
            "min": 0,
            "_playing": false,
            "step": 1,
            "description_tooltip": null,
            "_model_module": "@jupyter-widgets/controls",
            "layout": "IPY_MODEL_3c2d5e02529649a3ac7c416dbaeb17d8"
          }
        },
        "d35241befb7844ecb7c5c05a4441cf25": {
          "model_module": "@jupyter-widgets/controls",
          "model_name": "ButtonModel",
          "model_module_version": "1.5.0",
          "state": {
            "_view_name": "ButtonView",
            "style": "IPY_MODEL_fa15c64fbe0e4c94b0b657485a598a1e",
            "_dom_classes": [],
            "description": "",
            "_model_name": "ButtonModel",
            "button_style": "",
            "_view_module": "@jupyter-widgets/controls",
            "_model_module_version": "1.5.0",
            "tooltip": "",
            "_view_count": null,
            "disabled": false,
            "_view_module_version": "1.5.0",
            "layout": "IPY_MODEL_61d3a80d572140d9bd395a2ad0e19bff",
            "_model_module": "@jupyter-widgets/controls",
            "icon": "step-backward"
          }
        },
        "a89f0150e60447b9b1106faa849a94f8": {
          "model_module": "@jupyter-widgets/controls",
          "model_name": "ButtonModel",
          "model_module_version": "1.5.0",
          "state": {
            "_view_name": "ButtonView",
            "style": "IPY_MODEL_37cdea90a92b484a91ab06620454969c",
            "_dom_classes": [],
            "description": "",
            "_model_name": "ButtonModel",
            "button_style": "",
            "_view_module": "@jupyter-widgets/controls",
            "_model_module_version": "1.5.0",
            "tooltip": "",
            "_view_count": null,
            "disabled": true,
            "_view_module_version": "1.5.0",
            "layout": "IPY_MODEL_4ff6f687fe7a4d7ba63a2c2535606c67",
            "_model_module": "@jupyter-widgets/controls",
            "icon": "step-forward"
          }
        },
        "2906e55533044c7d92ad21600d1034df": {
          "model_module": "@jupyter-widgets/controls",
          "model_name": "IntSliderModel",
          "model_module_version": "1.5.0",
          "state": {
            "_view_name": "IntSliderView",
            "style": "IPY_MODEL_24909a863ef8414f8d5928636e775b31",
            "_dom_classes": [],
            "description": "Speed:",
            "step": 1,
            "_model_name": "IntSliderModel",
            "orientation": "horizontal",
            "max": 10,
            "_view_module": "@jupyter-widgets/controls",
            "_model_module_version": "1.5.0",
            "value": 1,
            "_view_count": null,
            "disabled": false,
            "_view_module_version": "1.5.0",
            "min": 1,
            "continuous_update": false,
            "readout_format": "d",
            "description_tooltip": null,
            "readout": true,
            "_model_module": "@jupyter-widgets/controls",
            "layout": "IPY_MODEL_112e14d7a9dc4cd4a27a0d5282167379"
          }
        },
        "ce9d727ce50848168d490be6fe05637f": {
          "model_module": "@jupyter-widgets/controls",
          "model_name": "DescriptionStyleModel",
          "model_module_version": "1.5.0",
          "state": {
            "_view_name": "StyleView",
            "_model_name": "DescriptionStyleModel",
            "description_width": "",
            "_view_module": "@jupyter-widgets/base",
            "_model_module_version": "1.5.0",
            "_view_count": null,
            "_view_module_version": "1.2.0",
            "_model_module": "@jupyter-widgets/controls"
          }
        },
        "b89230106ae24eb291f25cb5e3678744": {
          "model_module": "@jupyter-widgets/base",
          "model_name": "LayoutModel",
          "model_module_version": "1.2.0",
          "state": {
            "_view_name": "LayoutView",
            "grid_template_rows": null,
            "right": null,
            "justify_content": null,
            "_view_module": "@jupyter-widgets/base",
            "overflow": null,
            "_model_module_version": "1.2.0",
            "_view_count": null,
            "flex_flow": null,
            "width": "500px",
            "min_width": null,
            "border": null,
            "align_items": null,
            "bottom": null,
            "_model_module": "@jupyter-widgets/base",
            "top": null,
            "grid_column": null,
            "overflow_y": null,
            "overflow_x": null,
            "grid_auto_flow": null,
            "grid_area": null,
            "grid_template_columns": null,
            "flex": null,
            "_model_name": "LayoutModel",
            "justify_items": null,
            "grid_row": null,
            "max_height": null,
            "align_content": null,
            "visibility": null,
            "align_self": null,
            "height": null,
            "min_height": null,
            "padding": null,
            "grid_auto_rows": null,
            "grid_gap": null,
            "max_width": null,
            "order": null,
            "_view_module_version": "1.2.0",
            "grid_template_areas": null,
            "object_position": null,
            "object_fit": null,
            "grid_auto_columns": null,
            "margin": null,
            "display": null,
            "left": null
          }
        },
        "2a60e828d880475484bc2da825c622ff": {
          "model_module": "@jupyter-widgets/controls",
          "model_name": "ButtonStyleModel",
          "model_module_version": "1.5.0",
          "state": {
            "_view_name": "StyleView",
            "_model_name": "ButtonStyleModel",
            "_view_module": "@jupyter-widgets/base",
            "_model_module_version": "1.5.0",
            "_view_count": null,
            "button_color": null,
            "font_weight": "",
            "_view_module_version": "1.2.0",
            "_model_module": "@jupyter-widgets/controls"
          }
        },
        "d867a5738d0b47ae9a231504f6e53a28": {
          "model_module": "@jupyter-widgets/base",
          "model_name": "LayoutModel",
          "model_module_version": "1.2.0",
          "state": {
            "_view_name": "LayoutView",
            "grid_template_rows": null,
            "right": null,
            "justify_content": null,
            "_view_module": "@jupyter-widgets/base",
            "overflow": null,
            "_model_module_version": "1.2.0",
            "_view_count": null,
            "flex_flow": null,
            "width": null,
            "min_width": null,
            "border": null,
            "align_items": null,
            "bottom": null,
            "_model_module": "@jupyter-widgets/base",
            "top": null,
            "grid_column": null,
            "overflow_y": null,
            "overflow_x": null,
            "grid_auto_flow": null,
            "grid_area": null,
            "grid_template_columns": null,
            "flex": null,
            "_model_name": "LayoutModel",
            "justify_items": null,
            "grid_row": null,
            "max_height": null,
            "align_content": null,
            "visibility": null,
            "align_self": null,
            "height": null,
            "min_height": null,
            "padding": null,
            "grid_auto_rows": null,
            "grid_gap": null,
            "max_width": null,
            "order": null,
            "_view_module_version": "1.2.0",
            "grid_template_areas": null,
            "object_position": null,
            "object_fit": null,
            "grid_auto_columns": null,
            "margin": null,
            "display": null,
            "left": null
          }
        },
        "542f16c5249f480281ccad7ab16430fc": {
          "model_module": "@jupyter-widgets/controls",
          "model_name": "DescriptionStyleModel",
          "model_module_version": "1.5.0",
          "state": {
            "_view_name": "StyleView",
            "_model_name": "DescriptionStyleModel",
            "description_width": "",
            "_view_module": "@jupyter-widgets/base",
            "_model_module_version": "1.5.0",
            "_view_count": null,
            "_view_module_version": "1.2.0",
            "_model_module": "@jupyter-widgets/controls"
          }
        },
        "3c2d5e02529649a3ac7c416dbaeb17d8": {
          "model_module": "@jupyter-widgets/base",
          "model_name": "LayoutModel",
          "model_module_version": "1.2.0",
          "state": {
            "_view_name": "LayoutView",
            "grid_template_rows": null,
            "right": null,
            "justify_content": null,
            "_view_module": "@jupyter-widgets/base",
            "overflow": null,
            "_model_module_version": "1.2.0",
            "_view_count": null,
            "flex_flow": null,
            "width": null,
            "min_width": null,
            "border": null,
            "align_items": null,
            "bottom": null,
            "_model_module": "@jupyter-widgets/base",
            "top": null,
            "grid_column": null,
            "overflow_y": null,
            "overflow_x": null,
            "grid_auto_flow": null,
            "grid_area": null,
            "grid_template_columns": null,
            "flex": null,
            "_model_name": "LayoutModel",
            "justify_items": null,
            "grid_row": null,
            "max_height": null,
            "align_content": null,
            "visibility": null,
            "align_self": null,
            "height": null,
            "min_height": null,
            "padding": null,
            "grid_auto_rows": null,
            "grid_gap": null,
            "max_width": null,
            "order": null,
            "_view_module_version": "1.2.0",
            "grid_template_areas": null,
            "object_position": null,
            "object_fit": null,
            "grid_auto_columns": null,
            "margin": null,
            "display": null,
            "left": null
          }
        },
        "fa15c64fbe0e4c94b0b657485a598a1e": {
          "model_module": "@jupyter-widgets/controls",
          "model_name": "ButtonStyleModel",
          "model_module_version": "1.5.0",
          "state": {
            "_view_name": "StyleView",
            "_model_name": "ButtonStyleModel",
            "_view_module": "@jupyter-widgets/base",
            "_model_module_version": "1.5.0",
            "_view_count": null,
            "button_color": null,
            "font_weight": "",
            "_view_module_version": "1.2.0",
            "_model_module": "@jupyter-widgets/controls"
          }
        },
        "61d3a80d572140d9bd395a2ad0e19bff": {
          "model_module": "@jupyter-widgets/base",
          "model_name": "LayoutModel",
          "model_module_version": "1.2.0",
          "state": {
            "_view_name": "LayoutView",
            "grid_template_rows": null,
            "right": null,
            "justify_content": null,
            "_view_module": "@jupyter-widgets/base",
            "overflow": null,
            "_model_module_version": "1.2.0",
            "_view_count": null,
            "flex_flow": null,
            "width": "40px",
            "min_width": null,
            "border": null,
            "align_items": null,
            "bottom": null,
            "_model_module": "@jupyter-widgets/base",
            "top": null,
            "grid_column": null,
            "overflow_y": null,
            "overflow_x": null,
            "grid_auto_flow": null,
            "grid_area": null,
            "grid_template_columns": null,
            "flex": null,
            "_model_name": "LayoutModel",
            "justify_items": null,
            "grid_row": null,
            "max_height": null,
            "align_content": null,
            "visibility": null,
            "align_self": null,
            "height": null,
            "min_height": null,
            "padding": null,
            "grid_auto_rows": null,
            "grid_gap": null,
            "max_width": null,
            "order": null,
            "_view_module_version": "1.2.0",
            "grid_template_areas": null,
            "object_position": null,
            "object_fit": null,
            "grid_auto_columns": null,
            "margin": null,
            "display": null,
            "left": null
          }
        },
        "37cdea90a92b484a91ab06620454969c": {
          "model_module": "@jupyter-widgets/controls",
          "model_name": "ButtonStyleModel",
          "model_module_version": "1.5.0",
          "state": {
            "_view_name": "StyleView",
            "_model_name": "ButtonStyleModel",
            "_view_module": "@jupyter-widgets/base",
            "_model_module_version": "1.5.0",
            "_view_count": null,
            "button_color": null,
            "font_weight": "",
            "_view_module_version": "1.2.0",
            "_model_module": "@jupyter-widgets/controls"
          }
        },
        "4ff6f687fe7a4d7ba63a2c2535606c67": {
          "model_module": "@jupyter-widgets/base",
          "model_name": "LayoutModel",
          "model_module_version": "1.2.0",
          "state": {
            "_view_name": "LayoutView",
            "grid_template_rows": null,
            "right": null,
            "justify_content": null,
            "_view_module": "@jupyter-widgets/base",
            "overflow": null,
            "_model_module_version": "1.2.0",
            "_view_count": null,
            "flex_flow": null,
            "width": "40px",
            "min_width": null,
            "border": null,
            "align_items": null,
            "bottom": null,
            "_model_module": "@jupyter-widgets/base",
            "top": null,
            "grid_column": null,
            "overflow_y": null,
            "overflow_x": null,
            "grid_auto_flow": null,
            "grid_area": null,
            "grid_template_columns": null,
            "flex": null,
            "_model_name": "LayoutModel",
            "justify_items": null,
            "grid_row": null,
            "max_height": null,
            "align_content": null,
            "visibility": null,
            "align_self": null,
            "height": null,
            "min_height": null,
            "padding": null,
            "grid_auto_rows": null,
            "grid_gap": null,
            "max_width": null,
            "order": null,
            "_view_module_version": "1.2.0",
            "grid_template_areas": null,
            "object_position": null,
            "object_fit": null,
            "grid_auto_columns": null,
            "margin": null,
            "display": null,
            "left": null
          }
        },
        "24909a863ef8414f8d5928636e775b31": {
          "model_module": "@jupyter-widgets/controls",
          "model_name": "SliderStyleModel",
          "model_module_version": "1.5.0",
          "state": {
            "_view_name": "StyleView",
            "handle_color": null,
            "_model_name": "SliderStyleModel",
            "description_width": "",
            "_view_module": "@jupyter-widgets/base",
            "_model_module_version": "1.5.0",
            "_view_count": null,
            "_view_module_version": "1.2.0",
            "_model_module": "@jupyter-widgets/controls"
          }
        },
        "112e14d7a9dc4cd4a27a0d5282167379": {
          "model_module": "@jupyter-widgets/base",
          "model_name": "LayoutModel",
          "model_module_version": "1.2.0",
          "state": {
            "_view_name": "LayoutView",
            "grid_template_rows": null,
            "right": null,
            "justify_content": null,
            "_view_module": "@jupyter-widgets/base",
            "overflow": null,
            "_model_module_version": "1.2.0",
            "_view_count": null,
            "flex_flow": null,
            "width": null,
            "min_width": null,
            "border": null,
            "align_items": null,
            "bottom": null,
            "_model_module": "@jupyter-widgets/base",
            "top": null,
            "grid_column": null,
            "overflow_y": null,
            "overflow_x": null,
            "grid_auto_flow": null,
            "grid_area": null,
            "grid_template_columns": null,
            "flex": null,
            "_model_name": "LayoutModel",
            "justify_items": null,
            "grid_row": null,
            "max_height": null,
            "align_content": null,
            "visibility": null,
            "align_self": null,
            "height": null,
            "min_height": null,
            "padding": null,
            "grid_auto_rows": null,
            "grid_gap": null,
            "max_width": null,
            "order": null,
            "_view_module_version": "1.2.0",
            "grid_template_areas": null,
            "object_position": null,
            "object_fit": null,
            "grid_auto_columns": null,
            "margin": null,
            "display": null,
            "left": null
          }
        },
        "34e07132cc2d4a34ab8f8e762fa6bd50": {
          "model_module": "@jupyter-widgets/base",
          "model_name": "LayoutModel",
          "model_module_version": "1.2.0",
          "state": {
            "_view_name": "LayoutView",
            "grid_template_rows": null,
            "right": null,
            "justify_content": null,
            "_view_module": "@jupyter-widgets/base",
            "overflow": null,
            "_model_module_version": "1.2.0",
            "_view_count": null,
            "flex_flow": null,
            "width": null,
            "min_width": null,
            "border": null,
            "align_items": null,
            "bottom": null,
            "_model_module": "@jupyter-widgets/base",
            "top": null,
            "grid_column": null,
            "overflow_y": null,
            "overflow_x": null,
            "grid_auto_flow": null,
            "grid_area": null,
            "grid_template_columns": null,
            "flex": null,
            "_model_name": "LayoutModel",
            "justify_items": null,
            "grid_row": null,
            "max_height": null,
            "align_content": null,
            "visibility": null,
            "align_self": null,
            "height": null,
            "min_height": null,
            "padding": null,
            "grid_auto_rows": null,
            "grid_gap": null,
            "max_width": null,
            "order": null,
            "_view_module_version": "1.2.0",
            "grid_template_areas": null,
            "object_position": null,
            "object_fit": null,
            "grid_auto_columns": null,
            "margin": null,
            "display": null,
            "left": null
          }
        },
        "d560a304acbb45a0bd6cddc7f812c64d": {
          "model_module": "@jupyter-widgets/base",
          "model_name": "LayoutModel",
          "model_module_version": "1.2.0",
          "state": {
            "_view_name": "LayoutView",
            "grid_template_rows": null,
            "right": null,
            "justify_content": null,
            "_view_module": "@jupyter-widgets/base",
            "overflow": null,
            "_model_module_version": "1.2.0",
            "_view_count": null,
            "flex_flow": null,
            "width": null,
            "min_width": null,
            "border": null,
            "align_items": null,
            "bottom": null,
            "_model_module": "@jupyter-widgets/base",
            "top": null,
            "grid_column": null,
            "overflow_y": null,
            "overflow_x": null,
            "grid_auto_flow": null,
            "grid_area": null,
            "grid_template_columns": null,
            "flex": null,
            "_model_name": "LayoutModel",
            "justify_items": null,
            "grid_row": null,
            "max_height": null,
            "align_content": null,
            "visibility": null,
            "align_self": null,
            "height": null,
            "min_height": null,
            "padding": null,
            "grid_auto_rows": null,
            "grid_gap": null,
            "max_width": null,
            "order": null,
            "_view_module_version": "1.2.0",
            "grid_template_areas": null,
            "object_position": null,
            "object_fit": null,
            "grid_auto_columns": null,
            "margin": null,
            "display": null,
            "left": null
          }
        }
      }
    }
  },
  "cells": [
    {
      "cell_type": "code",
      "metadata": {
        "id": "Ujn4sivPchF4",
        "run_control": {
          "frozen": false,
          "read_only": false
        },
        "outputId": "760bdd84-baf4-4363-a5e7-5710ab1a36b0",
        "colab": {
          "base_uri": "https://localhost:8080/",
          "height": 321
        }
      },
      "source": [
        "# This is a potentially helpful video from long ago... watch it if you've not, before.\n",
        "from IPython.display import YouTubeVideo\n",
        "YouTubeVideo('xjFtLF95uBc')"
      ],
      "execution_count": 1,
      "outputs": [
        {
          "output_type": "execute_result",
          "data": {
            "text/html": [
              "\n",
              "        <iframe\n",
              "            width=\"400\"\n",
              "            height=\"300\"\n",
              "            src=\"https://www.youtube.com/embed/xjFtLF95uBc\"\n",
              "            frameborder=\"0\"\n",
              "            allowfullscreen\n",
              "        ></iframe>\n",
              "        "
            ],
            "text/plain": [
              "<IPython.lib.display.YouTubeVideo at 0x7f925231b490>"
            ],
            "image/jpeg": "[encoded data removed]"
          },
          "metadata": {},
          "execution_count": 1
        }
      ]
    },
    {
      "cell_type": "code",
      "metadata": {
        "id": "2l3T1b5echF5",
        "run_control": {
          "frozen": false,
          "read_only": false
        },
        "scrolled": true,
        "outputId": "fcc5fc48-ab8a-4498-e764-9ae9b294115b",
        "colab": {
          "base_uri": "https://localhost:8080/"
        }
      },
      "source": [
        "#~~~~~~~~~~~~~~~~~~~~~~~~~~~~~~~~~~~~~~~~~~~~~~~~~~~~~~~\n",
        "import sys\n",
        "\n",
        "# -- Detect if in Own Install or in Colab\n",
        "try:\n",
        "    import google.colab\n",
        "    OWN_INSTALL = False\n",
        "except:\n",
        "    OWN_INSTALL = True\n",
        "    \n",
        "if OWN_INSTALL:\n",
        "    \n",
        "  #---- Leave these definitions ON if running on laptop\n",
        "  #---- Else turn OFF by putting them between ''' ... '''\n",
        "\n",
        "  sys.path[0:0] = ['../../../../..',  '../../../../../3rdparty',  \n",
        "                   '../../../..',  '../../../../3rdparty',  \n",
        "                   '../../..',     '../../../3rdparty', \n",
        "                   '../..',        '../../3rdparty',\n",
        "                   '..',           '../3rdparty' ]\n",
        "\n",
        "else: # In colab\n",
        "  ! if [ ! -d Jove ]; then git clone https://github.com/ganeshutah/Jove Jove; fi\n",
        "  sys.path.append('./Jove')\n",
        "  sys.path.append('./Jove/jove')\n",
        "\n",
        "# -- common imports --\n",
        "from jove.DotBashers import *\n",
        "from jove.Def_md2mc  import *\n",
        "from jove.Def_NFA    import *\n",
        "from jove.Def_DFA    import *\n",
        "from jove.AnimateNFA import *\n",
        "#~~~~~~~~~~~~~~~~~~~~~~~~~~~~~~~~~~~~~~~~~~~~~~~~~~~~~~~"
      ],
      "execution_count": 2,
      "outputs": [
        {
          "output_type": "stream",
          "name": "stdout",
          "text": [
            "Cloning into 'Jove'...\n",
            "remote: Enumerating objects: 4845, done.\u001b[K\n",
            "remote: Counting objects: 100% (211/211), done.\u001b[K\n",
            "remote: Compressing objects: 100% (147/147), done.\u001b[K\n",
            "remote: Total 4845 (delta 125), reused 139 (delta 59), pack-reused 4634\u001b[K\n",
            "Receiving objects: 100% (4845/4845), 7.55 MiB | 19.76 MiB/s, done.\n",
            "Resolving deltas: 100% (3130/3130), done.\n",
            "You may use any of these help commands:\n",
            "help(ResetStNum)\n",
            "help(NxtStateStr)\n",
            "\n",
            "You may use any of these help commands:\n",
            "help(md2mc)\n",
            ".. and if you want to dig more, then ..\n",
            "help(default_line_attr)\n",
            "help(length_ok_input_items)\n",
            "help(union_line_attr_list_fld)\n",
            "help(extend_rsltdict)\n",
            "help(form_delta)\n",
            "help(get_machine_components)\n",
            "\n",
            "You may use any of these help commands:\n",
            "help(mkp_dfa)\n",
            "help(mk_dfa)\n",
            "help(totalize_dfa)\n",
            "help(addtosigma_delta)\n",
            "help(step_dfa)\n",
            "help(run_dfa)\n",
            "help(accepts_dfa)\n",
            "help(comp_dfa)\n",
            "help(union_dfa)\n",
            "help(intersect_dfa)\n",
            "help(pruneUnreach)\n",
            "help(iso_dfa)\n",
            "help(langeq_dfa)\n",
            "help(same_status)\n",
            "help(h_langeq_dfa)\n",
            "help(fixptDist)\n",
            "help(min_dfa)\n",
            "help(pairFR)\n",
            "help(state_combos)\n",
            "help(sepFinNonFin)\n",
            "help(bash_eql_classes)\n",
            "help(listminus)\n",
            "help(bash_1)\n",
            "help(mk_rep_eqc)\n",
            "help(F_of)\n",
            "help(rep_of_s)\n",
            "help(q0_of)\n",
            "help(Delta_of)\n",
            "help(mk_state_eqc_name)\n",
            "\n",
            "You may use any of these help commands:\n",
            "help(mk_nfa)\n",
            "help(totalize_nfa)\n",
            "help(step_nfa)\n",
            "help(run_nfa)\n",
            "help(ec_step_nfa)\n",
            "help(Eclosure)\n",
            "help(Echelp)\n",
            "help(accepts_nfa)\n",
            "help(nfa2dfa)\n",
            "help(n2d)\n",
            "help(inSets)\n",
            "help(rev_dfa)\n",
            "help(min_dfa_brz)\n",
            "\n",
            " \"help(AnimateNFA)\" gives you info on how to use animations with NFA \n"
          ]
        }
      ]
    },
    {
      "cell_type": "markdown",
      "metadata": {
        "id": "rDIagEWm0Meu"
      },
      "source": [
        "## Question 1:"
      ]
    },
    {
      "cell_type": "markdown",
      "metadata": {
        "id": "mRGsAaKo1Moh"
      },
      "source": [
        "### Part a:\n",
        "\n",
        "* Design an NFA for $\\{0,1\\}^* 1 0$. In other words, this NFA accepts strings that end in 10.\n",
        "\n",
        "* Document sufficiently to reveal the design (a comment per key line)\n",
        "\n",
        "*  Here are the required state names:\n",
        "\n",
        "    - If the initial state is also a final state, then its name must be IF, else it must be I\n",
        "\n",
        "    - After consuming a 0 or a 1, end up in state S0 or S1 (if not already accepting); else transition to F0 or F1 as appropriate\n",
        "\n",
        "    - Continue this way: that is S1 goes to S10 if non-accepting; else to F10"
      ]
    },
    {
      "cell_type": "code",
      "metadata": {
        "id": "c-uWXGDR114l"
      },
      "source": [
        "nfaEnds10 = md2mc('''\n",
        "NFA \n",
        " \n",
        "!!-- Your NFA Design below --\n",
        "\n",
        "!! This NFA is extremely simple, upon receiving a 0, the NFA remains at the initial state as we're somewhere in the string.\n",
        "!!  Upon a 1, the NFA goes to state S1 and I, as this 1 could be the second to last character (and part of the 10 that ends the string)\n",
        "!!  or it could be somewhere in the middle of the string, in which case we remain at the initial stage. A 0 at S1 means we might have an\n",
        "!!  accepting string so we move to F10 (which denotes ends-in-10, hence F10).\n",
        "\n",
        "I  : 1 -> S1, I  !! Goes to states S1 and I upon a 1 as we don't know if it's safe to assume the string is accepted yet as we're not at the end.\n",
        "I  : 0 -> I      !! A 0 means we are somewhere in the string so remain at I as it is not accepted yet.\n",
        "\n",
        "S1 : 0 -> F10    !! If 0 at S1, go to F10 as if this is accepted (the 0 was the last character) \n",
        "\n",
        "''')"
      ],
      "execution_count": 7,
      "outputs": []
    },
    {
      "cell_type": "markdown",
      "metadata": {
        "id": "lIhbmcxO15Pl"
      },
      "source": [
        "### Part b: \n",
        "- Put the above NFA in animation, and note down the set of states attained\n",
        "after the DFA has seen every character in 10010. More detailed instructions follow."
      ]
    },
    {
      "cell_type": "markdown",
      "metadata": {
        "id": "Y-i834WN2IlU"
      },
      "source": [
        "#### Execute the cell below and follow the bulleted instructions\n",
        "\n",
        "- When the animation pane comes up, type in 10010 and click Animate\n",
        "\n",
        "- Then click the \">|\" button, which is for single-stepping\n",
        "\n",
        "- Note down the results as you single-step, and fill answers in 1b(ii) below"
      ]
    },
    {
      "cell_type": "code",
      "metadata": {
        "id": "HQvAtNLbchF7",
        "scrolled": false,
        "outputId": "dd8cca6f-5ce8-4ada-a38e-ef20cab102d8",
        "colab": {
          "base_uri": "https://localhost:8080/",
          "height": 314,
          "referenced_widgets": [
            "3a13ee042190478dbe38e7750b80ddb8",
            "78f569b7d7414e6888fb353ad80f9179",
            "cd730e6bba254caba9c4613ec71380ba",
            "8e3e6f1204e2483d86986c247fd031c0",
            "f61f5e3b64f94ea8b29427be462392dc",
            "dd4e0e277a1044229dc79be11f24a5ea",
            "0d73d230d0a74a31a98b4244e2612c69",
            "f99abaa7d9fe419dac64e8b7627ea560",
            "75ae9b728c324c5e93c297dfcd09e8dd",
            "f1f5c5c34c1a4fbdb6e2d60f5bb65cf9",
            "11813cfc8a0a4ada827d0c41fae534a2",
            "d35241befb7844ecb7c5c05a4441cf25",
            "a89f0150e60447b9b1106faa849a94f8",
            "2906e55533044c7d92ad21600d1034df",
            "ce9d727ce50848168d490be6fe05637f",
            "b89230106ae24eb291f25cb5e3678744",
            "2a60e828d880475484bc2da825c622ff",
            "d867a5738d0b47ae9a231504f6e53a28",
            "542f16c5249f480281ccad7ab16430fc",
            "3c2d5e02529649a3ac7c416dbaeb17d8",
            "fa15c64fbe0e4c94b0b657485a598a1e",
            "61d3a80d572140d9bd395a2ad0e19bff",
            "37cdea90a92b484a91ab06620454969c",
            "4ff6f687fe7a4d7ba63a2c2535606c67",
            "24909a863ef8414f8d5928636e775b31",
            "112e14d7a9dc4cd4a27a0d5282167379",
            "34e07132cc2d4a34ab8f8e762fa6bd50",
            "d560a304acbb45a0bd6cddc7f812c64d"
          ]
        }
      },
      "source": [
        "AnimateNFA(nfaEnds10, FuseEdges=False)\n",
        "display(HTML('<link rel=\\\"stylesheet\\\" href=\\\"//stackpath.bootstrapcdn.com/font-awesome/4.7.0/css/font-awesome.min.css\\\"/>'))"
      ],
      "execution_count": 8,
      "outputs": [
        {
          "output_type": "display_data",
          "data": {
            "application/vnd.jupyter.widget-view+json": {
              "model_id": "3a13ee042190478dbe38e7750b80ddb8",
              "version_minor": 0,
              "version_major": 2
            },
            "text/plain": [
              "VBox(children=(HBox(children=(Text(value='', description='Input:', layout=Layout(width='500px'), placeholder='…"
            ]
          },
          "metadata": {}
        },
        {
          "output_type": "display_data",
          "data": {
            "text/html": [
              "<link rel=\"stylesheet\" href=\"//stackpath.bootstrapcdn.com/font-awesome/4.7.0/css/font-awesome.min.css\"/>"
            ],
            "text/plain": [
              "<IPython.core.display.HTML object>"
            ]
          },
          "metadata": {}
        }
      ]
    },
    {
      "cell_type": "markdown",
      "metadata": {
        "id": "50pO9HiP2PQq"
      },
      "source": [
        "#### Provide these answers based on single-stepping the animation (please provide it as a SET OF STATES - else we won't give you any points). "
      ]
    },
    {
      "cell_type": "markdown",
      "metadata": {
        "id": "3_dSVGMochF7"
      },
      "source": [
        "#### Choose one of these 3 options for the multiple choice part:\n",
        "##### (a) A token dropped out of the diagram (with the move on a symbol being undefined)\n",
        "##### (b) The NFA reached a final state\n",
        "##### (c) Neither \n",
        "\n",
        "### Question 1: What is the set of states before consuming any of 10010? \n",
        "##### The set of state is:  { I }\n",
        "##### Multiple choice answer: (c)\n",
        "\n",
        "### Question 2: What is the set of states AFTER consuming \"1\" and before consuming \"0010\"?\n",
        "\n",
        "### What do we mean by \"AFTER consuming '1' \" ??\n",
        "\n",
        "### There are three phases to consuming a '1' in the animation window and we will explain it now:\n",
        "\n",
        "#### 1) See that the animation has a window with 3 cells\n",
        "#### 2) When you administer the first click on the step forward or >| button,  '1' moves into the middle window. It is like a '1' in the \"mouth of the NFA\"\n",
        "#### 3) One click later , the '1' goes into the left cell and there is a \"\" in the middle, imagine that the NFA has 'chewed' the '1' and is about to \"swallow it\"\n",
        "#### 4) When the \"\" in the middle cells is also gone and the middle cell is blank, the NFA has swallowed what it was chewing, and it is traveling toward its stomach. That is when it is in a \"after consuming a 1\" state. \n",
        "\n",
        "##### The set of state is:   { I, S1 }\n",
        "##### Multiple choice answer:  (c)\n",
        "\n",
        "### Question 3: What is the set of states AFTER consuming \"10\" and before consuming \"010\"?\n",
        "##### The set of state is:  { I, F10 }\n",
        "##### Multiple choice answer: (b)\n",
        "\n",
        "### Question 4: What is the set of states AFTER consuming \"100\" and before consuming \"10\"?\n",
        "##### The set of state is:  { I }\n",
        "##### Multiple choice answer: (a)\n",
        "\n",
        "### Question 5: What is the set of states AFTER consuming \"1001\" and before consuming \"0\"?\n",
        "##### The set of state is:  { I, S1 }\n",
        "##### Multiple choice answer: (c)\n",
        "\n",
        "### Question 6: What is the set of states AFTER consuming \"10010\" entirely?\n",
        "##### The set of state is:  { I, F10 }\n",
        "##### Multiple choice answer: (b)"
      ]
    },
    {
      "cell_type": "markdown",
      "metadata": {
        "id": "7ATMvVKt4Fhk"
      },
      "source": [
        "### Part c:"
      ]
    },
    {
      "cell_type": "markdown",
      "metadata": {
        "id": "cu9d8SUa4K0j"
      },
      "source": [
        "Convert the NFA to a DFA and answer the questions below"
      ]
    },
    {
      "cell_type": "code",
      "metadata": {
        "id": "frrMz34NchF8",
        "outputId": "14df371e-5508-4532-c29c-0bead5e8973f",
        "colab": {
          "base_uri": "https://localhost:8080/",
          "height": 202
        }
      },
      "source": [
        "#Run this cell to convert the NFA to a DFA\n",
        "dotObj_dfa(nfa2dfa(nfaEnds10, STATENAME_MAXSIZE=50), STATENAME_MAXSIZE=50)"
      ],
      "execution_count": 9,
      "outputs": [
        {
          "output_type": "execute_result",
          "data": {
            "text/plain": [
              "<graphviz.dot.Digraph at 0x7f924f43d090>"
            ],
            "image/svg+xml": "<?xml version=\"1.0\" encoding=\"UTF-8\" standalone=\"no\"?>\n<!DOCTYPE svg PUBLIC \"-//W3C//DTD SVG 1.1//EN\"\n \"http://www.w3.org/Graphics/SVG/1.1/DTD/svg11.dtd\">\n<!-- Generated by graphviz version 2.40.1 (20161225.0304)\n -->\n<!-- Title: %3 Pages: 1 -->\n<svg width=\"364pt\" height=\"136pt\"\n viewBox=\"0.00 0.00 363.79 136.39\" xmlns=\"http://www.w3.org/2000/svg\" xmlns:xlink=\"http://www.w3.org/1999/xlink\">\n<g id=\"graph0\" class=\"graph\" transform=\"scale(1 1) rotate(0) translate(4 132.3945)\">\n<title>%3</title>\n<polygon fill=\"#ffffff\" stroke=\"transparent\" points=\"-4,4 -4,-132.3945 359.7889,-132.3945 359.7889,4 -4,4\"/>\n<!-- EMPTY -->\n<g id=\"node1\" class=\"node\">\n<title>EMPTY</title>\n</g>\n<!-- I -->\n<g id=\"node2\" class=\"node\">\n<title>I</title>\n<ellipse fill=\"none\" stroke=\"#000000\" cx=\"109\" cy=\"-20.797\" rx=\"18\" ry=\"18\"/>\n<text text-anchor=\"middle\" x=\"109\" y=\"-17.097\" font-family=\"Times,serif\" font-size=\"14.00\" fill=\"#000000\">I</text>\n</g>\n<!-- EMPTY&#45;&gt;I -->\n<g id=\"edge1\" class=\"edge\">\n<title>EMPTY&#45;&gt;I</title>\n<path fill=\"none\" stroke=\"#000000\" d=\"M54.3048,-20.797C62.6909,-20.797 71.9407,-20.797 80.4103,-20.797\"/>\n<polygon fill=\"#000000\" stroke=\"#000000\" points=\"80.5976,-24.2971 90.5976,-20.797 80.5976,-17.2971 80.5976,-24.2971\"/>\n</g>\n<!-- I&#45;&gt;I -->\n<g id=\"edge2\" class=\"edge\">\n<title>I&#45;&gt;I</title>\n<path fill=\"none\" stroke=\"#000000\" d=\"M102.6208,-37.8343C101.3189,-47.6549 103.4453,-56.797 109,-56.797 112.4717,-56.797 114.6042,-53.2259 115.3975,-48.1499\"/>\n<polygon fill=\"#000000\" stroke=\"#000000\" points=\"118.8971,-47.828 115.3792,-37.8343 111.8971,-47.8405 118.8971,-47.828\"/>\n<text text-anchor=\"middle\" x=\"109\" y=\"-60.597\" font-family=\"Times,serif\" font-size=\"14.00\" fill=\"#000000\">0 </text>\n</g>\n<!-- I_S1 -->\n<g id=\"node3\" class=\"node\">\n<title>I_S1</title>\n<ellipse fill=\"none\" stroke=\"#000000\" cx=\"203.5975\" cy=\"-66.797\" rx=\"28.6953\" ry=\"28.6953\"/>\n<text text-anchor=\"middle\" x=\"203.5975\" y=\"-63.097\" font-family=\"Times,serif\" font-size=\"14.00\" fill=\"#000000\">I_S1</text>\n</g>\n<!-- I&#45;&gt;I_S1 -->\n<g id=\"edge3\" class=\"edge\">\n<title>I&#45;&gt;I_S1</title>\n<path fill=\"none\" stroke=\"#000000\" d=\"M125.4776,-28.8096C137.2888,-34.553 153.6416,-42.5049 168.3345,-49.6497\"/>\n<polygon fill=\"#000000\" stroke=\"#000000\" points=\"167.162,-52.9713 177.6857,-54.1969 170.2232,-46.6762 167.162,-52.9713\"/>\n<text text-anchor=\"middle\" x=\"151\" y=\"-47.597\" font-family=\"Times,serif\" font-size=\"14.00\" fill=\"#000000\">1 </text>\n</g>\n<!-- I_S1&#45;&gt;I_S1 -->\n<g id=\"edge5\" class=\"edge\">\n<title>I_S1&#45;&gt;I_S1</title>\n<path fill=\"none\" stroke=\"#000000\" d=\"M193.8855,-94.0789C193.4539,-104.6271 196.6912,-113.3945 203.5975,-113.3945 208.0218,-113.3945 210.9404,-109.7963 212.3532,-104.4369\"/>\n<polygon fill=\"#000000\" stroke=\"#000000\" points=\"215.8753,-104.3583 213.3094,-94.0789 208.9049,-103.7148 215.8753,-104.3583\"/>\n<text text-anchor=\"middle\" x=\"203.5975\" y=\"-117.1945\" font-family=\"Times,serif\" font-size=\"14.00\" fill=\"#000000\">1 </text>\n</g>\n<!-- F10_I -->\n<g id=\"node4\" class=\"node\">\n<title>F10_I</title>\n<ellipse fill=\"none\" stroke=\"#000000\" cx=\"317.9919\" cy=\"-37.797\" rx=\"33.6165\" ry=\"33.6165\"/>\n<ellipse fill=\"none\" stroke=\"#000000\" cx=\"317.9919\" cy=\"-37.797\" rx=\"37.5951\" ry=\"37.5951\"/>\n<text text-anchor=\"middle\" x=\"317.9919\" y=\"-34.097\" font-family=\"Times,serif\" font-size=\"14.00\" fill=\"#000000\">F10_I</text>\n</g>\n<!-- I_S1&#45;&gt;F10_I -->\n<g id=\"edge4\" class=\"edge\">\n<title>I_S1&#45;&gt;F10_I</title>\n<path fill=\"none\" stroke=\"#000000\" d=\"M231.6972,-60.9272C241.3903,-58.806 252.2972,-56.3115 262.1949,-53.797 265.3204,-53.003 268.5363,-52.1574 271.7713,-51.2857\"/>\n<polygon fill=\"#000000\" stroke=\"#000000\" points=\"272.7498,-54.6466 281.4617,-48.6171 270.8913,-47.8978 272.7498,-54.6466\"/>\n<text text-anchor=\"middle\" x=\"256.1949\" y=\"-60.597\" font-family=\"Times,serif\" font-size=\"14.00\" fill=\"#000000\">0 </text>\n</g>\n<!-- F10_I&#45;&gt;I -->\n<g id=\"edge6\" class=\"edge\">\n<title>F10_I&#45;&gt;I</title>\n<path fill=\"none\" stroke=\"#000000\" d=\"M282.1339,-25.4121C266.9309,-20.7803 248.8975,-16.0891 232.1949,-13.797 207.011,-10.341 200.3845,-12.4546 175,-13.797 162.4903,-14.4585 148.7024,-15.8207 136.9782,-17.169\"/>\n<polygon fill=\"#000000\" stroke=\"#000000\" points=\"136.3975,-13.7136 126.8871,-18.383 137.2336,-20.6635 136.3975,-13.7136\"/>\n<text text-anchor=\"middle\" x=\"203.5975\" y=\"-17.597\" font-family=\"Times,serif\" font-size=\"14.00\" fill=\"#000000\">0 </text>\n</g>\n<!-- F10_I&#45;&gt;I_S1 -->\n<g id=\"edge7\" class=\"edge\">\n<title>F10_I&#45;&gt;I_S1</title>\n<path fill=\"none\" stroke=\"#000000\" d=\"M280.4571,-31.5968C270.447,-31.1627 259.7596,-31.8291 250.1949,-34.797 244.5507,-36.5484 238.9835,-39.2465 233.7693,-42.349\"/>\n<polygon fill=\"#000000\" stroke=\"#000000\" points=\"231.817,-39.4439 225.3764,-47.8564 235.6573,-45.2964 231.817,-39.4439\"/>\n<text text-anchor=\"middle\" x=\"256.1949\" y=\"-38.597\" font-family=\"Times,serif\" font-size=\"14.00\" fill=\"#000000\">1 </text>\n</g>\n</g>\n</svg>\n"
          },
          "metadata": {},
          "execution_count": 9
        }
      ]
    },
    {
      "cell_type": "markdown",
      "metadata": {
        "id": "GlYfeJCcchF8"
      },
      "source": [
        "#### Question 1: What is the state the DFA is in after 10010?\n",
        "##### Answer: State F10_I\n",
        "\n",
        "### Question-2: What is the set of states NFA is in after 10010? Express as a set of states of the NFA.\n",
        "\n",
        "##### Answer:  { I, F10 }\n",
        "\n",
        "### Question 3: Do the above match, in the sense that the set of states that the NFA finds itself, when converted to a DFA state by inserting the underscores (\"_\") matches the DFA state?\n",
        "\n",
        "##### Answer:  Yes, both have the same 'state' after the conversion.\n",
        "\n",
        "### Question 4: Provide the reason why they do/don't match:\n",
        "\n",
        "##### Answer:  The simplest reason for why they match is that when the NFA is converted to a DFA, the set of states that are represented in the NFA are merged to make one state in the DFA.  For instance, after a 1, the NFA goes to state S1, but also I because of the multi-state nature of the machine.  The machine could have reached near the end of the string, or it could be in the middle still, so the continued presence at I allows it to keep going without losing progress or stopping altogether, and the advancement to S1 allows it to represent a potential second to last character state.  Because after a 1 it is in both of these states, the DFA merges them into one, so after a 1 the DFA goes from I to state I_S1, which is equivalent to the set of states in the DFA.  Continuing it makes sense why they are in the same state, both are supposed to determine if the string ends in the characters '10', it wouldn't make sense if they both didn't arrive at their respective final states after inputting a string that ends in such a manner. "
      ]
    },
    {
      "cell_type": "markdown",
      "metadata": {
        "id": "UxSTniCF4sqA"
      },
      "source": [
        "## Question 2:"
      ]
    },
    {
      "cell_type": "markdown",
      "metadata": {
        "id": "9JAr5AXkchF9"
      },
      "source": [
        "### A tutorial on Concatenating NFA\n",
        "Please watch this video:\n",
        "\n",
        "To watch the video separately in Youtube in large size, \n",
        "visit https://youtu.be/VWyOT1uYfIc\n",
        "\n",
        "Otherwise just run the command below!"
      ]
    },
    {
      "cell_type": "code",
      "metadata": {
        "id": "XYrXR8ODchF9",
        "outputId": "ae143a61-f811-4f55-806f-0f4414746ce4",
        "colab": {
          "base_uri": "https://localhost:8080/",
          "height": 321
        }
      },
      "source": [
        "# NFA Concatenation\n",
        "from IPython.display import YouTubeVideo\n",
        "YouTubeVideo('VWyOT1uYfIc')"
      ],
      "execution_count": 10,
      "outputs": [
        {
          "output_type": "execute_result",
          "data": {
            "text/html": [
              "\n",
              "        <iframe\n",
              "            width=\"400\"\n",
              "            height=\"300\"\n",
              "            src=\"https://www.youtube.com/embed/VWyOT1uYfIc\"\n",
              "            frameborder=\"0\"\n",
              "            allowfullscreen\n",
              "        ></iframe>\n",
              "        "
            ],
            "text/plain": [
              "<IPython.lib.display.YouTubeVideo at 0x7f924f436dd0>"
            ],
            "image/jpeg": "[encoded data removed]"
          },
          "metadata": {},
          "execution_count": 10
        }
      ]
    },
    {
      "cell_type": "markdown",
      "metadata": {
        "id": "qPA-9aSZ4wyx"
      },
      "source": [
        "### Part a:\n",
        "- Design an NFA for $\\{\\varepsilon, 0\\}$ \n",
        "- It will be a 2-state NFA with an IF state and a final state (call that final state \"F2\" )"
      ]
    },
    {
      "cell_type": "code",
      "metadata": {
        "id": "AYEMTDbachF9"
      },
      "source": [
        "nfaEps0 = md2mc('''\n",
        "NFA \n",
        " \n",
        "!! -- Define your NFA below --\n",
        "\n",
        "IF : \"\" -> IF\n",
        "IF : 0 -> F2\n",
        "\n",
        "!!F2 : \"\" | 0 -> IF, F2\n",
        "\n",
        "''')"
      ],
      "execution_count": 36,
      "outputs": []
    },
    {
      "cell_type": "code",
      "metadata": {
        "id": "f7Je9_I9chF9",
        "outputId": "f9dac8fb-fa4d-4f89-9373-185826d26ad1",
        "colab": {
          "base_uri": "https://localhost:8080/",
          "height": 140
        }
      },
      "source": [
        "dotObj_nfa(nfaEps0)"
      ],
      "execution_count": 37,
      "outputs": [
        {
          "output_type": "execute_result",
          "data": {
            "text/plain": [
              "<graphviz.dot.Digraph at 0x7f924f3e9150>"
            ],
            "image/svg+xml": "<?xml version=\"1.0\" encoding=\"UTF-8\" standalone=\"no\"?>\n<!DOCTYPE svg PUBLIC \"-//W3C//DTD SVG 1.1//EN\"\n \"http://www.w3.org/Graphics/SVG/1.1/DTD/svg11.dtd\">\n<!-- Generated by graphviz version 2.40.1 (20161225.0304)\n -->\n<!-- Title: %3 Pages: 1 -->\n<svg width=\"242pt\" height=\"89pt\"\n viewBox=\"0.00 0.00 242.29 88.65\" xmlns=\"http://www.w3.org/2000/svg\" xmlns:xlink=\"http://www.w3.org/1999/xlink\">\n<g id=\"graph0\" class=\"graph\" transform=\"scale(1 1) rotate(0) translate(4 84.6465)\">\n<title>%3</title>\n<polygon fill=\"#ffffff\" stroke=\"transparent\" points=\"-4,4 -4,-84.6465 238.293,-84.6465 238.293,4 -4,4\"/>\n<!-- EMPTY -->\n<g id=\"node1\" class=\"node\">\n<title>EMPTY</title>\n</g>\n<!-- IF -->\n<g id=\"node2\" class=\"node\">\n<title>IF</title>\n<ellipse fill=\"none\" stroke=\"#000000\" cx=\"113.8483\" cy=\"-24.7982\" rx=\"18.724\" ry=\"18.724\"/>\n<ellipse fill=\"none\" stroke=\"#000000\" cx=\"113.8483\" cy=\"-24.7982\" rx=\"22.6977\" ry=\"22.6977\"/>\n<text text-anchor=\"middle\" x=\"113.8483\" y=\"-21.0982\" font-family=\"Times,serif\" font-size=\"14.00\" fill=\"#000000\">IF</text>\n</g>\n<!-- EMPTY&#45;&gt;IF -->\n<g id=\"edge1\" class=\"edge\">\n<title>EMPTY&#45;&gt;IF</title>\n<path fill=\"none\" stroke=\"#000000\" d=\"M54.0033,-24.7982C62.5212,-24.7982 72.0276,-24.7982 80.9112,-24.7982\"/>\n<polygon fill=\"#000000\" stroke=\"#000000\" points=\"80.9572,-28.2983 90.9572,-24.7982 80.9572,-21.2983 80.9572,-28.2983\"/>\n</g>\n<!-- IF&#45;&gt;IF -->\n<g id=\"edge2\" class=\"edge\">\n<title>IF&#45;&gt;IF</title>\n<path fill=\"none\" stroke=\"#000000\" d=\"M106.4966,-46.6514C105.6946,-56.789 108.1452,-65.6465 113.8483,-65.6465 117.5019,-65.6465 119.8206,-62.0114 120.8045,-56.7333\"/>\n<polygon fill=\"#000000\" stroke=\"#000000\" points=\"124.3052,-56.781 121.2,-46.6514 117.3106,-56.5065 124.3052,-56.781\"/>\n<text text-anchor=\"middle\" x=\"113.8483\" y=\"-69.4465\" font-family=\"Times,serif\" font-size=\"14.00\" fill=\"#000000\">&#39;&#39; </text>\n</g>\n<!-- F2 -->\n<g id=\"node3\" class=\"node\">\n<title>F2</title>\n<ellipse fill=\"none\" stroke=\"#000000\" cx=\"209.4948\" cy=\"-24.7982\" rx=\"20.6302\" ry=\"20.6302\"/>\n<ellipse fill=\"none\" stroke=\"#000000\" cx=\"209.4948\" cy=\"-24.7982\" rx=\"24.5979\" ry=\"24.5979\"/>\n<text text-anchor=\"middle\" x=\"209.4948\" y=\"-21.0982\" font-family=\"Times,serif\" font-size=\"14.00\" fill=\"#000000\">F2</text>\n</g>\n<!-- IF&#45;&gt;F2 -->\n<g id=\"edge3\" class=\"edge\">\n<title>IF&#45;&gt;F2</title>\n<path fill=\"none\" stroke=\"#000000\" d=\"M137.0017,-24.7982C148.2318,-24.7982 161.9613,-24.7982 174.4394,-24.7982\"/>\n<polygon fill=\"#000000\" stroke=\"#000000\" points=\"174.5444,-28.2983 184.5444,-24.7982 174.5443,-21.2983 174.5444,-28.2983\"/>\n<text text-anchor=\"middle\" x=\"160.6967\" y=\"-28.5982\" font-family=\"Times,serif\" font-size=\"14.00\" fill=\"#000000\">0 </text>\n</g>\n</g>\n</svg>\n"
          },
          "metadata": {},
          "execution_count": 37
        }
      ]
    },
    {
      "cell_type": "markdown",
      "metadata": {
        "id": "Z7LgHlIBf44z"
      },
      "source": [
        "### Part b: "
      ]
    },
    {
      "cell_type": "markdown",
      "metadata": {
        "id": "PCE53giWchF-"
      },
      "source": [
        "* Concatenate nfaEnds10 and nfaEps0 to obtain nfaEnds10Eps0. \n",
        "\n",
        "* Here is how the concatenation must be documented in the space below:\n",
        "\n",
        "* Put the transitions that came from \"nfaEnds10\" in the designated vacant space below. Make suitable state-name changes as described below.\n",
        "\n",
        "* Put the right number of epsilon-labeled Bridge Transitions connecting the final states of the first NFA (which would no longer be final) with the initial states of the second NFA (which would no longer be initial). \n",
        "\n",
        "* Put the transitions that came from nfaEps0 after that\n",
        "\n",
        "* Given that the first NFA potentially \"lost\" some final states while the second NFA \"lost\" some initial states, make suitable state name changes\n",
        "\n",
        "  - E.g. an Fx state may become an Sx state, for some 'x'\n",
        "  \n",
        "  - E.g. an IFy state may become an Fy state, for some 'y'\n"
      ]
    },
    {
      "cell_type": "markdown",
      "metadata": {
        "id": "woXQFm4TchF-"
      },
      "source": [
        "### Part c: \n",
        "- Define the concatenation NFA below.\n"
      ]
    },
    {
      "cell_type": "code",
      "metadata": {
        "id": "BZzwB3GtchF-",
        "run_control": {
          "frozen": false,
          "read_only": false
        }
      },
      "source": [
        "# Here is the resulting NFA\n",
        "\n",
        "nfaEnds10Eps0 = md2mc('''\n",
        "NFA  \n",
        "\n",
        "!! == nfaEnds10 transitions below, with suitable modifications ==\n",
        "\n",
        " \n",
        " \n",
        " !! -- Document the transition changes in the above list as follows, within comments --\n",
        " \n",
        " !! The original transition was ...\n",
        " !! This was changed to ... because some states are/are not   final / non-final  ...\n",
        " \n",
        "   \n",
        " \n",
        " !! == Bridge takes to the initial state of the second NFA is below ==\n",
        " \n",
        " \n",
        " !! The initial state of the second NFA was ...\n",
        " !! We change it suitably as follows ...\n",
        " \n",
        " \n",
        " !! == nfaEps0 transitions below, with suitable modifications ==\n",
        " \n",
        " \n",
        " \n",
        "''')"
      ],
      "execution_count": null,
      "outputs": []
    },
    {
      "cell_type": "markdown",
      "metadata": {
        "id": "_REraVK1chF_"
      },
      "source": [
        "### Part d: \n",
        "- Draw the concat NFA and convert to a DFA\n",
        "- Run the THREE commands below, and then move on to answer problem 3 \n",
        "based on the results you observe from these commands\n"
      ]
    },
    {
      "cell_type": "code",
      "metadata": {
        "id": "CiAqoF-TchF_"
      },
      "source": [
        "# command-1\n",
        "dotObj_nfa(nfaEnds10Eps0)"
      ],
      "execution_count": null,
      "outputs": []
    },
    {
      "cell_type": "code",
      "metadata": {
        "id": "FnaBzZn6chGA"
      },
      "source": [
        "# command-2\n",
        "\n",
        "dotObj_dfa(nfa2dfa(nfaEnds10Eps0, STATENAME_MAXSIZE=50), STATENAME_MAXSIZE=50)"
      ],
      "execution_count": null,
      "outputs": []
    },
    {
      "cell_type": "code",
      "metadata": {
        "id": "hazGkpuVchGA",
        "run_control": {
          "frozen": false,
          "read_only": false
        }
      },
      "source": [
        "# Let us see its internal representation -- this may give you hints for answering your question\n",
        "\n",
        "# \n",
        "\n",
        "nfaEnds10Eps0"
      ],
      "execution_count": null,
      "outputs": []
    },
    {
      "cell_type": "markdown",
      "metadata": {
        "id": "iUK68D5b6GH6"
      },
      "source": [
        "## Question 3:"
      ]
    },
    {
      "cell_type": "markdown",
      "metadata": {
        "id": "N7Cf9KQW6Jyz"
      },
      "source": [
        "- After converting the NFA nfaEnds10Eps0 to a DFA, we see new states and new state transitions. Explain the NFA2DFA algorithm by explaining the reason of the appearance of every state and their state transition.\n",
        "- For example: \n",
        "  - Explains why state X shows up after converting the NFA to DFA.\n",
        "  - Explain the state transition of state X to its neighbor states.\n",
        "  \n",
        "Here is a likely explanation (a few examples shown)\n",
        "\n",
        "\n",
        "* State ... in the DFA came from the NFA state ... after e-closure of the set of states .... This Eclosure results in ... . And state ... goes back to itself after a ...\n",
        "\n",
        "* Use suitable variants of this style of explaining each of the DFA transitions.\n",
        "\n",
        "* Use as many bullets as needed\n",
        "\n",
        "* === YOUR ANSWER BELOW ===\n",
        "\n",
        "*  "
      ]
    },
    {
      "cell_type": "markdown",
      "metadata": {
        "id": "u0KM6o1c7HzY"
      },
      "source": [
        "## Question 4:"
      ]
    },
    {
      "cell_type": "markdown",
      "metadata": {
        "id": "SJM1F3gt7Wta"
      },
      "source": [
        "### Brzozowski's minimization"
      ]
    },
    {
      "cell_type": "markdown",
      "metadata": {
        "id": "OZbe3pcr7ZqX"
      },
      "source": [
        "A DFA can be minimized simply by following the steps below (also refers to section 7.7). In this problem, you will practice those steps on an initial bloated DFA given to you.\n",
        "\n",
        "The steps are these:\n",
        "\n",
        "1. Reverse the given DFA, say DFA_bloated, to obtain an NFA called NFA1 (use the rev_dfa function)\n",
        "\n",
        "2. Determinize NFA1 to obtain a DFA called DFA2\n",
        "\n",
        "3. Reverse DFA2 to obtain another NFA, say NFA2\n",
        "\n",
        "4. Determinize NFA2 to obtain the final minimized DFA, say DFA_min\n",
        "\n",
        "Given a DFA_bloated below:"
      ]
    },
    {
      "cell_type": "code",
      "metadata": {
        "id": "aL6wOndVchGB"
      },
      "source": [
        "\n",
        "DFA_bloated = md2mc('''\n",
        "\n",
        "DFA\n",
        "\n",
        "IS1: a -> Temp\n",
        "IS1: b -> FS3\n",
        "\n",
        "Temp: a -> FS2\n",
        "Temp: b -> FS3\n",
        "\n",
        "FS2: a -> S4\n",
        "FS2: b -> S5\n",
        "\n",
        "FS3: a -> S5\n",
        "FS3: b -> S4\n",
        "\n",
        "S4: a|b -> FS6\n",
        "S5: a|b -> FS6\n",
        "\n",
        "FS6: a|b -> FS6\n",
        "\n",
        "''')"
      ],
      "execution_count": 11,
      "outputs": []
    },
    {
      "cell_type": "code",
      "metadata": {
        "id": "1SJCJTkzchGC",
        "outputId": "f0480991-23d9-4173-8f87-3c6a44a3c0f2",
        "colab": {
          "base_uri": "https://localhost:8080/",
          "height": 260
        }
      },
      "source": [
        "dotObj_dfa(DFA_bloated)"
      ],
      "execution_count": 12,
      "outputs": [
        {
          "output_type": "execute_result",
          "data": {
            "text/plain": [
              "<graphviz.dot.Digraph at 0x7f924f436bd0>"
            ],
            "image/svg+xml": "<?xml version=\"1.0\" encoding=\"UTF-8\" standalone=\"no\"?>\n<!DOCTYPE svg PUBLIC \"-//W3C//DTD SVG 1.1//EN\"\n \"http://www.w3.org/Graphics/SVG/1.1/DTD/svg11.dtd\">\n<!-- Generated by graphviz version 2.40.1 (20161225.0304)\n -->\n<!-- Title: %3 Pages: 1 -->\n<svg width=\"566pt\" height=\"179pt\"\n viewBox=\"0.00 0.00 566.28 179.30\" xmlns=\"http://www.w3.org/2000/svg\" xmlns:xlink=\"http://www.w3.org/1999/xlink\">\n<g id=\"graph0\" class=\"graph\" transform=\"scale(1 1) rotate(0) translate(4 175.2953)\">\n<title>%3</title>\n<polygon fill=\"#ffffff\" stroke=\"transparent\" points=\"-4,4 -4,-175.2953 562.2768,-175.2953 562.2768,4 -4,4\"/>\n<!-- EMPTY -->\n<g id=\"node1\" class=\"node\">\n<title>EMPTY</title>\n</g>\n<!-- IS1 -->\n<g id=\"node2\" class=\"node\">\n<title>IS1</title>\n<ellipse fill=\"none\" stroke=\"#000000\" cx=\"115.0479\" cy=\"-46.6476\" rx=\"24.0958\" ry=\"24.0958\"/>\n<text text-anchor=\"middle\" x=\"115.0479\" y=\"-42.9476\" font-family=\"Times,serif\" font-size=\"14.00\" fill=\"#000000\">IS1</text>\n</g>\n<!-- EMPTY&#45;&gt;IS1 -->\n<g id=\"edge1\" class=\"edge\">\n<title>EMPTY&#45;&gt;IS1</title>\n<path fill=\"none\" stroke=\"#000000\" d=\"M54.3763,-46.6476C62.7026,-46.6476 71.9607,-46.6476 80.6861,-46.6476\"/>\n<polygon fill=\"#000000\" stroke=\"#000000\" points=\"80.9666,-50.1477 90.9666,-46.6476 80.9665,-43.1477 80.9666,-50.1477\"/>\n</g>\n<!-- Temp -->\n<g id=\"node4\" class=\"node\">\n<title>Temp</title>\n<ellipse fill=\"none\" stroke=\"#000000\" cx=\"217.5928\" cy=\"-95.6476\" rx=\"32.4942\" ry=\"32.4942\"/>\n<text text-anchor=\"middle\" x=\"217.5928\" y=\"-91.9476\" font-family=\"Times,serif\" font-size=\"14.00\" fill=\"#000000\">Temp</text>\n</g>\n<!-- IS1&#45;&gt;Temp -->\n<g id=\"edge2\" class=\"edge\">\n<title>IS1&#45;&gt;Temp</title>\n<path fill=\"none\" stroke=\"#000000\" d=\"M136.795,-57.0393C149.0447,-62.8927 164.7053,-70.3759 178.9719,-77.193\"/>\n<polygon fill=\"#000000\" stroke=\"#000000\" points=\"177.5641,-80.3993 188.0959,-81.5529 180.5821,-74.0834 177.5641,-80.3993\"/>\n<text text-anchor=\"middle\" x=\"162.0957\" y=\"-74.4476\" font-family=\"Times,serif\" font-size=\"14.00\" fill=\"#000000\">a </text>\n</g>\n<!-- FS3 -->\n<g id=\"node8\" class=\"node\">\n<title>FS3</title>\n<ellipse fill=\"none\" stroke=\"#000000\" cx=\"328.7376\" cy=\"-30.6476\" rx=\"26.7766\" ry=\"26.7766\"/>\n<ellipse fill=\"none\" stroke=\"#000000\" cx=\"328.7376\" cy=\"-30.6476\" rx=\"30.796\" ry=\"30.796\"/>\n<text text-anchor=\"middle\" x=\"328.7376\" y=\"-26.9476\" font-family=\"Times,serif\" font-size=\"14.00\" fill=\"#000000\">FS3</text>\n</g>\n<!-- IS1&#45;&gt;FS3 -->\n<g id=\"edge3\" class=\"edge\">\n<title>IS1&#45;&gt;FS3</title>\n<path fill=\"none\" stroke=\"#000000\" d=\"M139.0185,-44.0306C152.5382,-42.6102 169.747,-40.895 185.0957,-39.6476 219.6976,-36.8357 259.0506,-34.425 287.8057,-32.8083\"/>\n<polygon fill=\"#000000\" stroke=\"#000000\" points=\"288.1007,-36.2974 297.8917,-32.2493 287.7133,-29.3082 288.1007,-36.2974\"/>\n<text text-anchor=\"middle\" x=\"217.5928\" y=\"-43.4476\" font-family=\"Times,serif\" font-size=\"14.00\" fill=\"#000000\">b </text>\n</g>\n<!-- S5 -->\n<g id=\"node3\" class=\"node\">\n<title>S5</title>\n<ellipse fill=\"none\" stroke=\"#000000\" cx=\"428.1834\" cy=\"-108.6476\" rx=\"20.5982\" ry=\"20.5982\"/>\n<text text-anchor=\"middle\" x=\"428.1834\" y=\"-104.9476\" font-family=\"Times,serif\" font-size=\"14.00\" fill=\"#000000\">S5</text>\n</g>\n<!-- FS6 -->\n<g id=\"node6\" class=\"node\">\n<title>FS6</title>\n<ellipse fill=\"none\" stroke=\"#000000\" cx=\"527.6292\" cy=\"-74.6476\" rx=\"26.7766\" ry=\"26.7766\"/>\n<ellipse fill=\"none\" stroke=\"#000000\" cx=\"527.6292\" cy=\"-74.6476\" rx=\"30.796\" ry=\"30.796\"/>\n<text text-anchor=\"middle\" x=\"527.6292\" y=\"-70.9476\" font-family=\"Times,serif\" font-size=\"14.00\" fill=\"#000000\">FS6</text>\n</g>\n<!-- S5&#45;&gt;FS6 -->\n<g id=\"edge12\" class=\"edge\">\n<title>S5&#45;&gt;FS6</title>\n<path fill=\"none\" stroke=\"#000000\" d=\"M448.8987,-112.077C458.2905,-112.8719 469.4108,-112.7328 478.9815,-109.6476 485.0903,-107.6785 491.0797,-104.6261 496.6527,-101.1268\"/>\n<polygon fill=\"#000000\" stroke=\"#000000\" points=\"498.7806,-103.9109 505.0247,-95.3515 494.8058,-98.1489 498.7806,-103.9109\"/>\n<text text-anchor=\"middle\" x=\"472.9815\" y=\"-115.4476\" font-family=\"Times,serif\" font-size=\"14.00\" fill=\"#000000\">a </text>\n</g>\n<!-- S5&#45;&gt;FS6 -->\n<g id=\"edge13\" class=\"edge\">\n<title>S5&#45;&gt;FS6</title>\n<path fill=\"none\" stroke=\"#000000\" d=\"M446.8475,-99.1772C453.1436,-96.2021 460.276,-93.0662 466.9815,-90.6476 473.5885,-88.2646 480.7162,-86.0667 487.6827,-84.1119\"/>\n<polygon fill=\"#000000\" stroke=\"#000000\" points=\"488.9416,-87.3981 497.6947,-81.4286 487.1295,-80.6367 488.9416,-87.3981\"/>\n<text text-anchor=\"middle\" x=\"472.9815\" y=\"-94.4476\" font-family=\"Times,serif\" font-size=\"14.00\" fill=\"#000000\">b </text>\n</g>\n<!-- FS2 -->\n<g id=\"node7\" class=\"node\">\n<title>FS2</title>\n<ellipse fill=\"none\" stroke=\"#000000\" cx=\"328.7376\" cy=\"-109.6476\" rx=\"26.7766\" ry=\"26.7766\"/>\n<ellipse fill=\"none\" stroke=\"#000000\" cx=\"328.7376\" cy=\"-109.6476\" rx=\"30.796\" ry=\"30.796\"/>\n<text text-anchor=\"middle\" x=\"328.7376\" y=\"-105.9476\" font-family=\"Times,serif\" font-size=\"14.00\" fill=\"#000000\">FS2</text>\n</g>\n<!-- Temp&#45;&gt;FS2 -->\n<g id=\"edge4\" class=\"edge\">\n<title>Temp&#45;&gt;FS2</title>\n<path fill=\"none\" stroke=\"#000000\" d=\"M250.0393,-99.7347C261.8529,-101.2227 275.3636,-102.9245 287.8171,-104.4932\"/>\n<polygon fill=\"#000000\" stroke=\"#000000\" points=\"287.6099,-107.9947 297.969,-105.772 288.4848,-101.0496 287.6099,-107.9947\"/>\n<text text-anchor=\"middle\" x=\"274.09\" y=\"-106.4476\" font-family=\"Times,serif\" font-size=\"14.00\" fill=\"#000000\">a </text>\n</g>\n<!-- Temp&#45;&gt;FS3 -->\n<g id=\"edge5\" class=\"edge\">\n<title>Temp&#45;&gt;FS3</title>\n<path fill=\"none\" stroke=\"#000000\" d=\"M245.9269,-79.0772C260.3356,-70.6507 277.9898,-60.3261 293.2906,-51.3778\"/>\n<polygon fill=\"#000000\" stroke=\"#000000\" points=\"295.12,-54.3626 301.9853,-46.293 291.5862,-48.3201 295.12,-54.3626\"/>\n<text text-anchor=\"middle\" x=\"274.09\" y=\"-69.4476\" font-family=\"Times,serif\" font-size=\"14.00\" fill=\"#000000\">b </text>\n</g>\n<!-- S4 -->\n<g id=\"node5\" class=\"node\">\n<title>S4</title>\n<ellipse fill=\"none\" stroke=\"#000000\" cx=\"428.1834\" cy=\"-40.6476\" rx=\"20.5982\" ry=\"20.5982\"/>\n<text text-anchor=\"middle\" x=\"428.1834\" y=\"-36.9476\" font-family=\"Times,serif\" font-size=\"14.00\" fill=\"#000000\">S4</text>\n</g>\n<!-- S4&#45;&gt;FS6 -->\n<g id=\"edge10\" class=\"edge\">\n<title>S4&#45;&gt;FS6</title>\n<path fill=\"none\" stroke=\"#000000\" d=\"M448.5277,-46.8043C457.8446,-49.6882 469.0088,-53.2344 478.9815,-56.6476 482.3204,-57.7904 485.777,-59.0051 489.237,-60.2429\"/>\n<polygon fill=\"#000000\" stroke=\"#000000\" points=\"488.3082,-63.6291 498.9024,-63.752 490.6971,-57.0494 488.3082,-63.6291\"/>\n<text text-anchor=\"middle\" x=\"472.9815\" y=\"-60.4476\" font-family=\"Times,serif\" font-size=\"14.00\" fill=\"#000000\">a </text>\n</g>\n<!-- S4&#45;&gt;FS6 -->\n<g id=\"edge11\" class=\"edge\">\n<title>S4&#45;&gt;FS6</title>\n<path fill=\"none\" stroke=\"#000000\" d=\"M448.443,-34.1092C457.9449,-32.0789 469.284,-31.1727 478.9815,-34.6476 485.9167,-37.1327 492.571,-41.0803 498.6119,-45.5486\"/>\n<polygon fill=\"#000000\" stroke=\"#000000\" points=\"496.4612,-48.3105 506.4381,-51.8758 500.8621,-42.867 496.4612,-48.3105\"/>\n<text text-anchor=\"middle\" x=\"472.9815\" y=\"-38.4476\" font-family=\"Times,serif\" font-size=\"14.00\" fill=\"#000000\">b </text>\n</g>\n<!-- FS6&#45;&gt;FS6 -->\n<g id=\"edge14\" class=\"edge\">\n<title>FS6&#45;&gt;FS6</title>\n<path fill=\"none\" stroke=\"#000000\" d=\"M522.5667,-105.0524C522.5667,-115.1873 524.2542,-123.2953 527.6292,-123.2953 529.7386,-123.2953 531.1888,-120.1281 531.9798,-115.2784\"/>\n<polygon fill=\"#000000\" stroke=\"#000000\" points=\"535.4886,-115.2714 532.6917,-105.0524 528.5055,-114.7852 535.4886,-115.2714\"/>\n<text text-anchor=\"middle\" x=\"527.6292\" y=\"-127.0953\" font-family=\"Times,serif\" font-size=\"14.00\" fill=\"#000000\">a </text>\n</g>\n<!-- FS6&#45;&gt;FS6 -->\n<g id=\"edge15\" class=\"edge\">\n<title>FS6&#45;&gt;FS6</title>\n<path fill=\"none\" stroke=\"#000000\" d=\"M518.3051,-104.1134C515.8727,-123.0605 518.9807,-141.2953 527.6292,-141.2953 534.7236,-141.2953 538.0898,-129.0248 537.7278,-114.1564\"/>\n<polygon fill=\"#000000\" stroke=\"#000000\" points=\"541.2119,-113.8146 536.9533,-104.1134 534.2327,-114.3529 541.2119,-113.8146\"/>\n<text text-anchor=\"middle\" x=\"527.6292\" y=\"-145.0953\" font-family=\"Times,serif\" font-size=\"14.00\" fill=\"#000000\">b </text>\n</g>\n<!-- FS2&#45;&gt;S5 -->\n<g id=\"edge7\" class=\"edge\">\n<title>FS2&#45;&gt;S5</title>\n<path fill=\"none\" stroke=\"#000000\" d=\"M359.3861,-109.3394C371.392,-109.2187 385.1468,-109.0804 397.1863,-108.9593\"/>\n<polygon fill=\"#000000\" stroke=\"#000000\" points=\"397.2735,-112.4587 407.2378,-108.8583 397.203,-105.4591 397.2735,-112.4587\"/>\n<text text-anchor=\"middle\" x=\"383.3852\" y=\"-112.4476\" font-family=\"Times,serif\" font-size=\"14.00\" fill=\"#000000\">b </text>\n</g>\n<!-- FS2&#45;&gt;S4 -->\n<g id=\"edge6\" class=\"edge\">\n<title>FS2&#45;&gt;S4</title>\n<path fill=\"none\" stroke=\"#000000\" d=\"M354.1233,-92.0865C364.9875,-84.566 377.8124,-75.6817 389.3852,-67.6476 393.6574,-64.6818 398.1921,-61.5297 402.5976,-58.4653\"/>\n<polygon fill=\"#000000\" stroke=\"#000000\" points=\"404.598,-61.3374 410.807,-52.7526 400.5996,-55.5917 404.598,-61.3374\"/>\n<text text-anchor=\"middle\" x=\"383.3852\" y=\"-79.4476\" font-family=\"Times,serif\" font-size=\"14.00\" fill=\"#000000\">a </text>\n</g>\n<!-- FS3&#45;&gt;S5 -->\n<g id=\"edge8\" class=\"edge\">\n<title>FS3&#45;&gt;S5</title>\n<path fill=\"none\" stroke=\"#000000\" d=\"M359.0583,-35.2208C369.4158,-37.8788 380.5932,-42.0653 389.3852,-48.6476 395.6168,-53.313 405.0636,-67.8254 413.0752,-81.4082\"/>\n<polygon fill=\"#000000\" stroke=\"#000000\" points=\"410.0542,-83.1758 418.0846,-90.0869 416.1168,-79.6764 410.0542,-83.1758\"/>\n<text text-anchor=\"middle\" x=\"383.3852\" y=\"-52.4476\" font-family=\"Times,serif\" font-size=\"14.00\" fill=\"#000000\">a </text>\n</g>\n<!-- FS3&#45;&gt;S4 -->\n<g id=\"edge9\" class=\"edge\">\n<title>FS3&#45;&gt;S4</title>\n<path fill=\"none\" stroke=\"#000000\" d=\"M356.3334,-16.837C366.7408,-13.3373 378.6544,-11.3845 389.3852,-14.6476 394.3962,-16.1714 399.3485,-18.5815 403.9528,-21.3336\"/>\n<polygon fill=\"#000000\" stroke=\"#000000\" points=\"402.0409,-24.2655 412.3018,-26.9045 405.9262,-18.4427 402.0409,-24.2655\"/>\n<text text-anchor=\"middle\" x=\"383.3852\" y=\"-18.4476\" font-family=\"Times,serif\" font-size=\"14.00\" fill=\"#000000\">b </text>\n</g>\n</g>\n</svg>\n"
          },
          "metadata": {},
          "execution_count": 12
        }
      ]
    },
    {
      "cell_type": "markdown",
      "metadata": {
        "id": "KC3OV6sbchGD"
      },
      "source": [
        "### Part a: Reverse the above DFA"
      ]
    },
    {
      "cell_type": "code",
      "metadata": {
        "id": "mErYqdkGchGD",
        "outputId": "f46f9eba-533c-4b9d-d020-a1d8bba5753a",
        "colab": {
          "base_uri": "https://localhost:8080/"
        }
      },
      "source": [
        "help(rev_dfa)"
      ],
      "execution_count": 17,
      "outputs": [
        {
          "output_type": "stream",
          "name": "stdout",
          "text": [
            "Help on function rev_dfa in module jove.Def_NFA:\n",
            "\n",
            "rev_dfa(D)\n",
            "    In : D = a partially consistent DFA without any unreachable states.\n",
            "    Out: A consistent NFA whose language is D's language reversed.\n",
            "\n"
          ]
        }
      ]
    },
    {
      "cell_type": "code",
      "metadata": {
        "id": "PRTxx_3rchGE"
      },
      "source": [
        "# Reverse DFA_bloated here\n",
        "NFA1 =  rev_dfa(DFA_bloated)\n",
        "\n",
        " "
      ],
      "execution_count": 18,
      "outputs": []
    },
    {
      "cell_type": "code",
      "metadata": {
        "id": "TFIZ9qDmchGE",
        "outputId": "c4ae392f-3a45-4224-9549-5cda256c1229",
        "colab": {
          "base_uri": "https://localhost:8080/",
          "height": 253
        }
      },
      "source": [
        "dotObj_nfa(NFA1)"
      ],
      "execution_count": 19,
      "outputs": [
        {
          "output_type": "execute_result",
          "data": {
            "text/plain": [
              "<graphviz.dot.Digraph at 0x7f924f3f6810>"
            ],
            "image/svg+xml": "<?xml version=\"1.0\" encoding=\"UTF-8\" standalone=\"no\"?>\n<!DOCTYPE svg PUBLIC \"-//W3C//DTD SVG 1.1//EN\"\n \"http://www.w3.org/Graphics/SVG/1.1/DTD/svg11.dtd\">\n<!-- Generated by graphviz version 2.40.1 (20161225.0304)\n -->\n<!-- Title: %3 Pages: 1 -->\n<svg width=\"558pt\" height=\"174pt\"\n viewBox=\"0.00 0.00 558.28 173.59\" xmlns=\"http://www.w3.org/2000/svg\" xmlns:xlink=\"http://www.w3.org/1999/xlink\">\n<g id=\"graph0\" class=\"graph\" transform=\"scale(1 1) rotate(0) translate(4 169.5926)\">\n<title>%3</title>\n<polygon fill=\"#ffffff\" stroke=\"transparent\" points=\"-4,4 -4,-169.5926 554.2768,-169.5926 554.2768,4 -4,4\"/>\n<!-- EMPTY -->\n<g id=\"node1\" class=\"node\">\n<title>EMPTY</title>\n</g>\n<!-- FS6 -->\n<g id=\"node4\" class=\"node\">\n<title>FS6</title>\n<ellipse fill=\"none\" stroke=\"#000000\" cx=\"117.6476\" cy=\"-46.6476\" rx=\"26.7961\" ry=\"26.7961\"/>\n<text text-anchor=\"middle\" x=\"117.6476\" y=\"-42.9476\" font-family=\"Times,serif\" font-size=\"14.00\" fill=\"#000000\">FS6</text>\n</g>\n<!-- EMPTY&#45;&gt;FS6 -->\n<g id=\"edge1\" class=\"edge\">\n<title>EMPTY&#45;&gt;FS6</title>\n<path fill=\"none\" stroke=\"#000000\" d=\"M54.1973,-46.6476C62.5185,-46.6476 71.8156,-46.6476 80.6723,-46.6476\"/>\n<polygon fill=\"#000000\" stroke=\"#000000\" points=\"80.782,-50.1477 90.7819,-46.6476 80.7819,-43.1477 80.782,-50.1477\"/>\n</g>\n<!-- FS2 -->\n<g id=\"node5\" class=\"node\">\n<title>FS2</title>\n<ellipse fill=\"none\" stroke=\"#000000\" cx=\"308.5392\" cy=\"-129.6476\" rx=\"26.7961\" ry=\"26.7961\"/>\n<text text-anchor=\"middle\" x=\"308.5392\" y=\"-125.9476\" font-family=\"Times,serif\" font-size=\"14.00\" fill=\"#000000\">FS2</text>\n</g>\n<!-- EMPTY&#45;&gt;FS2 -->\n<g id=\"edge2\" class=\"edge\">\n<title>EMPTY&#45;&gt;FS2</title>\n<path fill=\"none\" stroke=\"#000000\" d=\"M32.2719,-64.6765C40.4207,-88.8339 58.62,-130.7383 91,-148.6476 148.9832,-180.718 229.1938,-160.1405 274.2528,-143.8555\"/>\n<polygon fill=\"#000000\" stroke=\"#000000\" points=\"275.7129,-147.0461 283.8483,-140.2589 273.256,-140.4914 275.7129,-147.0461\"/>\n</g>\n<!-- FS3 -->\n<g id=\"node7\" class=\"node\">\n<title>FS3</title>\n<ellipse fill=\"none\" stroke=\"#000000\" cx=\"308.5392\" cy=\"-26.6476\" rx=\"26.7961\" ry=\"26.7961\"/>\n<text text-anchor=\"middle\" x=\"308.5392\" y=\"-22.9476\" font-family=\"Times,serif\" font-size=\"14.00\" fill=\"#000000\">FS3</text>\n</g>\n<!-- EMPTY&#45;&gt;FS3 -->\n<g id=\"edge3\" class=\"edge\">\n<title>EMPTY&#45;&gt;FS3</title>\n<path fill=\"none\" stroke=\"#000000\" d=\"M52.1628,-28.5339C63.461,-21.4778 77.3112,-14.2334 91,-10.6476 153.4024,5.6987 229.0776,-6.793 272.7325,-16.9824\"/>\n<polygon fill=\"#000000\" stroke=\"#000000\" points=\"272.0479,-20.4178 282.591,-19.3726 273.6973,-13.6149 272.0479,-20.4178\"/>\n</g>\n<!-- S5 -->\n<g id=\"node2\" class=\"node\">\n<title>S5</title>\n<ellipse fill=\"none\" stroke=\"#000000\" cx=\"213.0934\" cy=\"-44.6476\" rx=\"20.5982\" ry=\"20.5982\"/>\n<text text-anchor=\"middle\" x=\"213.0934\" y=\"-40.9476\" font-family=\"Times,serif\" font-size=\"14.00\" fill=\"#000000\">S5</text>\n</g>\n<!-- S5&#45;&gt;FS2 -->\n<g id=\"edge5\" class=\"edge\">\n<title>S5&#45;&gt;FS2</title>\n<path fill=\"none\" stroke=\"#000000\" d=\"M233.9061,-44.9045C243.7532,-45.9339 255.2232,-48.536 263.8916,-54.6476 277.9114,-64.5323 288.2626,-80.3405 295.4481,-94.9007\"/>\n<polygon fill=\"#000000\" stroke=\"#000000\" points=\"292.3693,-96.5834 299.7197,-104.2137 298.732,-93.665 292.3693,-96.5834\"/>\n<text text-anchor=\"middle\" x=\"257.8916\" y=\"-58.4476\" font-family=\"Times,serif\" font-size=\"14.00\" fill=\"#000000\">b </text>\n</g>\n<!-- S5&#45;&gt;FS3 -->\n<g id=\"edge4\" class=\"edge\">\n<title>S5&#45;&gt;FS3</title>\n<path fill=\"none\" stroke=\"#000000\" d=\"M229.5048,-31.6945C236.0796,-27.2834 243.9684,-22.9002 251.8916,-20.6476 258.3216,-18.8196 265.3053,-18.3752 272.1021,-18.7113\"/>\n<polygon fill=\"#000000\" stroke=\"#000000\" points=\"272.2139,-22.2417 282.5224,-19.795 272.9381,-15.2792 272.2139,-22.2417\"/>\n<text text-anchor=\"middle\" x=\"257.8916\" y=\"-24.4476\" font-family=\"Times,serif\" font-size=\"14.00\" fill=\"#000000\">a </text>\n</g>\n<!-- S4 -->\n<g id=\"node3\" class=\"node\">\n<title>S4</title>\n<ellipse fill=\"none\" stroke=\"#000000\" cx=\"213.0934\" cy=\"-104.6476\" rx=\"20.5982\" ry=\"20.5982\"/>\n<text text-anchor=\"middle\" x=\"213.0934\" y=\"-100.9476\" font-family=\"Times,serif\" font-size=\"14.00\" fill=\"#000000\">S4</text>\n</g>\n<!-- S4&#45;&gt;FS2 -->\n<g id=\"edge6\" class=\"edge\">\n<title>S4&#45;&gt;FS2</title>\n<path fill=\"none\" stroke=\"#000000\" d=\"M233.335,-109.9495C244.7598,-112.942 259.3721,-116.7694 272.6726,-120.2531\"/>\n<polygon fill=\"#000000\" stroke=\"#000000\" points=\"271.9529,-123.6826 282.5134,-122.8307 273.7266,-116.9111 271.9529,-123.6826\"/>\n<text text-anchor=\"middle\" x=\"257.8916\" y=\"-121.4476\" font-family=\"Times,serif\" font-size=\"14.00\" fill=\"#000000\">a </text>\n</g>\n<!-- S4&#45;&gt;FS3 -->\n<g id=\"edge7\" class=\"edge\">\n<title>S4&#45;&gt;FS3</title>\n<path fill=\"none\" stroke=\"#000000\" d=\"M231.734,-94.8425C241.6962,-89.223 253.9259,-81.6982 263.8916,-73.6476 270.8133,-68.0561 277.7182,-61.4354 283.9564,-54.9546\"/>\n<polygon fill=\"#000000\" stroke=\"#000000\" points=\"286.6681,-57.1788 290.9344,-47.4809 281.5516,-52.4016 286.6681,-57.1788\"/>\n<text text-anchor=\"middle\" x=\"257.8916\" y=\"-85.4476\" font-family=\"Times,serif\" font-size=\"14.00\" fill=\"#000000\">b </text>\n</g>\n<!-- FS6&#45;&gt;S5 -->\n<g id=\"edge9\" class=\"edge\">\n<title>FS6&#45;&gt;S5</title>\n<path fill=\"none\" stroke=\"#000000\" d=\"M138.6491,-29.4711C145.7324,-24.6811 153.9648,-20.1156 162.2953,-17.6476 171.819,-14.8261 181.6096,-18.2718 190.0224,-23.541\"/>\n<polygon fill=\"#000000\" stroke=\"#000000\" points=\"188.0762,-26.4534 198.2218,-29.506 192.1942,-20.7928 188.0762,-26.4534\"/>\n<text text-anchor=\"middle\" x=\"168.2953\" y=\"-21.4476\" font-family=\"Times,serif\" font-size=\"14.00\" fill=\"#000000\">a </text>\n</g>\n<!-- FS6&#45;&gt;S5 -->\n<g id=\"edge12\" class=\"edge\">\n<title>FS6&#45;&gt;S5</title>\n<path fill=\"none\" stroke=\"#000000\" d=\"M144.4886,-46.0852C156.1735,-45.8404 169.9389,-45.5519 182.0606,-45.2979\"/>\n<polygon fill=\"#000000\" stroke=\"#000000\" points=\"182.2719,-48.7943 192.1963,-45.0855 182.1251,-41.7959 182.2719,-48.7943\"/>\n<text text-anchor=\"middle\" x=\"168.2953\" y=\"-49.4476\" font-family=\"Times,serif\" font-size=\"14.00\" fill=\"#000000\">b </text>\n</g>\n<!-- FS6&#45;&gt;S4 -->\n<g id=\"edge10\" class=\"edge\">\n<title>FS6&#45;&gt;S4</title>\n<path fill=\"none\" stroke=\"#000000\" d=\"M140.7524,-60.6878C154.5106,-69.0483 172.028,-79.6932 186.3788,-88.4138\"/>\n<polygon fill=\"#000000\" stroke=\"#000000\" points=\"184.9172,-91.6212 195.2807,-93.8233 188.5525,-85.6391 184.9172,-91.6212\"/>\n<text text-anchor=\"middle\" x=\"168.2953\" y=\"-84.4476\" font-family=\"Times,serif\" font-size=\"14.00\" fill=\"#000000\">a </text>\n</g>\n<!-- FS6&#45;&gt;S4 -->\n<g id=\"edge13\" class=\"edge\">\n<title>FS6&#45;&gt;S4</title>\n<path fill=\"none\" stroke=\"#000000\" d=\"M131.2442,-69.9362C138.9102,-80.8585 149.519,-92.9242 162.2953,-99.6476 168.2651,-102.7892 175.1764,-104.5045 181.9412,-105.364\"/>\n<polygon fill=\"#000000\" stroke=\"#000000\" points=\"182.074,-108.8819 192.295,-106.0922 182.5652,-101.8992 182.074,-108.8819\"/>\n<text text-anchor=\"middle\" x=\"168.2953\" y=\"-107.4476\" font-family=\"Times,serif\" font-size=\"14.00\" fill=\"#000000\">b </text>\n</g>\n<!-- FS6&#45;&gt;FS6 -->\n<g id=\"edge8\" class=\"edge\">\n<title>FS6&#45;&gt;FS6</title>\n<path fill=\"none\" stroke=\"#000000\" d=\"M113.5317,-73.2327C113.3968,-83.14 114.7687,-91.2953 117.6476,-91.2953 119.447,-91.2953 120.6576,-88.1096 121.2797,-83.3016\"/>\n<polygon fill=\"#000000\" stroke=\"#000000\" points=\"124.7794,-83.3892 121.7636,-73.2327 117.7875,-83.0531 124.7794,-83.3892\"/>\n<text text-anchor=\"middle\" x=\"117.6476\" y=\"-95.0953\" font-family=\"Times,serif\" font-size=\"14.00\" fill=\"#000000\">a </text>\n</g>\n<!-- FS6&#45;&gt;FS6 -->\n<g id=\"edge11\" class=\"edge\">\n<title>FS6&#45;&gt;FS6</title>\n<path fill=\"none\" stroke=\"#000000\" d=\"M110.2859,-72.3883C107.889,-90.8777 110.3429,-109.2953 117.6476,-109.2953 123.5827,-109.2953 126.3155,-97.1368 125.846,-82.6601\"/>\n<polygon fill=\"#000000\" stroke=\"#000000\" points=\"129.3097,-82.0711 125.0094,-72.3883 122.3328,-82.6394 129.3097,-82.0711\"/>\n<text text-anchor=\"middle\" x=\"117.6476\" y=\"-113.0953\" font-family=\"Times,serif\" font-size=\"14.00\" fill=\"#000000\">b </text>\n</g>\n<!-- Temp -->\n<g id=\"node6\" class=\"node\">\n<title>Temp</title>\n<ellipse fill=\"none\" stroke=\"#000000\" cx=\"415.684\" cy=\"-91.6476\" rx=\"32.4942\" ry=\"32.4942\"/>\n<text text-anchor=\"middle\" x=\"415.684\" y=\"-87.9476\" font-family=\"Times,serif\" font-size=\"14.00\" fill=\"#000000\">Temp</text>\n</g>\n<!-- FS2&#45;&gt;Temp -->\n<g id=\"edge14\" class=\"edge\">\n<title>FS2&#45;&gt;Temp</title>\n<path fill=\"none\" stroke=\"#000000\" d=\"M333.6599,-120.7383C346.1233,-116.3181 361.481,-110.8713 375.5244,-105.8907\"/>\n<polygon fill=\"#000000\" stroke=\"#000000\" points=\"376.7302,-109.1767 384.9851,-102.5353 374.3903,-102.5793 376.7302,-109.1767\"/>\n<text text-anchor=\"middle\" x=\"359.1869\" y=\"-116.4476\" font-family=\"Times,serif\" font-size=\"14.00\" fill=\"#000000\">a </text>\n</g>\n<!-- IS1 -->\n<g id=\"node8\" class=\"node\">\n<title>IS1</title>\n<ellipse fill=\"none\" stroke=\"#000000\" cx=\"522.229\" cy=\"-42.6476\" rx=\"24.089\" ry=\"24.089\"/>\n<ellipse fill=\"none\" stroke=\"#000000\" cx=\"522.229\" cy=\"-42.6476\" rx=\"28.0958\" ry=\"28.0958\"/>\n<text text-anchor=\"middle\" x=\"522.229\" y=\"-38.9476\" font-family=\"Times,serif\" font-size=\"14.00\" fill=\"#000000\">IS1</text>\n</g>\n<!-- Temp&#45;&gt;IS1 -->\n<g id=\"edge15\" class=\"edge\">\n<title>Temp&#45;&gt;IS1</title>\n<path fill=\"none\" stroke=\"#000000\" d=\"M445.3627,-77.9984C458.4702,-71.9703 473.9658,-64.8438 487.5979,-58.5745\"/>\n<polygon fill=\"#000000\" stroke=\"#000000\" points=\"489.0627,-61.7533 496.6855,-54.3951 486.1378,-55.3936 489.0627,-61.7533\"/>\n<text text-anchor=\"middle\" x=\"471.1811\" y=\"-70.4476\" font-family=\"Times,serif\" font-size=\"14.00\" fill=\"#000000\">a </text>\n</g>\n<!-- FS3&#45;&gt;Temp -->\n<g id=\"edge17\" class=\"edge\">\n<title>FS3&#45;&gt;Temp</title>\n<path fill=\"none\" stroke=\"#000000\" d=\"M331.5245,-40.5918C345.3,-48.9488 363.1335,-59.7676 378.8361,-69.2937\"/>\n<polygon fill=\"#000000\" stroke=\"#000000\" points=\"377.4235,-72.5304 387.7886,-74.7248 381.0543,-66.5456 377.4235,-72.5304\"/>\n<text text-anchor=\"middle\" x=\"359.1869\" y=\"-62.4476\" font-family=\"Times,serif\" font-size=\"14.00\" fill=\"#000000\">b </text>\n</g>\n<!-- FS3&#45;&gt;IS1 -->\n<g id=\"edge16\" class=\"edge\">\n<title>FS3&#45;&gt;IS1</title>\n<path fill=\"none\" stroke=\"#000000\" d=\"M335.3266,-28.1357C363.4502,-29.7538 408.949,-32.5297 448.1811,-35.6476 459.8104,-36.5719 472.4537,-37.7156 483.9469,-38.8087\"/>\n<polygon fill=\"#000000\" stroke=\"#000000\" points=\"483.8264,-42.3133 494.1166,-39.7907 484.4993,-35.3457 483.8264,-42.3133\"/>\n<text text-anchor=\"middle\" x=\"415.684\" y=\"-39.4476\" font-family=\"Times,serif\" font-size=\"14.00\" fill=\"#000000\">b </text>\n</g>\n</g>\n</svg>\n"
          },
          "metadata": {},
          "execution_count": 19
        }
      ]
    },
    {
      "cell_type": "markdown",
      "metadata": {
        "id": "i3z_4SNxfyYm"
      },
      "source": [
        "### Part b: Check that NFA1 is indeed the reverse of DFA_bloated"
      ]
    },
    {
      "cell_type": "markdown",
      "metadata": {
        "id": "wMFFSS0UchGE"
      },
      "source": [
        "Note: \"aabba\" is in DFA_bloated's language but its reversal (i.e. \"abbaa\") is in NFA1's language\n",
        "\n",
        "#### Which path does abbaa take in being accepted by NFA1 ?\n",
        "\n",
        "\n",
        "* == YOUR ANSWER BELOW ==\n",
        "\n",
        "* Starting from State { FS6, FS2, FS3 }\n",
        "\n",
        "* The next state after 'a' is { FS6, S4, S5, Temp }\n",
        "\n",
        "* The next state after 'b' is { FS6, S4, S5, FS2, FS3 }\n",
        "\n",
        "* The next state after 'b' is { FS6, S4, S5, FS3, FS2, Temp, IS1 }\n",
        "\n",
        "* The next state after 'a' is { FS6, S4, S5, FS2, FS3, Temp, IS1 }\n",
        "\n",
        "* The next state after 'a' is ...  { FS6, S4, S5, FS2, FS3, Temp, IS1 }  -- which is a final state, because it contains a \"double-circled state\". It is possible that this state name does not begin with \"F\" because since we reversed the initial DFA, some \"I\" states would now be a final state. This is OK.\n",
        "\n"
      ]
    },
    {
      "cell_type": "markdown",
      "metadata": {
        "id": "OJ7YfwVdchGE"
      },
      "source": [
        "### Part c: Determinize NFA1 to obtain DFA2"
      ]
    },
    {
      "cell_type": "code",
      "metadata": {
        "id": "S9NCKwaQchGE",
        "outputId": "5a18e8cc-c845-48df-c247-a2096a9e2f3a",
        "colab": {
          "base_uri": "https://localhost:8080/"
        }
      },
      "source": [
        "help(nfa2dfa)"
      ],
      "execution_count": 20,
      "outputs": [
        {
          "output_type": "stream",
          "name": "stdout",
          "text": [
            "Help on function nfa2dfa in module jove.Def_NFA:\n",
            "\n",
            "nfa2dfa(N, STATENAME_MAXSIZE=20)\n",
            "    In : N (consistent NFA), and optional STATENAME_MAXSIZE\n",
            "         for the generated DFA states\n",
            "    Out: A consistent DFA that is language-equivalent to N.\n",
            "\n"
          ]
        }
      ]
    },
    {
      "cell_type": "code",
      "metadata": {
        "id": "rsAlpHIKchGF"
      },
      "source": [
        "DFA2 = nfa2dfa(NFA1)\n",
        " "
      ],
      "execution_count": 21,
      "outputs": []
    },
    {
      "cell_type": "code",
      "metadata": {
        "id": "OVQHj1W_chGF",
        "outputId": "716ad1d2-5c2e-4709-b4a4-37242b589609",
        "colab": {
          "base_uri": "https://localhost:8080/",
          "height": 241
        }
      },
      "source": [
        "dotObj_dfa(DFA2)"
      ],
      "execution_count": 22,
      "outputs": [
        {
          "output_type": "execute_result",
          "data": {
            "text/plain": [
              "<graphviz.dot.Digraph at 0x7f924f40c710>"
            ],
            "image/svg+xml": "<?xml version=\"1.0\" encoding=\"UTF-8\" standalone=\"no\"?>\n<!DOCTYPE svg PUBLIC \"-//W3C//DTD SVG 1.1//EN\"\n \"http://www.w3.org/Graphics/SVG/1.1/DTD/svg11.dtd\">\n<!-- Generated by graphviz version 2.40.1 (20161225.0304)\n -->\n<!-- Title: %3 Pages: 1 -->\n<svg width=\"547pt\" height=\"165pt\"\n viewBox=\"0.00 0.00 546.98 164.80\" xmlns=\"http://www.w3.org/2000/svg\" xmlns:xlink=\"http://www.w3.org/1999/xlink\">\n<g id=\"graph0\" class=\"graph\" transform=\"scale(1 1) rotate(0) translate(4 160.7958)\">\n<title>%3</title>\n<polygon fill=\"#ffffff\" stroke=\"transparent\" points=\"-4,4 -4,-160.7958 542.9792,-160.7958 542.9792,4 -4,4\"/>\n<!-- EMPTY -->\n<g id=\"node1\" class=\"node\">\n<title>EMPTY</title>\n</g>\n<!-- St4 -->\n<g id=\"node3\" class=\"node\">\n<title>St4</title>\n<ellipse fill=\"none\" stroke=\"#000000\" cx=\"114.3979\" cy=\"-61.3979\" rx=\"23.2963\" ry=\"23.2963\"/>\n<text text-anchor=\"middle\" x=\"114.3979\" y=\"-57.6979\" font-family=\"Times,serif\" font-size=\"14.00\" fill=\"#000000\">St4</text>\n</g>\n<!-- EMPTY&#45;&gt;St4 -->\n<g id=\"edge1\" class=\"edge\">\n<title>EMPTY&#45;&gt;St4</title>\n<path fill=\"none\" stroke=\"#000000\" d=\"M54.1742,-61.3979C62.5103,-61.3979 71.7873,-61.3979 80.5137,-61.3979\"/>\n<polygon fill=\"#000000\" stroke=\"#000000\" points=\"80.7846,-64.898 90.7846,-61.3979 80.7845,-57.898 80.7846,-64.898\"/>\n</g>\n<!-- St2 -->\n<g id=\"node2\" class=\"node\">\n<title>St2</title>\n<ellipse fill=\"none\" stroke=\"#000000\" cx=\"412.7855\" cy=\"-60.3979\" rx=\"23.2963\" ry=\"23.2963\"/>\n<text text-anchor=\"middle\" x=\"412.7855\" y=\"-56.6979\" font-family=\"Times,serif\" font-size=\"14.00\" fill=\"#000000\">St2</text>\n</g>\n<!-- St0 -->\n<g id=\"node6\" class=\"node\">\n<title>St0</title>\n<ellipse fill=\"none\" stroke=\"#000000\" cx=\"511.5813\" cy=\"-63.3979\" rx=\"23.3111\" ry=\"23.3111\"/>\n<ellipse fill=\"none\" stroke=\"#000000\" cx=\"511.5813\" cy=\"-63.3979\" rx=\"27.2962\" ry=\"27.2962\"/>\n<text text-anchor=\"middle\" x=\"511.5813\" y=\"-59.6979\" font-family=\"Times,serif\" font-size=\"14.00\" fill=\"#000000\">St0</text>\n</g>\n<!-- St2&#45;&gt;St0 -->\n<g id=\"edge12\" class=\"edge\">\n<title>St2&#45;&gt;St0</title>\n<path fill=\"none\" stroke=\"#000000\" d=\"M433.8947,-49.7713C443.6326,-46.0876 455.4009,-43.3383 466.1834,-45.3979 469.8112,-46.0909 473.519,-47.0692 477.1744,-48.2158\"/>\n<polygon fill=\"#000000\" stroke=\"#000000\" points=\"476.0425,-51.5279 486.6373,-51.563 478.3769,-44.9286 476.0425,-51.5279\"/>\n<text text-anchor=\"middle\" x=\"460.1834\" y=\"-49.1979\" font-family=\"Times,serif\" font-size=\"14.00\" fill=\"#000000\">a </text>\n</g>\n<!-- St2&#45;&gt;St0 -->\n<g id=\"edge13\" class=\"edge\">\n<title>St2&#45;&gt;St0</title>\n<path fill=\"none\" stroke=\"#000000\" d=\"M436.1987,-61.1089C447.4326,-61.45 461.173,-61.8672 473.8312,-62.2516\"/>\n<polygon fill=\"#000000\" stroke=\"#000000\" points=\"474.0292,-65.7592 484.1309,-62.5644 474.2418,-58.7624 474.0292,-65.7592\"/>\n<text text-anchor=\"middle\" x=\"460.1834\" y=\"-66.1979\" font-family=\"Times,serif\" font-size=\"14.00\" fill=\"#000000\">b </text>\n</g>\n<!-- St6 -->\n<g id=\"node4\" class=\"node\">\n<title>St6</title>\n<ellipse fill=\"none\" stroke=\"#000000\" cx=\"213.1938\" cy=\"-96.3979\" rx=\"23.2963\" ry=\"23.2963\"/>\n<text text-anchor=\"middle\" x=\"213.1938\" y=\"-92.6979\" font-family=\"Times,serif\" font-size=\"14.00\" fill=\"#000000\">St6</text>\n</g>\n<!-- St4&#45;&gt;St6 -->\n<g id=\"edge2\" class=\"edge\">\n<title>St4&#45;&gt;St6</title>\n<path fill=\"none\" stroke=\"#000000\" d=\"M136.8162,-69.34C149.9532,-73.9939 166.7624,-79.9489 181.2655,-85.0868\"/>\n<polygon fill=\"#000000\" stroke=\"#000000\" points=\"180.2694,-88.447 190.8642,-88.4873 182.607,-81.8488 180.2694,-88.447\"/>\n<text text-anchor=\"middle\" x=\"161.7958\" y=\"-83.1979\" font-family=\"Times,serif\" font-size=\"14.00\" fill=\"#000000\">a </text>\n</g>\n<!-- St5 -->\n<g id=\"node7\" class=\"node\">\n<title>St5</title>\n<ellipse fill=\"none\" stroke=\"#000000\" cx=\"213.1938\" cy=\"-27.3979\" rx=\"23.3111\" ry=\"23.3111\"/>\n<ellipse fill=\"none\" stroke=\"#000000\" cx=\"213.1938\" cy=\"-27.3979\" rx=\"27.2962\" ry=\"27.2962\"/>\n<text text-anchor=\"middle\" x=\"213.1938\" y=\"-23.6979\" font-family=\"Times,serif\" font-size=\"14.00\" fill=\"#000000\">St5</text>\n</g>\n<!-- St4&#45;&gt;St5 -->\n<g id=\"edge3\" class=\"edge\">\n<title>St4&#45;&gt;St5</title>\n<path fill=\"none\" stroke=\"#000000\" d=\"M136.8162,-53.6828C148.819,-49.5521 163.8873,-44.3665 177.4614,-39.695\"/>\n<polygon fill=\"#000000\" stroke=\"#000000\" points=\"178.6994,-42.9705 187.0161,-36.4068 176.4214,-36.3515 178.6994,-42.9705\"/>\n<text text-anchor=\"middle\" x=\"161.7958\" y=\"-51.1979\" font-family=\"Times,serif\" font-size=\"14.00\" fill=\"#000000\">b </text>\n</g>\n<!-- St3 -->\n<g id=\"node5\" class=\"node\">\n<title>St3</title>\n<ellipse fill=\"none\" stroke=\"#000000\" cx=\"315.9896\" cy=\"-102.3979\" rx=\"23.2963\" ry=\"23.2963\"/>\n<text text-anchor=\"middle\" x=\"315.9896\" y=\"-98.6979\" font-family=\"Times,serif\" font-size=\"14.00\" fill=\"#000000\">St3</text>\n</g>\n<!-- St6&#45;&gt;St3 -->\n<g id=\"edge5\" class=\"edge\">\n<title>St6&#45;&gt;St3</title>\n<path fill=\"none\" stroke=\"#000000\" d=\"M236.7772,-97.7744C250.228,-98.5595 267.3157,-99.5569 282.1744,-100.4242\"/>\n<polygon fill=\"#000000\" stroke=\"#000000\" points=\"282.3289,-103.9391 292.5159,-101.0278 282.7369,-96.951 282.3289,-103.9391\"/>\n<text text-anchor=\"middle\" x=\"264.5917\" y=\"-103.1979\" font-family=\"Times,serif\" font-size=\"14.00\" fill=\"#000000\">b </text>\n</g>\n<!-- St1 -->\n<g id=\"node8\" class=\"node\">\n<title>St1</title>\n<ellipse fill=\"none\" stroke=\"#000000\" cx=\"315.9896\" cy=\"-27.3979\" rx=\"23.3111\" ry=\"23.3111\"/>\n<ellipse fill=\"none\" stroke=\"#000000\" cx=\"315.9896\" cy=\"-27.3979\" rx=\"27.2962\" ry=\"27.2962\"/>\n<text text-anchor=\"middle\" x=\"315.9896\" y=\"-23.6979\" font-family=\"Times,serif\" font-size=\"14.00\" fill=\"#000000\">St1</text>\n</g>\n<!-- St6&#45;&gt;St1 -->\n<g id=\"edge4\" class=\"edge\">\n<title>St6&#45;&gt;St1</title>\n<path fill=\"none\" stroke=\"#000000\" d=\"M233.249,-83.7566C244.3317,-76.6993 258.3044,-67.6836 270.5917,-59.3979 275.2887,-56.2306 280.2208,-52.8317 285.0327,-49.4743\"/>\n<polygon fill=\"#000000\" stroke=\"#000000\" points=\"287.3168,-52.1471 293.4877,-43.5348 283.293,-46.4192 287.3168,-52.1471\"/>\n<text text-anchor=\"middle\" x=\"264.5917\" y=\"-70.1979\" font-family=\"Times,serif\" font-size=\"14.00\" fill=\"#000000\">a </text>\n</g>\n<!-- St3&#45;&gt;St2 -->\n<g id=\"edge10\" class=\"edge\">\n<title>St3&#45;&gt;St2</title>\n<path fill=\"none\" stroke=\"#000000\" d=\"M337.4718,-93.0768C350.4143,-87.4609 367.1224,-80.2113 381.5119,-73.9676\"/>\n<polygon fill=\"#000000\" stroke=\"#000000\" points=\"383.2482,-77.0296 391.0287,-69.8383 380.4618,-70.608 383.2482,-77.0296\"/>\n<text text-anchor=\"middle\" x=\"366.3875\" y=\"-86.1979\" font-family=\"Times,serif\" font-size=\"14.00\" fill=\"#000000\">a </text>\n</g>\n<!-- St3&#45;&gt;St0 -->\n<g id=\"edge11\" class=\"edge\">\n<title>St3&#45;&gt;St0</title>\n<path fill=\"none\" stroke=\"#000000\" d=\"M339.4706,-102.5959C349.3398,-102.5179 360.9345,-102.2153 371.3875,-101.3979 400.3737,-99.1315 407.9751,-99.4425 436.1834,-92.3979 449.9616,-88.957 452.9148,-86.46 466.1834,-81.3979 469.451,-80.1513 472.8444,-78.8391 476.238,-77.5147\"/>\n<polygon fill=\"#000000\" stroke=\"#000000\" points=\"477.673,-80.7114 485.6988,-73.7949 475.1115,-74.1969 477.673,-80.7114\"/>\n<text text-anchor=\"middle\" x=\"412.7855\" y=\"-103.1979\" font-family=\"Times,serif\" font-size=\"14.00\" fill=\"#000000\">b </text>\n</g>\n<!-- St0&#45;&gt;St0 -->\n<g id=\"edge14\" class=\"edge\">\n<title>St0&#45;&gt;St0</title>\n<path fill=\"none\" stroke=\"#000000\" d=\"M506.9041,-90.4297C506.7508,-100.5036 508.3098,-108.7958 511.5813,-108.7958 513.626,-108.7958 515.0018,-105.5567 515.7086,-100.6679\"/>\n<polygon fill=\"#000000\" stroke=\"#000000\" points=\"519.217,-100.6031 516.2585,-90.4297 512.2271,-100.2276 519.217,-100.6031\"/>\n<text text-anchor=\"middle\" x=\"511.5813\" y=\"-112.5958\" font-family=\"Times,serif\" font-size=\"14.00\" fill=\"#000000\">a </text>\n</g>\n<!-- St0&#45;&gt;St0 -->\n<g id=\"edge15\" class=\"edge\">\n<title>St0&#45;&gt;St0</title>\n<path fill=\"none\" stroke=\"#000000\" d=\"M503.1682,-89.777C500.525,-108.3764 503.3294,-126.7958 511.5813,-126.7958 518.286,-126.7958 521.3945,-114.6361 520.9067,-100.1\"/>\n<polygon fill=\"#000000\" stroke=\"#000000\" points=\"524.3612,-99.4301 519.9944,-89.777 517.3884,-100.0463 524.3612,-99.4301\"/>\n<text text-anchor=\"middle\" x=\"511.5813\" y=\"-130.5958\" font-family=\"Times,serif\" font-size=\"14.00\" fill=\"#000000\">b </text>\n</g>\n<!-- St5&#45;&gt;St3 -->\n<g id=\"edge7\" class=\"edge\">\n<title>St5&#45;&gt;St3</title>\n<path fill=\"none\" stroke=\"#000000\" d=\"M240.7655,-29.5908C250.7832,-31.3919 261.7932,-34.624 270.5917,-40.3979 272.4794,-41.6367 285.0697,-58.9087 296.5133,-74.9075\"/>\n<polygon fill=\"#000000\" stroke=\"#000000\" points=\"293.6751,-76.9556 302.3303,-83.066 299.3747,-72.8918 293.6751,-76.9556\"/>\n<text text-anchor=\"middle\" x=\"264.5917\" y=\"-44.1979\" font-family=\"Times,serif\" font-size=\"14.00\" fill=\"#000000\">b </text>\n</g>\n<!-- St5&#45;&gt;St1 -->\n<g id=\"edge6\" class=\"edge\">\n<title>St5&#45;&gt;St1</title>\n<path fill=\"none\" stroke=\"#000000\" d=\"M236.2287,-12.5147C246.5481,-7.5437 258.9852,-3.8435 270.5917,-6.3979 274.4877,-7.2554 278.4472,-8.4813 282.3221,-9.9158\"/>\n<polygon fill=\"#000000\" stroke=\"#000000\" points=\"281.1182,-13.2058 291.6952,-13.8204 283.8101,-6.7441 281.1182,-13.2058\"/>\n<text text-anchor=\"middle\" x=\"264.5917\" y=\"-10.1979\" font-family=\"Times,serif\" font-size=\"14.00\" fill=\"#000000\">a </text>\n</g>\n<!-- St1&#45;&gt;St2 -->\n<g id=\"edge8\" class=\"edge\">\n<title>St1&#45;&gt;St2</title>\n<path fill=\"none\" stroke=\"#000000\" d=\"M341.9291,-36.2413C353.8598,-40.3088 368.13,-45.1738 380.7271,-49.4685\"/>\n<polygon fill=\"#000000\" stroke=\"#000000\" points=\"379.7998,-52.8501 390.3943,-52.7642 382.0586,-46.2245 379.7998,-52.8501\"/>\n<text text-anchor=\"middle\" x=\"366.3875\" y=\"-50.1979\" font-family=\"Times,serif\" font-size=\"14.00\" fill=\"#000000\">a </text>\n</g>\n<!-- St1&#45;&gt;St0 -->\n<g id=\"edge9\" class=\"edge\">\n<title>St1&#45;&gt;St0</title>\n<path fill=\"none\" stroke=\"#000000\" d=\"M342.3181,-18.3283C367.0369,-11.207 404.8055,-3.9392 436.1834,-13.3979 453.0838,-18.4924 469.6762,-28.7499 482.9741,-38.6554\"/>\n<polygon fill=\"#000000\" stroke=\"#000000\" points=\"481.1641,-41.6815 491.2071,-45.0562 485.4606,-36.1552 481.1641,-41.6815\"/>\n<text text-anchor=\"middle\" x=\"412.7855\" y=\"-17.1979\" font-family=\"Times,serif\" font-size=\"14.00\" fill=\"#000000\">b </text>\n</g>\n</g>\n</svg>\n"
          },
          "metadata": {},
          "execution_count": 22
        }
      ]
    },
    {
      "cell_type": "markdown",
      "metadata": {
        "id": "hTEvZTXochGF"
      },
      "source": [
        "### Part d: Reverse DFA2 to obtain NFA3"
      ]
    },
    {
      "cell_type": "code",
      "metadata": {
        "id": "oG3pT6fGchGF"
      },
      "source": [
        "NFA3 = rev_dfa(DFA2)\n",
        " "
      ],
      "execution_count": 23,
      "outputs": []
    },
    {
      "cell_type": "code",
      "metadata": {
        "id": "rnFeP4-_chGF",
        "outputId": "61a900d2-5161-4ff7-87f7-e1e8c50717b9",
        "colab": {
          "base_uri": "https://localhost:8080/",
          "height": 306
        }
      },
      "source": [
        "dotObj_nfa(NFA3)"
      ],
      "execution_count": 24,
      "outputs": [
        {
          "output_type": "execute_result",
          "data": {
            "text/plain": [
              "<graphviz.dot.Digraph at 0x7f924f3fd250>"
            ],
            "image/svg+xml": "<?xml version=\"1.0\" encoding=\"UTF-8\" standalone=\"no\"?>\n<!DOCTYPE svg PUBLIC \"-//W3C//DTD SVG 1.1//EN\"\n \"http://www.w3.org/Graphics/SVG/1.1/DTD/svg11.dtd\">\n<!-- Generated by graphviz version 2.40.1 (20161225.0304)\n -->\n<!-- Title: %3 Pages: 1 -->\n<svg width=\"531pt\" height=\"214pt\"\n viewBox=\"0.00 0.00 530.98 214.40\" xmlns=\"http://www.w3.org/2000/svg\" xmlns:xlink=\"http://www.w3.org/1999/xlink\">\n<g id=\"graph0\" class=\"graph\" transform=\"scale(1 1) rotate(0) translate(4 210.3979)\">\n<title>%3</title>\n<polygon fill=\"#ffffff\" stroke=\"transparent\" points=\"-4,4 -4,-210.3979 526.9792,-210.3979 526.9792,4 -4,4\"/>\n<!-- EMPTY -->\n<g id=\"node1\" class=\"node\">\n<title>EMPTY</title>\n</g>\n<!-- St1 -->\n<g id=\"node3\" class=\"node\">\n<title>St1</title>\n<ellipse fill=\"none\" stroke=\"#000000\" cx=\"301.9896\" cy=\"-83\" rx=\"23.2963\" ry=\"23.2963\"/>\n<text text-anchor=\"middle\" x=\"301.9896\" y=\"-79.3\" font-family=\"Times,serif\" font-size=\"14.00\" fill=\"#000000\">St1</text>\n</g>\n<!-- EMPTY&#45;&gt;St1 -->\n<g id=\"edge3\" class=\"edge\">\n<title>EMPTY&#45;&gt;St1</title>\n<path fill=\"none\" stroke=\"#000000\" d=\"M54.1196,-42.4379C104.7832,-50.7286 213.6403,-68.5423 268.6769,-77.5486\"/>\n<polygon fill=\"#000000\" stroke=\"#000000\" points=\"268.1834,-81.0143 278.6174,-79.1753 269.3139,-74.1062 268.1834,-81.0143\"/>\n</g>\n<!-- St0 -->\n<g id=\"node4\" class=\"node\">\n<title>St0</title>\n<ellipse fill=\"none\" stroke=\"#000000\" cx=\"114.3979\" cy=\"-117\" rx=\"23.2963\" ry=\"23.2963\"/>\n<text text-anchor=\"middle\" x=\"114.3979\" y=\"-113.3\" font-family=\"Times,serif\" font-size=\"14.00\" fill=\"#000000\">St0</text>\n</g>\n<!-- EMPTY&#45;&gt;St0 -->\n<g id=\"edge1\" class=\"edge\">\n<title>EMPTY&#45;&gt;St0</title>\n<path fill=\"none\" stroke=\"#000000\" d=\"M47.2705,-56.3228C59.8322,-67.6774 76.0609,-82.3467 89.4147,-94.4173\"/>\n<polygon fill=\"#000000\" stroke=\"#000000\" points=\"87.13,-97.0701 96.8955,-101.1793 91.824,-91.8772 87.13,-97.0701\"/>\n</g>\n<!-- St5 -->\n<g id=\"node7\" class=\"node\">\n<title>St5</title>\n<ellipse fill=\"none\" stroke=\"#000000\" cx=\"396.7855\" cy=\"-45\" rx=\"23.2963\" ry=\"23.2963\"/>\n<text text-anchor=\"middle\" x=\"396.7855\" y=\"-41.3\" font-family=\"Times,serif\" font-size=\"14.00\" fill=\"#000000\">St5</text>\n</g>\n<!-- EMPTY&#45;&gt;St5 -->\n<g id=\"edge2\" class=\"edge\">\n<title>EMPTY&#45;&gt;St5</title>\n<path fill=\"none\" stroke=\"#000000\" d=\"M53.279,-19.8903C70.0041,-10.103 92.558,0 114.3979,0 114.3979,0 114.3979,0 301.9896,0 326.726,0 351.8901,-12.6594 370.0695,-24.5492\"/>\n<polygon fill=\"#000000\" stroke=\"#000000\" points=\"368.1744,-27.4936 378.4003,-30.2653 372.1349,-21.7216 368.1744,-27.4936\"/>\n</g>\n<!-- St2 -->\n<g id=\"node2\" class=\"node\">\n<title>St2</title>\n<ellipse fill=\"none\" stroke=\"#000000\" cx=\"209.1938\" cy=\"-140\" rx=\"23.2963\" ry=\"23.2963\"/>\n<text text-anchor=\"middle\" x=\"209.1938\" y=\"-136.3\" font-family=\"Times,serif\" font-size=\"14.00\" fill=\"#000000\">St2</text>\n</g>\n<!-- St2&#45;&gt;St1 -->\n<g id=\"edge4\" class=\"edge\">\n<title>St2&#45;&gt;St1</title>\n<path fill=\"none\" stroke=\"#000000\" d=\"M229.3291,-127.6318C242.0972,-119.789 258.8218,-109.5159 273.0063,-100.8031\"/>\n<polygon fill=\"#000000\" stroke=\"#000000\" points=\"275.2046,-103.5603 281.8936,-95.344 271.5408,-97.5957 275.2046,-103.5603\"/>\n<text text-anchor=\"middle\" x=\"255.5917\" y=\"-117.8\" font-family=\"Times,serif\" font-size=\"14.00\" fill=\"#000000\">a </text>\n</g>\n<!-- St3 -->\n<g id=\"node6\" class=\"node\">\n<title>St3</title>\n<ellipse fill=\"none\" stroke=\"#000000\" cx=\"301.9896\" cy=\"-158\" rx=\"23.2963\" ry=\"23.2963\"/>\n<text text-anchor=\"middle\" x=\"301.9896\" y=\"-154.3\" font-family=\"Times,serif\" font-size=\"14.00\" fill=\"#000000\">St3</text>\n</g>\n<!-- St2&#45;&gt;St3 -->\n<g id=\"edge5\" class=\"edge\">\n<title>St2&#45;&gt;St3</title>\n<path fill=\"none\" stroke=\"#000000\" d=\"M232.6101,-144.5422C243.5732,-146.6687 256.8265,-149.2395 268.7996,-151.562\"/>\n<polygon fill=\"#000000\" stroke=\"#000000\" points=\"268.4187,-155.0533 278.9023,-153.5216 269.7518,-148.1814 268.4187,-155.0533\"/>\n<text text-anchor=\"middle\" x=\"255.5917\" y=\"-153.8\" font-family=\"Times,serif\" font-size=\"14.00\" fill=\"#000000\">a </text>\n</g>\n<!-- St6 -->\n<g id=\"node5\" class=\"node\">\n<title>St6</title>\n<ellipse fill=\"none\" stroke=\"#000000\" cx=\"396.7855\" cy=\"-110\" rx=\"23.2963\" ry=\"23.2963\"/>\n<text text-anchor=\"middle\" x=\"396.7855\" y=\"-106.3\" font-family=\"Times,serif\" font-size=\"14.00\" fill=\"#000000\">St6</text>\n</g>\n<!-- St1&#45;&gt;St6 -->\n<g id=\"edge7\" class=\"edge\">\n<title>St1&#45;&gt;St6</title>\n<path fill=\"none\" stroke=\"#000000\" d=\"M325.5377,-80.7411C334.9916,-80.5256 345.88,-81.1653 355.3875,-84 360.1201,-85.411 364.84,-87.5238 369.3085,-89.9465\"/>\n<polygon fill=\"#000000\" stroke=\"#000000\" points=\"367.6823,-93.0531 378.0513,-95.2291 371.3023,-87.0619 367.6823,-93.0531\"/>\n<text text-anchor=\"middle\" x=\"349.3875\" y=\"-87.8\" font-family=\"Times,serif\" font-size=\"14.00\" fill=\"#000000\">a </text>\n</g>\n<!-- St1&#45;&gt;St5 -->\n<g id=\"edge6\" class=\"edge\">\n<title>St1&#45;&gt;St5</title>\n<path fill=\"none\" stroke=\"#000000\" d=\"M322.8202,-72.3097C329.3302,-69.1391 336.5889,-65.7755 343.3875,-63 350.0815,-60.2673 357.3609,-57.6122 364.3298,-55.2177\"/>\n<polygon fill=\"#000000\" stroke=\"#000000\" points=\"365.837,-58.4044 374.2135,-51.9172 363.6197,-51.7648 365.837,-58.4044\"/>\n<text text-anchor=\"middle\" x=\"349.3875\" y=\"-66.8\" font-family=\"Times,serif\" font-size=\"14.00\" fill=\"#000000\">a </text>\n</g>\n<!-- St0&#45;&gt;St2 -->\n<g id=\"edge8\" class=\"edge\">\n<title>St0&#45;&gt;St2</title>\n<path fill=\"none\" stroke=\"#000000\" d=\"M135.9946,-126.4641C142.2803,-128.9112 149.2253,-131.3252 155.7958,-133 162.1577,-134.6216 169.047,-135.8803 175.6958,-136.8531\"/>\n<polygon fill=\"#000000\" stroke=\"#000000\" points=\"175.4706,-140.3529 185.8355,-138.1576 176.3639,-133.4101 175.4706,-140.3529\"/>\n<text text-anchor=\"middle\" x=\"161.7958\" y=\"-139.8\" font-family=\"Times,serif\" font-size=\"14.00\" fill=\"#000000\">a </text>\n</g>\n<!-- St0&#45;&gt;St2 -->\n<g id=\"edge10\" class=\"edge\">\n<title>St0&#45;&gt;St2</title>\n<path fill=\"none\" stroke=\"#000000\" d=\"M137.3776,-112.398C146.9462,-111.3274 158.0704,-111.1992 167.7958,-114 172.5414,-115.3666 177.2684,-117.4552 181.7401,-119.867\"/>\n<polygon fill=\"#000000\" stroke=\"#000000\" points=\"180.1143,-122.9738 190.4846,-125.1437 183.7309,-116.9804 180.1143,-122.9738\"/>\n<text text-anchor=\"middle\" x=\"161.7958\" y=\"-117.8\" font-family=\"Times,serif\" font-size=\"14.00\" fill=\"#000000\">b </text>\n</g>\n<!-- St0&#45;&gt;St1 -->\n<g id=\"edge12\" class=\"edge\">\n<title>St0&#45;&gt;St1</title>\n<path fill=\"none\" stroke=\"#000000\" d=\"M136.2134,-108.1555C150.1618,-102.8812 168.7678,-96.5416 185.7958,-93 213.1282,-87.3152 244.7251,-84.8532 268.0638,-83.7914\"/>\n<polygon fill=\"#000000\" stroke=\"#000000\" points=\"268.3057,-87.2847 278.1609,-83.3956 268.0314,-80.2901 268.3057,-87.2847\"/>\n<text text-anchor=\"middle\" x=\"209.1938\" y=\"-96.8\" font-family=\"Times,serif\" font-size=\"14.00\" fill=\"#000000\">b </text>\n</g>\n<!-- St0&#45;&gt;St0 -->\n<g id=\"edge9\" class=\"edge\">\n<title>St0&#45;&gt;St0</title>\n<path fill=\"none\" stroke=\"#000000\" d=\"M110.6809,-140.4068C110.4245,-150.1439 111.6635,-158.3979 114.3979,-158.3979 116.0642,-158.3979 117.1752,-155.3329 117.7309,-150.735\"/>\n<polygon fill=\"#000000\" stroke=\"#000000\" points=\"121.2408,-150.53 118.115,-140.4068 114.2456,-150.2698 121.2408,-150.53\"/>\n<text text-anchor=\"middle\" x=\"114.3979\" y=\"-162.1979\" font-family=\"Times,serif\" font-size=\"14.00\" fill=\"#000000\">a </text>\n</g>\n<!-- St0&#45;&gt;St0 -->\n<g id=\"edge11\" class=\"edge\">\n<title>St0&#45;&gt;St0</title>\n<path fill=\"none\" stroke=\"#000000\" d=\"M107.9526,-139.5497C105.3745,-157.6814 107.5229,-176.3979 114.3979,-176.3979 119.9839,-176.3979 122.4495,-164.0421 121.7949,-149.6833\"/>\n<polygon fill=\"#000000\" stroke=\"#000000\" points=\"125.263,-149.1786 120.8432,-139.5497 118.2937,-149.8332 125.263,-149.1786\"/>\n<text text-anchor=\"middle\" x=\"114.3979\" y=\"-180.1979\" font-family=\"Times,serif\" font-size=\"14.00\" fill=\"#000000\">b </text>\n</g>\n<!-- St0&#45;&gt;St3 -->\n<g id=\"edge13\" class=\"edge\">\n<title>St0&#45;&gt;St3</title>\n<path fill=\"none\" stroke=\"#000000\" d=\"M129.842,-134.9551C143.0392,-148.6364 163.4036,-166.0965 185.7958,-172 213.6924,-179.3547 246.3882,-174.2441 269.9777,-168.2333\"/>\n<polygon fill=\"#000000\" stroke=\"#000000\" points=\"271.0856,-171.5589 279.8069,-165.5432 269.2377,-164.8072 271.0856,-171.5589\"/>\n<text text-anchor=\"middle\" x=\"209.1938\" y=\"-178.8\" font-family=\"Times,serif\" font-size=\"14.00\" fill=\"#000000\">b </text>\n</g>\n<!-- St4 -->\n<g id=\"node8\" class=\"node\">\n<title>St4</title>\n<ellipse fill=\"none\" stroke=\"#000000\" cx=\"495.5813\" cy=\"-77\" rx=\"23.3111\" ry=\"23.3111\"/>\n<ellipse fill=\"none\" stroke=\"#000000\" cx=\"495.5813\" cy=\"-77\" rx=\"27.2962\" ry=\"27.2962\"/>\n<text text-anchor=\"middle\" x=\"495.5813\" y=\"-73.3\" font-family=\"Times,serif\" font-size=\"14.00\" fill=\"#000000\">St4</text>\n</g>\n<!-- St6&#45;&gt;St4 -->\n<g id=\"edge14\" class=\"edge\">\n<title>St6&#45;&gt;St4</title>\n<path fill=\"none\" stroke=\"#000000\" d=\"M419.2038,-102.5118C431.2065,-98.5026 446.2748,-93.4695 459.8489,-88.9354\"/>\n<polygon fill=\"#000000\" stroke=\"#000000\" points=\"461.0277,-92.2318 469.4037,-85.7439 458.8099,-85.5924 461.0277,-92.2318\"/>\n<text text-anchor=\"middle\" x=\"444.1834\" y=\"-99.8\" font-family=\"Times,serif\" font-size=\"14.00\" fill=\"#000000\">a </text>\n</g>\n<!-- St3&#45;&gt;St6 -->\n<g id=\"edge16\" class=\"edge\">\n<title>St3&#45;&gt;St6</title>\n<path fill=\"none\" stroke=\"#000000\" d=\"M324.2569,-150.3973C334.0123,-146.7745 345.4724,-142.1155 355.3875,-137 359.8247,-134.7108 364.3835,-132.0673 368.7794,-129.3489\"/>\n<polygon fill=\"#000000\" stroke=\"#000000\" points=\"370.964,-132.1053 377.4827,-123.7532 367.1784,-126.2173 370.964,-132.1053\"/>\n<text text-anchor=\"middle\" x=\"349.3875\" y=\"-146.8\" font-family=\"Times,serif\" font-size=\"14.00\" fill=\"#000000\">b </text>\n</g>\n<!-- St3&#45;&gt;St5 -->\n<g id=\"edge15\" class=\"edge\">\n<title>St3&#45;&gt;St5</title>\n<path fill=\"none\" stroke=\"#000000\" d=\"M318.2592,-140.7759C329.0395,-129.1822 343.358,-113.4329 355.3875,-99 362.552,-90.4043 370.0825,-80.7762 376.7273,-72.0567\"/>\n<polygon fill=\"#000000\" stroke=\"#000000\" points=\"379.5497,-74.127 382.7858,-64.0385 373.9647,-69.907 379.5497,-74.127\"/>\n<text text-anchor=\"middle\" x=\"349.3875\" y=\"-116.8\" font-family=\"Times,serif\" font-size=\"14.00\" fill=\"#000000\">b </text>\n</g>\n<!-- St5&#45;&gt;St4 -->\n<g id=\"edge17\" class=\"edge\">\n<title>St5&#45;&gt;St4</title>\n<path fill=\"none\" stroke=\"#000000\" d=\"M419.2038,-52.2613C431.2065,-56.149 446.2748,-61.0296 459.8489,-65.4263\"/>\n<polygon fill=\"#000000\" stroke=\"#000000\" points=\"458.8117,-68.7693 469.4037,-68.5211 460.9688,-62.1099 458.8117,-68.7693\"/>\n<text text-anchor=\"middle\" x=\"444.1834\" y=\"-65.8\" font-family=\"Times,serif\" font-size=\"14.00\" fill=\"#000000\">b </text>\n</g>\n</g>\n</svg>\n"
          },
          "metadata": {},
          "execution_count": 24
        }
      ]
    },
    {
      "cell_type": "markdown",
      "metadata": {
        "id": "tFF5zbF7chGG"
      },
      "source": [
        "### Part e:  Determinize NFA3 to obtain DFA_min\n"
      ]
    },
    {
      "cell_type": "code",
      "metadata": {
        "id": "iDt8h9M4chGG"
      },
      "source": [
        "DFA_min = nfa2dfa(NFA3)"
      ],
      "execution_count": 25,
      "outputs": []
    },
    {
      "cell_type": "code",
      "metadata": {
        "id": "c-h5kF2RchGK",
        "outputId": "b62a2356-b96d-44bb-ba74-8ed487913206",
        "colab": {
          "base_uri": "https://localhost:8080/",
          "height": 210
        }
      },
      "source": [
        "dotObj_dfa(DFA_min)"
      ],
      "execution_count": 26,
      "outputs": [
        {
          "output_type": "execute_result",
          "data": {
            "text/plain": [
              "<graphviz.dot.Digraph at 0x7f924f407f50>"
            ],
            "image/svg+xml": "<?xml version=\"1.0\" encoding=\"UTF-8\" standalone=\"no\"?>\n<!DOCTYPE svg PUBLIC \"-//W3C//DTD SVG 1.1//EN\"\n \"http://www.w3.org/Graphics/SVG/1.1/DTD/svg11.dtd\">\n<!-- Generated by graphviz version 2.40.1 (20161225.0304)\n -->\n<!-- Title: %3 Pages: 1 -->\n<svg width=\"539pt\" height=\"142pt\"\n viewBox=\"0.00 0.00 538.98 141.80\" xmlns=\"http://www.w3.org/2000/svg\" xmlns:xlink=\"http://www.w3.org/1999/xlink\">\n<g id=\"graph0\" class=\"graph\" transform=\"scale(1 1) rotate(0) translate(4 137.7958)\">\n<title>%3</title>\n<polygon fill=\"#ffffff\" stroke=\"transparent\" points=\"-4,4 -4,-137.7958 534.9792,-137.7958 534.9792,4 -4,4\"/>\n<!-- EMPTY -->\n<g id=\"node1\" class=\"node\">\n<title>EMPTY</title>\n</g>\n<!-- St3 -->\n<g id=\"node4\" class=\"node\">\n<title>St3</title>\n<ellipse fill=\"none\" stroke=\"#000000\" cx=\"114.3979\" cy=\"-23.3979\" rx=\"23.2963\" ry=\"23.2963\"/>\n<text text-anchor=\"middle\" x=\"114.3979\" y=\"-19.6979\" font-family=\"Times,serif\" font-size=\"14.00\" fill=\"#000000\">St3</text>\n</g>\n<!-- EMPTY&#45;&gt;St3 -->\n<g id=\"edge1\" class=\"edge\">\n<title>EMPTY&#45;&gt;St3</title>\n<path fill=\"none\" stroke=\"#000000\" d=\"M54.1742,-23.3979C62.5103,-23.3979 71.7873,-23.3979 80.5137,-23.3979\"/>\n<polygon fill=\"#000000\" stroke=\"#000000\" points=\"80.7846,-26.898 90.7846,-23.3979 80.7845,-19.898 80.7846,-26.898\"/>\n</g>\n<!-- St2 -->\n<g id=\"node2\" class=\"node\">\n<title>St2</title>\n<ellipse fill=\"none\" stroke=\"#000000\" cx=\"404.7855\" cy=\"-40.3979\" rx=\"23.2963\" ry=\"23.2963\"/>\n<text text-anchor=\"middle\" x=\"404.7855\" y=\"-36.6979\" font-family=\"Times,serif\" font-size=\"14.00\" fill=\"#000000\">St2</text>\n</g>\n<!-- St0 -->\n<g id=\"node5\" class=\"node\">\n<title>St0</title>\n<ellipse fill=\"none\" stroke=\"#000000\" cx=\"503.5813\" cy=\"-40.3979\" rx=\"23.3111\" ry=\"23.3111\"/>\n<ellipse fill=\"none\" stroke=\"#000000\" cx=\"503.5813\" cy=\"-40.3979\" rx=\"27.2962\" ry=\"27.2962\"/>\n<text text-anchor=\"middle\" x=\"503.5813\" y=\"-36.6979\" font-family=\"Times,serif\" font-size=\"14.00\" fill=\"#000000\">St0</text>\n</g>\n<!-- St2&#45;&gt;St0 -->\n<g id=\"edge8\" class=\"edge\">\n<title>St2&#45;&gt;St0</title>\n<path fill=\"none\" stroke=\"#000000\" d=\"M428.1987,-40.3979C439.4326,-40.3979 453.173,-40.3979 465.8312,-40.3979\"/>\n<polygon fill=\"#000000\" stroke=\"#000000\" points=\"466.1309,-43.898 476.1309,-40.3979 466.1309,-36.898 466.1309,-43.898\"/>\n<text text-anchor=\"middle\" x=\"452.1834\" y=\"-44.1979\" font-family=\"Times,serif\" font-size=\"14.00\" fill=\"#000000\">a </text>\n</g>\n<!-- St2&#45;&gt;St0 -->\n<g id=\"edge9\" class=\"edge\">\n<title>St2&#45;&gt;St0</title>\n<path fill=\"none\" stroke=\"#000000\" d=\"M425.2357,-28.908C431.7302,-25.8418 439.0758,-22.9511 446.1834,-21.3979 454.1148,-19.6647 462.4928,-20.7131 470.3237,-23.0205\"/>\n<polygon fill=\"#000000\" stroke=\"#000000\" points=\"469.2814,-26.3658 479.8754,-26.502 471.6786,-19.7891 469.2814,-26.3658\"/>\n<text text-anchor=\"middle\" x=\"452.1834\" y=\"-25.1979\" font-family=\"Times,serif\" font-size=\"14.00\" fill=\"#000000\">b </text>\n</g>\n<!-- St4 -->\n<g id=\"node3\" class=\"node\">\n<title>St4</title>\n<ellipse fill=\"none\" stroke=\"#000000\" cx=\"207.1938\" cy=\"-63.3979\" rx=\"23.2963\" ry=\"23.2963\"/>\n<text text-anchor=\"middle\" x=\"207.1938\" y=\"-59.6979\" font-family=\"Times,serif\" font-size=\"14.00\" fill=\"#000000\">St4</text>\n</g>\n<!-- St1 -->\n<g id=\"node6\" class=\"node\">\n<title>St1</title>\n<ellipse fill=\"none\" stroke=\"#000000\" cx=\"305.9896\" cy=\"-40.3979\" rx=\"23.3111\" ry=\"23.3111\"/>\n<ellipse fill=\"none\" stroke=\"#000000\" cx=\"305.9896\" cy=\"-40.3979\" rx=\"27.2962\" ry=\"27.2962\"/>\n<text text-anchor=\"middle\" x=\"305.9896\" y=\"-36.6979\" font-family=\"Times,serif\" font-size=\"14.00\" fill=\"#000000\">St1</text>\n</g>\n<!-- St4&#45;&gt;St1 -->\n<g id=\"edge4\" class=\"edge\">\n<title>St4&#45;&gt;St1</title>\n<path fill=\"none\" stroke=\"#000000\" d=\"M230.5156,-61.4077C239.9366,-60.3278 250.8615,-58.7234 260.5917,-56.3979 263.9444,-55.5966 267.3954,-54.6381 270.8259,-53.5939\"/>\n<polygon fill=\"#000000\" stroke=\"#000000\" points=\"271.9236,-56.9174 280.341,-50.4834 269.7485,-50.2639 271.9236,-56.9174\"/>\n<text text-anchor=\"middle\" x=\"254.5917\" y=\"-62.1979\" font-family=\"Times,serif\" font-size=\"14.00\" fill=\"#000000\">a </text>\n</g>\n<!-- St4&#45;&gt;St1 -->\n<g id=\"edge5\" class=\"edge\">\n<title>St4&#45;&gt;St1</title>\n<path fill=\"none\" stroke=\"#000000\" d=\"M225.903,-48.5416C232.6593,-44.0493 240.5992,-39.6996 248.5917,-37.3979 254.9473,-35.5676 261.8595,-34.8862 268.614,-34.8814\"/>\n<polygon fill=\"#000000\" stroke=\"#000000\" points=\"268.8443,-38.3958 278.9958,-35.363 269.1688,-31.4033 268.8443,-38.3958\"/>\n<text text-anchor=\"middle\" x=\"254.5917\" y=\"-41.1979\" font-family=\"Times,serif\" font-size=\"14.00\" fill=\"#000000\">b </text>\n</g>\n<!-- St3&#45;&gt;St4 -->\n<g id=\"edge2\" class=\"edge\">\n<title>St3&#45;&gt;St4</title>\n<path fill=\"none\" stroke=\"#000000\" d=\"M135.9204,-32.6753C147.8976,-37.8381 163.0147,-44.3544 176.2414,-50.0558\"/>\n<polygon fill=\"#000000\" stroke=\"#000000\" points=\"174.8979,-53.2879 185.4666,-54.0323 177.6689,-46.8597 174.8979,-53.2879\"/>\n<text text-anchor=\"middle\" x=\"160.7958\" y=\"-48.1979\" font-family=\"Times,serif\" font-size=\"14.00\" fill=\"#000000\">a </text>\n</g>\n<!-- St3&#45;&gt;St1 -->\n<g id=\"edge3\" class=\"edge\">\n<title>St3&#45;&gt;St1</title>\n<path fill=\"none\" stroke=\"#000000\" d=\"M137.6828,-19.0895C161.2399,-15.4104 198.6402,-11.4353 230.5917,-16.3979 243.9804,-18.4774 258.2446,-22.5172 270.7221,-26.698\"/>\n<polygon fill=\"#000000\" stroke=\"#000000\" points=\"269.7001,-30.0484 280.295,-30.0464 272.0114,-23.4409 269.7001,-30.0484\"/>\n<text text-anchor=\"middle\" x=\"207.1938\" y=\"-20.1979\" font-family=\"Times,serif\" font-size=\"14.00\" fill=\"#000000\">b </text>\n</g>\n<!-- St0&#45;&gt;St0 -->\n<g id=\"edge10\" class=\"edge\">\n<title>St0&#45;&gt;St0</title>\n<path fill=\"none\" stroke=\"#000000\" d=\"M498.9041,-67.4297C498.7508,-77.5036 500.3098,-85.7958 503.5813,-85.7958 505.626,-85.7958 507.0018,-82.5567 507.7086,-77.6679\"/>\n<polygon fill=\"#000000\" stroke=\"#000000\" points=\"511.217,-77.6031 508.2585,-67.4297 504.2271,-77.2276 511.217,-77.6031\"/>\n<text text-anchor=\"middle\" x=\"503.5813\" y=\"-89.5958\" font-family=\"Times,serif\" font-size=\"14.00\" fill=\"#000000\">a </text>\n</g>\n<!-- St0&#45;&gt;St0 -->\n<g id=\"edge11\" class=\"edge\">\n<title>St0&#45;&gt;St0</title>\n<path fill=\"none\" stroke=\"#000000\" d=\"M495.1682,-66.777C492.525,-85.3764 495.3294,-103.7958 503.5813,-103.7958 510.286,-103.7958 513.3945,-91.6361 512.9067,-77.1\"/>\n<polygon fill=\"#000000\" stroke=\"#000000\" points=\"516.3612,-76.4301 511.9944,-66.777 509.3884,-77.0463 516.3612,-76.4301\"/>\n<text text-anchor=\"middle\" x=\"503.5813\" y=\"-107.5958\" font-family=\"Times,serif\" font-size=\"14.00\" fill=\"#000000\">b </text>\n</g>\n<!-- St1&#45;&gt;St2 -->\n<g id=\"edge6\" class=\"edge\">\n<title>St1&#45;&gt;St2</title>\n<path fill=\"none\" stroke=\"#000000\" d=\"M333.5098,-40.3979C345.0796,-40.3979 358.6561,-40.3979 370.8385,-40.3979\"/>\n<polygon fill=\"#000000\" stroke=\"#000000\" points=\"371.0998,-43.898 381.0998,-40.3979 371.0998,-36.898 371.0998,-43.898\"/>\n<text text-anchor=\"middle\" x=\"357.3875\" y=\"-44.1979\" font-family=\"Times,serif\" font-size=\"14.00\" fill=\"#000000\">a </text>\n</g>\n<!-- St1&#45;&gt;St2 -->\n<g id=\"edge7\" class=\"edge\">\n<title>St1&#45;&gt;St2</title>\n<path fill=\"none\" stroke=\"#000000\" d=\"M329.6955,-26.502C339.9236,-22.0943 352.1074,-18.933 363.3875,-21.3979 367.2745,-22.2473 371.2327,-23.4967 375.0839,-24.9561\"/>\n<polygon fill=\"#000000\" stroke=\"#000000\" points=\"373.7642,-28.1983 384.3353,-28.908 376.5141,-21.761 373.7642,-28.1983\"/>\n<text text-anchor=\"middle\" x=\"357.3875\" y=\"-25.1979\" font-family=\"Times,serif\" font-size=\"14.00\" fill=\"#000000\">b </text>\n</g>\n</g>\n</svg>\n"
          },
          "metadata": {},
          "execution_count": 26
        }
      ]
    },
    {
      "cell_type": "markdown",
      "metadata": {
        "id": "peMOcRZSchGK"
      },
      "source": [
        "### Part f: Check that DFA_min and DFA_bloated have the same language but are not isomorphic"
      ]
    },
    {
      "cell_type": "code",
      "metadata": {
        "id": "e1emRps2chGK",
        "outputId": "297fa5ee-399e-485a-f340-750a808c4188",
        "colab": {
          "base_uri": "https://localhost:8080/"
        }
      },
      "source": [
        "help(langeq_dfa)"
      ],
      "execution_count": 27,
      "outputs": [
        {
          "output_type": "stream",
          "name": "stdout",
          "text": [
            "Help on function langeq_dfa in module jove.Def_DFA:\n",
            "\n",
            "langeq_dfa(D1, D2, gen_counterex=False)\n",
            "    Given consistent and total DFAs D1 and D2,\n",
            "    check whether they are language-equivalent. \n",
            "    gen_counterex is a flag that triggers the\n",
            "     printing of a counter-example showing the\n",
            "     pairs that were marched in tandem till a\n",
            "     difference was found.\n",
            "     \n",
            "    Two DFAs are language-equivalent if they \n",
            "    accept the same set of strings. We determine\n",
            "    this through a joint depth-first walk of the \n",
            "    two DFAs until we detect a difference (return\n",
            "    False then) or all pairs of states have been\n",
            "    visited (return True then).\n",
            "\n"
          ]
        }
      ]
    },
    {
      "cell_type": "code",
      "metadata": {
        "id": "EAZGEUEQchGK",
        "outputId": "831b9b3c-7f43-4070-eb67-983a787af4b1",
        "colab": {
          "base_uri": "https://localhost:8080/"
        }
      },
      "source": [
        "help(iso_dfa)"
      ],
      "execution_count": 28,
      "outputs": [
        {
          "output_type": "stream",
          "name": "stdout",
          "text": [
            "Help on function iso_dfa in module jove.Def_DFA:\n",
            "\n",
            "iso_dfa(D1, D2)\n",
            "    Given consistent and total DFAs D1 and D2,\n",
            "    check whether they are isomorphic. Two DFAs\n",
            "    are isomorphic if they have the same number\n",
            "    of states and are language-equivalent. (One would\n",
            "    then be able to match-up state for state and transition\n",
            "    for transition.)\n",
            "\n"
          ]
        }
      ]
    },
    {
      "cell_type": "code",
      "metadata": {
        "id": "vgV0OicpchGL",
        "outputId": "e05518b8-d5dd-453e-c538-c2576fc00187",
        "colab": {
          "base_uri": "https://localhost:8080/"
        }
      },
      "source": [
        "langeq_dfa(DFA_bloated, DFA_min)"
      ],
      "execution_count": 29,
      "outputs": [
        {
          "output_type": "execute_result",
          "data": {
            "text/plain": [
              "True"
            ]
          },
          "metadata": {},
          "execution_count": 29
        }
      ]
    },
    {
      "cell_type": "code",
      "metadata": {
        "id": "Alk9z_sVchGL",
        "outputId": "3cf7f8d0-2a1a-4264-ee82-3efae4bbb7e9",
        "colab": {
          "base_uri": "https://localhost:8080/"
        }
      },
      "source": [
        "iso_dfa(DFA_bloated, DFA_min)"
      ],
      "execution_count": 30,
      "outputs": [
        {
          "output_type": "execute_result",
          "data": {
            "text/plain": [
              "False"
            ]
          },
          "metadata": {},
          "execution_count": 30
        }
      ]
    },
    {
      "cell_type": "code",
      "metadata": {
        "id": "nflMG9HachGL"
      },
      "source": [
        "DFA_min_alt = min_dfa(DFA_bloated)"
      ],
      "execution_count": 31,
      "outputs": []
    },
    {
      "cell_type": "code",
      "metadata": {
        "id": "3aeA1kqVchGL",
        "outputId": "77a4b902-8d34-4eda-f44f-7cfc5f03bba6",
        "colab": {
          "base_uri": "https://localhost:8080/",
          "height": 210
        }
      },
      "source": [
        "dotObj_dfa(DFA_min)"
      ],
      "execution_count": 32,
      "outputs": [
        {
          "output_type": "execute_result",
          "data": {
            "text/plain": [
              "<graphviz.dot.Digraph at 0x7f924f33e090>"
            ],
            "image/svg+xml": "<?xml version=\"1.0\" encoding=\"UTF-8\" standalone=\"no\"?>\n<!DOCTYPE svg PUBLIC \"-//W3C//DTD SVG 1.1//EN\"\n \"http://www.w3.org/Graphics/SVG/1.1/DTD/svg11.dtd\">\n<!-- Generated by graphviz version 2.40.1 (20161225.0304)\n -->\n<!-- Title: %3 Pages: 1 -->\n<svg width=\"539pt\" height=\"142pt\"\n viewBox=\"0.00 0.00 538.98 141.80\" xmlns=\"http://www.w3.org/2000/svg\" xmlns:xlink=\"http://www.w3.org/1999/xlink\">\n<g id=\"graph0\" class=\"graph\" transform=\"scale(1 1) rotate(0) translate(4 137.7958)\">\n<title>%3</title>\n<polygon fill=\"#ffffff\" stroke=\"transparent\" points=\"-4,4 -4,-137.7958 534.9792,-137.7958 534.9792,4 -4,4\"/>\n<!-- EMPTY -->\n<g id=\"node1\" class=\"node\">\n<title>EMPTY</title>\n</g>\n<!-- St3 -->\n<g id=\"node4\" class=\"node\">\n<title>St3</title>\n<ellipse fill=\"none\" stroke=\"#000000\" cx=\"114.3979\" cy=\"-23.3979\" rx=\"23.2963\" ry=\"23.2963\"/>\n<text text-anchor=\"middle\" x=\"114.3979\" y=\"-19.6979\" font-family=\"Times,serif\" font-size=\"14.00\" fill=\"#000000\">St3</text>\n</g>\n<!-- EMPTY&#45;&gt;St3 -->\n<g id=\"edge1\" class=\"edge\">\n<title>EMPTY&#45;&gt;St3</title>\n<path fill=\"none\" stroke=\"#000000\" d=\"M54.1742,-23.3979C62.5103,-23.3979 71.7873,-23.3979 80.5137,-23.3979\"/>\n<polygon fill=\"#000000\" stroke=\"#000000\" points=\"80.7846,-26.898 90.7846,-23.3979 80.7845,-19.898 80.7846,-26.898\"/>\n</g>\n<!-- St2 -->\n<g id=\"node2\" class=\"node\">\n<title>St2</title>\n<ellipse fill=\"none\" stroke=\"#000000\" cx=\"404.7855\" cy=\"-40.3979\" rx=\"23.2963\" ry=\"23.2963\"/>\n<text text-anchor=\"middle\" x=\"404.7855\" y=\"-36.6979\" font-family=\"Times,serif\" font-size=\"14.00\" fill=\"#000000\">St2</text>\n</g>\n<!-- St0 -->\n<g id=\"node5\" class=\"node\">\n<title>St0</title>\n<ellipse fill=\"none\" stroke=\"#000000\" cx=\"503.5813\" cy=\"-40.3979\" rx=\"23.3111\" ry=\"23.3111\"/>\n<ellipse fill=\"none\" stroke=\"#000000\" cx=\"503.5813\" cy=\"-40.3979\" rx=\"27.2962\" ry=\"27.2962\"/>\n<text text-anchor=\"middle\" x=\"503.5813\" y=\"-36.6979\" font-family=\"Times,serif\" font-size=\"14.00\" fill=\"#000000\">St0</text>\n</g>\n<!-- St2&#45;&gt;St0 -->\n<g id=\"edge8\" class=\"edge\">\n<title>St2&#45;&gt;St0</title>\n<path fill=\"none\" stroke=\"#000000\" d=\"M428.1987,-40.3979C439.4326,-40.3979 453.173,-40.3979 465.8312,-40.3979\"/>\n<polygon fill=\"#000000\" stroke=\"#000000\" points=\"466.1309,-43.898 476.1309,-40.3979 466.1309,-36.898 466.1309,-43.898\"/>\n<text text-anchor=\"middle\" x=\"452.1834\" y=\"-44.1979\" font-family=\"Times,serif\" font-size=\"14.00\" fill=\"#000000\">a </text>\n</g>\n<!-- St2&#45;&gt;St0 -->\n<g id=\"edge9\" class=\"edge\">\n<title>St2&#45;&gt;St0</title>\n<path fill=\"none\" stroke=\"#000000\" d=\"M425.2357,-28.908C431.7302,-25.8418 439.0758,-22.9511 446.1834,-21.3979 454.1148,-19.6647 462.4928,-20.7131 470.3237,-23.0205\"/>\n<polygon fill=\"#000000\" stroke=\"#000000\" points=\"469.2814,-26.3658 479.8754,-26.502 471.6786,-19.7891 469.2814,-26.3658\"/>\n<text text-anchor=\"middle\" x=\"452.1834\" y=\"-25.1979\" font-family=\"Times,serif\" font-size=\"14.00\" fill=\"#000000\">b </text>\n</g>\n<!-- St4 -->\n<g id=\"node3\" class=\"node\">\n<title>St4</title>\n<ellipse fill=\"none\" stroke=\"#000000\" cx=\"207.1938\" cy=\"-63.3979\" rx=\"23.2963\" ry=\"23.2963\"/>\n<text text-anchor=\"middle\" x=\"207.1938\" y=\"-59.6979\" font-family=\"Times,serif\" font-size=\"14.00\" fill=\"#000000\">St4</text>\n</g>\n<!-- St1 -->\n<g id=\"node6\" class=\"node\">\n<title>St1</title>\n<ellipse fill=\"none\" stroke=\"#000000\" cx=\"305.9896\" cy=\"-40.3979\" rx=\"23.3111\" ry=\"23.3111\"/>\n<ellipse fill=\"none\" stroke=\"#000000\" cx=\"305.9896\" cy=\"-40.3979\" rx=\"27.2962\" ry=\"27.2962\"/>\n<text text-anchor=\"middle\" x=\"305.9896\" y=\"-36.6979\" font-family=\"Times,serif\" font-size=\"14.00\" fill=\"#000000\">St1</text>\n</g>\n<!-- St4&#45;&gt;St1 -->\n<g id=\"edge4\" class=\"edge\">\n<title>St4&#45;&gt;St1</title>\n<path fill=\"none\" stroke=\"#000000\" d=\"M230.5156,-61.4077C239.9366,-60.3278 250.8615,-58.7234 260.5917,-56.3979 263.9444,-55.5966 267.3954,-54.6381 270.8259,-53.5939\"/>\n<polygon fill=\"#000000\" stroke=\"#000000\" points=\"271.9236,-56.9174 280.341,-50.4834 269.7485,-50.2639 271.9236,-56.9174\"/>\n<text text-anchor=\"middle\" x=\"254.5917\" y=\"-62.1979\" font-family=\"Times,serif\" font-size=\"14.00\" fill=\"#000000\">a </text>\n</g>\n<!-- St4&#45;&gt;St1 -->\n<g id=\"edge5\" class=\"edge\">\n<title>St4&#45;&gt;St1</title>\n<path fill=\"none\" stroke=\"#000000\" d=\"M225.903,-48.5416C232.6593,-44.0493 240.5992,-39.6996 248.5917,-37.3979 254.9473,-35.5676 261.8595,-34.8862 268.614,-34.8814\"/>\n<polygon fill=\"#000000\" stroke=\"#000000\" points=\"268.8443,-38.3958 278.9958,-35.363 269.1688,-31.4033 268.8443,-38.3958\"/>\n<text text-anchor=\"middle\" x=\"254.5917\" y=\"-41.1979\" font-family=\"Times,serif\" font-size=\"14.00\" fill=\"#000000\">b </text>\n</g>\n<!-- St3&#45;&gt;St4 -->\n<g id=\"edge2\" class=\"edge\">\n<title>St3&#45;&gt;St4</title>\n<path fill=\"none\" stroke=\"#000000\" d=\"M135.9204,-32.6753C147.8976,-37.8381 163.0147,-44.3544 176.2414,-50.0558\"/>\n<polygon fill=\"#000000\" stroke=\"#000000\" points=\"174.8979,-53.2879 185.4666,-54.0323 177.6689,-46.8597 174.8979,-53.2879\"/>\n<text text-anchor=\"middle\" x=\"160.7958\" y=\"-48.1979\" font-family=\"Times,serif\" font-size=\"14.00\" fill=\"#000000\">a </text>\n</g>\n<!-- St3&#45;&gt;St1 -->\n<g id=\"edge3\" class=\"edge\">\n<title>St3&#45;&gt;St1</title>\n<path fill=\"none\" stroke=\"#000000\" d=\"M137.6828,-19.0895C161.2399,-15.4104 198.6402,-11.4353 230.5917,-16.3979 243.9804,-18.4774 258.2446,-22.5172 270.7221,-26.698\"/>\n<polygon fill=\"#000000\" stroke=\"#000000\" points=\"269.7001,-30.0484 280.295,-30.0464 272.0114,-23.4409 269.7001,-30.0484\"/>\n<text text-anchor=\"middle\" x=\"207.1938\" y=\"-20.1979\" font-family=\"Times,serif\" font-size=\"14.00\" fill=\"#000000\">b </text>\n</g>\n<!-- St0&#45;&gt;St0 -->\n<g id=\"edge10\" class=\"edge\">\n<title>St0&#45;&gt;St0</title>\n<path fill=\"none\" stroke=\"#000000\" d=\"M498.9041,-67.4297C498.7508,-77.5036 500.3098,-85.7958 503.5813,-85.7958 505.626,-85.7958 507.0018,-82.5567 507.7086,-77.6679\"/>\n<polygon fill=\"#000000\" stroke=\"#000000\" points=\"511.217,-77.6031 508.2585,-67.4297 504.2271,-77.2276 511.217,-77.6031\"/>\n<text text-anchor=\"middle\" x=\"503.5813\" y=\"-89.5958\" font-family=\"Times,serif\" font-size=\"14.00\" fill=\"#000000\">a </text>\n</g>\n<!-- St0&#45;&gt;St0 -->\n<g id=\"edge11\" class=\"edge\">\n<title>St0&#45;&gt;St0</title>\n<path fill=\"none\" stroke=\"#000000\" d=\"M495.1682,-66.777C492.525,-85.3764 495.3294,-103.7958 503.5813,-103.7958 510.286,-103.7958 513.3945,-91.6361 512.9067,-77.1\"/>\n<polygon fill=\"#000000\" stroke=\"#000000\" points=\"516.3612,-76.4301 511.9944,-66.777 509.3884,-77.0463 516.3612,-76.4301\"/>\n<text text-anchor=\"middle\" x=\"503.5813\" y=\"-107.5958\" font-family=\"Times,serif\" font-size=\"14.00\" fill=\"#000000\">b </text>\n</g>\n<!-- St1&#45;&gt;St2 -->\n<g id=\"edge6\" class=\"edge\">\n<title>St1&#45;&gt;St2</title>\n<path fill=\"none\" stroke=\"#000000\" d=\"M333.5098,-40.3979C345.0796,-40.3979 358.6561,-40.3979 370.8385,-40.3979\"/>\n<polygon fill=\"#000000\" stroke=\"#000000\" points=\"371.0998,-43.898 381.0998,-40.3979 371.0998,-36.898 371.0998,-43.898\"/>\n<text text-anchor=\"middle\" x=\"357.3875\" y=\"-44.1979\" font-family=\"Times,serif\" font-size=\"14.00\" fill=\"#000000\">a </text>\n</g>\n<!-- St1&#45;&gt;St2 -->\n<g id=\"edge7\" class=\"edge\">\n<title>St1&#45;&gt;St2</title>\n<path fill=\"none\" stroke=\"#000000\" d=\"M329.6955,-26.502C339.9236,-22.0943 352.1074,-18.933 363.3875,-21.3979 367.2745,-22.2473 371.2327,-23.4967 375.0839,-24.9561\"/>\n<polygon fill=\"#000000\" stroke=\"#000000\" points=\"373.7642,-28.1983 384.3353,-28.908 376.5141,-21.761 373.7642,-28.1983\"/>\n<text text-anchor=\"middle\" x=\"357.3875\" y=\"-25.1979\" font-family=\"Times,serif\" font-size=\"14.00\" fill=\"#000000\">b </text>\n</g>\n</g>\n</svg>\n"
          },
          "metadata": {},
          "execution_count": 32
        }
      ]
    },
    {
      "cell_type": "code",
      "metadata": {
        "id": "IkggfEAPchGL",
        "outputId": "643bc78c-b3f5-4e8f-c2dd-c12277b781da",
        "colab": {
          "base_uri": "https://localhost:8080/",
          "height": 216
        }
      },
      "source": [
        "dotObj_dfa(DFA_min_alt)"
      ],
      "execution_count": 33,
      "outputs": [
        {
          "output_type": "execute_result",
          "data": {
            "text/plain": [
              "<graphviz.dot.Digraph at 0x7f924f335790>"
            ],
            "image/svg+xml": "<?xml version=\"1.0\" encoding=\"UTF-8\" standalone=\"no\"?>\n<!DOCTYPE svg PUBLIC \"-//W3C//DTD SVG 1.1//EN\"\n \"http://www.w3.org/Graphics/SVG/1.1/DTD/svg11.dtd\">\n<!-- Generated by graphviz version 2.40.1 (20161225.0304)\n -->\n<!-- Title: %3 Pages: 1 -->\n<svg width=\"566pt\" height=\"146pt\"\n viewBox=\"0.00 0.00 566.28 145.70\" xmlns=\"http://www.w3.org/2000/svg\" xmlns:xlink=\"http://www.w3.org/1999/xlink\">\n<g id=\"graph0\" class=\"graph\" transform=\"scale(1 1) rotate(0) translate(4 141.6955)\">\n<title>%3</title>\n<polygon fill=\"#ffffff\" stroke=\"transparent\" points=\"-4,4 -4,-141.6955 562.2768,-141.6955 562.2768,4 -4,4\"/>\n<!-- EMPTY -->\n<g id=\"node1\" class=\"node\">\n<title>EMPTY</title>\n</g>\n<!-- IS1 -->\n<g id=\"node2\" class=\"node\">\n<title>IS1</title>\n<ellipse fill=\"none\" stroke=\"#000000\" cx=\"115.0479\" cy=\"-24.0479\" rx=\"24.0958\" ry=\"24.0958\"/>\n<text text-anchor=\"middle\" x=\"115.0479\" y=\"-20.3479\" font-family=\"Times,serif\" font-size=\"14.00\" fill=\"#000000\">IS1</text>\n</g>\n<!-- EMPTY&#45;&gt;IS1 -->\n<g id=\"edge1\" class=\"edge\">\n<title>EMPTY&#45;&gt;IS1</title>\n<path fill=\"none\" stroke=\"#000000\" d=\"M54.3763,-24.0479C62.7026,-24.0479 71.9607,-24.0479 80.6861,-24.0479\"/>\n<polygon fill=\"#000000\" stroke=\"#000000\" points=\"80.9666,-27.548 90.9666,-24.0479 80.9665,-20.548 80.9666,-27.548\"/>\n</g>\n<!-- Temp -->\n<g id=\"node4\" class=\"node\">\n<title>Temp</title>\n<ellipse fill=\"none\" stroke=\"#000000\" cx=\"217.5928\" cy=\"-73.0479\" rx=\"32.4942\" ry=\"32.4942\"/>\n<text text-anchor=\"middle\" x=\"217.5928\" y=\"-69.3479\" font-family=\"Times,serif\" font-size=\"14.00\" fill=\"#000000\">Temp</text>\n</g>\n<!-- IS1&#45;&gt;Temp -->\n<g id=\"edge2\" class=\"edge\">\n<title>IS1&#45;&gt;Temp</title>\n<path fill=\"none\" stroke=\"#000000\" d=\"M136.795,-34.4395C149.0447,-40.2929 164.7053,-47.7761 178.9719,-54.5933\"/>\n<polygon fill=\"#000000\" stroke=\"#000000\" points=\"177.5641,-57.7996 188.0959,-58.9531 180.5821,-51.4836 177.5641,-57.7996\"/>\n<text text-anchor=\"middle\" x=\"162.0957\" y=\"-51.8479\" font-family=\"Times,serif\" font-size=\"14.00\" fill=\"#000000\">a </text>\n</g>\n<!-- FS2 -->\n<g id=\"node6\" class=\"node\">\n<title>FS2</title>\n<ellipse fill=\"none\" stroke=\"#000000\" cx=\"328.7376\" cy=\"-41.0479\" rx=\"26.7766\" ry=\"26.7766\"/>\n<ellipse fill=\"none\" stroke=\"#000000\" cx=\"328.7376\" cy=\"-41.0479\" rx=\"30.796\" ry=\"30.796\"/>\n<text text-anchor=\"middle\" x=\"328.7376\" y=\"-37.3479\" font-family=\"Times,serif\" font-size=\"14.00\" fill=\"#000000\">FS2</text>\n</g>\n<!-- IS1&#45;&gt;FS2 -->\n<g id=\"edge3\" class=\"edge\">\n<title>IS1&#45;&gt;FS2</title>\n<path fill=\"none\" stroke=\"#000000\" d=\"M139.0926,-19.9286C166.2073,-15.9481 211.5459,-11.2977 250.09,-17.0479 263.4593,-19.0424 277.6982,-22.8448 290.3344,-26.8449\"/>\n<polygon fill=\"#000000\" stroke=\"#000000\" points=\"289.4843,-30.25 300.0776,-30.0645 291.6807,-23.6035 289.4843,-30.25\"/>\n<text text-anchor=\"middle\" x=\"217.5928\" y=\"-20.8479\" font-family=\"Times,serif\" font-size=\"14.00\" fill=\"#000000\">b </text>\n</g>\n<!-- S5 -->\n<g id=\"node3\" class=\"node\">\n<title>S5</title>\n<ellipse fill=\"none\" stroke=\"#000000\" cx=\"428.1834\" cy=\"-41.0479\" rx=\"20.5982\" ry=\"20.5982\"/>\n<text text-anchor=\"middle\" x=\"428.1834\" y=\"-37.3479\" font-family=\"Times,serif\" font-size=\"14.00\" fill=\"#000000\">S5</text>\n</g>\n<!-- FS6 -->\n<g id=\"node5\" class=\"node\">\n<title>FS6</title>\n<ellipse fill=\"none\" stroke=\"#000000\" cx=\"527.6292\" cy=\"-41.0479\" rx=\"26.7766\" ry=\"26.7766\"/>\n<ellipse fill=\"none\" stroke=\"#000000\" cx=\"527.6292\" cy=\"-41.0479\" rx=\"30.796\" ry=\"30.796\"/>\n<text text-anchor=\"middle\" x=\"527.6292\" y=\"-37.3479\" font-family=\"Times,serif\" font-size=\"14.00\" fill=\"#000000\">FS6</text>\n</g>\n<!-- S5&#45;&gt;FS6 -->\n<g id=\"edge8\" class=\"edge\">\n<title>S5&#45;&gt;FS6</title>\n<path fill=\"none\" stroke=\"#000000\" d=\"M449.2733,-41.0479C460.1604,-41.0479 473.8256,-41.0479 486.6825,-41.0479\"/>\n<polygon fill=\"#000000\" stroke=\"#000000\" points=\"486.7516,-44.548 496.7515,-41.0479 486.7515,-37.548 486.7516,-44.548\"/>\n<text text-anchor=\"middle\" x=\"472.9815\" y=\"-44.8479\" font-family=\"Times,serif\" font-size=\"14.00\" fill=\"#000000\">a </text>\n</g>\n<!-- S5&#45;&gt;FS6 -->\n<g id=\"edge9\" class=\"edge\">\n<title>S5&#45;&gt;FS6</title>\n<path fill=\"none\" stroke=\"#000000\" d=\"M446.0949,-30.1652C452.4572,-26.8802 459.8211,-23.707 466.9815,-22.0479 474.8417,-20.2266 483.1598,-20.996 491.033,-23.0248\"/>\n<polygon fill=\"#000000\" stroke=\"#000000\" points=\"490.1075,-26.4042 500.6997,-26.1678 492.272,-19.7472 490.1075,-26.4042\"/>\n<text text-anchor=\"middle\" x=\"472.9815\" y=\"-25.8479\" font-family=\"Times,serif\" font-size=\"14.00\" fill=\"#000000\">b </text>\n</g>\n<!-- Temp&#45;&gt;FS2 -->\n<g id=\"edge4\" class=\"edge\">\n<title>Temp&#45;&gt;FS2</title>\n<path fill=\"none\" stroke=\"#000000\" d=\"M249.1785,-65.4004C259.1098,-62.8785 270.0917,-59.9683 280.09,-57.0479 283.2476,-56.1255 286.5087,-55.1356 289.7774,-54.1168\"/>\n<polygon fill=\"#000000\" stroke=\"#000000\" points=\"291.0466,-57.3858 299.5104,-51.0129 288.9197,-50.7167 291.0466,-57.3858\"/>\n<text text-anchor=\"middle\" x=\"274.09\" y=\"-63.8479\" font-family=\"Times,serif\" font-size=\"14.00\" fill=\"#000000\">a </text>\n</g>\n<!-- Temp&#45;&gt;FS2 -->\n<g id=\"edge5\" class=\"edge\">\n<title>Temp&#45;&gt;FS2</title>\n<path fill=\"none\" stroke=\"#000000\" d=\"M242.1967,-51.5977C249.9659,-46.0892 258.9273,-40.9128 268.09,-38.0479 274.5797,-36.0187 281.6492,-35.2025 288.5942,-35.1168\"/>\n<polygon fill=\"#000000\" stroke=\"#000000\" points=\"288.4851,-38.615 298.5986,-35.4578 288.7236,-31.6191 288.4851,-38.615\"/>\n<text text-anchor=\"middle\" x=\"274.09\" y=\"-41.8479\" font-family=\"Times,serif\" font-size=\"14.00\" fill=\"#000000\">b </text>\n</g>\n<!-- FS6&#45;&gt;FS6 -->\n<g id=\"edge10\" class=\"edge\">\n<title>FS6&#45;&gt;FS6</title>\n<path fill=\"none\" stroke=\"#000000\" d=\"M522.5667,-71.4526C522.5667,-81.5876 524.2542,-89.6955 527.6292,-89.6955 529.7386,-89.6955 531.1888,-86.5283 531.9798,-81.6786\"/>\n<polygon fill=\"#000000\" stroke=\"#000000\" points=\"535.4886,-81.6716 532.6917,-71.4526 528.5055,-81.1854 535.4886,-81.6716\"/>\n<text text-anchor=\"middle\" x=\"527.6292\" y=\"-93.4955\" font-family=\"Times,serif\" font-size=\"14.00\" fill=\"#000000\">a </text>\n</g>\n<!-- FS6&#45;&gt;FS6 -->\n<g id=\"edge11\" class=\"edge\">\n<title>FS6&#45;&gt;FS6</title>\n<path fill=\"none\" stroke=\"#000000\" d=\"M518.3051,-70.5136C515.8727,-89.4607 518.9807,-107.6955 527.6292,-107.6955 534.7236,-107.6955 538.0898,-95.4251 537.7278,-80.5566\"/>\n<polygon fill=\"#000000\" stroke=\"#000000\" points=\"541.2119,-80.2148 536.9533,-70.5136 534.2327,-80.7531 541.2119,-80.2148\"/>\n<text text-anchor=\"middle\" x=\"527.6292\" y=\"-111.4955\" font-family=\"Times,serif\" font-size=\"14.00\" fill=\"#000000\">b </text>\n</g>\n<!-- FS2&#45;&gt;S5 -->\n<g id=\"edge6\" class=\"edge\">\n<title>FS2&#45;&gt;S5</title>\n<path fill=\"none\" stroke=\"#000000\" d=\"M359.3861,-41.0479C371.392,-41.0479 385.1468,-41.0479 397.1863,-41.0479\"/>\n<polygon fill=\"#000000\" stroke=\"#000000\" points=\"397.2378,-44.548 407.2378,-41.0479 397.2377,-37.548 397.2378,-44.548\"/>\n<text text-anchor=\"middle\" x=\"383.3852\" y=\"-44.8479\" font-family=\"Times,serif\" font-size=\"14.00\" fill=\"#000000\">a </text>\n</g>\n<!-- FS2&#45;&gt;S5 -->\n<g id=\"edge7\" class=\"edge\">\n<title>FS2&#45;&gt;S5</title>\n<path fill=\"none\" stroke=\"#000000\" d=\"M355.6671,-26.1678C366.1011,-22.1077 378.2063,-19.4576 389.3852,-22.0479 393.3011,-22.9552 397.2778,-24.3154 401.1183,-25.899\"/>\n<polygon fill=\"#000000\" stroke=\"#000000\" points=\"399.7294,-29.1131 410.2718,-30.1652 402.6865,-22.7684 399.7294,-29.1131\"/>\n<text text-anchor=\"middle\" x=\"383.3852\" y=\"-25.8479\" font-family=\"Times,serif\" font-size=\"14.00\" fill=\"#000000\">b </text>\n</g>\n</g>\n</svg>\n"
          },
          "metadata": {},
          "execution_count": 33
        }
      ]
    },
    {
      "cell_type": "code",
      "metadata": {
        "id": "CltElnv7chGM",
        "outputId": "4615b6cb-0700-46c7-aae3-6a2e0516c9e1",
        "colab": {
          "base_uri": "https://localhost:8080/"
        }
      },
      "source": [
        "help(iso_dfa)"
      ],
      "execution_count": 34,
      "outputs": [
        {
          "output_type": "stream",
          "name": "stdout",
          "text": [
            "Help on function iso_dfa in module jove.Def_DFA:\n",
            "\n",
            "iso_dfa(D1, D2)\n",
            "    Given consistent and total DFAs D1 and D2,\n",
            "    check whether they are isomorphic. Two DFAs\n",
            "    are isomorphic if they have the same number\n",
            "    of states and are language-equivalent. (One would\n",
            "    then be able to match-up state for state and transition\n",
            "    for transition.)\n",
            "\n"
          ]
        }
      ]
    },
    {
      "cell_type": "code",
      "metadata": {
        "id": "w6__tQVBchGM",
        "outputId": "bc5656ee-37de-4fbe-bcf3-9608d803dc59",
        "colab": {
          "base_uri": "https://localhost:8080/"
        }
      },
      "source": [
        "\"...SHOW THAT DFA_min and DFA_min_alt are isomorphic by using iso_dfa function...\"\n",
        "\n",
        "iso_dfa(DFA_min, DFA_min_alt)\n"
      ],
      "execution_count": 35,
      "outputs": [
        {
          "output_type": "execute_result",
          "data": {
            "text/plain": [
              "True"
            ]
          },
          "metadata": {},
          "execution_count": 35
        }
      ]
    },
    {
      "cell_type": "markdown",
      "metadata": {
        "id": "ZQFEYyjachGM"
      },
      "source": [
        "### Here are some notes to understand Brzozowski's method\n",
        "\n",
        "* If you are given a DFA \"D1\", a minimal DFA for \"reverse(D1)\" is obtained by \"reverse followed by determinize\"\n",
        "\n",
        "* But since we are interested in the minimal DFA for \"D1\" (and not reverse(D1)), we do these steps again!\n",
        "\n",
        "* Hence the algorithm becomes \"reverse THEN determinize THEN reverse THEN determinize\""
      ]
    }
  ]
}