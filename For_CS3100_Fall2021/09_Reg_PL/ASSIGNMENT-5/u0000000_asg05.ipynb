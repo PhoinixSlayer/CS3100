{
  "nbformat": 4,
  "nbformat_minor": 0,
  "metadata": {
    "colab": {
      "name": "u1234567_asg5_Prob1234.ipynb",
      "provenance": []
    },
    "kernelspec": {
      "display_name": "Python 3",
      "language": "python",
      "name": "python3"
    },
    "language_info": {
      "codemirror_mode": {
        "name": "ipython",
        "version": 3
      },
      "file_extension": ".py",
      "mimetype": "text/x-python",
      "name": "python",
      "nbconvert_exporter": "python",
      "pygments_lexer": "ipython3",
      "version": "3.8.5"
    },
    "toc": {
      "colors": {
        "hover_highlight": "#DAA520",
        "running_highlight": "#FF0000",
        "selected_highlight": "#FFD700"
      },
      "moveMenuLeft": true,
      "nav_menu": {
        "height": "121px",
        "width": "252px"
      },
      "navigate_menu": true,
      "number_sections": true,
      "sideBar": true,
      "threshold": 4,
      "toc_cell": false,
      "toc_section_display": "block",
      "toc_window_display": false,
      "widenNotebook": false
    }
  },
  "cells": [
    {
      "cell_type": "markdown",
      "metadata": {
        "id": "PwYWD2DJyH1_",
        "run_control": {
          "frozen": false,
          "read_only": false
        }
      },
      "source": [
        "# Asg-5 imports \n"
      ]
    },
    {
      "cell_type": "code",
      "metadata": {
        "id": "1Xgq_sM8yH2A",
        "run_control": {
          "frozen": false,
          "read_only": false
        },
        "scrolled": true,
        "outputId": "ce7ef262-fcdc-4962-f36f-22a6c1a6d8cc",
        "colab": {
          "base_uri": "https://localhost:8080/"
        }
      },
      "source": [
        "#~~~~~~~~~~~~~~~~~~~~~~~~~~~~~~~~~~~~~~~~~~~~~~~~~~~~~~~\n",
        "import sys\n",
        "\n",
        "# -- Detect if in Own Install or in Colab\n",
        "try:\n",
        "    import google.colab\n",
        "    OWN_INSTALL = False\n",
        "except:\n",
        "    OWN_INSTALL = True\n",
        "    \n",
        "if OWN_INSTALL:\n",
        "    \n",
        "  #---- Leave these definitions ON if running on laptop\n",
        "  #---- Else turn OFF by putting them between ''' ... '''\n",
        "\n",
        "  sys.path[0:0] = ['../../../../..',  '../../../../../3rdparty',  \n",
        "                   '../../../..',  '../../../../3rdparty',  \n",
        "                   '../../..',     '../../../3rdparty', \n",
        "                   '../..',        '../../3rdparty',\n",
        "                   '..',           '../3rdparty' ]\n",
        "\n",
        "else: # In colab\n",
        "  ! if [ ! -d Jove ]; then git clone https://github.com/ganeshutah/Jove Jove; fi\n",
        "  sys.path.append('./Jove')\n",
        "  sys.path.append('./Jove/jove')\n",
        "\n",
        "# -- common imports --\n",
        "from jove.DotBashers import *\n",
        "from jove.Def_md2mc  import *\n",
        "from jove.AnimatePDA import *\n",
        "from jove.Def_PDA    import *\n",
        "#~~~~~~~~~~~~~~~~~~~~~~~~~~~~~~~~~~~~~~~~~~~~~~~~~~~~~~~"
      ],
      "execution_count": 1,
      "outputs": [
        {
          "output_type": "stream",
          "name": "stdout",
          "text": [
            "Cloning into 'Jove'...\n",
            "remote: Enumerating objects: 4935, done.\u001b[K\n",
            "remote: Counting objects: 100% (301/301), done.\u001b[K\n",
            "remote: Compressing objects: 100% (210/210), done.\u001b[K\n",
            "remote: Total 4935 (delta 176), reused 199 (delta 82), pack-reused 4634\u001b[K\n",
            "Receiving objects: 100% (4935/4935), 7.58 MiB | 17.68 MiB/s, done.\n",
            "Resolving deltas: 100% (3181/3181), done.\n",
            "You may use any of these help commands:\n",
            "help(ResetStNum)\n",
            "help(NxtStateStr)\n",
            "\n",
            "You may use any of these help commands:\n",
            "help(md2mc)\n",
            ".. and if you want to dig more, then ..\n",
            "help(default_line_attr)\n",
            "help(length_ok_input_items)\n",
            "help(union_line_attr_list_fld)\n",
            "help(extend_rsltdict)\n",
            "help(form_delta)\n",
            "help(get_machine_components)\n",
            "\n",
            " \"help(AnimatePDA)\" gives you info on how to use animations with PDA \n"
          ]
        }
      ]
    },
    {
      "cell_type": "markdown",
      "metadata": {
        "id": "9DWYCndfyH1-"
      },
      "source": [
        "## Question 1: \n",
        " "
      ]
    },
    {
      "cell_type": "markdown",
      "metadata": {
        "id": "vs-OI0ooqI9N"
      },
      "source": [
        "Prove that this language is not regular \n",
        "\n",
        "$L_{if} = \\{ a^i b^j c^k \\;:\\; i,j,k\\ge 0,\\; {\\rm and}\\; {\\rm if}\\; (i=2)\\; {\\rm then}\\; (j=k)  \\}$\n",
        "\n",
        "Hint: Consider the reverse of $L_{if}$ calling it the language $LR_{if}$, prove that $LR_{if}$ is non-regular using the Pumping Lemma. Then, justify why this means that $L_{if}$ is non-regular.\n"
      ]
    },
    {
      "cell_type": "markdown",
      "metadata": {
        "id": "Jpw2HZKZqNim"
      },
      "source": [
        "- Answer:"
      ]
    },
    {
      "cell_type": "markdown",
      "metadata": {
        "id": "hql4ESGnyH1_"
      },
      "source": [
        "## Question 2:"
      ]
    },
    {
      "cell_type": "markdown",
      "metadata": {
        "id": "WnLP1lkhqUn-"
      },
      "source": [
        "Prove that language $Add$ is not regular \n",
        "\n",
        "Add = {x = y + z where x, y, and z are binary numbers and the addition yields correct result}\n",
        "          \n",
        "More examples of strings in the language $Add$ are below:\n",
        "\n",
        "* String s1 = \"$101=10+11$\" \n",
        "\n",
        "* String s2 = \"$1000 = 100 + 100$\"\n",
        "\n",
        "* String s3 = \"$1011 = 110 + 101$\""
      ]
    },
    {
      "cell_type": "markdown",
      "metadata": {
        "id": "1EFiFyBirWhO"
      },
      "source": [
        "- Answer:"
      ]
    },
    {
      "cell_type": "markdown",
      "metadata": {
        "id": "lvqcw1nwqlTL"
      },
      "source": [
        "## Question 3:"
      ]
    },
    {
      "cell_type": "markdown",
      "metadata": {
        "id": "eBDJu0_8qnSI"
      },
      "source": [
        "Design a PDA called \"a2b\" for the language $\\{a^i b^j : i,j\\ge 0, {\\rm and}\\; j = 2i \\}$.\n",
        "- Some strings in such language are: $abb$, $aabbbb$, $aaabbbbbb$, etc.\n",
        "- Put a \"header block\" of comments (before you list the PDA transitions) that describes the overall stacking strategy. For example:\n",
        "  - !! The PDA uses the stack in THIS WAY while a's arrive\n",
        "  - !! Then when b's arrive, the PDA does THIS\n",
        "  - !! After b's, if $a$'s arrive, the PDA does THIS\n",
        "- After that, fully document your design (line by line)\n",
        "- Then, test your PDA on these strings\n",
        "  1. $\\varepsilon$ (accept)\n",
        "\n",
        "  2. $abb$ (accept)\n",
        "\n",
        "  3. $aabbbb$ (accept)\n",
        "\n",
        "  4. $aaabbbbbb$ (accept)\n",
        "\n",
        "  5. $ab$ (reject)\n",
        "\n",
        "  6. $b$ (reject)\n",
        "\n",
        "  7. $aba$ (reject)\n",
        "\n",
        "  8. $abba$ (reject)\n",
        "- Finally, add two more accepting and two more rejecting tests of your own."
      ]
    },
    {
      "cell_type": "markdown",
      "metadata": {
        "id": "KydC8uUYs3SL"
      },
      "source": [
        "### Given test cases:"
      ]
    },
    {
      "cell_type": "code",
      "metadata": {
        "id": "BNUyi9p5yH2B"
      },
      "source": [
        "a2b = md2mc('''\n",
        "PDA\n",
        "\n",
        "!! Overall Algorithm:\n",
        "!! When it comes to seeing a inputs, the stack places two 'a's onto the stack.  The idea is that if we're supposed to see twice as many b's as a's, then by placing 2 a's\n",
        "!!  on the stack instead of one for every 'a' seen, all we need to do when we see a b is take one of the a's off of the stack.  If there's the right amount, the last b \n",
        "!!  should leave # as the only thing on the stack.\n",
        "!! Whenever the stack sees a 'b', and the top of the stack has an 'a', the stack removes the 'a' from the top.  If all that's left on the stack is # and there are more 'b' \n",
        "!!  characters left to process, the PDA fails because it only stays on the final state if a 'b' removes an 'a' from the stack.\n",
        "!! If the stack sees 'a' after seeing a 'b', \n",
        "\n",
        "\n",
        "!! Now a line-by-line description\n",
        "\n",
        "IF : a, # ; aa# -> A    !! If see an a, place two on the stack and transition to the A stage\n",
        "\n",
        "A  : a, a ; aaa -> A    !! If see more a's, keep adding two a's for everyone seen to the stack\n",
        "A  : b, a ; ''  -> B    !! If see a b, take off 1 a and transition to B\n",
        "\n",
        "B  : b, a ; ''  -> B    !! For every b, take one a off of the stack if there is still one available at the top\n",
        "B  : '', #; ''  -> IF   !! If nothing left to process and # is all that remains on the stack, transition back to the IF because this is an accepted input\n",
        "\n",
        "''')"
      ],
      "execution_count": 16,
      "outputs": []
    },
    {
      "cell_type": "code",
      "metadata": {
        "id": "GmL0xdfIyH2B",
        "outputId": "edfb3563-e13c-4893-cdd9-f1f23c936a28",
        "colab": {
          "base_uri": "https://localhost:8080/",
          "height": 183
        }
      },
      "source": [
        "dotObj_pda(a2b)"
      ],
      "execution_count": 17,
      "outputs": [
        {
          "output_type": "execute_result",
          "data": {
            "text/plain": [
              "<graphviz.dot.Digraph at 0x7f88a3347f10>"
            ],
            "image/svg+xml": "<?xml version=\"1.0\" encoding=\"UTF-8\" standalone=\"no\"?>\n<!DOCTYPE svg PUBLIC \"-//W3C//DTD SVG 1.1//EN\"\n \"http://www.w3.org/Graphics/SVG/1.1/DTD/svg11.dtd\">\n<!-- Generated by graphviz version 2.40.1 (20161225.0304)\n -->\n<!-- Title: %3 Pages: 1 -->\n<svg width=\"378pt\" height=\"121pt\"\n viewBox=\"0.00 0.00 378.20 121.00\" xmlns=\"http://www.w3.org/2000/svg\" xmlns:xlink=\"http://www.w3.org/1999/xlink\">\n<g id=\"graph0\" class=\"graph\" transform=\"scale(1 1) rotate(0) translate(4 117)\">\n<title>%3</title>\n<polygon fill=\"#ffffff\" stroke=\"transparent\" points=\"-4,4 -4,-117 374.1967,-117 374.1967,4 -4,4\"/>\n<!-- EMPTY -->\n<g id=\"node1\" class=\"node\">\n<title>EMPTY</title>\n</g>\n<!-- IF -->\n<g id=\"node4\" class=\"node\">\n<title>IF</title>\n<ellipse fill=\"none\" stroke=\"#000000\" cx=\"113.8483\" cy=\"-62\" rx=\"18.724\" ry=\"18.724\"/>\n<ellipse fill=\"none\" stroke=\"#000000\" cx=\"113.8483\" cy=\"-62\" rx=\"22.6977\" ry=\"22.6977\"/>\n<text text-anchor=\"middle\" x=\"113.8483\" y=\"-58.3\" font-family=\"Times,serif\" font-size=\"14.00\" fill=\"#000000\">IF</text>\n</g>\n<!-- EMPTY&#45;&gt;IF -->\n<g id=\"edge1\" class=\"edge\">\n<title>EMPTY&#45;&gt;IF</title>\n<path fill=\"none\" stroke=\"#000000\" d=\"M54.0033,-62C62.5212,-62 72.0276,-62 80.9112,-62\"/>\n<polygon fill=\"#000000\" stroke=\"#000000\" points=\"80.9572,-65.5001 90.9572,-62 80.9572,-58.5001 80.9572,-65.5001\"/>\n</g>\n<!-- A -->\n<g id=\"node2\" class=\"node\">\n<title>A</title>\n<ellipse fill=\"none\" stroke=\"#000000\" cx=\"242.6967\" cy=\"-18\" rx=\"18\" ry=\"18\"/>\n<text text-anchor=\"middle\" x=\"242.6967\" y=\"-14.3\" font-family=\"Times,serif\" font-size=\"14.00\" fill=\"#000000\">A</text>\n</g>\n<!-- A&#45;&gt;A -->\n<g id=\"edge3\" class=\"edge\">\n<title>A&#45;&gt;A</title>\n<path fill=\"none\" stroke=\"#000000\" d=\"M233.464,-33.5414C230.8652,-43.9087 233.9427,-54 242.6967,-54 248.4414,-54 251.7416,-49.654 252.5971,-43.7362\"/>\n<polygon fill=\"#000000\" stroke=\"#000000\" points=\"256.0755,-43.2913 251.9293,-33.5414 249.0905,-43.7489 256.0755,-43.2913\"/>\n<text text-anchor=\"middle\" x=\"242.6967\" y=\"-57.8\" font-family=\"Times,serif\" font-size=\"14.00\" fill=\"#000000\">a, a ; aaa</text>\n</g>\n<!-- B -->\n<g id=\"node3\" class=\"node\">\n<title>B</title>\n<ellipse fill=\"none\" stroke=\"#000000\" cx=\"351.6967\" cy=\"-62\" rx=\"18\" ry=\"18\"/>\n<text text-anchor=\"middle\" x=\"351.6967\" y=\"-58.3\" font-family=\"Times,serif\" font-size=\"14.00\" fill=\"#000000\">B</text>\n</g>\n<!-- A&#45;&gt;B -->\n<g id=\"edge4\" class=\"edge\">\n<title>A&#45;&gt;B</title>\n<path fill=\"none\" stroke=\"#000000\" d=\"M259.7279,-24.875C277.3257,-31.9787 305.0252,-43.1602 325.4302,-51.397\"/>\n<polygon fill=\"#000000\" stroke=\"#000000\" points=\"324.2019,-54.6755 334.785,-55.1733 326.8222,-48.1844 324.2019,-54.6755\"/>\n<text text-anchor=\"middle\" x=\"297.1967\" y=\"-49.8\" font-family=\"Times,serif\" font-size=\"14.00\" fill=\"#000000\">b, a ; &#39;&#39;</text>\n</g>\n<!-- B&#45;&gt;B -->\n<g id=\"edge5\" class=\"edge\">\n<title>B&#45;&gt;B</title>\n<path fill=\"none\" stroke=\"#000000\" d=\"M342.464,-77.5414C339.8652,-87.9087 342.9427,-98 351.6967,-98 357.4414,-98 360.7416,-93.654 361.5971,-87.7362\"/>\n<polygon fill=\"#000000\" stroke=\"#000000\" points=\"365.0755,-87.2913 360.9293,-77.5414 358.0905,-87.7489 365.0755,-87.2913\"/>\n<text text-anchor=\"middle\" x=\"351.6967\" y=\"-101.8\" font-family=\"Times,serif\" font-size=\"14.00\" fill=\"#000000\">b, a ; &#39;&#39;</text>\n</g>\n<!-- B&#45;&gt;IF -->\n<g id=\"edge6\" class=\"edge\">\n<title>B&#45;&gt;IF</title>\n<path fill=\"none\" stroke=\"#000000\" d=\"M334.0317,-66.0475C315.7844,-70.0057 286.4249,-75.7554 260.6967,-78 221.1596,-81.4493 175.7608,-74.8815 146.0351,-69.1469\"/>\n<polygon fill=\"#000000\" stroke=\"#000000\" points=\"146.7035,-65.7113 136.2097,-67.1711 145.3234,-72.574 146.7035,-65.7113\"/>\n<text text-anchor=\"middle\" x=\"242.6967\" y=\"-81.8\" font-family=\"Times,serif\" font-size=\"14.00\" fill=\"#000000\">&#39;&#39;, # ; &#39;&#39;</text>\n</g>\n<!-- IF&#45;&gt;A -->\n<g id=\"edge2\" class=\"edge\">\n<title>IF&#45;&gt;A</title>\n<path fill=\"none\" stroke=\"#000000\" d=\"M135.7057,-54.536C157.8197,-46.9843 192.0454,-35.2967 215.8084,-27.182\"/>\n<polygon fill=\"#000000\" stroke=\"#000000\" points=\"216.9538,-30.4894 225.2861,-23.9455 214.6916,-23.865 216.9538,-30.4894\"/>\n<text text-anchor=\"middle\" x=\"180.6967\" y=\"-50.8\" font-family=\"Times,serif\" font-size=\"14.00\" fill=\"#000000\">a, # ; aa#</text>\n</g>\n</g>\n</svg>\n"
          },
          "metadata": {},
          "execution_count": 17
        }
      ]
    },
    {
      "cell_type": "code",
      "metadata": {
        "id": "-I9wnqF0yH2B",
        "outputId": "67cd7f69-0cb7-4188-80d6-5f46a83fd52c",
        "colab": {
          "base_uri": "https://localhost:8080/"
        }
      },
      "source": [
        "explore_pda('', a2b)"
      ],
      "execution_count": 18,
      "outputs": [
        {
          "output_type": "stream",
          "name": "stdout",
          "text": [
            "String  accepted by your PDA in 1 ways :-) \n",
            "Here are the ways: \n",
            "Final state  ('IF', '', '#')\n",
            "Reached as follows:\n",
            "->  ('IF', '', '#') .\n"
          ]
        }
      ]
    },
    {
      "cell_type": "code",
      "metadata": {
        "id": "LkT2W1m2yH2B",
        "outputId": "b558a44f-c4e6-4692-f2a5-e938b6b69983",
        "colab": {
          "base_uri": "https://localhost:8080/"
        }
      },
      "source": [
        "explore_pda('abb', a2b)"
      ],
      "execution_count": 19,
      "outputs": [
        {
          "output_type": "stream",
          "name": "stdout",
          "text": [
            "String abb accepted by your PDA in 1 ways :-) \n",
            "Here are the ways: \n",
            "Final state  ('IF', '', '')\n",
            "Reached as follows:\n",
            "->  ('IF', 'abb', '#')\n",
            "->  ('A', 'bb', 'aa#')\n",
            "->  ('B', 'b', 'a#')\n",
            "->  ('B', '', '#')\n",
            "->  ('IF', '', '') .\n"
          ]
        }
      ]
    },
    {
      "cell_type": "code",
      "metadata": {
        "id": "gfbSu77gyH2B",
        "outputId": "4f111667-92db-4d94-edff-518e0749cf1d",
        "colab": {
          "base_uri": "https://localhost:8080/"
        }
      },
      "source": [
        "explore_pda('aabbbb', a2b)"
      ],
      "execution_count": 20,
      "outputs": [
        {
          "output_type": "stream",
          "name": "stdout",
          "text": [
            "String aabbbb accepted by your PDA in 1 ways :-) \n",
            "Here are the ways: \n",
            "Final state  ('IF', '', '')\n",
            "Reached as follows:\n",
            "->  ('IF', 'aabbbb', '#')\n",
            "->  ('A', 'abbbb', 'aa#')\n",
            "->  ('A', 'bbbb', 'aaaa#')\n",
            "->  ('B', 'bbb', 'aaa#')\n",
            "->  ('B', 'bb', 'aa#')\n",
            "->  ('B', 'b', 'a#')\n",
            "->  ('B', '', '#')\n",
            "->  ('IF', '', '') .\n"
          ]
        }
      ]
    },
    {
      "cell_type": "code",
      "metadata": {
        "id": "Wvh5l8LgyH2C",
        "outputId": "f1b0b266-227d-42c1-e9e7-e1cc5e1e2345",
        "colab": {
          "base_uri": "https://localhost:8080/"
        }
      },
      "source": [
        "explore_pda('aaabbbbbb', a2b)"
      ],
      "execution_count": 21,
      "outputs": [
        {
          "output_type": "stream",
          "name": "stdout",
          "text": [
            "String aaabbbbbb accepted by your PDA in 1 ways :-) \n",
            "Here are the ways: \n",
            "Final state  ('IF', '', '')\n",
            "Reached as follows:\n",
            "->  ('IF', 'aaabbbbbb', '#')\n",
            "->  ('A', 'aabbbbbb', 'aa#')\n",
            "->  ('A', 'abbbbbb', 'aaaa#')\n",
            "->  ('A', 'bbbbbb', 'aaaaaa#')\n",
            "->  ('B', 'bbbbb', 'aaaaa#')\n",
            "->  ('B', 'bbbb', 'aaaa#')\n",
            "->  ('B', 'bbb', 'aaa#')\n",
            "->  ('B', 'bb', 'aa#')\n",
            "->  ('B', 'b', 'a#')\n",
            "->  ('B', '', '#')\n",
            "->  ('IF', '', '') .\n"
          ]
        }
      ]
    },
    {
      "cell_type": "code",
      "metadata": {
        "id": "d6cB517ZyH2C",
        "outputId": "5ab3de19-b725-4f1e-a275-56ff43170297",
        "colab": {
          "base_uri": "https://localhost:8080/"
        }
      },
      "source": [
        "explore_pda('ab', a2b)"
      ],
      "execution_count": 22,
      "outputs": [
        {
          "output_type": "stream",
          "name": "stdout",
          "text": [
            "String ab rejected by your PDA :-(\n",
            "Visited states are:\n",
            "{('A', 'b', 'aa#'), ('IF', 'ab', '#'), ('B', '', 'a#')}\n"
          ]
        }
      ]
    },
    {
      "cell_type": "code",
      "metadata": {
        "id": "CwwJSo7vyH2C",
        "outputId": "466b0681-669c-40bf-fa5e-f5bcf3d399a8",
        "colab": {
          "base_uri": "https://localhost:8080/"
        }
      },
      "source": [
        "explore_pda('b', a2b)"
      ],
      "execution_count": 23,
      "outputs": [
        {
          "output_type": "stream",
          "name": "stdout",
          "text": [
            "String b rejected by your PDA :-(\n",
            "Visited states are:\n",
            "{('IF', 'b', '#')}\n"
          ]
        }
      ]
    },
    {
      "cell_type": "code",
      "metadata": {
        "id": "3KMkj2zcyH2C",
        "outputId": "30d08ce6-84fc-4c75-90a9-34efb51df254",
        "colab": {
          "base_uri": "https://localhost:8080/"
        }
      },
      "source": [
        "explore_pda('aba', a2b)"
      ],
      "execution_count": 24,
      "outputs": [
        {
          "output_type": "stream",
          "name": "stdout",
          "text": [
            "String aba rejected by your PDA :-(\n",
            "Visited states are:\n",
            "{('IF', 'aba', '#'), ('B', 'a', 'a#'), ('A', 'ba', 'aa#')}\n"
          ]
        }
      ]
    },
    {
      "cell_type": "code",
      "metadata": {
        "id": "6P5QjKeMyH2C",
        "outputId": "079a3bdf-138a-4cbe-c38d-00ed1cb2e5a1",
        "colab": {
          "base_uri": "https://localhost:8080/"
        }
      },
      "source": [
        "explore_pda('abba', a2b)"
      ],
      "execution_count": 25,
      "outputs": [
        {
          "output_type": "stream",
          "name": "stdout",
          "text": [
            "String abba rejected by your PDA :-(\n",
            "Visited states are:\n",
            "{('B', 'a', '#'), ('IF', 'a', ''), ('B', 'ba', 'a#'), ('A', 'bba', 'aa#'), ('IF', 'abba', '#')}\n"
          ]
        }
      ]
    },
    {
      "cell_type": "markdown",
      "metadata": {
        "id": "3PJK79yayH2D"
      },
      "source": [
        "### Add your own test cases here:"
      ]
    },
    {
      "cell_type": "code",
      "metadata": {
        "id": "feTF43KyyH2D",
        "outputId": "f0d95c02-821f-465c-cec8-50610773f580",
        "colab": {
          "base_uri": "https://localhost:8080/"
        }
      },
      "source": [
        "# Accepting test case 1:\n",
        "explore_pda('aaaabbbbbbbb', a2b)"
      ],
      "execution_count": 26,
      "outputs": [
        {
          "output_type": "stream",
          "name": "stdout",
          "text": [
            "String aaaabbbbbbbb accepted by your PDA in 1 ways :-) \n",
            "Here are the ways: \n",
            "Final state  ('IF', '', '')\n",
            "Reached as follows:\n",
            "->  ('IF', 'aaaabbbbbbbb', '#')\n",
            "->  ('A', 'aaabbbbbbbb', 'aa#')\n",
            "->  ('A', 'aabbbbbbbb', 'aaaa#')\n",
            "->  ('A', 'abbbbbbbb', 'aaaaaa#')\n",
            "->  ('A', 'bbbbbbbb', 'aaaaaaaa#')\n",
            "->  ('B', 'bbbbbbb', 'aaaaaaa#')\n",
            "->  ('B', 'bbbbbb', 'aaaaaa#')\n",
            "->  ('B', 'bbbbb', 'aaaaa#')\n",
            "->  ('B', 'bbbb', 'aaaa#')\n",
            "->  ('B', 'bbb', 'aaa#')\n",
            "->  ('B', 'bb', 'aa#')\n",
            "->  ('B', 'b', 'a#')\n",
            "->  ('B', '', '#')\n",
            "->  ('IF', '', '') .\n"
          ]
        }
      ]
    },
    {
      "cell_type": "code",
      "metadata": {
        "id": "4Jlm8jn_Pyvx",
        "outputId": "6512ff49-ffd8-44d9-ea70-8cd5f25c5615",
        "colab": {
          "base_uri": "https://localhost:8080/"
        }
      },
      "source": [
        "# Accepting test case 2:\n",
        "explore_pda('aaaaaaaaaabbbbbbbbbbbbbbbbbbbb', a2b)"
      ],
      "execution_count": 27,
      "outputs": [
        {
          "output_type": "stream",
          "name": "stdout",
          "text": [
            "String aaaaaaaaaabbbbbbbbbbbbbbbbbbbb accepted by your PDA in 1 ways :-) \n",
            "Here are the ways: \n",
            "Final state  ('IF', '', '')\n",
            "Reached as follows:\n",
            "->  ('IF', 'aaaaaaaaaabbbbbbbbbbbbbbbbbbbb', '#')\n",
            "->  ('A', 'aaaaaaaaabbbbbbbbbbbbbbbbbbbb', 'aa#')\n",
            "->  ('A', 'aaaaaaaabbbbbbbbbbbbbbbbbbbb', 'aaaa#')\n",
            "->  ('A', 'aaaaaaabbbbbbbbbbbbbbbbbbbb', 'aaaaaa#')\n",
            "->  ('A', 'aaaaaabbbbbbbbbbbbbbbbbbbb', 'aaaaaaaa#')\n",
            "->  ('A', 'aaaaabbbbbbbbbbbbbbbbbbbb', 'aaaaaaaaaa#')\n",
            "->  ('A', 'aaaabbbbbbbbbbbbbbbbbbbb', 'aaaaaaaaaaaa#')\n",
            "->  ('A', 'aaabbbbbbbbbbbbbbbbbbbb', 'aaaaaaaaaaaaaa#')\n",
            "->  ('A', 'aabbbbbbbbbbbbbbbbbbbb', 'aaaaaaaaaaaaaaaa#')\n",
            "->  ('A', 'abbbbbbbbbbbbbbbbbbbb', 'aaaaaaaaaaaaaaaaaa#')\n",
            "->  ('A', 'bbbbbbbbbbbbbbbbbbbb', 'aaaaaaaaaaaaaaaaaaaa#')\n",
            "->  ('B', 'bbbbbbbbbbbbbbbbbbb', 'aaaaaaaaaaaaaaaaaaa#')\n",
            "->  ('B', 'bbbbbbbbbbbbbbbbbb', 'aaaaaaaaaaaaaaaaaa#')\n",
            "->  ('B', 'bbbbbbbbbbbbbbbbb', 'aaaaaaaaaaaaaaaaa#')\n",
            "->  ('B', 'bbbbbbbbbbbbbbbb', 'aaaaaaaaaaaaaaaa#')\n",
            "->  ('B', 'bbbbbbbbbbbbbbb', 'aaaaaaaaaaaaaaa#')\n",
            "->  ('B', 'bbbbbbbbbbbbbb', 'aaaaaaaaaaaaaa#')\n",
            "->  ('B', 'bbbbbbbbbbbbb', 'aaaaaaaaaaaaa#')\n",
            "->  ('B', 'bbbbbbbbbbbb', 'aaaaaaaaaaaa#')\n",
            "->  ('B', 'bbbbbbbbbbb', 'aaaaaaaaaaa#')\n",
            "->  ('B', 'bbbbbbbbbb', 'aaaaaaaaaa#')\n",
            "->  ('B', 'bbbbbbbbb', 'aaaaaaaaa#')\n",
            "->  ('B', 'bbbbbbbb', 'aaaaaaaa#')\n",
            "->  ('B', 'bbbbbbb', 'aaaaaaa#')\n",
            "->  ('B', 'bbbbbb', 'aaaaaa#')\n",
            "->  ('B', 'bbbbb', 'aaaaa#')\n",
            "->  ('B', 'bbbb', 'aaaa#')\n",
            "->  ('B', 'bbb', 'aaa#')\n",
            "->  ('B', 'bb', 'aa#')\n",
            "->  ('B', 'b', 'a#')\n",
            "->  ('B', '', '#')\n",
            "->  ('IF', '', '') .\n"
          ]
        }
      ]
    },
    {
      "cell_type": "code",
      "metadata": {
        "id": "GjdzdCjoP6_k",
        "outputId": "6215d1cd-fc62-41a8-aeec-bd0411836687",
        "colab": {
          "base_uri": "https://localhost:8080/"
        }
      },
      "source": [
        "# Rejected test case 1:\n",
        "explore_pda('aabbbab', a2b)"
      ],
      "execution_count": 28,
      "outputs": [
        {
          "output_type": "stream",
          "name": "stdout",
          "text": [
            "String aabbbab rejected by your PDA :-(\n",
            "Visited states are:\n",
            "{('A', 'abbbab', 'aa#'), ('B', 'ab', 'a#'), ('IF', 'aabbbab', '#'), ('B', 'bbab', 'aaa#'), ('A', 'bbbab', 'aaaa#'), ('B', 'bab', 'aa#')}\n"
          ]
        }
      ]
    },
    {
      "cell_type": "code",
      "metadata": {
        "id": "vsgRv1nNQBHC",
        "outputId": "b9c9ec30-5e23-445c-9fd1-1bc634dc2b4f",
        "colab": {
          "base_uri": "https://localhost:8080/"
        }
      },
      "source": [
        "# Rejected test case 2:\n",
        "explore_pda('bba', a2b)"
      ],
      "execution_count": 29,
      "outputs": [
        {
          "output_type": "stream",
          "name": "stdout",
          "text": [
            "String bba rejected by your PDA :-(\n",
            "Visited states are:\n",
            "{('IF', 'bba', '#')}\n"
          ]
        }
      ]
    },
    {
      "cell_type": "markdown",
      "metadata": {
        "id": "5ttGubLrr3OU"
      },
      "source": [
        "## Question 4:"
      ]
    },
    {
      "cell_type": "markdown",
      "metadata": {
        "id": "HgHEIsUrr92k"
      },
      "source": [
        "Design a PDA for language Lif in question 1. \n",
        "\n",
        "- Hint: when a = 2, the PDA matches b's and c's (using the stack for this match). Else, it only checks their order of arrival (and simply ignores the stack).\n",
        "- Test your PDA on these strings:\n",
        "  - aabbbccc   (accept)\n",
        "  - aabbbbcccc (accept)\n",
        "  - aa         (accept)\n",
        "  - abbbcccc (accept)\n",
        "  - aaabbc   (accept)\n",
        "  - Epsilon    (accept, as there are zero a's)\n",
        "  - abbcc    (accept, as there is no constraint to not match b's and c's if two a's)\n",
        "  - cb        (reject)\n",
        "  - aabbcca (reject)\n",
        "  - abba     (reject)\n",
        "  - ccac       (reject)\n",
        "  - abba       (reject)\n",
        "  - baac       (reject)\n",
        "  - ac         (accept)\n",
        "- Then add three more accepting test cases and three more rejecting test cases. Document the tests saying why they must pass/fail"
      ]
    },
    {
      "cell_type": "code",
      "metadata": {
        "id": "qOGCbbuJyH2D"
      },
      "source": [
        "Lif = md2mc('''\n",
        "PDA\n",
        "\n",
        "!! Overall Algorithm\n",
        "!! ...\n",
        "\n",
        "\n",
        " \n",
        "... Now a line-by-line description\n",
        "\n",
        "I : a, # ; a# -> A\n",
        "\n",
        "A : a, a# ; aa -> A2\n",
        "A : b, #  ; b# -> B\n",
        "A : b, a  ; ba -> B\n",
        "A : '', a ; a  -> F\n",
        "\n",
        "A2 : a, a ; aa -> A3\n",
        "A2 : b, a ; ba -> B2\n",
        "\n",
        "\n",
        "B : b, b ; b  -> B\n",
        "B : c, b ; cb -> F\n",
        "B : '', b ; b -> F\n",
        "\n",
        "F : c, c ; c -> F\n",
        "\n",
        "''')"
      ],
      "execution_count": null,
      "outputs": []
    },
    {
      "cell_type": "code",
      "metadata": {
        "id": "Qyzpk_0byH2E"
      },
      "source": [
        "dotObj_pda(Lif)"
      ],
      "execution_count": null,
      "outputs": []
    },
    {
      "cell_type": "markdown",
      "metadata": {
        "id": "yAxOHtwUyH2E"
      },
      "source": [
        "### Given test cases:"
      ]
    },
    {
      "cell_type": "markdown",
      "metadata": {
        "id": "cbD49D_YyH2E"
      },
      "source": [
        "* aa bbb ccc   (accept)"
      ]
    },
    {
      "cell_type": "code",
      "metadata": {
        "id": "TkyBjxrcyH2F"
      },
      "source": [
        "explore_pda('aabbbccc', Lif)"
      ],
      "execution_count": null,
      "outputs": []
    },
    {
      "cell_type": "markdown",
      "metadata": {
        "id": "qwKAfT20yH2F"
      },
      "source": [
        "* aa bbbb cccc (accept)\n",
        " "
      ]
    },
    {
      "cell_type": "code",
      "metadata": {
        "id": "gr5jQ8WMyH2F"
      },
      "source": [
        "explore_pda('aabbbbcccc', Lif)"
      ],
      "execution_count": null,
      "outputs": []
    },
    {
      "cell_type": "markdown",
      "metadata": {
        "id": "eQWBq-HjyH2F"
      },
      "source": [
        "* aa         (accept)"
      ]
    },
    {
      "cell_type": "code",
      "metadata": {
        "id": "S10QZSA8yH2F"
      },
      "source": [
        "explore_pda('aa', Lif)"
      ],
      "execution_count": null,
      "outputs": []
    },
    {
      "cell_type": "markdown",
      "metadata": {
        "id": "Mu_hxfcHyH2F"
      },
      "source": [
        "* a bbb cccc (accept)"
      ]
    },
    {
      "cell_type": "code",
      "metadata": {
        "id": "qRtQEZ8JyH2G"
      },
      "source": [
        "explore_pda('abbbcccc', Lif)"
      ],
      "execution_count": null,
      "outputs": []
    },
    {
      "cell_type": "markdown",
      "metadata": {
        "id": "22Hhpq-YyH2G"
      },
      "source": [
        "* aaa bb c   (accept)"
      ]
    },
    {
      "cell_type": "code",
      "metadata": {
        "id": "l5ys9PFKyH2G"
      },
      "source": [
        "explore_pda('aaabbc', Lif)"
      ],
      "execution_count": null,
      "outputs": []
    },
    {
      "cell_type": "markdown",
      "metadata": {
        "id": "rODWiy8PyH2G"
      },
      "source": [
        "* Epsilon    (accept, as there are zero a's)"
      ]
    },
    {
      "cell_type": "code",
      "metadata": {
        "id": "QhgMqBbiyH2G"
      },
      "source": [
        "explore_pda('', Lif)"
      ],
      "execution_count": null,
      "outputs": []
    },
    {
      "cell_type": "markdown",
      "metadata": {
        "id": "BXg9_3iZyH2G"
      },
      "source": [
        "* a bb cc    (accept, as there is no constraint to not match b's and c's if two a's)"
      ]
    },
    {
      "cell_type": "code",
      "metadata": {
        "id": "OdwhYAk7yH2H"
      },
      "source": [
        "explore_pda('abbcc', Lif)"
      ],
      "execution_count": null,
      "outputs": []
    },
    {
      "cell_type": "markdown",
      "metadata": {
        "id": "f2ljJYGSyH2H"
      },
      "source": [
        "* b c must accept too"
      ]
    },
    {
      "cell_type": "code",
      "metadata": {
        "id": "TYj2p7FSyH2H"
      },
      "source": [
        "explore_pda('bc', Lif)"
      ],
      "execution_count": null,
      "outputs": []
    },
    {
      "cell_type": "markdown",
      "metadata": {
        "id": "4wSowAWvyH2H"
      },
      "source": [
        "* c b        (reject)"
      ]
    },
    {
      "cell_type": "code",
      "metadata": {
        "id": "njFYWda6yH2H"
      },
      "source": [
        "explore_pda('cb', Lif)"
      ],
      "execution_count": null,
      "outputs": []
    },
    {
      "cell_type": "markdown",
      "metadata": {
        "id": "Q-t4PSqLyH2H"
      },
      "source": [
        "* aa bb cc a (reject)"
      ]
    },
    {
      "cell_type": "code",
      "metadata": {
        "id": "1jgOABLSyH2H"
      },
      "source": [
        "explore_pda('aabbcca', Lif)"
      ],
      "execution_count": null,
      "outputs": []
    },
    {
      "cell_type": "markdown",
      "metadata": {
        "id": "XTm6znnHyH2H"
      },
      "source": [
        "* a bb a     (reject)"
      ]
    },
    {
      "cell_type": "code",
      "metadata": {
        "id": "bQCHZI1IyH2I"
      },
      "source": [
        "explore_pda('abba', Lif)"
      ],
      "execution_count": null,
      "outputs": []
    },
    {
      "cell_type": "markdown",
      "metadata": {
        "id": "VcIqurXVyH2I"
      },
      "source": [
        "* ccac       (reject)"
      ]
    },
    {
      "cell_type": "code",
      "metadata": {
        "id": "M96UpYWPyH2I"
      },
      "source": [
        "explore_pda('ccac', Lif)"
      ],
      "execution_count": null,
      "outputs": []
    },
    {
      "cell_type": "markdown",
      "metadata": {
        "id": "lMjb3ozcyH2I"
      },
      "source": [
        "* abba       (reject)"
      ]
    },
    {
      "cell_type": "code",
      "metadata": {
        "id": "5RHTbf73yH2I"
      },
      "source": [
        "explore_pda('abba', Lif)"
      ],
      "execution_count": null,
      "outputs": []
    },
    {
      "cell_type": "markdown",
      "metadata": {
        "id": "PENs7s32yH2I"
      },
      "source": [
        "* baac       (reject)"
      ]
    },
    {
      "cell_type": "code",
      "metadata": {
        "id": "1ZeWeu_EyH2I"
      },
      "source": [
        "explore_pda('baac', Lif)"
      ],
      "execution_count": null,
      "outputs": []
    },
    {
      "cell_type": "markdown",
      "metadata": {
        "id": "RVFp21rXyH2J"
      },
      "source": [
        "* ac         (accept), as there are no b's  "
      ]
    },
    {
      "cell_type": "code",
      "metadata": {
        "id": "Br1nz3SZyH2J"
      },
      "source": [
        "explore_pda('ac', Lif)"
      ],
      "execution_count": null,
      "outputs": []
    },
    {
      "cell_type": "markdown",
      "metadata": {
        "id": "7C_BvHfxyH2J"
      },
      "source": [
        "* acb (reject)"
      ]
    },
    {
      "cell_type": "code",
      "metadata": {
        "id": "dDOs575fyH2J"
      },
      "source": [
        "explore_pda('acb', Lif)"
      ],
      "execution_count": null,
      "outputs": []
    },
    {
      "cell_type": "markdown",
      "metadata": {
        "id": "tFvi-uZeyH2J"
      },
      "source": [
        "### Add your test cases below:"
      ]
    },
    {
      "cell_type": "code",
      "metadata": {
        "id": "Vk3ax3qdCePR"
      },
      "source": [
        ""
      ],
      "execution_count": null,
      "outputs": []
    },
    {
      "cell_type": "markdown",
      "metadata": {
        "id": "iXp_GBi-yH2J"
      },
      "source": [
        "# END\n"
      ]
    }
  ]
}