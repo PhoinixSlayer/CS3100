{
  "nbformat": 4,
  "nbformat_minor": 0,
  "metadata": {
    "colab": {
      "name": "u1234567_asg5_Prob1234.ipynb",
      "provenance": []
    },
    "kernelspec": {
      "display_name": "Python 3",
      "language": "python",
      "name": "python3"
    },
    "language_info": {
      "codemirror_mode": {
        "name": "ipython",
        "version": 3
      },
      "file_extension": ".py",
      "mimetype": "text/x-python",
      "name": "python",
      "nbconvert_exporter": "python",
      "pygments_lexer": "ipython3",
      "version": "3.8.5"
    },
    "toc": {
      "colors": {
        "hover_highlight": "#DAA520",
        "running_highlight": "#FF0000",
        "selected_highlight": "#FFD700"
      },
      "moveMenuLeft": true,
      "nav_menu": {
        "height": "121px",
        "width": "252px"
      },
      "navigate_menu": true,
      "number_sections": true,
      "sideBar": true,
      "threshold": 4,
      "toc_cell": false,
      "toc_section_display": "block",
      "toc_window_display": false,
      "widenNotebook": false
    }
  },
  "cells": [
    {
      "cell_type": "markdown",
      "metadata": {
        "id": "PwYWD2DJyH1_",
        "run_control": {
          "frozen": false,
          "read_only": false
        }
      },
      "source": [
        "# Asg-5 imports \n"
      ]
    },
    {
      "cell_type": "code",
      "metadata": {
        "id": "1Xgq_sM8yH2A",
        "run_control": {
          "frozen": false,
          "read_only": false
        },
        "scrolled": true,
        "colab": {
          "base_uri": "https://localhost:8080/"
        },
        "outputId": "c9cb1469-96c4-4e84-e0cf-fd5fa703777a"
      },
      "source": [
        "#~~~~~~~~~~~~~~~~~~~~~~~~~~~~~~~~~~~~~~~~~~~~~~~~~~~~~~~\n",
        "import sys\n",
        "\n",
        "# -- Detect if in Own Install or in Colab\n",
        "try:\n",
        "    import google.colab\n",
        "    OWN_INSTALL = False\n",
        "except:\n",
        "    OWN_INSTALL = True\n",
        "    \n",
        "if OWN_INSTALL:\n",
        "    \n",
        "  #---- Leave these definitions ON if running on laptop\n",
        "  #---- Else turn OFF by putting them between ''' ... '''\n",
        "\n",
        "  sys.path[0:0] = ['../../../../..',  '../../../../../3rdparty',  \n",
        "                   '../../../..',  '../../../../3rdparty',  \n",
        "                   '../../..',     '../../../3rdparty', \n",
        "                   '../..',        '../../3rdparty',\n",
        "                   '..',           '../3rdparty' ]\n",
        "\n",
        "else: # In colab\n",
        "  ! if [ ! -d Jove ]; then git clone https://github.com/ganeshutah/Jove Jove; fi\n",
        "  sys.path.append('./Jove')\n",
        "  sys.path.append('./Jove/jove')\n",
        "\n",
        "# -- common imports --\n",
        "from jove.DotBashers import *\n",
        "from jove.Def_md2mc  import *\n",
        "from jove.AnimatePDA import *\n",
        "from jove.Def_PDA    import *\n",
        "#~~~~~~~~~~~~~~~~~~~~~~~~~~~~~~~~~~~~~~~~~~~~~~~~~~~~~~~"
      ],
      "execution_count": 1,
      "outputs": [
        {
          "output_type": "stream",
          "name": "stdout",
          "text": [
            "Cloning into 'Jove'...\n",
            "remote: Enumerating objects: 4939, done.\u001b[K\n",
            "remote: Counting objects: 100% (305/305), done.\u001b[K\n",
            "remote: Compressing objects: 100% (213/213), done.\u001b[K\n",
            "remote: Total 4939 (delta 178), reused 202 (delta 83), pack-reused 4634\u001b[K\n",
            "Receiving objects: 100% (4939/4939), 7.58 MiB | 21.57 MiB/s, done.\n",
            "Resolving deltas: 100% (3183/3183), done.\n",
            "You may use any of these help commands:\n",
            "help(ResetStNum)\n",
            "help(NxtStateStr)\n",
            "\n",
            "You may use any of these help commands:\n",
            "help(md2mc)\n",
            ".. and if you want to dig more, then ..\n",
            "help(default_line_attr)\n",
            "help(length_ok_input_items)\n",
            "help(union_line_attr_list_fld)\n",
            "help(extend_rsltdict)\n",
            "help(form_delta)\n",
            "help(get_machine_components)\n",
            "\n",
            " \"help(AnimatePDA)\" gives you info on how to use animations with PDA \n"
          ]
        }
      ]
    },
    {
      "cell_type": "markdown",
      "metadata": {
        "id": "9DWYCndfyH1-"
      },
      "source": [
        "## Question 1: \n",
        " "
      ]
    },
    {
      "cell_type": "markdown",
      "metadata": {
        "id": "vs-OI0ooqI9N"
      },
      "source": [
        "Prove that this language is not regular \n",
        "\n",
        "$L_{if} = \\{ a^i b^j c^k \\;:\\; i,j,k\\ge 0,\\; {\\rm and}\\; {\\rm if}\\; (i=2)\\; {\\rm then}\\; (j=k)  \\}$\n",
        "\n",
        "Hint: Consider the reverse of $L_{if}$ calling it the language $LR_{if}$, prove that $LR_{if}$ is non-regular using the Pumping Lemma. Then, justify why this means that $L_{if}$ is non-regular.\n"
      ]
    },
    {
      "cell_type": "markdown",
      "metadata": {
        "id": "Jpw2HZKZqNim"
      },
      "source": [
        "- Answer:  "
      ]
    },
    {
      "cell_type": "markdown",
      "metadata": {
        "id": "hql4ESGnyH1_"
      },
      "source": [
        "## Question 2:"
      ]
    },
    {
      "cell_type": "markdown",
      "metadata": {
        "id": "WnLP1lkhqUn-"
      },
      "source": [
        "Prove that language $Add$ is not regular \n",
        "\n",
        "Add = {x = y + z where x, y, and z are binary numbers and the addition yields correct result}\n",
        "          \n",
        "More examples of strings in the language $Add$ are below:\n",
        "\n",
        "* String s1 = \"$101=10+11$\" \n",
        "\n",
        "* String s2 = \"$1000 = 100 + 100$\"\n",
        "\n",
        "* String s3 = \"$1011 = 110 + 101$\""
      ]
    },
    {
      "cell_type": "markdown",
      "metadata": {
        "id": "1EFiFyBirWhO"
      },
      "source": [
        "- Answer:"
      ]
    },
    {
      "cell_type": "markdown",
      "metadata": {
        "id": "lvqcw1nwqlTL"
      },
      "source": [
        "## Question 3:"
      ]
    },
    {
      "cell_type": "markdown",
      "metadata": {
        "id": "eBDJu0_8qnSI"
      },
      "source": [
        "Design a PDA called \"a2b\" for the language $\\{a^i b^j : i,j\\ge 0, {\\rm and}\\; j = 2i \\}$.\n",
        "- Some strings in such language are: $abb$, $aabbbb$, $aaabbbbbb$, etc.\n",
        "- Put a \"header block\" of comments (before you list the PDA transitions) that describes the overall stacking strategy. For example:\n",
        "  - !! The PDA uses the stack in THIS WAY while a's arrive\n",
        "  - !! Then when b's arrive, the PDA does THIS\n",
        "  - !! After b's, if $a$'s arrive, the PDA does THIS\n",
        "- After that, fully document your design (line by line)\n",
        "- Then, test your PDA on these strings\n",
        "  1. $\\varepsilon$ (accept)\n",
        "\n",
        "  2. $abb$ (accept)\n",
        "\n",
        "  3. $aabbbb$ (accept)\n",
        "\n",
        "  4. $aaabbbbbb$ (accept)\n",
        "\n",
        "  5. $ab$ (reject)\n",
        "\n",
        "  6. $b$ (reject)\n",
        "\n",
        "  7. $aba$ (reject)\n",
        "\n",
        "  8. $abba$ (reject)\n",
        "- Finally, add two more accepting and two more rejecting tests of your own."
      ]
    },
    {
      "cell_type": "markdown",
      "metadata": {
        "id": "KydC8uUYs3SL"
      },
      "source": [
        "### Given test cases:"
      ]
    },
    {
      "cell_type": "code",
      "metadata": {
        "id": "BNUyi9p5yH2B"
      },
      "source": [
        "a2b = md2mc('''\n",
        "PDA\n",
        "\n",
        "!! Overall Algorithm:\n",
        "!! When it comes to seeing a inputs, the stack places two 'a's onto the stack.  The idea is that if we're supposed to see twice as many b's as a's, then by placing 2 a's\n",
        "!!  on the stack instead of one for every 'a' seen, all we need to do when we see a b is take one of the a's off of the stack.  If there's the right amount, the last b \n",
        "!!  should leave # as the only thing on the stack.\n",
        "!! Whenever the stack sees a 'b', and the top of the stack has an 'a', the stack removes the 'a' from the top.  If all that's left on the stack is # and there are more 'b' \n",
        "!!  characters left to process, the PDA fails because it only stays on the final state if a 'b' removes an 'a' from the stack.\n",
        "\n",
        "\n",
        "\n",
        "IF : a, # ; aa# -> A    !! If see an a, place two on the stack and transition to the A stage\n",
        "\n",
        "A  : a, a ; aaa -> A    !! If see more a's, keep adding two a's for every 'a' seen to the stack\n",
        "A  : b, a ; ''  -> B    !! If see a b, take off 1 a and transition to B\n",
        "\n",
        "B  : b, a ; ''  -> B    !! For every b, take one a off of the stack if there is still one available at the top\n",
        "B  : '', #; ''  -> IF   !! If nothing left to process and # is all that remains on the stack, transition back to the IF because this is an accepted input\n",
        "\n",
        "''')"
      ],
      "execution_count": 93,
      "outputs": []
    },
    {
      "cell_type": "code",
      "metadata": {
        "id": "GmL0xdfIyH2B",
        "colab": {
          "base_uri": "https://localhost:8080/",
          "height": 183
        },
        "outputId": "18caa1b5-ce84-45b0-e79f-09b5f335b1f5"
      },
      "source": [
        "dotObj_pda(a2b)"
      ],
      "execution_count": 3,
      "outputs": [
        {
          "output_type": "execute_result",
          "data": {
            "text/plain": [
              "<graphviz.dot.Digraph at 0x7fdc58d916d0>"
            ],
            "image/svg+xml": "<?xml version=\"1.0\" encoding=\"UTF-8\" standalone=\"no\"?>\n<!DOCTYPE svg PUBLIC \"-//W3C//DTD SVG 1.1//EN\"\n \"http://www.w3.org/Graphics/SVG/1.1/DTD/svg11.dtd\">\n<!-- Generated by graphviz version 2.40.1 (20161225.0304)\n -->\n<!-- Title: %3 Pages: 1 -->\n<svg width=\"378pt\" height=\"121pt\"\n viewBox=\"0.00 0.00 378.20 121.00\" xmlns=\"http://www.w3.org/2000/svg\" xmlns:xlink=\"http://www.w3.org/1999/xlink\">\n<g id=\"graph0\" class=\"graph\" transform=\"scale(1 1) rotate(0) translate(4 117)\">\n<title>%3</title>\n<polygon fill=\"#ffffff\" stroke=\"transparent\" points=\"-4,4 -4,-117 374.1967,-117 374.1967,4 -4,4\"/>\n<!-- EMPTY -->\n<g id=\"node1\" class=\"node\">\n<title>EMPTY</title>\n</g>\n<!-- IF -->\n<g id=\"node4\" class=\"node\">\n<title>IF</title>\n<ellipse fill=\"none\" stroke=\"#000000\" cx=\"113.8483\" cy=\"-62\" rx=\"18.724\" ry=\"18.724\"/>\n<ellipse fill=\"none\" stroke=\"#000000\" cx=\"113.8483\" cy=\"-62\" rx=\"22.6977\" ry=\"22.6977\"/>\n<text text-anchor=\"middle\" x=\"113.8483\" y=\"-58.3\" font-family=\"Times,serif\" font-size=\"14.00\" fill=\"#000000\">IF</text>\n</g>\n<!-- EMPTY&#45;&gt;IF -->\n<g id=\"edge1\" class=\"edge\">\n<title>EMPTY&#45;&gt;IF</title>\n<path fill=\"none\" stroke=\"#000000\" d=\"M54.0033,-62C62.5212,-62 72.0276,-62 80.9112,-62\"/>\n<polygon fill=\"#000000\" stroke=\"#000000\" points=\"80.9572,-65.5001 90.9572,-62 80.9572,-58.5001 80.9572,-65.5001\"/>\n</g>\n<!-- B -->\n<g id=\"node2\" class=\"node\">\n<title>B</title>\n<ellipse fill=\"none\" stroke=\"#000000\" cx=\"351.6967\" cy=\"-62\" rx=\"18\" ry=\"18\"/>\n<text text-anchor=\"middle\" x=\"351.6967\" y=\"-58.3\" font-family=\"Times,serif\" font-size=\"14.00\" fill=\"#000000\">B</text>\n</g>\n<!-- B&#45;&gt;B -->\n<g id=\"edge5\" class=\"edge\">\n<title>B&#45;&gt;B</title>\n<path fill=\"none\" stroke=\"#000000\" d=\"M342.464,-77.5414C339.8652,-87.9087 342.9427,-98 351.6967,-98 357.4414,-98 360.7416,-93.654 361.5971,-87.7362\"/>\n<polygon fill=\"#000000\" stroke=\"#000000\" points=\"365.0755,-87.2913 360.9293,-77.5414 358.0905,-87.7489 365.0755,-87.2913\"/>\n<text text-anchor=\"middle\" x=\"351.6967\" y=\"-101.8\" font-family=\"Times,serif\" font-size=\"14.00\" fill=\"#000000\">b, a ; &#39;&#39;</text>\n</g>\n<!-- B&#45;&gt;IF -->\n<g id=\"edge6\" class=\"edge\">\n<title>B&#45;&gt;IF</title>\n<path fill=\"none\" stroke=\"#000000\" d=\"M334.0317,-66.0475C315.7844,-70.0057 286.4249,-75.7554 260.6967,-78 221.1596,-81.4493 175.7608,-74.8815 146.0351,-69.1469\"/>\n<polygon fill=\"#000000\" stroke=\"#000000\" points=\"146.7035,-65.7113 136.2097,-67.1711 145.3234,-72.574 146.7035,-65.7113\"/>\n<text text-anchor=\"middle\" x=\"242.6967\" y=\"-81.8\" font-family=\"Times,serif\" font-size=\"14.00\" fill=\"#000000\">&#39;&#39;, # ; &#39;&#39;</text>\n</g>\n<!-- A -->\n<g id=\"node3\" class=\"node\">\n<title>A</title>\n<ellipse fill=\"none\" stroke=\"#000000\" cx=\"242.6967\" cy=\"-18\" rx=\"18\" ry=\"18\"/>\n<text text-anchor=\"middle\" x=\"242.6967\" y=\"-14.3\" font-family=\"Times,serif\" font-size=\"14.00\" fill=\"#000000\">A</text>\n</g>\n<!-- A&#45;&gt;B -->\n<g id=\"edge4\" class=\"edge\">\n<title>A&#45;&gt;B</title>\n<path fill=\"none\" stroke=\"#000000\" d=\"M259.7279,-24.875C277.3257,-31.9787 305.0252,-43.1602 325.4302,-51.397\"/>\n<polygon fill=\"#000000\" stroke=\"#000000\" points=\"324.2019,-54.6755 334.785,-55.1733 326.8222,-48.1844 324.2019,-54.6755\"/>\n<text text-anchor=\"middle\" x=\"297.1967\" y=\"-49.8\" font-family=\"Times,serif\" font-size=\"14.00\" fill=\"#000000\">b, a ; &#39;&#39;</text>\n</g>\n<!-- A&#45;&gt;A -->\n<g id=\"edge3\" class=\"edge\">\n<title>A&#45;&gt;A</title>\n<path fill=\"none\" stroke=\"#000000\" d=\"M233.464,-33.5414C230.8652,-43.9087 233.9427,-54 242.6967,-54 248.4414,-54 251.7416,-49.654 252.5971,-43.7362\"/>\n<polygon fill=\"#000000\" stroke=\"#000000\" points=\"256.0755,-43.2913 251.9293,-33.5414 249.0905,-43.7489 256.0755,-43.2913\"/>\n<text text-anchor=\"middle\" x=\"242.6967\" y=\"-57.8\" font-family=\"Times,serif\" font-size=\"14.00\" fill=\"#000000\">a, a ; aaa</text>\n</g>\n<!-- IF&#45;&gt;A -->\n<g id=\"edge2\" class=\"edge\">\n<title>IF&#45;&gt;A</title>\n<path fill=\"none\" stroke=\"#000000\" d=\"M135.7057,-54.536C157.8197,-46.9843 192.0454,-35.2967 215.8084,-27.182\"/>\n<polygon fill=\"#000000\" stroke=\"#000000\" points=\"216.9538,-30.4894 225.2861,-23.9455 214.6916,-23.865 216.9538,-30.4894\"/>\n<text text-anchor=\"middle\" x=\"180.6967\" y=\"-50.8\" font-family=\"Times,serif\" font-size=\"14.00\" fill=\"#000000\">a, # ; aa#</text>\n</g>\n</g>\n</svg>\n"
          },
          "metadata": {},
          "execution_count": 3
        }
      ]
    },
    {
      "cell_type": "code",
      "metadata": {
        "id": "-I9wnqF0yH2B",
        "colab": {
          "base_uri": "https://localhost:8080/"
        },
        "outputId": "34df3f2d-4447-4ab3-97eb-30dfbbe95e2e"
      },
      "source": [
        "explore_pda('', a2b)"
      ],
      "execution_count": 4,
      "outputs": [
        {
          "output_type": "stream",
          "name": "stdout",
          "text": [
            "String  accepted by your PDA in 1 ways :-) \n",
            "Here are the ways: \n",
            "Final state  ('IF', '', '#')\n",
            "Reached as follows:\n",
            "->  ('IF', '', '#') .\n"
          ]
        }
      ]
    },
    {
      "cell_type": "code",
      "metadata": {
        "id": "LkT2W1m2yH2B",
        "colab": {
          "base_uri": "https://localhost:8080/"
        },
        "outputId": "e402bc24-06e5-4904-ad5a-df6ba6d9eaa7"
      },
      "source": [
        "explore_pda('abb', a2b)"
      ],
      "execution_count": 5,
      "outputs": [
        {
          "output_type": "stream",
          "name": "stdout",
          "text": [
            "String abb accepted by your PDA in 1 ways :-) \n",
            "Here are the ways: \n",
            "Final state  ('IF', '', '')\n",
            "Reached as follows:\n",
            "->  ('IF', 'abb', '#')\n",
            "->  ('A', 'bb', 'aa#')\n",
            "->  ('B', 'b', 'a#')\n",
            "->  ('B', '', '#')\n",
            "->  ('IF', '', '') .\n"
          ]
        }
      ]
    },
    {
      "cell_type": "code",
      "metadata": {
        "id": "gfbSu77gyH2B",
        "colab": {
          "base_uri": "https://localhost:8080/"
        },
        "outputId": "1973de1c-d1e2-40ea-fa4c-f72dac204357"
      },
      "source": [
        "explore_pda('aabbbb', a2b)"
      ],
      "execution_count": 6,
      "outputs": [
        {
          "output_type": "stream",
          "name": "stdout",
          "text": [
            "String aabbbb accepted by your PDA in 1 ways :-) \n",
            "Here are the ways: \n",
            "Final state  ('IF', '', '')\n",
            "Reached as follows:\n",
            "->  ('IF', 'aabbbb', '#')\n",
            "->  ('A', 'abbbb', 'aa#')\n",
            "->  ('A', 'bbbb', 'aaaa#')\n",
            "->  ('B', 'bbb', 'aaa#')\n",
            "->  ('B', 'bb', 'aa#')\n",
            "->  ('B', 'b', 'a#')\n",
            "->  ('B', '', '#')\n",
            "->  ('IF', '', '') .\n"
          ]
        }
      ]
    },
    {
      "cell_type": "code",
      "metadata": {
        "id": "Wvh5l8LgyH2C",
        "colab": {
          "base_uri": "https://localhost:8080/"
        },
        "outputId": "f528c96d-c267-4b5f-c96a-d13af18413df"
      },
      "source": [
        "explore_pda('aaabbbbbb', a2b)"
      ],
      "execution_count": 7,
      "outputs": [
        {
          "output_type": "stream",
          "name": "stdout",
          "text": [
            "String aaabbbbbb accepted by your PDA in 1 ways :-) \n",
            "Here are the ways: \n",
            "Final state  ('IF', '', '')\n",
            "Reached as follows:\n",
            "->  ('IF', 'aaabbbbbb', '#')\n",
            "->  ('A', 'aabbbbbb', 'aa#')\n",
            "->  ('A', 'abbbbbb', 'aaaa#')\n",
            "->  ('A', 'bbbbbb', 'aaaaaa#')\n",
            "->  ('B', 'bbbbb', 'aaaaa#')\n",
            "->  ('B', 'bbbb', 'aaaa#')\n",
            "->  ('B', 'bbb', 'aaa#')\n",
            "->  ('B', 'bb', 'aa#')\n",
            "->  ('B', 'b', 'a#')\n",
            "->  ('B', '', '#')\n",
            "->  ('IF', '', '') .\n"
          ]
        }
      ]
    },
    {
      "cell_type": "code",
      "metadata": {
        "id": "d6cB517ZyH2C",
        "colab": {
          "base_uri": "https://localhost:8080/"
        },
        "outputId": "38f2bb77-3999-47a4-9a72-1ed78ee37fb2"
      },
      "source": [
        "explore_pda('ab', a2b)"
      ],
      "execution_count": 8,
      "outputs": [
        {
          "output_type": "stream",
          "name": "stdout",
          "text": [
            "String ab rejected by your PDA :-(\n",
            "Visited states are:\n",
            "{('A', 'b', 'aa#'), ('IF', 'ab', '#'), ('B', '', 'a#')}\n"
          ]
        }
      ]
    },
    {
      "cell_type": "code",
      "metadata": {
        "id": "CwwJSo7vyH2C",
        "colab": {
          "base_uri": "https://localhost:8080/"
        },
        "outputId": "502aea68-9fab-433a-b148-99e8d6fe719a"
      },
      "source": [
        "explore_pda('b', a2b)"
      ],
      "execution_count": 9,
      "outputs": [
        {
          "output_type": "stream",
          "name": "stdout",
          "text": [
            "String b rejected by your PDA :-(\n",
            "Visited states are:\n",
            "{('IF', 'b', '#')}\n"
          ]
        }
      ]
    },
    {
      "cell_type": "code",
      "metadata": {
        "id": "3KMkj2zcyH2C",
        "colab": {
          "base_uri": "https://localhost:8080/"
        },
        "outputId": "307ca05d-bcd1-4326-d3b0-43771e7a3ad0"
      },
      "source": [
        "explore_pda('aba', a2b)"
      ],
      "execution_count": 10,
      "outputs": [
        {
          "output_type": "stream",
          "name": "stdout",
          "text": [
            "String aba rejected by your PDA :-(\n",
            "Visited states are:\n",
            "{('A', 'ba', 'aa#'), ('B', 'a', 'a#'), ('IF', 'aba', '#')}\n"
          ]
        }
      ]
    },
    {
      "cell_type": "code",
      "metadata": {
        "id": "6P5QjKeMyH2C",
        "colab": {
          "base_uri": "https://localhost:8080/"
        },
        "outputId": "b9b7ff1e-3fc7-43c1-c2be-d44921906666"
      },
      "source": [
        "explore_pda('abba', a2b)"
      ],
      "execution_count": 11,
      "outputs": [
        {
          "output_type": "stream",
          "name": "stdout",
          "text": [
            "String abba rejected by your PDA :-(\n",
            "Visited states are:\n",
            "{('IF', 'abba', '#'), ('A', 'bba', 'aa#'), ('B', 'a', '#'), ('IF', 'a', ''), ('B', 'ba', 'a#')}\n"
          ]
        }
      ]
    },
    {
      "cell_type": "markdown",
      "metadata": {
        "id": "3PJK79yayH2D"
      },
      "source": [
        "### Add your own test cases here:"
      ]
    },
    {
      "cell_type": "code",
      "metadata": {
        "id": "feTF43KyyH2D",
        "colab": {
          "base_uri": "https://localhost:8080/"
        },
        "outputId": "b1f7b92f-14b8-445a-adcb-e328f78fa532"
      },
      "source": [
        "# Accepting test case 1:\n",
        "explore_pda('aaaabbbbbbbb', a2b)"
      ],
      "execution_count": 12,
      "outputs": [
        {
          "output_type": "stream",
          "name": "stdout",
          "text": [
            "String aaaabbbbbbbb accepted by your PDA in 1 ways :-) \n",
            "Here are the ways: \n",
            "Final state  ('IF', '', '')\n",
            "Reached as follows:\n",
            "->  ('IF', 'aaaabbbbbbbb', '#')\n",
            "->  ('A', 'aaabbbbbbbb', 'aa#')\n",
            "->  ('A', 'aabbbbbbbb', 'aaaa#')\n",
            "->  ('A', 'abbbbbbbb', 'aaaaaa#')\n",
            "->  ('A', 'bbbbbbbb', 'aaaaaaaa#')\n",
            "->  ('B', 'bbbbbbb', 'aaaaaaa#')\n",
            "->  ('B', 'bbbbbb', 'aaaaaa#')\n",
            "->  ('B', 'bbbbb', 'aaaaa#')\n",
            "->  ('B', 'bbbb', 'aaaa#')\n",
            "->  ('B', 'bbb', 'aaa#')\n",
            "->  ('B', 'bb', 'aa#')\n",
            "->  ('B', 'b', 'a#')\n",
            "->  ('B', '', '#')\n",
            "->  ('IF', '', '') .\n"
          ]
        }
      ]
    },
    {
      "cell_type": "code",
      "metadata": {
        "id": "4Jlm8jn_Pyvx",
        "colab": {
          "base_uri": "https://localhost:8080/"
        },
        "outputId": "561b1f3e-182c-45ac-ce87-7bbb9fa7712f"
      },
      "source": [
        "# Accepting test case 2:\n",
        "explore_pda('aaaaaaaaaabbbbbbbbbbbbbbbbbbbb', a2b)"
      ],
      "execution_count": 13,
      "outputs": [
        {
          "output_type": "stream",
          "name": "stdout",
          "text": [
            "String aaaaaaaaaabbbbbbbbbbbbbbbbbbbb accepted by your PDA in 1 ways :-) \n",
            "Here are the ways: \n",
            "Final state  ('IF', '', '')\n",
            "Reached as follows:\n",
            "->  ('IF', 'aaaaaaaaaabbbbbbbbbbbbbbbbbbbb', '#')\n",
            "->  ('A', 'aaaaaaaaabbbbbbbbbbbbbbbbbbbb', 'aa#')\n",
            "->  ('A', 'aaaaaaaabbbbbbbbbbbbbbbbbbbb', 'aaaa#')\n",
            "->  ('A', 'aaaaaaabbbbbbbbbbbbbbbbbbbb', 'aaaaaa#')\n",
            "->  ('A', 'aaaaaabbbbbbbbbbbbbbbbbbbb', 'aaaaaaaa#')\n",
            "->  ('A', 'aaaaabbbbbbbbbbbbbbbbbbbb', 'aaaaaaaaaa#')\n",
            "->  ('A', 'aaaabbbbbbbbbbbbbbbbbbbb', 'aaaaaaaaaaaa#')\n",
            "->  ('A', 'aaabbbbbbbbbbbbbbbbbbbb', 'aaaaaaaaaaaaaa#')\n",
            "->  ('A', 'aabbbbbbbbbbbbbbbbbbbb', 'aaaaaaaaaaaaaaaa#')\n",
            "->  ('A', 'abbbbbbbbbbbbbbbbbbbb', 'aaaaaaaaaaaaaaaaaa#')\n",
            "->  ('A', 'bbbbbbbbbbbbbbbbbbbb', 'aaaaaaaaaaaaaaaaaaaa#')\n",
            "->  ('B', 'bbbbbbbbbbbbbbbbbbb', 'aaaaaaaaaaaaaaaaaaa#')\n",
            "->  ('B', 'bbbbbbbbbbbbbbbbbb', 'aaaaaaaaaaaaaaaaaa#')\n",
            "->  ('B', 'bbbbbbbbbbbbbbbbb', 'aaaaaaaaaaaaaaaaa#')\n",
            "->  ('B', 'bbbbbbbbbbbbbbbb', 'aaaaaaaaaaaaaaaa#')\n",
            "->  ('B', 'bbbbbbbbbbbbbbb', 'aaaaaaaaaaaaaaa#')\n",
            "->  ('B', 'bbbbbbbbbbbbbb', 'aaaaaaaaaaaaaa#')\n",
            "->  ('B', 'bbbbbbbbbbbbb', 'aaaaaaaaaaaaa#')\n",
            "->  ('B', 'bbbbbbbbbbbb', 'aaaaaaaaaaaa#')\n",
            "->  ('B', 'bbbbbbbbbbb', 'aaaaaaaaaaa#')\n",
            "->  ('B', 'bbbbbbbbbb', 'aaaaaaaaaa#')\n",
            "->  ('B', 'bbbbbbbbb', 'aaaaaaaaa#')\n",
            "->  ('B', 'bbbbbbbb', 'aaaaaaaa#')\n",
            "->  ('B', 'bbbbbbb', 'aaaaaaa#')\n",
            "->  ('B', 'bbbbbb', 'aaaaaa#')\n",
            "->  ('B', 'bbbbb', 'aaaaa#')\n",
            "->  ('B', 'bbbb', 'aaaa#')\n",
            "->  ('B', 'bbb', 'aaa#')\n",
            "->  ('B', 'bb', 'aa#')\n",
            "->  ('B', 'b', 'a#')\n",
            "->  ('B', '', '#')\n",
            "->  ('IF', '', '') .\n"
          ]
        }
      ]
    },
    {
      "cell_type": "code",
      "metadata": {
        "id": "GjdzdCjoP6_k",
        "colab": {
          "base_uri": "https://localhost:8080/"
        },
        "outputId": "fe70f3b0-bfaa-4bb7-fff2-10f6f6b32a01"
      },
      "source": [
        "# Rejected test case 1:\n",
        "explore_pda('aabbbab', a2b)"
      ],
      "execution_count": 14,
      "outputs": [
        {
          "output_type": "stream",
          "name": "stdout",
          "text": [
            "String aabbbab rejected by your PDA :-(\n",
            "Visited states are:\n",
            "{('IF', 'aabbbab', '#'), ('B', 'bab', 'aa#'), ('B', 'ab', 'a#'), ('B', 'bbab', 'aaa#'), ('A', 'abbbab', 'aa#'), ('A', 'bbbab', 'aaaa#')}\n"
          ]
        }
      ]
    },
    {
      "cell_type": "code",
      "metadata": {
        "id": "vsgRv1nNQBHC",
        "colab": {
          "base_uri": "https://localhost:8080/"
        },
        "outputId": "5330788e-f826-4f03-e1b6-373afd4a01f0"
      },
      "source": [
        "# Rejected test case 2:\n",
        "explore_pda('bba', a2b)"
      ],
      "execution_count": 15,
      "outputs": [
        {
          "output_type": "stream",
          "name": "stdout",
          "text": [
            "String bba rejected by your PDA :-(\n",
            "Visited states are:\n",
            "{('IF', 'bba', '#')}\n"
          ]
        }
      ]
    },
    {
      "cell_type": "markdown",
      "metadata": {
        "id": "5ttGubLrr3OU"
      },
      "source": [
        "## Question 4:"
      ]
    },
    {
      "cell_type": "markdown",
      "metadata": {
        "id": "HgHEIsUrr92k"
      },
      "source": [
        "Design a PDA for language Lif in question 1. \n",
        "\n",
        "- Hint: when a = 2, the PDA matches b's and c's (using the stack for this match). Else, it only checks their order of arrival (and simply ignores the stack).\n",
        "- Test your PDA on these strings:\n",
        "  - aabbbccc   (accept)\n",
        "  - aabbbbcccc (accept)\n",
        "  - aa         (accept)\n",
        "  - abbbcccc (accept)\n",
        "  - aaabbc   (accept)\n",
        "  - Epsilon    (accept, as there are zero a's)\n",
        "  - abbcc    (accept, as there is no constraint to not match b's and c's if two a's)\n",
        "  - cb        (reject)\n",
        "  - aabbcca (reject)\n",
        "  - abba     (reject)\n",
        "  - ccac       (reject)\n",
        "  - abba       (reject)\n",
        "  - baac       (reject)\n",
        "  - ac         (accept)\n",
        "- Then add three more accepting test cases and three more rejecting test cases. Document the tests saying why they must pass/fail"
      ]
    },
    {
      "cell_type": "code",
      "metadata": {
        "id": "qOGCbbuJyH2D"
      },
      "source": [
        "Lif = md2mc('''\n",
        "PDA\n",
        "\n",
        "!! Overall Algorithm\n",
        "!! The basic idea is we process the first character in the string and move to a stage where we loop only on that character, and if we see one of the latter characters\n",
        "!!  transition to that stage where we do the same, and if in one of these stages we see one of the preceding characters, we fail because the characters need to be in\n",
        "!!  the order of aaa...bbb...ccc...\n",
        "!! First, though, we make sure that if there is an a followed by an a, we temporarily transition to a special state where if the next character is b or c, we move down \n",
        "!!  a different route of transitions where we make sure that the number of 'b' characters is equal to the number of 'c' characters, and that the characters a, b, and c still\n",
        "!!  appear in the correct order while still being appearing in the right amounts.\n",
        "\n",
        "\n",
        "\n",
        "I : a, # ; a# -> A  !! If from I, any of the three characters are seen, move to that specific stage. If nothing, move to F because '' is a valid string.\n",
        "I : b, # ; b# -> B\n",
        "I : c, # ; c# -> F\n",
        "I : '', #; #  -> F\n",
        "\n",
        "A : a, a ; aa -> A2 !! At this stage, if a second 'a' is seen, move to the special case in case there are no more a's after this to handle the if condition\n",
        "A : b, a  ; ba -> B !! If a b, move to the relevant stage as there should be no more 'a's.\n",
        "A : c, a  ; ca -> F !! Same for C, move to the last stage.  If only 'c's are seen in that stage, the string is valid.\n",
        "A : '', a ; a  -> F !! If there is nothing else left, the string is valid so move to F\n",
        "\n",
        "B : b, b ; b  -> B  !! While in B, loop on every additional 'b' character, only transitioning out if a 'c' appears or there is nothing else after this.\n",
        "B : c, b ; cb -> F\n",
        "B : '', b ; b -> F\n",
        "\n",
        "F : c, c ; c -> F   !! While in F, we only stay here if we keep seeing 'c' characters or we run out of things to process.\n",
        "F : '', c; c -> F\n",
        "\n",
        "\n",
        "A2 : a, a ; aa -> A3 !! Special case, if we see more 'a' then we move out and return to the normal process.\n",
        "A2 : b, a ; ba -> B2 !! Still special case, a b means string is accepted only on special condition, start that determination by pushing 'b' onto the stack and moving to the special stage\n",
        "A2 : '', a; a  -> F  !! Unique case when number of 'a's is 2. If nothing after this, string is valid because number of b's and c's are the same.\n",
        "\n",
        "A3 : a, a ; a -> A3  !! normal processing case for 'a', as long as we keep seeing 'a's or see another character then we proceed similarly to the other two characters.\n",
        "A3 : b, a ; ba -> B\n",
        "A3 : c, a ; ca -> F\n",
        "A3 : '', a; a  -> F\n",
        "\n",
        "B2 : b, b ; bb -> B2 !! Special case, keep track of the number of 'b's we've seen by adding them to the stack.  Transition out on a 'c'\n",
        "B2 : c, b ; '' -> C2\n",
        "\n",
        "C2 : c, b ; '' -> C2 !! Special case, now that we've seen a c, we continue removing 'b's until we run out of c's.\n",
        "C2 : '', a; a  -> F  !! If there is nothing left and the character left is an 'a', the string is valid because the number of b's and c's are equal because we can't remove 'a' in this step.\n",
        "\n",
        "''')"
      ],
      "execution_count": 91,
      "outputs": []
    },
    {
      "cell_type": "code",
      "metadata": {
        "id": "Qyzpk_0byH2E",
        "colab": {
          "base_uri": "https://localhost:8080/",
          "height": 659
        },
        "outputId": "1436c351-b8c3-417e-bf08-4aa0fd507d8f"
      },
      "source": [
        "dotObj_pda(Lif)"
      ],
      "execution_count": 67,
      "outputs": [
        {
          "output_type": "execute_result",
          "data": {
            "text/plain": [
              "<graphviz.dot.Digraph at 0x7fdc5cafb2d0>"
            ],
            "image/svg+xml": "<?xml version=\"1.0\" encoding=\"UTF-8\" standalone=\"no\"?>\n<!DOCTYPE svg PUBLIC \"-//W3C//DTD SVG 1.1//EN\"\n \"http://www.w3.org/Graphics/SVG/1.1/DTD/svg11.dtd\">\n<!-- Generated by graphviz version 2.40.1 (20161225.0304)\n -->\n<!-- Title: %3 Pages: 1 -->\n<svg width=\"761pt\" height=\"478pt\"\n viewBox=\"0.00 0.00 760.69 478.00\" xmlns=\"http://www.w3.org/2000/svg\" xmlns:xlink=\"http://www.w3.org/1999/xlink\">\n<g id=\"graph0\" class=\"graph\" transform=\"scale(1 1) rotate(0) translate(4 474)\">\n<title>%3</title>\n<polygon fill=\"#ffffff\" stroke=\"transparent\" points=\"-4,4 -4,-474 756.692,-474 756.692,4 -4,4\"/>\n<!-- EMPTY -->\n<g id=\"node1\" class=\"node\">\n<title>EMPTY</title>\n</g>\n<!-- I -->\n<g id=\"node7\" class=\"node\">\n<title>I</title>\n<ellipse fill=\"none\" stroke=\"#000000\" cx=\"109\" cy=\"-61\" rx=\"18\" ry=\"18\"/>\n<text text-anchor=\"middle\" x=\"109\" y=\"-57.3\" font-family=\"Times,serif\" font-size=\"14.00\" fill=\"#000000\">I</text>\n</g>\n<!-- EMPTY&#45;&gt;I -->\n<g id=\"edge1\" class=\"edge\">\n<title>EMPTY&#45;&gt;I</title>\n<path fill=\"none\" stroke=\"#000000\" d=\"M54.3048,-61C62.6909,-61 71.9407,-61 80.4103,-61\"/>\n<polygon fill=\"#000000\" stroke=\"#000000\" points=\"80.5976,-64.5001 90.5976,-61 80.5976,-57.5001 80.5976,-64.5001\"/>\n</g>\n<!-- A2 -->\n<g id=\"node2\" class=\"node\">\n<title>A2</title>\n<ellipse fill=\"none\" stroke=\"#000000\" cx=\"348.5\" cy=\"-275\" rx=\"22.9987\" ry=\"22.9987\"/>\n<text text-anchor=\"middle\" x=\"348.5\" y=\"-271.3\" font-family=\"Times,serif\" font-size=\"14.00\" fill=\"#000000\">A2</text>\n</g>\n<!-- B2 -->\n<g id=\"node3\" class=\"node\">\n<title>B2</title>\n<ellipse fill=\"none\" stroke=\"#000000\" cx=\"477.748\" cy=\"-275\" rx=\"22.1965\" ry=\"22.1965\"/>\n<text text-anchor=\"middle\" x=\"477.748\" y=\"-271.3\" font-family=\"Times,serif\" font-size=\"14.00\" fill=\"#000000\">B2</text>\n</g>\n<!-- A2&#45;&gt;B2 -->\n<g id=\"edge16\" class=\"edge\">\n<title>A2&#45;&gt;B2</title>\n<path fill=\"none\" stroke=\"#000000\" d=\"M371.3094,-275C391.9226,-275 422.4826,-275 445.5759,-275\"/>\n<polygon fill=\"#000000\" stroke=\"#000000\" points=\"445.5984,-278.5001 455.5983,-275 445.5983,-271.5001 445.5984,-278.5001\"/>\n<text text-anchor=\"middle\" x=\"414\" y=\"-278.8\" font-family=\"Times,serif\" font-size=\"14.00\" fill=\"#000000\">b, a ; ba</text>\n</g>\n<!-- A3 -->\n<g id=\"node6\" class=\"node\">\n<title>A3</title>\n<ellipse fill=\"none\" stroke=\"#000000\" cx=\"477.748\" cy=\"-178\" rx=\"22.9987\" ry=\"22.9987\"/>\n<text text-anchor=\"middle\" x=\"477.748\" y=\"-174.3\" font-family=\"Times,serif\" font-size=\"14.00\" fill=\"#000000\">A3</text>\n</g>\n<!-- A2&#45;&gt;A3 -->\n<g id=\"edge15\" class=\"edge\">\n<title>A2&#45;&gt;A3</title>\n<path fill=\"none\" stroke=\"#000000\" d=\"M366.744,-261.308C388.7501,-244.7925 425.9215,-216.8955 451.1279,-197.9782\"/>\n<polygon fill=\"#000000\" stroke=\"#000000\" points=\"453.2811,-200.7384 459.1783,-191.9364 449.0793,-195.1397 453.2811,-200.7384\"/>\n<text text-anchor=\"middle\" x=\"414\" y=\"-243.8\" font-family=\"Times,serif\" font-size=\"14.00\" fill=\"#000000\">a, a ; aa</text>\n</g>\n<!-- F -->\n<g id=\"node9\" class=\"node\">\n<title>F</title>\n<ellipse fill=\"none\" stroke=\"#000000\" cx=\"730.692\" cy=\"-196\" rx=\"18\" ry=\"18\"/>\n<ellipse fill=\"none\" stroke=\"#000000\" cx=\"730.692\" cy=\"-196\" rx=\"22\" ry=\"22\"/>\n<text text-anchor=\"middle\" x=\"730.692\" y=\"-192.3\" font-family=\"Times,serif\" font-size=\"14.00\" fill=\"#000000\">F</text>\n</g>\n<!-- A2&#45;&gt;F -->\n<g id=\"edge17\" class=\"edge\">\n<title>A2&#45;&gt;F</title>\n<path fill=\"none\" stroke=\"#000000\" d=\"M366.3314,-289.8036C386.4278,-305.4591 420.7778,-329.2186 455,-339 528.3745,-359.9719 555.9587,-369.6432 626.692,-341 675.7733,-321.1247 705.6768,-263.1474 720.1311,-226.8098\"/>\n<polygon fill=\"#000000\" stroke=\"#000000\" points=\"723.5089,-227.775 723.8014,-217.1842 716.9682,-225.281 723.5089,-227.775\"/>\n<text text-anchor=\"middle\" x=\"541.496\" y=\"-361.8\" font-family=\"Times,serif\" font-size=\"14.00\" fill=\"#000000\">&#39;&#39;, a ; a</text>\n</g>\n<!-- B2&#45;&gt;B2 -->\n<g id=\"edge22\" class=\"edge\">\n<title>B2&#45;&gt;B2</title>\n<path fill=\"none\" stroke=\"#000000\" d=\"M466.6793,-294.3917C464.6131,-305.1714 468.3027,-315.098 477.748,-315.098 484.0941,-315.098 487.8419,-310.617 488.9915,-304.4069\"/>\n<polygon fill=\"#000000\" stroke=\"#000000\" points=\"492.4908,-304.3291 488.8167,-294.3917 485.4918,-304.4513 492.4908,-304.3291\"/>\n<text text-anchor=\"middle\" x=\"477.748\" y=\"-318.898\" font-family=\"Times,serif\" font-size=\"14.00\" fill=\"#000000\">b, b ; bb</text>\n</g>\n<!-- C2 -->\n<g id=\"node4\" class=\"node\">\n<title>C2</title>\n<ellipse fill=\"none\" stroke=\"#000000\" cx=\"604.594\" cy=\"-277\" rx=\"22.1965\" ry=\"22.1965\"/>\n<text text-anchor=\"middle\" x=\"604.594\" y=\"-273.3\" font-family=\"Times,serif\" font-size=\"14.00\" fill=\"#000000\">C2</text>\n</g>\n<!-- B2&#45;&gt;C2 -->\n<g id=\"edge23\" class=\"edge\">\n<title>B2&#45;&gt;C2</title>\n<path fill=\"none\" stroke=\"#000000\" d=\"M500.1335,-275.353C520.1496,-275.6686 549.7224,-276.1348 572.2984,-276.4908\"/>\n<polygon fill=\"#000000\" stroke=\"#000000\" points=\"572.3783,-279.9924 582.4322,-276.6506 572.4887,-272.9933 572.3783,-279.9924\"/>\n<text text-anchor=\"middle\" x=\"541.496\" y=\"-279.8\" font-family=\"Times,serif\" font-size=\"14.00\" fill=\"#000000\">c, b ; &#39;&#39;</text>\n</g>\n<!-- C2&#45;&gt;C2 -->\n<g id=\"edge24\" class=\"edge\">\n<title>C2&#45;&gt;C2</title>\n<path fill=\"none\" stroke=\"#000000\" d=\"M593.5253,-296.3917C591.4591,-307.1714 595.1487,-317.098 604.594,-317.098 610.9401,-317.098 614.6879,-312.617 615.8375,-306.4069\"/>\n<polygon fill=\"#000000\" stroke=\"#000000\" points=\"619.3368,-306.3291 615.6627,-296.3917 612.3379,-306.4513 619.3368,-306.3291\"/>\n<text text-anchor=\"middle\" x=\"604.594\" y=\"-320.898\" font-family=\"Times,serif\" font-size=\"14.00\" fill=\"#000000\">c, b ; &#39;&#39;</text>\n</g>\n<!-- C2&#45;&gt;F -->\n<g id=\"edge25\" class=\"edge\">\n<title>C2&#45;&gt;F</title>\n<path fill=\"none\" stroke=\"#000000\" d=\"M625.5001,-269.3858C643.6379,-262.2494 670.1367,-250.5173 690.692,-236 697.0896,-231.4817 703.383,-225.8966 709.0163,-220.348\"/>\n<polygon fill=\"#000000\" stroke=\"#000000\" points=\"711.7842,-222.5215 716.2368,-212.9077 706.7608,-217.6465 711.7842,-222.5215\"/>\n<text text-anchor=\"middle\" x=\"667.692\" y=\"-263.8\" font-family=\"Times,serif\" font-size=\"14.00\" fill=\"#000000\">&#39;&#39;, a ; a</text>\n</g>\n<!-- A -->\n<g id=\"node5\" class=\"node\">\n<title>A</title>\n<ellipse fill=\"none\" stroke=\"#000000\" cx=\"227\" cy=\"-275\" rx=\"18\" ry=\"18\"/>\n<text text-anchor=\"middle\" x=\"227\" y=\"-271.3\" font-family=\"Times,serif\" font-size=\"14.00\" fill=\"#000000\">A</text>\n</g>\n<!-- A&#45;&gt;A2 -->\n<g id=\"edge6\" class=\"edge\">\n<title>A&#45;&gt;A2</title>\n<path fill=\"none\" stroke=\"#000000\" d=\"M245.1898,-275C263.7061,-275 292.8234,-275 315.4332,-275\"/>\n<polygon fill=\"#000000\" stroke=\"#000000\" points=\"315.6178,-278.5001 325.6178,-275 315.6178,-271.5001 315.6178,-278.5001\"/>\n<text text-anchor=\"middle\" x=\"284.5\" y=\"-278.8\" font-family=\"Times,serif\" font-size=\"14.00\" fill=\"#000000\">a, a ; aa</text>\n</g>\n<!-- B -->\n<g id=\"node8\" class=\"node\">\n<title>B</title>\n<ellipse fill=\"none\" stroke=\"#000000\" cx=\"604.594\" cy=\"-84\" rx=\"18\" ry=\"18\"/>\n<text text-anchor=\"middle\" x=\"604.594\" y=\"-80.3\" font-family=\"Times,serif\" font-size=\"14.00\" fill=\"#000000\">B</text>\n</g>\n<!-- A&#45;&gt;B -->\n<g id=\"edge7\" class=\"edge\">\n<title>A&#45;&gt;B</title>\n<path fill=\"none\" stroke=\"#000000\" d=\"M242.4021,-265.413C278.6761,-243.0296 372.6373,-186.1821 455,-146 497.2232,-125.4006 548.0657,-105.2758 578.283,-93.7836\"/>\n<polygon fill=\"#000000\" stroke=\"#000000\" points=\"579.5785,-97.0356 587.6976,-90.2289 577.1059,-90.4869 579.5785,-97.0356\"/>\n<text text-anchor=\"middle\" x=\"414\" y=\"-182.8\" font-family=\"Times,serif\" font-size=\"14.00\" fill=\"#000000\">b, a ; ba</text>\n</g>\n<!-- A&#45;&gt;F -->\n<g id=\"edge8\" class=\"edge\">\n<title>A&#45;&gt;F</title>\n<path fill=\"none\" stroke=\"#000000\" d=\"M229.5211,-293.0339C234.5995,-327.0857 246.9583,-399.1277 263,-418 289.8165,-449.5483 307.0944,-455 348.5,-455 348.5,-455 348.5,-455 604.594,-455 646.2436,-455 664.7763,-450.6047 690.692,-418 713.6513,-389.1149 724.4835,-282.4695 728.6019,-228.1906\"/>\n<polygon fill=\"#000000\" stroke=\"#000000\" points=\"732.1031,-228.2991 729.3376,-218.0716 725.1216,-227.7914 732.1031,-228.2991\"/>\n<text text-anchor=\"middle\" x=\"477.748\" y=\"-458.8\" font-family=\"Times,serif\" font-size=\"14.00\" fill=\"#000000\">c, a ; ca</text>\n</g>\n<!-- A&#45;&gt;F -->\n<g id=\"edge9\" class=\"edge\">\n<title>A&#45;&gt;F</title>\n<path fill=\"none\" stroke=\"#000000\" d=\"M233.5035,-291.8645C248.2155,-326.8315 287.5842,-404 348.5,-404 348.5,-404 348.5,-404 604.594,-404 685.8919,-404 716.2273,-286.3684 726.2731,-228.0282\"/>\n<polygon fill=\"#000000\" stroke=\"#000000\" points=\"729.775,-228.2978 727.9204,-217.8665 722.8652,-227.1775 729.775,-228.2978\"/>\n<text text-anchor=\"middle\" x=\"477.748\" y=\"-407.8\" font-family=\"Times,serif\" font-size=\"14.00\" fill=\"#000000\">&#39;&#39;, a ; a</text>\n</g>\n<!-- A3&#45;&gt;A3 -->\n<g id=\"edge18\" class=\"edge\">\n<title>A3&#45;&gt;A3</title>\n<path fill=\"none\" stroke=\"#000000\" d=\"M466.6026,-198.1269C464.7086,-208.9175 468.4238,-218.748 477.748,-218.748 483.867,-218.748 487.5704,-214.5143 488.8581,-208.554\"/>\n<polygon fill=\"#000000\" stroke=\"#000000\" points=\"492.3595,-208.1387 488.8933,-198.1269 485.3595,-208.115 492.3595,-208.1387\"/>\n<text text-anchor=\"middle\" x=\"477.748\" y=\"-222.548\" font-family=\"Times,serif\" font-size=\"14.00\" fill=\"#000000\">a, a ; a</text>\n</g>\n<!-- A3&#45;&gt;B -->\n<g id=\"edge19\" class=\"edge\">\n<title>A3&#45;&gt;B</title>\n<path fill=\"none\" stroke=\"#000000\" d=\"M494.448,-162.0223C501.5454,-155.6759 510.1082,-148.5755 518.496,-143 537.5317,-130.3466 545.6002,-132.8615 564.496,-120 571.4565,-115.2623 578.4789,-109.4063 584.6593,-103.8039\"/>\n<polygon fill=\"#000000\" stroke=\"#000000\" points=\"587.0708,-106.3408 591.9695,-96.9464 582.2816,-101.2354 587.0708,-106.3408\"/>\n<text text-anchor=\"middle\" x=\"541.496\" y=\"-146.8\" font-family=\"Times,serif\" font-size=\"14.00\" fill=\"#000000\">b, a ; ba</text>\n</g>\n<!-- A3&#45;&gt;F -->\n<g id=\"edge20\" class=\"edge\">\n<title>A3&#45;&gt;F</title>\n<path fill=\"none\" stroke=\"#000000\" d=\"M500.0796,-182.9332C506.038,-184.0988 512.4898,-185.2261 518.496,-186 581.9243,-194.1725 656.7848,-195.8617 698.4876,-196.101\"/>\n<polygon fill=\"#000000\" stroke=\"#000000\" points=\"698.5836,-199.6012 708.595,-196.1339 698.6064,-192.6013 698.5836,-199.6012\"/>\n<text text-anchor=\"middle\" x=\"604.594\" y=\"-197.8\" font-family=\"Times,serif\" font-size=\"14.00\" fill=\"#000000\">c, a ; ca</text>\n</g>\n<!-- A3&#45;&gt;F -->\n<g id=\"edge21\" class=\"edge\">\n<title>A3&#45;&gt;F</title>\n<path fill=\"none\" stroke=\"#000000\" d=\"M500.5339,-175.231C529.8198,-172.1311 582.1967,-168.1386 626.692,-173 651.5385,-175.7146 679.1397,-181.9744 699.6603,-187.2789\"/>\n<polygon fill=\"#000000\" stroke=\"#000000\" points=\"698.8444,-190.6834 709.4075,-189.864 700.6389,-183.9174 698.8444,-190.6834\"/>\n<text text-anchor=\"middle\" x=\"604.594\" y=\"-176.8\" font-family=\"Times,serif\" font-size=\"14.00\" fill=\"#000000\">&#39;&#39;, a ; a</text>\n</g>\n<!-- I&#45;&gt;A -->\n<g id=\"edge2\" class=\"edge\">\n<title>I&#45;&gt;A</title>\n<path fill=\"none\" stroke=\"#000000\" d=\"M117.8692,-77.0848C138.2923,-114.1233 188.7605,-205.6504 213.2418,-250.0486\"/>\n<polygon fill=\"#000000\" stroke=\"#000000\" points=\"210.2953,-251.9535 218.1889,-259.0205 216.4252,-248.5735 210.2953,-251.9535\"/>\n<text text-anchor=\"middle\" x=\"168\" y=\"-208.8\" font-family=\"Times,serif\" font-size=\"14.00\" fill=\"#000000\">a, # ; a#</text>\n</g>\n<!-- I&#45;&gt;B -->\n<g id=\"edge3\" class=\"edge\">\n<title>I&#45;&gt;B</title>\n<path fill=\"none\" stroke=\"#000000\" d=\"M126.3862,-66.5677C149.2216,-73.3746 190.6834,-84 227,-84 227,-84 227,-84 477.748,-84 511.6617,-84 550.6757,-84 576.3811,-84\"/>\n<polygon fill=\"#000000\" stroke=\"#000000\" points=\"576.5292,-87.5001 586.5292,-84 576.5291,-80.5001 576.5292,-87.5001\"/>\n<text text-anchor=\"middle\" x=\"348.5\" y=\"-87.8\" font-family=\"Times,serif\" font-size=\"14.00\" fill=\"#000000\">b, # ; b#</text>\n</g>\n<!-- I&#45;&gt;F -->\n<g id=\"edge4\" class=\"edge\">\n<title>I&#45;&gt;F</title>\n<path fill=\"none\" stroke=\"#000000\" d=\"M126.3862,-55.4323C149.2216,-48.6254 190.6834,-38 227,-38 227,-38 227,-38 604.594,-38 646.0702,-38 662.5482,-43.5337 690.692,-74 713.5248,-98.717 723.3384,-136.7069 727.5477,-163.721\"/>\n<polygon fill=\"#000000\" stroke=\"#000000\" points=\"724.1102,-164.4145 728.945,-173.8419 731.0444,-163.4571 724.1102,-164.4145\"/>\n<text text-anchor=\"middle\" x=\"414\" y=\"-41.8\" font-family=\"Times,serif\" font-size=\"14.00\" fill=\"#000000\">c, # ; c#</text>\n</g>\n<!-- I&#45;&gt;F -->\n<g id=\"edge5\" class=\"edge\">\n<title>I&#45;&gt;F</title>\n<path fill=\"none\" stroke=\"#000000\" d=\"M122.3579,-48.6557C143.0939,-30.8314 185.028,0 227,0 227,0 227,0 604.594,0 646.2436,0 663.6799,-5.2977 690.692,-37 706.8678,-55.9844 719.6417,-123.4862 726.0911,-164.1839\"/>\n<polygon fill=\"#000000\" stroke=\"#000000\" points=\"722.6453,-164.8038 727.6296,-174.153 729.5634,-163.7361 722.6453,-164.8038\"/>\n<text text-anchor=\"middle\" x=\"414\" y=\"-3.8\" font-family=\"Times,serif\" font-size=\"14.00\" fill=\"#000000\">&#39;&#39;, # ; #</text>\n</g>\n<!-- B&#45;&gt;B -->\n<g id=\"edge10\" class=\"edge\">\n<title>B&#45;&gt;B</title>\n<path fill=\"none\" stroke=\"#000000\" d=\"M594.2206,-98.7917C590.8432,-109.4165 594.301,-120 604.594,-120 611.5096,-120 615.3397,-115.2224 616.0842,-108.8647\"/>\n<polygon fill=\"#000000\" stroke=\"#000000\" points=\"619.5482,-108.345 614.9674,-98.7917 612.5908,-109.1165 619.5482,-108.345\"/>\n<text text-anchor=\"middle\" x=\"604.594\" y=\"-123.8\" font-family=\"Times,serif\" font-size=\"14.00\" fill=\"#000000\">b, b ; b</text>\n</g>\n<!-- B&#45;&gt;F -->\n<g id=\"edge11\" class=\"edge\">\n<title>B&#45;&gt;F</title>\n<path fill=\"none\" stroke=\"#000000\" d=\"M620.1119,-93.5595C641.585,-106.9371 679.0339,-130.8519 690.692,-142 698.999,-149.9435 706.8362,-159.7702 713.3349,-168.8543\"/>\n<polygon fill=\"#000000\" stroke=\"#000000\" points=\"710.5677,-171.0068 719.1272,-177.2506 716.3296,-167.0318 710.5677,-171.0068\"/>\n<text text-anchor=\"middle\" x=\"667.692\" y=\"-145.8\" font-family=\"Times,serif\" font-size=\"14.00\" fill=\"#000000\">c, b ; cb</text>\n</g>\n<!-- B&#45;&gt;F -->\n<g id=\"edge12\" class=\"edge\">\n<title>B&#45;&gt;F</title>\n<path fill=\"none\" stroke=\"#000000\" d=\"M622.3398,-80.3412C641.2203,-77.514 671.023,-76.2338 690.692,-91 713.3861,-108.0372 723.2047,-139.6172 727.4527,-163.7105\"/>\n<polygon fill=\"#000000\" stroke=\"#000000\" points=\"724.0301,-164.4846 728.9962,-173.8434 730.9503,-163.4303 724.0301,-164.4846\"/>\n<text text-anchor=\"middle\" x=\"667.692\" y=\"-94.8\" font-family=\"Times,serif\" font-size=\"14.00\" fill=\"#000000\">&#39;&#39;, b ; b</text>\n</g>\n<!-- F&#45;&gt;F -->\n<g id=\"edge13\" class=\"edge\">\n<title>F&#45;&gt;F</title>\n<path fill=\"none\" stroke=\"#000000\" d=\"M724.9945,-217.3994C724.3729,-227.3265 726.2721,-236 730.692,-236 733.4545,-236 735.2323,-232.6119 736.0254,-227.6472\"/>\n<polygon fill=\"#000000\" stroke=\"#000000\" points=\"739.5321,-227.5174 736.3896,-217.3994 732.5366,-227.2688 739.5321,-227.5174\"/>\n<text text-anchor=\"middle\" x=\"730.692\" y=\"-239.8\" font-family=\"Times,serif\" font-size=\"14.00\" fill=\"#000000\">c, c ; c</text>\n</g>\n<!-- F&#45;&gt;F -->\n<g id=\"edge14\" class=\"edge\">\n<title>F&#45;&gt;F</title>\n<path fill=\"none\" stroke=\"#000000\" d=\"M721.2134,-215.9104C716.4524,-234.2413 719.612,-254 730.692,-254 739.7812,-254 743.5405,-240.7041 741.97,-225.8073\"/>\n<polygon fill=\"#000000\" stroke=\"#000000\" points=\"745.403,-225.1231 740.1707,-215.9104 738.5159,-226.3752 745.403,-225.1231\"/>\n<text text-anchor=\"middle\" x=\"730.692\" y=\"-257.8\" font-family=\"Times,serif\" font-size=\"14.00\" fill=\"#000000\">&#39;&#39;, c ; c</text>\n</g>\n</g>\n</svg>\n"
          },
          "metadata": {},
          "execution_count": 67
        }
      ]
    },
    {
      "cell_type": "markdown",
      "metadata": {
        "id": "yAxOHtwUyH2E"
      },
      "source": [
        "### Given test cases:"
      ]
    },
    {
      "cell_type": "markdown",
      "metadata": {
        "id": "cbD49D_YyH2E"
      },
      "source": [
        "* aa bbb ccc   (accept)"
      ]
    },
    {
      "cell_type": "code",
      "metadata": {
        "id": "TkyBjxrcyH2F",
        "colab": {
          "base_uri": "https://localhost:8080/"
        },
        "outputId": "547b2cd4-c1d5-454c-b09e-12826701c780"
      },
      "source": [
        "explore_pda('aabbbccc', Lif)"
      ],
      "execution_count": 68,
      "outputs": [
        {
          "output_type": "stream",
          "name": "stdout",
          "text": [
            "String aabbbccc accepted by your PDA in 1 ways :-) \n",
            "Here are the ways: \n",
            "Final state  ('F', '', 'aa#')\n",
            "Reached as follows:\n",
            "->  ('I', 'aabbbccc', '#')\n",
            "->  ('A', 'abbbccc', 'a#')\n",
            "->  ('A2', 'bbbccc', 'aa#')\n",
            "->  ('B2', 'bbccc', 'baa#')\n",
            "->  ('B2', 'bccc', 'bbaa#')\n",
            "->  ('B2', 'ccc', 'bbbaa#')\n",
            "->  ('C2', 'cc', 'bbaa#')\n",
            "->  ('C2', 'c', 'baa#')\n",
            "->  ('C2', '', 'aa#')\n",
            "->  ('F', '', 'aa#') .\n"
          ]
        }
      ]
    },
    {
      "cell_type": "markdown",
      "metadata": {
        "id": "qwKAfT20yH2F"
      },
      "source": [
        "* aa bbbb cccc (accept)\n",
        " "
      ]
    },
    {
      "cell_type": "code",
      "metadata": {
        "id": "gr5jQ8WMyH2F",
        "colab": {
          "base_uri": "https://localhost:8080/"
        },
        "outputId": "21e57367-7ae7-494f-8f99-57df347cd31b"
      },
      "source": [
        "explore_pda('aabbbbcccc', Lif)"
      ],
      "execution_count": 69,
      "outputs": [
        {
          "output_type": "stream",
          "name": "stdout",
          "text": [
            "String aabbbbcccc accepted by your PDA in 1 ways :-) \n",
            "Here are the ways: \n",
            "Final state  ('F', '', 'aa#')\n",
            "Reached as follows:\n",
            "->  ('I', 'aabbbbcccc', '#')\n",
            "->  ('A', 'abbbbcccc', 'a#')\n",
            "->  ('A2', 'bbbbcccc', 'aa#')\n",
            "->  ('B2', 'bbbcccc', 'baa#')\n",
            "->  ('B2', 'bbcccc', 'bbaa#')\n",
            "->  ('B2', 'bcccc', 'bbbaa#')\n",
            "->  ('B2', 'cccc', 'bbbbaa#')\n",
            "->  ('C2', 'ccc', 'bbbaa#')\n",
            "->  ('C2', 'cc', 'bbaa#')\n",
            "->  ('C2', 'c', 'baa#')\n",
            "->  ('C2', '', 'aa#')\n",
            "->  ('F', '', 'aa#') .\n"
          ]
        }
      ]
    },
    {
      "cell_type": "markdown",
      "metadata": {
        "id": "eQWBq-HjyH2F"
      },
      "source": [
        "* aa         (accept)"
      ]
    },
    {
      "cell_type": "code",
      "metadata": {
        "id": "S10QZSA8yH2F",
        "colab": {
          "base_uri": "https://localhost:8080/"
        },
        "outputId": "2033d581-06c6-4bb0-8b87-4d858b580bb4"
      },
      "source": [
        "explore_pda('aa', Lif)"
      ],
      "execution_count": 70,
      "outputs": [
        {
          "output_type": "stream",
          "name": "stdout",
          "text": [
            "String aa accepted by your PDA in 1 ways :-) \n",
            "Here are the ways: \n",
            "Final state  ('F', '', 'aa#')\n",
            "Reached as follows:\n",
            "->  ('I', 'aa', '#')\n",
            "->  ('A', 'a', 'a#')\n",
            "->  ('A2', '', 'aa#')\n",
            "->  ('F', '', 'aa#') .\n"
          ]
        }
      ]
    },
    {
      "cell_type": "markdown",
      "metadata": {
        "id": "Mu_hxfcHyH2F"
      },
      "source": [
        "* a bbb cccc (accept)"
      ]
    },
    {
      "cell_type": "code",
      "metadata": {
        "id": "qRtQEZ8JyH2G",
        "colab": {
          "base_uri": "https://localhost:8080/"
        },
        "outputId": "cf92b029-9b13-4261-a29c-ab0932e63d93"
      },
      "source": [
        "explore_pda('abbbcccc', Lif)"
      ],
      "execution_count": 71,
      "outputs": [
        {
          "output_type": "stream",
          "name": "stdout",
          "text": [
            "String abbbcccc accepted by your PDA in 2 ways :-) \n",
            "Here are the ways: \n",
            "Final state  ('F', '', 'cba#')\n",
            "Reached as follows:\n",
            "->  ('I', 'abbbcccc', '#')\n",
            "->  ('A', 'bbbcccc', 'a#')\n",
            "->  ('B', 'bbcccc', 'ba#')\n",
            "->  ('B', 'bcccc', 'ba#')\n",
            "->  ('B', 'cccc', 'ba#')\n",
            "->  ('F', 'ccc', 'cba#')\n",
            "->  ('F', 'cc', 'cba#')\n",
            "->  ('F', 'c', 'cba#')\n",
            "->  ('F', '', 'cba#') .\n",
            "Final state  ('F', '', 'cba#')\n",
            "Reached as follows:\n",
            "->  ('I', 'abbbcccc', '#')\n",
            "->  ('A', 'bbbcccc', 'a#')\n",
            "->  ('B', 'bbcccc', 'ba#')\n",
            "->  ('B', 'bcccc', 'ba#')\n",
            "->  ('B', 'cccc', 'ba#')\n",
            "->  ('F', 'ccc', 'cba#')\n",
            "->  ('F', 'cc', 'cba#')\n",
            "->  ('F', 'c', 'cba#')\n",
            "->  ('F', '', 'cba#')\n",
            "->  ('F', '', 'cba#') .\n"
          ]
        }
      ]
    },
    {
      "cell_type": "markdown",
      "metadata": {
        "id": "22Hhpq-YyH2G"
      },
      "source": [
        "* aaa bb c   (accept)"
      ]
    },
    {
      "cell_type": "code",
      "metadata": {
        "id": "l5ys9PFKyH2G",
        "colab": {
          "base_uri": "https://localhost:8080/"
        },
        "outputId": "cf376723-c815-4642-bed8-97c95354a16f"
      },
      "source": [
        "explore_pda('aaabbc', Lif)"
      ],
      "execution_count": 72,
      "outputs": [
        {
          "output_type": "stream",
          "name": "stdout",
          "text": [
            "String aaabbc accepted by your PDA in 2 ways :-) \n",
            "Here are the ways: \n",
            "Final state  ('F', '', 'cbaaa#')\n",
            "Reached as follows:\n",
            "->  ('I', 'aaabbc', '#')\n",
            "->  ('A', 'aabbc', 'a#')\n",
            "->  ('A2', 'abbc', 'aa#')\n",
            "->  ('A3', 'bbc', 'aaa#')\n",
            "->  ('B', 'bc', 'baaa#')\n",
            "->  ('B', 'c', 'baaa#')\n",
            "->  ('F', '', 'cbaaa#') .\n",
            "Final state  ('F', '', 'cbaaa#')\n",
            "Reached as follows:\n",
            "->  ('I', 'aaabbc', '#')\n",
            "->  ('A', 'aabbc', 'a#')\n",
            "->  ('A2', 'abbc', 'aa#')\n",
            "->  ('A3', 'bbc', 'aaa#')\n",
            "->  ('B', 'bc', 'baaa#')\n",
            "->  ('B', 'c', 'baaa#')\n",
            "->  ('F', '', 'cbaaa#')\n",
            "->  ('F', '', 'cbaaa#') .\n"
          ]
        }
      ]
    },
    {
      "cell_type": "markdown",
      "metadata": {
        "id": "rODWiy8PyH2G"
      },
      "source": [
        "* Epsilon    (accept, as there are zero a's)"
      ]
    },
    {
      "cell_type": "code",
      "metadata": {
        "id": "QhgMqBbiyH2G",
        "colab": {
          "base_uri": "https://localhost:8080/"
        },
        "outputId": "90deb472-a544-4d19-e1b0-828f26d4b05b"
      },
      "source": [
        "explore_pda('', Lif)"
      ],
      "execution_count": 73,
      "outputs": [
        {
          "output_type": "stream",
          "name": "stdout",
          "text": [
            "String  accepted by your PDA in 1 ways :-) \n",
            "Here are the ways: \n",
            "Final state  ('F', '', '#')\n",
            "Reached as follows:\n",
            "->  ('I', '', '#')\n",
            "->  ('F', '', '#') .\n"
          ]
        }
      ]
    },
    {
      "cell_type": "markdown",
      "metadata": {
        "id": "BXg9_3iZyH2G"
      },
      "source": [
        "* a bb cc    (accept, as there is no constraint to not match b's and c's if two a's)"
      ]
    },
    {
      "cell_type": "code",
      "metadata": {
        "id": "OdwhYAk7yH2H",
        "colab": {
          "base_uri": "https://localhost:8080/"
        },
        "outputId": "f6ca498d-f7ae-4701-f12c-9f313787fac9"
      },
      "source": [
        "explore_pda('abbcc', Lif)"
      ],
      "execution_count": 74,
      "outputs": [
        {
          "output_type": "stream",
          "name": "stdout",
          "text": [
            "String abbcc accepted by your PDA in 2 ways :-) \n",
            "Here are the ways: \n",
            "Final state  ('F', '', 'cba#')\n",
            "Reached as follows:\n",
            "->  ('I', 'abbcc', '#')\n",
            "->  ('A', 'bbcc', 'a#')\n",
            "->  ('B', 'bcc', 'ba#')\n",
            "->  ('B', 'cc', 'ba#')\n",
            "->  ('F', 'c', 'cba#')\n",
            "->  ('F', '', 'cba#') .\n",
            "Final state  ('F', '', 'cba#')\n",
            "Reached as follows:\n",
            "->  ('I', 'abbcc', '#')\n",
            "->  ('A', 'bbcc', 'a#')\n",
            "->  ('B', 'bcc', 'ba#')\n",
            "->  ('B', 'cc', 'ba#')\n",
            "->  ('F', 'c', 'cba#')\n",
            "->  ('F', '', 'cba#')\n",
            "->  ('F', '', 'cba#') .\n"
          ]
        }
      ]
    },
    {
      "cell_type": "markdown",
      "metadata": {
        "id": "f2ljJYGSyH2H"
      },
      "source": [
        "* b c must accept too"
      ]
    },
    {
      "cell_type": "code",
      "metadata": {
        "id": "TYj2p7FSyH2H",
        "colab": {
          "base_uri": "https://localhost:8080/"
        },
        "outputId": "89de7faa-5510-43cf-e38e-ecedbed37031"
      },
      "source": [
        "explore_pda('bc', Lif)"
      ],
      "execution_count": 75,
      "outputs": [
        {
          "output_type": "stream",
          "name": "stdout",
          "text": [
            "String bc accepted by your PDA in 2 ways :-) \n",
            "Here are the ways: \n",
            "Final state  ('F', '', 'cb#')\n",
            "Reached as follows:\n",
            "->  ('I', 'bc', '#')\n",
            "->  ('B', 'c', 'b#')\n",
            "->  ('F', '', 'cb#') .\n",
            "Final state  ('F', '', 'cb#')\n",
            "Reached as follows:\n",
            "->  ('I', 'bc', '#')\n",
            "->  ('B', 'c', 'b#')\n",
            "->  ('F', '', 'cb#')\n",
            "->  ('F', '', 'cb#') .\n"
          ]
        }
      ]
    },
    {
      "cell_type": "markdown",
      "metadata": {
        "id": "4wSowAWvyH2H"
      },
      "source": [
        "* c b        (reject)"
      ]
    },
    {
      "cell_type": "code",
      "metadata": {
        "id": "njFYWda6yH2H",
        "colab": {
          "base_uri": "https://localhost:8080/"
        },
        "outputId": "208c29a6-8ac2-4bfe-9dc0-4670089de1fa"
      },
      "source": [
        "explore_pda('cb', Lif)"
      ],
      "execution_count": 76,
      "outputs": [
        {
          "output_type": "stream",
          "name": "stdout",
          "text": [
            "String cb rejected by your PDA :-(\n",
            "Visited states are:\n",
            "{('F', 'cb', '#'), ('I', 'cb', '#'), ('F', 'b', 'c#')}\n"
          ]
        }
      ]
    },
    {
      "cell_type": "markdown",
      "metadata": {
        "id": "Q-t4PSqLyH2H"
      },
      "source": [
        "* aa bb cc a (reject)"
      ]
    },
    {
      "cell_type": "code",
      "metadata": {
        "id": "1jgOABLSyH2H",
        "colab": {
          "base_uri": "https://localhost:8080/"
        },
        "outputId": "1fff858b-4acd-4bf3-920e-6409cea1f57b"
      },
      "source": [
        "explore_pda('aabbcca', Lif)"
      ],
      "execution_count": 77,
      "outputs": [
        {
          "output_type": "stream",
          "name": "stdout",
          "text": [
            "String aabbcca rejected by your PDA :-(\n",
            "Visited states are:\n",
            "{('F', 'a', 'aa#'), ('A2', 'bbcca', 'aa#'), ('F', 'bbcca', 'aa#'), ('F', 'aabbcca', '#'), ('C2', 'ca', 'baa#'), ('B2', 'bcca', 'baa#'), ('F', 'abbcca', 'a#'), ('C2', 'a', 'aa#'), ('A', 'abbcca', 'a#'), ('B2', 'cca', 'bbaa#'), ('I', 'aabbcca', '#')}\n"
          ]
        }
      ]
    },
    {
      "cell_type": "markdown",
      "metadata": {
        "id": "XTm6znnHyH2H"
      },
      "source": [
        "* a bb a     (reject)"
      ]
    },
    {
      "cell_type": "code",
      "metadata": {
        "id": "bQCHZI1IyH2I",
        "colab": {
          "base_uri": "https://localhost:8080/"
        },
        "outputId": "403f4724-cb6d-40c3-e219-63b4e4e578ea"
      },
      "source": [
        "explore_pda('abba', Lif)"
      ],
      "execution_count": 78,
      "outputs": [
        {
          "output_type": "stream",
          "name": "stdout",
          "text": [
            "String abba rejected by your PDA :-(\n",
            "Visited states are:\n",
            "{('B', 'a', 'ba#'), ('F', 'a', 'ba#'), ('F', 'bba', 'a#'), ('B', 'ba', 'ba#'), ('F', 'ba', 'ba#'), ('I', 'abba', '#'), ('F', 'abba', '#'), ('A', 'bba', 'a#')}\n"
          ]
        }
      ]
    },
    {
      "cell_type": "markdown",
      "metadata": {
        "id": "VcIqurXVyH2I"
      },
      "source": [
        "* ccac       (reject)"
      ]
    },
    {
      "cell_type": "code",
      "metadata": {
        "id": "M96UpYWPyH2I",
        "colab": {
          "base_uri": "https://localhost:8080/"
        },
        "outputId": "749b49b0-d9a9-4ff6-8d37-b11927da2e55"
      },
      "source": [
        "explore_pda('ccac', Lif)"
      ],
      "execution_count": 79,
      "outputs": [
        {
          "output_type": "stream",
          "name": "stdout",
          "text": [
            "String ccac rejected by your PDA :-(\n",
            "Visited states are:\n",
            "{('F', 'cac', 'c#'), ('F', 'ac', 'c#'), ('I', 'ccac', '#'), ('F', 'ccac', '#')}\n"
          ]
        }
      ]
    },
    {
      "cell_type": "markdown",
      "metadata": {
        "id": "lMjb3ozcyH2I"
      },
      "source": [
        "* abba       (reject)"
      ]
    },
    {
      "cell_type": "code",
      "metadata": {
        "id": "5RHTbf73yH2I",
        "colab": {
          "base_uri": "https://localhost:8080/"
        },
        "outputId": "ffee2d46-3794-4879-ce0e-0e3fd131e498"
      },
      "source": [
        "explore_pda('abba', Lif)"
      ],
      "execution_count": 80,
      "outputs": [
        {
          "output_type": "stream",
          "name": "stdout",
          "text": [
            "String abba rejected by your PDA :-(\n",
            "Visited states are:\n",
            "{('B', 'a', 'ba#'), ('F', 'a', 'ba#'), ('F', 'bba', 'a#'), ('B', 'ba', 'ba#'), ('F', 'ba', 'ba#'), ('I', 'abba', '#'), ('F', 'abba', '#'), ('A', 'bba', 'a#')}\n"
          ]
        }
      ]
    },
    {
      "cell_type": "markdown",
      "metadata": {
        "id": "PENs7s32yH2I"
      },
      "source": [
        "* baac       (reject)"
      ]
    },
    {
      "cell_type": "code",
      "metadata": {
        "id": "1ZeWeu_EyH2I",
        "colab": {
          "base_uri": "https://localhost:8080/"
        },
        "outputId": "e15623d2-27ab-47bf-d068-e0bdc47572e9"
      },
      "source": [
        "explore_pda('baac', Lif)"
      ],
      "execution_count": 81,
      "outputs": [
        {
          "output_type": "stream",
          "name": "stdout",
          "text": [
            "String baac rejected by your PDA :-(\n",
            "Visited states are:\n",
            "{('F', 'baac', '#'), ('I', 'baac', '#'), ('F', 'aac', 'b#'), ('B', 'aac', 'b#')}\n"
          ]
        }
      ]
    },
    {
      "cell_type": "markdown",
      "metadata": {
        "id": "RVFp21rXyH2J"
      },
      "source": [
        "* ac         (accept), as there are no b's  "
      ]
    },
    {
      "cell_type": "code",
      "metadata": {
        "id": "Br1nz3SZyH2J",
        "colab": {
          "base_uri": "https://localhost:8080/"
        },
        "outputId": "f5fe469a-3f32-4d39-ca16-e389cbe37cdb"
      },
      "source": [
        "explore_pda('ac', Lif)"
      ],
      "execution_count": 82,
      "outputs": [
        {
          "output_type": "stream",
          "name": "stdout",
          "text": [
            "String ac accepted by your PDA in 2 ways :-) \n",
            "Here are the ways: \n",
            "Final state  ('F', '', 'ca#')\n",
            "Reached as follows:\n",
            "->  ('I', 'ac', '#')\n",
            "->  ('A', 'c', 'a#')\n",
            "->  ('F', '', 'ca#') .\n",
            "Final state  ('F', '', 'ca#')\n",
            "Reached as follows:\n",
            "->  ('I', 'ac', '#')\n",
            "->  ('A', 'c', 'a#')\n",
            "->  ('F', '', 'ca#')\n",
            "->  ('F', '', 'ca#') .\n"
          ]
        }
      ]
    },
    {
      "cell_type": "markdown",
      "metadata": {
        "id": "7C_BvHfxyH2J"
      },
      "source": [
        "* acb (reject)"
      ]
    },
    {
      "cell_type": "code",
      "metadata": {
        "id": "dDOs575fyH2J",
        "colab": {
          "base_uri": "https://localhost:8080/"
        },
        "outputId": "65989d53-1ca8-48f2-c361-e02f49a9061f"
      },
      "source": [
        "explore_pda('acb', Lif)"
      ],
      "execution_count": 83,
      "outputs": [
        {
          "output_type": "stream",
          "name": "stdout",
          "text": [
            "String acb rejected by your PDA :-(\n",
            "Visited states are:\n",
            "{('F', 'b', 'ca#'), ('A', 'cb', 'a#'), ('F', 'acb', '#'), ('I', 'acb', '#'), ('F', 'cb', 'a#')}\n"
          ]
        }
      ]
    },
    {
      "cell_type": "markdown",
      "metadata": {
        "id": "tFvi-uZeyH2J"
      },
      "source": [
        "### Add your test cases below:"
      ]
    },
    {
      "cell_type": "code",
      "metadata": {
        "id": "Vk3ax3qdCePR",
        "colab": {
          "base_uri": "https://localhost:8080/"
        },
        "outputId": "26546305-aa11-41f7-a58b-9f6049c81e69"
      },
      "source": [
        "# Should accept as strings without a's are valid according to the language\n",
        "explore_pda('cccc', Lif)"
      ],
      "execution_count": 84,
      "outputs": [
        {
          "output_type": "stream",
          "name": "stdout",
          "text": [
            "String cccc accepted by your PDA in 2 ways :-) \n",
            "Here are the ways: \n",
            "Final state  ('F', '', 'c#')\n",
            "Reached as follows:\n",
            "->  ('I', 'cccc', '#')\n",
            "->  ('F', 'ccc', 'c#')\n",
            "->  ('F', 'cc', 'c#')\n",
            "->  ('F', 'c', 'c#')\n",
            "->  ('F', '', 'c#') .\n",
            "Final state  ('F', '', 'c#')\n",
            "Reached as follows:\n",
            "->  ('I', 'cccc', '#')\n",
            "->  ('F', 'ccc', 'c#')\n",
            "->  ('F', 'cc', 'c#')\n",
            "->  ('F', 'c', 'c#')\n",
            "->  ('F', '', 'c#')\n",
            "->  ('F', '', 'c#') .\n"
          ]
        }
      ]
    },
    {
      "cell_type": "code",
      "metadata": {
        "colab": {
          "base_uri": "https://localhost:8080/"
        },
        "id": "0pm0Is6HkvQd",
        "outputId": "a970fcb0-21ea-444f-f5cc-1b77e38ba939"
      },
      "source": [
        "# Should accept like above because a's are not needed as long as the b's and c's come in correct order\n",
        "explore_pda('bbbbcc', Lif)"
      ],
      "execution_count": 85,
      "outputs": [
        {
          "output_type": "stream",
          "name": "stdout",
          "text": [
            "String bbbbcc accepted by your PDA in 2 ways :-) \n",
            "Here are the ways: \n",
            "Final state  ('F', '', 'cb#')\n",
            "Reached as follows:\n",
            "->  ('I', 'bbbbcc', '#')\n",
            "->  ('B', 'bbbcc', 'b#')\n",
            "->  ('B', 'bbcc', 'b#')\n",
            "->  ('B', 'bcc', 'b#')\n",
            "->  ('B', 'cc', 'b#')\n",
            "->  ('F', 'c', 'cb#')\n",
            "->  ('F', '', 'cb#') .\n",
            "Final state  ('F', '', 'cb#')\n",
            "Reached as follows:\n",
            "->  ('I', 'bbbbcc', '#')\n",
            "->  ('B', 'bbbcc', 'b#')\n",
            "->  ('B', 'bbcc', 'b#')\n",
            "->  ('B', 'bcc', 'b#')\n",
            "->  ('B', 'cc', 'b#')\n",
            "->  ('F', 'c', 'cb#')\n",
            "->  ('F', '', 'cb#')\n",
            "->  ('F', '', 'cb#') .\n"
          ]
        }
      ]
    },
    {
      "cell_type": "code",
      "metadata": {
        "colab": {
          "base_uri": "https://localhost:8080/"
        },
        "id": "R20JfLJEk2dp",
        "outputId": "4013a553-e96f-4d0b-a067-e1b54ccc373c"
      },
      "source": [
        "# Should accept because the number of b's and c's match\n",
        "explore_pda('aabbbbbbbbbbbbbbbccccccccccccccc', Lif)"
      ],
      "execution_count": 86,
      "outputs": [
        {
          "output_type": "stream",
          "name": "stdout",
          "text": [
            "String aabbbbbbbbbbbbbbbccccccccccccccc accepted by your PDA in 1 ways :-) \n",
            "Here are the ways: \n",
            "Final state  ('F', '', 'aa#')\n",
            "Reached as follows:\n",
            "->  ('I', 'aabbbbbbbbbbbbbbbccccccccccccccc', '#')\n",
            "->  ('A', 'abbbbbbbbbbbbbbbccccccccccccccc', 'a#')\n",
            "->  ('A2', 'bbbbbbbbbbbbbbbccccccccccccccc', 'aa#')\n",
            "->  ('B2', 'bbbbbbbbbbbbbbccccccccccccccc', 'baa#')\n",
            "->  ('B2', 'bbbbbbbbbbbbbccccccccccccccc', 'bbaa#')\n",
            "->  ('B2', 'bbbbbbbbbbbbccccccccccccccc', 'bbbaa#')\n",
            "->  ('B2', 'bbbbbbbbbbbccccccccccccccc', 'bbbbaa#')\n",
            "->  ('B2', 'bbbbbbbbbbccccccccccccccc', 'bbbbbaa#')\n",
            "->  ('B2', 'bbbbbbbbbccccccccccccccc', 'bbbbbbaa#')\n",
            "->  ('B2', 'bbbbbbbbccccccccccccccc', 'bbbbbbbaa#')\n",
            "->  ('B2', 'bbbbbbbccccccccccccccc', 'bbbbbbbbaa#')\n",
            "->  ('B2', 'bbbbbbccccccccccccccc', 'bbbbbbbbbaa#')\n",
            "->  ('B2', 'bbbbbccccccccccccccc', 'bbbbbbbbbbaa#')\n",
            "->  ('B2', 'bbbbccccccccccccccc', 'bbbbbbbbbbbaa#')\n",
            "->  ('B2', 'bbbccccccccccccccc', 'bbbbbbbbbbbbaa#')\n",
            "->  ('B2', 'bbccccccccccccccc', 'bbbbbbbbbbbbbaa#')\n",
            "->  ('B2', 'bccccccccccccccc', 'bbbbbbbbbbbbbbaa#')\n",
            "->  ('B2', 'ccccccccccccccc', 'bbbbbbbbbbbbbbbaa#')\n",
            "->  ('C2', 'cccccccccccccc', 'bbbbbbbbbbbbbbaa#')\n",
            "->  ('C2', 'ccccccccccccc', 'bbbbbbbbbbbbbaa#')\n",
            "->  ('C2', 'cccccccccccc', 'bbbbbbbbbbbbaa#')\n",
            "->  ('C2', 'ccccccccccc', 'bbbbbbbbbbbaa#')\n",
            "->  ('C2', 'cccccccccc', 'bbbbbbbbbbaa#')\n",
            "->  ('C2', 'ccccccccc', 'bbbbbbbbbaa#')\n",
            "->  ('C2', 'cccccccc', 'bbbbbbbbaa#')\n",
            "->  ('C2', 'ccccccc', 'bbbbbbbaa#')\n",
            "->  ('C2', 'cccccc', 'bbbbbbaa#')\n",
            "->  ('C2', 'ccccc', 'bbbbbaa#')\n",
            "->  ('C2', 'cccc', 'bbbbaa#')\n",
            "->  ('C2', 'ccc', 'bbbaa#')\n",
            "->  ('C2', 'cc', 'bbaa#')\n",
            "->  ('C2', 'c', 'baa#')\n",
            "->  ('C2', '', 'aa#')\n",
            "->  ('F', '', 'aa#') .\n"
          ]
        }
      ]
    },
    {
      "cell_type": "code",
      "metadata": {
        "colab": {
          "base_uri": "https://localhost:8080/"
        },
        "id": "o0IozNfIlF0t",
        "outputId": "eeeff95b-0937-42d2-c992-be609678461d"
      },
      "source": [
        "# Should be rejected because a 'b' is out of order\n",
        "explore_pda('abbcb', Lif)"
      ],
      "execution_count": 87,
      "outputs": [
        {
          "output_type": "stream",
          "name": "stdout",
          "text": [
            "String abbcb rejected by your PDA :-(\n",
            "Visited states are:\n",
            "{('F', 'b', 'cba#'), ('B', 'cb', 'ba#'), ('F', 'cb', 'ba#'), ('I', 'abbcb', '#'), ('B', 'bcb', 'ba#'), ('F', 'bcb', 'ba#'), ('A', 'bbcb', 'a#'), ('F', 'bbcb', 'a#'), ('F', 'abbcb', '#')}\n"
          ]
        }
      ]
    },
    {
      "cell_type": "code",
      "metadata": {
        "colab": {
          "base_uri": "https://localhost:8080/"
        },
        "id": "mL9fT1uxlJQJ",
        "outputId": "01755efd-3e25-44e2-ec5c-013433bafc13"
      },
      "source": [
        "# Should be rejected because a 'c' is out of order\n",
        "explore_pda('aaabbcbccc', Lif)"
      ],
      "execution_count": 88,
      "outputs": [
        {
          "output_type": "stream",
          "name": "stdout",
          "text": [
            "String aaabbcbccc rejected by your PDA :-(\n",
            "Visited states are:\n",
            "{('A2', 'abbcbccc', 'aa#'), ('F', 'aaabbcbccc', '#'), ('F', 'bbcbccc', 'aaa#'), ('F', 'abbcbccc', 'aa#'), ('B', 'bcbccc', 'baaa#'), ('A3', 'bbcbccc', 'aaa#'), ('F', 'cbccc', 'baaa#'), ('F', 'aabbcbccc', 'a#'), ('B', 'cbccc', 'baaa#'), ('F', 'bccc', 'cbaaa#'), ('I', 'aaabbcbccc', '#'), ('F', 'bcbccc', 'baaa#'), ('A', 'aabbcbccc', 'a#')}\n"
          ]
        }
      ]
    },
    {
      "cell_type": "code",
      "metadata": {
        "colab": {
          "base_uri": "https://localhost:8080/"
        },
        "id": "NBSdFNj2lMVO",
        "outputId": "56addaad-9c01-4858-a444-8e34e21c0b2a"
      },
      "source": [
        "# Should be rejected because the number of 'b's and 'c's don't match\n",
        "explore_pda('aabbbcc', Lif)"
      ],
      "execution_count": 89,
      "outputs": [
        {
          "output_type": "stream",
          "name": "stdout",
          "text": [
            "String aabbbcc rejected by your PDA :-(\n",
            "Visited states are:\n",
            "{('F', 'aabbbcc', '#'), ('F', 'bbbcc', 'aa#'), ('B2', 'bbcc', 'baa#'), ('A', 'abbbcc', 'a#'), ('I', 'aabbbcc', '#'), ('F', 'abbbcc', 'a#'), ('C2', 'c', 'bbaa#'), ('A2', 'bbbcc', 'aa#'), ('C2', '', 'baa#'), ('B2', 'cc', 'bbbaa#'), ('B2', 'bcc', 'bbaa#')}\n"
          ]
        }
      ]
    },
    {
      "cell_type": "markdown",
      "metadata": {
        "id": "iXp_GBi-yH2J"
      },
      "source": [
        "# END\n"
      ]
    }
  ]
}