{
  "nbformat": 4,
  "nbformat_minor": 0,
  "metadata": {
    "colab": {
      "name": "u1234567_asg4_Prob1234.ipynb",
      "provenance": []
    },
    "kernelspec": {
      "display_name": "Python 3",
      "language": "python",
      "name": "python3"
    },
    "language_info": {
      "codemirror_mode": {
        "name": "ipython",
        "version": 3
      },
      "file_extension": ".py",
      "mimetype": "text/x-python",
      "name": "python",
      "nbconvert_exporter": "python",
      "pygments_lexer": "ipython3",
      "version": "3.8.5"
    },
    "toc": {
      "colors": {
        "hover_highlight": "#DAA520",
        "running_highlight": "#FF0000",
        "selected_highlight": "#FFD700"
      },
      "moveMenuLeft": true,
      "nav_menu": {
        "height": "121px",
        "width": "252px"
      },
      "navigate_menu": true,
      "number_sections": true,
      "sideBar": true,
      "threshold": 4,
      "toc_cell": false,
      "toc_section_display": "block",
      "toc_window_display": false,
      "widenNotebook": false
    }
  },
  "cells": [
    {
      "cell_type": "markdown",
      "metadata": {
        "id": "1an9nmMw1Fac",
        "run_control": {
          "frozen": false,
          "read_only": false
        }
      },
      "source": [
        "# OVERALL : Do not delete the code and comment cells provided.\n",
        "# Execute the given code cells.\n",
        "# Answer as prompted\n",
        "\n",
        "# QUESTION-1 (15 pts) has parts a,b,c. Most are filled. Fill the rest and answer. It is on a \"mod DFA\" design\n",
        "\n",
        "## 1a : 9% -- fill details of the construction\n",
        "## 1b : 3% -- spot-checking the construction\n",
        "## 1c : 3% -- explaining a construction in a few bullets\n",
        "\n",
        "# QUESTION-2 (25 PTS) is on designing a DFA and testing it\n",
        "\n",
        "## 2a : 18% -- finish DFA design\n",
        "## 2b:    2% -- apply min_dfa_brz\n",
        "## 2c:    5% -- run a bunch of tests and see how many tests pass\n",
        "\n",
        "# QUESTION-3 (35 PTS) is on checking whether a given NFA agrees with the DFA in Question-2\n",
        "\n",
        "## 3a : 10% -- Doing N minus D\n",
        "## 3b:  10% -- Doing D minus N\n",
        "## 3c:  10% -- Telling which of the subtractions is empty and why\n",
        "## 3d:    5% -- Express the non-empty difference as a language in Jove markdown\n",
        "\n",
        "\n",
        "# QUESTION-4 (25 PTS) is on doing the NFA to DFA conversion\n",
        "\n",
        "## 4a :   5% -- Explaining how subset construction will go \n",
        "## 4b:  10% -- Obtaining the DFA\n",
        "## 4c:  10% -- Verifying your work\n",
        " "
      ]
    },
    {
      "cell_type": "code",
      "metadata": {
        "id": "y863_jSu1Fad",
        "run_control": {
          "frozen": false,
          "read_only": false
        },
        "scrolled": true,
        "outputId": "7d1cf571-e041-4d1b-92af-5ec39080ba0c",
        "colab": {
          "base_uri": "https://localhost:8080/"
        }
      },
      "source": [
        "#~~~~~~~~~~~~~~~~~~~~~~~~~~~~~~~~~~~~~~~~~~~~~~~~~~~~~~~\n",
        "import sys\n",
        "\n",
        "# -- Detect if in Own Install or in Colab\n",
        "try:\n",
        "    import google.colab\n",
        "    OWN_INSTALL = False\n",
        "except:\n",
        "    OWN_INSTALL = True\n",
        "    \n",
        "if OWN_INSTALL:\n",
        "    \n",
        "  #---- Leave these definitions ON if running on laptop\n",
        "  #---- Else turn OFF by putting them between ''' ... '''\n",
        "\n",
        "  sys.path[0:0] = ['../../../../..',  '../../../../../3rdparty',  \n",
        "                   '../../../..',  '../../../../3rdparty',  \n",
        "                   '../../..',     '../../../3rdparty', \n",
        "                   '../..',        '../../3rdparty',\n",
        "                   '..',           '../3rdparty' ]\n",
        "\n",
        "else: # In colab\n",
        "  ! if [ ! -d Jove ]; then git clone https://github.com/ganeshutah/Jove Jove; fi\n",
        "  sys.path.append('./Jove')\n",
        "  sys.path.append('./Jove/jove')\n",
        "\n",
        "# -- common imports --\n",
        "from jove.LangDef import *\n",
        "from jove.DotBashers import *\n",
        "from jove.Def_md2mc  import *\n",
        "from jove.Def_NFA    import *\n",
        "from jove.Def_DFA    import *\n",
        "from jove.Def_RE2NFA import *\n",
        "from jove.AnimateNFA import *\n",
        "#~~~~~~~~~~~~~~~~~~~~~~~~~~~~~~~~~~~~~~~~~~~~~~~~~~~~~~~"
      ],
      "execution_count": 1,
      "outputs": [
        {
          "output_type": "stream",
          "name": "stdout",
          "text": [
            "Cloning into 'Jove'...\n",
            "remote: Enumerating objects: 4894, done.\u001b[K\n",
            "remote: Counting objects: 100% (260/260), done.\u001b[K\n",
            "remote: Compressing objects: 100% (184/184), done.\u001b[K\n",
            "remote: Total 4894 (delta 154), reused 168 (delta 70), pack-reused 4634\u001b[K\n",
            "Receiving objects: 100% (4894/4894), 7.57 MiB | 20.18 MiB/s, done.\n",
            "Resolving deltas: 100% (3159/3159), done.\n",
            "You may use any of these help commands:\n",
            "help(lphi)\n",
            "help(lunit)\n",
            "help(lcat)\n",
            "help(lexp)\n",
            "help(lunion)\n",
            "help(lstar)\n",
            "help(srev)\n",
            "help(lrev)\n",
            "help(shomo)\n",
            "help(lhomo)\n",
            "help(powset)\n",
            "help(lint)\n",
            "help(lsymdiff)\n",
            "help(lminus)\n",
            "help(lissubset)\n",
            "help(lissuperset)\n",
            "help(lcomplem)\n",
            "help(product)\n",
            "help(nthnumeric)\n",
            "\n",
            "You may use any of these help commands:\n",
            "help(ResetStNum)\n",
            "help(NxtStateStr)\n",
            "\n",
            "You may use any of these help commands:\n",
            "help(md2mc)\n",
            ".. and if you want to dig more, then ..\n",
            "help(default_line_attr)\n",
            "help(length_ok_input_items)\n",
            "help(union_line_attr_list_fld)\n",
            "help(extend_rsltdict)\n",
            "help(form_delta)\n",
            "help(get_machine_components)\n",
            "\n",
            "You may use any of these help commands:\n",
            "help(mkp_dfa)\n",
            "help(mk_dfa)\n",
            "help(totalize_dfa)\n",
            "help(addtosigma_delta)\n",
            "help(step_dfa)\n",
            "help(run_dfa)\n",
            "help(accepts_dfa)\n",
            "help(comp_dfa)\n",
            "help(union_dfa)\n",
            "help(intersect_dfa)\n",
            "help(pruneUnreach)\n",
            "help(iso_dfa)\n",
            "help(langeq_dfa)\n",
            "help(same_status)\n",
            "help(h_langeq_dfa)\n",
            "help(fixptDist)\n",
            "help(min_dfa)\n",
            "help(pairFR)\n",
            "help(state_combos)\n",
            "help(sepFinNonFin)\n",
            "help(bash_eql_classes)\n",
            "help(listminus)\n",
            "help(bash_1)\n",
            "help(mk_rep_eqc)\n",
            "help(F_of)\n",
            "help(rep_of_s)\n",
            "help(q0_of)\n",
            "help(Delta_of)\n",
            "help(mk_state_eqc_name)\n",
            "\n",
            "You may use any of these help commands:\n",
            "help(mk_nfa)\n",
            "help(totalize_nfa)\n",
            "help(step_nfa)\n",
            "help(run_nfa)\n",
            "help(ec_step_nfa)\n",
            "help(Eclosure)\n",
            "help(Echelp)\n",
            "help(accepts_nfa)\n",
            "help(nfa2dfa)\n",
            "help(n2d)\n",
            "help(inSets)\n",
            "help(rev_dfa)\n",
            "help(min_dfa_brz)\n",
            "\n",
            "You may use any of these help commands:\n",
            "help(re2nfa)\n",
            "\n",
            " \"help(AnimateNFA)\" gives you info on how to use animations with NFA \n"
          ]
        }
      ]
    },
    {
      "cell_type": "markdown",
      "metadata": {
        "id": "V9NAzGye-9Zv"
      },
      "source": [
        "# =================== QUESTION DIVIDING LINE ==================="
      ]
    },
    {
      "cell_type": "markdown",
      "metadata": {
        "id": "3xSnMGuv-9Zw"
      },
      "source": [
        "# (15%) : Question 1"
      ]
    },
    {
      "cell_type": "markdown",
      "metadata": {
        "id": "BzOCjuwm1Fae"
      },
      "source": [
        "# Question 1a (9%): Design a \"mod N DFA\" (MSB first) for N = 7\n",
        "\n",
        "<font size=\"4\">\n",
        "\n",
        "* A \"mod N\" DFA (MSB first) can be designed as explained in class on Wed 9/22/21 during the MT-1 review session\n",
        "* The machine receives MSB first\n",
        "* If the number (modulus) seen thus far is A, and a bit b arrives, the state attained by the machine is 2A+b mod 7   \n",
        "* Some of the steps are already done for you below. \n",
        "* YOUR TASK-1 IS TO FILL THE REMAINING STEPS SHOWN AS ??? AND ALSO WRITE COMMENTS SIMILAR TO THE FILLED ONES\n",
        "* YOUR TASK-2 is TO SPOT-CHECK by using the \"run_dfa\" command - conveniently provided for you below\n",
        "    - Answer near the '==> ... <==' that you will see below\n",
        "    - 110110  which encodes (in binary) the number 54 ends up in state 54(decimal) mod 7 which is S5\n",
        "    - 01101111  which encodes (in binary) the number 96+15 = 111 ends up in state 111(decimal) mod 7 which is S6\n",
        "\n",
        "### Further steps must be carried out as noted below\n",
        "</font>"
      ]
    },
    {
      "cell_type": "code",
      "metadata": {
        "id": "VSxwBLP6-9Zx"
      },
      "source": [
        "mod7DFA = md2mc('''DFA\n",
        "\n",
        "!! mod7 machine has six states : IF (which is like \"state 0\"), S1, S2, S3, S4, S5 and S6\n",
        "!! This is because the remainder after division is a number in the range 0 through 6\n",
        "\n",
        "IF : 0 -> IF  !! Having see epsilon or a bunch of 0's, the number is 0 (decimal) and mod 7 gives 0 : so IF\n",
        "IF : 1 -> S1  !! 1 mod 7 is 1, thus goto state S1\n",
        "\n",
        "S1 : 1 -> S3  !! A=1 : --1--> (i.e. 1 arrives) and so, the new A is 3, and 3 mod 7 is 3. Thus go to state S3\n",
        "S1 : 0 -> S2  !! A=1 : --0--> new A is \"2\", hence go to S2\n",
        "\n",
        "S3 : 1 -> IF  !! A=3 : --1--> new A is 2*3 + 1 which is 7, and 7 mod 7 is 0  - hence go to IF\n",
        "S3 : 0 -> S6 !! A=3 : --0--> new A is (2*3+0) which is 6, 6 mod 7 is 6 - hence go to S6\n",
        "\n",
        "S2 : 1 -> S5 !! A=2 : --1--> new A is (2*2+1) mod 7, which is 4. Hence go to S5.\n",
        "S2 : 0 -> S4  !! A=2 : --0--> new A is (2*2+0) mod 7, which is 4. Hence go to S4.\n",
        "\n",
        "S4 : 1 -> S2  !! A=4 : --1--> new A is (2*4+1) mod 7, which is 2. Hence go to S2\n",
        "S4 : 0 -> S1  !! A=4 : --0--> new A is (2*4+0) mod 7, which is 8. Hence go to S1\n",
        "\n",
        "S5 : 1 -> S4  !! A=5, on 1 new A is (2*5+1) mod 7, giving 11. Hence go to S4\n",
        "S5 : 0 -> S3  !! A=5, on 0 new A is (2*5+0) mod 7, giving 10. Hence go to S3\n",
        "\n",
        "S6 : 1 -> S6  !! A=6, on 1 new A is (2*6+1) mod 7, giving 13. Hence go to S6\n",
        "S6 : 0 -> S5  !! A=6, on 0 new A is (2*6+0) mod 7, giving 12. Hence go to S5\n",
        "''')"
      ],
      "execution_count": 68,
      "outputs": []
    },
    {
      "cell_type": "code",
      "metadata": {
        "id": "QpEXW-qB-9Zy",
        "outputId": "36696443-e648-4fa3-b3ba-86deed125fae",
        "colab": {
          "base_uri": "https://localhost:8080/",
          "height": 277
        }
      },
      "source": [
        "dotObj_dfa(mod7DFA)"
      ],
      "execution_count": 69,
      "outputs": [
        {
          "output_type": "execute_result",
          "data": {
            "text/plain": [
              "<graphviz.dot.Digraph at 0x7f521a975510>"
            ],
            "image/svg+xml": "<?xml version=\"1.0\" encoding=\"UTF-8\" standalone=\"no\"?>\n<!DOCTYPE svg PUBLIC \"-//W3C//DTD SVG 1.1//EN\"\n \"http://www.w3.org/Graphics/SVG/1.1/DTD/svg11.dtd\">\n<!-- Generated by graphviz version 2.40.1 (20161225.0304)\n -->\n<!-- Title: %3 Pages: 1 -->\n<svg width=\"682pt\" height=\"192pt\"\n viewBox=\"0.00 0.00 682.27 192.00\" xmlns=\"http://www.w3.org/2000/svg\" xmlns:xlink=\"http://www.w3.org/1999/xlink\">\n<g id=\"graph0\" class=\"graph\" transform=\"scale(1 1) rotate(0) translate(4 188)\">\n<title>%3</title>\n<polygon fill=\"#ffffff\" stroke=\"transparent\" points=\"-4,4 -4,-188 678.2745,-188 678.2745,4 -4,4\"/>\n<!-- EMPTY -->\n<g id=\"node1\" class=\"node\">\n<title>EMPTY</title>\n</g>\n<!-- IF -->\n<g id=\"node8\" class=\"node\">\n<title>IF</title>\n<ellipse fill=\"none\" stroke=\"#000000\" cx=\"113.8483\" cy=\"-81\" rx=\"18.724\" ry=\"18.724\"/>\n<ellipse fill=\"none\" stroke=\"#000000\" cx=\"113.8483\" cy=\"-81\" rx=\"22.6977\" ry=\"22.6977\"/>\n<text text-anchor=\"middle\" x=\"113.8483\" y=\"-77.3\" font-family=\"Times,serif\" font-size=\"14.00\" fill=\"#000000\">IF</text>\n</g>\n<!-- EMPTY&#45;&gt;IF -->\n<g id=\"edge1\" class=\"edge\">\n<title>EMPTY&#45;&gt;IF</title>\n<path fill=\"none\" stroke=\"#000000\" d=\"M54.0033,-81C62.5212,-81 72.0276,-81 80.9112,-81\"/>\n<polygon fill=\"#000000\" stroke=\"#000000\" points=\"80.9572,-84.5001 90.9572,-81 80.9572,-77.5001 80.9572,-84.5001\"/>\n</g>\n<!-- S1 -->\n<g id=\"node2\" class=\"node\">\n<title>S1</title>\n<ellipse fill=\"none\" stroke=\"#000000\" cx=\"205.4948\" cy=\"-49\" rx=\"20.5982\" ry=\"20.5982\"/>\n<text text-anchor=\"middle\" x=\"205.4948\" y=\"-45.3\" font-family=\"Times,serif\" font-size=\"14.00\" fill=\"#000000\">S1</text>\n</g>\n<!-- S3 -->\n<g id=\"node4\" class=\"node\">\n<title>S3</title>\n<ellipse fill=\"none\" stroke=\"#000000\" cx=\"295.0911\" cy=\"-105\" rx=\"20.5982\" ry=\"20.5982\"/>\n<text text-anchor=\"middle\" x=\"295.0911\" y=\"-101.3\" font-family=\"Times,serif\" font-size=\"14.00\" fill=\"#000000\">S3</text>\n</g>\n<!-- S1&#45;&gt;S3 -->\n<g id=\"edge4\" class=\"edge\">\n<title>S1&#45;&gt;S3</title>\n<path fill=\"none\" stroke=\"#000000\" d=\"M223.4275,-59.7971C233.1823,-65.7072 245.4397,-73.1931 256.293,-80 260.4042,-82.5785 264.7416,-85.3361 268.9681,-88.0438\"/>\n<polygon fill=\"#000000\" stroke=\"#000000\" points=\"267.0768,-90.9888 277.3798,-93.4583 270.8656,-85.1028 267.0768,-90.9888\"/>\n<text text-anchor=\"middle\" x=\"250.293\" y=\"-83.8\" font-family=\"Times,serif\" font-size=\"14.00\" fill=\"#000000\">1 </text>\n</g>\n<!-- S2 -->\n<g id=\"node7\" class=\"node\">\n<title>S2</title>\n<ellipse fill=\"none\" stroke=\"#000000\" cx=\"653.4764\" cy=\"-56\" rx=\"20.5982\" ry=\"20.5982\"/>\n<text text-anchor=\"middle\" x=\"653.4764\" y=\"-52.3\" font-family=\"Times,serif\" font-size=\"14.00\" fill=\"#000000\">S2</text>\n</g>\n<!-- S1&#45;&gt;S2 -->\n<g id=\"edge5\" class=\"edge\">\n<title>S1&#45;&gt;S2</title>\n<path fill=\"none\" stroke=\"#000000\" d=\"M220.6266,-34.5634C237.4225,-20.1096 266.0153,0 295.0911,0 295.0911,0 295.0911,0 563.88,0 590.2056,0 615.1729,-17.5997 632.0313,-33.0661\"/>\n<polygon fill=\"#000000\" stroke=\"#000000\" points=\"630.0016,-35.9717 639.6263,-40.4009 634.8644,-30.9364 630.0016,-35.9717\"/>\n<text text-anchor=\"middle\" x=\"429.4856\" y=\"-3.8\" font-family=\"Times,serif\" font-size=\"14.00\" fill=\"#000000\">0 </text>\n</g>\n<!-- S6 -->\n<g id=\"node3\" class=\"node\">\n<title>S6</title>\n<ellipse fill=\"none\" stroke=\"#000000\" cx=\"384.6874\" cy=\"-101\" rx=\"20.5982\" ry=\"20.5982\"/>\n<text text-anchor=\"middle\" x=\"384.6874\" y=\"-97.3\" font-family=\"Times,serif\" font-size=\"14.00\" fill=\"#000000\">S6</text>\n</g>\n<!-- S6&#45;&gt;S6 -->\n<g id=\"edge14\" class=\"edge\">\n<title>S6&#45;&gt;S6</title>\n<path fill=\"none\" stroke=\"#000000\" d=\"M376.7275,-120.5637C375.5029,-130.6796 378.1562,-139.7982 384.6874,-139.7982 388.8715,-139.7982 391.4641,-136.0559 392.4652,-130.7065\"/>\n<polygon fill=\"#000000\" stroke=\"#000000\" points=\"395.9671,-130.6249 392.6474,-120.5637 388.9682,-130.4991 395.9671,-130.6249\"/>\n<text text-anchor=\"middle\" x=\"384.6874\" y=\"-143.5982\" font-family=\"Times,serif\" font-size=\"14.00\" fill=\"#000000\">1 </text>\n</g>\n<!-- S5 -->\n<g id=\"node5\" class=\"node\">\n<title>S5</title>\n<ellipse fill=\"none\" stroke=\"#000000\" cx=\"474.2837\" cy=\"-107\" rx=\"20.5982\" ry=\"20.5982\"/>\n<text text-anchor=\"middle\" x=\"474.2837\" y=\"-103.3\" font-family=\"Times,serif\" font-size=\"14.00\" fill=\"#000000\">S5</text>\n</g>\n<!-- S6&#45;&gt;S5 -->\n<g id=\"edge15\" class=\"edge\">\n<title>S6&#45;&gt;S5</title>\n<path fill=\"none\" stroke=\"#000000\" d=\"M405.4678,-102.3916C416.6953,-103.1435 430.7803,-104.0867 443.2782,-104.9237\"/>\n<polygon fill=\"#000000\" stroke=\"#000000\" points=\"443.0941,-108.4191 453.3057,-105.5952 443.5619,-101.4347 443.0941,-108.4191\"/>\n<text text-anchor=\"middle\" x=\"429.4856\" y=\"-108.8\" font-family=\"Times,serif\" font-size=\"14.00\" fill=\"#000000\">0 </text>\n</g>\n<!-- S3&#45;&gt;S6 -->\n<g id=\"edge7\" class=\"edge\">\n<title>S3&#45;&gt;S6</title>\n<path fill=\"none\" stroke=\"#000000\" d=\"M315.8715,-104.0723C327.0989,-103.571 341.1839,-102.9422 353.6819,-102.3842\"/>\n<polygon fill=\"#000000\" stroke=\"#000000\" points=\"353.8754,-105.8792 363.7094,-101.9366 353.5632,-98.8861 353.8754,-105.8792\"/>\n<text text-anchor=\"middle\" x=\"339.8893\" y=\"-107.8\" font-family=\"Times,serif\" font-size=\"14.00\" fill=\"#000000\">0 </text>\n</g>\n<!-- S3&#45;&gt;IF -->\n<g id=\"edge6\" class=\"edge\">\n<title>S3&#45;&gt;IF</title>\n<path fill=\"none\" stroke=\"#000000\" d=\"M274.2823,-102.2445C243.1742,-98.1252 184.2389,-90.3211 147.1122,-85.4048\"/>\n<polygon fill=\"#000000\" stroke=\"#000000\" points=\"147.1758,-81.8827 136.8029,-84.0396 146.2568,-88.8221 147.1758,-81.8827\"/>\n<text text-anchor=\"middle\" x=\"205.4948\" y=\"-99.8\" font-family=\"Times,serif\" font-size=\"14.00\" fill=\"#000000\">1 </text>\n</g>\n<!-- S5&#45;&gt;S3 -->\n<g id=\"edge13\" class=\"edge\">\n<title>S5&#45;&gt;S3</title>\n<path fill=\"none\" stroke=\"#000000\" d=\"M460.9238,-123.0783C448.2892,-136.9186 427.9573,-155.9004 405.4856,-164 388.0936,-170.2687 381.2274,-170.4163 363.8893,-164 344.769,-156.9242 327.3794,-141.8969 314.8667,-128.7797\"/>\n<polygon fill=\"#000000\" stroke=\"#000000\" points=\"317.4134,-126.3781 308.0867,-121.3518 312.2433,-131.0973 317.4134,-126.3781\"/>\n<text text-anchor=\"middle\" x=\"384.6874\" y=\"-172.8\" font-family=\"Times,serif\" font-size=\"14.00\" fill=\"#000000\">0 </text>\n</g>\n<!-- S4 -->\n<g id=\"node6\" class=\"node\">\n<title>S4</title>\n<ellipse fill=\"none\" stroke=\"#000000\" cx=\"563.88\" cy=\"-51\" rx=\"20.5982\" ry=\"20.5982\"/>\n<text text-anchor=\"middle\" x=\"563.88\" y=\"-47.3\" font-family=\"Times,serif\" font-size=\"14.00\" fill=\"#000000\">S4</text>\n</g>\n<!-- S5&#45;&gt;S4 -->\n<g id=\"edge12\" class=\"edge\">\n<title>S5&#45;&gt;S4</title>\n<path fill=\"none\" stroke=\"#000000\" d=\"M491.4434,-94.5679C498.11,-89.8683 505.8662,-84.5577 513.0819,-80 520.5287,-75.2963 528.7606,-70.451 536.3907,-66.1\"/>\n<polygon fill=\"#000000\" stroke=\"#000000\" points=\"538.3094,-69.0364 545.3062,-61.0806 534.8752,-62.9367 538.3094,-69.0364\"/>\n<text text-anchor=\"middle\" x=\"519.0819\" y=\"-83.8\" font-family=\"Times,serif\" font-size=\"14.00\" fill=\"#000000\">1 </text>\n</g>\n<!-- S4&#45;&gt;S1 -->\n<g id=\"edge11\" class=\"edge\">\n<title>S4&#45;&gt;S1</title>\n<path fill=\"none\" stroke=\"#000000\" d=\"M542.8989,-49.1666C524.7531,-47.7396 497.8082,-46 474.2837,-46 295.0911,-46 295.0911,-46 295.0911,-46 275.6293,-46 253.8028,-46.7158 236.5654,-47.4481\"/>\n<polygon fill=\"#000000\" stroke=\"#000000\" points=\"236.3209,-43.9554 226.4878,-47.8999 236.6346,-50.9484 236.3209,-43.9554\"/>\n<text text-anchor=\"middle\" x=\"384.6874\" y=\"-49.8\" font-family=\"Times,serif\" font-size=\"14.00\" fill=\"#000000\">0 </text>\n</g>\n<!-- S4&#45;&gt;S2 -->\n<g id=\"edge10\" class=\"edge\">\n<title>S4&#45;&gt;S2</title>\n<path fill=\"none\" stroke=\"#000000\" d=\"M582.0754,-40.1614C591.6936,-35.7344 603.7431,-32.2304 614.6782,-35 618.8546,-36.0578 623.0689,-37.6646 627.1027,-39.5281\"/>\n<polygon fill=\"#000000\" stroke=\"#000000\" points=\"625.5986,-42.6909 636.0848,-44.2045 628.8312,-36.482 625.5986,-42.6909\"/>\n<text text-anchor=\"middle\" x=\"608.6782\" y=\"-38.8\" font-family=\"Times,serif\" font-size=\"14.00\" fill=\"#000000\">1 </text>\n</g>\n<!-- S2&#45;&gt;S5 -->\n<g id=\"edge8\" class=\"edge\">\n<title>S2&#45;&gt;S5</title>\n<path fill=\"none\" stroke=\"#000000\" d=\"M634.3679,-65.0627C628.1667,-67.8168 621.2026,-70.7156 614.6782,-73 577.7867,-85.9166 533.7763,-95.708 504.99,-101.3919\"/>\n<polygon fill=\"#000000\" stroke=\"#000000\" points=\"504.2699,-97.9662 495.1146,-103.2982 505.5968,-104.8393 504.2699,-97.9662\"/>\n<text text-anchor=\"middle\" x=\"563.88\" y=\"-97.8\" font-family=\"Times,serif\" font-size=\"14.00\" fill=\"#000000\">1 </text>\n</g>\n<!-- S2&#45;&gt;S4 -->\n<g id=\"edge9\" class=\"edge\">\n<title>S2&#45;&gt;S4</title>\n<path fill=\"none\" stroke=\"#000000\" d=\"M632.4983,-54.8293C621.2375,-54.2009 607.1452,-53.4145 594.666,-52.718\"/>\n<polygon fill=\"#000000\" stroke=\"#000000\" points=\"594.84,-49.2224 584.6604,-52.1597 594.4499,-56.2115 594.84,-49.2224\"/>\n<text text-anchor=\"middle\" x=\"608.6782\" y=\"-57.8\" font-family=\"Times,serif\" font-size=\"14.00\" fill=\"#000000\">0 </text>\n</g>\n<!-- IF&#45;&gt;S1 -->\n<g id=\"edge3\" class=\"edge\">\n<title>IF&#45;&gt;S1</title>\n<path fill=\"none\" stroke=\"#000000\" d=\"M135.5673,-73.4164C147.7151,-69.1748 163.0225,-63.83 176.2162,-59.2231\"/>\n<polygon fill=\"#000000\" stroke=\"#000000\" points=\"177.519,-62.4756 185.8062,-55.8746 175.2114,-55.8668 177.519,-62.4756\"/>\n<text text-anchor=\"middle\" x=\"160.6967\" y=\"-69.8\" font-family=\"Times,serif\" font-size=\"14.00\" fill=\"#000000\">1 </text>\n</g>\n<!-- IF&#45;&gt;IF -->\n<g id=\"edge2\" class=\"edge\">\n<title>IF&#45;&gt;IF</title>\n<path fill=\"none\" stroke=\"#000000\" d=\"M106.4966,-102.8532C105.6946,-112.9909 108.1452,-121.8483 113.8483,-121.8483 117.5019,-121.8483 119.8206,-118.2132 120.8045,-112.9352\"/>\n<polygon fill=\"#000000\" stroke=\"#000000\" points=\"124.3052,-112.9828 121.2,-102.8532 117.3106,-112.7083 124.3052,-112.9828\"/>\n<text text-anchor=\"middle\" x=\"113.8483\" y=\"-125.6483\" font-family=\"Times,serif\" font-size=\"14.00\" fill=\"#000000\">0 </text>\n</g>\n</g>\n</svg>\n"
          },
          "metadata": {},
          "execution_count": 69
        }
      ]
    },
    {
      "cell_type": "markdown",
      "metadata": {
        "id": "ELyimzo--9Zz"
      },
      "source": [
        "# Question 1b (3%): Spot-checks  "
      ]
    },
    {
      "cell_type": "markdown",
      "metadata": {
        "id": "jB30QX1u-9Zz"
      },
      "source": [
        "## Spot-check 110110 by running the command below"
      ]
    },
    {
      "cell_type": "code",
      "metadata": {
        "id": "wqyjsUcU-9Z0",
        "outputId": "62e059bf-a311-4be4-8ed5-686d8675e732",
        "colab": {
          "base_uri": "https://localhost:8080/",
          "height": 35
        }
      },
      "source": [
        "run_dfa(mod7DFA, \"110110\")"
      ],
      "execution_count": 70,
      "outputs": [
        {
          "output_type": "execute_result",
          "data": {
            "application/vnd.google.colaboratory.intrinsic+json": {
              "type": "string"
            },
            "text/plain": [
              "'S5'"
            ]
          },
          "metadata": {},
          "execution_count": 70
        }
      ]
    },
    {
      "cell_type": "markdown",
      "metadata": {
        "id": "FnwqeRu_-9Z0"
      },
      "source": [
        "### ==> My machine indeed went to state S5 as required <=="
      ]
    },
    {
      "cell_type": "markdown",
      "metadata": {
        "id": "DBNJQeBP-9Z1"
      },
      "source": [
        "## Spot-check 01101111 by running the command below"
      ]
    },
    {
      "cell_type": "code",
      "metadata": {
        "id": "9t5NmiL6-9Z1",
        "outputId": "cab23070-60bf-45bd-bbda-097298801039",
        "colab": {
          "base_uri": "https://localhost:8080/",
          "height": 35
        }
      },
      "source": [
        "run_dfa(mod7DFA, \"01101111\")"
      ],
      "execution_count": 71,
      "outputs": [
        {
          "output_type": "execute_result",
          "data": {
            "application/vnd.google.colaboratory.intrinsic+json": {
              "type": "string"
            },
            "text/plain": [
              "'S6'"
            ]
          },
          "metadata": {},
          "execution_count": 71
        }
      ]
    },
    {
      "cell_type": "markdown",
      "metadata": {
        "id": "REkpkA5H-9Z1"
      },
      "source": [
        "### ==> My machine indeed went to state S6 as required <=="
      ]
    },
    {
      "cell_type": "code",
      "metadata": {
        "id": "8rqopU2z-9Z2"
      },
      "source": [
        ""
      ],
      "execution_count": null,
      "outputs": []
    },
    {
      "cell_type": "markdown",
      "metadata": {
        "id": "dHjYqkA4-9Z2"
      },
      "source": [
        "# Question 1c (3%): Shortcut for the \"mod 4\" machine\n",
        "\n",
        "<font size=\"4\">\n",
        "\n",
        "* Someone implemented a \"mod 4\" DFA as follows. Explain in neat bulleted steps why this design works\n",
        "    \n",
        "</font>"
      ]
    },
    {
      "cell_type": "code",
      "metadata": {
        "id": "YJhiMELF-9Z2",
        "outputId": "0f0ec6b8-e180-4faa-d9c6-84475cb6ad29",
        "colab": {
          "base_uri": "https://localhost:8080/"
        }
      },
      "source": [
        "# Design a \"mod 4\" DFA in a nifty way -- why does it work?\n",
        "\n",
        "nfa_end_00 = re2nfa(\"(0+1)* (00)\")"
      ],
      "execution_count": 51,
      "outputs": [
        {
          "output_type": "stream",
          "name": "stderr",
          "text": [
            "Generating LALR tables\n"
          ]
        }
      ]
    },
    {
      "cell_type": "code",
      "metadata": {
        "id": "KbAzcLQI-9Z3",
        "outputId": "fe05d47b-87f6-4e7e-b01d-ddeff39b0af2",
        "colab": {
          "base_uri": "https://localhost:8080/",
          "height": 166
        }
      },
      "source": [
        "dotObj_dfa(min_dfa(nfa2dfa(nfa_end_00)))"
      ],
      "execution_count": 52,
      "outputs": [
        {
          "output_type": "execute_result",
          "data": {
            "text/plain": [
              "<graphviz.dot.Digraph at 0x7f521a86bcd0>"
            ],
            "image/svg+xml": "<?xml version=\"1.0\" encoding=\"UTF-8\" standalone=\"no\"?>\n<!DOCTYPE svg PUBLIC \"-//W3C//DTD SVG 1.1//EN\"\n \"http://www.w3.org/Graphics/SVG/1.1/DTD/svg11.dtd\">\n<!-- Generated by graphviz version 2.40.1 (20161225.0304)\n -->\n<!-- Title: %3 Pages: 1 -->\n<svg width=\"343pt\" height=\"109pt\"\n viewBox=\"0.00 0.00 343.39 108.80\" xmlns=\"http://www.w3.org/2000/svg\" xmlns:xlink=\"http://www.w3.org/1999/xlink\">\n<g id=\"graph0\" class=\"graph\" transform=\"scale(1 1) rotate(0) translate(4 104.7958)\">\n<title>%3</title>\n<polygon fill=\"#ffffff\" stroke=\"transparent\" points=\"-4,4 -4,-104.7958 339.3875,-104.7958 339.3875,4 -4,4\"/>\n<!-- EMPTY -->\n<g id=\"node1\" class=\"node\">\n<title>EMPTY</title>\n</g>\n<!-- St2 -->\n<g id=\"node3\" class=\"node\">\n<title>St2</title>\n<ellipse fill=\"none\" stroke=\"#000000\" cx=\"114.3979\" cy=\"-44.3979\" rx=\"23.2963\" ry=\"23.2963\"/>\n<text text-anchor=\"middle\" x=\"114.3979\" y=\"-40.6979\" font-family=\"Times,serif\" font-size=\"14.00\" fill=\"#000000\">St2</text>\n</g>\n<!-- EMPTY&#45;&gt;St2 -->\n<g id=\"edge1\" class=\"edge\">\n<title>EMPTY&#45;&gt;St2</title>\n<path fill=\"none\" stroke=\"#000000\" d=\"M54.1742,-44.3979C62.5103,-44.3979 71.7873,-44.3979 80.5137,-44.3979\"/>\n<polygon fill=\"#000000\" stroke=\"#000000\" points=\"80.7846,-47.898 90.7846,-44.3979 80.7845,-40.898 80.7846,-47.898\"/>\n</g>\n<!-- St1 -->\n<g id=\"node2\" class=\"node\">\n<title>St1</title>\n<ellipse fill=\"none\" stroke=\"#000000\" cx=\"209.1938\" cy=\"-67.3979\" rx=\"23.2963\" ry=\"23.2963\"/>\n<text text-anchor=\"middle\" x=\"209.1938\" y=\"-63.6979\" font-family=\"Times,serif\" font-size=\"14.00\" fill=\"#000000\">St1</text>\n</g>\n<!-- St1&#45;&gt;St2 -->\n<g id=\"edge4\" class=\"edge\">\n<title>St1&#45;&gt;St2</title>\n<path fill=\"none\" stroke=\"#000000\" d=\"M190.4846,-52.5416C183.7283,-48.0493 175.7883,-43.6996 167.7958,-41.3979 161.4135,-39.5599 154.4288,-38.9833 147.6767,-39.1066\"/>\n<polygon fill=\"#000000\" stroke=\"#000000\" points=\"147.1216,-35.6359 137.3776,-39.7959 147.5891,-42.6202 147.1216,-35.6359\"/>\n<text text-anchor=\"middle\" x=\"161.7958\" y=\"-45.1979\" font-family=\"Times,serif\" font-size=\"14.00\" fill=\"#000000\">1 </text>\n</g>\n<!-- St0 -->\n<g id=\"node4\" class=\"node\">\n<title>St0</title>\n<ellipse fill=\"none\" stroke=\"#000000\" cx=\"307.9896\" cy=\"-27.3979\" rx=\"23.3111\" ry=\"23.3111\"/>\n<ellipse fill=\"none\" stroke=\"#000000\" cx=\"307.9896\" cy=\"-27.3979\" rx=\"27.2962\" ry=\"27.2962\"/>\n<text text-anchor=\"middle\" x=\"307.9896\" y=\"-23.6979\" font-family=\"Times,serif\" font-size=\"14.00\" fill=\"#000000\">St0</text>\n</g>\n<!-- St1&#45;&gt;St0 -->\n<g id=\"edge5\" class=\"edge\">\n<title>St1&#45;&gt;St0</title>\n<path fill=\"none\" stroke=\"#000000\" d=\"M231.1198,-58.5206C243.406,-53.5462 259.0167,-47.2258 272.9561,-41.5821\"/>\n<polygon fill=\"#000000\" stroke=\"#000000\" points=\"274.3224,-44.805 282.278,-37.8079 271.6954,-38.3166 274.3224,-44.805\"/>\n<text text-anchor=\"middle\" x=\"256.5917\" y=\"-53.1979\" font-family=\"Times,serif\" font-size=\"14.00\" fill=\"#000000\">0 </text>\n</g>\n<!-- St2&#45;&gt;St1 -->\n<g id=\"edge3\" class=\"edge\">\n<title>St2&#45;&gt;St1</title>\n<path fill=\"none\" stroke=\"#000000\" d=\"M135.9946,-53.862C142.2803,-56.3091 149.2253,-58.7231 155.7958,-60.3979 162.1577,-62.0195 169.047,-63.2782 175.6958,-64.251\"/>\n<polygon fill=\"#000000\" stroke=\"#000000\" points=\"175.4706,-67.7508 185.8355,-65.5556 176.3639,-60.808 175.4706,-67.7508\"/>\n<text text-anchor=\"middle\" x=\"161.7958\" y=\"-66.1979\" font-family=\"Times,serif\" font-size=\"14.00\" fill=\"#000000\">0 </text>\n</g>\n<!-- St2&#45;&gt;St2 -->\n<g id=\"edge2\" class=\"edge\">\n<title>St2&#45;&gt;St2</title>\n<path fill=\"none\" stroke=\"#000000\" d=\"M107.0151,-66.9667C106.312,-77.0635 108.7729,-85.7958 114.3979,-85.7958 118.0014,-85.7958 120.3064,-82.2121 121.3129,-76.9817\"/>\n<polygon fill=\"#000000\" stroke=\"#000000\" points=\"124.8102,-77.1191 121.7807,-66.9667 117.8178,-76.7924 124.8102,-77.1191\"/>\n<text text-anchor=\"middle\" x=\"114.3979\" y=\"-89.5958\" font-family=\"Times,serif\" font-size=\"14.00\" fill=\"#000000\">1 </text>\n</g>\n<!-- St0&#45;&gt;St2 -->\n<g id=\"edge6\" class=\"edge\">\n<title>St0&#45;&gt;St2</title>\n<path fill=\"none\" stroke=\"#000000\" d=\"M280.6325,-22.4338C255.7495,-18.7215 218.0901,-15.1154 185.7958,-20.3979 172.2521,-22.6133 157.8141,-27.0456 145.491,-31.5049\"/>\n<polygon fill=\"#000000\" stroke=\"#000000\" points=\"144.237,-28.2371 136.119,-35.0451 146.7107,-34.7855 144.237,-28.2371\"/>\n<text text-anchor=\"middle\" x=\"209.1938\" y=\"-24.1979\" font-family=\"Times,serif\" font-size=\"14.00\" fill=\"#000000\">1 </text>\n</g>\n<!-- St0&#45;&gt;St0 -->\n<g id=\"edge7\" class=\"edge\">\n<title>St0&#45;&gt;St0</title>\n<path fill=\"none\" stroke=\"#000000\" d=\"M298.6718,-53.523C298.1454,-64.0011 301.2513,-72.7958 307.9896,-72.7958 312.3063,-72.7958 315.1323,-69.1865 316.4676,-63.8374\"/>\n<polygon fill=\"#000000\" stroke=\"#000000\" points=\"319.9842,-63.7741 317.3074,-53.523 313.0073,-63.206 319.9842,-63.7741\"/>\n<text text-anchor=\"middle\" x=\"307.9896\" y=\"-76.5958\" font-family=\"Times,serif\" font-size=\"14.00\" fill=\"#000000\">0 </text>\n</g>\n</g>\n</svg>\n"
          },
          "metadata": {},
          "execution_count": 52
        }
      ]
    },
    {
      "cell_type": "markdown",
      "metadata": {
        "id": "Ihkk3xIL-9Z3"
      },
      "source": [
        "## ==> Why does the above mod-4 machine construction work? <==\n",
        "\n",
        "<font size=\"4\">\n",
        "    \n",
        "    * REASON: The first thing it does is it compresses the total number of states to 3 by taking essentially equivalent states and making them the same.  \n",
        "    * If the value of the calculation 2*A+b is 0 or 4, being modded by 4 will result in 0 which is what we want, so S0 and S4 are both final states.\n",
        "    * For S1 and S3, the states where A is either 1 or 3, getting a 1 keeps us in one of those states, and getting a 0 always takes us to S2, so if we merge these states we can simplify the DFA so that a 1 keeps us in this state and a 0 takes us to S2.\n",
        "    * For S2, the last one to account for, a 1 puts us at 5 mod 4 which means we return to the other compressed fail-state. A 0 gives 4 mod 4, which takes us to the final state.  This means that, ordinarily we might represent this with 4 or 5 states, the expression used cleverly represents it with 3 states.\n",
        "    \n",
        "    * REASON: The only way we can end up with A mod 4 = 0 is if the string of bits entered ends with two 0's.\n",
        "    * The basic idea is a 1 in this string will always bring us as far away from A mod 4 = 0 as possible. To get closer we need a 0 in order to get to S2. At S2 we need a 0 to get to A mod 4 = 0, a 1 will take us away again.\n",
        "    * This means that regardless of what comes before, in order to gaurantee a satisfactory result of A % 4 = 0, we need a 0 and then a 0 to either get to A % 4 = 0 or to stay there.  Any other sequence as the last 2 bits will render that sequence as invalid, regardless of what came before them.\n",
        "</font>    "
      ]
    },
    {
      "cell_type": "markdown",
      "metadata": {
        "id": "JylPiWNG-9Z3"
      },
      "source": [
        "# =================== QUESTION DIVIDING LINE ==================="
      ]
    },
    {
      "cell_type": "markdown",
      "metadata": {
        "id": "a1aEzyUR-9Z3"
      },
      "source": [
        "# (25%) Question 2: Demonstrate your ability to design a DFA\n",
        "\n",
        "<font size=\"4\">\n",
        "\n",
        "*\n",
        "* Design a DFA called dfa01n01 for the set of strings over {0,1} that \n",
        "  - Begin with 01, and \n",
        "  - do not end with in 01\n",
        "\n",
        "\n",
        "### Requirements:\n",
        "\n",
        "* **This DFA must be designed directly** -- i.e. not by designing other DFA or NFA and combining or transforming them\n",
        "* The DFA must start with state I\n",
        "* You must maintain states such as SX, SXY, FXY for X and Y in {0,1} (not all cases may be necessary). These states must help the DFA \"remember\" what it has seen thus far\n",
        "* The DFA must transition to the state BH if the string so far cannot be recovered from (by adding more symbols). Further BH must transition back to itself upon 0 and 1\n",
        "\n",
        "### Further steps must be carried out as noted below\n",
        "</font>"
      ]
    },
    {
      "cell_type": "markdown",
      "metadata": {
        "id": "yS11j_si-9Z4"
      },
      "source": [
        "# Question 2a (18%): Provide the design of dfa01n01 below, with comments  \n",
        "\n",
        "## Provide a sufficient number of comments to help me judge that you understand the design. In particular, show when an \"F\" state is entered and when a \"non-F\" state is entered"
      ]
    },
    {
      "cell_type": "code",
      "metadata": {
        "id": "tnc6tDJT1Faf"
      },
      "source": [
        "# Given DFA\n",
        "\n",
        "dfa01n01 = md2mc(\n",
        "'''DFA\n",
        "\n",
        "I : 0 -> S0  !!The string entered must begin with the characters '01', so if the first character is 0, we can advance to further determine if the string is accepted.\n",
        "I : 1 -> BH  !!Continuing off of the above comment, because the first character in the string is 1, it cannot begin with '01', which means the string is lost, no amount of\n",
        "             !! symbols will save this string and make it acceptable.\n",
        "\n",
        "S0 : 0 -> BH  !! If the next symbol is '0', the string begins with '00', not '01' like intended, which means the string is dead.\n",
        "S0 : 1 -> S01 !! If it is a '1', the string begins with '01' which means we can transition to the next state. The state is S01 instead of something like F01 because with this\n",
        "              !!  much of the string scanned, it begins with '01', but it also technically ends with '01', so in order for it to be savable there needs to be at least one other character.\n",
        "\n",
        "\n",
        "!! From this point on, S01 and the following states denote the last two symbols seen, which means the string is of the form ~01, ~10, ~11, or ~00, where the ~ denotes some string of\n",
        "!!  symbols that can be empty, which means the string is (some number of 0's or 1's)--. In regards to the last 2 symbols seen, any pattern other than 01 is acceptable, as the string\n",
        "!!  can't end in 01, so if we end on, for instance, S01, that means the string ended in 01, and if we end on F11, the last two seen were 11 which means the string is accepted because\n",
        "!!  we got past the begins with '01' requirement before getting to this stage.\n",
        "\n",
        "S01 : 0 -> F10  !! For both of these transitions, as long as we see another character we can go to one of the final states because the string no longer ends on '01'.\n",
        "S01 : 1 -> F11\n",
        "\n",
        "F10 : 0 -> F00  !! Move to a different final state because this combination of symbols is acceptable to end on.\n",
        "F10 : 1 -> S01  !! Move back to S01 because the string seen so far ends in a 01.\n",
        "\n",
        "F11 : 0 -> F10  !! For both of these states, any symbol leaves the last two characters as a valid combination, so we remain in a final state.\n",
        "F11 : 1 -> F11\n",
        "\n",
        "F00 : 0 -> F00  !! Seeing another 0 is ok because the string is still valid according to the requirements of the machine, remain in the final state.\n",
        "F00 : 1 -> S01  !! Seeing a '1' is potentially bad because it puts us back into the ends in '01' failure condition, which means the string seen so far after this character is invalid, hence why we transition to S01.\n",
        "\n",
        "BH : 0 | 1 -> BH  !! If the string is dead, stay here to denote that after the machine is finished scanning the input string.\n",
        "\n",
        "''')\n"
      ],
      "execution_count": 66,
      "outputs": []
    },
    {
      "cell_type": "code",
      "metadata": {
        "id": "G47DUT5x-9Z5",
        "outputId": "cd0ad987-b59e-4b35-9deb-bcd01a37681e",
        "colab": {
          "base_uri": "https://localhost:8080/",
          "height": 320
        }
      },
      "source": [
        "# RUN THIS CODE CELL\n",
        "dotObj_dfa(dfa01n01, FuseEdges=True)"
      ],
      "execution_count": 10,
      "outputs": [
        {
          "output_type": "execute_result",
          "data": {
            "text/plain": [
              "<graphviz.dot.Digraph at 0x7f521a9fb610>"
            ],
            "image/svg+xml": "<?xml version=\"1.0\" encoding=\"UTF-8\" standalone=\"no\"?>\n<!DOCTYPE svg PUBLIC \"-//W3C//DTD SVG 1.1//EN\"\n \"http://www.w3.org/Graphics/SVG/1.1/DTD/svg11.dtd\">\n<!-- Generated by graphviz version 2.40.1 (20161225.0304)\n -->\n<!-- Title: %3 Pages: 1 -->\n<svg width=\"647pt\" height=\"224pt\"\n viewBox=\"0.00 0.00 647.28 224.00\" xmlns=\"http://www.w3.org/2000/svg\" xmlns:xlink=\"http://www.w3.org/1999/xlink\">\n<g id=\"graph0\" class=\"graph\" transform=\"scale(1 1) rotate(0) translate(4 219.9977)\">\n<title>%3</title>\n<polygon fill=\"#ffffff\" stroke=\"transparent\" points=\"-4,4 -4,-219.9977 643.278,-219.9977 643.278,4 -4,4\"/>\n<!-- EMPTY -->\n<g id=\"node1\" class=\"node\">\n<title>EMPTY</title>\n</g>\n<!-- I -->\n<g id=\"node3\" class=\"node\">\n<title>I</title>\n<ellipse fill=\"none\" stroke=\"#000000\" cx=\"109\" cy=\"-90.9977\" rx=\"18\" ry=\"18\"/>\n<text text-anchor=\"middle\" x=\"109\" y=\"-87.2977\" font-family=\"Times,serif\" font-size=\"14.00\" fill=\"#000000\">I</text>\n</g>\n<!-- EMPTY&#45;&gt;I -->\n<g id=\"edge1\" class=\"edge\">\n<title>EMPTY&#45;&gt;I</title>\n<path fill=\"none\" stroke=\"#000000\" d=\"M54.3048,-90.9977C62.6909,-90.9977 71.9407,-90.9977 80.4103,-90.9977\"/>\n<polygon fill=\"#000000\" stroke=\"#000000\" points=\"80.5976,-94.4978 90.5976,-90.9977 80.5976,-87.4978 80.5976,-94.4978\"/>\n</g>\n<!-- S0 -->\n<g id=\"node2\" class=\"node\">\n<title>S0</title>\n<ellipse fill=\"none\" stroke=\"#000000\" cx=\"195.7982\" cy=\"-90.9977\" rx=\"20.5982\" ry=\"20.5982\"/>\n<text text-anchor=\"middle\" x=\"195.7982\" y=\"-87.2977\" font-family=\"Times,serif\" font-size=\"14.00\" fill=\"#000000\">S0</text>\n</g>\n<!-- S01 -->\n<g id=\"node4\" class=\"node\">\n<title>S01</title>\n<ellipse fill=\"none\" stroke=\"#000000\" cx=\"290.594\" cy=\"-90.9977\" rx=\"25.9954\" ry=\"25.9954\"/>\n<text text-anchor=\"middle\" x=\"290.594\" y=\"-87.2977\" font-family=\"Times,serif\" font-size=\"14.00\" fill=\"#000000\">S01</text>\n</g>\n<!-- S0&#45;&gt;S01 -->\n<g id=\"edge3\" class=\"edge\">\n<title>S0&#45;&gt;S01</title>\n<path fill=\"none\" stroke=\"#000000\" d=\"M216.8364,-90.9977C227.8309,-90.9977 241.5999,-90.9977 254.2549,-90.9977\"/>\n<polygon fill=\"#000000\" stroke=\"#000000\" points=\"254.5378,-94.4978 264.5378,-90.9977 254.5378,-87.4978 254.5378,-94.4978\"/>\n<text text-anchor=\"middle\" x=\"240.5963\" y=\"-94.7977\" font-family=\"Times,serif\" font-size=\"14.00\" fill=\"#000000\">1 </text>\n</g>\n<!-- I&#45;&gt;S0 -->\n<g id=\"edge2\" class=\"edge\">\n<title>I&#45;&gt;S0</title>\n<path fill=\"none\" stroke=\"#000000\" d=\"M127.4077,-90.9977C138.2934,-90.9977 152.3613,-90.9977 164.9052,-90.9977\"/>\n<polygon fill=\"#000000\" stroke=\"#000000\" points=\"164.9803,-94.4978 174.9802,-90.9977 164.9802,-87.4978 164.9803,-94.4978\"/>\n<text text-anchor=\"middle\" x=\"151\" y=\"-94.7977\" font-family=\"Times,serif\" font-size=\"14.00\" fill=\"#000000\">0 </text>\n</g>\n<!-- F10 -->\n<g id=\"node5\" class=\"node\">\n<title>F10</title>\n<ellipse fill=\"none\" stroke=\"#000000\" cx=\"501.2849\" cy=\"-96.9977\" rx=\"25.9957\" ry=\"25.9957\"/>\n<ellipse fill=\"none\" stroke=\"#000000\" cx=\"501.2849\" cy=\"-96.9977\" rx=\"29.9954\" ry=\"29.9954\"/>\n<text text-anchor=\"middle\" x=\"501.2849\" y=\"-93.2977\" font-family=\"Times,serif\" font-size=\"14.00\" fill=\"#000000\">F10</text>\n</g>\n<!-- S01&#45;&gt;F10 -->\n<g id=\"edge4\" class=\"edge\">\n<title>S01&#45;&gt;F10</title>\n<path fill=\"none\" stroke=\"#000000\" d=\"M300.2182,-115.1869C311.5109,-139.875 332.8238,-176.797 364.5917,-192.9977 387.8311,-204.8491 399.7324,-204.2093 423.2872,-192.9977 449.3612,-180.587 469.5641,-154.726 482.8694,-132.9695\"/>\n<polygon fill=\"#000000\" stroke=\"#000000\" points=\"485.9389,-134.6541 487.9735,-124.2564 479.8989,-131.1159 485.9389,-134.6541\"/>\n<text text-anchor=\"middle\" x=\"393.9394\" y=\"-204.7977\" font-family=\"Times,serif\" font-size=\"14.00\" fill=\"#000000\">0 </text>\n</g>\n<!-- F11 -->\n<g id=\"node6\" class=\"node\">\n<title>F11</title>\n<ellipse fill=\"none\" stroke=\"#000000\" cx=\"393.9394\" cy=\"-121.9977\" rx=\"25.2169\" ry=\"25.2169\"/>\n<ellipse fill=\"none\" stroke=\"#000000\" cx=\"393.9394\" cy=\"-121.9977\" rx=\"29.1963\" ry=\"29.1963\"/>\n<text text-anchor=\"middle\" x=\"393.9394\" y=\"-118.2977\" font-family=\"Times,serif\" font-size=\"14.00\" fill=\"#000000\">F11</text>\n</g>\n<!-- S01&#45;&gt;F11 -->\n<g id=\"edge5\" class=\"edge\">\n<title>S01&#45;&gt;F11</title>\n<path fill=\"none\" stroke=\"#000000\" d=\"M315.6111,-98.5019C327.607,-102.1003 342.2423,-106.4904 355.6013,-110.4976\"/>\n<polygon fill=\"#000000\" stroke=\"#000000\" points=\"354.9193,-113.947 365.5033,-113.4678 356.9306,-107.2422 354.9193,-113.947\"/>\n<text text-anchor=\"middle\" x=\"340.5917\" y=\"-111.7977\" font-family=\"Times,serif\" font-size=\"14.00\" fill=\"#000000\">1 </text>\n</g>\n<!-- F10&#45;&gt;S01 -->\n<g id=\"edge7\" class=\"edge\">\n<title>F10&#45;&gt;S01</title>\n<path fill=\"none\" stroke=\"#000000\" d=\"M473.7598,-84.488C459.1046,-78.5078 440.5798,-72.0076 423.2872,-68.9977 397.5867,-64.5244 390.4067,-65.2414 364.5917,-68.9977 351.4324,-70.9124 337.3581,-74.6477 325.0547,-78.5046\"/>\n<polygon fill=\"#000000\" stroke=\"#000000\" points=\"323.608,-75.2955 315.1953,-81.7358 325.7881,-81.9474 323.608,-75.2955\"/>\n<text text-anchor=\"middle\" x=\"393.9394\" y=\"-72.7977\" font-family=\"Times,serif\" font-size=\"14.00\" fill=\"#000000\">1 </text>\n</g>\n<!-- F00 -->\n<g id=\"node7\" class=\"node\">\n<title>F00</title>\n<ellipse fill=\"none\" stroke=\"#000000\" cx=\"609.2803\" cy=\"-29.9977\" rx=\"25.9957\" ry=\"25.9957\"/>\n<ellipse fill=\"none\" stroke=\"#000000\" cx=\"609.2803\" cy=\"-29.9977\" rx=\"29.9954\" ry=\"29.9954\"/>\n<text text-anchor=\"middle\" x=\"609.2803\" y=\"-26.2977\" font-family=\"Times,serif\" font-size=\"14.00\" fill=\"#000000\">F00</text>\n</g>\n<!-- F10&#45;&gt;F00 -->\n<g id=\"edge6\" class=\"edge\">\n<title>F10&#45;&gt;F00</title>\n<path fill=\"none\" stroke=\"#000000\" d=\"M526.8783,-81.1196C541.165,-72.2562 559.1601,-61.0921 574.6866,-51.4595\"/>\n<polygon fill=\"#000000\" stroke=\"#000000\" points=\"576.844,-54.24 583.4963,-45.994 573.1536,-48.2917 576.844,-54.24\"/>\n<text text-anchor=\"middle\" x=\"555.2826\" y=\"-69.7977\" font-family=\"Times,serif\" font-size=\"14.00\" fill=\"#000000\">0 </text>\n</g>\n<!-- F11&#45;&gt;F10 -->\n<g id=\"edge8\" class=\"edge\">\n<title>F11&#45;&gt;F10</title>\n<path fill=\"none\" stroke=\"#000000\" d=\"M422.7061,-115.2982C434.7609,-112.4907 448.9696,-109.1816 461.9663,-106.1547\"/>\n<polygon fill=\"#000000\" stroke=\"#000000\" points=\"463.1198,-109.4798 472.0653,-103.8027 461.532,-102.6623 463.1198,-109.4798\"/>\n<text text-anchor=\"middle\" x=\"447.2872\" y=\"-114.7977\" font-family=\"Times,serif\" font-size=\"14.00\" fill=\"#000000\">0 </text>\n</g>\n<!-- F11&#45;&gt;F11 -->\n<g id=\"edge9\" class=\"edge\">\n<title>F11&#45;&gt;F11</title>\n<path fill=\"none\" stroke=\"#000000\" d=\"M384.2275,-149.7188C383.7959,-160.4369 387.0332,-169.3454 393.9394,-169.3454 398.4717,-169.3454 401.4238,-165.5089 402.7959,-159.842\"/>\n<polygon fill=\"#000000\" stroke=\"#000000\" points=\"406.2968,-159.9781 403.6514,-149.7188 399.3216,-159.3886 406.2968,-159.9781\"/>\n<text text-anchor=\"middle\" x=\"393.9394\" y=\"-173.1454\" font-family=\"Times,serif\" font-size=\"14.00\" fill=\"#000000\">1 </text>\n</g>\n<!-- F00&#45;&gt;S01 -->\n<g id=\"edge11\" class=\"edge\">\n<title>F00&#45;&gt;S01</title>\n<path fill=\"none\" stroke=\"#000000\" d=\"M579.3762,-32.9418C533.1198,-37.7131 441.5209,-48.0278 364.5917,-61.9977 351.1205,-64.444 347.4697,-64.3486 334.5917,-68.9977 330.6155,-70.4332 326.532,-72.136 322.5313,-73.9492\"/>\n<polygon fill=\"#000000\" stroke=\"#000000\" points=\"320.9426,-70.8293 313.4363,-78.3064 323.967,-77.1423 320.9426,-70.8293\"/>\n<text text-anchor=\"middle\" x=\"447.2872\" y=\"-53.7977\" font-family=\"Times,serif\" font-size=\"14.00\" fill=\"#000000\">1 </text>\n</g>\n<!-- F00&#45;&gt;F00 -->\n<g id=\"edge10\" class=\"edge\">\n<title>F00&#45;&gt;F00</title>\n<path fill=\"none\" stroke=\"#000000\" d=\"M599.5517,-58.5775C599.2327,-69.2282 602.4756,-77.9954 609.2803,-77.9954 613.7459,-77.9954 616.6775,-74.2197 618.0752,-68.6138\"/>\n<polygon fill=\"#000000\" stroke=\"#000000\" points=\"621.5674,-68.8588 619.0089,-58.5775 614.5975,-68.2103 621.5674,-68.8588\"/>\n<text text-anchor=\"middle\" x=\"609.2803\" y=\"-81.7954\" font-family=\"Times,serif\" font-size=\"14.00\" fill=\"#000000\">0 </text>\n</g>\n</g>\n</svg>\n"
          },
          "metadata": {},
          "execution_count": 10
        }
      ]
    },
    {
      "cell_type": "code",
      "metadata": {
        "id": "yrQ1H0cB-9Z6",
        "outputId": "8535be9d-0cc6-4178-b41e-ef03163b6f9a",
        "colab": {
          "base_uri": "https://localhost:8080/"
        }
      },
      "source": [
        "help(min_dfa_brz)"
      ],
      "execution_count": 11,
      "outputs": [
        {
          "output_type": "stream",
          "name": "stdout",
          "text": [
            "Help on function min_dfa_brz in module jove.Def_NFA:\n",
            "\n",
            "min_dfa_brz(D)\n",
            "    Minimize a DFA as per Brzozowski's algorithm.\n",
            "\n"
          ]
        }
      ]
    },
    {
      "cell_type": "markdown",
      "metadata": {
        "id": "9j_MQoj5-9Z7"
      },
      "source": [
        "# Question 2b (2%): Minimize this DFA using Brzozowski's minimization, assigning it to mdfa01n01\n",
        "\n",
        "* Your original DFA might have been minimal - but since you don't often know that, minimize it anyhow\n",
        "* Assign the minimized result to mdfa01n01 for the sake of future problems\n",
        "* You may use "
      ]
    },
    {
      "cell_type": "code",
      "metadata": {
        "id": "Qyopn7L4-9Z8"
      },
      "source": [
        "# RUN THIS CODE CELL\n",
        "mdfa01n01 = min_dfa_brz(dfa01n01)"
      ],
      "execution_count": 12,
      "outputs": []
    },
    {
      "cell_type": "code",
      "metadata": {
        "id": "Hf78wyK9-9Z9",
        "outputId": "287a20fb-29f2-412b-e615-96b21e36707e",
        "colab": {
          "base_uri": "https://localhost:8080/",
          "height": 229
        }
      },
      "source": [
        "# RUN THIS CODE CELL\n",
        "dotObj_dfa(mdfa01n01, FuseEdges=True)"
      ],
      "execution_count": 13,
      "outputs": [
        {
          "output_type": "execute_result",
          "data": {
            "text/plain": [
              "<graphviz.dot.Digraph at 0x7f521a8fb150>"
            ],
            "image/svg+xml": "<?xml version=\"1.0\" encoding=\"UTF-8\" standalone=\"no\"?>\n<!DOCTYPE svg PUBLIC \"-//W3C//DTD SVG 1.1//EN\"\n \"http://www.w3.org/Graphics/SVG/1.1/DTD/svg11.dtd\">\n<!-- Generated by graphviz version 2.40.1 (20161225.0304)\n -->\n<!-- Title: %3 Pages: 1 -->\n<svg width=\"541pt\" height=\"156pt\"\n viewBox=\"0.00 0.00 540.98 155.80\" xmlns=\"http://www.w3.org/2000/svg\" xmlns:xlink=\"http://www.w3.org/1999/xlink\">\n<g id=\"graph0\" class=\"graph\" transform=\"scale(1 1) rotate(0) translate(4 151.7958)\">\n<title>%3</title>\n<polygon fill=\"#ffffff\" stroke=\"transparent\" points=\"-4,4 -4,-151.7958 536.9792,-151.7958 536.9792,4 -4,4\"/>\n<!-- EMPTY -->\n<g id=\"node1\" class=\"node\">\n<title>EMPTY</title>\n</g>\n<!-- St4 -->\n<g id=\"node2\" class=\"node\">\n<title>St4</title>\n<ellipse fill=\"none\" stroke=\"#000000\" cx=\"114.3979\" cy=\"-27.3979\" rx=\"23.2963\" ry=\"23.2963\"/>\n<text text-anchor=\"middle\" x=\"114.3979\" y=\"-23.6979\" font-family=\"Times,serif\" font-size=\"14.00\" fill=\"#000000\">St4</text>\n</g>\n<!-- EMPTY&#45;&gt;St4 -->\n<g id=\"edge1\" class=\"edge\">\n<title>EMPTY&#45;&gt;St4</title>\n<path fill=\"none\" stroke=\"#000000\" d=\"M54.1742,-27.3979C62.5103,-27.3979 71.7873,-27.3979 80.5137,-27.3979\"/>\n<polygon fill=\"#000000\" stroke=\"#000000\" points=\"80.7846,-30.898 90.7846,-27.3979 80.7845,-23.898 80.7846,-30.898\"/>\n</g>\n<!-- St5 -->\n<g id=\"node3\" class=\"node\">\n<title>St5</title>\n<ellipse fill=\"none\" stroke=\"#000000\" cx=\"209.1938\" cy=\"-27.3979\" rx=\"23.2963\" ry=\"23.2963\"/>\n<text text-anchor=\"middle\" x=\"209.1938\" y=\"-23.6979\" font-family=\"Times,serif\" font-size=\"14.00\" fill=\"#000000\">St5</text>\n</g>\n<!-- St4&#45;&gt;St5 -->\n<g id=\"edge2\" class=\"edge\">\n<title>St4&#45;&gt;St5</title>\n<path fill=\"none\" stroke=\"#000000\" d=\"M137.8306,-27.3979C149.2245,-27.3979 163.1257,-27.3979 175.6218,-27.3979\"/>\n<polygon fill=\"#000000\" stroke=\"#000000\" points=\"175.7021,-30.898 185.7021,-27.3979 175.7021,-23.898 175.7021,-30.898\"/>\n<text text-anchor=\"middle\" x=\"161.7958\" y=\"-31.1979\" font-family=\"Times,serif\" font-size=\"14.00\" fill=\"#000000\">0 </text>\n</g>\n<!-- St3 -->\n<g id=\"node4\" class=\"node\">\n<title>St3</title>\n<ellipse fill=\"none\" stroke=\"#000000\" cx=\"303.9896\" cy=\"-27.3979\" rx=\"23.2963\" ry=\"23.2963\"/>\n<text text-anchor=\"middle\" x=\"303.9896\" y=\"-23.6979\" font-family=\"Times,serif\" font-size=\"14.00\" fill=\"#000000\">St3</text>\n</g>\n<!-- St5&#45;&gt;St3 -->\n<g id=\"edge3\" class=\"edge\">\n<title>St5&#45;&gt;St3</title>\n<path fill=\"none\" stroke=\"#000000\" d=\"M232.6265,-27.3979C244.0203,-27.3979 257.9215,-27.3979 270.4176,-27.3979\"/>\n<polygon fill=\"#000000\" stroke=\"#000000\" points=\"270.498,-30.898 280.498,-27.3979 270.4979,-23.898 270.498,-30.898\"/>\n<text text-anchor=\"middle\" x=\"256.5917\" y=\"-31.1979\" font-family=\"Times,serif\" font-size=\"14.00\" fill=\"#000000\">1 </text>\n</g>\n<!-- St1 -->\n<g id=\"node5\" class=\"node\">\n<title>St1</title>\n<ellipse fill=\"none\" stroke=\"#000000\" cx=\"402.7855\" cy=\"-87.3979\" rx=\"23.3111\" ry=\"23.3111\"/>\n<ellipse fill=\"none\" stroke=\"#000000\" cx=\"402.7855\" cy=\"-87.3979\" rx=\"27.2962\" ry=\"27.2962\"/>\n<text text-anchor=\"middle\" x=\"402.7855\" y=\"-83.6979\" font-family=\"Times,serif\" font-size=\"14.00\" fill=\"#000000\">St1</text>\n</g>\n<!-- St3&#45;&gt;St1 -->\n<g id=\"edge4\" class=\"edge\">\n<title>St3&#45;&gt;St1</title>\n<path fill=\"none\" stroke=\"#000000\" d=\"M324.4602,-39.83C337.7837,-47.9215 355.4423,-58.6458 370.6196,-67.8632\"/>\n<polygon fill=\"#000000\" stroke=\"#000000\" points=\"368.8535,-70.8854 379.2175,-73.0848 372.4871,-64.9024 368.8535,-70.8854\"/>\n<text text-anchor=\"middle\" x=\"351.3875\" y=\"-62.1979\" font-family=\"Times,serif\" font-size=\"14.00\" fill=\"#000000\">1 </text>\n</g>\n<!-- St2 -->\n<g id=\"node6\" class=\"node\">\n<title>St2</title>\n<ellipse fill=\"none\" stroke=\"#000000\" cx=\"505.5813\" cy=\"-27.3979\" rx=\"23.3111\" ry=\"23.3111\"/>\n<ellipse fill=\"none\" stroke=\"#000000\" cx=\"505.5813\" cy=\"-27.3979\" rx=\"27.2962\" ry=\"27.2962\"/>\n<text text-anchor=\"middle\" x=\"505.5813\" y=\"-23.6979\" font-family=\"Times,serif\" font-size=\"14.00\" fill=\"#000000\">St2</text>\n</g>\n<!-- St3&#45;&gt;St2 -->\n<g id=\"edge5\" class=\"edge\">\n<title>St3&#45;&gt;St2</title>\n<path fill=\"none\" stroke=\"#000000\" d=\"M327.5093,-27.3979C362.0012,-27.3979 426.6646,-27.3979 467.8492,-27.3979\"/>\n<polygon fill=\"#000000\" stroke=\"#000000\" points=\"468.0353,-30.898 478.0353,-27.3979 468.0352,-23.898 468.0353,-30.898\"/>\n<text text-anchor=\"middle\" x=\"402.7855\" y=\"-31.1979\" font-family=\"Times,serif\" font-size=\"14.00\" fill=\"#000000\">0 </text>\n</g>\n<!-- St1&#45;&gt;St1 -->\n<g id=\"edge6\" class=\"edge\">\n<title>St1&#45;&gt;St1</title>\n<path fill=\"none\" stroke=\"#000000\" d=\"M393.4677,-113.523C392.9413,-124.0011 396.0472,-132.7958 402.7855,-132.7958 407.1022,-132.7958 409.9282,-129.1865 411.2634,-123.8374\"/>\n<polygon fill=\"#000000\" stroke=\"#000000\" points=\"414.7801,-123.7741 412.1032,-113.523 407.8032,-123.206 414.7801,-123.7741\"/>\n<text text-anchor=\"middle\" x=\"402.7855\" y=\"-136.5958\" font-family=\"Times,serif\" font-size=\"14.00\" fill=\"#000000\">1 </text>\n</g>\n<!-- St1&#45;&gt;St2 -->\n<g id=\"edge7\" class=\"edge\">\n<title>St1&#45;&gt;St2</title>\n<path fill=\"none\" stroke=\"#000000\" d=\"M426.6273,-73.4819C440.3799,-65.4548 457.8695,-55.2464 472.8905,-46.4789\"/>\n<polygon fill=\"#000000\" stroke=\"#000000\" points=\"474.9967,-49.3022 481.8688,-41.2385 471.468,-43.2567 474.9967,-49.3022\"/>\n<text text-anchor=\"middle\" x=\"454.1834\" y=\"-62.1979\" font-family=\"Times,serif\" font-size=\"14.00\" fill=\"#000000\">0 </text>\n</g>\n<!-- St2&#45;&gt;St3 -->\n<g id=\"edge8\" class=\"edge\">\n<title>St2&#45;&gt;St3</title>\n<path fill=\"none\" stroke=\"#000000\" d=\"M479.3653,-19.0965C465.0039,-14.9809 446.795,-10.4587 430.1834,-8.3979 406.015,-5.3996 399.5356,-5.2398 375.3875,-8.3979 362.2715,-10.1133 348.1366,-13.5298 335.9321,-16.9986\"/>\n<polygon fill=\"#000000\" stroke=\"#000000\" points=\"334.7892,-13.6869 326.199,-19.8885 336.7816,-20.3973 334.7892,-13.6869\"/>\n<text text-anchor=\"middle\" x=\"402.7855\" y=\"-12.1979\" font-family=\"Times,serif\" font-size=\"14.00\" fill=\"#000000\">1 </text>\n</g>\n<!-- St2&#45;&gt;St2 -->\n<g id=\"edge9\" class=\"edge\">\n<title>St2&#45;&gt;St2</title>\n<path fill=\"none\" stroke=\"#000000\" d=\"M496.2635,-53.523C495.7371,-64.0011 498.843,-72.7958 505.5813,-72.7958 509.898,-72.7958 512.724,-69.1865 514.0593,-63.8374\"/>\n<polygon fill=\"#000000\" stroke=\"#000000\" points=\"517.5759,-63.7741 514.8991,-53.523 510.599,-63.206 517.5759,-63.7741\"/>\n<text text-anchor=\"middle\" x=\"505.5813\" y=\"-76.5958\" font-family=\"Times,serif\" font-size=\"14.00\" fill=\"#000000\">0 </text>\n</g>\n</g>\n</svg>\n"
          },
          "metadata": {},
          "execution_count": 13
        }
      ]
    },
    {
      "cell_type": "markdown",
      "metadata": {
        "id": "f05ct70q-9Z9"
      },
      "source": [
        "# Question 2c (5%): Final check of your design"
      ]
    },
    {
      "cell_type": "code",
      "metadata": {
        "id": "Yy6R5SFG-9Z9",
        "outputId": "6b13ca08-d6d6-486f-858b-99ac8b566919",
        "colab": {
          "base_uri": "https://localhost:8080/"
        }
      },
      "source": [
        "# RUN THIS CODE CELL\n",
        "TestStrings = [nthnumeric(i, ['0','1']) for i in range(64)]\n",
        "Laccepted = list(filter(lambda x: accepts_dfa(mdfa01n01, x), TestStrings))\n",
        "Laccepted"
      ],
      "execution_count": 14,
      "outputs": [
        {
          "output_type": "execute_result",
          "data": {
            "text/plain": [
              "['010',\n",
              " '011',\n",
              " '0100',\n",
              " '0110',\n",
              " '0111',\n",
              " '01000',\n",
              " '01010',\n",
              " '01011',\n",
              " '01100',\n",
              " '01110',\n",
              " '01111']"
            ]
          },
          "metadata": {},
          "execution_count": 14
        }
      ]
    },
    {
      "cell_type": "code",
      "metadata": {
        "id": "gNanZ2Dl-9Z9",
        "outputId": "7685aa7f-8cd4-484e-f9e5-c5c2489173b5",
        "colab": {
          "base_uri": "https://localhost:8080/"
        }
      },
      "source": [
        "# RUN THIS CODE CELL\n",
        "len(Laccepted)"
      ],
      "execution_count": 8,
      "outputs": [
        {
          "output_type": "execute_result",
          "data": {
            "text/plain": [
              "11"
            ]
          },
          "metadata": {},
          "execution_count": 8
        }
      ]
    },
    {
      "cell_type": "markdown",
      "metadata": {
        "id": "_JYkT1ff-9Z-"
      },
      "source": [
        "# =================== QUESTION DIVIDING LINE ==================="
      ]
    },
    {
      "cell_type": "markdown",
      "metadata": {
        "id": "LLCza-Yz-9Z-"
      },
      "source": [
        "# (40%) Question 3: The following NFA nfa01n01 is given by someone as having a language that is \"interestingly related\" to the language of mdfa01n01. Here are the possibilities.\n",
        "  \n",
        "\n",
        "## P1: The language of the DFA contained in that of the NFA (D is contained in N)\n",
        "\n",
        "## P2: The language of the NFA contained in that of the DFA (N is contained in D)\n",
        "\n",
        "## Your task is to determine whether \n",
        "\n",
        "### P1 and P2 are true, OR\n",
        "\n",
        "### P1 is true, OR\n",
        "\n",
        "### P2 is true\n",
        "\n",
        "#### (We assure you these are the only outcomes possible)\n",
        "\n",
        "## You must use nfa2dfa to obtain dfa_nfa01n01  (read it as \"DFA of nfa01n01\") in the work below.\n",
        "\n",
        "### You must obtain the DFA D_minus_N which is the DFA that has all the strings in mdfa01n01 (D's language) but none in dfa_nfa01n01 (N's language). You may use DFA complementation and DFA intersection for this purpose. You can apply min_dfa whenever necessary. Then display  D_minus_N using dotObj_dfa. \n",
        "\n",
        "###  Similarly, obtain the DFA N_minus_D which is the DFA that has all the strings in dfa_nfa01n01 but none in mdfa01n01 and display it. \n",
        "\n",
        "\n",
        "### Then tell us whether P1 and P2 are true, or whether P1 alone is true, or P2 alone is true\n",
        "\n",
        "## OK let's get to work now"
      ]
    },
    {
      "cell_type": "markdown",
      "metadata": {
        "id": "Y7CmGJ-t-9Z-"
      },
      "source": [
        "# The given NFA -- DO NOT MODIFY THIS NFA !!!"
      ]
    },
    {
      "cell_type": "code",
      "metadata": {
        "id": "NWc1ndHd-9Z-"
      },
      "source": [
        "nfa01n01 = md2mc(\n",
        "'''NFA\n",
        "\n",
        "I    : 0   -> S0\n",
        "S0   : 1   -> S01\n",
        "\n",
        "S01  : ''  -> A\n",
        "A    : 0|1 -> A\n",
        "A    : 0   -> F0\n",
        "F0   : 0   -> F00\n",
        "\n",
        "S01  : ''  -> B\n",
        "B    : 1   -> B\n",
        "B    : 1   -> F1\n",
        "\n",
        "F1   : 0   -> F10\n",
        "F1   : 1   -> F11\n",
        "\n",
        "''')"
      ],
      "execution_count": 15,
      "outputs": []
    },
    {
      "cell_type": "code",
      "metadata": {
        "id": "_NshE9K0-9Z-",
        "outputId": "801ef295-0e9c-411d-ec34-ae9c60a42eb6",
        "colab": {
          "base_uri": "https://localhost:8080/",
          "height": 372
        }
      },
      "source": [
        "dotObj_nfa(nfa01n01, FuseEdges=True)"
      ],
      "execution_count": 16,
      "outputs": [
        {
          "output_type": "execute_result",
          "data": {
            "text/plain": [
              "<graphviz.dot.Digraph at 0x7f521a5f2e10>"
            ],
            "image/svg+xml": "<?xml version=\"1.0\" encoding=\"UTF-8\" standalone=\"no\"?>\n<!DOCTYPE svg PUBLIC \"-//W3C//DTD SVG 1.1//EN\"\n \"http://www.w3.org/Graphics/SVG/1.1/DTD/svg11.dtd\">\n<!-- Generated by graphviz version 2.40.1 (20161225.0304)\n -->\n<!-- Title: %3 Pages: 1 -->\n<svg width=\"611pt\" height=\"263pt\"\n viewBox=\"0.00 0.00 611.18 263.00\" xmlns=\"http://www.w3.org/2000/svg\" xmlns:xlink=\"http://www.w3.org/1999/xlink\">\n<g id=\"graph0\" class=\"graph\" transform=\"scale(1 1) rotate(0) translate(4 258.9977)\">\n<title>%3</title>\n<polygon fill=\"#ffffff\" stroke=\"transparent\" points=\"-4,4 -4,-258.9977 607.1834,-258.9977 607.1834,4 -4,4\"/>\n<!-- EMPTY -->\n<g id=\"node1\" class=\"node\">\n<title>EMPTY</title>\n</g>\n<!-- I -->\n<g id=\"node5\" class=\"node\">\n<title>I</title>\n<ellipse fill=\"none\" stroke=\"#000000\" cx=\"109\" cy=\"-144.9977\" rx=\"18\" ry=\"18\"/>\n<text text-anchor=\"middle\" x=\"109\" y=\"-141.2977\" font-family=\"Times,serif\" font-size=\"14.00\" fill=\"#000000\">I</text>\n</g>\n<!-- EMPTY&#45;&gt;I -->\n<g id=\"edge1\" class=\"edge\">\n<title>EMPTY&#45;&gt;I</title>\n<path fill=\"none\" stroke=\"#000000\" d=\"M54.3048,-144.9977C62.6909,-144.9977 71.9407,-144.9977 80.4103,-144.9977\"/>\n<polygon fill=\"#000000\" stroke=\"#000000\" points=\"80.5976,-148.4978 90.5976,-144.9977 80.5976,-141.4978 80.5976,-148.4978\"/>\n</g>\n<!-- S0 -->\n<g id=\"node2\" class=\"node\">\n<title>S0</title>\n<ellipse fill=\"none\" stroke=\"#000000\" cx=\"195.7982\" cy=\"-144.9977\" rx=\"20.5982\" ry=\"20.5982\"/>\n<text text-anchor=\"middle\" x=\"195.7982\" y=\"-141.2977\" font-family=\"Times,serif\" font-size=\"14.00\" fill=\"#000000\">S0</text>\n</g>\n<!-- S01 -->\n<g id=\"node6\" class=\"node\">\n<title>S01</title>\n<ellipse fill=\"none\" stroke=\"#000000\" cx=\"290.594\" cy=\"-144.9977\" rx=\"25.9954\" ry=\"25.9954\"/>\n<text text-anchor=\"middle\" x=\"290.594\" y=\"-141.2977\" font-family=\"Times,serif\" font-size=\"14.00\" fill=\"#000000\">S01</text>\n</g>\n<!-- S0&#45;&gt;S01 -->\n<g id=\"edge3\" class=\"edge\">\n<title>S0&#45;&gt;S01</title>\n<path fill=\"none\" stroke=\"#000000\" d=\"M216.8364,-144.9977C227.8309,-144.9977 241.5999,-144.9977 254.2549,-144.9977\"/>\n<polygon fill=\"#000000\" stroke=\"#000000\" points=\"254.5378,-148.4978 264.5378,-144.9977 254.5378,-141.4978 254.5378,-148.4978\"/>\n<text text-anchor=\"middle\" x=\"240.5963\" y=\"-148.7977\" font-family=\"Times,serif\" font-size=\"14.00\" fill=\"#000000\">1 </text>\n</g>\n<!-- A -->\n<g id=\"node3\" class=\"node\">\n<title>A</title>\n<ellipse fill=\"none\" stroke=\"#000000\" cx=\"379.5917\" cy=\"-188.9977\" rx=\"18\" ry=\"18\"/>\n<text text-anchor=\"middle\" x=\"379.5917\" y=\"-185.2977\" font-family=\"Times,serif\" font-size=\"14.00\" fill=\"#000000\">A</text>\n</g>\n<!-- A&#45;&gt;A -->\n<g id=\"edge6\" class=\"edge\">\n<title>A&#45;&gt;A</title>\n<path fill=\"none\" stroke=\"#000000\" d=\"M372.5604,-205.6618C370.9979,-215.6227 373.3417,-224.9977 379.5917,-224.9977 383.5956,-224.9977 385.9964,-221.1502 386.794,-215.7659\"/>\n<polygon fill=\"#000000\" stroke=\"#000000\" points=\"390.2918,-215.601 386.6229,-205.6618 383.2928,-215.7196 390.2918,-215.601\"/>\n<text text-anchor=\"middle\" x=\"379.5917\" y=\"-243.7977\" font-family=\"Times,serif\" font-size=\"14.00\" fill=\"#000000\">1 </text>\n<text text-anchor=\"middle\" x=\"379.5917\" y=\"-228.7977\" font-family=\"Times,serif\" font-size=\"14.00\" fill=\"#000000\"> 0 </text>\n</g>\n<!-- F0 -->\n<g id=\"node11\" class=\"node\">\n<title>F0</title>\n<ellipse fill=\"none\" stroke=\"#000000\" cx=\"470.3899\" cy=\"-188.9977\" rx=\"20.6302\" ry=\"20.6302\"/>\n<ellipse fill=\"none\" stroke=\"#000000\" cx=\"470.3899\" cy=\"-188.9977\" rx=\"24.5979\" ry=\"24.5979\"/>\n<text text-anchor=\"middle\" x=\"470.3899\" y=\"-185.2977\" font-family=\"Times,serif\" font-size=\"14.00\" fill=\"#000000\">F0</text>\n</g>\n<!-- A&#45;&gt;F0 -->\n<g id=\"edge7\" class=\"edge\">\n<title>A&#45;&gt;F0</title>\n<path fill=\"none\" stroke=\"#000000\" d=\"M397.9661,-188.9977C408.6538,-188.9977 422.4833,-188.9977 435.189,-188.9977\"/>\n<polygon fill=\"#000000\" stroke=\"#000000\" points=\"435.5038,-192.4978 445.5038,-188.9977 435.5038,-185.4978 435.5038,-192.4978\"/>\n<text text-anchor=\"middle\" x=\"421.5917\" y=\"-192.7977\" font-family=\"Times,serif\" font-size=\"14.00\" fill=\"#000000\">0 </text>\n</g>\n<!-- B -->\n<g id=\"node4\" class=\"node\">\n<title>B</title>\n<ellipse fill=\"none\" stroke=\"#000000\" cx=\"379.5917\" cy=\"-101.9977\" rx=\"18\" ry=\"18\"/>\n<text text-anchor=\"middle\" x=\"379.5917\" y=\"-98.2977\" font-family=\"Times,serif\" font-size=\"14.00\" fill=\"#000000\">B</text>\n</g>\n<!-- B&#45;&gt;B -->\n<g id=\"edge10\" class=\"edge\">\n<title>B&#45;&gt;B</title>\n<path fill=\"none\" stroke=\"#000000\" d=\"M372.5604,-118.6618C370.9979,-128.6227 373.3417,-137.9977 379.5917,-137.9977 383.5956,-137.9977 385.9964,-134.1502 386.794,-128.7659\"/>\n<polygon fill=\"#000000\" stroke=\"#000000\" points=\"390.2918,-128.601 386.6229,-118.6618 383.2928,-128.7196 390.2918,-128.601\"/>\n<text text-anchor=\"middle\" x=\"379.5917\" y=\"-141.7977\" font-family=\"Times,serif\" font-size=\"14.00\" fill=\"#000000\">1 </text>\n</g>\n<!-- F1 -->\n<g id=\"node8\" class=\"node\">\n<title>F1</title>\n<ellipse fill=\"none\" stroke=\"#000000\" cx=\"470.3899\" cy=\"-101.9977\" rx=\"20.6302\" ry=\"20.6302\"/>\n<ellipse fill=\"none\" stroke=\"#000000\" cx=\"470.3899\" cy=\"-101.9977\" rx=\"24.5979\" ry=\"24.5979\"/>\n<text text-anchor=\"middle\" x=\"470.3899\" y=\"-98.2977\" font-family=\"Times,serif\" font-size=\"14.00\" fill=\"#000000\">F1</text>\n</g>\n<!-- B&#45;&gt;F1 -->\n<g id=\"edge9\" class=\"edge\">\n<title>B&#45;&gt;F1</title>\n<path fill=\"none\" stroke=\"#000000\" d=\"M397.9661,-101.9977C408.6538,-101.9977 422.4833,-101.9977 435.189,-101.9977\"/>\n<polygon fill=\"#000000\" stroke=\"#000000\" points=\"435.5038,-105.4978 445.5038,-101.9977 435.5038,-98.4978 435.5038,-105.4978\"/>\n<text text-anchor=\"middle\" x=\"421.5917\" y=\"-105.7977\" font-family=\"Times,serif\" font-size=\"14.00\" fill=\"#000000\">1 </text>\n</g>\n<!-- I&#45;&gt;S0 -->\n<g id=\"edge2\" class=\"edge\">\n<title>I&#45;&gt;S0</title>\n<path fill=\"none\" stroke=\"#000000\" d=\"M127.4077,-144.9977C138.2934,-144.9977 152.3613,-144.9977 164.9052,-144.9977\"/>\n<polygon fill=\"#000000\" stroke=\"#000000\" points=\"164.9803,-148.4978 174.9802,-144.9977 164.9802,-141.4978 164.9803,-148.4978\"/>\n<text text-anchor=\"middle\" x=\"151\" y=\"-148.7977\" font-family=\"Times,serif\" font-size=\"14.00\" fill=\"#000000\">0 </text>\n</g>\n<!-- S01&#45;&gt;A -->\n<g id=\"edge4\" class=\"edge\">\n<title>S01&#45;&gt;A</title>\n<path fill=\"none\" stroke=\"#000000\" d=\"M313.9771,-156.5582C326.3711,-162.6857 341.6102,-170.2198 354.2816,-176.4845\"/>\n<polygon fill=\"#000000\" stroke=\"#000000\" points=\"352.8658,-179.6889 363.3813,-180.9834 355.9682,-173.4139 352.8658,-179.6889\"/>\n<text text-anchor=\"middle\" x=\"339.0917\" y=\"-173.7977\" font-family=\"Times,serif\" font-size=\"14.00\" fill=\"#000000\">&#39;&#39; </text>\n</g>\n<!-- S01&#45;&gt;B -->\n<g id=\"edge5\" class=\"edge\">\n<title>S01&#45;&gt;B</title>\n<path fill=\"none\" stroke=\"#000000\" d=\"M314.4438,-133.4745C326.6321,-127.5856 341.4761,-120.4136 353.9147,-114.4038\"/>\n<polygon fill=\"#000000\" stroke=\"#000000\" points=\"355.7964,-117.3818 363.2779,-109.8799 352.7511,-111.0789 355.7964,-117.3818\"/>\n<text text-anchor=\"middle\" x=\"339.0917\" y=\"-126.7977\" font-family=\"Times,serif\" font-size=\"14.00\" fill=\"#000000\">&#39;&#39; </text>\n</g>\n<!-- F00 -->\n<g id=\"node7\" class=\"node\">\n<title>F00</title>\n<ellipse fill=\"none\" stroke=\"#000000\" cx=\"573.1857\" cy=\"-188.9977\" rx=\"25.9957\" ry=\"25.9957\"/>\n<ellipse fill=\"none\" stroke=\"#000000\" cx=\"573.1857\" cy=\"-188.9977\" rx=\"29.9954\" ry=\"29.9954\"/>\n<text text-anchor=\"middle\" x=\"573.1857\" y=\"-185.2977\" font-family=\"Times,serif\" font-size=\"14.00\" fill=\"#000000\">F00</text>\n</g>\n<!-- F11 -->\n<g id=\"node9\" class=\"node\">\n<title>F11</title>\n<ellipse fill=\"none\" stroke=\"#000000\" cx=\"573.1857\" cy=\"-106.9977\" rx=\"25.2169\" ry=\"25.2169\"/>\n<ellipse fill=\"none\" stroke=\"#000000\" cx=\"573.1857\" cy=\"-106.9977\" rx=\"29.1963\" ry=\"29.1963\"/>\n<text text-anchor=\"middle\" x=\"573.1857\" y=\"-103.2977\" font-family=\"Times,serif\" font-size=\"14.00\" fill=\"#000000\">F11</text>\n</g>\n<!-- F1&#45;&gt;F11 -->\n<g id=\"edge12\" class=\"edge\">\n<title>F1&#45;&gt;F11</title>\n<path fill=\"none\" stroke=\"#000000\" d=\"M495.2739,-103.2081C506.8077,-103.7691 520.7946,-104.4494 533.7167,-105.0779\"/>\n<polygon fill=\"#000000\" stroke=\"#000000\" points=\"533.6262,-108.5776 543.7844,-105.5676 533.9663,-101.5858 533.6262,-108.5776\"/>\n<text text-anchor=\"middle\" x=\"519.188\" y=\"-107.7977\" font-family=\"Times,serif\" font-size=\"14.00\" fill=\"#000000\">1 </text>\n</g>\n<!-- F10 -->\n<g id=\"node10\" class=\"node\">\n<title>F10</title>\n<ellipse fill=\"none\" stroke=\"#000000\" cx=\"573.1857\" cy=\"-29.9977\" rx=\"25.9957\" ry=\"25.9957\"/>\n<ellipse fill=\"none\" stroke=\"#000000\" cx=\"573.1857\" cy=\"-29.9977\" rx=\"29.9954\" ry=\"29.9954\"/>\n<text text-anchor=\"middle\" x=\"573.1857\" y=\"-26.2977\" font-family=\"Times,serif\" font-size=\"14.00\" fill=\"#000000\">F10</text>\n</g>\n<!-- F1&#45;&gt;F10 -->\n<g id=\"edge11\" class=\"edge\">\n<title>F1&#45;&gt;F10</title>\n<path fill=\"none\" stroke=\"#000000\" d=\"M491.1921,-87.4274C505.1511,-77.6503 523.8438,-64.5576 539.8559,-53.3425\"/>\n<polygon fill=\"#000000\" stroke=\"#000000\" points=\"542.2458,-55.9417 548.4286,-47.338 538.23,-50.2082 542.2458,-55.9417\"/>\n<text text-anchor=\"middle\" x=\"519.188\" y=\"-73.7977\" font-family=\"Times,serif\" font-size=\"14.00\" fill=\"#000000\">0 </text>\n</g>\n<!-- F0&#45;&gt;F00 -->\n<g id=\"edge8\" class=\"edge\">\n<title>F0&#45;&gt;F00</title>\n<path fill=\"none\" stroke=\"#000000\" d=\"M495.2739,-188.9977C506.5078,-188.9977 520.0689,-188.9977 532.7066,-188.9977\"/>\n<polygon fill=\"#000000\" stroke=\"#000000\" points=\"533.0338,-192.4978 543.0338,-188.9977 533.0338,-185.4978 533.0338,-192.4978\"/>\n<text text-anchor=\"middle\" x=\"519.188\" y=\"-192.7977\" font-family=\"Times,serif\" font-size=\"14.00\" fill=\"#000000\">0 </text>\n</g>\n</g>\n</svg>\n"
          },
          "metadata": {},
          "execution_count": 16
        }
      ]
    },
    {
      "cell_type": "markdown",
      "metadata": {
        "id": "PFIPdgi7-9Z_"
      },
      "source": [
        "## Do the nfa2dfa conversion and obtain dfa_nfa01n01"
      ]
    },
    {
      "cell_type": "code",
      "metadata": {
        "id": "DiX5qY8I-9Z_"
      },
      "source": [
        "dfa_nfa01n01 = min_dfa(nfa2dfa(nfa01n01))"
      ],
      "execution_count": 17,
      "outputs": []
    },
    {
      "cell_type": "code",
      "metadata": {
        "id": "zSmeYUw2-9Z_",
        "outputId": "c864cac7-f1c1-4c56-aa0d-60417b07f85e",
        "colab": {
          "base_uri": "https://localhost:8080/",
          "height": 208
        }
      },
      "source": [
        "dotObj_dfa(dfa_nfa01n01, FuseEdges=True)"
      ],
      "execution_count": 18,
      "outputs": [
        {
          "output_type": "execute_result",
          "data": {
            "text/plain": [
              "<graphviz.dot.Digraph at 0x7f521a9fbb10>"
            ],
            "image/svg+xml": "<?xml version=\"1.0\" encoding=\"UTF-8\" standalone=\"no\"?>\n<!DOCTYPE svg PUBLIC \"-//W3C//DTD SVG 1.1//EN\"\n \"http://www.w3.org/Graphics/SVG/1.1/DTD/svg11.dtd\">\n<!-- Generated by graphviz version 2.40.1 (20161225.0304)\n -->\n<!-- Title: %3 Pages: 1 -->\n<svg width=\"636pt\" height=\"140pt\"\n viewBox=\"0.00 0.00 635.78 139.80\" xmlns=\"http://www.w3.org/2000/svg\" xmlns:xlink=\"http://www.w3.org/1999/xlink\">\n<g id=\"graph0\" class=\"graph\" transform=\"scale(1 1) rotate(0) translate(4 135.7958)\">\n<title>%3</title>\n<polygon fill=\"#ffffff\" stroke=\"transparent\" points=\"-4,4 -4,-135.7958 631.7751,-135.7958 631.7751,4 -4,4\"/>\n<!-- EMPTY -->\n<g id=\"node1\" class=\"node\">\n<title>EMPTY</title>\n</g>\n<!-- St8 -->\n<g id=\"node5\" class=\"node\">\n<title>St8</title>\n<ellipse fill=\"none\" stroke=\"#000000\" cx=\"114.3979\" cy=\"-27.3979\" rx=\"23.2963\" ry=\"23.2963\"/>\n<text text-anchor=\"middle\" x=\"114.3979\" y=\"-23.6979\" font-family=\"Times,serif\" font-size=\"14.00\" fill=\"#000000\">St8</text>\n</g>\n<!-- EMPTY&#45;&gt;St8 -->\n<g id=\"edge1\" class=\"edge\">\n<title>EMPTY&#45;&gt;St8</title>\n<path fill=\"none\" stroke=\"#000000\" d=\"M54.1742,-27.3979C62.5103,-27.3979 71.7873,-27.3979 80.5137,-27.3979\"/>\n<polygon fill=\"#000000\" stroke=\"#000000\" points=\"80.7846,-30.898 90.7846,-27.3979 80.7845,-23.898 80.7846,-30.898\"/>\n</g>\n<!-- St3 -->\n<g id=\"node2\" class=\"node\">\n<title>St3</title>\n<ellipse fill=\"none\" stroke=\"#000000\" cx=\"303.9896\" cy=\"-27.3979\" rx=\"23.2963\" ry=\"23.2963\"/>\n<text text-anchor=\"middle\" x=\"303.9896\" y=\"-23.6979\" font-family=\"Times,serif\" font-size=\"14.00\" fill=\"#000000\">St3</text>\n</g>\n<!-- St1 -->\n<g id=\"node6\" class=\"node\">\n<title>St1</title>\n<ellipse fill=\"none\" stroke=\"#000000\" cx=\"402.7855\" cy=\"-71.3979\" rx=\"23.3111\" ry=\"23.3111\"/>\n<ellipse fill=\"none\" stroke=\"#000000\" cx=\"402.7855\" cy=\"-71.3979\" rx=\"27.2962\" ry=\"27.2962\"/>\n<text text-anchor=\"middle\" x=\"402.7855\" y=\"-67.6979\" font-family=\"Times,serif\" font-size=\"14.00\" fill=\"#000000\">St1</text>\n</g>\n<!-- St3&#45;&gt;St1 -->\n<g id=\"edge4\" class=\"edge\">\n<title>St3&#45;&gt;St1</title>\n<path fill=\"none\" stroke=\"#000000\" d=\"M325.4268,-36.9453C337.8767,-42.49 353.8596,-49.6082 368.0624,-55.9336\"/>\n<polygon fill=\"#000000\" stroke=\"#000000\" points=\"366.9865,-59.2858 377.5455,-60.157 369.8344,-52.8913 366.9865,-59.2858\"/>\n<text text-anchor=\"middle\" x=\"351.3875\" y=\"-54.1979\" font-family=\"Times,serif\" font-size=\"14.00\" fill=\"#000000\">1 </text>\n</g>\n<!-- St4 -->\n<g id=\"node7\" class=\"node\">\n<title>St4</title>\n<ellipse fill=\"none\" stroke=\"#000000\" cx=\"505.5813\" cy=\"-27.3979\" rx=\"23.3111\" ry=\"23.3111\"/>\n<ellipse fill=\"none\" stroke=\"#000000\" cx=\"505.5813\" cy=\"-27.3979\" rx=\"27.2962\" ry=\"27.2962\"/>\n<text text-anchor=\"middle\" x=\"505.5813\" y=\"-23.6979\" font-family=\"Times,serif\" font-size=\"14.00\" fill=\"#000000\">St4</text>\n</g>\n<!-- St3&#45;&gt;St4 -->\n<g id=\"edge5\" class=\"edge\">\n<title>St3&#45;&gt;St4</title>\n<path fill=\"none\" stroke=\"#000000\" d=\"M327.4218,-24.5184C341.3358,-22.954 359.3399,-21.1827 375.3875,-20.3979 399.7122,-19.2084 405.8558,-19.271 430.1834,-20.3979 442.4732,-20.9672 455.8537,-22.0557 467.8851,-23.2078\"/>\n<polygon fill=\"#000000\" stroke=\"#000000\" points=\"467.7506,-26.7118 478.0495,-24.2252 468.4478,-19.7466 467.7506,-26.7118\"/>\n<text text-anchor=\"middle\" x=\"402.7855\" y=\"-24.1979\" font-family=\"Times,serif\" font-size=\"14.00\" fill=\"#000000\">0 </text>\n</g>\n<!-- St9 -->\n<g id=\"node3\" class=\"node\">\n<title>St9</title>\n<ellipse fill=\"none\" stroke=\"#000000\" cx=\"209.1938\" cy=\"-27.3979\" rx=\"23.2963\" ry=\"23.2963\"/>\n<text text-anchor=\"middle\" x=\"209.1938\" y=\"-23.6979\" font-family=\"Times,serif\" font-size=\"14.00\" fill=\"#000000\">St9</text>\n</g>\n<!-- St9&#45;&gt;St3 -->\n<g id=\"edge3\" class=\"edge\">\n<title>St9&#45;&gt;St3</title>\n<path fill=\"none\" stroke=\"#000000\" d=\"M232.6265,-27.3979C244.0203,-27.3979 257.9215,-27.3979 270.4176,-27.3979\"/>\n<polygon fill=\"#000000\" stroke=\"#000000\" points=\"270.498,-30.898 280.498,-27.3979 270.4979,-23.898 270.498,-30.898\"/>\n<text text-anchor=\"middle\" x=\"256.5917\" y=\"-31.1979\" font-family=\"Times,serif\" font-size=\"14.00\" fill=\"#000000\">1 </text>\n</g>\n<!-- St7 -->\n<g id=\"node4\" class=\"node\">\n<title>St7</title>\n<ellipse fill=\"none\" stroke=\"#000000\" cx=\"604.3772\" cy=\"-27.3979\" rx=\"23.2963\" ry=\"23.2963\"/>\n<text text-anchor=\"middle\" x=\"604.3772\" y=\"-23.6979\" font-family=\"Times,serif\" font-size=\"14.00\" fill=\"#000000\">St7</text>\n</g>\n<!-- St7&#45;&gt;St7 -->\n<g id=\"edge10\" class=\"edge\">\n<title>St7&#45;&gt;St7</title>\n<path fill=\"none\" stroke=\"#000000\" d=\"M595.9227,-49.5452C595.0004,-59.8192 597.8186,-68.7958 604.3772,-68.7958 608.5788,-68.7958 611.2453,-65.1118 612.3767,-59.7628\"/>\n<polygon fill=\"#000000\" stroke=\"#000000\" points=\"615.8833,-59.691 612.8316,-49.5452 608.8902,-59.3796 615.8833,-59.691\"/>\n<text text-anchor=\"middle\" x=\"604.3772\" y=\"-72.5958\" font-family=\"Times,serif\" font-size=\"14.00\" fill=\"#000000\">1 </text>\n</g>\n<!-- St7&#45;&gt;St4 -->\n<g id=\"edge11\" class=\"edge\">\n<title>St7&#45;&gt;St4</title>\n<path fill=\"none\" stroke=\"#000000\" d=\"M583.927,-15.908C577.4324,-12.8418 570.0868,-9.9511 562.9792,-8.3979 555.0479,-6.6647 546.6698,-7.7131 538.8389,-10.0205\"/>\n<polygon fill=\"#000000\" stroke=\"#000000\" points=\"537.484,-6.7891 529.2872,-13.502 539.8812,-13.3658 537.484,-6.7891\"/>\n<text text-anchor=\"middle\" x=\"556.9792\" y=\"-12.1979\" font-family=\"Times,serif\" font-size=\"14.00\" fill=\"#000000\">0 </text>\n</g>\n<!-- St8&#45;&gt;St9 -->\n<g id=\"edge2\" class=\"edge\">\n<title>St8&#45;&gt;St9</title>\n<path fill=\"none\" stroke=\"#000000\" d=\"M137.8306,-27.3979C149.2245,-27.3979 163.1257,-27.3979 175.6218,-27.3979\"/>\n<polygon fill=\"#000000\" stroke=\"#000000\" points=\"175.7021,-30.898 185.7021,-27.3979 175.7021,-23.898 175.7021,-30.898\"/>\n<text text-anchor=\"middle\" x=\"161.7958\" y=\"-31.1979\" font-family=\"Times,serif\" font-size=\"14.00\" fill=\"#000000\">0 </text>\n</g>\n<!-- St1&#45;&gt;St1 -->\n<g id=\"edge6\" class=\"edge\">\n<title>St1&#45;&gt;St1</title>\n<path fill=\"none\" stroke=\"#000000\" d=\"M393.4677,-97.523C392.9413,-108.0011 396.0472,-116.7958 402.7855,-116.7958 407.1022,-116.7958 409.9282,-113.1865 411.2634,-107.8374\"/>\n<polygon fill=\"#000000\" stroke=\"#000000\" points=\"414.7801,-107.7741 412.1032,-97.523 407.8032,-107.206 414.7801,-107.7741\"/>\n<text text-anchor=\"middle\" x=\"402.7855\" y=\"-120.5958\" font-family=\"Times,serif\" font-size=\"14.00\" fill=\"#000000\">1 </text>\n</g>\n<!-- St1&#45;&gt;St4 -->\n<g id=\"edge7\" class=\"edge\">\n<title>St1&#45;&gt;St4</title>\n<path fill=\"none\" stroke=\"#000000\" d=\"M428.1957,-60.5215C441.0453,-55.0214 456.8357,-48.2626 470.7946,-42.2878\"/>\n<polygon fill=\"#000000\" stroke=\"#000000\" points=\"472.2912,-45.4544 480.1072,-38.3017 469.5366,-39.0191 472.2912,-45.4544\"/>\n<text text-anchor=\"middle\" x=\"454.1834\" y=\"-54.1979\" font-family=\"Times,serif\" font-size=\"14.00\" fill=\"#000000\">0 </text>\n</g>\n<!-- St4&#45;&gt;St7 -->\n<g id=\"edge8\" class=\"edge\">\n<title>St4&#45;&gt;St7</title>\n<path fill=\"none\" stroke=\"#000000\" d=\"M533.1015,-27.3979C544.6713,-27.3979 558.2478,-27.3979 570.4301,-27.3979\"/>\n<polygon fill=\"#000000\" stroke=\"#000000\" points=\"570.6915,-30.898 580.6915,-27.3979 570.6915,-23.898 570.6915,-30.898\"/>\n<text text-anchor=\"middle\" x=\"556.9792\" y=\"-31.1979\" font-family=\"Times,serif\" font-size=\"14.00\" fill=\"#000000\">1 </text>\n</g>\n<!-- St4&#45;&gt;St4 -->\n<g id=\"edge9\" class=\"edge\">\n<title>St4&#45;&gt;St4</title>\n<path fill=\"none\" stroke=\"#000000\" d=\"M496.2635,-53.523C495.7371,-64.0011 498.843,-72.7958 505.5813,-72.7958 509.898,-72.7958 512.724,-69.1865 514.0593,-63.8374\"/>\n<polygon fill=\"#000000\" stroke=\"#000000\" points=\"517.5759,-63.7741 514.8991,-53.523 510.599,-63.206 517.5759,-63.7741\"/>\n<text text-anchor=\"middle\" x=\"505.5813\" y=\"-76.5958\" font-family=\"Times,serif\" font-size=\"14.00\" fill=\"#000000\">0 </text>\n</g>\n</g>\n</svg>\n"
          },
          "metadata": {},
          "execution_count": 18
        }
      ]
    },
    {
      "cell_type": "markdown",
      "metadata": {
        "id": "towWZ0c7-9Z_"
      },
      "source": [
        "## Minimize to obtain mdfa01n01"
      ]
    },
    {
      "cell_type": "code",
      "metadata": {
        "id": "TQIQJ-Uz-9Z_",
        "outputId": "0131332e-ba56-4019-b1e7-42052c04f741",
        "colab": {
          "base_uri": "https://localhost:8080/",
          "height": 229
        }
      },
      "source": [
        "dotObj_dfa(mdfa01n01, FuseEdges=True)"
      ],
      "execution_count": 20,
      "outputs": [
        {
          "output_type": "execute_result",
          "data": {
            "text/plain": [
              "<graphviz.dot.Digraph at 0x7f521a9f9ed0>"
            ],
            "image/svg+xml": "<?xml version=\"1.0\" encoding=\"UTF-8\" standalone=\"no\"?>\n<!DOCTYPE svg PUBLIC \"-//W3C//DTD SVG 1.1//EN\"\n \"http://www.w3.org/Graphics/SVG/1.1/DTD/svg11.dtd\">\n<!-- Generated by graphviz version 2.40.1 (20161225.0304)\n -->\n<!-- Title: %3 Pages: 1 -->\n<svg width=\"541pt\" height=\"156pt\"\n viewBox=\"0.00 0.00 540.98 155.80\" xmlns=\"http://www.w3.org/2000/svg\" xmlns:xlink=\"http://www.w3.org/1999/xlink\">\n<g id=\"graph0\" class=\"graph\" transform=\"scale(1 1) rotate(0) translate(4 151.7958)\">\n<title>%3</title>\n<polygon fill=\"#ffffff\" stroke=\"transparent\" points=\"-4,4 -4,-151.7958 536.9792,-151.7958 536.9792,4 -4,4\"/>\n<!-- EMPTY -->\n<g id=\"node1\" class=\"node\">\n<title>EMPTY</title>\n</g>\n<!-- St4 -->\n<g id=\"node2\" class=\"node\">\n<title>St4</title>\n<ellipse fill=\"none\" stroke=\"#000000\" cx=\"114.3979\" cy=\"-27.3979\" rx=\"23.2963\" ry=\"23.2963\"/>\n<text text-anchor=\"middle\" x=\"114.3979\" y=\"-23.6979\" font-family=\"Times,serif\" font-size=\"14.00\" fill=\"#000000\">St4</text>\n</g>\n<!-- EMPTY&#45;&gt;St4 -->\n<g id=\"edge1\" class=\"edge\">\n<title>EMPTY&#45;&gt;St4</title>\n<path fill=\"none\" stroke=\"#000000\" d=\"M54.1742,-27.3979C62.5103,-27.3979 71.7873,-27.3979 80.5137,-27.3979\"/>\n<polygon fill=\"#000000\" stroke=\"#000000\" points=\"80.7846,-30.898 90.7846,-27.3979 80.7845,-23.898 80.7846,-30.898\"/>\n</g>\n<!-- St5 -->\n<g id=\"node3\" class=\"node\">\n<title>St5</title>\n<ellipse fill=\"none\" stroke=\"#000000\" cx=\"209.1938\" cy=\"-27.3979\" rx=\"23.2963\" ry=\"23.2963\"/>\n<text text-anchor=\"middle\" x=\"209.1938\" y=\"-23.6979\" font-family=\"Times,serif\" font-size=\"14.00\" fill=\"#000000\">St5</text>\n</g>\n<!-- St4&#45;&gt;St5 -->\n<g id=\"edge2\" class=\"edge\">\n<title>St4&#45;&gt;St5</title>\n<path fill=\"none\" stroke=\"#000000\" d=\"M137.8306,-27.3979C149.2245,-27.3979 163.1257,-27.3979 175.6218,-27.3979\"/>\n<polygon fill=\"#000000\" stroke=\"#000000\" points=\"175.7021,-30.898 185.7021,-27.3979 175.7021,-23.898 175.7021,-30.898\"/>\n<text text-anchor=\"middle\" x=\"161.7958\" y=\"-31.1979\" font-family=\"Times,serif\" font-size=\"14.00\" fill=\"#000000\">0 </text>\n</g>\n<!-- St3 -->\n<g id=\"node4\" class=\"node\">\n<title>St3</title>\n<ellipse fill=\"none\" stroke=\"#000000\" cx=\"303.9896\" cy=\"-27.3979\" rx=\"23.2963\" ry=\"23.2963\"/>\n<text text-anchor=\"middle\" x=\"303.9896\" y=\"-23.6979\" font-family=\"Times,serif\" font-size=\"14.00\" fill=\"#000000\">St3</text>\n</g>\n<!-- St5&#45;&gt;St3 -->\n<g id=\"edge3\" class=\"edge\">\n<title>St5&#45;&gt;St3</title>\n<path fill=\"none\" stroke=\"#000000\" d=\"M232.6265,-27.3979C244.0203,-27.3979 257.9215,-27.3979 270.4176,-27.3979\"/>\n<polygon fill=\"#000000\" stroke=\"#000000\" points=\"270.498,-30.898 280.498,-27.3979 270.4979,-23.898 270.498,-30.898\"/>\n<text text-anchor=\"middle\" x=\"256.5917\" y=\"-31.1979\" font-family=\"Times,serif\" font-size=\"14.00\" fill=\"#000000\">1 </text>\n</g>\n<!-- St1 -->\n<g id=\"node5\" class=\"node\">\n<title>St1</title>\n<ellipse fill=\"none\" stroke=\"#000000\" cx=\"402.7855\" cy=\"-87.3979\" rx=\"23.3111\" ry=\"23.3111\"/>\n<ellipse fill=\"none\" stroke=\"#000000\" cx=\"402.7855\" cy=\"-87.3979\" rx=\"27.2962\" ry=\"27.2962\"/>\n<text text-anchor=\"middle\" x=\"402.7855\" y=\"-83.6979\" font-family=\"Times,serif\" font-size=\"14.00\" fill=\"#000000\">St1</text>\n</g>\n<!-- St3&#45;&gt;St1 -->\n<g id=\"edge4\" class=\"edge\">\n<title>St3&#45;&gt;St1</title>\n<path fill=\"none\" stroke=\"#000000\" d=\"M324.4602,-39.83C337.7837,-47.9215 355.4423,-58.6458 370.6196,-67.8632\"/>\n<polygon fill=\"#000000\" stroke=\"#000000\" points=\"368.8535,-70.8854 379.2175,-73.0848 372.4871,-64.9024 368.8535,-70.8854\"/>\n<text text-anchor=\"middle\" x=\"351.3875\" y=\"-62.1979\" font-family=\"Times,serif\" font-size=\"14.00\" fill=\"#000000\">1 </text>\n</g>\n<!-- St2 -->\n<g id=\"node6\" class=\"node\">\n<title>St2</title>\n<ellipse fill=\"none\" stroke=\"#000000\" cx=\"505.5813\" cy=\"-27.3979\" rx=\"23.3111\" ry=\"23.3111\"/>\n<ellipse fill=\"none\" stroke=\"#000000\" cx=\"505.5813\" cy=\"-27.3979\" rx=\"27.2962\" ry=\"27.2962\"/>\n<text text-anchor=\"middle\" x=\"505.5813\" y=\"-23.6979\" font-family=\"Times,serif\" font-size=\"14.00\" fill=\"#000000\">St2</text>\n</g>\n<!-- St3&#45;&gt;St2 -->\n<g id=\"edge5\" class=\"edge\">\n<title>St3&#45;&gt;St2</title>\n<path fill=\"none\" stroke=\"#000000\" d=\"M327.5093,-27.3979C362.0012,-27.3979 426.6646,-27.3979 467.8492,-27.3979\"/>\n<polygon fill=\"#000000\" stroke=\"#000000\" points=\"468.0353,-30.898 478.0353,-27.3979 468.0352,-23.898 468.0353,-30.898\"/>\n<text text-anchor=\"middle\" x=\"402.7855\" y=\"-31.1979\" font-family=\"Times,serif\" font-size=\"14.00\" fill=\"#000000\">0 </text>\n</g>\n<!-- St1&#45;&gt;St1 -->\n<g id=\"edge6\" class=\"edge\">\n<title>St1&#45;&gt;St1</title>\n<path fill=\"none\" stroke=\"#000000\" d=\"M393.4677,-113.523C392.9413,-124.0011 396.0472,-132.7958 402.7855,-132.7958 407.1022,-132.7958 409.9282,-129.1865 411.2634,-123.8374\"/>\n<polygon fill=\"#000000\" stroke=\"#000000\" points=\"414.7801,-123.7741 412.1032,-113.523 407.8032,-123.206 414.7801,-123.7741\"/>\n<text text-anchor=\"middle\" x=\"402.7855\" y=\"-136.5958\" font-family=\"Times,serif\" font-size=\"14.00\" fill=\"#000000\">1 </text>\n</g>\n<!-- St1&#45;&gt;St2 -->\n<g id=\"edge7\" class=\"edge\">\n<title>St1&#45;&gt;St2</title>\n<path fill=\"none\" stroke=\"#000000\" d=\"M426.6273,-73.4819C440.3799,-65.4548 457.8695,-55.2464 472.8905,-46.4789\"/>\n<polygon fill=\"#000000\" stroke=\"#000000\" points=\"474.9967,-49.3022 481.8688,-41.2385 471.468,-43.2567 474.9967,-49.3022\"/>\n<text text-anchor=\"middle\" x=\"454.1834\" y=\"-62.1979\" font-family=\"Times,serif\" font-size=\"14.00\" fill=\"#000000\">0 </text>\n</g>\n<!-- St2&#45;&gt;St3 -->\n<g id=\"edge8\" class=\"edge\">\n<title>St2&#45;&gt;St3</title>\n<path fill=\"none\" stroke=\"#000000\" d=\"M479.3653,-19.0965C465.0039,-14.9809 446.795,-10.4587 430.1834,-8.3979 406.015,-5.3996 399.5356,-5.2398 375.3875,-8.3979 362.2715,-10.1133 348.1366,-13.5298 335.9321,-16.9986\"/>\n<polygon fill=\"#000000\" stroke=\"#000000\" points=\"334.7892,-13.6869 326.199,-19.8885 336.7816,-20.3973 334.7892,-13.6869\"/>\n<text text-anchor=\"middle\" x=\"402.7855\" y=\"-12.1979\" font-family=\"Times,serif\" font-size=\"14.00\" fill=\"#000000\">1 </text>\n</g>\n<!-- St2&#45;&gt;St2 -->\n<g id=\"edge9\" class=\"edge\">\n<title>St2&#45;&gt;St2</title>\n<path fill=\"none\" stroke=\"#000000\" d=\"M496.2635,-53.523C495.7371,-64.0011 498.843,-72.7958 505.5813,-72.7958 509.898,-72.7958 512.724,-69.1865 514.0593,-63.8374\"/>\n<polygon fill=\"#000000\" stroke=\"#000000\" points=\"517.5759,-63.7741 514.8991,-53.523 510.599,-63.206 517.5759,-63.7741\"/>\n<text text-anchor=\"middle\" x=\"505.5813\" y=\"-76.5958\" font-family=\"Times,serif\" font-size=\"14.00\" fill=\"#000000\">0 </text>\n</g>\n</g>\n</svg>\n"
          },
          "metadata": {},
          "execution_count": 20
        }
      ]
    },
    {
      "cell_type": "markdown",
      "metadata": {
        "id": "pkIySAyN-9aA"
      },
      "source": [
        "# Question 3a (10%): Below, show your ability to obtain N_minus_D via DFA operations, and seeing your results in a nice minimal form clearly"
      ]
    },
    {
      "cell_type": "code",
      "metadata": {
        "id": "yyvO90nI-9aA"
      },
      "source": [
        "N_minus_D = min_dfa(intersect_dfa(min_dfa(dfa_nfa01n01), min_dfa(comp_dfa(mdfa01n01))))"
      ],
      "execution_count": 25,
      "outputs": []
    },
    {
      "cell_type": "code",
      "metadata": {
        "id": "vxfCfQNS-9aA",
        "outputId": "4a1ba0a1-b4e7-4b10-c590-34147b7fe3f8",
        "colab": {
          "base_uri": "https://localhost:8080/",
          "height": 245
        }
      },
      "source": [
        "dotObj_dfa(N_minus_D)"
      ],
      "execution_count": 26,
      "outputs": [
        {
          "output_type": "execute_result",
          "data": {
            "text/plain": [
              "<graphviz.dot.Digraph at 0x7f521a8fb750>"
            ],
            "image/svg+xml": "<?xml version=\"1.0\" encoding=\"UTF-8\" standalone=\"no\"?>\n<!DOCTYPE svg PUBLIC \"-//W3C//DTD SVG 1.1//EN\"\n \"http://www.w3.org/Graphics/SVG/1.1/DTD/svg11.dtd\">\n<!-- Generated by graphviz version 2.40.1 (20161225.0304)\n -->\n<!-- Title: %3 Pages: 1 -->\n<svg width=\"193pt\" height=\"168pt\"\n viewBox=\"0.00 0.00 192.59 167.59\" xmlns=\"http://www.w3.org/2000/svg\" xmlns:xlink=\"http://www.w3.org/1999/xlink\">\n<g id=\"graph0\" class=\"graph\" transform=\"scale(1 1) rotate(0) translate(4 163.5917)\">\n<title>%3</title>\n<polygon fill=\"#ffffff\" stroke=\"transparent\" points=\"-4,4 -4,-163.5917 188.5917,-163.5917 188.5917,4 -4,4\"/>\n<!-- EMPTY -->\n<g id=\"node1\" class=\"node\">\n<title>EMPTY</title>\n</g>\n<!-- \\(St7_St3\\) -->\n<g id=\"node2\" class=\"node\">\n<title>\\(St7_St3\\)</title>\n<ellipse fill=\"none\" stroke=\"#000000\" cx=\"137.7958\" cy=\"-46.7958\" rx=\"46.5926\" ry=\"46.5926\"/>\n<text text-anchor=\"middle\" x=\"137.7958\" y=\"-43.0958\" font-family=\"Times,serif\" font-size=\"14.00\" fill=\"#000000\">(St7_St3)</text>\n</g>\n<!-- EMPTY&#45;&gt;\\(St7_St3\\) -->\n<g id=\"edge1\" class=\"edge\">\n<title>EMPTY&#45;&gt;\\(St7_St3\\)</title>\n<path fill=\"none\" stroke=\"#000000\" d=\"M54.1037,-46.7958C62.1958,-46.7958 71.389,-46.7958 80.6474,-46.7958\"/>\n<polygon fill=\"#000000\" stroke=\"#000000\" points=\"80.6704,-50.2959 90.6704,-46.7958 80.6703,-43.2959 80.6704,-50.2959\"/>\n</g>\n<!-- \\(St7_St3\\)&#45;&gt;\\(St7_St3\\) -->\n<g id=\"edge2\" class=\"edge\">\n<title>\\(St7_St3\\)&#45;&gt;\\(St7_St3\\)</title>\n<path fill=\"none\" stroke=\"#000000\" d=\"M131.9423,-93.3923C132.4697,-103.9035 134.4208,-111.5917 137.7958,-111.5917 139.958,-111.5917 141.5357,-108.4365 142.5292,-103.4051\"/>\n<polygon fill=\"#000000\" stroke=\"#000000\" points=\"146.0157,-103.7195 143.6494,-93.3923 139.0591,-102.9412 146.0157,-103.7195\"/>\n<text text-anchor=\"middle\" x=\"137.7958\" y=\"-115.3917\" font-family=\"Times,serif\" font-size=\"14.00\" fill=\"#000000\">1 </text>\n</g>\n<!-- \\(St7_St3\\)&#45;&gt;\\(St7_St3\\) -->\n<g id=\"edge3\" class=\"edge\">\n<title>\\(St7_St3\\)&#45;&gt;\\(St7_St3\\)</title>\n<path fill=\"none\" stroke=\"#000000\" d=\"M125.9606,-92.3536C124.9133,-112.3687 128.8583,-129.5917 137.7958,-129.5917 145.1972,-129.5917 149.1748,-117.7803 149.7287,-102.3532\"/>\n<polygon fill=\"#000000\" stroke=\"#000000\" points=\"153.2286,-102.319 149.6311,-92.3536 146.2289,-102.3873 153.2286,-102.319\"/>\n<text text-anchor=\"middle\" x=\"137.7958\" y=\"-133.3917\" font-family=\"Times,serif\" font-size=\"14.00\" fill=\"#000000\">0 </text>\n</g>\n</g>\n</svg>\n"
          },
          "metadata": {},
          "execution_count": 26
        }
      ]
    },
    {
      "cell_type": "markdown",
      "metadata": {
        "id": "4UGEUS5J-9aA"
      },
      "source": [
        "# Question 3b (10%): Show your ability to obtain D_minus_N via DFA operations and seeing the results in a minimal form clearly"
      ]
    },
    {
      "cell_type": "code",
      "metadata": {
        "id": "u4-ZDzHW-9aA"
      },
      "source": [
        "D_minus_N = min_dfa( intersect_dfa(min_dfa(mdfa01n01), min_dfa(comp_dfa(dfa_nfa01n01))) )"
      ],
      "execution_count": 29,
      "outputs": []
    },
    {
      "cell_type": "code",
      "metadata": {
        "id": "V3mRKwB7-9aB",
        "outputId": "2c1316a7-02f6-45cd-88df-87dbc4123a68",
        "colab": {
          "base_uri": "https://localhost:8080/",
          "height": 481
        }
      },
      "source": [
        "dotObj_dfa(D_minus_N)"
      ],
      "execution_count": 30,
      "outputs": [
        {
          "output_type": "execute_result",
          "data": {
            "text/plain": [
              "<graphviz.dot.Digraph at 0x7f521aac1850>"
            ],
            "image/svg+xml": "<?xml version=\"1.0\" encoding=\"UTF-8\" standalone=\"no\"?>\n<!DOCTYPE svg PUBLIC \"-//W3C//DTD SVG 1.1//EN\"\n \"http://www.w3.org/Graphics/SVG/1.1/DTD/svg11.dtd\">\n<!-- Generated by graphviz version 2.40.1 (20161225.0304)\n -->\n<!-- Title: %3 Pages: 1 -->\n<svg width=\"911pt\" height=\"345pt\"\n viewBox=\"0.00 0.00 911.15 344.89\" xmlns=\"http://www.w3.org/2000/svg\" xmlns:xlink=\"http://www.w3.org/1999/xlink\">\n<g id=\"graph0\" class=\"graph\" transform=\"scale(1 1) rotate(0) translate(4 340.8916)\">\n<title>%3</title>\n<polygon fill=\"#ffffff\" stroke=\"transparent\" points=\"-4,4 -4,-340.8916 907.1499,-340.8916 907.1499,4 -4,4\"/>\n<!-- EMPTY -->\n<g id=\"node1\" class=\"node\">\n<title>EMPTY</title>\n</g>\n<!-- \\(St4_St8\\) -->\n<g id=\"node6\" class=\"node\">\n<title>\\(St4_St8\\)</title>\n<ellipse fill=\"none\" stroke=\"#000000\" cx=\"137.7958\" cy=\"-181.7958\" rx=\"46.5926\" ry=\"46.5926\"/>\n<text text-anchor=\"middle\" x=\"137.7958\" y=\"-178.0958\" font-family=\"Times,serif\" font-size=\"14.00\" fill=\"#000000\">(St4_St8)</text>\n</g>\n<!-- EMPTY&#45;&gt;\\(St4_St8\\) -->\n<g id=\"edge1\" class=\"edge\">\n<title>EMPTY&#45;&gt;\\(St4_St8\\)</title>\n<path fill=\"none\" stroke=\"#000000\" d=\"M54.1037,-181.7958C62.1958,-181.7958 71.389,-181.7958 80.6474,-181.7958\"/>\n<polygon fill=\"#000000\" stroke=\"#000000\" points=\"80.6704,-185.2959 90.6704,-181.7958 80.6703,-178.2959 80.6704,-185.2959\"/>\n</g>\n<!-- \\(BH_BH\\) -->\n<g id=\"node2\" class=\"node\">\n<title>\\(BH_BH\\)</title>\n<ellipse fill=\"none\" stroke=\"#000000\" cx=\"422.2791\" cy=\"-222.7958\" rx=\"48.1917\" ry=\"48.1917\"/>\n<text text-anchor=\"middle\" x=\"422.2791\" y=\"-219.0958\" font-family=\"Times,serif\" font-size=\"14.00\" fill=\"#000000\">(BH_BH)</text>\n</g>\n<!-- \\(BH_BH\\)&#45;&gt;\\(BH_BH\\) -->\n<g id=\"edge6\" class=\"edge\">\n<title>\\(BH_BH\\)&#45;&gt;\\(BH_BH\\)</title>\n<path fill=\"none\" stroke=\"#000000\" d=\"M415.7108,-270.6242C416.328,-281.1937 418.5174,-288.8916 422.2791,-288.8916 424.689,-288.8916 426.4536,-285.7324 427.5729,-280.6828\"/>\n<polygon fill=\"#000000\" stroke=\"#000000\" points=\"431.0625,-280.9849 428.8474,-270.6242 424.118,-280.1049 431.0625,-280.9849\"/>\n<text text-anchor=\"middle\" x=\"422.2791\" y=\"-292.6916\" font-family=\"Times,serif\" font-size=\"14.00\" fill=\"#000000\">0 </text>\n</g>\n<!-- \\(BH_BH\\)&#45;&gt;\\(BH_BH\\) -->\n<g id=\"edge13\" class=\"edge\">\n<title>\\(BH_BH\\)&#45;&gt;\\(BH_BH\\)</title>\n<path fill=\"none\" stroke=\"#000000\" d=\"M408.9645,-269.0689C407.7862,-289.3982 412.2244,-306.8916 422.2791,-306.8916 430.6057,-306.8916 435.0805,-294.8947 435.7035,-279.2254\"/>\n<polygon fill=\"#000000\" stroke=\"#000000\" points=\"439.2017,-279.0304 435.5937,-269.0689 432.2021,-279.1062 439.2017,-279.0304\"/>\n<text text-anchor=\"middle\" x=\"422.2791\" y=\"-310.6916\" font-family=\"Times,serif\" font-size=\"14.00\" fill=\"#000000\">1 </text>\n</g>\n<!-- \\(St2_St4\\) -->\n<g id=\"node3\" class=\"node\">\n<title>\\(St2_St4\\)</title>\n<ellipse fill=\"none\" stroke=\"#000000\" cx=\"565.1707\" cy=\"-76.7958\" rx=\"46.5926\" ry=\"46.5926\"/>\n<text text-anchor=\"middle\" x=\"565.1707\" y=\"-73.0958\" font-family=\"Times,serif\" font-size=\"14.00\" fill=\"#000000\">(St2_St4)</text>\n</g>\n<!-- \\(St2_St4\\)&#45;&gt;\\(St2_St4\\) -->\n<g id=\"edge8\" class=\"edge\">\n<title>\\(St2_St4\\)&#45;&gt;\\(St2_St4\\)</title>\n<path fill=\"none\" stroke=\"#000000\" d=\"M552.2259,-121.9148C553.1312,-133.1752 557.4461,-141.5917 565.1707,-141.5917 570.3607,-141.5917 574.0115,-137.7923 576.1231,-131.8838\"/>\n<polygon fill=\"#000000\" stroke=\"#000000\" points=\"579.5877,-132.4068 578.1155,-121.9148 572.7234,-131.0349 579.5877,-132.4068\"/>\n<text text-anchor=\"middle\" x=\"565.1707\" y=\"-145.3917\" font-family=\"Times,serif\" font-size=\"14.00\" fill=\"#000000\">0 </text>\n</g>\n<!-- \\(St3_St7\\) -->\n<g id=\"node4\" class=\"node\">\n<title>\\(St3_St7\\)</title>\n<ellipse fill=\"none\" stroke=\"#000000\" cx=\"706.7624\" cy=\"-114.7958\" rx=\"46.5926\" ry=\"46.5926\"/>\n<text text-anchor=\"middle\" x=\"706.7624\" y=\"-111.0958\" font-family=\"Times,serif\" font-size=\"14.00\" fill=\"#000000\">(St3_St7)</text>\n</g>\n<!-- \\(St2_St4\\)&#45;&gt;\\(St3_St7\\) -->\n<g id=\"edge12\" class=\"edge\">\n<title>\\(St2_St4\\)&#45;&gt;\\(St3_St7\\)</title>\n<path fill=\"none\" stroke=\"#000000\" d=\"M610.7506,-89.0285C623.7613,-92.5202 638.079,-96.3628 651.5966,-99.9906\"/>\n<polygon fill=\"#000000\" stroke=\"#000000\" points=\"650.7024,-103.3744 661.2679,-102.5862 652.5169,-96.6137 650.7024,-103.3744\"/>\n<text text-anchor=\"middle\" x=\"635.9666\" y=\"-101.5958\" font-family=\"Times,serif\" font-size=\"14.00\" fill=\"#000000\">1 </text>\n</g>\n<!-- \\(St3_St7\\)&#45;&gt;\\(St2_St4\\) -->\n<g id=\"edge11\" class=\"edge\">\n<title>\\(St3_St7\\)&#45;&gt;\\(St2_St4\\)</title>\n<path fill=\"none\" stroke=\"#000000\" d=\"M667.7069,-88.3563C659.5248,-84.0252 650.7157,-80.179 641.9666,-77.7958 635.719,-76.0941 629.0782,-75.002 622.4182,-74.3495\"/>\n<polygon fill=\"#000000\" stroke=\"#000000\" points=\"622.1992,-70.8276 611.9904,-73.6616 621.7383,-77.8124 622.1992,-70.8276\"/>\n<text text-anchor=\"middle\" x=\"635.9666\" y=\"-81.5958\" font-family=\"Times,serif\" font-size=\"14.00\" fill=\"#000000\">0 </text>\n</g>\n<!-- \\(St1_St7\\) -->\n<g id=\"node8\" class=\"node\">\n<title>\\(St1_St7\\)</title>\n<ellipse fill=\"none\" stroke=\"#000000\" cx=\"852.3541\" cy=\"-50.7958\" rx=\"46.6085\" ry=\"46.6085\"/>\n<ellipse fill=\"none\" stroke=\"#000000\" cx=\"852.3541\" cy=\"-50.7958\" rx=\"50.5925\" ry=\"50.5925\"/>\n<text text-anchor=\"middle\" x=\"852.3541\" y=\"-47.0958\" font-family=\"Times,serif\" font-size=\"14.00\" fill=\"#000000\">(St1_St7)</text>\n</g>\n<!-- \\(St3_St7\\)&#45;&gt;\\(St1_St7\\) -->\n<g id=\"edge10\" class=\"edge\">\n<title>\\(St3_St7\\)&#45;&gt;\\(St1_St7\\)</title>\n<path fill=\"none\" stroke=\"#000000\" d=\"M749.6573,-95.9399C764.2443,-89.5276 780.7701,-82.2631 796.2348,-75.4651\"/>\n<polygon fill=\"#000000\" stroke=\"#000000\" points=\"797.9537,-78.5328 805.6998,-71.3044 795.1367,-72.1246 797.9537,-78.5328\"/>\n<text text-anchor=\"middle\" x=\"777.5582\" y=\"-88.5958\" font-family=\"Times,serif\" font-size=\"14.00\" fill=\"#000000\">1 </text>\n</g>\n<!-- \\(St1_St1\\) -->\n<g id=\"node5\" class=\"node\">\n<title>\\(St1_St1\\)</title>\n<ellipse fill=\"none\" stroke=\"#000000\" cx=\"422.2791\" cy=\"-76.7958\" rx=\"46.5926\" ry=\"46.5926\"/>\n<text text-anchor=\"middle\" x=\"422.2791\" y=\"-73.0958\" font-family=\"Times,serif\" font-size=\"14.00\" fill=\"#000000\">(St1_St1)</text>\n</g>\n<!-- \\(St1_St1\\)&#45;&gt;\\(St2_St4\\) -->\n<g id=\"edge3\" class=\"edge\">\n<title>\\(St1_St1\\)&#45;&gt;\\(St2_St4\\)</title>\n<path fill=\"none\" stroke=\"#000000\" d=\"M469.4632,-76.7958C481.7788,-76.7958 495.1859,-76.7958 507.9601,-76.7958\"/>\n<polygon fill=\"#000000\" stroke=\"#000000\" points=\"508.0362,-80.2959 518.0362,-76.7958 508.0362,-73.2959 508.0362,-80.2959\"/>\n<text text-anchor=\"middle\" x=\"494.3749\" y=\"-80.5958\" font-family=\"Times,serif\" font-size=\"14.00\" fill=\"#000000\">0 </text>\n</g>\n<!-- \\(St1_St1\\)&#45;&gt;\\(St1_St1\\) -->\n<g id=\"edge4\" class=\"edge\">\n<title>\\(St1_St1\\)&#45;&gt;\\(St1_St1\\)</title>\n<path fill=\"none\" stroke=\"#000000\" d=\"M408.9645,-121.9148C409.8956,-133.1752 414.3338,-141.5917 422.2791,-141.5917 427.6174,-141.5917 431.3725,-137.7923 433.5444,-131.8838\"/>\n<polygon fill=\"#000000\" stroke=\"#000000\" points=\"437.0084,-132.4147 435.5937,-121.9148 430.1517,-131.0052 437.0084,-132.4147\"/>\n<text text-anchor=\"middle\" x=\"422.2791\" y=\"-145.3917\" font-family=\"Times,serif\" font-size=\"14.00\" fill=\"#000000\">1 </text>\n</g>\n<!-- \\(St4_St8\\)&#45;&gt;\\(BH_BH\\) -->\n<g id=\"edge5\" class=\"edge\">\n<title>\\(St4_St8\\)&#45;&gt;\\(BH_BH\\)</title>\n<path fill=\"none\" stroke=\"#000000\" d=\"M184.5585,-188.7517C199.8642,-191.0151 216.951,-193.5278 232.5917,-195.7958 276.6742,-202.1883 326.541,-209.2809 364.0788,-214.592\"/>\n<polygon fill=\"#000000\" stroke=\"#000000\" points=\"363.9329,-218.1061 374.3244,-216.0407 364.913,-211.1751 363.9329,-218.1061\"/>\n<text text-anchor=\"middle\" x=\"279.3875\" y=\"-212.5958\" font-family=\"Times,serif\" font-size=\"14.00\" fill=\"#000000\">1 </text>\n</g>\n<!-- \\(St5_St9\\) -->\n<g id=\"node7\" class=\"node\">\n<title>\\(St5_St9\\)</title>\n<ellipse fill=\"none\" stroke=\"#000000\" cx=\"279.3875\" cy=\"-139.7958\" rx=\"46.5926\" ry=\"46.5926\"/>\n<text text-anchor=\"middle\" x=\"279.3875\" y=\"-136.0958\" font-family=\"Times,serif\" font-size=\"14.00\" fill=\"#000000\">(St5_St9)</text>\n</g>\n<!-- \\(St4_St8\\)&#45;&gt;\\(St5_St9\\) -->\n<g id=\"edge2\" class=\"edge\">\n<title>\\(St4_St8\\)&#45;&gt;\\(St5_St9\\)</title>\n<path fill=\"none\" stroke=\"#000000\" d=\"M182.9856,-168.3913C196.1411,-164.489 210.6598,-160.1824 224.3503,-156.1214\"/>\n<polygon fill=\"#000000\" stroke=\"#000000\" points=\"225.5497,-159.4165 234.1414,-153.2171 223.5589,-152.7055 225.5497,-159.4165\"/>\n<text text-anchor=\"middle\" x=\"208.5917\" y=\"-166.5958\" font-family=\"Times,serif\" font-size=\"14.00\" fill=\"#000000\">0 </text>\n</g>\n<!-- \\(St5_St9\\)&#45;&gt;\\(BH_BH\\) -->\n<g id=\"edge7\" class=\"edge\">\n<title>\\(St5_St9\\)&#45;&gt;\\(BH_BH\\)</title>\n<path fill=\"none\" stroke=\"#000000\" d=\"M319.9523,-163.3583C336.1126,-172.7452 354.8831,-183.6482 371.9019,-193.5338\"/>\n<polygon fill=\"#000000\" stroke=\"#000000\" points=\"370.2138,-196.6008 380.6189,-198.5971 373.7298,-190.5478 370.2138,-196.6008\"/>\n<text text-anchor=\"middle\" x=\"350.1834\" y=\"-186.5958\" font-family=\"Times,serif\" font-size=\"14.00\" fill=\"#000000\">0 </text>\n</g>\n<!-- \\(St5_St9\\)&#45;&gt;\\(St1_St1\\) -->\n<g id=\"edge9\" class=\"edge\">\n<title>\\(St5_St9\\)&#45;&gt;\\(St1_St1\\)</title>\n<path fill=\"none\" stroke=\"#000000\" d=\"M322.2597,-120.8938C337.2367,-114.2905 354.2193,-106.803 369.8838,-99.8966\"/>\n<polygon fill=\"#000000\" stroke=\"#000000\" points=\"371.6991,-102.9214 379.4372,-95.6846 368.8751,-96.5163 371.6991,-102.9214\"/>\n<text text-anchor=\"middle\" x=\"350.1834\" y=\"-114.5958\" font-family=\"Times,serif\" font-size=\"14.00\" fill=\"#000000\">1 </text>\n</g>\n<!-- \\(St1_St7\\)&#45;&gt;\\(St2_St4\\) -->\n<g id=\"edge15\" class=\"edge\">\n<title>\\(St1_St7\\)&#45;&gt;\\(St2_St4\\)</title>\n<path fill=\"none\" stroke=\"#000000\" d=\"M801.7579,-43.3866C762.7441,-39.0123 707.5865,-35.7442 659.9666,-43.7958 646.0018,-46.157 631.3495,-50.3451 617.8537,-54.962\"/>\n<polygon fill=\"#000000\" stroke=\"#000000\" points=\"616.5035,-51.7274 608.2574,-58.3796 618.8521,-58.3217 616.5035,-51.7274\"/>\n<text text-anchor=\"middle\" x=\"706.7624\" y=\"-47.5958\" font-family=\"Times,serif\" font-size=\"14.00\" fill=\"#000000\">0 </text>\n</g>\n<!-- \\(St1_St7\\)&#45;&gt;\\(St1_St7\\) -->\n<g id=\"edge14\" class=\"edge\">\n<title>\\(St1_St7\\)&#45;&gt;\\(St1_St7\\)</title>\n<path fill=\"none\" stroke=\"#000000\" d=\"M838.7848,-99.9581C839.954,-111.277 844.4771,-119.5917 852.3541,-119.5917 857.6464,-119.5917 861.4248,-115.8383 863.6891,-109.9422\"/>\n<polygon fill=\"#000000\" stroke=\"#000000\" points=\"867.155,-110.4811 865.9234,-99.9581 860.324,-108.9524 867.155,-110.4811\"/>\n<text text-anchor=\"middle\" x=\"852.3541\" y=\"-123.3917\" font-family=\"Times,serif\" font-size=\"14.00\" fill=\"#000000\">1 </text>\n</g>\n</g>\n</svg>\n"
          },
          "metadata": {},
          "execution_count": 30
        }
      ]
    },
    {
      "cell_type": "markdown",
      "metadata": {
        "id": "9iekN1sg-9aB"
      },
      "source": [
        "# Question 3c (10%): Final answer for Question 2 with explanations saying which subtraction is non-empty,  and how you arrive at this conclusion\n",
        "\n",
        "<font size=\"3\">\n",
        "\n",
        "*  When looking at both of the subtractions and the DFA that are created, the DFA that is empty (phrased another way, the DFA that does not accept any strings) because no string satisfies its requirements, is the N_minus_D DFA, and the subtraction that is non-empty is D_minus_N. There is one major reason for why that DFA N_minus_D is empty and why D_minus_N is not.  When looking at the original DFA in more detail, the mdfa01n01 (DFA D) accepts strings like 01011, while the dfa_nfa01n01 (DFA N) does not accept these kinds of string.  This means that while the D DFA accepts all the same strings that N does, N does not accept all the same strings that D does, meaning the language of D is larger than N. When D is subtracted from N, there are no remaining strings that N accepts, which is why intersecting N with the complement of D gives an empty machine.  This explains why, when we subtract D from N, the resulting DFA has nothing in it, and why when we do the same the other way around, the resulting D_minus_N is not empty and there are strings that it accepts.  It's because those are the strings that D accepts that N doesn't, strings like 01011, which will be included in the intersection, leaving the result of the subtraction non-empty. \n",
        "    \n",
        "</font>    \n",
        "\n"
      ]
    },
    {
      "cell_type": "markdown",
      "metadata": {
        "id": "HsM8TUGK-9aB"
      },
      "source": [
        "## Answer below , selecting one of these\n",
        "\n",
        "## P1 alone is true because...\n",
        "\n",
        "## P2 alone is true because ...\n",
        "\n",
        "## Both are true because ...\n"
      ]
    },
    {
      "cell_type": "markdown",
      "metadata": {
        "id": "tmyq8sPf-9aB"
      },
      "source": [
        "**ANSWER HERE** \n",
        "* P2 alone is true because every string accepted by N is accepted by D, but every string accepted by D is not accepted by N, which means that the language of N is contained in D but the language of D is not contained in N."
      ]
    },
    {
      "cell_type": "markdown",
      "metadata": {
        "id": "RwpRdyNu-9aB"
      },
      "source": [
        "# Question 3d (5%): Describe whichever (D_minus_N or N_minus_D) is non-empty as a mathematical language expression"
      ]
    },
    {
      "cell_type": "code",
      "metadata": {
        "id": "31kBm_KJ-9aB",
        "outputId": "1c798681-da5f-4f47-dbd8-b2437caf2215",
        "colab": {
          "base_uri": "https://localhost:8080/",
          "height": 52
        }
      },
      "source": [
        "'''\n",
        "E = { 01(0,1)*11 }\n",
        "    THE LANGUAGE EXPRESSION HERE USING Curly Braces .. the \n",
        "    Old-style Language definintion syntax as in Chapters 2 and 3\n",
        "    Regular Expressions are not acceptable (for consistency of\n",
        "    all answers, plus to make sure you know the difference)\n",
        "'''"
      ],
      "execution_count": 32,
      "outputs": [
        {
          "output_type": "execute_result",
          "data": {
            "application/vnd.google.colaboratory.intrinsic+json": {
              "type": "string"
            },
            "text/plain": [
              "'\\nE = { 01(0,1)*11 }\\n    THE LANGUAGE EXPRESSION HERE USING Curly Braces .. the \\n    Old-style Language definintion syntax as in Chapters 2 and 3\\n    Regular Expressions are not acceptable (for consistency of\\n    all answers, plus to make sure you know the difference)\\n'"
            ]
          },
          "metadata": {},
          "execution_count": 32
        }
      ]
    },
    {
      "cell_type": "markdown",
      "metadata": {
        "id": "f-f2C09j-9aC"
      },
      "source": [
        "## Describe whichever (D_minus_N or N_minus_D) is non-empty in clear English steps"
      ]
    },
    {
      "cell_type": "markdown",
      "metadata": {
        "id": "ublXZUNh-9aC"
      },
      "source": [
        "In other words, these strings are missed in the NFA method (and hence are present in D_minus_N)\n",
        "\n",
        "* The simplest reason for why D_minus_N is non-empty is that the D DFA accepts strings beginning with '01' and ending in '11' while the N DFA (or the NFA) does not.\n",
        "* Because when ever the NFA sees a string that begins with 01, and at some point in the rest of the string sees another 0, it transitions to a different final state, when it sees a 1 after a 0 it transitions to a different 'fail' state, and if it sees a 1 immediately after a 1, instead of transitioning to one of the final accepting states, it stays in that different fail state, and never accepts a string that begins with 01 and ends with 11 like it should because in this state it only transitions out to a final on a 0.\n",
        "* Because of this, D_minus_N is non-empty because there are strings that D accepts that N should accept but doesn't, hence why the intersection between D and the complement of N is non-empty.\n",
        "\n",
        "</font>    "
      ]
    },
    {
      "cell_type": "markdown",
      "metadata": {
        "id": "D2TYkrs4-9aC"
      },
      "source": [
        "# =================== QUESTION DIVIDING LINE ==================="
      ]
    },
    {
      "cell_type": "markdown",
      "metadata": {
        "id": "asuPZNyK-9aC"
      },
      "source": [
        "# (25%) Question 4: Convert the NFA given below to a DFA manually using the NFA to DFA conversion (\"subset construction\") applied manually -- NOT using the Jove command to directly achieve the conversion. Then check your work as instructed below\n",
        "\n",
        "<font size=\"3\">\n",
        "\n",
        "*  Show your work as you did in Assignment-3. In particular:\n",
        "  - Name the sets of states obtained during subset construction using underscore-separated names\n",
        "  - Sort the set contents first\n",
        "  \n",
        "    . E.g. {A,C,B} \n",
        "    \n",
        "    . is presented as\n",
        "    \n",
        "    . A_B_C\n",
        "    \n",
        "  - In subset construction, the {} set is like BH and so when you get {} as the next set of states, in the \n",
        "    DFA name the state BH  and loop back every symbol from BH back to BH\n",
        "    \n",
        "  - when you have to name an initial state of the DFA, name it starting with \"i_\" or \"if_\" as the case may be\n",
        "  \n",
        "  - when you have to name a final state of the DFA, name it starting with \"f_\"\n",
        "  \n",
        "  - Thus if you obtain a state B_C_F, you'll name it as f_B_C_F to tell jove that this is final\n",
        "  \n",
        "  - If the starting state is I, then naming it i_I is un-necessary\n",
        "  \n",
        "  - You can name states modulo these suggestions. Small deviations are OK. E.g. if you got B_C_F and you decide to sort it as F_B_C then that is already an \"F-state\" and so another \"f_\" is not needed\n",
        "  \n",
        " \n",
        "    \n",
        "* Verify using available Jove commands\n",
        "* Check your work showing that your DFA obtained by hand is isomorphic to the DFA obtained mechanically using Jove commands\n",
        "    \n",
        "</font>    \n"
      ]
    },
    {
      "cell_type": "markdown",
      "metadata": {
        "id": "E8XmU8UT-9aD"
      },
      "source": [
        "## The given NFA is below"
      ]
    },
    {
      "cell_type": "code",
      "metadata": {
        "id": "0EmIYBP9-9aD"
      },
      "source": [
        "NFA_given = md2mc(\n",
        "'''\n",
        "NFA\n",
        "\n",
        "I : 0   -> A\n",
        "A : 1   -> B\n",
        "\n",
        "B : ''  -> C \n",
        "B : ''  -> F\n",
        "\n",
        "C : 1   -> C\n",
        "F : 0|1 -> F\n",
        "\n",
        "\n",
        "\n",
        "''')"
      ],
      "execution_count": 33,
      "outputs": []
    },
    {
      "cell_type": "markdown",
      "metadata": {
        "id": "Q7FFNtTJ-9aD"
      },
      "source": [
        "# Question 4a (5%): Showing your work\n",
        "\n",
        "* Subset construction proceeds as follows\n",
        "\n",
        "* I has itself as E-closure\n",
        "\n",
        "* I upon 0 goes to {A}, named as A\n",
        "* I upon 1 goes to {} (BH) as it does not have a move defined for this symbol.\n",
        "*\n",
        "* A on a 0 goes to {}, or BH, as it doesn't have a move defined for this symbol.\n",
        "* A on a 1 goes to {B, C, F}, named as f_B_C_F\n",
        "*\n",
        "* f_B_C_F on a 0 gives {F}, named as F\n",
        "* f_B_C_F on a 1 gives {C, F}, named as f_C_F\n",
        "*\n",
        "* F on a 0 or 1 gives {F}, which will remain as F\n",
        "*\n",
        "* f_C_F on a 0 gives {F}, which will be F\n",
        "* f_C_F on a 1 gives {C, F}, which will be f_C_F\n",
        "*\n",
        "* BH is the black hole state so on either 0 or 1 it goes to itself."
      ]
    },
    {
      "cell_type": "markdown",
      "metadata": {
        "id": "jno3kpzI-9aE"
      },
      "source": [
        "# Question 4b (10%) : Presenting your DFA"
      ]
    },
    {
      "cell_type": "code",
      "metadata": {
        "id": "ACS7BG64-9aE"
      },
      "source": [
        "DFA_hand = md2mc(\n",
        "'''\n",
        "\n",
        "DFA\n",
        "\n",
        "I : 0 -> A\n",
        "I : 1 -> BH\n",
        "\n",
        "A : 0 -> BH\n",
        "A : 1 -> f_B_C_F\n",
        "\n",
        "f_B_C_F : 0 -> F\n",
        "f_B_C_F : 1 -> f_C_F\n",
        "\n",
        "F : 0 | 1 -> F\n",
        "\n",
        "f_C_F : 0 -> F\n",
        "f_C_F : 1 -> f_C_F\n",
        "\n",
        "BH : 0 | 1 -> BH\n",
        "\n",
        "''')"
      ],
      "execution_count": 59,
      "outputs": []
    },
    {
      "cell_type": "code",
      "metadata": {
        "id": "N4H3leYM-9aE"
      },
      "source": [
        "min_DFA_hand = min_dfa(DFA_hand)"
      ],
      "execution_count": 60,
      "outputs": []
    },
    {
      "cell_type": "code",
      "metadata": {
        "id": "Dg6E8An6-9aE",
        "outputId": "d4646b3e-a3f5-4f86-8619-48402b338327",
        "colab": {
          "base_uri": "https://localhost:8080/",
          "height": 229
        }
      },
      "source": [
        "dotObj_dfa(min_DFA_hand, FuseEdges=True)"
      ],
      "execution_count": 61,
      "outputs": [
        {
          "output_type": "execute_result",
          "data": {
            "text/plain": [
              "<graphviz.dot.Digraph at 0x7f521a8619d0>"
            ],
            "image/svg+xml": "<?xml version=\"1.0\" encoding=\"UTF-8\" standalone=\"no\"?>\n<!DOCTYPE svg PUBLIC \"-//W3C//DTD SVG 1.1//EN\"\n \"http://www.w3.org/Graphics/SVG/1.1/DTD/svg11.dtd\">\n<!-- Generated by graphviz version 2.40.1 (20161225.0304)\n -->\n<!-- Title: %3 Pages: 1 -->\n<svg width=\"367pt\" height=\"156pt\"\n viewBox=\"0.00 0.00 367.29 156.29\" xmlns=\"http://www.w3.org/2000/svg\" xmlns:xlink=\"http://www.w3.org/1999/xlink\">\n<g id=\"graph0\" class=\"graph\" transform=\"scale(1 1) rotate(0) translate(4 152.2918)\">\n<title>%3</title>\n<polygon fill=\"#ffffff\" stroke=\"transparent\" points=\"-4,4 -4,-152.2918 363.2918,-152.2918 363.2918,4 -4,4\"/>\n<!-- EMPTY -->\n<g id=\"node1\" class=\"node\">\n<title>EMPTY</title>\n</g>\n<!-- I -->\n<g id=\"node3\" class=\"node\">\n<title>I</title>\n<ellipse fill=\"none\" stroke=\"#000000\" cx=\"109\" cy=\"-50.1459\" rx=\"18\" ry=\"18\"/>\n<text text-anchor=\"middle\" x=\"109\" y=\"-46.4459\" font-family=\"Times,serif\" font-size=\"14.00\" fill=\"#000000\">I</text>\n</g>\n<!-- EMPTY&#45;&gt;I -->\n<g id=\"edge1\" class=\"edge\">\n<title>EMPTY&#45;&gt;I</title>\n<path fill=\"none\" stroke=\"#000000\" d=\"M54.3048,-50.1459C62.6909,-50.1459 71.9407,-50.1459 80.4103,-50.1459\"/>\n<polygon fill=\"#000000\" stroke=\"#000000\" points=\"80.5976,-53.646 90.5976,-50.1459 80.5976,-46.646 80.5976,-53.646\"/>\n</g>\n<!-- A -->\n<g id=\"node2\" class=\"node\">\n<title>A</title>\n<ellipse fill=\"none\" stroke=\"#000000\" cx=\"193\" cy=\"-50.1459\" rx=\"18\" ry=\"18\"/>\n<text text-anchor=\"middle\" x=\"193\" y=\"-46.4459\" font-family=\"Times,serif\" font-size=\"14.00\" fill=\"#000000\">A</text>\n</g>\n<!-- f_B_C_F -->\n<g id=\"node4\" class=\"node\">\n<title>f_B_C_F</title>\n<ellipse fill=\"none\" stroke=\"#000000\" cx=\"309.1459\" cy=\"-50.1459\" rx=\"46.2806\" ry=\"46.2806\"/>\n<ellipse fill=\"none\" stroke=\"#000000\" cx=\"309.1459\" cy=\"-50.1459\" rx=\"50.2922\" ry=\"50.2922\"/>\n<text text-anchor=\"middle\" x=\"309.1459\" y=\"-46.4459\" font-family=\"Times,serif\" font-size=\"14.00\" fill=\"#000000\">f_B_C_F</text>\n</g>\n<!-- A&#45;&gt;f_B_C_F -->\n<g id=\"edge3\" class=\"edge\">\n<title>A&#45;&gt;f_B_C_F</title>\n<path fill=\"none\" stroke=\"#000000\" d=\"M211.1478,-50.1459C221.3669,-50.1459 234.7829,-50.1459 248.3955,-50.1459\"/>\n<polygon fill=\"#000000\" stroke=\"#000000\" points=\"248.7938,-53.646 258.7937,-50.1459 248.7937,-46.646 248.7938,-53.646\"/>\n<text text-anchor=\"middle\" x=\"235\" y=\"-53.9459\" font-family=\"Times,serif\" font-size=\"14.00\" fill=\"#000000\">1 </text>\n</g>\n<!-- I&#45;&gt;A -->\n<g id=\"edge2\" class=\"edge\">\n<title>I&#45;&gt;A</title>\n<path fill=\"none\" stroke=\"#000000\" d=\"M127.2267,-50.1459C138.1242,-50.1459 152.2054,-50.1459 164.5413,-50.1459\"/>\n<polygon fill=\"#000000\" stroke=\"#000000\" points=\"164.8089,-53.646 174.8088,-50.1459 164.8088,-46.646 164.8089,-53.646\"/>\n<text text-anchor=\"middle\" x=\"151\" y=\"-53.9459\" font-family=\"Times,serif\" font-size=\"14.00\" fill=\"#000000\">0 </text>\n</g>\n<!-- f_B_C_F&#45;&gt;f_B_C_F -->\n<g id=\"edge4\" class=\"edge\">\n<title>f_B_C_F&#45;&gt;f_B_C_F</title>\n<path fill=\"none\" stroke=\"#000000\" d=\"M295.5453,-98.5343C296.6631,-109.9039 301.1967,-118.2918 309.1459,-118.2918 314.4868,-118.2918 318.2858,-114.5054 320.5429,-108.5722\"/>\n<polygon fill=\"#000000\" stroke=\"#000000\" points=\"324.0208,-109.0523 322.7465,-98.5343 317.1836,-107.5512 324.0208,-109.0523\"/>\n<text text-anchor=\"middle\" x=\"309.1459\" y=\"-137.0918\" font-family=\"Times,serif\" font-size=\"14.00\" fill=\"#000000\">1 </text>\n<text text-anchor=\"middle\" x=\"309.1459\" y=\"-122.0918\" font-family=\"Times,serif\" font-size=\"14.00\" fill=\"#000000\"> 0 </text>\n</g>\n</g>\n</svg>\n"
          },
          "metadata": {},
          "execution_count": 61
        }
      ]
    },
    {
      "cell_type": "code",
      "metadata": {
        "id": "PnD7E6ej-9aE"
      },
      "source": [
        "min_DFA_jove = min_dfa(nfa2dfa(NFA_given))"
      ],
      "execution_count": 62,
      "outputs": []
    },
    {
      "cell_type": "code",
      "metadata": {
        "id": "6KE39e1d-9aE",
        "outputId": "5a23edf0-a5aa-49a8-94b0-9fccdbeabf9e",
        "colab": {
          "base_uri": "https://localhost:8080/",
          "height": 209
        }
      },
      "source": [
        "dotObj_dfa(min_DFA_jove, FuseEdges=True)"
      ],
      "execution_count": 63,
      "outputs": [
        {
          "output_type": "execute_result",
          "data": {
            "text/plain": [
              "<graphviz.dot.Digraph at 0x7f521a809d50>"
            ],
            "image/svg+xml": "<?xml version=\"1.0\" encoding=\"UTF-8\" standalone=\"no\"?>\n<!DOCTYPE svg PUBLIC \"-//W3C//DTD SVG 1.1//EN\"\n \"http://www.w3.org/Graphics/SVG/1.1/DTD/svg11.dtd\">\n<!-- Generated by graphviz version 2.40.1 (20161225.0304)\n -->\n<!-- Title: %3 Pages: 1 -->\n<svg width=\"352pt\" height=\"141pt\"\n viewBox=\"0.00 0.00 351.69 140.69\" xmlns=\"http://www.w3.org/2000/svg\" xmlns:xlink=\"http://www.w3.org/1999/xlink\">\n<g id=\"graph0\" class=\"graph\" transform=\"scale(1 1) rotate(0) translate(4 136.6932)\">\n<title>%3</title>\n<polygon fill=\"#ffffff\" stroke=\"transparent\" points=\"-4,4 -4,-136.6932 347.6932,-136.6932 347.6932,4 -4,4\"/>\n<!-- EMPTY -->\n<g id=\"node1\" class=\"node\">\n<title>EMPTY</title>\n</g>\n<!-- I -->\n<g id=\"node2\" class=\"node\">\n<title>I</title>\n<ellipse fill=\"none\" stroke=\"#000000\" cx=\"109\" cy=\"-42.3466\" rx=\"18\" ry=\"18\"/>\n<text text-anchor=\"middle\" x=\"109\" y=\"-38.6466\" font-family=\"Times,serif\" font-size=\"14.00\" fill=\"#000000\">I</text>\n</g>\n<!-- EMPTY&#45;&gt;I -->\n<g id=\"edge1\" class=\"edge\">\n<title>EMPTY&#45;&gt;I</title>\n<path fill=\"none\" stroke=\"#000000\" d=\"M54.3048,-42.3466C62.6909,-42.3466 71.9407,-42.3466 80.4103,-42.3466\"/>\n<polygon fill=\"#000000\" stroke=\"#000000\" points=\"80.5976,-45.8467 90.5976,-42.3466 80.5976,-38.8467 80.5976,-45.8467\"/>\n</g>\n<!-- A -->\n<g id=\"node3\" class=\"node\">\n<title>A</title>\n<ellipse fill=\"none\" stroke=\"#000000\" cx=\"193\" cy=\"-42.3466\" rx=\"18\" ry=\"18\"/>\n<text text-anchor=\"middle\" x=\"193\" y=\"-38.6466\" font-family=\"Times,serif\" font-size=\"14.00\" fill=\"#000000\">A</text>\n</g>\n<!-- I&#45;&gt;A -->\n<g id=\"edge2\" class=\"edge\">\n<title>I&#45;&gt;A</title>\n<path fill=\"none\" stroke=\"#000000\" d=\"M127.2267,-42.3466C138.1242,-42.3466 152.2054,-42.3466 164.5413,-42.3466\"/>\n<polygon fill=\"#000000\" stroke=\"#000000\" points=\"164.8089,-45.8467 174.8088,-42.3466 164.8088,-38.8467 164.8089,-45.8467\"/>\n<text text-anchor=\"middle\" x=\"151\" y=\"-46.1466\" font-family=\"Times,serif\" font-size=\"14.00\" fill=\"#000000\">0 </text>\n</g>\n<!-- B_C_F -->\n<g id=\"node4\" class=\"node\">\n<title>B_C_F</title>\n<ellipse fill=\"none\" stroke=\"#000000\" cx=\"301.3466\" cy=\"-42.3466\" rx=\"38.2082\" ry=\"38.2082\"/>\n<ellipse fill=\"none\" stroke=\"#000000\" cx=\"301.3466\" cy=\"-42.3466\" rx=\"42.1937\" ry=\"42.1937\"/>\n<text text-anchor=\"middle\" x=\"301.3466\" y=\"-38.6466\" font-family=\"Times,serif\" font-size=\"14.00\" fill=\"#000000\">B_C_F</text>\n</g>\n<!-- A&#45;&gt;B_C_F -->\n<g id=\"edge3\" class=\"edge\">\n<title>A&#45;&gt;B_C_F</title>\n<path fill=\"none\" stroke=\"#000000\" d=\"M211.3795,-42.3466C221.7715,-42.3466 235.3442,-42.3466 248.7845,-42.3466\"/>\n<polygon fill=\"#000000\" stroke=\"#000000\" points=\"248.9818,-45.8467 258.9818,-42.3466 248.9817,-38.8467 248.9818,-45.8467\"/>\n<text text-anchor=\"middle\" x=\"235\" y=\"-46.1466\" font-family=\"Times,serif\" font-size=\"14.00\" fill=\"#000000\">1 </text>\n</g>\n<!-- B_C_F&#45;&gt;B_C_F -->\n<g id=\"edge4\" class=\"edge\">\n<title>B_C_F&#45;&gt;B_C_F</title>\n<path fill=\"none\" stroke=\"#000000\" d=\"M289.0471,-82.9602C289.6413,-94.1456 293.7411,-102.6932 301.3466,-102.6932 306.4565,-102.6932 309.9839,-98.8347 311.9289,-92.91\"/>\n<polygon fill=\"#000000\" stroke=\"#000000\" points=\"315.3943,-93.4098 313.6461,-82.9602 308.4962,-92.2192 315.3943,-93.4098\"/>\n<text text-anchor=\"middle\" x=\"301.3466\" y=\"-121.4932\" font-family=\"Times,serif\" font-size=\"14.00\" fill=\"#000000\">1 </text>\n<text text-anchor=\"middle\" x=\"301.3466\" y=\"-106.4932\" font-family=\"Times,serif\" font-size=\"14.00\" fill=\"#000000\"> 0 </text>\n</g>\n</g>\n</svg>\n"
          },
          "metadata": {},
          "execution_count": 63
        }
      ]
    },
    {
      "cell_type": "markdown",
      "metadata": {
        "id": "gPYXUuUD-9aF"
      },
      "source": [
        "# Question 4c (10%) : Check that the hand-conversion and automated conversion agree"
      ]
    },
    {
      "cell_type": "code",
      "metadata": {
        "id": "SYvgKXdN-9aF",
        "outputId": "990d8c12-8ea8-4aea-a7c3-172145f14ac5",
        "colab": {
          "base_uri": "https://localhost:8080/"
        }
      },
      "source": [
        "iso_dfa(min_DFA_hand, min_DFA_jove)"
      ],
      "execution_count": 64,
      "outputs": [
        {
          "output_type": "execute_result",
          "data": {
            "text/plain": [
              "True"
            ]
          },
          "metadata": {},
          "execution_count": 64
        }
      ]
    },
    {
      "cell_type": "markdown",
      "metadata": {
        "id": "VzFmxMnQ-9aF"
      },
      "source": [
        "## Your conclusion based on the result of the iso_dfa check must be noted below"
      ]
    },
    {
      "cell_type": "markdown",
      "metadata": {
        "id": "QwOd___F-9aF"
      },
      "source": [
        "\"Based on the result of the call to iso_dfa to compare the minimized forms of DFA_hand and DFA_jove to see if they are indeed isomorphic, they in fact are as the function returned True.\""
      ]
    },
    {
      "cell_type": "markdown",
      "metadata": {
        "id": "V9nRzOHS1Fax"
      },
      "source": [
        "# END\n"
      ]
    }
  ]
}