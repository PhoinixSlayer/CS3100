{
  "nbformat": 4,
  "nbformat_minor": 0,
  "metadata": {
    "colab": {
      "name": "u1234567_asg7_Prob1234.ipynb",
      "provenance": []
    },
    "kernelspec": {
      "display_name": "Python 3",
      "language": "python",
      "name": "python3"
    },
    "language_info": {
      "codemirror_mode": {
        "name": "ipython",
        "version": 3
      },
      "file_extension": ".py",
      "mimetype": "text/x-python",
      "name": "python",
      "nbconvert_exporter": "python",
      "pygments_lexer": "ipython3",
      "version": "3.7.3"
    },
    "toc": {
      "colors": {
        "hover_highlight": "#DAA520",
        "running_highlight": "#FF0000",
        "selected_highlight": "#FFD700"
      },
      "moveMenuLeft": true,
      "nav_menu": {
        "height": "121px",
        "width": "252px"
      },
      "navigate_menu": true,
      "number_sections": true,
      "sideBar": true,
      "threshold": 4,
      "toc_cell": false,
      "toc_section_display": "block",
      "toc_window_display": false,
      "widenNotebook": false
    }
  },
  "cells": [
    {
      "cell_type": "markdown",
      "metadata": {
        "id": "U8MukhkMCJxW"
      },
      "source": [
        "# Question 1 (25 points, split as follows):  Contains some practice that you do for your own learning towards MT-2 and then more work that will be graded. Please read on.\n",
        "\n",
        "Go to the directory 13_Linearity_Amb/, and look at the Jove notebook CH11_Linearity_Ambiguity.ipynb. Run it.\n",
        "\n",
        "* The first thing you will be running is a segment that illustrates \"A CFG with purely right-linear productions is equivalent to an NFA.\"\n",
        "\n",
        "* At or near cell 4, you'll be asked to write RE_for_this_nfa = ... . Please write this RE for your own edification.\n",
        "\n",
        "* Do the iso_dfa check. Move on\n",
        "\n",
        "* Run nfa_if_sndlast_then_1 = md2mc ... . This is the same NFA that is cast in a form where we can obtain a CFG for it\n",
        "\n",
        "* Then you'll run pda_if_sndlast_then_1 = ... . This is the PDA derived from this NFA. Make sure you understand this PDA.\n",
        "\n",
        "* The explore_pda commands essentially run this PDA whose behavior matches that of the NFA.\n",
        "\n",
        "* We now teach you how to reverse a CFG, under pda_rev\n",
        "\n",
        "* Now you'll explore this PDA ... thus recognizing the reverse of the original NFA's strings\n",
        "\n",
        "* Then pause at reversed PDA works but needs STKMAX=9\n",
        "\n",
        "* Then you will see that a string that ought to be rejected is rejected, even if we give a stack of 12.\n",
        "\n",
        "* WHY DID WE NEED A STKMAX=9 ? Let's solve the mystery by animating the PDA. This will be super-cool! For this, run the cell AnimatePDA(pda_rev, FuseEdges=True). Give the string 0101001 and STKMAX=9 (by using the slider that increases the stack size to 9). Now hit the play button i.e. \"|>\" and see the animation!"
      ]
    },
    {
      "cell_type": "markdown",
      "metadata": {
        "id": "eF9vl0NHzNrP"
      },
      "source": [
        "## Question 1(a) (5 points): Why did you require a stack size of 9? Does this value relate to the length of the string? What stack size is needed for an accepting string of length 12?"
      ]
    },
    {
      "cell_type": "markdown",
      "metadata": {
        "id": "xX6nCiNAzNrQ"
      },
      "source": [
        "# ==> STUDENT ANSWER : Replace !!!! when mentioned with your answer! <==\n",
        "\n",
        "* I observed during the animation that the stack contained THIS (reading top to bottom) : S#\n",
        "\n",
        "* Then the stack contained THIS (reading top to bottom)\n",
        "\n",
        "- answer : T#\n",
        "\n",
        "* Then the stack contained THIS\n",
        "\n",
        "- answer : T1#\n",
        "\n",
        "* This went on till the stack contained THIS\n",
        "\n",
        "- answer : T01001#\n",
        "\n",
        "* Then the stack did THIS\n",
        "\n",
        "- answer : U101001#\n",
        "\n",
        "* Then the stack did THIS\n",
        "\n",
        "- answer : G0101001#\n",
        "\n",
        "* This whole occurred because the grammar is now LEFT-LINEAR / RIGHT-LINEAR\n",
        "\n",
        "- answer : After this, the entire string had been read and placed on the stack on top of the # it started with, with G capping of the entire thing. After this, because there was nothing left to read, the reversed pda started taking things off of the stack, and after it had taken everything off, it accepted the string by transitioning to the F state.\n",
        "\n",
        "* If the input were an accepted input of length \"n\", the stack would have grown to O(n) / O(n^2) / OTHER\n",
        "\n",
        "- answer : It would have grown to a length of O(n), or more specifically, a length of O(n+2). This is because, after running any string through the reversed pda, the stack starts as '#', then the entire string is placed on the stack, along with one more character representing the state. This causes the final, maximum stack to appear as '-n#', where the state identifier is on top, then the string as if it were rotated 90 degrees, then #. In other words, the reversed pda begins by placing the entire string on the stack with the name of one of the states, which means the stack size will always grow to a height of n+2 when allowed to. \n",
        "\n",
        " - To answer this question part at the top, the stack size needed to be 9 because the stack had to be large enough to store the entire string, the stack base $, and the state name G. Because the size of this string was n=7, this meant the stack had to be of size n+2=7+2=9 or higher, as if it were lower the stack wouldn't be able to grow large enough and it wouldn't be able to use the entire string, which causes it to fail and be unaccepted.\n",
        " For a string of size 12, the stack would need to be a minimum of size 14."
      ]
    },
    {
      "cell_type": "markdown",
      "metadata": {
        "id": "1aZQ2ILNzNrR"
      },
      "source": [
        "## Question 1(b) (5 points):  Now in the territory of inherently ambiguous languages. Do these problems.\n",
        "\n",
        "* Run explore_pda('abc', pda_inh_amb)\n",
        "\n",
        "* Then AnimatePDA(pda_inh_amb, FuseEdges=True) for the string ```aaabbbccc```\n",
        "\n",
        "* When you click Animate, there are two Path: options in a pull down\n",
        "\n",
        "* Animate Path 1 (default)\n",
        "\n",
        "* Animate Path 2 (default)\n",
        "\n",
        "* Answer this question below"
      ]
    },
    {
      "cell_type": "markdown",
      "metadata": {
        "id": "s4E_2CoGzNrS"
      },
      "source": [
        "# ==> STUDENT ANSWER <==\n",
        "\n",
        "* When I animated Path 2, I found that THIS matched with THIS\n",
        "* CLARIFICATION: THIS input symbol matched THIS stack-top. Then THIS input symbol matched THIS stack-top,... etc. till all the input was consumed.\n",
        "\n",
        "- answer :   First it progressed until the stack looked like 'S#'. Then the stack changed to look like 'AN#' when the S was processed. Then the first 'a' matched with 'A' and the stack changed to look like this 'aAN#'.\n",
        "\n",
        " Next, the second 'a' was matched with 'A' after the first was removed.  Then the third 'a' matched with 'A' after the second was removed.\n",
        "\n",
        " Afterwards the stack progressed until it looked like 'N#'. Then the first 'b' was matched with N and the stack changed to look like 'bNc#'.\n",
        " The next 'b' matched with 'N' after the first was removed, and the stack was updated to look like 'bNcc#'.\n",
        " Then the next b matched with 'N' again after the first was removed, and the stack looked like 'bNccc#' afterwards.\n",
        "\n",
        " After the 'b' was removed, and when the first 'c' was processed the N was removed, and then the c that started this matching, resulting in the stack 'cc#'.\n",
        " Then the second 'c' was processed and matched with 'c', resulting in its removal and a stack appearing as 'c#'. \n",
        " Then the third 'c' was processed and matched with 'c' and the stack appeared as '#'.\n",
        "\n",
        "* This was evidenced by the stack finally containing THIS piece of the input string that was finally moved over\n",
        "\n",
        "- answer :   After what I described above, due to all of the input having been processed and nothing remaining on the stack except for the #, the machine then transitioned to the F state as there was nothing blocking its progress."
      ]
    },
    {
      "cell_type": "markdown",
      "metadata": {
        "id": "yIMVJLOzzNrS"
      },
      "source": [
        "## Question 1(c) (15 points - graded by a general inspection of your answers against the answer prompts in the STUDENT ANSWER fields): We will now make the md2mc parser \"chatty\". \n",
        "\n",
        "* Around Cell 26, you do the import ```from jove.Def_md2mc_chatty import *```\n",
        "\n",
        "* You'll now watch how ```pda_inh_amb = md2mc(....something....)``` processes the md2mc call\n",
        "\n",
        "* You will see printed messages ```Got a Jove markdown comment```, ```Parsed one line...```, etc.\n",
        "\n",
        "* Locate the source file Jove/jove/Def_md2mc_chatty.py . A good way to locate and read through this file is to go to the URL ```github.com/ganeshutah/Jove/tree/master/jove/Def_md2mc_chatty.py```. This will show the contents of this Python file in your browser. Then search for these printed message text items. For instance, ```Got a Jove markdown comment``` is in this line that defines the ```t_COMMENT``` function:  ``` def t_COMMENT(t):```\n",
        "\n",
        "\n"
      ]
    },
    {
      "cell_type": "markdown",
      "metadata": {
        "id": "KO2oPgRczNrT"
      },
      "source": [
        "# ==> STUDENT ANSWER <==\n",
        "\n",
        "* I now see that Jove's comments starting with !! are handled by Jove's LEXER / PARSER. The function name is this:\n",
        "\n",
        "- answer :  t_COMMENT(t)\n",
        "\n",
        "* I see that even multiple newlines in a sequence are a single token recognized by the lexer!! The RE is any number of newlines. The definition is in t_NEWLINE. The RE is this:\n",
        "\n",
        "- answer : The code I'm pretty sure is used to represent this is r'\\n+'. To me the r indicates that it is an RE, and inside the statement the + is interchangeable with a *, and is supposed to represent any amount from 0 to Infinity.\n",
        "\n",
        "* I see that comments are defined by this RE and this means the following in English\n",
        "\n",
        "- answer : I'm pretty sure that this is the statement r'\\!\\!.*'.  This means 'an exclamation point folowed by another exclamation point and then any number of any and all characters.'"
      ]
    },
    {
      "cell_type": "markdown",
      "metadata": {
        "id": "4pp0mwvVHl7G"
      },
      "source": [
        "* There are about 17 grammar rules against the p_functions.  \n",
        "\n",
        "* Describe the rules in short sentences. At least the prompted ones below. PLUS two more of your choosing (called \"extras\" below)\n",
        " \n",
        "```\n",
        "MODEL ANSWER:  \n",
        "\n",
        "\n",
        "def p_you_are_hosed(t):\n",
        "    '''md : error'''\n",
        "    --> THE STUDENT WRITES <-- \n",
        "    \"This rule does error-handling\"\n",
        "    \n",
        "\n",
        "def_p_one_line(t):\n",
        "    \"This rule handles what one line contains. Note that one line is a state followed by a COLON\n",
        "     followed by labels and ARROW and then states. This handles a DFA's transition, an NFA's transition,\n",
        "     a PDA's transition, and a TM's transition. The difference is in how '''labels''' and other things\n",
        "     differ across machines.\"\n",
        "    \n",
        "...OTHERS REQUESTED BELOW MUST BE FILLED BY YOU AS PART OF YOUR ANSWER BELOW !!...\n",
        "\n",
        "...For p_one_label3, you must indicate whether this is recognizing a PDA or an NFA or a DFA transition ...\n",
        " \n",
        "... Write the CFG production involved in the usual CFG production syntax such as  A --> a A . Use any such writing style ... \n"
      ]
    },
    {
      "cell_type": "markdown",
      "metadata": {
        "id": "A_iAjlb9K_5c"
      },
      "source": [
        "# ==> STUDENT ANSWER <==\n",
        "\n",
        "* p_labels2 does this (write in some detail - 2-3 lines):\n",
        "\n",
        "- answer: This method is used to take a single line of input for a machine and separate it into indivual state changes. For instance, it would take S: 0 | 1 -> A and split it into S : 0 -> A and S : 1 -> A. \n",
        "\n",
        "\n",
        "* p_one_label3 does this (write in some detail - 2-3 lines):\n",
        "\n",
        "- answer: This method parses a inputted label and converts it into appropriate transitions. Namely, it takes a line and converts it into the states it describes in the machine.\n",
        " \n",
        " This method recognizes transitions for a PDA, as its lines have the order: label : a,b; c->S (all letters are placeholders used to retain format)\n",
        "                \n",
        "* p_state2 does this (write in some detail - 2-3 lines):\n",
        "\n",
        "- answer: !!!!  \n",
        "\n",
        "* I CHOSE THIS RULE as my required extras\n",
        "\n",
        "- answer: THIS RULE DOES THIS\n",
        "\n",
        "* I CHOSE THIS RULE as my required extras\n",
        "\n",
        "- answer: THIS RULE DOES THIS"
      ]
    },
    {
      "cell_type": "markdown",
      "metadata": {
        "id": "ImDA0-IbNIPf"
      },
      "source": [
        "# Question 2 (25 points):\n",
        "\n",
        "## File 14_Calculator/Calculator_For_Asg7.ipynb contains a calculator \n",
        "\n",
        "# ==> Submit the modified Calculator_For_Asg7.ipynb when you upload, along with the main Jove file containing the assignment <==\n",
        "\n",
        "* where we wish to add the SUCC (successor) operator. \n",
        "\n",
        "* Note that the calculator prompt loop that you get is exited with an “END” (else it throws an error); then you can come to later cells in this notebook. \n",
        "\n",
        "* This calculator code nearly works, but it throws an error on things like !5. \n",
        "\n",
        "* Note that !5 is used to encode \"successor of 5\" and not \"factorial 5\". Reasons for this choice: I used up too many symbols in my parser!\n",
        "\n",
        "* Right now, this calculator basically ignores ! (maybe issues an error like ```Illegal character``` which the user may not see) and moves on, which is dangerous (for the intended meaning). \n",
        "\n"
      ]
    },
    {
      "cell_type": "markdown",
      "metadata": {
        "id": "oUafWCSONRhV"
      },
      "source": [
        "## Question 2(a) (9 points): I’ve asked you (near the “<==” arrows) to add additional code. \n",
        "\n",
        "* Now locate this markdown which says \"If you implemented SUCC correctly, the expression below will work without errors.\"\n",
        "\n",
        "* and make sure that the calculation below does indeed work without errors:\n",
        "\n",
        "*  ```calcparser.parse(\"3 * !!3 + !!3 * !!!3\", lexer=calclexer)```\n",
        "\n",
        "* Your answer: List all the changes you made to the code and details, including tokenization (how the SUCC token is generated), associativity, precedence with respect to unary negation, and semantics-handling. Then confirm that the handling of SUCC works."
      ]
    },
    {
      "cell_type": "markdown",
      "metadata": {
        "id": "dvSiJ_KzNsvj"
      },
      "source": [
        "## Question 2(b) (16 points)\n",
        "\n",
        "* For the test strings test_strings = ``` [’2+3’, ’2+!-3’, ’3 + 3 * -!!3 + !3 * !!!-3’, ’x=3’, ’y=4’, ’z=x+y’, ’z’, ’z=x+!y’, ’z’] ```, obtain the actual output generated by your code. Justify all the calculations that occured.\n"
      ]
    },
    {
      "cell_type": "markdown",
      "metadata": {
        "id": "HrsuDQ3_ycDK"
      },
      "source": [
        "# ==> STUDENT ANSWER <===\n",
        "\n",
        "\n",
        "\n",
        "* Prompt: Expression result FOR  ```calcparser.parse(\"3 * !!3 + !!3 * !!!3\", lexer=calclexer)```\n",
        "  - answer:  The result outputted by my modified calculater is 45.\n",
        "  \n",
        "* Prompt: Tokenization, i.e. what token-stream was generated? \n",
        "* CLARIFICATION ADDED: Specifically, list the tokens generated by this input one after the other. This is the \"string\" that the parser sees.\n",
        "  - Answer: ``` added .... token ``` Simplified, the tokens are;\n",
        "  - (3 * !(!3) + !(!3) * !(!(!3))) ->\n",
        "  - (3 * !4 + !4 * !(!4)) -> (3 * 5 + 5 * !5) ->\n",
        "  - (15 + 5 * 6) -> (15 + 30) -->\n",
        "  - 45, which is the final result\n",
        "  \n",
        "* Precedence for SUCC IS the highest / lowest / in-between\n",
        "\n",
        "  - Answer: ``` one phrase ```  Highest, because the successor of the subexpression needs to be calculated before any other operations take place, like addition or multiplication.\n",
        "  \n",
        "* Associativity for SUCC is right / left\n",
        "\n",
        "  - Answer: ``` one phrase ```  Right, because the successor operator ! applies to the subexpression to the right of itself.\n",
        "  \n",
        "* Semantics of SUCC is this -- it adds / subtracts / takes log of\n",
        "\n",
        "  - Answer: ```one sentence ``` It adds 1 to the subexpression right of itself that is most applicable, for instance !!3 turns to !4 because the ! adjacent to the 3 was applied to it resulting in 3+1, and the next subexpression !4 gives 5, because the ! applies to things other than itself.\n",
        "\n",
        "The test_strings and their results below\n",
        "\n",
        "```\n",
        "\n",
        "test_strings = ['2+3', '2+!-3', '3 + 3 * -!!3 + !3 * !!!-3', 'x=3', 'y=4', 'z=x+y', 'z', 'z=x+!y', 'z']\n",
        "\n",
        "```\n",
        "\n",
        "** ANSWER OUTPUT AND REASON FOR EACH PRINTOUT **\n",
        "\n",
        "The output from my solution was 5, 0, -12, 7 then 8, each on a separate line. I will explain more properly below.\n",
        "\n",
        "# IMITATE THE MODEL ANSWER FOR 0 in filling your answers below\n",
        "\n",
        "* FIRST ANSWER is 5 because it is 2 + 3\n",
        "\n",
        "* SECOND ANSWER is 0 because\n",
        "\n",
        " - It gets parsed as \n",
        " - (2 + !(-3)) which is \n",
        " - (2 + -2) which is \n",
        " - 0\n",
        "\n",
        "* THIRD ANSWER is -12 because:\n",
        " - It gets parsed as\n",
        " - (3 + 3 * (-(!(!3))) + (!(!3)) * (!(!(!(-3))))) then to\n",
        " - (3 + 3 * (-(!4)) + (!4) * (!(!(-2)))) then to\n",
        " - (3 + 3 * (-5) + 5 * (!(-1))) then to\n",
        " - (3 + (-15) + 5 * 0) then to\n",
        " - (3 - 15 + 0) which is\n",
        " - -12\n",
        "\n",
        "* FOURTH + FIFTH (both are put in a register and read out of register) \n",
        "\n",
        "* SIXTH ANSWER is 7 because: \n",
        " - z = (x + y) goes to\n",
        " - z = (3 + 4) which is\n",
        " - z = 7, which is then put into a register named z, which is then called and printed\n",
        "\n",
        "* PUT z = x+!y in a register and print z gives 8 \n",
        " - z = (x + !(y)) goes to\n",
        " - z = (3 + !(4)) after the named registers are read, which goes to\n",
        " - z = (3 + 5) which goes to\n",
        " - z = 8, which is stored in register named z which is then called and printed\n",
        "\n",
        "```"
      ]
    },
    {
      "cell_type": "markdown",
      "metadata": {
        "id": "mP3WOgK0zNrX"
      },
      "source": [
        "# Question 3 (25 Points)\n",
        "\n",
        "## Do 11.9.1, 3(b,c), Page 157 (the “prove that” part). Write the PL steps in neat bulletted steps.\n",
        "\n",
        "* CFG rules for 3(b) are:\n",
        " - ... !!!! S -> ...\n",
        " - ... !!!!  \n",
        " - ... !!!!  \n",
        "\n",
        " \n",
        "* PROOF of the intersection not being CF is this\n",
        "\n",
        "- ... !!!!  \n",
        "\n",
        "- ... !!!! many lines, clear steps"
      ]
    },
    {
      "cell_type": "markdown",
      "metadata": {
        "id": "s0YImcnxzNrY"
      },
      "source": [
        "# Question 4 (25 Points)\n",
        "\n",
        "## Do Problem 4 of Page 159. Write your answer in neat bulletted steps.\n",
        "\n",
        "* ... !!!!  \n",
        "\n",
        "* ... !!!!  many lines, clear steps"
      ]
    },
    {
      "cell_type": "markdown",
      "metadata": {
        "id": "h0nqiFD7ycDM"
      },
      "source": [
        "# END\n"
      ]
    }
  ]
}