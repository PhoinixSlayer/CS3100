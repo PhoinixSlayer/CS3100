{
  "nbformat": 4,
  "nbformat_minor": 0,
  "metadata": {
    "colab": {
      "name": "u0000000_asg01.ipynb",
      "provenance": [],
      "collapsed_sections": []
    },
    "kernelspec": {
      "display_name": "Python 3",
      "language": "python",
      "name": "python3"
    },
    "language_info": {
      "codemirror_mode": {
        "name": "ipython",
        "version": 3
      },
      "file_extension": ".py",
      "mimetype": "text/x-python",
      "name": "python",
      "nbconvert_exporter": "python",
      "pygments_lexer": "ipython3",
      "version": "3.8.5"
    }
  },
  "cells": [
    {
      "cell_type": "markdown",
      "metadata": {
        "id": "gOJcNwa-9t-M"
      },
      "source": [
        "### BEFORE YOU SUBMIT THIS FILE, PLEASE RENAME THIS FILE BY REPLACING THE 0000000 IN THE FILE NAME WITH YOUR CORRECT UNID. KEEP THE \"u\" AT THE BEGINNING."
      ]
    },
    {
      "cell_type": "code",
      "metadata": {
        "id": "4F8Z5eEX98j1",
        "outputId": "11fcb9f5-59b5-4a34-977f-cd5adc1b1f3f",
        "colab": {
          "base_uri": "https://localhost:8080/"
        }
      },
      "source": [
        "#~~~~~~~~~~~~~~~~~~~~~~~~~~~~~~~~~~~~~~~~~~~~~~~~~~~~~~~\n",
        "import sys\n",
        "\n",
        "# -- Detect if in Own Install or in Colab\n",
        "try:\n",
        "    import google.colab\n",
        "    OWN_INSTALL = False\n",
        "except:\n",
        "    OWN_INSTALL = True\n",
        "    \n",
        "if OWN_INSTALL:\n",
        "    \n",
        "  #---- Leave these definitions ON if running on laptop\n",
        "  #---- Else turn OFF by putting them between ''' ... '''\n",
        "\n",
        "  sys.path[0:0] = ['../../../../..',  '../../../../../3rdparty',  \n",
        "                   '../../../..',  '../../../../3rdparty',  \n",
        "                   '../../..',     '../../../3rdparty', \n",
        "                   '../..',        '../../3rdparty',\n",
        "                   '..',           '../3rdparty' ]\n",
        "\n",
        "else: # In colab\n",
        "  ! if [ ! -d Jove ]; then git clone https://github.com/ganeshutah/Jove Jove; fi\n",
        "  sys.path.append('./Jove')\n",
        "  sys.path.append('./Jove/jove')\n",
        "\n",
        "# -- common imports --\n",
        "from jove.LangDef   import * #\n",
        "from jove.Def_md2mc  import * # -- to convert markdowns to machines\n",
        "from jove.DotBashers import * # -- to draw machines\n",
        "#~~~~~~~~~~~~~~~~~~~~~~~~~~~~~~~~~~~~~~~~~~~~~~~~~~~~~~~"
      ],
      "execution_count": 2,
      "outputs": [
        {
          "output_type": "stream",
          "text": [
            "You may use any of these help commands:\n",
            "help(md2mc)\n",
            ".. and if you want to dig more, then ..\n",
            "help(default_line_attr)\n",
            "help(length_ok_input_items)\n",
            "help(union_line_attr_list_fld)\n",
            "help(extend_rsltdict)\n",
            "help(form_delta)\n",
            "help(get_machine_components)\n",
            "\n",
            "You may use any of these help commands:\n",
            "help(ResetStNum)\n",
            "help(NxtStateStr)\n",
            "\n"
          ],
          "name": "stdout"
        }
      ]
    },
    {
      "cell_type": "markdown",
      "metadata": {
        "id": "UqyylUAu-NHk"
      },
      "source": [
        "# Question 1"
      ]
    },
    {
      "cell_type": "markdown",
      "metadata": {
        "id": "9AMcC5Fu-QZE"
      },
      "source": [
        "##Part a: Define the universe $\\Sigma_4^*$ for the $\\Sigma$ given below using a function defined in Jove. (Page 28-29 Textbook)"
      ]
    },
    {
      "cell_type": "code",
      "metadata": {
        "id": "gg7liBdM_LYu",
        "outputId": "259e71fd-cd4f-409e-f33d-d953faeea7c0",
        "colab": {
          "base_uri": "https://localhost:8080/"
        }
      },
      "source": [
        "from jove.LangDef   import * #\n",
        "\n",
        "def star(L,n):\n",
        "  return Unit() if n == 0 else lunion(exp(L,n),star(L,n-1))\n",
        "def exp(L,n):\n",
        "  return Unit() if n == 0 else cat(L, exp(L,n-1))\n",
        "def cat(L1,L2):\n",
        "  return set({x+y for x in L1 for y in L2})\n",
        "def Unit():\n",
        "  return {\"\"}\n",
        "\n",
        "Sigma = {'a', 'b', 'c'}\n",
        "\n",
        "Sigma_4_Star = star(Sigma, 4)  # -- \"Define Sigma_4_Star here\"\n",
        "for s in Sigma_4_Star:\n",
        "  print(s)"
      ],
      "execution_count": 16,
      "outputs": [
        {
          "output_type": "stream",
          "text": [
            "\n",
            "babc\n",
            "ab\n",
            "bba\n",
            "baca\n",
            "bacb\n",
            "bcca\n",
            "acbb\n",
            "bbcb\n",
            "bbbb\n",
            "bbcc\n",
            "ca\n",
            "ccbb\n",
            "aba\n",
            "abc\n",
            "bbaa\n",
            "cabb\n",
            "bcab\n",
            "cbcc\n",
            "acbc\n",
            "bbbc\n",
            "bcba\n",
            "abcc\n",
            "bcaa\n",
            "accc\n",
            "bcc\n",
            "cbab\n",
            "bbca\n",
            "aabb\n",
            "abca\n",
            "bbc\n",
            "b\n",
            "baaa\n",
            "ccb\n",
            "cab\n",
            "ac\n",
            "abaa\n",
            "caa\n",
            "caab\n",
            "caaa\n",
            "baac\n",
            "bbac\n",
            "cbb\n",
            "bab\n",
            "acac\n",
            "cccc\n",
            "aa\n",
            "aaaa\n",
            "aca\n",
            "aacc\n",
            "aabc\n",
            "accb\n",
            "acb\n",
            "abb\n",
            "ccbc\n",
            "abbb\n",
            "cacb\n",
            "bac\n",
            "ccaa\n",
            "ccac\n",
            "acab\n",
            "abcb\n",
            "cac\n",
            "caca\n",
            "c\n",
            "cbbb\n",
            "baa\n",
            "aaac\n",
            "bbba\n",
            "bcbb\n",
            "cbcb\n",
            "aaca\n",
            "caac\n",
            "a\n",
            "bca\n",
            "bbab\n",
            "cacc\n",
            "cba\n",
            "bacc\n",
            "cc\n",
            "bcb\n",
            "baba\n",
            "abba\n",
            "aaba\n",
            "bcbc\n",
            "bcac\n",
            "cca\n",
            "cbba\n",
            "acc\n",
            "ccba\n",
            "cbac\n",
            "aaab\n",
            "cccb\n",
            "ccab\n",
            "abab\n",
            "aaa\n",
            "acaa\n",
            "cbaa\n",
            "acba\n",
            "bc\n",
            "aac\n",
            "caba\n",
            "ba\n",
            "ccc\n",
            "cbc\n",
            "bb\n",
            "acca\n",
            "bccc\n",
            "cbbc\n",
            "cabc\n",
            "bbb\n",
            "bccb\n",
            "abbc\n",
            "babb\n",
            "ccca\n",
            "abac\n",
            "baab\n",
            "aacb\n",
            "aab\n",
            "cbca\n",
            "cb\n"
          ],
          "name": "stdout"
        }
      ]
    },
    {
      "cell_type": "markdown",
      "metadata": {
        "id": "5ouTH_z4_fz0"
      },
      "source": [
        "## Part b: Given two sets:\n",
        "\n",
        "* $A = \\{a, \\varepsilon , bc\\}$\n",
        "\n",
        "* $B = \\{a, \\varepsilon, bba, ca\\}$\n",
        "\n",
        "## Illustrate DeMorgan's law with respect to these specific instructions:\n",
        "\n",
        "* Let LHS = $\\overline{(A\\cup B)}$ and RHS = $\\overline{A} \\cap \\overline{B}$. By using Jove's functions, show that $\\overline{(A\\cup B)} = \\overline{A} \\cap \\overline{B}$."
      ]
    },
    {
      "cell_type": "code",
      "metadata": {
        "colab": {
          "base_uri": "https://localhost:8080/"
        },
        "id": "wFsWz-8VEGme",
        "outputId": "d1eb10e7-7dba-45ae-ee2e-69a9071143f7"
      },
      "source": [
        "#The Jove functions you need:\n",
        "help(lcomplem)\n",
        "help(lunion)\n",
        "help(lint)"
      ],
      "execution_count": 18,
      "outputs": [
        {
          "output_type": "stream",
          "text": [
            "Help on function lcomplem in module jove.LangDef:\n",
            "\n",
            "lcomplem(L, sigma, n)\n",
            "    In : L (language : set of strings)\n",
            "         sigma (alphabet : set of strings)\n",
            "         n (finite limit for lstar : int)\n",
            "    Out : sigma*_n - L (language : set of strings)\n",
            "    Example:\n",
            "    L = {'0', '10', '010'}\n",
            "    sigma = {'0', '1'}\n",
            "    n = 3\n",
            "    lcomplem(L4,{'0','1'}, 3) -> \n",
            "    {'', '000', '101', '011', '00', '1', \n",
            "     '001', '110', '111', '100', '01', '11'}\n",
            "\n",
            "Help on function lunion in module jove.LangDef:\n",
            "\n",
            "lunion(L1, L2)\n",
            "    In : L1 (language : a set),\n",
            "         L2 (language : a set).\n",
            "    Out: L1 union L2 (language : a set).\n",
            "\n",
            "Help on function lint in module jove.LangDef:\n",
            "\n",
            "lint(L1, L2)\n",
            "    In : L1 (language : set of strings)\n",
            "         L2 (language : set of strings)\n",
            "    Out: L1 intersection L2 (sets of strings)\n",
            "\n"
          ],
          "name": "stdout"
        }
      ]
    },
    {
      "cell_type": "code",
      "metadata": {
        "id": "B0UawXyGEl62"
      },
      "source": [
        "A = {'a', '' , 'bc'}\n",
        "\n",
        "B = {'a', '', 'bba', 'c'}\n",
        "\n",
        "AB = lunion(A,B)\n",
        "LHS = lcomplem(AB,{'','a','b','c'},3) # -- \"..DEFINE THE LHS..\"\n",
        "\n",
        "compA = lcomplem(A,{'','a','b','c'},3)\n",
        "compB = lcomplem(B,{'','a','b','c'},3)\n",
        "RHS = lint(compA,compB) # -- \"..DEFINE THE RHS..\""
      ],
      "execution_count": 21,
      "outputs": []
    },
    {
      "cell_type": "code",
      "metadata": {
        "colab": {
          "base_uri": "https://localhost:8080/"
        },
        "id": "RQqPynA6FFLl",
        "outputId": "2e9d2fca-3136-4093-8172-33d5e03c4354"
      },
      "source": [
        "# Now, perform LHS == RHS in Python and check if it is true\n",
        "\n",
        "LHS == RHS"
      ],
      "execution_count": 22,
      "outputs": [
        {
          "output_type": "execute_result",
          "data": {
            "text/plain": [
              "True"
            ]
          },
          "metadata": {},
          "execution_count": 22
        }
      ]
    },
    {
      "cell_type": "markdown",
      "metadata": {
        "id": "9VwisEcEFIuE"
      },
      "source": [
        "# Question 2\n"
      ]
    },
    {
      "cell_type": "markdown",
      "metadata": {
        "id": "lNgnnBNKF8oM"
      },
      "source": [
        "**Theorem:**\n",
        "The concatenation of any two languages $L_1$ and $L_2$ has smaller size than their cartesian product if and only if the intersection of those two languages has at least 2 elements and contains $\\varepsilon$.\n"
      ]
    },
    {
      "cell_type": "markdown",
      "metadata": {
        "id": "fFOhZ-kSOMh8"
      },
      "source": [
        "## Part a: Define two languages L1 and L2. L1 and L2 must both contain  ε. Then, run Code Cell 01 and get the result: \"cat and product have the same size\"."
      ]
    },
    {
      "cell_type": "code",
      "metadata": {
        "id": "VdBv80INOgz9"
      },
      "source": [
        "#Define L1 and L2 here\n",
        "L1 = {'','aa','ab'}\n",
        "L2 = {'','ca','d'}"
      ],
      "execution_count": 23,
      "outputs": []
    },
    {
      "cell_type": "code",
      "metadata": {
        "colab": {
          "base_uri": "https://localhost:8080/"
        },
        "id": "l6kOK6kcPhHd",
        "outputId": "fcd9513b-8c8d-4d03-d999-1463bb602aba"
      },
      "source": [
        "#Code Cell 01\n",
        "catL1L2 = lcat(L1,L2)\n",
        "lencatL1L2 = len(catL1L2)\n",
        "print(\"Cat of L1 and L2 is\", catL1L2, \" of size \", lencatL1L2)\n",
        "\n",
        "\n",
        "# Perform L1 and L2 intersection\n",
        "intL1L2 = lint(L1,L2)\n",
        "lenintL1L2 = len(intL1L2)\n",
        "print(\"Intersection of L1 and L2 is\", intL1L2, \" of size \", lenintL1L2)\n",
        "\n",
        "# Define the product of L1 and L2\n",
        "prodL1L2 = { (x,y) for x in L1 for y in L2 }\n",
        "lenprodL1L2 = len(prodL1L2)\n",
        "print(\"Product of L1 and L2 is\", prodL1L2, \" of size \", lenprodL1L2)\n",
        "\n",
        "if (lenprodL1L2 != lencatL1L2):\n",
        "    print(\" cat and product differ in size \")\n",
        "else:\n",
        "    print(\" cat and product have the same size \")"
      ],
      "execution_count": 24,
      "outputs": [
        {
          "output_type": "stream",
          "text": [
            "Cat of L1 and L2 is {'', 'abd', 'ab', 'aad', 'aaca', 'd', 'aa', 'ca', 'abca'}  of size  9\n",
            "Intersection of L1 and L2 is {''}  of size  1\n",
            "Product of L1 and L2 is {('', ''), ('', 'ca'), ('aa', 'ca'), ('ab', 'd'), ('ab', 'ca'), ('aa', 'd'), ('aa', ''), ('', 'd'), ('ab', '')}  of size  9\n",
            " cat and product have the same size \n"
          ],
          "name": "stdout"
        }
      ]
    },
    {
      "cell_type": "markdown",
      "metadata": {
        "id": "LFA6OH1dQW88"
      },
      "source": [
        "## Part b: Re-define L1 and L2. L1 and L2 must both contain  ε. Then, run Code Cell 02 so that the result = \"cat and product differ in size\"."
      ]
    },
    {
      "cell_type": "code",
      "metadata": {
        "id": "JE69DJsyQoMz"
      },
      "source": [
        "#Re-define L1 and L2 here\n",
        "L1 = {'','a','b','ab'}\n",
        "L2 = {'','a','ba','bb'}"
      ],
      "execution_count": 25,
      "outputs": []
    },
    {
      "cell_type": "code",
      "metadata": {
        "id": "pr9-1zsqQrIU",
        "outputId": "9d6d9526-040f-42c9-f3ce-1f95c2e9babe",
        "colab": {
          "base_uri": "https://localhost:8080/"
        }
      },
      "source": [
        "#Code Cell 02\n",
        "catL1L2 = lcat(L1,L2)\n",
        "lencatL1L2 = len(catL1L2)\n",
        "print(\"Cat of L1 and L2 is\", catL1L2, \" of size \", lencatL1L2)\n",
        "\n",
        "\n",
        "# Perform L1 and L2 intersection\n",
        "intL1L2 = lint(L1,L2)\n",
        "lenintL1L2 = len(intL1L2)\n",
        "print(\"Intersection of L1 and L2 is\", intL1L2, \" of size \", lenintL1L2)\n",
        "\n",
        "# Define the product of L1 and L2\n",
        "prodL1L2 = { (x,y) for x in L1 for y in L2 }\n",
        "lenprodL1L2 = len(prodL1L2)\n",
        "print(\"Product of L1 and L2 is\", prodL1L2, \" of size \", lenprodL1L2)\n",
        "\n",
        "if (lenprodL1L2 != lencatL1L2):\n",
        "    print(\" cat and product differ in size \")\n",
        "else:\n",
        "    print(\" cat and product have the same size \")"
      ],
      "execution_count": 26,
      "outputs": [
        {
          "output_type": "stream",
          "text": [
            "Cat of L1 and L2 is {'', 'ba', 'b', 'aba', 'ab', 'bba', 'bb', 'abba', 'abbb', 'abb', 'a', 'bbb', 'aa'}  of size  13\n",
            "Intersection of L1 and L2 is {'', 'a'}  of size  2\n",
            "Product of L1 and L2 is {('', 'ba'), ('ab', 'bb'), ('', ''), ('a', 'a'), ('b', 'a'), ('', 'bb'), ('ab', 'a'), ('a', 'ba'), ('', 'a'), ('a', ''), ('b', 'bb'), ('b', ''), ('ab', 'ba'), ('b', 'ba'), ('a', 'bb'), ('ab', '')}  of size  16\n",
            " cat and product differ in size \n"
          ],
          "name": "stdout"
        }
      ]
    },
    {
      "cell_type": "markdown",
      "metadata": {
        "id": "0q4IxOI8R-Vs"
      },
      "source": [
        "# Question 3"
      ]
    },
    {
      "cell_type": "markdown",
      "metadata": {
        "id": "LYcZql5HU17V"
      },
      "source": [
        "## Consider this statement:  \n",
        "For any two languages $L_1$ and $L_2$, their intersection can never be the same as their concatenation if both languages are finite."
      ]
    },
    {
      "cell_type": "markdown",
      "metadata": {
        "id": "XC4TifENW2h0"
      },
      "source": [
        "## Now, define two languages where this claim is false."
      ]
    },
    {
      "cell_type": "code",
      "metadata": {
        "id": "zOnqyAzzZJNe",
        "outputId": "4dfd4993-63cb-4f80-9879-1bc28f6559a7",
        "colab": {
          "base_uri": "https://localhost:8080/"
        }
      },
      "source": [
        "# Define two FINITE languages\n",
        "L1 = {'','ab'}\n",
        "L2 = {'','ab'}\n",
        "# Perform their intersection\n",
        "intL1L2 = lint(L1,L2)\n",
        "\n",
        "# Perform their concatenation\n",
        "catL1L2 = lcat(L1,L2)\n",
        "\n",
        "# Compare the intersection and the concatenation\n",
        "print(\"intersection = \", intL1L2)\n",
        "print(\"concatenation = \", catL1L2)"
      ],
      "execution_count": 36,
      "outputs": [
        {
          "output_type": "stream",
          "text": [
            "intersection =  {'', 'ab'}\n",
            "concatenation =  {'', 'ab', 'abab'}\n"
          ],
          "name": "stdout"
        }
      ]
    },
    {
      "cell_type": "markdown",
      "metadata": {
        "id": "eTYZQbh8fy8d"
      },
      "source": [
        "# Question 4"
      ]
    },
    {
      "cell_type": "markdown",
      "metadata": {
        "id": "RPVfMhEampQ_"
      },
      "source": [
        "## Define a regular language using Python's set builder (set comprehension) syntax\n",
        "<font size=\"4\"> \n",
        "    \n",
        "Recall from Chapter-1 that sets of strings of the form \"any number of $a$'s followed by any number of $b$'s followed by any number of $c$'s are regular languages.\n",
        "\n",
        "* Here, for instance, is a regular language\n",
        "    \n",
        "    $$ \\{ a^i b^j c^k \\;:\\; i,j,k \\ge 0 \\}$$\n",
        "  \n",
        "\n",
        "**Task for you**:\n",
        "\n",
        "* Define this set in Python: $$ \\{ a^i b^j c^k \\;:\\; 0 \\le i,j,k \\le 4 \\}$$\n",
        "\n",
        "**IMPORTANT NOTE**: ALL finite sets are regular. Thus by truncating the set to a finite size, we always get a regular language. The purpose of truncation is ONLY to make sure that the printing stops. What we are really referring to as a regular language of interest is the mathematical language\n",
        "\n",
        "\n",
        "    \n",
        "    \n",
        "</font>  "
      ]
    },
    {
      "cell_type": "code",
      "metadata": {
        "id": "V96-pVokn7lN"
      },
      "source": [
        "# The above regular language truncated to a small size, below\n",
        "A_reg_Language = set({ 'a'^i+'b'^j+'c'^k : st i >= 0})\n",
        "\n",
        "# Print its contents\n",
        "A_reg_language"
      ],
      "execution_count": null,
      "outputs": []
    },
    {
      "cell_type": "markdown",
      "metadata": {
        "id": "vyf0eAkgqJFc"
      },
      "source": [
        "## Define a context-free language using Python's set builder (set comprehension) syntax\n",
        "\n",
        "<font size=\"4\"> \n",
        "    \n",
        "Recall from Chapter-1 that sets of strings of the form \"any number of $a$'s followed by the same number of $b$'s and $c$'s is context-free.\n",
        "    \n",
        "* Here, for instance, is a context-free language\n",
        "    \n",
        "    $$ \\{ a^i b^j c^j \\;:\\; i,j \\ge 0 \\}$$\n",
        "     \n",
        "\n",
        "**Task for you**:\n",
        "\n",
        "* Define the above set in Python, again limiting $i,j,k$ to be in $\\{0, \\ldots, 4\\}$.\n",
        "\n",
        "**IMPORTANT NOTE**: ALL finite sets are regular. Thus by truncating the set to a finite size, we always get a regular language. The purpose of truncation is ONLY to make sure that the printing stops. What we are really referring to as a **context-free language** of interest is the mathematical language\n",
        "\n",
        "   $$ \\{ a^i b^j c^j \\;:\\; i,j \\ge 0 \\}$$\n",
        "    \n",
        "    \n",
        "</font>  "
      ]
    },
    {
      "cell_type": "code",
      "metadata": {
        "id": "SKBecDclqMz6"
      },
      "source": [
        "# Your Python definition of a context-free language, below\n",
        "A_context_free_language = { ... set comprehension ... }\n",
        "\n",
        "# Print its contents\n",
        "A_context_free_language "
      ],
      "execution_count": null,
      "outputs": []
    },
    {
      "cell_type": "markdown",
      "metadata": {
        "id": "hQd6gsQNqWE0"
      },
      "source": [
        "## Define another context-free language  \n",
        "\n",
        "<font size=\"4\"> \n",
        "    \n",
        "In Chapter 4, we will study the Pumping Lemma to argue that this language is not context-free:\n",
        "    $$L_{if} = \\{ a^i b^j c^k  {\\rm if}\\ ( i = 2 )\\ {\\rm then}\\ (j=k) \\}$$\n",
        "    \n",
        "\n",
        "\n",
        "**Task for you**:\n",
        "\n",
        "* Define $L_{if}$ in Python. Limit $i,j,k$ to be in $\\{0, \\ldots, 4\\}$.\n",
        "* List all the strings where the condition $(i=2)$ is met. How many such strings are there?\n",
        "    \n",
        "**IMPORTANT NOTE**: ALL finite sets are regular. Thus by truncating the set to a finite size, we always get a regular language. The purpose of truncation is ONLY to make sure that the printing stops. What we are really referring to as a **context-free language** of interest is the mathematical language\n",
        "\n",
        "   \n",
        "  $$L_{if} = \\{ a^i b^j c^k \\;:\\; {\\rm if}\\; (i=2)\\; {\\rm then}\\; (j=k) \\}$$\n",
        "    \n",
        "    \n",
        "</font>  "
      ]
    },
    {
      "cell_type": "code",
      "metadata": {
        "id": "-rjjdrsLqYb8"
      },
      "source": [
        " \n",
        "# Your Python definition of the language Lif below\n",
        "Lif =  { .....python set-builder ..... }\n",
        "\n",
        "# print Lif\n",
        "\n",
        "Lif"
      ],
      "execution_count": null,
      "outputs": []
    },
    {
      "cell_type": "markdown",
      "metadata": {
        "id": "IiPeeqXhqaoc"
      },
      "source": [
        "## Number of strings where i = 2, and which are they?\n",
        "\n",
        "- Answer: \n",
        "\n",
        "## The strings where i = 2 is met are these:\n",
        "- Answer: \n",
        "\n",
        " "
      ]
    }
  ]
}