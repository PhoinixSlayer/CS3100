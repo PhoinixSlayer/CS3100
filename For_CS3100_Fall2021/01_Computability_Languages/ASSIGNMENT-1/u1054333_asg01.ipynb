{
  "nbformat": 4,
  "nbformat_minor": 0,
  "metadata": {
    "colab": {
      "name": "u0000000_asg01.ipynb",
      "provenance": [],
      "collapsed_sections": []
    },
    "kernelspec": {
      "display_name": "Python 3",
      "language": "python",
      "name": "python3"
    },
    "language_info": {
      "codemirror_mode": {
        "name": "ipython",
        "version": 3
      },
      "file_extension": ".py",
      "mimetype": "text/x-python",
      "name": "python",
      "nbconvert_exporter": "python",
      "pygments_lexer": "ipython3",
      "version": "3.8.5"
    }
  },
  "cells": [
    {
      "cell_type": "markdown",
      "metadata": {
        "id": "gOJcNwa-9t-M"
      },
      "source": [
        "### BEFORE YOU SUBMIT THIS FILE, PLEASE RENAME THIS FILE BY REPLACING THE 0000000 IN THE FILE NAME WITH YOUR CORRECT UNID. KEEP THE \"u\" AT THE BEGINNING."
      ]
    },
    {
      "cell_type": "code",
      "metadata": {
        "id": "4F8Z5eEX98j1"
      },
      "source": [
        "#~~~~~~~~~~~~~~~~~~~~~~~~~~~~~~~~~~~~~~~~~~~~~~~~~~~~~~~\n",
        "import sys\n",
        "\n",
        "# -- Detect if in Own Install or in Colab\n",
        "try:\n",
        "    import google.colab\n",
        "    OWN_INSTALL = False\n",
        "except:\n",
        "    OWN_INSTALL = True\n",
        "    \n",
        "if OWN_INSTALL:\n",
        "    \n",
        "  #---- Leave these definitions ON if running on laptop\n",
        "  #---- Else turn OFF by putting them between ''' ... '''\n",
        "\n",
        "  sys.path[0:0] = ['../../../../..',  '../../../../../3rdparty',  \n",
        "                   '../../../..',  '../../../../3rdparty',  \n",
        "                   '../../..',     '../../../3rdparty', \n",
        "                   '../..',        '../../3rdparty',\n",
        "                   '..',           '../3rdparty' ]\n",
        "\n",
        "else: # In colab\n",
        "  ! if [ ! -d Jove ]; then git clone https://github.com/ganeshutah/Jove Jove; fi\n",
        "  sys.path.append('./Jove')\n",
        "  sys.path.append('./Jove/jove')\n",
        "\n",
        "# -- common imports --\n",
        "from jove.LangDef   import * #\n",
        "from jove.Def_md2mc  import * # -- to convert markdowns to machines\n",
        "from jove.DotBashers import * # -- to draw machines\n",
        "#~~~~~~~~~~~~~~~~~~~~~~~~~~~~~~~~~~~~~~~~~~~~~~~~~~~~~~~"
      ],
      "execution_count": 4,
      "outputs": []
    },
    {
      "cell_type": "markdown",
      "metadata": {
        "id": "UqyylUAu-NHk"
      },
      "source": [
        "# Question 1"
      ]
    },
    {
      "cell_type": "markdown",
      "metadata": {
        "id": "9AMcC5Fu-QZE"
      },
      "source": [
        "##Part a: Define the universe $\\Sigma_4^*$ for the $\\Sigma$ given below using a function defined in Jove. (Page 28-29 Textbook)"
      ]
    },
    {
      "cell_type": "code",
      "metadata": {
        "id": "gg7liBdM_LYu",
        "colab": {
          "base_uri": "https://localhost:8080/"
        },
        "outputId": "59feff13-7ed9-4a3a-c6c0-26ad951962f8"
      },
      "source": [
        "from jove.LangDef   import * #\n",
        "\n",
        "def star(L,n):\n",
        "  return Unit() if n == 0 else lunion(exp(L,n),star(L,n-1))\n",
        "def exp(L,n):\n",
        "  return Unit() if n == 0 else cat(L, exp(L,n-1))\n",
        "def cat(L1,L2):\n",
        "  return set({x+y for x in L1 for y in L2})\n",
        "def Unit():\n",
        "  return {\"\"}\n",
        "\n",
        "Sigma = {'a', 'b', 'c'}\n",
        "\n",
        "Sigma_4_Star = star(Sigma, 4)  # -- \"Define Sigma_4_Star here\"\n",
        "for s in Sigma_4_Star:\n",
        "  print(s)"
      ],
      "execution_count": 5,
      "outputs": [
        {
          "output_type": "stream",
          "text": [
            "abbc\n",
            "ccca\n",
            "aabc\n",
            "abba\n",
            "acba\n",
            "\n",
            "cbbc\n",
            "baba\n",
            "aacc\n",
            "bba\n",
            "aaca\n",
            "aca\n",
            "bbc\n",
            "aba\n",
            "cba\n",
            "cab\n",
            "abbb\n",
            "abac\n",
            "bbcc\n",
            "bcaa\n",
            "bbbb\n",
            "aa\n",
            "abab\n",
            "baab\n",
            "baca\n",
            "acc\n",
            "accc\n",
            "bbca\n",
            "cbab\n",
            "caa\n",
            "cccc\n",
            "bc\n",
            "ab\n",
            "acab\n",
            "bcba\n",
            "ccbb\n",
            "ca\n",
            "abcc\n",
            "acac\n",
            "cbaa\n",
            "ccbc\n",
            "caab\n",
            "a\n",
            "aaba\n",
            "abb\n",
            "bca\n",
            "ccb\n",
            "aaab\n",
            "bbcb\n",
            "bbab\n",
            "acbb\n",
            "ccac\n",
            "bcbc\n",
            "c\n",
            "caac\n",
            "bbaa\n",
            "cbba\n",
            "cccb\n",
            "aac\n",
            "babb\n",
            "bcbb\n",
            "cacc\n",
            "cbbb\n",
            "cabc\n",
            "bccc\n",
            "cbcb\n",
            "ccaa\n",
            "ccab\n",
            "b\n",
            "ccc\n",
            "cbca\n",
            "bbb\n",
            "aaa\n",
            "acbc\n",
            "ba\n",
            "bccb\n",
            "baa\n",
            "ccba\n",
            "acb\n",
            "cc\n",
            "aaaa\n",
            "bab\n",
            "caba\n",
            "bbbc\n",
            "bbac\n",
            "cca\n",
            "abcb\n",
            "bcab\n",
            "bcb\n",
            "ac\n",
            "bacc\n",
            "abca\n",
            "bcc\n",
            "bcca\n",
            "cbc\n",
            "abc\n",
            "aacb\n",
            "caaa\n",
            "cabb\n",
            "cbcc\n",
            "cbac\n",
            "bacb\n",
            "cbb\n",
            "aabb\n",
            "acaa\n",
            "bb\n",
            "bbba\n",
            "babc\n",
            "acca\n",
            "baaa\n",
            "caca\n",
            "aab\n",
            "abaa\n",
            "cac\n",
            "accb\n",
            "aaac\n",
            "cb\n",
            "cacb\n",
            "baac\n",
            "bac\n",
            "bcac\n"
          ],
          "name": "stdout"
        }
      ]
    },
    {
      "cell_type": "markdown",
      "metadata": {
        "id": "5ouTH_z4_fz0"
      },
      "source": [
        "## Part b: Given two sets:\n",
        "\n",
        "* $A = \\{a, \\varepsilon , bc\\}$\n",
        "\n",
        "* $B = \\{a, \\varepsilon, bba, ca\\}$\n",
        "\n",
        "## Illustrate DeMorgan's law with respect to these specific instructions:\n",
        "\n",
        "* Let LHS = $\\overline{(A\\cup B)}$ and RHS = $\\overline{A} \\cap \\overline{B}$. By using Jove's functions, show that $\\overline{(A\\cup B)} = \\overline{A} \\cap \\overline{B}$."
      ]
    },
    {
      "cell_type": "code",
      "metadata": {
        "colab": {
          "base_uri": "https://localhost:8080/"
        },
        "id": "wFsWz-8VEGme",
        "outputId": "d63a4469-2698-4292-ac67-e49a082a09c1"
      },
      "source": [
        "#The Jove functions you need:\n",
        "help(lcomplem)\n",
        "help(lunion)\n",
        "help(lint)"
      ],
      "execution_count": 6,
      "outputs": [
        {
          "output_type": "stream",
          "text": [
            "Help on function lcomplem in module jove.LangDef:\n",
            "\n",
            "lcomplem(L, sigma, n)\n",
            "    In : L (language : set of strings)\n",
            "         sigma (alphabet : set of strings)\n",
            "         n (finite limit for lstar : int)\n",
            "    Out : sigma*_n - L (language : set of strings)\n",
            "    Example:\n",
            "    L = {'0', '10', '010'}\n",
            "    sigma = {'0', '1'}\n",
            "    n = 3\n",
            "    lcomplem(L4,{'0','1'}, 3) -> \n",
            "    {'', '000', '101', '011', '00', '1', \n",
            "     '001', '110', '111', '100', '01', '11'}\n",
            "\n",
            "Help on function lunion in module jove.LangDef:\n",
            "\n",
            "lunion(L1, L2)\n",
            "    In : L1 (language : a set),\n",
            "         L2 (language : a set).\n",
            "    Out: L1 union L2 (language : a set).\n",
            "\n",
            "Help on function lint in module jove.LangDef:\n",
            "\n",
            "lint(L1, L2)\n",
            "    In : L1 (language : set of strings)\n",
            "         L2 (language : set of strings)\n",
            "    Out: L1 intersection L2 (sets of strings)\n",
            "\n"
          ],
          "name": "stdout"
        }
      ]
    },
    {
      "cell_type": "code",
      "metadata": {
        "id": "B0UawXyGEl62"
      },
      "source": [
        "A = {'a', '' , 'bc'}\n",
        "\n",
        "B = {'a', '', 'bba', 'c'}\n",
        "\n",
        "AB = lunion(A,B)\n",
        "LHS = lcomplem(AB,{'','a','b','c'},3) # -- \"..DEFINE THE LHS..\"\n",
        "\n",
        "compA = lcomplem(A,{'','a','b','c'},3)\n",
        "compB = lcomplem(B,{'','a','b','c'},3)\n",
        "RHS = lint(compA,compB) # -- \"..DEFINE THE RHS..\""
      ],
      "execution_count": 7,
      "outputs": []
    },
    {
      "cell_type": "code",
      "metadata": {
        "colab": {
          "base_uri": "https://localhost:8080/"
        },
        "id": "RQqPynA6FFLl",
        "outputId": "49680ef2-d3f8-4585-f756-2c0a4ccbaa5b"
      },
      "source": [
        "# Now, perform LHS == RHS in Python and check if it is true\n",
        "\n",
        "LHS == RHS"
      ],
      "execution_count": 8,
      "outputs": [
        {
          "output_type": "execute_result",
          "data": {
            "text/plain": [
              "True"
            ]
          },
          "metadata": {},
          "execution_count": 8
        }
      ]
    },
    {
      "cell_type": "markdown",
      "metadata": {
        "id": "9VwisEcEFIuE"
      },
      "source": [
        "# Question 2\n"
      ]
    },
    {
      "cell_type": "markdown",
      "metadata": {
        "id": "lNgnnBNKF8oM"
      },
      "source": [
        "**Theorem:**\n",
        "The concatenation of any two languages $L_1$ and $L_2$ has smaller size than their cartesian product if and only if the intersection of those two languages has at least 2 elements and contains $\\varepsilon$.\n"
      ]
    },
    {
      "cell_type": "markdown",
      "metadata": {
        "id": "fFOhZ-kSOMh8"
      },
      "source": [
        "## Part a: Define two languages L1 and L2. L1 and L2 must both contain  ε. Then, run Code Cell 01 and get the result: \"cat and product have the same size\"."
      ]
    },
    {
      "cell_type": "code",
      "metadata": {
        "id": "VdBv80INOgz9"
      },
      "source": [
        "#Define L1 and L2 here\n",
        "L1 = {'','aa','ab'}\n",
        "L2 = {'','ca','d'}"
      ],
      "execution_count": 9,
      "outputs": []
    },
    {
      "cell_type": "code",
      "metadata": {
        "colab": {
          "base_uri": "https://localhost:8080/"
        },
        "id": "l6kOK6kcPhHd",
        "outputId": "4c1a8428-bc8c-43fd-c786-ef11eb5ffd35"
      },
      "source": [
        "#Code Cell 01\n",
        "catL1L2 = lcat(L1,L2)\n",
        "lencatL1L2 = len(catL1L2)\n",
        "print(\"Cat of L1 and L2 is\", catL1L2, \" of size \", lencatL1L2)\n",
        "\n",
        "\n",
        "# Perform L1 and L2 intersection\n",
        "intL1L2 = lint(L1,L2)\n",
        "lenintL1L2 = len(intL1L2)\n",
        "print(\"Intersection of L1 and L2 is\", intL1L2, \" of size \", lenintL1L2)\n",
        "\n",
        "# Define the product of L1 and L2\n",
        "prodL1L2 = { (x,y) for x in L1 for y in L2 }\n",
        "lenprodL1L2 = len(prodL1L2)\n",
        "print(\"Product of L1 and L2 is\", prodL1L2, \" of size \", lenprodL1L2)\n",
        "\n",
        "if (lenprodL1L2 != lencatL1L2):\n",
        "    print(\" cat and product differ in size \")\n",
        "else:\n",
        "    print(\" cat and product have the same size \")"
      ],
      "execution_count": 10,
      "outputs": [
        {
          "output_type": "stream",
          "text": [
            "Cat of L1 and L2 is {'', 'aa', 'abd', 'aad', 'aaca', 'ab', 'd', 'ca', 'abca'}  of size  9\n",
            "Intersection of L1 and L2 is {''}  of size  1\n",
            "Product of L1 and L2 is {('', 'ca'), ('aa', 'ca'), ('', ''), ('', 'd'), ('aa', ''), ('aa', 'd'), ('ab', ''), ('ab', 'd'), ('ab', 'ca')}  of size  9\n",
            " cat and product have the same size \n"
          ],
          "name": "stdout"
        }
      ]
    },
    {
      "cell_type": "markdown",
      "metadata": {
        "id": "LFA6OH1dQW88"
      },
      "source": [
        "## Part b: Re-define L1 and L2. L1 and L2 must both contain  ε. Then, run Code Cell 02 so that the result = \"cat and product differ in size\"."
      ]
    },
    {
      "cell_type": "code",
      "metadata": {
        "id": "JE69DJsyQoMz"
      },
      "source": [
        "#Re-define L1 and L2 here\n",
        "L1 = {'','a','b','ab'}\n",
        "L2 = {'','a','ba','bb'}"
      ],
      "execution_count": 11,
      "outputs": []
    },
    {
      "cell_type": "code",
      "metadata": {
        "id": "pr9-1zsqQrIU",
        "colab": {
          "base_uri": "https://localhost:8080/"
        },
        "outputId": "7ed58d45-6dfe-4cb7-c592-ac4378db7349"
      },
      "source": [
        "#Code Cell 02\n",
        "catL1L2 = lcat(L1,L2)\n",
        "lencatL1L2 = len(catL1L2)\n",
        "print(\"Cat of L1 and L2 is\", catL1L2, \" of size \", lencatL1L2)\n",
        "\n",
        "\n",
        "# Perform L1 and L2 intersection\n",
        "intL1L2 = lint(L1,L2)\n",
        "lenintL1L2 = len(intL1L2)\n",
        "print(\"Intersection of L1 and L2 is\", intL1L2, \" of size \", lenintL1L2)\n",
        "\n",
        "# Define the product of L1 and L2\n",
        "prodL1L2 = { (x,y) for x in L1 for y in L2 }\n",
        "lenprodL1L2 = len(prodL1L2)\n",
        "print(\"Product of L1 and L2 is\", prodL1L2, \" of size \", lenprodL1L2)\n",
        "\n",
        "if (lenprodL1L2 != lencatL1L2):\n",
        "    print(\" cat and product differ in size \")\n",
        "else:\n",
        "    print(\" cat and product have the same size \")"
      ],
      "execution_count": 12,
      "outputs": [
        {
          "output_type": "stream",
          "text": [
            "Cat of L1 and L2 is {'', 'abba', 'aa', 'ba', 'a', 'abb', 'bba', 'aba', 'bb', 'bbb', 'ab', 'abbb', 'b'}  of size  13\n",
            "Intersection of L1 and L2 is {'', 'a'}  of size  2\n",
            "Product of L1 and L2 is {('ab', 'a'), ('ab', 'ba'), ('', ''), ('b', 'a'), ('a', 'a'), ('a', 'ba'), ('b', 'ba'), ('', 'bb'), ('ab', ''), ('a', 'bb'), ('b', 'bb'), ('', 'a'), ('', 'ba'), ('a', ''), ('b', ''), ('ab', 'bb')}  of size  16\n",
            " cat and product differ in size \n"
          ],
          "name": "stdout"
        }
      ]
    },
    {
      "cell_type": "markdown",
      "metadata": {
        "id": "0q4IxOI8R-Vs"
      },
      "source": [
        "# Question 3"
      ]
    },
    {
      "cell_type": "markdown",
      "metadata": {
        "id": "LYcZql5HU17V"
      },
      "source": [
        "## Consider this statement:  \n",
        "For any two languages $L_1$ and $L_2$, their intersection can never be the same as their concatenation if both languages are finite."
      ]
    },
    {
      "cell_type": "markdown",
      "metadata": {
        "id": "XC4TifENW2h0"
      },
      "source": [
        "## Now, define two languages where this claim is false."
      ]
    },
    {
      "cell_type": "code",
      "metadata": {
        "id": "zOnqyAzzZJNe",
        "colab": {
          "base_uri": "https://localhost:8080/"
        },
        "outputId": "7cc1cb8d-6bf9-4868-8a17-85d02acb8ed6"
      },
      "source": [
        "# Define two FINITE languages\n",
        "L1 = {'','ab'}  # Have yet to find a good answer\n",
        "L2 = {'','ab'}\n",
        "# Perform their intersection\n",
        "intL1L2 = lint(L1,L2)\n",
        "\n",
        "# Perform their concatenation\n",
        "catL1L2 = lcat(L1,L2)\n",
        "\n",
        "# Compare the intersection and the concatenation\n",
        "print(\"intersection = \", intL1L2)\n",
        "print(\"concatenation = \", catL1L2)"
      ],
      "execution_count": 26,
      "outputs": [
        {
          "output_type": "stream",
          "text": [
            "intersection =  {'', 'ab'}\n",
            "concatenation =  {'', 'ab', 'abab'}\n"
          ],
          "name": "stdout"
        }
      ]
    },
    {
      "cell_type": "markdown",
      "metadata": {
        "id": "eTYZQbh8fy8d"
      },
      "source": [
        "# Question 4"
      ]
    },
    {
      "cell_type": "markdown",
      "metadata": {
        "id": "RPVfMhEampQ_"
      },
      "source": [
        "## Define a regular language using Python's set builder (set comprehension) syntax\n",
        "<font size=\"4\"> \n",
        "    \n",
        "Recall from Chapter-1 that sets of strings of the form \"any number of $a$'s followed by any number of $b$'s followed by any number of $c$'s are regular languages.\n",
        "\n",
        "* Here, for instance, is a regular language\n",
        "    \n",
        "    $$ \\{ a^i b^j c^k \\;:\\; i,j,k \\ge 0 \\}$$\n",
        "  \n",
        "\n",
        "**Task for you**:\n",
        "\n",
        "* Define this set in Python: $$ \\{ a^i b^j c^k \\;:\\; 0 \\le i,j,k \\le 4 \\}$$\n",
        "\n",
        "**IMPORTANT NOTE**: ALL finite sets are regular. Thus by truncating the set to a finite size, we always get a regular language. The purpose of truncation is ONLY to make sure that the printing stops. What we are really referring to as a regular language of interest is the mathematical language\n",
        "\n",
        "\n",
        "    \n",
        "    \n",
        "</font>  "
      ]
    },
    {
      "cell_type": "code",
      "metadata": {
        "id": "V96-pVokn7lN",
        "outputId": "a3bf034e-439a-44de-c35d-4d8528b3e5b1",
        "colab": {
          "base_uri": "https://localhost:8080/"
        }
      },
      "source": [
        "# The above regular language truncated to a small size, below\n",
        "A_reg_language = set({ 'a'*i+'b'*j+'c'*k for i in range(5) for j in range(5) for k in range(5) })\n",
        "\n",
        "# Print its contents\n",
        "A_reg_language"
      ],
      "execution_count": 22,
      "outputs": [
        {
          "output_type": "execute_result",
          "data": {
            "text/plain": [
              "{'',\n",
              " 'a',\n",
              " 'aa',\n",
              " 'aaa',\n",
              " 'aaaa',\n",
              " 'aaaab',\n",
              " 'aaaabb',\n",
              " 'aaaabbb',\n",
              " 'aaaabbbb',\n",
              " 'aaaabbbbc',\n",
              " 'aaaabbbbcc',\n",
              " 'aaaabbbbccc',\n",
              " 'aaaabbbbcccc',\n",
              " 'aaaabbbc',\n",
              " 'aaaabbbcc',\n",
              " 'aaaabbbccc',\n",
              " 'aaaabbbcccc',\n",
              " 'aaaabbc',\n",
              " 'aaaabbcc',\n",
              " 'aaaabbccc',\n",
              " 'aaaabbcccc',\n",
              " 'aaaabc',\n",
              " 'aaaabcc',\n",
              " 'aaaabccc',\n",
              " 'aaaabcccc',\n",
              " 'aaaac',\n",
              " 'aaaacc',\n",
              " 'aaaaccc',\n",
              " 'aaaacccc',\n",
              " 'aaab',\n",
              " 'aaabb',\n",
              " 'aaabbb',\n",
              " 'aaabbbb',\n",
              " 'aaabbbbc',\n",
              " 'aaabbbbcc',\n",
              " 'aaabbbbccc',\n",
              " 'aaabbbbcccc',\n",
              " 'aaabbbc',\n",
              " 'aaabbbcc',\n",
              " 'aaabbbccc',\n",
              " 'aaabbbcccc',\n",
              " 'aaabbc',\n",
              " 'aaabbcc',\n",
              " 'aaabbccc',\n",
              " 'aaabbcccc',\n",
              " 'aaabc',\n",
              " 'aaabcc',\n",
              " 'aaabccc',\n",
              " 'aaabcccc',\n",
              " 'aaac',\n",
              " 'aaacc',\n",
              " 'aaaccc',\n",
              " 'aaacccc',\n",
              " 'aab',\n",
              " 'aabb',\n",
              " 'aabbb',\n",
              " 'aabbbb',\n",
              " 'aabbbbc',\n",
              " 'aabbbbcc',\n",
              " 'aabbbbccc',\n",
              " 'aabbbbcccc',\n",
              " 'aabbbc',\n",
              " 'aabbbcc',\n",
              " 'aabbbccc',\n",
              " 'aabbbcccc',\n",
              " 'aabbc',\n",
              " 'aabbcc',\n",
              " 'aabbccc',\n",
              " 'aabbcccc',\n",
              " 'aabc',\n",
              " 'aabcc',\n",
              " 'aabccc',\n",
              " 'aabcccc',\n",
              " 'aac',\n",
              " 'aacc',\n",
              " 'aaccc',\n",
              " 'aacccc',\n",
              " 'ab',\n",
              " 'abb',\n",
              " 'abbb',\n",
              " 'abbbb',\n",
              " 'abbbbc',\n",
              " 'abbbbcc',\n",
              " 'abbbbccc',\n",
              " 'abbbbcccc',\n",
              " 'abbbc',\n",
              " 'abbbcc',\n",
              " 'abbbccc',\n",
              " 'abbbcccc',\n",
              " 'abbc',\n",
              " 'abbcc',\n",
              " 'abbccc',\n",
              " 'abbcccc',\n",
              " 'abc',\n",
              " 'abcc',\n",
              " 'abccc',\n",
              " 'abcccc',\n",
              " 'ac',\n",
              " 'acc',\n",
              " 'accc',\n",
              " 'acccc',\n",
              " 'b',\n",
              " 'bb',\n",
              " 'bbb',\n",
              " 'bbbb',\n",
              " 'bbbbc',\n",
              " 'bbbbcc',\n",
              " 'bbbbccc',\n",
              " 'bbbbcccc',\n",
              " 'bbbc',\n",
              " 'bbbcc',\n",
              " 'bbbccc',\n",
              " 'bbbcccc',\n",
              " 'bbc',\n",
              " 'bbcc',\n",
              " 'bbccc',\n",
              " 'bbcccc',\n",
              " 'bc',\n",
              " 'bcc',\n",
              " 'bccc',\n",
              " 'bcccc',\n",
              " 'c',\n",
              " 'cc',\n",
              " 'ccc',\n",
              " 'cccc'}"
            ]
          },
          "metadata": {},
          "execution_count": 22
        }
      ]
    },
    {
      "cell_type": "markdown",
      "metadata": {
        "id": "vyf0eAkgqJFc"
      },
      "source": [
        "## Define a context-free language using Python's set builder (set comprehension) syntax\n",
        "\n",
        "<font size=\"4\"> \n",
        "    \n",
        "Recall from Chapter-1 that sets of strings of the form \"any number of $a$'s followed by the same number of $b$'s and $c$'s is context-free.\n",
        "    \n",
        "* Here, for instance, is a context-free language\n",
        "    \n",
        "    $$ \\{ a^i b^j c^j \\;:\\; i,j \\ge 0 \\}$$\n",
        "     \n",
        "\n",
        "**Task for you**:\n",
        "\n",
        "* Define the above set in Python, again limiting $i,j,k$ to be in $\\{0, \\ldots, 4\\}$.\n",
        "\n",
        "**IMPORTANT NOTE**: ALL finite sets are regular. Thus by truncating the set to a finite size, we always get a regular language. The purpose of truncation is ONLY to make sure that the printing stops. What we are really referring to as a **context-free language** of interest is the mathematical language\n",
        "\n",
        "   $$ \\{ a^i b^j c^j \\;:\\; i,j \\ge 0 \\}$$\n",
        "    \n",
        "    \n",
        "</font>  "
      ]
    },
    {
      "cell_type": "code",
      "metadata": {
        "id": "SKBecDclqMz6",
        "outputId": "930ce5f7-ee20-4d6a-85a9-aa11771dafeb",
        "colab": {
          "base_uri": "https://localhost:8080/"
        }
      },
      "source": [
        "# Your Python definition of a context-free language, below\n",
        "A_context_free_language = { 'a'*i+'b'*j+'c'*j for i in range(5) for j in range(5) }\n",
        "\n",
        "# Print its contents\n",
        "A_context_free_language "
      ],
      "execution_count": 20,
      "outputs": [
        {
          "output_type": "execute_result",
          "data": {
            "text/plain": [
              "{'',\n",
              " 'a',\n",
              " 'aa',\n",
              " 'aaa',\n",
              " 'aaaa',\n",
              " 'aaaabbbbcccc',\n",
              " 'aaaabbbccc',\n",
              " 'aaaabbcc',\n",
              " 'aaaabc',\n",
              " 'aaabbbbcccc',\n",
              " 'aaabbbccc',\n",
              " 'aaabbcc',\n",
              " 'aaabc',\n",
              " 'aabbbbcccc',\n",
              " 'aabbbccc',\n",
              " 'aabbcc',\n",
              " 'aabc',\n",
              " 'abbbbcccc',\n",
              " 'abbbccc',\n",
              " 'abbcc',\n",
              " 'abc',\n",
              " 'bbbbcccc',\n",
              " 'bbbccc',\n",
              " 'bbcc',\n",
              " 'bc'}"
            ]
          },
          "metadata": {},
          "execution_count": 20
        }
      ]
    },
    {
      "cell_type": "markdown",
      "metadata": {
        "id": "hQd6gsQNqWE0"
      },
      "source": [
        "## Define another context-free language  \n",
        "\n",
        "<font size=\"4\"> \n",
        "    \n",
        "In Chapter 4, we will study the Pumping Lemma to argue that this language is not context-free:\n",
        "    $$L_{if} = \\{ a^i b^j c^k  {\\rm if}\\ ( i = 2 )\\ {\\rm then}\\ (j=k) \\}$$\n",
        "    \n",
        "\n",
        "\n",
        "**Task for you**:\n",
        "\n",
        "* Define $L_{if}$ in Python. Limit $i,j,k$ to be in $\\{0, \\ldots, 4\\}$.\n",
        "* List all the strings where the condition $(i=2)$ is met. How many such strings are there?\n",
        "    \n",
        "**IMPORTANT NOTE**: ALL finite sets are regular. Thus by truncating the set to a finite size, we always get a regular language. The purpose of truncation is ONLY to make sure that the printing stops. What we are really referring to as a **context-free language** of interest is the mathematical language\n",
        "\n",
        "   \n",
        "  $$L_{if} = \\{ a^i b^j c^k \\;:\\; {\\rm if}\\; (i=2)\\; {\\rm then}\\; (j=k) \\}$$\n",
        "    \n",
        "    \n",
        "</font>  "
      ]
    },
    {
      "cell_type": "code",
      "metadata": {
        "id": "-rjjdrsLqYb8",
        "outputId": "ca4ed8c0-8efc-4e88-d05b-7a9d7fcb1b94",
        "colab": {
          "base_uri": "https://localhost:8080/"
        }
      },
      "source": [
        " \n",
        "# Your Python definition of the language Lif below\n",
        "Lif =  { 'a'*i+'b'*j+'c'*k for i in range(5) for j in range(5) for k in range(5) if i == 2 and j == k }  # I don't think I've written this correctly, I will need to look into this later\n",
        "\n",
        "# print Lif\n",
        "\n",
        "Lif"
      ],
      "execution_count": 21,
      "outputs": [
        {
          "output_type": "execute_result",
          "data": {
            "text/plain": [
              "{'aa', 'aabbbbcccc', 'aabbbccc', 'aabbcc', 'aabc'}"
            ]
          },
          "metadata": {},
          "execution_count": 21
        }
      ]
    },
    {
      "cell_type": "markdown",
      "metadata": {
        "id": "IiPeeqXhqaoc"
      },
      "source": [
        "## Number of strings where i = 2, and which are they?\n",
        "\n",
        "- Answer: \n",
        "\n",
        "## The strings where i = 2 is met are these:\n",
        "- Answer: \n",
        "\n",
        " "
      ]
    }
  ]
}