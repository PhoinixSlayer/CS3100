{
  "nbformat": 4,
  "nbformat_minor": 0,
  "metadata": {
    "colab": {
      "name": "u0000000_asg01.ipynb",
      "provenance": [],
      "collapsed_sections": []
    },
    "kernelspec": {
      "display_name": "Python 3",
      "language": "python",
      "name": "python3"
    },
    "language_info": {
      "codemirror_mode": {
        "name": "ipython",
        "version": 3
      },
      "file_extension": ".py",
      "mimetype": "text/x-python",
      "name": "python",
      "nbconvert_exporter": "python",
      "pygments_lexer": "ipython3",
      "version": "3.8.5"
    }
  },
  "cells": [
    {
      "cell_type": "markdown",
      "metadata": {
        "id": "gOJcNwa-9t-M"
      },
      "source": [
        "### BEFORE YOU SUBMIT THIS FILE, PLEASE RENAME THIS FILE BY REPLACING THE 0000000 IN THE FILE NAME WITH YOUR CORRECT UNID. KEEP THE \"u\" AT THE BEGINNING."
      ]
    },
    {
      "cell_type": "code",
      "metadata": {
        "id": "4F8Z5eEX98j1",
        "colab": {
          "base_uri": "https://localhost:8080/"
        },
        "outputId": "8c63ee94-7724-4241-e657-336bba100f6d"
      },
      "source": [
        "#~~~~~~~~~~~~~~~~~~~~~~~~~~~~~~~~~~~~~~~~~~~~~~~~~~~~~~~\n",
        "import sys\n",
        "\n",
        "# -- Detect if in Own Install or in Colab\n",
        "try:\n",
        "    import google.colab\n",
        "    OWN_INSTALL = False\n",
        "except:\n",
        "    OWN_INSTALL = True\n",
        "    \n",
        "if OWN_INSTALL:\n",
        "    \n",
        "  #---- Leave these definitions ON if running on laptop\n",
        "  #---- Else turn OFF by putting them between ''' ... '''\n",
        "\n",
        "  sys.path[0:0] = ['../../../../..',  '../../../../../3rdparty',  \n",
        "                   '../../../..',  '../../../../3rdparty',  \n",
        "                   '../../..',     '../../../3rdparty', \n",
        "                   '../..',        '../../3rdparty',\n",
        "                   '..',           '../3rdparty' ]\n",
        "\n",
        "else: # In colab\n",
        "  ! if [ ! -d Jove ]; then git clone https://github.com/ganeshutah/Jove Jove; fi\n",
        "  sys.path.append('./Jove')\n",
        "  sys.path.append('./Jove/jove')\n",
        "\n",
        "# -- common imports --\n",
        "from jove.LangDef   import * #\n",
        "from jove.Def_md2mc  import * # -- to convert markdowns to machines\n",
        "from jove.DotBashers import * # -- to draw machines\n",
        "#~~~~~~~~~~~~~~~~~~~~~~~~~~~~~~~~~~~~~~~~~~~~~~~~~~~~~~~"
      ],
      "execution_count": 3,
      "outputs": [
        {
          "output_type": "stream",
          "name": "stdout",
          "text": [
            "Cloning into 'Jove'...\n",
            "remote: Enumerating objects: 4762, done.\u001b[K\n",
            "remote: Counting objects: 100% (128/128), done.\u001b[K\n",
            "remote: Compressing objects: 100% (83/83), done.\u001b[K\n",
            "remote: Total 4762 (delta 75), reused 88 (delta 40), pack-reused 4634\u001b[K\n",
            "Receiving objects: 100% (4762/4762), 7.52 MiB | 23.76 MiB/s, done.\n",
            "Resolving deltas: 100% (3080/3080), done.\n",
            "You may use any of these help commands:\n",
            "help(lphi)\n",
            "help(lunit)\n",
            "help(lcat)\n",
            "help(lexp)\n",
            "help(lunion)\n",
            "help(lstar)\n",
            "help(srev)\n",
            "help(lrev)\n",
            "help(shomo)\n",
            "help(lhomo)\n",
            "help(powset)\n",
            "help(lint)\n",
            "help(lsymdiff)\n",
            "help(lminus)\n",
            "help(lissubset)\n",
            "help(lissuperset)\n",
            "help(lcomplem)\n",
            "help(product)\n",
            "help(nthnumeric)\n",
            "\n",
            "You may use any of these help commands:\n",
            "help(md2mc)\n",
            ".. and if you want to dig more, then ..\n",
            "help(default_line_attr)\n",
            "help(length_ok_input_items)\n",
            "help(union_line_attr_list_fld)\n",
            "help(extend_rsltdict)\n",
            "help(form_delta)\n",
            "help(get_machine_components)\n",
            "\n",
            "You may use any of these help commands:\n",
            "help(ResetStNum)\n",
            "help(NxtStateStr)\n",
            "\n"
          ]
        }
      ]
    },
    {
      "cell_type": "markdown",
      "metadata": {
        "id": "UqyylUAu-NHk"
      },
      "source": [
        "# Question 1"
      ]
    },
    {
      "cell_type": "markdown",
      "metadata": {
        "id": "9AMcC5Fu-QZE"
      },
      "source": [
        "##Part a: Define the universe $\\Sigma_4^*$ for the $\\Sigma$ given below using a function defined in Jove. (Page 28-29 Textbook)"
      ]
    },
    {
      "cell_type": "code",
      "metadata": {
        "id": "gg7liBdM_LYu",
        "colab": {
          "base_uri": "https://localhost:8080/"
        },
        "outputId": "39e92722-d02d-4c5c-8fa7-015e8510b522"
      },
      "source": [
        "from jove.LangDef   import * \n",
        "\n",
        "# Various functions that needed to be defined in order to find the star of Sigma\n",
        "def star(L,n):\n",
        "  return Unit() if n == 0 else lunion(exp(L,n),star(L,n-1))\n",
        "def exp(L,n):\n",
        "  return Unit() if n == 0 else cat(L, exp(L,n-1))\n",
        "def cat(L1,L2):\n",
        "  return set({x+y for x in L1 for y in L2})\n",
        "def Unit():\n",
        "  return {\"\"}\n",
        "\n",
        "Sigma = {'a', 'b', 'c'}\n",
        "\n",
        "Sigma_4_Star = star(Sigma, 4)  # -- \"Define Sigma_4_Star here\"\n",
        "for s in Sigma_4_Star:\n",
        "  print(s)"
      ],
      "execution_count": null,
      "outputs": [
        {
          "output_type": "stream",
          "name": "stdout",
          "text": [
            "\n",
            "cbcb\n",
            "bccb\n",
            "bccc\n",
            "cbbc\n",
            "abb\n",
            "bbc\n",
            "ccca\n",
            "abba\n",
            "baab\n",
            "bcb\n",
            "bacb\n",
            "caca\n",
            "cbc\n",
            "cb\n",
            "abac\n",
            "acbb\n",
            "bcab\n",
            "baa\n",
            "aac\n",
            "aabc\n",
            "bbcc\n",
            "acbc\n",
            "bcbc\n",
            "bacc\n",
            "caaa\n",
            "ccab\n",
            "abbc\n",
            "baba\n",
            "abc\n",
            "bca\n",
            "ca\n",
            "cbca\n",
            "cccc\n",
            "aaa\n",
            "bbab\n",
            "ccc\n",
            "baaa\n",
            "caab\n",
            "cacb\n",
            "bbba\n",
            "cbba\n",
            "aaac\n",
            "cbac\n",
            "cab\n",
            "ab\n",
            "ccbb\n",
            "ccac\n",
            "acb\n",
            "accb\n",
            "caba\n",
            "cccb\n",
            "baca\n",
            "bcca\n",
            "bba\n",
            "baac\n",
            "aacc\n",
            "bb\n",
            "c\n",
            "bbac\n",
            "bbb\n",
            "aacb\n",
            "cca\n",
            "b\n",
            "acca\n",
            "cac\n",
            "babc\n",
            "bbbc\n",
            "aca\n",
            "aab\n",
            "bcbb\n",
            "bbbb\n",
            "bcaa\n",
            "aba\n",
            "acab\n",
            "babb\n",
            "ccaa\n",
            "cabb\n",
            "bbca\n",
            "accc\n",
            "ccba\n",
            "abab\n",
            "acba\n",
            "bbcb\n",
            "aaab\n",
            "a\n",
            "aaca\n",
            "caac\n",
            "aa\n",
            "cacc\n",
            "aaaa\n",
            "bbaa\n",
            "bab\n",
            "acaa\n",
            "abbb\n",
            "abcb\n",
            "cabc\n",
            "abcc\n",
            "cbcc\n",
            "cbaa\n",
            "cc\n",
            "bcc\n",
            "abca\n",
            "aaba\n",
            "caa\n",
            "bcba\n",
            "abaa\n",
            "bcac\n",
            "acac\n",
            "ccbc\n",
            "aabb\n",
            "ba\n",
            "ccb\n",
            "cbb\n",
            "ac\n",
            "cbbb\n",
            "cbab\n",
            "acc\n",
            "bac\n",
            "bc\n",
            "cba\n"
          ]
        }
      ]
    },
    {
      "cell_type": "markdown",
      "metadata": {
        "id": "5ouTH_z4_fz0"
      },
      "source": [
        "## Part b: Given two sets:\n",
        "\n",
        "* $A = \\{a, \\varepsilon , bc\\}$\n",
        "\n",
        "* $B = \\{a, \\varepsilon, bba, ca\\}$\n",
        "\n",
        "## Illustrate DeMorgan's law with respect to these specific instructions:\n",
        "\n",
        "* Let LHS = $\\overline{(A\\cup B)}$ and RHS = $\\overline{A} \\cap \\overline{B}$. By using Jove's functions, show that $\\overline{(A\\cup B)} = \\overline{A} \\cap \\overline{B}$."
      ]
    },
    {
      "cell_type": "code",
      "metadata": {
        "colab": {
          "base_uri": "https://localhost:8080/"
        },
        "id": "wFsWz-8VEGme",
        "outputId": "98aace79-a9b4-4512-8017-1e551ca063e8"
      },
      "source": [
        "#The Jove functions you need:\n",
        "help(lcomplem)\n",
        "help(lunion)\n",
        "help(lint)"
      ],
      "execution_count": null,
      "outputs": [
        {
          "output_type": "stream",
          "name": "stdout",
          "text": [
            "Help on function lcomplem in module jove.LangDef:\n",
            "\n",
            "lcomplem(L, sigma, n)\n",
            "    In : L (language : set of strings)\n",
            "         sigma (alphabet : set of strings)\n",
            "         n (finite limit for lstar : int)\n",
            "    Out : sigma*_n - L (language : set of strings)\n",
            "    Example:\n",
            "    L = {'0', '10', '010'}\n",
            "    sigma = {'0', '1'}\n",
            "    n = 3\n",
            "    lcomplem(L4,{'0','1'}, 3) -> \n",
            "    {'', '000', '101', '011', '00', '1', \n",
            "     '001', '110', '111', '100', '01', '11'}\n",
            "\n",
            "Help on function lunion in module jove.LangDef:\n",
            "\n",
            "lunion(L1, L2)\n",
            "    In : L1 (language : a set),\n",
            "         L2 (language : a set).\n",
            "    Out: L1 union L2 (language : a set).\n",
            "\n",
            "Help on function lint in module jove.LangDef:\n",
            "\n",
            "lint(L1, L2)\n",
            "    In : L1 (language : set of strings)\n",
            "         L2 (language : set of strings)\n",
            "    Out: L1 intersection L2 (sets of strings)\n",
            "\n"
          ]
        }
      ]
    },
    {
      "cell_type": "code",
      "metadata": {
        "id": "B0UawXyGEl62"
      },
      "source": [
        "A = {'a', '' , 'bc'}\n",
        "\n",
        "B = {'a', '', 'bba', 'c'}\n",
        "\n",
        "AB = lunion(A,B) # First compute the union of the two before the complement\n",
        "LHS = lcomplem(AB,{'','a','b','c'},3) # -- \"..DEFINE THE LHS..\"\n",
        "\n",
        "compA = lcomplem(A,{'','a','b','c'},3)\n",
        "compB = lcomplem(B,{'','a','b','c'},3) # Compute the complements of both before finding the intersection\n",
        "RHS = lint(compA,compB) # -- \"..DEFINE THE RHS..\""
      ],
      "execution_count": null,
      "outputs": []
    },
    {
      "cell_type": "code",
      "metadata": {
        "colab": {
          "base_uri": "https://localhost:8080/"
        },
        "id": "RQqPynA6FFLl",
        "outputId": "a2c451ec-0741-4512-da62-2c111c3a5db9"
      },
      "source": [
        "# Now, perform LHS == RHS in Python and check if it is true\n",
        "\n",
        "LHS == RHS"
      ],
      "execution_count": null,
      "outputs": [
        {
          "output_type": "execute_result",
          "data": {
            "text/plain": [
              "True"
            ]
          },
          "metadata": {},
          "execution_count": 7
        }
      ]
    },
    {
      "cell_type": "markdown",
      "metadata": {
        "id": "9VwisEcEFIuE"
      },
      "source": [
        "# Question 2\n"
      ]
    },
    {
      "cell_type": "markdown",
      "metadata": {
        "id": "lNgnnBNKF8oM"
      },
      "source": [
        "**Theorem:**\n",
        "The concatenation of any two languages $L_1$ and $L_2$ has smaller size than their cartesian product if and only if the intersection of those two languages has at least 2 elements and contains $\\varepsilon$.\n"
      ]
    },
    {
      "cell_type": "markdown",
      "metadata": {
        "id": "fFOhZ-kSOMh8"
      },
      "source": [
        "## Part a: Define two languages L1 and L2. L1 and L2 must both contain  ε. Then, run Code Cell 01 and get the result: \"cat and product have the same size\"."
      ]
    },
    {
      "cell_type": "code",
      "metadata": {
        "id": "VdBv80INOgz9"
      },
      "source": [
        "#Define L1 and L2 here\n",
        "L1 = {'','aa','ab'}\n",
        "L2 = {'','ca','d'}"
      ],
      "execution_count": null,
      "outputs": []
    },
    {
      "cell_type": "code",
      "metadata": {
        "colab": {
          "base_uri": "https://localhost:8080/"
        },
        "id": "l6kOK6kcPhHd",
        "outputId": "59b7ac4b-8967-46d2-a064-779adaf9a902"
      },
      "source": [
        "#Code Cell 01\n",
        "catL1L2 = lcat(L1,L2)\n",
        "lencatL1L2 = len(catL1L2)\n",
        "print(\"Cat of L1 and L2 is\", catL1L2, \" of size \", lencatL1L2)\n",
        "\n",
        "\n",
        "# Perform L1 and L2 intersection\n",
        "intL1L2 = lint(L1,L2)\n",
        "lenintL1L2 = len(intL1L2)\n",
        "print(\"Intersection of L1 and L2 is\", intL1L2, \" of size \", lenintL1L2)\n",
        "\n",
        "# Define the product of L1 and L2\n",
        "prodL1L2 = { (x,y) for x in L1 for y in L2 }\n",
        "lenprodL1L2 = len(prodL1L2)\n",
        "print(\"Product of L1 and L2 is\", prodL1L2, \" of size \", lenprodL1L2)\n",
        "\n",
        "if (lenprodL1L2 != lencatL1L2):\n",
        "    print(\" cat and product differ in size \")\n",
        "else:\n",
        "    print(\" cat and product have the same size \")"
      ],
      "execution_count": null,
      "outputs": [
        {
          "output_type": "stream",
          "name": "stdout",
          "text": [
            "Cat of L1 and L2 is {'', 'abd', 'd', 'aad', 'abca', 'aa', 'aaca', 'ca', 'ab'}  of size  9\n",
            "Intersection of L1 and L2 is {''}  of size  1\n",
            "Product of L1 and L2 is {('', 'ca'), ('', ''), ('ab', 'd'), ('aa', 'd'), ('', 'd'), ('ab', ''), ('aa', ''), ('aa', 'ca'), ('ab', 'ca')}  of size  9\n",
            " cat and product have the same size \n"
          ]
        }
      ]
    },
    {
      "cell_type": "markdown",
      "metadata": {
        "id": "LFA6OH1dQW88"
      },
      "source": [
        "## Part b: Re-define L1 and L2. L1 and L2 must both contain  ε. Then, run Code Cell 02 so that the result = \"cat and product differ in size\"."
      ]
    },
    {
      "cell_type": "code",
      "metadata": {
        "id": "JE69DJsyQoMz"
      },
      "source": [
        "#Re-define L1 and L2 here\n",
        "L1 = {'','a','b','ab'}\n",
        "L2 = {'','a','ba','bb'}"
      ],
      "execution_count": null,
      "outputs": []
    },
    {
      "cell_type": "code",
      "metadata": {
        "id": "pr9-1zsqQrIU",
        "colab": {
          "base_uri": "https://localhost:8080/"
        },
        "outputId": "076648d3-f81e-4e5f-ff95-fec8dcf3f17b"
      },
      "source": [
        "#Code Cell 02\n",
        "catL1L2 = lcat(L1,L2)\n",
        "lencatL1L2 = len(catL1L2)\n",
        "print(\"Cat of L1 and L2 is\", catL1L2, \" of size \", lencatL1L2)\n",
        "\n",
        "\n",
        "# Perform L1 and L2 intersection\n",
        "intL1L2 = lint(L1,L2)\n",
        "lenintL1L2 = len(intL1L2)\n",
        "print(\"Intersection of L1 and L2 is\", intL1L2, \" of size \", lenintL1L2)\n",
        "\n",
        "# Define the product of L1 and L2\n",
        "prodL1L2 = { (x,y) for x in L1 for y in L2 }\n",
        "lenprodL1L2 = len(prodL1L2)\n",
        "print(\"Product of L1 and L2 is\", prodL1L2, \" of size \", lenprodL1L2)\n",
        "\n",
        "if (lenprodL1L2 != lencatL1L2):\n",
        "    print(\" cat and product differ in size \")\n",
        "else:\n",
        "    print(\" cat and product have the same size \")"
      ],
      "execution_count": null,
      "outputs": [
        {
          "output_type": "stream",
          "name": "stdout",
          "text": [
            "Cat of L1 and L2 is {'', 'abbb', 'ba', 'abb', 'bba', 'bb', 'aba', 'abba', 'bbb', 'a', 'aa', 'b', 'ab'}  of size  13\n",
            "Intersection of L1 and L2 is {'', 'a'}  of size  2\n",
            "Product of L1 and L2 is {('b', 'a'), ('', ''), ('b', 'bb'), ('', 'bb'), ('b', ''), ('', 'a'), ('ab', ''), ('b', 'ba'), ('a', 'bb'), ('a', 'a'), ('ab', 'ba'), ('a', 'ba'), ('ab', 'a'), ('ab', 'bb'), ('a', ''), ('', 'ba')}  of size  16\n",
            " cat and product differ in size \n"
          ]
        }
      ]
    },
    {
      "cell_type": "markdown",
      "metadata": {
        "id": "0q4IxOI8R-Vs"
      },
      "source": [
        "# Question 3"
      ]
    },
    {
      "cell_type": "markdown",
      "metadata": {
        "id": "LYcZql5HU17V"
      },
      "source": [
        "## Consider this statement:  \n",
        "For any two languages $L_1$ and $L_2$, their intersection can never be the same as their concatenation if both languages are finite."
      ]
    },
    {
      "cell_type": "markdown",
      "metadata": {
        "id": "XC4TifENW2h0"
      },
      "source": [
        "## Now, define two languages where this claim is false."
      ]
    },
    {
      "cell_type": "code",
      "metadata": {
        "id": "zOnqyAzzZJNe",
        "colab": {
          "base_uri": "https://localhost:8080/"
        },
        "outputId": "050b5a0c-a9d1-47fd-9c2c-00357434e6d0"
      },
      "source": [
        "# Define two FINITE languages\n",
        "L1 = {''}  \n",
        "L2 = {''}\n",
        "# Perform their intersection\n",
        "intL1L2 = lint(L1,L2)\n",
        "\n",
        "# Perform their concatenation\n",
        "catL1L2 = lcat(L1,L2)\n",
        "\n",
        "# Compare the intersection and the concatenation\n",
        "print(\"intersection = \", intL1L2)\n",
        "print(\"concatenation = \", catL1L2)"
      ],
      "execution_count": 4,
      "outputs": [
        {
          "output_type": "stream",
          "name": "stdout",
          "text": [
            "intersection =  {''}\n",
            "concatenation =  {''}\n"
          ]
        }
      ]
    },
    {
      "cell_type": "markdown",
      "metadata": {
        "id": "eTYZQbh8fy8d"
      },
      "source": [
        "# Question 4"
      ]
    },
    {
      "cell_type": "markdown",
      "metadata": {
        "id": "RPVfMhEampQ_"
      },
      "source": [
        "## Define a regular language using Python's set builder (set comprehension) syntax\n",
        "<font size=\"4\"> \n",
        "    \n",
        "Recall from Chapter-1 that sets of strings of the form \"any number of $a$'s followed by any number of $b$'s followed by any number of $c$'s are regular languages.\n",
        "\n",
        "* Here, for instance, is a regular language\n",
        "    \n",
        "    $$ \\{ a^i b^j c^k \\;:\\; i,j,k \\ge 0 \\}$$\n",
        "  \n",
        "\n",
        "**Task for you**:\n",
        "\n",
        "* Define this set in Python: $$ \\{ a^i b^j c^k \\;:\\; 0 \\le i,j,k \\le 4 \\}$$\n",
        "\n",
        "**IMPORTANT NOTE**: ALL finite sets are regular. Thus by truncating the set to a finite size, we always get a regular language. The purpose of truncation is ONLY to make sure that the printing stops. What we are really referring to as a regular language of interest is the mathematical language\n",
        "\n",
        "\n",
        "    \n",
        "    \n",
        "</font>  "
      ]
    },
    {
      "cell_type": "code",
      "metadata": {
        "id": "V96-pVokn7lN",
        "colab": {
          "base_uri": "https://localhost:8080/"
        },
        "outputId": "2fb236f7-fef2-41ce-b1d3-0479445b3bdf"
      },
      "source": [
        "# The above regular language truncated to a small size, below\n",
        "A_reg_language = set({ 'a'*i+'b'*j+'c'*k for i in range(5) for j in range(5) for k in range(5) })\n",
        "\n",
        "# Print its contents\n",
        "A_reg_language"
      ],
      "execution_count": null,
      "outputs": [
        {
          "output_type": "execute_result",
          "data": {
            "text/plain": [
              "{'',\n",
              " 'a',\n",
              " 'aa',\n",
              " 'aaa',\n",
              " 'aaaa',\n",
              " 'aaaab',\n",
              " 'aaaabb',\n",
              " 'aaaabbb',\n",
              " 'aaaabbbb',\n",
              " 'aaaabbbbc',\n",
              " 'aaaabbbbcc',\n",
              " 'aaaabbbbccc',\n",
              " 'aaaabbbbcccc',\n",
              " 'aaaabbbc',\n",
              " 'aaaabbbcc',\n",
              " 'aaaabbbccc',\n",
              " 'aaaabbbcccc',\n",
              " 'aaaabbc',\n",
              " 'aaaabbcc',\n",
              " 'aaaabbccc',\n",
              " 'aaaabbcccc',\n",
              " 'aaaabc',\n",
              " 'aaaabcc',\n",
              " 'aaaabccc',\n",
              " 'aaaabcccc',\n",
              " 'aaaac',\n",
              " 'aaaacc',\n",
              " 'aaaaccc',\n",
              " 'aaaacccc',\n",
              " 'aaab',\n",
              " 'aaabb',\n",
              " 'aaabbb',\n",
              " 'aaabbbb',\n",
              " 'aaabbbbc',\n",
              " 'aaabbbbcc',\n",
              " 'aaabbbbccc',\n",
              " 'aaabbbbcccc',\n",
              " 'aaabbbc',\n",
              " 'aaabbbcc',\n",
              " 'aaabbbccc',\n",
              " 'aaabbbcccc',\n",
              " 'aaabbc',\n",
              " 'aaabbcc',\n",
              " 'aaabbccc',\n",
              " 'aaabbcccc',\n",
              " 'aaabc',\n",
              " 'aaabcc',\n",
              " 'aaabccc',\n",
              " 'aaabcccc',\n",
              " 'aaac',\n",
              " 'aaacc',\n",
              " 'aaaccc',\n",
              " 'aaacccc',\n",
              " 'aab',\n",
              " 'aabb',\n",
              " 'aabbb',\n",
              " 'aabbbb',\n",
              " 'aabbbbc',\n",
              " 'aabbbbcc',\n",
              " 'aabbbbccc',\n",
              " 'aabbbbcccc',\n",
              " 'aabbbc',\n",
              " 'aabbbcc',\n",
              " 'aabbbccc',\n",
              " 'aabbbcccc',\n",
              " 'aabbc',\n",
              " 'aabbcc',\n",
              " 'aabbccc',\n",
              " 'aabbcccc',\n",
              " 'aabc',\n",
              " 'aabcc',\n",
              " 'aabccc',\n",
              " 'aabcccc',\n",
              " 'aac',\n",
              " 'aacc',\n",
              " 'aaccc',\n",
              " 'aacccc',\n",
              " 'ab',\n",
              " 'abb',\n",
              " 'abbb',\n",
              " 'abbbb',\n",
              " 'abbbbc',\n",
              " 'abbbbcc',\n",
              " 'abbbbccc',\n",
              " 'abbbbcccc',\n",
              " 'abbbc',\n",
              " 'abbbcc',\n",
              " 'abbbccc',\n",
              " 'abbbcccc',\n",
              " 'abbc',\n",
              " 'abbcc',\n",
              " 'abbccc',\n",
              " 'abbcccc',\n",
              " 'abc',\n",
              " 'abcc',\n",
              " 'abccc',\n",
              " 'abcccc',\n",
              " 'ac',\n",
              " 'acc',\n",
              " 'accc',\n",
              " 'acccc',\n",
              " 'b',\n",
              " 'bb',\n",
              " 'bbb',\n",
              " 'bbbb',\n",
              " 'bbbbc',\n",
              " 'bbbbcc',\n",
              " 'bbbbccc',\n",
              " 'bbbbcccc',\n",
              " 'bbbc',\n",
              " 'bbbcc',\n",
              " 'bbbccc',\n",
              " 'bbbcccc',\n",
              " 'bbc',\n",
              " 'bbcc',\n",
              " 'bbccc',\n",
              " 'bbcccc',\n",
              " 'bc',\n",
              " 'bcc',\n",
              " 'bccc',\n",
              " 'bcccc',\n",
              " 'c',\n",
              " 'cc',\n",
              " 'ccc',\n",
              " 'cccc'}"
            ]
          },
          "metadata": {},
          "execution_count": 12
        }
      ]
    },
    {
      "cell_type": "markdown",
      "metadata": {
        "id": "vyf0eAkgqJFc"
      },
      "source": [
        "## Define a context-free language using Python's set builder (set comprehension) syntax\n",
        "\n",
        "<font size=\"4\"> \n",
        "    \n",
        "Recall from Chapter-1 that sets of strings of the form \"any number of $a$'s followed by the same number of $b$'s and $c$'s is context-free.\n",
        "    \n",
        "* Here, for instance, is a context-free language\n",
        "    \n",
        "    $$ \\{ a^i b^j c^j \\;:\\; i,j \\ge 0 \\}$$\n",
        "     \n",
        "\n",
        "**Task for you**:\n",
        "\n",
        "* Define the above set in Python, again limiting $i,j,k$ to be in $\\{0, \\ldots, 4\\}$.\n",
        "\n",
        "**IMPORTANT NOTE**: ALL finite sets are regular. Thus by truncating the set to a finite size, we always get a regular language. The purpose of truncation is ONLY to make sure that the printing stops. What we are really referring to as a **context-free language** of interest is the mathematical language\n",
        "\n",
        "   $$ \\{ a^i b^j c^j \\;:\\; i,j \\ge 0 \\}$$\n",
        "    \n",
        "    \n",
        "</font>  "
      ]
    },
    {
      "cell_type": "code",
      "metadata": {
        "id": "SKBecDclqMz6",
        "colab": {
          "base_uri": "https://localhost:8080/"
        },
        "outputId": "b1222595-355d-4dec-93b1-02fda994e3af"
      },
      "source": [
        "# Your Python definition of a context-free language, below\n",
        "A_context_free_language = { 'a'*i+'b'*j+'c'*j for i in range(5) for j in range(5) }\n",
        "\n",
        "# Print its contents\n",
        "A_context_free_language "
      ],
      "execution_count": null,
      "outputs": [
        {
          "output_type": "execute_result",
          "data": {
            "text/plain": [
              "{'',\n",
              " 'a',\n",
              " 'aa',\n",
              " 'aaa',\n",
              " 'aaaa',\n",
              " 'aaaabbbbcccc',\n",
              " 'aaaabbbccc',\n",
              " 'aaaabbcc',\n",
              " 'aaaabc',\n",
              " 'aaabbbbcccc',\n",
              " 'aaabbbccc',\n",
              " 'aaabbcc',\n",
              " 'aaabc',\n",
              " 'aabbbbcccc',\n",
              " 'aabbbccc',\n",
              " 'aabbcc',\n",
              " 'aabc',\n",
              " 'abbbbcccc',\n",
              " 'abbbccc',\n",
              " 'abbcc',\n",
              " 'abc',\n",
              " 'bbbbcccc',\n",
              " 'bbbccc',\n",
              " 'bbcc',\n",
              " 'bc'}"
            ]
          },
          "metadata": {},
          "execution_count": 13
        }
      ]
    },
    {
      "cell_type": "markdown",
      "metadata": {
        "id": "hQd6gsQNqWE0"
      },
      "source": [
        "## Define another context-free language  \n",
        "\n",
        "<font size=\"4\"> \n",
        "    \n",
        "In Chapter 4, we will study the Pumping Lemma to argue that this language is not context-free:\n",
        "    $$L_{if} = \\{ a^i b^j c^k  {\\rm if}\\ ( i = 2 )\\ {\\rm then}\\ (j=k) \\}$$\n",
        "    \n",
        "\n",
        "\n",
        "**Task for you**:\n",
        "\n",
        "* Define $L_{if}$ in Python. Limit $i,j,k$ to be in $\\{0, \\ldots, 4\\}$.\n",
        "* List all the strings where the condition $(i=2)$ is met. How many such strings are there?\n",
        "    \n",
        "**IMPORTANT NOTE**: ALL finite sets are regular. Thus by truncating the set to a finite size, we always get a regular language. The purpose of truncation is ONLY to make sure that the printing stops. What we are really referring to as a **context-free language** of interest is the mathematical language\n",
        "\n",
        "   \n",
        "  $$L_{if} = \\{ a^i b^j c^k \\;:\\; {\\rm if}\\; (i=2)\\; {\\rm then}\\; (j=k) \\}$$\n",
        "    \n",
        "    \n",
        "</font>  "
      ]
    },
    {
      "cell_type": "code",
      "metadata": {
        "id": "-rjjdrsLqYb8",
        "colab": {
          "base_uri": "https://localhost:8080/"
        },
        "outputId": "9f06feb2-c1ea-46cb-e3db-bacf4f5b4113"
      },
      "source": [
        " \n",
        "# Your Python definition of the language Lif below\n",
        "Lif =  { 'a'*i+'b'*j+'c'*k for i in range(5) for j in range(5) for k in range(5) if i == 2 } \n",
        "\n",
        "# print Lif\n",
        "\n",
        "Lif"
      ],
      "execution_count": 1,
      "outputs": [
        {
          "output_type": "execute_result",
          "data": {
            "text/plain": [
              "{'aa',\n",
              " 'aab',\n",
              " 'aabb',\n",
              " 'aabbb',\n",
              " 'aabbbb',\n",
              " 'aabbbbc',\n",
              " 'aabbbbcc',\n",
              " 'aabbbbccc',\n",
              " 'aabbbbcccc',\n",
              " 'aabbbc',\n",
              " 'aabbbcc',\n",
              " 'aabbbccc',\n",
              " 'aabbbcccc',\n",
              " 'aabbc',\n",
              " 'aabbcc',\n",
              " 'aabbccc',\n",
              " 'aabbcccc',\n",
              " 'aabc',\n",
              " 'aabcc',\n",
              " 'aabccc',\n",
              " 'aabcccc',\n",
              " 'aac',\n",
              " 'aacc',\n",
              " 'aaccc',\n",
              " 'aacccc'}"
            ]
          },
          "metadata": {},
          "execution_count": 1
        }
      ]
    },
    {
      "cell_type": "markdown",
      "metadata": {
        "id": "IiPeeqXhqaoc"
      },
      "source": [
        "## Number of strings where i = 2, and which are they?\n",
        "\n",
        "- Answer: there are 25 in total.\n",
        "\n",
        "## The strings where i = 2 is met are these:\n",
        "- Answer: The strings are: \n",
        "{'aa',\n",
        " 'aab',\n",
        " 'aabb',\n",
        " 'aabbb',\n",
        " 'aabbbb',\n",
        " 'aabbbbc',\n",
        " 'aabbbbcc',\n",
        " 'aabbbbccc',\n",
        " 'aabbbbcccc',\n",
        " 'aabbbc',\n",
        " 'aabbbcc',\n",
        " 'aabbbccc',\n",
        " 'aabbbcccc',\n",
        " 'aabbc',\n",
        " 'aabbcc',\n",
        " 'aabbccc',\n",
        " 'aabbcccc',\n",
        " 'aabc',\n",
        " 'aabcc',\n",
        " 'aabccc',\n",
        " 'aabcccc',\n",
        " 'aac',\n",
        " 'aacc',\n",
        " 'aaccc',\n",
        " 'aacccc'}\n",
        "\n",
        "\n",
        " "
      ]
    }
  ]
}