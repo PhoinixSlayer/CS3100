{
  "nbformat": 4,
  "nbformat_minor": 0,
  "metadata": {
    "colab": {
      "name": "u0000000_asg9.ipynb",
      "provenance": []
    },
    "kernelspec": {
      "display_name": "Python 3",
      "language": "python",
      "name": "python3"
    },
    "language_info": {
      "codemirror_mode": {
        "name": "ipython",
        "version": 3
      },
      "file_extension": ".py",
      "mimetype": "text/x-python",
      "name": "python",
      "nbconvert_exporter": "python",
      "pygments_lexer": "ipython3",
      "version": "3.8.5"
    },
    "toc": {
      "colors": {
        "hover_highlight": "#DAA520",
        "running_highlight": "#FF0000",
        "selected_highlight": "#FFD700"
      },
      "moveMenuLeft": true,
      "nav_menu": {
        "height": "121px",
        "width": "252px"
      },
      "navigate_menu": true,
      "number_sections": true,
      "sideBar": true,
      "threshold": 4,
      "toc_cell": false,
      "toc_section_display": "block",
      "toc_window_display": false,
      "widenNotebook": false
    }
  },
  "cells": [
    {
      "cell_type": "code",
      "metadata": {
        "id": "JnmsuJTNzKzZ",
        "outputId": "e0deec12-0004-4e78-8146-46e7b30099ce",
        "colab": {
          "base_uri": "https://localhost:8080/"
        }
      },
      "source": [
        "#~~~~~~~~~~~~~~~~~~~~~~~~~~~~~~~~~~~~~~~~~~~~~~~~~~~~~~~\n",
        "import sys\n",
        "\n",
        "# -- Detect if in Own Install or in Colab\n",
        "try:\n",
        "    import google.colab\n",
        "    OWN_INSTALL = False\n",
        "except:\n",
        "    OWN_INSTALL = True\n",
        "    \n",
        "if OWN_INSTALL:\n",
        "    print(\"Own install\")\n",
        "    sys.path[0:0] = ['../../../../..',  '../../../../../3rdparty',\n",
        "                     '../../../..',  '../../../../3rdparty',\n",
        "                     '../../..',     '../../../3rdparty',\n",
        "                     '../..',        '../../3rdparty',\n",
        "                     '..',           '../3rdparty' ]\n",
        "    \n",
        "else: # In colab\n",
        "    ! if [ ! -d Jove ]; then git clone https://github.com/ganeshutah/Jove Jove; fi\n",
        "    sys.path.append('./Jove')\n",
        "    sys.path.append('./Jove/jove')\n",
        "\n",
        "# -- common imports --\n",
        "from jove.PcpJupyterNew import *\n",
        "from jove.Def_TM     import *\n",
        "from jove.Def_md2mc  import *\n",
        "from jove.DotBashers import *\n",
        "from jove.JoveEditor import *\n",
        "from jove.AnimateTM import *\n",
        "#~~~~~~~~~~~~~~~~~~~~~~~~~~~~~~~~~~~~~~~~~~~~~~~~~~~~~~~"
      ],
      "execution_count": 5,
      "outputs": [
        {
          "output_type": "stream",
          "name": "stdout",
          "text": [
            "You may use any of these help commands:\n",
            "help(step_tm)\n",
            "help(run_tm)\n",
            "help(explore_tm)\n",
            "\n",
            "You may use any of these help commands:\n",
            "help(md2mc)\n",
            ".. and if you want to dig more, then ..\n",
            "help(default_line_attr)\n",
            "help(length_ok_input_items)\n",
            "help(union_line_attr_list_fld)\n",
            "help(extend_rsltdict)\n",
            "help(form_delta)\n",
            "help(get_machine_components)\n",
            "\n",
            "You may use any of these help commands:\n",
            "help(ResetStNum)\n",
            "help(NxtStateStr)\n",
            "\n",
            " \"help(JoveEditor)\" gives you info on the generic animation panel that animates all machines. \n"
          ]
        }
      ]
    },
    {
      "cell_type": "markdown",
      "metadata": {
        "id": "phf_LwKYcetl"
      },
      "source": [
        "## Question 1 (25 points):\n",
        "\n",
        "### Solve the PCP instance given below by hand first (15 points) \n",
        "\n",
        "\n",
        "### TILES = [('110', '1'), ('1', '0'), ('0', '110'),       ('0','1')] \n",
        "\n",
        "### And then by using the tool (10 points)\n",
        "\n",
        "### using the command pcp_solve( TILES  , OWN_INSTALL)  \n",
        "\n",
        "### You may always use help(pcp_solve) for details"
      ]
    },
    {
      "cell_type": "markdown",
      "metadata": {
        "id": "IXby16ZUcs49"
      },
      "source": [
        "# Hand Solution\n",
        "\n",
        "### Express it as a sequence of tiles with repetition, numbering the first tile 1, second tile 2, etc.\n",
        "\n",
        "### Example: If the solution is Tile-1 then Tile-3, then Tile-2, then Tile-2, write 1322\n",
        "\n",
        "* Solution:  The series of tiles that I found to be a solution for this PCP is:\n",
        " * 14223\n",
        "  * 110 | 0 | 1 | 1 |   0\n",
        "  * 1   | 1 | 0 | 0 | 110"
      ]
    },
    {
      "cell_type": "code",
      "metadata": {
        "id": "QT_sRayocs49"
      },
      "source": [
        "# Tool Solution"
      ],
      "execution_count": null,
      "outputs": []
    },
    {
      "cell_type": "code",
      "metadata": {
        "id": "GRVfom8vcs4-",
        "outputId": "210653e9-3a31-4879-ee40-83749c2668a4",
        "colab": {
          "base_uri": "https://localhost:8080/"
        }
      },
      "source": [
        "pcp_solve([('110','1'), ('1', '0'), ('0', '110'), ('0','1')], OWN_INSTALL)"
      ],
      "execution_count": 3,
      "outputs": [
        {
          "output_type": "stream",
          "name": "stdout",
          "text": [
            "Detected platform linux\n",
            " Running the command ... :  ['./Jove/jove/pcp', '-i', 'temp.txt']\n",
            "Solution(s) to PCP instance are below. Note: the tiles may be reversed,\n",
            "  as the solver may sometimes present the solution in reverse.:\n",
            "\n",
            "Solution 1\n",
            "[3, 2, 2, 4, 1]\n",
            "0   1   1   0   011 \n",
            "011 0   0   1   1   \n",
            "\n",
            "\n"
          ]
        }
      ]
    },
    {
      "cell_type": "markdown",
      "metadata": {
        "id": "KKosFQrncs4-"
      },
      "source": [
        "## Question 2 (25 points):"
      ]
    },
    {
      "cell_type": "markdown",
      "metadata": {
        "id": "sT5li9nTcs4_"
      },
      "source": [
        "Part a (15 points): Adapt the proof of Theorem 15.3, Page 233, to a very similar proof that spells out that HaltTM is not recursive.  \n",
        "HaltTM = {<M, w> : M is a TM and w its input and M halts on w}. Please imitate the proof of 15.3 step by step, making the necessary changes:"
      ]
    },
    {
      "cell_type": "markdown",
      "metadata": {
        "id": "89-AI7v7cs5A"
      },
      "source": [
        "### Your proof below\n",
        "\n"
      ]
    },
    {
      "cell_type": "markdown",
      "metadata": {
        "id": "eBgCTcRRcs5A"
      },
      "source": [
        "Part b (10 points): Adapt the proof in Figure 15.10 to argue that CFL_TM is not recursive.  \n",
        "CFL_TM = {\\<M> : M is a TM whose language is context − free}"
      ]
    },
    {
      "cell_type": "markdown",
      "metadata": {
        "id": "Kg4Y7lezcs5B"
      },
      "source": [
        "### Your proof below\n",
        "\n"
      ]
    },
    {
      "cell_type": "markdown",
      "metadata": {
        "id": "o9hh5_F4n8n5"
      },
      "source": [
        "## Question 3 (25 points):"
      ]
    },
    {
      "cell_type": "markdown",
      "metadata": {
        "id": "R9bd3UrFoFT3"
      },
      "source": [
        "- Design a deterministic Turing machine (DTM) over the input alphabet Σ = {a, b, #} for the language of all strings of the form w#x where w, x ∈ {a, b}∗ and w is a substring of x. See the definition of substring here: https://en.wikipedia.org/wiki/Substring\n",
        "\n",
        "- You must design a deterministic Turing machine which absolutely has no non-determinism anywhere in its state transitions. A deterministic algorithm here requires searching for all w beginnings within x. A correct design will have a deterministic polynomial runtime.\n",
        "\n",
        "- Add 5 more tests of your own."
      ]
    },
    {
      "cell_type": "code",
      "metadata": {
        "id": "4GYe37nZuNDN"
      },
      "source": [
        "Asg9DTM = md2mc('''\n",
        "TM     \n",
        "\n",
        "Iq0 : a ; X , R -> q1  !! Go right to start matching 'a's after the #\n",
        "Iq0 : b ; Y , R -> q2\n",
        "Iq0 : . ; . , R -> Iq0  !! If the 'w' string is nothing, epsilon will always be a substring of 'x', regardless of what it is\n",
        "Iq0 : # ; # , R -> q9   !! The state that goes through the string until '.' which then transitions to a final state\n",
        "\n",
        "q9  : 0 ; 0,R | 1 ; 1,R | 2 ; 2,R | a ; a,R | b ; b,R -> q9\n",
        "q9  : . ; .,R -> F\n",
        "\n",
        "q1 : a ; a , R -> q1\n",
        "q1 : b ; b , R -> q1\n",
        "q1 : # ; # , R -> q3  !! This state matches an 'a'\n",
        "\n",
        "q2 : a ; a , R -> q2\n",
        "q2 : b ; b , R -> q2\n",
        "q2 : # ; # , R -> q4  !! This state matches a 'b'\n",
        "\n",
        "q3 : b ; 0, L -> q7  !! Trying to match 'a', if 'b' sequence is broken, undo all progress and start over\n",
        "q3 : 0 ; 0,R | 1 ; 1,R | 2 ; 2,R -> q3\n",
        "q3 : a ; 1,L -> q5\n",
        "\n",
        "q4 : a ; 0, L -> q7  !! Trying to match 'b', if 'a' sequence is broken, repeat like in the above\n",
        "q4 : 0 ; 0, R | 1 ; 1,R | 2 ; 2,R -> q4    !! Traverse right until we arrive at an unused character\n",
        "q4 : b ; 2 , L -> q5  !! Traverse back left until arrive at the number\n",
        "\n",
        "q5 : a ; a , L -> q5 !!\n",
        "q5 : b ; b , L -> q5 !! Don't know if I'll need these 2 states at the end\n",
        "q5 : 2 ; 2 , L -> q5\n",
        "q5 : 1 ; 1 , L -> q5\n",
        "q5 : 0 ; 0 , L -> q5\n",
        "q5 : # ; # , L -> q6  !! State that goes until the first number in the substring\n",
        "\n",
        "q6 : a ; a , L | b ; b,L -> q6\n",
        "q6 : X ; X,R | Y ; Y,R -> Iq0\n",
        "\n",
        "!!!!!!!!!!!!!!!!!!!!!!!!!!!!!!!!!!!!!!!!!!!!!!!!!!!!!!!!!!!!!!!!!!!!!!!!!!!!!\n",
        "!! q7 and q8 are the reset states, because the section we were checking wasn't equivalent to\n",
        "!!  the substring we have, we need to reset the state of the substring and start over\n",
        "q7 : 0 ; 0,L | 1 ; 0,L | 2 ; 0,L -> q7\n",
        "q7 : # ; #,L -> q8\n",
        "\n",
        "q8 : X ; a,L | Y ; b,L | a ; a,L | b ; b,L -> q8\n",
        "q8 : . ; .,R -> Iq0\n",
        "!!!!!!!!!!!!!!!!!!!!!!!!!!!!!!!!!!!!!!!!!!!!!!!!!!!!!!!!!!!!!!!!!!!!!!!!!!!!!\n",
        "\n",
        "\n",
        "''')"
      ],
      "execution_count": 40,
      "outputs": []
    },
    {
      "cell_type": "markdown",
      "metadata": {
        "id": "u0PYgVqsuo7N"
      },
      "source": [
        "### Test Cases:"
      ]
    },
    {
      "cell_type": "code",
      "metadata": {
        "id": "DxpoCGS_uNqc",
        "outputId": "5914ee63-345f-4669-e8ea-d6627ce7a939",
        "colab": {
          "base_uri": "https://localhost:8080/"
        }
      },
      "source": [
        "help(explore_tm)"
      ],
      "execution_count": 31,
      "outputs": [
        {
          "output_type": "stream",
          "name": "stdout",
          "text": [
            "Help on function explore_tm in module jove.Def_TM:\n",
            "\n",
            "explore_tm(T, tape, nsteps)\n",
            "    A handy routine to print the result of run_tm plus making \n",
            "    future extensions to explore run-results.\n",
            "\n"
          ]
        }
      ]
    },
    {
      "cell_type": "code",
      "metadata": {
        "id": "THq3o7AhuRem",
        "outputId": "12b0b291-8de6-4d22-a7c5-84dd155ba7a8",
        "colab": {
          "base_uri": "https://localhost:8080/"
        }
      },
      "source": [
        "explore_tm(Asg9DTM, \"aba#aba\",50)"
      ],
      "execution_count": 42,
      "outputs": [
        {
          "output_type": "stream",
          "name": "stdout",
          "text": [
            "Allocating  8  tape cells to the RIGHT!\n",
            "Detailing the halted configs now.\n",
            "Accepted at  ('F', 8, 'XYX#121........', 18)\n",
            " via .. \n",
            " ->('Iq0', 0, 'aba#aba', 50)\n",
            " ->('q1', 1, 'Xba#aba', 49)\n",
            " ->('q1', 2, 'Xba#aba', 48)\n",
            " ->('q1', 3, 'Xba#aba', 47)\n",
            " ->('q3', 4, 'Xba#aba', 46)\n",
            " ->('q5', 3, 'Xba#1ba', 45)\n",
            " ->('q6', 2, 'Xba#1ba', 44)\n",
            " ->('q6', 1, 'Xba#1ba', 43)\n",
            " ->('q6', 0, 'Xba#1ba', 42)\n",
            " ->('Iq0', 1, 'Xba#1ba', 41)\n",
            " ->('q2', 2, 'XYa#1ba', 40)\n",
            " ->('q2', 3, 'XYa#1ba', 39)\n",
            " ->('q4', 4, 'XYa#1ba', 38)\n",
            " ->('q4', 5, 'XYa#1ba', 37)\n",
            " ->('q5', 4, 'XYa#12a', 36)\n",
            " ->('q5', 3, 'XYa#12a', 35)\n",
            " ->('q6', 2, 'XYa#12a', 34)\n",
            " ->('q6', 1, 'XYa#12a', 33)\n",
            " ->('Iq0', 2, 'XYa#12a', 32)\n",
            " ->('q1', 3, 'XYX#12a', 31)\n",
            " ->('q3', 4, 'XYX#12a', 30)\n",
            " ->('q3', 5, 'XYX#12a', 29)\n",
            " ->('q3', 6, 'XYX#12a', 28)\n",
            " ->('q5', 5, 'XYX#121', 27)\n",
            " ->('q5', 4, 'XYX#121', 26)\n",
            " ->('q5', 3, 'XYX#121', 25)\n",
            " ->('q6', 2, 'XYX#121', 24)\n",
            " ->('Iq0', 3, 'XYX#121', 23)\n",
            " ->('q9', 4, 'XYX#121', 22)\n",
            " ->('q9', 5, 'XYX#121', 21)\n",
            " ->('q9', 6, 'XYX#121', 20)\n",
            " ->('q9', 7, 'XYX#121', 19)\n",
            " ->('F', 8, 'XYX#121........', 18)\n"
          ]
        }
      ]
    },
    {
      "cell_type": "code",
      "metadata": {
        "id": "lIGV869SuSoP",
        "outputId": "15ec5d04-92a1-495d-8640-e4bc24b8744e",
        "colab": {
          "base_uri": "https://localhost:8080/"
        }
      },
      "source": [
        "explore_tm(Asg9DTM, \"aba#ab\",50)"
      ],
      "execution_count": 41,
      "outputs": [
        {
          "output_type": "stream",
          "name": "stdout",
          "text": [
            "Allocating  8  tape cells to the RIGHT!\n",
            "Detailing the halted configs now.\n",
            "Rejected at  ('q3', 6, 'XYX#12', 28)\n",
            " via .. \n",
            " ->('Iq0', 0, 'aba#ab', 50)\n",
            " ->('q1', 1, 'Xba#ab', 49)\n",
            " ->('q1', 2, 'Xba#ab', 48)\n",
            " ->('q1', 3, 'Xba#ab', 47)\n",
            " ->('q3', 4, 'Xba#ab', 46)\n",
            " ->('q5', 3, 'Xba#1b', 45)\n",
            " ->('q6', 2, 'Xba#1b', 44)\n",
            " ->('q6', 1, 'Xba#1b', 43)\n",
            " ->('q6', 0, 'Xba#1b', 42)\n",
            " ->('Iq0', 1, 'Xba#1b', 41)\n",
            " ->('q2', 2, 'XYa#1b', 40)\n",
            " ->('q2', 3, 'XYa#1b', 39)\n",
            " ->('q4', 4, 'XYa#1b', 38)\n",
            " ->('q4', 5, 'XYa#1b', 37)\n",
            " ->('q5', 4, 'XYa#12', 36)\n",
            " ->('q5', 3, 'XYa#12', 35)\n",
            " ->('q6', 2, 'XYa#12', 34)\n",
            " ->('q6', 1, 'XYa#12', 33)\n",
            " ->('Iq0', 2, 'XYa#12', 32)\n",
            " ->('q1', 3, 'XYX#12', 31)\n",
            " ->('q3', 4, 'XYX#12', 30)\n",
            " ->('q3', 5, 'XYX#12', 29)\n",
            " ->('q3', 6, 'XYX#12', 28)\n"
          ]
        }
      ]
    },
    {
      "cell_type": "code",
      "metadata": {
        "id": "pK5gYjq1uT2k",
        "outputId": "0177837d-fe03-4b64-e025-c803779640ed",
        "colab": {
          "base_uri": "https://localhost:8080/"
        }
      },
      "source": [
        "explore_tm(Asg9DTM, \"aba#baba\",50)"
      ],
      "execution_count": 43,
      "outputs": [
        {
          "output_type": "stream",
          "name": "stdout",
          "text": [
            "Allocating  8  tape cells to the LEFT!\n",
            "Allocating  8  tape cells to the RIGHT!\n",
            "Detailing the halted configs now.\n",
            "Accepted at  ('F', 17, '........XYX#0121........', 1)\n",
            " via .. \n",
            " ->('Iq0', 0, 'aba#baba', 50)\n",
            " ->('q1', 1, 'Xba#baba', 49)\n",
            " ->('q1', 2, 'Xba#baba', 48)\n",
            " ->('q1', 3, 'Xba#baba', 47)\n",
            " ->('q3', 4, 'Xba#baba', 46)\n",
            " ->('q7', 3, 'Xba#0aba', 45)\n",
            " ->('q8', 2, 'Xba#0aba', 44)\n",
            " ->('q8', 1, 'Xba#0aba', 43)\n",
            " ->('q8', 0, 'Xba#0aba', 42)\n",
            " ->('q8', 7, '........aba#0aba', 41)\n",
            " ->('Iq0', 8, '........aba#0aba', 40)\n",
            " ->('q1', 9, '........Xba#0aba', 39)\n",
            " ->('q1', 10, '........Xba#0aba', 38)\n",
            " ->('q1', 11, '........Xba#0aba', 37)\n",
            " ->('q3', 12, '........Xba#0aba', 36)\n",
            " ->('q3', 13, '........Xba#0aba', 35)\n",
            " ->('q5', 12, '........Xba#01ba', 34)\n",
            " ->('q5', 11, '........Xba#01ba', 33)\n",
            " ->('q6', 10, '........Xba#01ba', 32)\n",
            " ->('q6', 9, '........Xba#01ba', 31)\n",
            " ->('q6', 8, '........Xba#01ba', 30)\n",
            " ->('Iq0', 9, '........Xba#01ba', 29)\n",
            " ->('q2', 10, '........XYa#01ba', 28)\n",
            " ->('q2', 11, '........XYa#01ba', 27)\n",
            " ->('q4', 12, '........XYa#01ba', 26)\n",
            " ->('q4', 13, '........XYa#01ba', 25)\n",
            " ->('q4', 14, '........XYa#01ba', 24)\n",
            " ->('q5', 13, '........XYa#012a', 23)\n",
            " ->('q5', 12, '........XYa#012a', 22)\n",
            " ->('q5', 11, '........XYa#012a', 21)\n",
            " ->('q6', 10, '........XYa#012a', 20)\n",
            " ->('q6', 9, '........XYa#012a', 19)\n",
            " ->('Iq0', 10, '........XYa#012a', 18)\n",
            " ->('q1', 11, '........XYX#012a', 17)\n",
            " ->('q3', 12, '........XYX#012a', 16)\n",
            " ->('q3', 13, '........XYX#012a', 15)\n",
            " ->('q3', 14, '........XYX#012a', 14)\n",
            " ->('q3', 15, '........XYX#012a', 13)\n",
            " ->('q5', 14, '........XYX#0121', 12)\n",
            " ->('q5', 13, '........XYX#0121', 11)\n",
            " ->('q5', 12, '........XYX#0121', 10)\n",
            " ->('q5', 11, '........XYX#0121', 9)\n",
            " ->('q6', 10, '........XYX#0121', 8)\n",
            " ->('Iq0', 11, '........XYX#0121', 7)\n",
            " ->('q9', 12, '........XYX#0121', 6)\n",
            " ->('q9', 13, '........XYX#0121', 5)\n",
            " ->('q9', 14, '........XYX#0121', 4)\n",
            " ->('q9', 15, '........XYX#0121', 3)\n",
            " ->('q9', 16, '........XYX#0121', 2)\n",
            " ->('F', 17, '........XYX#0121........', 1)\n"
          ]
        }
      ]
    },
    {
      "cell_type": "code",
      "metadata": {
        "id": "1suuqWHLuVAD",
        "outputId": "87214df9-5d62-4769-858d-eae0bc2a2b37",
        "colab": {
          "base_uri": "https://localhost:8080/"
        }
      },
      "source": [
        "explore_tm(Asg9DTM, \"aba#babba\",50)"
      ],
      "execution_count": 44,
      "outputs": [
        {
          "output_type": "stream",
          "name": "stdout",
          "text": [
            "Allocating  8  tape cells to the LEFT!\n",
            "TM hasn't halted.\n",
            "The truncated paths so far are as follows.\n",
            "[('Iq0', 0, 'aba#babba', 50), ('q1', 1, 'Xba#babba', 49), ('q1', 2, 'Xba#babba', 48), ('q1', 3, 'Xba#babba', 47), ('q3', 4, 'Xba#babba', 46), ('q7', 3, 'Xba#0abba', 45), ('q8', 2, 'Xba#0abba', 44), ('q8', 1, 'Xba#0abba', 43), ('q8', 0, 'Xba#0abba', 42), ('q8', 7, '........aba#0abba', 41), ('Iq0', 8, '........aba#0abba', 40), ('q1', 9, '........Xba#0abba', 39), ('q1', 10, '........Xba#0abba', 38), ('q1', 11, '........Xba#0abba', 37), ('q3', 12, '........Xba#0abba', 36), ('q3', 13, '........Xba#0abba', 35), ('q5', 12, '........Xba#01bba', 34), ('q5', 11, '........Xba#01bba', 33), ('q6', 10, '........Xba#01bba', 32), ('q6', 9, '........Xba#01bba', 31), ('q6', 8, '........Xba#01bba', 30), ('Iq0', 9, '........Xba#01bba', 29), ('q2', 10, '........XYa#01bba', 28), ('q2', 11, '........XYa#01bba', 27), ('q4', 12, '........XYa#01bba', 26), ('q4', 13, '........XYa#01bba', 25), ('q4', 14, '........XYa#01bba', 24), ('q5', 13, '........XYa#012ba', 23), ('q5', 12, '........XYa#012ba', 22), ('q5', 11, '........XYa#012ba', 21), ('q6', 10, '........XYa#012ba', 20), ('q6', 9, '........XYa#012ba', 19), ('Iq0', 10, '........XYa#012ba', 18), ('q1', 11, '........XYX#012ba', 17), ('q3', 12, '........XYX#012ba', 16), ('q3', 13, '........XYX#012ba', 15), ('q3', 14, '........XYX#012ba', 14), ('q3', 15, '........XYX#012ba', 13), ('q7', 14, '........XYX#0120a', 12), ('q7', 13, '........XYX#0100a', 11), ('q7', 12, '........XYX#0000a', 10), ('q7', 11, '........XYX#0000a', 9), ('q8', 10, '........XYX#0000a', 8), ('q8', 9, '........XYa#0000a', 7), ('q8', 8, '........Xba#0000a', 6), ('q8', 7, '........aba#0000a', 5), ('Iq0', 8, '........aba#0000a', 4), ('q1', 9, '........Xba#0000a', 3), ('q1', 10, '........Xba#0000a', 2), ('q1', 11, '........Xba#0000a', 1)]\n"
          ]
        }
      ]
    },
    {
      "cell_type": "code",
      "metadata": {
        "id": "u1xNzrCzuXat",
        "outputId": "700812d1-b064-453d-e278-b59744be6f7e",
        "colab": {
          "base_uri": "https://localhost:8080/"
        }
      },
      "source": [
        "explore_tm(Asg9DTM, \"bba#bbabba\",50)"
      ],
      "execution_count": 45,
      "outputs": [
        {
          "output_type": "stream",
          "name": "stdout",
          "text": [
            "Allocating  8  tape cells to the RIGHT!\n",
            "Detailing the halted configs now.\n",
            "Accepted at  ('F', 11, 'YYX#221bba........', 15)\n",
            " via .. \n",
            " ->('Iq0', 0, 'bba#bbabba', 50)\n",
            " ->('q2', 1, 'Yba#bbabba', 49)\n",
            " ->('q2', 2, 'Yba#bbabba', 48)\n",
            " ->('q2', 3, 'Yba#bbabba', 47)\n",
            " ->('q4', 4, 'Yba#bbabba', 46)\n",
            " ->('q5', 3, 'Yba#2babba', 45)\n",
            " ->('q6', 2, 'Yba#2babba', 44)\n",
            " ->('q6', 1, 'Yba#2babba', 43)\n",
            " ->('q6', 0, 'Yba#2babba', 42)\n",
            " ->('Iq0', 1, 'Yba#2babba', 41)\n",
            " ->('q2', 2, 'YYa#2babba', 40)\n",
            " ->('q2', 3, 'YYa#2babba', 39)\n",
            " ->('q4', 4, 'YYa#2babba', 38)\n",
            " ->('q4', 5, 'YYa#2babba', 37)\n",
            " ->('q5', 4, 'YYa#22abba', 36)\n",
            " ->('q5', 3, 'YYa#22abba', 35)\n",
            " ->('q6', 2, 'YYa#22abba', 34)\n",
            " ->('q6', 1, 'YYa#22abba', 33)\n",
            " ->('Iq0', 2, 'YYa#22abba', 32)\n",
            " ->('q1', 3, 'YYX#22abba', 31)\n",
            " ->('q3', 4, 'YYX#22abba', 30)\n",
            " ->('q3', 5, 'YYX#22abba', 29)\n",
            " ->('q3', 6, 'YYX#22abba', 28)\n",
            " ->('q5', 5, 'YYX#221bba', 27)\n",
            " ->('q5', 4, 'YYX#221bba', 26)\n",
            " ->('q5', 3, 'YYX#221bba', 25)\n",
            " ->('q6', 2, 'YYX#221bba', 24)\n",
            " ->('Iq0', 3, 'YYX#221bba', 23)\n",
            " ->('q9', 4, 'YYX#221bba', 22)\n",
            " ->('q9', 5, 'YYX#221bba', 21)\n",
            " ->('q9', 6, 'YYX#221bba', 20)\n",
            " ->('q9', 7, 'YYX#221bba', 19)\n",
            " ->('q9', 8, 'YYX#221bba', 18)\n",
            " ->('q9', 9, 'YYX#221bba', 17)\n",
            " ->('q9', 10, 'YYX#221bba', 16)\n",
            " ->('F', 11, 'YYX#221bba........', 15)\n"
          ]
        }
      ]
    },
    {
      "cell_type": "markdown",
      "metadata": {
        "id": "5QlSFum4ubtm"
      },
      "source": [
        "### 5 Tests You Add:"
      ]
    },
    {
      "cell_type": "code",
      "metadata": {
        "id": "uO2HYF8LuhEc",
        "outputId": "eb2fce44-f03b-49fa-9169-76ce50254cb7",
        "colab": {
          "base_uri": "https://localhost:8080/"
        }
      },
      "source": [
        "# Test 1\n",
        "explore_tm(Asg9DTM, \"aba#babba\",100)"
      ],
      "execution_count": 46,
      "outputs": [
        {
          "output_type": "stream",
          "name": "stdout",
          "text": [
            "Allocating  8  tape cells to the LEFT!\n",
            "Allocating  8  tape cells to the RIGHT!\n",
            "Detailing the halted configs now.\n",
            "Rejected at  ('q4', 17, '........XYa#00001', 29)\n",
            " via .. \n",
            " ->('Iq0', 0, 'aba#babba', 100)\n",
            " ->('q1', 1, 'Xba#babba', 99)\n",
            " ->('q1', 2, 'Xba#babba', 98)\n",
            " ->('q1', 3, 'Xba#babba', 97)\n",
            " ->('q3', 4, 'Xba#babba', 96)\n",
            " ->('q7', 3, 'Xba#0abba', 95)\n",
            " ->('q8', 2, 'Xba#0abba', 94)\n",
            " ->('q8', 1, 'Xba#0abba', 93)\n",
            " ->('q8', 0, 'Xba#0abba', 92)\n",
            " ->('q8', 7, '........aba#0abba', 91)\n",
            " ->('Iq0', 8, '........aba#0abba', 90)\n",
            " ->('q1', 9, '........Xba#0abba', 89)\n",
            " ->('q1', 10, '........Xba#0abba', 88)\n",
            " ->('q1', 11, '........Xba#0abba', 87)\n",
            " ->('q3', 12, '........Xba#0abba', 86)\n",
            " ->('q3', 13, '........Xba#0abba', 85)\n",
            " ->('q5', 12, '........Xba#01bba', 84)\n",
            " ->('q5', 11, '........Xba#01bba', 83)\n",
            " ->('q6', 10, '........Xba#01bba', 82)\n",
            " ->('q6', 9, '........Xba#01bba', 81)\n",
            " ->('q6', 8, '........Xba#01bba', 80)\n",
            " ->('Iq0', 9, '........Xba#01bba', 79)\n",
            " ->('q2', 10, '........XYa#01bba', 78)\n",
            " ->('q2', 11, '........XYa#01bba', 77)\n",
            " ->('q4', 12, '........XYa#01bba', 76)\n",
            " ->('q4', 13, '........XYa#01bba', 75)\n",
            " ->('q4', 14, '........XYa#01bba', 74)\n",
            " ->('q5', 13, '........XYa#012ba', 73)\n",
            " ->('q5', 12, '........XYa#012ba', 72)\n",
            " ->('q5', 11, '........XYa#012ba', 71)\n",
            " ->('q6', 10, '........XYa#012ba', 70)\n",
            " ->('q6', 9, '........XYa#012ba', 69)\n",
            " ->('Iq0', 10, '........XYa#012ba', 68)\n",
            " ->('q1', 11, '........XYX#012ba', 67)\n",
            " ->('q3', 12, '........XYX#012ba', 66)\n",
            " ->('q3', 13, '........XYX#012ba', 65)\n",
            " ->('q3', 14, '........XYX#012ba', 64)\n",
            " ->('q3', 15, '........XYX#012ba', 63)\n",
            " ->('q7', 14, '........XYX#0120a', 62)\n",
            " ->('q7', 13, '........XYX#0100a', 61)\n",
            " ->('q7', 12, '........XYX#0000a', 60)\n",
            " ->('q7', 11, '........XYX#0000a', 59)\n",
            " ->('q8', 10, '........XYX#0000a', 58)\n",
            " ->('q8', 9, '........XYa#0000a', 57)\n",
            " ->('q8', 8, '........Xba#0000a', 56)\n",
            " ->('q8', 7, '........aba#0000a', 55)\n",
            " ->('Iq0', 8, '........aba#0000a', 54)\n",
            " ->('q1', 9, '........Xba#0000a', 53)\n",
            " ->('q1', 10, '........Xba#0000a', 52)\n",
            " ->('q1', 11, '........Xba#0000a', 51)\n",
            " ->('q3', 12, '........Xba#0000a', 50)\n",
            " ->('q3', 13, '........Xba#0000a', 49)\n",
            " ->('q3', 14, '........Xba#0000a', 48)\n",
            " ->('q3', 15, '........Xba#0000a', 47)\n",
            " ->('q3', 16, '........Xba#0000a', 46)\n",
            " ->('q5', 15, '........Xba#00001', 45)\n",
            " ->('q5', 14, '........Xba#00001', 44)\n",
            " ->('q5', 13, '........Xba#00001', 43)\n",
            " ->('q5', 12, '........Xba#00001', 42)\n",
            " ->('q5', 11, '........Xba#00001', 41)\n",
            " ->('q6', 10, '........Xba#00001', 40)\n",
            " ->('q6', 9, '........Xba#00001', 39)\n",
            " ->('q6', 8, '........Xba#00001', 38)\n",
            " ->('Iq0', 9, '........Xba#00001', 37)\n",
            " ->('q2', 10, '........XYa#00001', 36)\n",
            " ->('q2', 11, '........XYa#00001', 35)\n",
            " ->('q4', 12, '........XYa#00001', 34)\n",
            " ->('q4', 13, '........XYa#00001', 33)\n",
            " ->('q4', 14, '........XYa#00001', 32)\n",
            " ->('q4', 15, '........XYa#00001', 31)\n",
            " ->('q4', 16, '........XYa#00001', 30)\n",
            " ->('q4', 17, '........XYa#00001', 29)\n"
          ]
        }
      ]
    },
    {
      "cell_type": "code",
      "metadata": {
        "id": "ZNeqyBqkuieV",
        "outputId": "522f38fa-19de-44b7-efea-83a01dc45de2",
        "colab": {
          "base_uri": "https://localhost:8080/"
        }
      },
      "source": [
        "# Test 2\n",
        "explore_tm(Asg9DTM, \"bbab#aabbababb\",100)"
      ],
      "execution_count": 47,
      "outputs": [
        {
          "output_type": "stream",
          "name": "stdout",
          "text": [
            "Allocating  8  tape cells to the LEFT!\n",
            "Allocating  8  tape cells to the RIGHT!\n",
            "Detailing the halted configs now.\n",
            "Accepted at  ('F', 23, '........YYXY#002212abb........', 3)\n",
            " via .. \n",
            " ->('Iq0', 0, 'bbab#aabbababb', 100)\n",
            " ->('q2', 1, 'Ybab#aabbababb', 99)\n",
            " ->('q2', 2, 'Ybab#aabbababb', 98)\n",
            " ->('q2', 3, 'Ybab#aabbababb', 97)\n",
            " ->('q2', 4, 'Ybab#aabbababb', 96)\n",
            " ->('q4', 5, 'Ybab#aabbababb', 95)\n",
            " ->('q7', 4, 'Ybab#0abbababb', 94)\n",
            " ->('q8', 3, 'Ybab#0abbababb', 93)\n",
            " ->('q8', 2, 'Ybab#0abbababb', 92)\n",
            " ->('q8', 1, 'Ybab#0abbababb', 91)\n",
            " ->('q8', 0, 'Ybab#0abbababb', 90)\n",
            " ->('q8', 7, '........bbab#0abbababb', 89)\n",
            " ->('Iq0', 8, '........bbab#0abbababb', 88)\n",
            " ->('q2', 9, '........Ybab#0abbababb', 87)\n",
            " ->('q2', 10, '........Ybab#0abbababb', 86)\n",
            " ->('q2', 11, '........Ybab#0abbababb', 85)\n",
            " ->('q2', 12, '........Ybab#0abbababb', 84)\n",
            " ->('q4', 13, '........Ybab#0abbababb', 83)\n",
            " ->('q4', 14, '........Ybab#0abbababb', 82)\n",
            " ->('q7', 13, '........Ybab#00bbababb', 81)\n",
            " ->('q7', 12, '........Ybab#00bbababb', 80)\n",
            " ->('q8', 11, '........Ybab#00bbababb', 79)\n",
            " ->('q8', 10, '........Ybab#00bbababb', 78)\n",
            " ->('q8', 9, '........Ybab#00bbababb', 77)\n",
            " ->('q8', 8, '........Ybab#00bbababb', 76)\n",
            " ->('q8', 7, '........bbab#00bbababb', 75)\n",
            " ->('Iq0', 8, '........bbab#00bbababb', 74)\n",
            " ->('q2', 9, '........Ybab#00bbababb', 73)\n",
            " ->('q2', 10, '........Ybab#00bbababb', 72)\n",
            " ->('q2', 11, '........Ybab#00bbababb', 71)\n",
            " ->('q2', 12, '........Ybab#00bbababb', 70)\n",
            " ->('q4', 13, '........Ybab#00bbababb', 69)\n",
            " ->('q4', 14, '........Ybab#00bbababb', 68)\n",
            " ->('q4', 15, '........Ybab#00bbababb', 67)\n",
            " ->('q5', 14, '........Ybab#002bababb', 66)\n",
            " ->('q5', 13, '........Ybab#002bababb', 65)\n",
            " ->('q5', 12, '........Ybab#002bababb', 64)\n",
            " ->('q6', 11, '........Ybab#002bababb', 63)\n",
            " ->('q6', 10, '........Ybab#002bababb', 62)\n",
            " ->('q6', 9, '........Ybab#002bababb', 61)\n",
            " ->('q6', 8, '........Ybab#002bababb', 60)\n",
            " ->('Iq0', 9, '........Ybab#002bababb', 59)\n",
            " ->('q2', 10, '........YYab#002bababb', 58)\n",
            " ->('q2', 11, '........YYab#002bababb', 57)\n",
            " ->('q2', 12, '........YYab#002bababb', 56)\n",
            " ->('q4', 13, '........YYab#002bababb', 55)\n",
            " ->('q4', 14, '........YYab#002bababb', 54)\n",
            " ->('q4', 15, '........YYab#002bababb', 53)\n",
            " ->('q4', 16, '........YYab#002bababb', 52)\n",
            " ->('q5', 15, '........YYab#0022ababb', 51)\n",
            " ->('q5', 14, '........YYab#0022ababb', 50)\n",
            " ->('q5', 13, '........YYab#0022ababb', 49)\n",
            " ->('q5', 12, '........YYab#0022ababb', 48)\n",
            " ->('q6', 11, '........YYab#0022ababb', 47)\n",
            " ->('q6', 10, '........YYab#0022ababb', 46)\n",
            " ->('q6', 9, '........YYab#0022ababb', 45)\n",
            " ->('Iq0', 10, '........YYab#0022ababb', 44)\n",
            " ->('q1', 11, '........YYXb#0022ababb', 43)\n",
            " ->('q1', 12, '........YYXb#0022ababb', 42)\n",
            " ->('q3', 13, '........YYXb#0022ababb', 41)\n",
            " ->('q3', 14, '........YYXb#0022ababb', 40)\n",
            " ->('q3', 15, '........YYXb#0022ababb', 39)\n",
            " ->('q3', 16, '........YYXb#0022ababb', 38)\n",
            " ->('q3', 17, '........YYXb#0022ababb', 37)\n",
            " ->('q5', 16, '........YYXb#00221babb', 36)\n",
            " ->('q5', 15, '........YYXb#00221babb', 35)\n",
            " ->('q5', 14, '........YYXb#00221babb', 34)\n",
            " ->('q5', 13, '........YYXb#00221babb', 33)\n",
            " ->('q5', 12, '........YYXb#00221babb', 32)\n",
            " ->('q6', 11, '........YYXb#00221babb', 31)\n",
            " ->('q6', 10, '........YYXb#00221babb', 30)\n",
            " ->('Iq0', 11, '........YYXb#00221babb', 29)\n",
            " ->('q2', 12, '........YYXY#00221babb', 28)\n",
            " ->('q4', 13, '........YYXY#00221babb', 27)\n",
            " ->('q4', 14, '........YYXY#00221babb', 26)\n",
            " ->('q4', 15, '........YYXY#00221babb', 25)\n",
            " ->('q4', 16, '........YYXY#00221babb', 24)\n",
            " ->('q4', 17, '........YYXY#00221babb', 23)\n",
            " ->('q4', 18, '........YYXY#00221babb', 22)\n",
            " ->('q5', 17, '........YYXY#002212abb', 21)\n",
            " ->('q5', 16, '........YYXY#002212abb', 20)\n",
            " ->('q5', 15, '........YYXY#002212abb', 19)\n",
            " ->('q5', 14, '........YYXY#002212abb', 18)\n",
            " ->('q5', 13, '........YYXY#002212abb', 17)\n",
            " ->('q5', 12, '........YYXY#002212abb', 16)\n",
            " ->('q6', 11, '........YYXY#002212abb', 15)\n",
            " ->('Iq0', 12, '........YYXY#002212abb', 14)\n",
            " ->('q9', 13, '........YYXY#002212abb', 13)\n",
            " ->('q9', 14, '........YYXY#002212abb', 12)\n",
            " ->('q9', 15, '........YYXY#002212abb', 11)\n",
            " ->('q9', 16, '........YYXY#002212abb', 10)\n",
            " ->('q9', 17, '........YYXY#002212abb', 9)\n",
            " ->('q9', 18, '........YYXY#002212abb', 8)\n",
            " ->('q9', 19, '........YYXY#002212abb', 7)\n",
            " ->('q9', 20, '........YYXY#002212abb', 6)\n",
            " ->('q9', 21, '........YYXY#002212abb', 5)\n",
            " ->('q9', 22, '........YYXY#002212abb', 4)\n",
            " ->('F', 23, '........YYXY#002212abb........', 3)\n"
          ]
        }
      ]
    },
    {
      "cell_type": "code",
      "metadata": {
        "id": "YtbPqIcIukKl",
        "outputId": "f9a04b99-8dfd-49b0-b461-fa837309db84",
        "colab": {
          "base_uri": "https://localhost:8080/"
        }
      },
      "source": [
        "# Test 3\n",
        "explore_tm(Asg9DTM, \"b#\",10)"
      ],
      "execution_count": 48,
      "outputs": [
        {
          "output_type": "stream",
          "name": "stdout",
          "text": [
            "Allocating  8  tape cells to the RIGHT!\n",
            "Detailing the halted configs now.\n",
            "Rejected at  ('q4', 2, 'Y#', 8)\n",
            " via .. \n",
            " ->('Iq0', 0, 'b#', 10)\n",
            " ->('q2', 1, 'Y#', 9)\n",
            " ->('q4', 2, 'Y#', 8)\n"
          ]
        }
      ]
    },
    {
      "cell_type": "code",
      "metadata": {
        "id": "qN3IVwQWulIl",
        "outputId": "6823f4d3-3a10-428f-edad-3afedf72427c",
        "colab": {
          "base_uri": "https://localhost:8080/"
        }
      },
      "source": [
        "# Test 4\n",
        "explore_tm(Asg9DTM, \"#babba\",100)"
      ],
      "execution_count": 49,
      "outputs": [
        {
          "output_type": "stream",
          "name": "stdout",
          "text": [
            "Allocating  8  tape cells to the RIGHT!\n",
            "Detailing the halted configs now.\n",
            "Accepted at  ('F', 7, '#babba........', 93)\n",
            " via .. \n",
            " ->('Iq0', 0, '#babba', 100)\n",
            " ->('q9', 1, '#babba', 99)\n",
            " ->('q9', 2, '#babba', 98)\n",
            " ->('q9', 3, '#babba', 97)\n",
            " ->('q9', 4, '#babba', 96)\n",
            " ->('q9', 5, '#babba', 95)\n",
            " ->('q9', 6, '#babba', 94)\n",
            " ->('F', 7, '#babba........', 93)\n"
          ]
        }
      ]
    },
    {
      "cell_type": "code",
      "metadata": {
        "id": "j9kLvJBvumNO",
        "outputId": "af7e32b0-deb3-441d-93be-3a0757bfc787",
        "colab": {
          "base_uri": "https://localhost:8080/"
        }
      },
      "source": [
        "# Test 5\n",
        "explore_tm(Asg9DTM, \"bb#abaabb\",100)"
      ],
      "execution_count": 56,
      "outputs": [
        {
          "output_type": "stream",
          "name": "stdout",
          "text": [
            "Allocating  8  tape cells to the LEFT!\n",
            "Allocating  8  tape cells to the RIGHT!\n",
            "Detailing the halted configs now.\n",
            "Accepted at  ('F', 18, '........YY#000022........', 20)\n",
            " via .. \n",
            " ->('Iq0', 0, 'bb#abaabb', 100)\n",
            " ->('q2', 1, 'Yb#abaabb', 99)\n",
            " ->('q2', 2, 'Yb#abaabb', 98)\n",
            " ->('q4', 3, 'Yb#abaabb', 97)\n",
            " ->('q7', 2, 'Yb#0baabb', 96)\n",
            " ->('q8', 1, 'Yb#0baabb', 95)\n",
            " ->('q8', 0, 'Yb#0baabb', 94)\n",
            " ->('q8', 7, '........bb#0baabb', 93)\n",
            " ->('Iq0', 8, '........bb#0baabb', 92)\n",
            " ->('q2', 9, '........Yb#0baabb', 91)\n",
            " ->('q2', 10, '........Yb#0baabb', 90)\n",
            " ->('q4', 11, '........Yb#0baabb', 89)\n",
            " ->('q4', 12, '........Yb#0baabb', 88)\n",
            " ->('q5', 11, '........Yb#02aabb', 87)\n",
            " ->('q5', 10, '........Yb#02aabb', 86)\n",
            " ->('q6', 9, '........Yb#02aabb', 85)\n",
            " ->('q6', 8, '........Yb#02aabb', 84)\n",
            " ->('Iq0', 9, '........Yb#02aabb', 83)\n",
            " ->('q2', 10, '........YY#02aabb', 82)\n",
            " ->('q4', 11, '........YY#02aabb', 81)\n",
            " ->('q4', 12, '........YY#02aabb', 80)\n",
            " ->('q4', 13, '........YY#02aabb', 79)\n",
            " ->('q7', 12, '........YY#020abb', 78)\n",
            " ->('q7', 11, '........YY#000abb', 77)\n",
            " ->('q7', 10, '........YY#000abb', 76)\n",
            " ->('q8', 9, '........YY#000abb', 75)\n",
            " ->('q8', 8, '........Yb#000abb', 74)\n",
            " ->('q8', 7, '........bb#000abb', 73)\n",
            " ->('Iq0', 8, '........bb#000abb', 72)\n",
            " ->('q2', 9, '........Yb#000abb', 71)\n",
            " ->('q2', 10, '........Yb#000abb', 70)\n",
            " ->('q4', 11, '........Yb#000abb', 69)\n",
            " ->('q4', 12, '........Yb#000abb', 68)\n",
            " ->('q4', 13, '........Yb#000abb', 67)\n",
            " ->('q4', 14, '........Yb#000abb', 66)\n",
            " ->('q7', 13, '........Yb#0000bb', 65)\n",
            " ->('q7', 12, '........Yb#0000bb', 64)\n",
            " ->('q7', 11, '........Yb#0000bb', 63)\n",
            " ->('q7', 10, '........Yb#0000bb', 62)\n",
            " ->('q8', 9, '........Yb#0000bb', 61)\n",
            " ->('q8', 8, '........Yb#0000bb', 60)\n",
            " ->('q8', 7, '........bb#0000bb', 59)\n",
            " ->('Iq0', 8, '........bb#0000bb', 58)\n",
            " ->('q2', 9, '........Yb#0000bb', 57)\n",
            " ->('q2', 10, '........Yb#0000bb', 56)\n",
            " ->('q4', 11, '........Yb#0000bb', 55)\n",
            " ->('q4', 12, '........Yb#0000bb', 54)\n",
            " ->('q4', 13, '........Yb#0000bb', 53)\n",
            " ->('q4', 14, '........Yb#0000bb', 52)\n",
            " ->('q4', 15, '........Yb#0000bb', 51)\n",
            " ->('q5', 14, '........Yb#00002b', 50)\n",
            " ->('q5', 13, '........Yb#00002b', 49)\n",
            " ->('q5', 12, '........Yb#00002b', 48)\n",
            " ->('q5', 11, '........Yb#00002b', 47)\n",
            " ->('q5', 10, '........Yb#00002b', 46)\n",
            " ->('q6', 9, '........Yb#00002b', 45)\n",
            " ->('q6', 8, '........Yb#00002b', 44)\n",
            " ->('Iq0', 9, '........Yb#00002b', 43)\n",
            " ->('q2', 10, '........YY#00002b', 42)\n",
            " ->('q4', 11, '........YY#00002b', 41)\n",
            " ->('q4', 12, '........YY#00002b', 40)\n",
            " ->('q4', 13, '........YY#00002b', 39)\n",
            " ->('q4', 14, '........YY#00002b', 38)\n",
            " ->('q4', 15, '........YY#00002b', 37)\n",
            " ->('q4', 16, '........YY#00002b', 36)\n",
            " ->('q5', 15, '........YY#000022', 35)\n",
            " ->('q5', 14, '........YY#000022', 34)\n",
            " ->('q5', 13, '........YY#000022', 33)\n",
            " ->('q5', 12, '........YY#000022', 32)\n",
            " ->('q5', 11, '........YY#000022', 31)\n",
            " ->('q5', 10, '........YY#000022', 30)\n",
            " ->('q6', 9, '........YY#000022', 29)\n",
            " ->('Iq0', 10, '........YY#000022', 28)\n",
            " ->('q9', 11, '........YY#000022', 27)\n",
            " ->('q9', 12, '........YY#000022', 26)\n",
            " ->('q9', 13, '........YY#000022', 25)\n",
            " ->('q9', 14, '........YY#000022', 24)\n",
            " ->('q9', 15, '........YY#000022', 23)\n",
            " ->('q9', 16, '........YY#000022', 22)\n",
            " ->('q9', 17, '........YY#000022', 21)\n",
            " ->('F', 18, '........YY#000022........', 20)\n"
          ]
        }
      ]
    },
    {
      "cell_type": "markdown",
      "metadata": {
        "id": "-RL2-xKKus2t"
      },
      "source": [
        "## Question 4 (25 points):\n"
      ]
    },
    {
      "cell_type": "markdown",
      "metadata": {
        "id": "-9-btsyEu-QE"
      },
      "source": [
        "-  Design a non-deterministic Turing machine (NDTM) over the input alphabet Σ = {a, b, #} for the language of all strings of the form w#x where w, x ∈ {a, b}∗ and w is a substring of x. See the definition of substring here: https://en.wikipedia.org/wiki/Substring\n",
        "\n",
        "- You must design a non-deterministic Turing machine—i.e., not design a DTM and call it an NDTM. You must employ a distinct phase of taking a guess (indicating it via your comments) and check the guess. A correct design will have a nondeterministic polynomial runtime, which means once the guess is made, only a polynomial zig-zag search must be involved to confirm the guess.\n",
        "\n",
        "- Add 5 tests on your own."
      ]
    },
    {
      "cell_type": "code",
      "metadata": {
        "id": "YVJPnI8Su4WV"
      },
      "source": [
        "# w#x NDTM\n",
        "Asg9NDTM = md2mc('''TM\n",
        "\n",
        "Iq0 : . ; . , R -> F1  !! If the first thing is epsilon, the format is accepted\n",
        "Iq0 : a ; a , S -> q1\n",
        "Iq0 : b ; b , S -> q1\n",
        "\n",
        "q1 : a ; 1 , L -> q2\n",
        "q1 : a ; a , R -> q1\n",
        "q1 : b ; b , R -> q1\n",
        "q1 : b ; 2 , L -> q2\n",
        "\n",
        "\n",
        "q2 : 0 ; 0,L | 1 ; 1,L -> q2\n",
        "q2 : . ; ., R -> q3\n",
        "\n",
        "q3 : a ; X , R -> 5\n",
        "q3 : b ; Y , R ->\n",
        "\n",
        "''')\n"
      ],
      "execution_count": null,
      "outputs": []
    },
    {
      "cell_type": "markdown",
      "metadata": {
        "id": "T3UKEXrpvZhd"
      },
      "source": [
        "### Test Cases:"
      ]
    },
    {
      "cell_type": "code",
      "metadata": {
        "id": "Eyt2gsjGvbjc"
      },
      "source": [
        "explore_tm(Asg9NDTM, \"aba#aba\",50)"
      ],
      "execution_count": null,
      "outputs": []
    },
    {
      "cell_type": "code",
      "metadata": {
        "id": "ZPT-VhPMvXD4"
      },
      "source": [
        "explore_tm(Asg9NDTM, \"aba#ab\",50)"
      ],
      "execution_count": null,
      "outputs": []
    },
    {
      "cell_type": "code",
      "metadata": {
        "id": "D7JxmSr4vdhk"
      },
      "source": [
        "explore_tm(Asg9NDTM, \"aba#baba\",50)"
      ],
      "execution_count": null,
      "outputs": []
    },
    {
      "cell_type": "code",
      "metadata": {
        "id": "MLeHFI96vfd_"
      },
      "source": [
        "explore_tm(Asg9NDTM, \"aba#babba\",50)"
      ],
      "execution_count": null,
      "outputs": []
    },
    {
      "cell_type": "code",
      "metadata": {
        "id": "KEHx2p6PvhDO"
      },
      "source": [
        "explore_tm(Asg9NDTM, \"bba#bbabba\",50)"
      ],
      "execution_count": null,
      "outputs": []
    },
    {
      "cell_type": "markdown",
      "metadata": {
        "id": "IRAFeBn7vjHP"
      },
      "source": [
        "### 5 Test Cases You Add"
      ]
    },
    {
      "cell_type": "code",
      "metadata": {
        "id": "FbpeX8ADvmVQ"
      },
      "source": [
        "# Test 1"
      ],
      "execution_count": null,
      "outputs": []
    },
    {
      "cell_type": "code",
      "metadata": {
        "id": "dGXDBQHNvmgu"
      },
      "source": [
        "# Test 2"
      ],
      "execution_count": null,
      "outputs": []
    },
    {
      "cell_type": "code",
      "metadata": {
        "id": "F_59X_C2vmn0"
      },
      "source": [
        "# Test 3"
      ],
      "execution_count": null,
      "outputs": []
    },
    {
      "cell_type": "code",
      "metadata": {
        "id": "sAGW1XytvmvL"
      },
      "source": [
        "# Test 4"
      ],
      "execution_count": null,
      "outputs": []
    },
    {
      "cell_type": "code",
      "metadata": {
        "id": "WY_x56U8vm4z"
      },
      "source": [
        "# Test 5"
      ],
      "execution_count": null,
      "outputs": []
    },
    {
      "cell_type": "markdown",
      "metadata": {
        "id": "lOH0x8cy7AuI"
      },
      "source": [
        "# END\n"
      ]
    }
  ]
}