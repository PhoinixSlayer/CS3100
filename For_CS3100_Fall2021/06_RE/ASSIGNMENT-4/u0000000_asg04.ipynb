{
  "nbformat": 4,
  "nbformat_minor": 0,
  "metadata": {
    "colab": {
      "name": "u1234567_asg4_Prob1234.ipynb",
      "provenance": []
    },
    "kernelspec": {
      "display_name": "Python 3",
      "language": "python",
      "name": "python3"
    },
    "language_info": {
      "codemirror_mode": {
        "name": "ipython",
        "version": 3
      },
      "file_extension": ".py",
      "mimetype": "text/x-python",
      "name": "python",
      "nbconvert_exporter": "python",
      "pygments_lexer": "ipython3",
      "version": "3.8.5"
    },
    "toc": {
      "colors": {
        "hover_highlight": "#DAA520",
        "running_highlight": "#FF0000",
        "selected_highlight": "#FFD700"
      },
      "moveMenuLeft": true,
      "nav_menu": {
        "height": "121px",
        "width": "252px"
      },
      "navigate_menu": true,
      "number_sections": true,
      "sideBar": true,
      "threshold": 4,
      "toc_cell": false,
      "toc_section_display": "block",
      "toc_window_display": false,
      "widenNotebook": false
    }
  },
  "cells": [
    {
      "cell_type": "markdown",
      "metadata": {
        "id": "F6evhB5n1FaV"
      },
      "source": [
        "## Assignment 04 Summary\n",
        "\n",
        "There are four questions with the details given below.\n",
        "\n",
        "* Question 1: nfa2dfa and related exercises\n",
        "\n",
        "* Question 2: Understanding DFA utilities\n",
        "\n",
        "* Question 3: Understanding re2nfa\n",
        "\n",
        "* Question 4: Understanding del_gnfa_states\n",
        "\n",
        "## All required answers are indicated by tags \" {Answer cells below}\" sprinkled throughout this notebook. This means that you must fill those cells below with your answer. This is to guide you to locate where questions are being asked. Even if I don't provide this tag everywhere (impossible), there will be explicit questions in the notebook which you are supposed to answer.\n"
      ]
    },
    {
      "cell_type": "markdown",
      "metadata": {
        "id": "1an9nmMw1Fac",
        "run_control": {
          "frozen": false,
          "read_only": false
        }
      },
      "source": [
        "# Imports\n"
      ]
    },
    {
      "cell_type": "code",
      "metadata": {
        "id": "y863_jSu1Fad",
        "run_control": {
          "frozen": false,
          "read_only": false
        },
        "scrolled": true,
        "outputId": "fa7f3b2c-715c-4e9d-dd48-9688b5fe0aec",
        "colab": {
          "base_uri": "https://localhost:8080/"
        }
      },
      "source": [
        "#~~~~~~~~~~~~~~~~~~~~~~~~~~~~~~~~~~~~~~~~~~~~~~~~~~~~~~~\n",
        "import sys\n",
        "\n",
        "# -- Detect if in Own Install or in Colab\n",
        "try:\n",
        "    import google.colab\n",
        "    OWN_INSTALL = False\n",
        "except:\n",
        "    OWN_INSTALL = True\n",
        "    \n",
        "if OWN_INSTALL:\n",
        "    \n",
        "  #---- Leave these definitions ON if running on laptop\n",
        "  #---- Else turn OFF by putting them between ''' ... '''\n",
        "\n",
        "  sys.path[0:0] = ['../../../../..',  '../../../../../3rdparty',  \n",
        "                   '../../../..',  '../../../../3rdparty',  \n",
        "                   '../../..',     '../../../3rdparty', \n",
        "                   '../..',        '../../3rdparty',\n",
        "                   '..',           '../3rdparty' ]\n",
        "\n",
        "else: # In colab\n",
        "  ! if [ ! -d Jove ]; then git clone https://github.com/ganeshutah/Jove Jove; fi\n",
        "  sys.path.append('./Jove')\n",
        "  sys.path.append('./Jove/jove')\n",
        "\n",
        "# -- common imports --\n",
        "from jove.DotBashers import *\n",
        "from jove.Def_md2mc  import *\n",
        "from jove.Def_NFA    import *\n",
        "from jove.Def_DFA    import *\n",
        "from jove.Def_NFA2RE import *\n",
        "from jove.Def_RE2NFA import *\n",
        "from jove.AnimateNFA import *\n",
        "#~~~~~~~~~~~~~~~~~~~~~~~~~~~~~~~~~~~~~~~~~~~~~~~~~~~~~~~"
      ],
      "execution_count": 3,
      "outputs": [
        {
          "output_type": "stream",
          "name": "stdout",
          "text": [
            "Cloning into 'Jove'...\n",
            "remote: Enumerating objects: 4875, done.\u001b[K\n",
            "remote: Counting objects: 100% (241/241), done.\u001b[K\n",
            "remote: Compressing objects: 100% (165/165), done.\u001b[K\n",
            "remote: Total 4875 (delta 144), reused 160 (delta 71), pack-reused 4634\u001b[K\n",
            "Receiving objects: 100% (4875/4875), 7.56 MiB | 25.29 MiB/s, done.\n",
            "Resolving deltas: 100% (3149/3149), done.\n",
            "You may use any of these help commands:\n",
            "help(ResetStNum)\n",
            "help(NxtStateStr)\n",
            "\n",
            "You may use any of these help commands:\n",
            "help(md2mc)\n",
            ".. and if you want to dig more, then ..\n",
            "help(default_line_attr)\n",
            "help(length_ok_input_items)\n",
            "help(union_line_attr_list_fld)\n",
            "help(extend_rsltdict)\n",
            "help(form_delta)\n",
            "help(get_machine_components)\n",
            "\n",
            "You may use any of these help commands:\n",
            "help(mkp_dfa)\n",
            "help(mk_dfa)\n",
            "help(totalize_dfa)\n",
            "help(addtosigma_delta)\n",
            "help(step_dfa)\n",
            "help(run_dfa)\n",
            "help(accepts_dfa)\n",
            "help(comp_dfa)\n",
            "help(union_dfa)\n",
            "help(intersect_dfa)\n",
            "help(pruneUnreach)\n",
            "help(iso_dfa)\n",
            "help(langeq_dfa)\n",
            "help(same_status)\n",
            "help(h_langeq_dfa)\n",
            "help(fixptDist)\n",
            "help(min_dfa)\n",
            "help(pairFR)\n",
            "help(state_combos)\n",
            "help(sepFinNonFin)\n",
            "help(bash_eql_classes)\n",
            "help(listminus)\n",
            "help(bash_1)\n",
            "help(mk_rep_eqc)\n",
            "help(F_of)\n",
            "help(rep_of_s)\n",
            "help(q0_of)\n",
            "help(Delta_of)\n",
            "help(mk_state_eqc_name)\n",
            "\n",
            "You may use any of these help commands:\n",
            "help(mk_nfa)\n",
            "help(totalize_nfa)\n",
            "help(step_nfa)\n",
            "help(run_nfa)\n",
            "help(ec_step_nfa)\n",
            "help(Eclosure)\n",
            "help(Echelp)\n",
            "help(accepts_nfa)\n",
            "help(nfa2dfa)\n",
            "help(n2d)\n",
            "help(inSets)\n",
            "help(rev_dfa)\n",
            "help(min_dfa_brz)\n",
            "\n",
            "You may use any of these help commands:\n",
            "help(RE2Str)\n",
            "help(mk_gnfa)\n",
            "help(mk_gnfa_from_D)\n",
            "help(dfa2nfa)\n",
            "help(del_gnfa_states)\n",
            "help(gnfa_w_REStr)\n",
            "help(del_one_gnfa_state)\n",
            "help(Edges_Exist_Via)\n",
            "help(choose_state_to_del)\n",
            "help(form_alt_RE)\n",
            "help(form_concat_RE)\n",
            "help(form_kleene_RE)\n",
            "\n",
            "You may use any of these help commands:\n",
            "help(re2nfa)\n",
            "\n",
            " \"help(AnimateNFA)\" gives you info on how to use animations with NFA \n"
          ]
        }
      ]
    },
    {
      "cell_type": "markdown",
      "metadata": {
        "id": "BzOCjuwm1Fae"
      },
      "source": [
        "## Question 1: nfa2dfa and related exercises\n",
        "\n",
        "    * Take a given nfa called nfa1 (below).\n",
        "    \n",
        "    * Now convert nfa1 to dfa1, applying the subset construction algorithm. Part of this construction has been done for you to tell you the state-naming conventions to be followed. Finish the rest of the work as per these state naming conventions.\n",
        "    \n",
        "    * Now apply Brzozowski's minimization to dfa1 as a one-line expression involving the appropriate Jove functions (find out from the book). Show a line (or two) of code showing the Brzozowski algorithm and its function calls used in a line (or two). Call the result min_dfa1. You should not need more than 1-2 lines but keep it short (exceeding by a few lines is fine).\n",
        "    \n",
        "    * Now show that dfa1 and min_dfa1 are language-equivalent but not isomorphic. Refer to https://en.wikipedia.org/wiki/Graph_isomorphism and first define isomorphism clearly in a few bullets, explaining (using the graphs G and H provided in the Wikipedia article) why those \"different-looking graphs\" are isomorphic. Then explain why dfa1 and min_dfa1 fail the isomorphism test by arguing whether a function similar to \"f\" in this Wikipedia article exists or not."
      ]
    },
    {
      "cell_type": "markdown",
      "metadata": {
        "id": "cz6nOPhGiqqG"
      },
      "source": [
        "## The NFA nfa1 is below"
      ]
    },
    {
      "cell_type": "code",
      "metadata": {
        "id": "tnc6tDJT1Faf",
        "outputId": "d1f1f302-9f0a-43a6-d1cb-dcd500b97afc",
        "colab": {
          "base_uri": "https://localhost:8080/"
        }
      },
      "source": [
        "# Given NFA\n",
        "\n",
        "nfa1 = md2mc('''NFA\n",
        "I1 : '' -> B\n",
        "I1 : a  -> I2\n",
        "\n",
        "I2 : c  -> F3\n",
        "I2 : b  -> B\n",
        "\n",
        "B : a  -> B\n",
        "B : b  -> F4\n",
        "B : c  -> F3\n",
        "\n",
        "\n",
        "''')\n"
      ],
      "execution_count": 4,
      "outputs": [
        {
          "output_type": "stream",
          "name": "stderr",
          "text": [
            "Generating LALR tables\n"
          ]
        }
      ]
    },
    {
      "cell_type": "markdown",
      "metadata": {
        "id": "3mR5JA18jI_U"
      },
      "source": [
        "### {Answer cells below - show the NFA}"
      ]
    },
    {
      "cell_type": "code",
      "metadata": {
        "id": "kV7jblE21Fag",
        "outputId": "28391f05-81b9-4093-9ff6-5b40c1e432f5",
        "colab": {
          "base_uri": "https://localhost:8080/",
          "height": 202
        }
      },
      "source": [
        "dotObj_nfa(nfa1)"
      ],
      "execution_count": 6,
      "outputs": [
        {
          "output_type": "execute_result",
          "data": {
            "text/plain": [
              "<graphviz.dot.Digraph at 0x7fc520ddda10>"
            ],
            "image/svg+xml": "<?xml version=\"1.0\" encoding=\"UTF-8\" standalone=\"no\"?>\n<!DOCTYPE svg PUBLIC \"-//W3C//DTD SVG 1.1//EN\"\n \"http://www.w3.org/Graphics/SVG/1.1/DTD/svg11.dtd\">\n<!-- Generated by graphviz version 2.40.1 (20161225.0304)\n -->\n<!-- Title: %3 Pages: 1 -->\n<svg width=\"402pt\" height=\"136pt\"\n viewBox=\"0.00 0.00 401.99 135.60\" xmlns=\"http://www.w3.org/2000/svg\" xmlns:xlink=\"http://www.w3.org/1999/xlink\">\n<g id=\"graph0\" class=\"graph\" transform=\"scale(1 1) rotate(0) translate(4 131.5963)\">\n<title>%3</title>\n<polygon fill=\"#ffffff\" stroke=\"transparent\" points=\"-4,4 -4,-131.5963 397.9896,-131.5963 397.9896,4 -4,4\"/>\n<!-- EMPTY -->\n<g id=\"node1\" class=\"node\">\n<title>EMPTY</title>\n</g>\n<!-- I2 -->\n<g id=\"node3\" class=\"node\">\n<title>I2</title>\n<ellipse fill=\"none\" stroke=\"#000000\" cx=\"193.545\" cy=\"-81.7982\" rx=\"18.6979\" ry=\"18.6979\"/>\n<text text-anchor=\"middle\" x=\"193.545\" y=\"-78.0982\" font-family=\"Times,serif\" font-size=\"14.00\" fill=\"#000000\">I2</text>\n</g>\n<!-- EMPTY&#45;&gt;I2 -->\n<g id=\"edge1\" class=\"edge\">\n<title>EMPTY&#45;&gt;I2</title>\n<path fill=\"none\" stroke=\"#000000\" d=\"M54.129,-66.7302C84.4711,-70.0096 133.4281,-75.3008 164.5205,-78.6612\"/>\n<polygon fill=\"#000000\" stroke=\"#000000\" points=\"164.3952,-82.168 174.7135,-79.7629 165.1475,-75.2085 164.3952,-82.168\"/>\n</g>\n<!-- I1 -->\n<g id=\"node4\" class=\"node\">\n<title>I1</title>\n<ellipse fill=\"none\" stroke=\"#000000\" cx=\"109.8483\" cy=\"-40.7982\" rx=\"18.6979\" ry=\"18.6979\"/>\n<text text-anchor=\"middle\" x=\"109.8483\" y=\"-37.0982\" font-family=\"Times,serif\" font-size=\"14.00\" fill=\"#000000\">I1</text>\n</g>\n<!-- EMPTY&#45;&gt;I1 -->\n<g id=\"edge2\" class=\"edge\">\n<title>EMPTY&#45;&gt;I1</title>\n<path fill=\"none\" stroke=\"#000000\" d=\"M54.1276,-56.2671C62.9466,-53.8188 72.7508,-51.097 81.6463,-48.6275\"/>\n<polygon fill=\"#000000\" stroke=\"#000000\" points=\"82.8586,-51.9234 91.5579,-45.8759 80.9861,-45.1785 82.8586,-51.9234\"/>\n</g>\n<!-- B -->\n<g id=\"node2\" class=\"node\">\n<title>B</title>\n<ellipse fill=\"none\" stroke=\"#000000\" cx=\"278.3933\" cy=\"-24.7982\" rx=\"18\" ry=\"18\"/>\n<text text-anchor=\"middle\" x=\"278.3933\" y=\"-21.0982\" font-family=\"Times,serif\" font-size=\"14.00\" fill=\"#000000\">B</text>\n</g>\n<!-- B&#45;&gt;B -->\n<g id=\"edge7\" class=\"edge\">\n<title>B&#45;&gt;B</title>\n<path fill=\"none\" stroke=\"#000000\" d=\"M271.3621,-41.4622C269.7996,-51.4232 272.1433,-60.7982 278.3933,-60.7982 282.3972,-60.7982 284.798,-56.9507 285.5956,-51.5664\"/>\n<polygon fill=\"#000000\" stroke=\"#000000\" points=\"289.0935,-51.4015 285.4246,-41.4622 282.0945,-51.5201 289.0935,-51.4015\"/>\n<text text-anchor=\"middle\" x=\"278.3933\" y=\"-64.5982\" font-family=\"Times,serif\" font-size=\"14.00\" fill=\"#000000\">a </text>\n</g>\n<!-- F3 -->\n<g id=\"node5\" class=\"node\">\n<title>F3</title>\n<ellipse fill=\"none\" stroke=\"#000000\" cx=\"369.1915\" cy=\"-102.7982\" rx=\"20.6302\" ry=\"20.6302\"/>\n<ellipse fill=\"none\" stroke=\"#000000\" cx=\"369.1915\" cy=\"-102.7982\" rx=\"24.5979\" ry=\"24.5979\"/>\n<text text-anchor=\"middle\" x=\"369.1915\" y=\"-99.0982\" font-family=\"Times,serif\" font-size=\"14.00\" fill=\"#000000\">F3</text>\n</g>\n<!-- B&#45;&gt;F3 -->\n<g id=\"edge9\" class=\"edge\">\n<title>B&#45;&gt;F3</title>\n<path fill=\"none\" stroke=\"#000000\" d=\"M292.1836,-36.6447C305.4854,-48.0715 325.9742,-65.6724 342.4747,-79.8471\"/>\n<polygon fill=\"#000000\" stroke=\"#000000\" points=\"340.3394,-82.627 350.2056,-86.4884 344.9008,-77.3172 340.3394,-82.627\"/>\n<text text-anchor=\"middle\" x=\"320.3933\" y=\"-67.5982\" font-family=\"Times,serif\" font-size=\"14.00\" fill=\"#000000\">c </text>\n</g>\n<!-- F4 -->\n<g id=\"node6\" class=\"node\">\n<title>F4</title>\n<ellipse fill=\"none\" stroke=\"#000000\" cx=\"369.1915\" cy=\"-24.7982\" rx=\"20.6302\" ry=\"20.6302\"/>\n<ellipse fill=\"none\" stroke=\"#000000\" cx=\"369.1915\" cy=\"-24.7982\" rx=\"24.5979\" ry=\"24.5979\"/>\n<text text-anchor=\"middle\" x=\"369.1915\" y=\"-21.0982\" font-family=\"Times,serif\" font-size=\"14.00\" fill=\"#000000\">F4</text>\n</g>\n<!-- B&#45;&gt;F4 -->\n<g id=\"edge8\" class=\"edge\">\n<title>B&#45;&gt;F4</title>\n<path fill=\"none\" stroke=\"#000000\" d=\"M296.7677,-24.7982C307.4554,-24.7982 321.2849,-24.7982 333.9906,-24.7982\"/>\n<polygon fill=\"#000000\" stroke=\"#000000\" points=\"334.3055,-28.2983 344.3054,-24.7982 334.3054,-21.2983 334.3055,-28.2983\"/>\n<text text-anchor=\"middle\" x=\"320.3933\" y=\"-28.5982\" font-family=\"Times,serif\" font-size=\"14.00\" fill=\"#000000\">b </text>\n</g>\n<!-- I2&#45;&gt;B -->\n<g id=\"edge6\" class=\"edge\">\n<title>I2&#45;&gt;B</title>\n<path fill=\"none\" stroke=\"#000000\" d=\"M209.5043,-71.0769C222.3051,-62.4775 240.4581,-50.2825 254.9162,-40.5698\"/>\n<polygon fill=\"#000000\" stroke=\"#000000\" points=\"257.0109,-43.379 263.36,-34.8973 253.1074,-37.5685 257.0109,-43.379\"/>\n<text text-anchor=\"middle\" x=\"236.3933\" y=\"-60.5982\" font-family=\"Times,serif\" font-size=\"14.00\" fill=\"#000000\">b </text>\n</g>\n<!-- I2&#45;&gt;F3 -->\n<g id=\"edge5\" class=\"edge\">\n<title>I2&#45;&gt;F3</title>\n<path fill=\"none\" stroke=\"#000000\" d=\"M212.3422,-84.0455C241.3398,-87.5124 297.4593,-94.222 334.1115,-98.6041\"/>\n<polygon fill=\"#000000\" stroke=\"#000000\" points=\"334.0069,-102.1164 344.3517,-99.8284 334.8379,-95.1659 334.0069,-102.1164\"/>\n<text text-anchor=\"middle\" x=\"278.3933\" y=\"-97.5982\" font-family=\"Times,serif\" font-size=\"14.00\" fill=\"#000000\">c </text>\n</g>\n<!-- I1&#45;&gt;B -->\n<g id=\"edge3\" class=\"edge\">\n<title>I1&#45;&gt;B</title>\n<path fill=\"none\" stroke=\"#000000\" d=\"M128.855,-38.9939C158.3749,-36.1915 215.4247,-30.7758 249.8904,-27.5039\"/>\n<polygon fill=\"#000000\" stroke=\"#000000\" points=\"250.599,-30.9525 260.2235,-26.523 249.9374,-23.9838 250.599,-30.9525\"/>\n<text text-anchor=\"middle\" x=\"193.545\" y=\"-38.5982\" font-family=\"Times,serif\" font-size=\"14.00\" fill=\"#000000\">&#39;&#39; </text>\n</g>\n<!-- I1&#45;&gt;I2 -->\n<g id=\"edge4\" class=\"edge\">\n<title>I1&#45;&gt;I2</title>\n<path fill=\"none\" stroke=\"#000000\" d=\"M127.9903,-46.8522C136.8226,-50.0288 147.495,-54.2115 156.6967,-58.7982 160.8326,-60.8598 165.1,-63.2524 169.1988,-65.6993\"/>\n<polygon fill=\"#000000\" stroke=\"#000000\" points=\"167.4451,-68.7302 177.7862,-71.0355 171.1397,-62.7846 167.4451,-68.7302\"/>\n<text text-anchor=\"middle\" x=\"151.6967\" y=\"-62.5982\" font-family=\"Times,serif\" font-size=\"14.00\" fill=\"#000000\">a </text>\n</g>\n</g>\n</svg>\n"
          },
          "metadata": {},
          "execution_count": 6
        }
      ]
    },
    {
      "cell_type": "markdown",
      "metadata": {
        "id": "MK49D5ehhjR7"
      },
      "source": [
        "### Convert the given NFA to a DFA by hand. List the steps you made in bullet points.\n",
        "\n",
        "### Part of the answer is filled in. Fill the missing parts shown as [fill here] below."
      ]
    },
    {
      "cell_type": "markdown",
      "metadata": {
        "id": "MvlG3KhqjI_W"
      },
      "source": [
        "### {Answer cells below -  list the steps that obtain the DFA - some parts given - fill the rest}\n",
        "\n",
        "I say \"FILL HERE\" below. Fill those."
      ]
    },
    {
      "cell_type": "markdown",
      "metadata": {
        "id": "SD_eNEMIh3Oc"
      },
      "source": [
        "Answer:  \n",
        "\n",
        "\n",
        "* Let EC stand for EClosure and BH denote {}\n",
        "* Let us write sets of states separated by underscores. Thus {A,B} will be written A_B\n",
        "* Let us sort these. Thus we won't write {B,A} or B_A. Rather we will write {A,B} or A_B\n",
        "\n",
        "* AND\n",
        "* in a DFA state if some state is initial, please write \"i_\" before it, and similarly \"f_\" before a final state. Also if a state is initial plus final, name it such that it begins with \"if_\". This gives a hint to Jove that the newly created state is initial or final or both. \n",
        "*\n",
        "*  Now, we are going to notate it here informally, supplying the reasons, before we re-type it in Jove syntax below\n",
        "* According to these conventions,  EC( I1_I2 ) = i_B_I1_I2\n",
        "*\n",
        "* Upon seeing an 'a', i_B_I1_I2 goes to B_I2 {FILL HERE the details as to why. An example fill-in is as follows}\n",
        "*  B  upon an \"a\" goes to B\n",
        "*  I1 upon an \"a\" goes to I2\n",
        "*  I2 upon an \"a\" goes to BH\n",
        "*  Their union is {B, I2} and EClosure does not change anything.\n",
        "* Thus      i_B_I1_I2 --a--> B_I2  \n",
        "*   \n",
        "* Provide a similar degree of detail for two other moves. Then fill the rest quickly as rough notes, below.\n",
        "* Similarly i_B_I1_I2 --b-->  f_B_F4\n",
        "* B on a 'b' goes to F4\n",
        "* I1 on a 'b' goes to BH\n",
        "* I2 on a 'b' goes to B\n",
        "* The union is {B, F4}, EClosure does nothing.\n",
        "*  Thus,   i_B_I1_I2 --b-->  f_B_F4\n",
        "*\n",
        "*  Similarly, i_B_I1_I2 --c-->  f_F3\n",
        "* B on a 'c' goes to F3\n",
        "* I1 on a 'c' goes to BH\n",
        "* I2 on a 'c' goes to F3\n",
        "* Union is {F3}, and EClosure goes nowhere as well\n",
        "*  Thus,  i_B_I1_I2 --c-->  f_F3\n",
        "*\n",
        "* Now       B_I2    --a-->    B\n",
        "* and       B_I2    --b-->    f_B_F4\n",
        "* and       B_I2    --c-->    f_F3\n",
        "* \n",
        "* Now       f_B_F4    --a-->  B\n",
        "*           f_B_F4    --b-->  f_F4\n",
        "*           f_B_F4    --c-->  f_F3\n",
        "*\n",
        "*           B --a-->  B\n",
        "*           B --b-->  f_F4\n",
        "*           B --c-->  f_F3\n",
        "*\n",
        "*           f_F3 --a,b,c--> BH\n",
        "* \n",
        "*           f_F4 --a,b,c--> BH\n",
        "  "
      ]
    },
    {
      "cell_type": "markdown",
      "metadata": {
        "id": "-aITkk4ajI_X"
      },
      "source": [
        "### NOW, enter the dfa1 design below, according to the subset construction algorithm steps that were documented above"
      ]
    },
    {
      "cell_type": "markdown",
      "metadata": {
        "id": "XQ36tZnfjI_X"
      },
      "source": [
        "### {Answer cells below - Jove code for dfa1 below}"
      ]
    },
    {
      "cell_type": "code",
      "metadata": {
        "id": "CMDNIlBA1Fah"
      },
      "source": [
        "# DFA of nfa1\n",
        "\n",
        "dfa1 = md2mc('''DFA\n",
        "\n",
        "i_B_I1_I2 : a -> B_I2   !! These are the initial state of the machine, and on each value in the language this set of states transitions to the described set of states.\n",
        "i_B_I1_I2 : b -> f_B_F4\n",
        "i_B_I1_I2 : c -> f_F3\n",
        "\n",
        "B_I2 : a -> B           !! For this state, the characters 'a' 'b' and 'c' cause it to transition to the subsequent sets of states. On a and c, some states are lost because they don't go anywhere.\n",
        "B_I2 : b -> f_B_F4\n",
        "B_I2 : c -> f_F3\n",
        "\n",
        "f_B_F4 : a -> B         !! For this state, it transitions to the listed states on the given characters.\n",
        "f_B_F4 : b -> f_F4\n",
        "f_B_F4 : c -> f_F3\n",
        "\n",
        "B : a -> B              !! This state transitions to the same states that the above state transitions to on each of the characters, I suspect that this one will be removed in the minimization.\n",
        "B : b -> f_F4\n",
        "B : c -> f_F3\n",
        "\n",
        "f_F3 : a | b | c -> BH  !! This state and the other final state below transition to nowhere both on any of the characters in the language and on EC, so both go entirely to the BH state.\n",
        "\n",
        "f_F4 : a | b | c -> BH\n",
        "\n",
        "BH : a | b | c -> BH    !! Included only because DFA requires it to be explicitly defined for all values in the language, otherwise the minimization can't occur.\n",
        "\n",
        "\n",
        "''')"
      ],
      "execution_count": 18,
      "outputs": []
    },
    {
      "cell_type": "markdown",
      "metadata": {
        "id": "_PZHkbStjI_Y"
      },
      "source": [
        "### {Answer cells below - show the dfa1 diagram}"
      ]
    },
    {
      "cell_type": "code",
      "metadata": {
        "id": "0RbZ4_-o1Fai",
        "outputId": "12347ed2-5365-4d12-bbad-484dffacaee8",
        "colab": {
          "base_uri": "https://localhost:8080/",
          "height": 358
        }
      },
      "source": [
        "dotObj_dfa(dfa1)"
      ],
      "execution_count": 19,
      "outputs": [
        {
          "output_type": "execute_result",
          "data": {
            "text/plain": [
              "<graphviz.dot.Digraph at 0x7fc5214b0b90>"
            ],
            "image/svg+xml": "<?xml version=\"1.0\" encoding=\"UTF-8\" standalone=\"no\"?>\n<!DOCTYPE svg PUBLIC \"-//W3C//DTD SVG 1.1//EN\"\n \"http://www.w3.org/Graphics/SVG/1.1/DTD/svg11.dtd\">\n<!-- Generated by graphviz version 2.40.1 (20161225.0304)\n -->\n<!-- Title: %3 Pages: 1 -->\n<svg width=\"637pt\" height=\"253pt\"\n viewBox=\"0.00 0.00 636.67 252.60\" xmlns=\"http://www.w3.org/2000/svg\" xmlns:xlink=\"http://www.w3.org/1999/xlink\">\n<g id=\"graph0\" class=\"graph\" transform=\"scale(1 1) rotate(0) translate(4 248.5975)\">\n<title>%3</title>\n<polygon fill=\"#ffffff\" stroke=\"transparent\" points=\"-4,4 -4,-248.5975 632.6736,-248.5975 632.6736,4 -4,4\"/>\n<!-- EMPTY -->\n<g id=\"node1\" class=\"node\">\n<title>EMPTY</title>\n</g>\n<!-- i_B_I1_I2 -->\n<g id=\"node3\" class=\"node\">\n<title>i_B_I1_I2</title>\n<ellipse fill=\"none\" stroke=\"#000000\" cx=\"141.0456\" cy=\"-89\" rx=\"50.0912\" ry=\"50.0912\"/>\n<text text-anchor=\"middle\" x=\"141.0456\" y=\"-85.3\" font-family=\"Times,serif\" font-size=\"14.00\" fill=\"#000000\">i_B_I1_I2</text>\n</g>\n<!-- EMPTY&#45;&gt;i_B_I1_I2 -->\n<g id=\"edge1\" class=\"edge\">\n<title>EMPTY&#45;&gt;i_B_I1_I2</title>\n<path fill=\"none\" stroke=\"#000000\" d=\"M54.0272,-89C62.1538,-89 71.4166,-89 80.7962,-89\"/>\n<polygon fill=\"#000000\" stroke=\"#000000\" points=\"80.9717,-92.5001 90.9717,-89 80.9716,-85.5001 80.9717,-92.5001\"/>\n</g>\n<!-- B_I2 -->\n<g id=\"node2\" class=\"node\">\n<title>B_I2</title>\n<ellipse fill=\"none\" stroke=\"#000000\" cx=\"266.9885\" cy=\"-89\" rx=\"29.795\" ry=\"29.795\"/>\n<text text-anchor=\"middle\" x=\"266.9885\" y=\"-85.3\" font-family=\"Times,serif\" font-size=\"14.00\" fill=\"#000000\">B_I2</text>\n</g>\n<!-- B -->\n<g id=\"node4\" class=\"node\">\n<title>B</title>\n<ellipse fill=\"none\" stroke=\"#000000\" cx=\"497.4787\" cy=\"-165\" rx=\"18\" ry=\"18\"/>\n<text text-anchor=\"middle\" x=\"497.4787\" y=\"-161.3\" font-family=\"Times,serif\" font-size=\"14.00\" fill=\"#000000\">B</text>\n</g>\n<!-- B_I2&#45;&gt;B -->\n<g id=\"edge5\" class=\"edge\">\n<title>B_I2&#45;&gt;B</title>\n<path fill=\"none\" stroke=\"#000000\" d=\"M296.513,-84.2915C331.0587,-80.1666 389.167,-77.616 433.4787,-98 444.4676,-103.0551 464.6326,-125.2934 479.4,-142.7813\"/>\n<polygon fill=\"#000000\" stroke=\"#000000\" points=\"477.063,-145.4443 486.152,-150.8886 482.4419,-140.9646 477.063,-145.4443\"/>\n<text text-anchor=\"middle\" x=\"389.1822\" y=\"-101.8\" font-family=\"Times,serif\" font-size=\"14.00\" fill=\"#000000\">a </text>\n</g>\n<!-- f_B_F4 -->\n<g id=\"node5\" class=\"node\">\n<title>f_B_F4</title>\n<ellipse fill=\"none\" stroke=\"#000000\" cx=\"389.1822\" cy=\"-166\" rx=\"40.1121\" ry=\"40.1121\"/>\n<ellipse fill=\"none\" stroke=\"#000000\" cx=\"389.1822\" cy=\"-166\" rx=\"44.0938\" ry=\"44.0938\"/>\n<text text-anchor=\"middle\" x=\"389.1822\" y=\"-162.3\" font-family=\"Times,serif\" font-size=\"14.00\" fill=\"#000000\">f_B_F4</text>\n</g>\n<!-- B_I2&#45;&gt;f_B_F4 -->\n<g id=\"edge6\" class=\"edge\">\n<title>B_I2&#45;&gt;f_B_F4</title>\n<path fill=\"none\" stroke=\"#000000\" d=\"M292.3071,-104.9544C306.832,-114.1073 325.5224,-125.885 342.6053,-136.6497\"/>\n<polygon fill=\"#000000\" stroke=\"#000000\" points=\"341.0351,-139.7971 351.3614,-142.1673 344.767,-133.8749 341.0351,-139.7971\"/>\n<text text-anchor=\"middle\" x=\"320.8858\" y=\"-129.8\" font-family=\"Times,serif\" font-size=\"14.00\" fill=\"#000000\">b </text>\n</g>\n<!-- f_F3 -->\n<g id=\"node7\" class=\"node\">\n<title>f_F3</title>\n<ellipse fill=\"none\" stroke=\"#000000\" cx=\"596.0761\" cy=\"-95\" rx=\"28.6832\" ry=\"28.6832\"/>\n<ellipse fill=\"none\" stroke=\"#000000\" cx=\"596.0761\" cy=\"-95\" rx=\"32.6952\" ry=\"32.6952\"/>\n<text text-anchor=\"middle\" x=\"596.0761\" y=\"-91.3\" font-family=\"Times,serif\" font-size=\"14.00\" fill=\"#000000\">f_F3</text>\n</g>\n<!-- B_I2&#45;&gt;f_F3 -->\n<g id=\"edge7\" class=\"edge\">\n<title>B_I2&#45;&gt;f_F3</title>\n<path fill=\"none\" stroke=\"#000000\" d=\"M295.9355,-81.2487C302.1432,-79.8974 308.6971,-78.7015 314.8858,-78 399.3446,-68.4263 498.7277,-79.6872 553.8431,-87.9061\"/>\n<polygon fill=\"#000000\" stroke=\"#000000\" points=\"553.5175,-91.3969 563.9321,-89.4508 554.577,-84.4775 553.5175,-91.3969\"/>\n<text text-anchor=\"middle\" x=\"456.4787\" y=\"-81.8\" font-family=\"Times,serif\" font-size=\"14.00\" fill=\"#000000\">c </text>\n</g>\n<!-- i_B_I1_I2&#45;&gt;B_I2 -->\n<g id=\"edge2\" class=\"edge\">\n<title>i_B_I1_I2&#45;&gt;B_I2</title>\n<path fill=\"none\" stroke=\"#000000\" d=\"M191.1834,-89C203.0528,-89 215.5574,-89 226.9122,-89\"/>\n<polygon fill=\"#000000\" stroke=\"#000000\" points=\"226.9658,-92.5001 236.9658,-89 226.9657,-85.5001 226.9658,-92.5001\"/>\n<text text-anchor=\"middle\" x=\"214.0911\" y=\"-92.8\" font-family=\"Times,serif\" font-size=\"14.00\" fill=\"#000000\">a </text>\n</g>\n<!-- i_B_I1_I2&#45;&gt;f_B_F4 -->\n<g id=\"edge3\" class=\"edge\">\n<title>i_B_I1_I2&#45;&gt;f_B_F4</title>\n<path fill=\"none\" stroke=\"#000000\" d=\"M186.9664,-109.1811C202.6859,-115.6768 220.4946,-122.587 237.0911,-128 269.3797,-138.5311 306.3281,-147.8245 335.7214,-154.5846\"/>\n<polygon fill=\"#000000\" stroke=\"#000000\" points=\"335.2565,-158.068 345.7831,-156.8679 336.8057,-151.2416 335.2565,-158.068\"/>\n<text text-anchor=\"middle\" x=\"266.9885\" y=\"-149.8\" font-family=\"Times,serif\" font-size=\"14.00\" fill=\"#000000\">b </text>\n</g>\n<!-- i_B_I1_I2&#45;&gt;f_F3 -->\n<g id=\"edge4\" class=\"edge\">\n<title>i_B_I1_I2&#45;&gt;f_F3</title>\n<path fill=\"none\" stroke=\"#000000\" d=\"M172.8505,-49.9633C196.0856,-26.0501 229.907,0 266.9885,0 266.9885,0 266.9885,0 497.4787,0 531.969,0 559.0362,-30.5186 576.015,-56.9606\"/>\n<polygon fill=\"#000000\" stroke=\"#000000\" points=\"573.1739,-59.0231 581.3824,-65.7217 579.1428,-55.3663 573.1739,-59.0231\"/>\n<text text-anchor=\"middle\" x=\"389.1822\" y=\"-3.8\" font-family=\"Times,serif\" font-size=\"14.00\" fill=\"#000000\">c </text>\n</g>\n<!-- B&#45;&gt;B -->\n<g id=\"edge11\" class=\"edge\">\n<title>B&#45;&gt;B</title>\n<path fill=\"none\" stroke=\"#000000\" d=\"M490.4474,-181.6641C488.8849,-191.625 491.2287,-201 497.4787,-201 501.4826,-201 503.8833,-197.1525 504.681,-191.7682\"/>\n<polygon fill=\"#000000\" stroke=\"#000000\" points=\"508.1788,-191.6033 504.5099,-181.6641 501.1798,-191.7219 508.1788,-191.6033\"/>\n<text text-anchor=\"middle\" x=\"497.4787\" y=\"-204.8\" font-family=\"Times,serif\" font-size=\"14.00\" fill=\"#000000\">a </text>\n</g>\n<!-- f_F4 -->\n<g id=\"node6\" class=\"node\">\n<title>f_F4</title>\n<ellipse fill=\"none\" stroke=\"#000000\" cx=\"596.0761\" cy=\"-212\" rx=\"28.6832\" ry=\"28.6832\"/>\n<ellipse fill=\"none\" stroke=\"#000000\" cx=\"596.0761\" cy=\"-212\" rx=\"32.6952\" ry=\"32.6952\"/>\n<text text-anchor=\"middle\" x=\"596.0761\" y=\"-208.3\" font-family=\"Times,serif\" font-size=\"14.00\" fill=\"#000000\">f_F4</text>\n</g>\n<!-- B&#45;&gt;f_F4 -->\n<g id=\"edge12\" class=\"edge\">\n<title>B&#45;&gt;f_F4</title>\n<path fill=\"none\" stroke=\"#000000\" d=\"M513.76,-172.7611C525.6274,-178.4181 542.219,-186.3271 557.3997,-193.5635\"/>\n<polygon fill=\"#000000\" stroke=\"#000000\" points=\"556.0817,-196.8125 566.6147,-197.9561 559.0939,-190.4937 556.0817,-196.8125\"/>\n<text text-anchor=\"middle\" x=\"539.4787\" y=\"-191.8\" font-family=\"Times,serif\" font-size=\"14.00\" fill=\"#000000\">b </text>\n</g>\n<!-- B&#45;&gt;f_F3 -->\n<g id=\"edge13\" class=\"edge\">\n<title>B&#45;&gt;f_F3</title>\n<path fill=\"none\" stroke=\"#000000\" d=\"M512.4535,-154.3685C525.2985,-145.2491 544.3154,-131.7479 560.9699,-119.9239\"/>\n<polygon fill=\"#000000\" stroke=\"#000000\" points=\"563.2907,-122.5686 569.4186,-113.9257 559.2384,-116.8608 563.2907,-122.5686\"/>\n<text text-anchor=\"middle\" x=\"539.4787\" y=\"-142.8\" font-family=\"Times,serif\" font-size=\"14.00\" fill=\"#000000\">c </text>\n</g>\n<!-- f_B_F4&#45;&gt;B -->\n<g id=\"edge8\" class=\"edge\">\n<title>f_B_F4&#45;&gt;B</title>\n<path fill=\"none\" stroke=\"#000000\" d=\"M433.543,-165.5904C445.5469,-165.4795 458.2146,-165.3626 469.0795,-165.2622\"/>\n<polygon fill=\"#000000\" stroke=\"#000000\" points=\"469.2849,-168.7606 479.2521,-165.1683 469.2202,-161.7609 469.2849,-168.7606\"/>\n<text text-anchor=\"middle\" x=\"456.4787\" y=\"-169.8\" font-family=\"Times,serif\" font-size=\"14.00\" fill=\"#000000\">a </text>\n</g>\n<!-- f_B_F4&#45;&gt;f_F4 -->\n<g id=\"edge9\" class=\"edge\">\n<title>f_B_F4&#45;&gt;f_F4</title>\n<path fill=\"none\" stroke=\"#000000\" d=\"M423.2459,-195.0094C439.2279,-206.7584 459.1979,-218.9616 479.4787,-225 503.8557,-232.258 532.1943,-229.342 554.8292,-224.4505\"/>\n<polygon fill=\"#000000\" stroke=\"#000000\" points=\"555.8673,-227.8017 564.793,-222.0936 554.2559,-220.9897 555.8673,-227.8017\"/>\n<text text-anchor=\"middle\" x=\"497.4787\" y=\"-232.8\" font-family=\"Times,serif\" font-size=\"14.00\" fill=\"#000000\">b </text>\n</g>\n<!-- f_B_F4&#45;&gt;f_F3 -->\n<g id=\"edge10\" class=\"edge\">\n<title>f_B_F4&#45;&gt;f_F3</title>\n<path fill=\"none\" stroke=\"#000000\" d=\"M428.4291,-145.1144C444.0125,-137.4074 462.2913,-129.0809 479.4787,-123 503.6462,-114.4495 531.5418,-107.6463 553.9871,-102.8878\"/>\n<polygon fill=\"#000000\" stroke=\"#000000\" points=\"554.7967,-106.2946 563.8834,-100.8464 553.3824,-99.4389 554.7967,-106.2946\"/>\n<text text-anchor=\"middle\" x=\"497.4787\" y=\"-126.8\" font-family=\"Times,serif\" font-size=\"14.00\" fill=\"#000000\">c </text>\n</g>\n</g>\n</svg>\n"
          },
          "metadata": {},
          "execution_count": 19
        }
      ]
    },
    {
      "cell_type": "markdown",
      "metadata": {
        "id": "VVHNC9J7jI_Y"
      },
      "source": [
        "### Obtain min_dfa1 through Brzozowski's algorithm's function calls applied to dfa1"
      ]
    },
    {
      "cell_type": "markdown",
      "metadata": {
        "id": "vomOBTCZjI_Z"
      },
      "source": [
        "### {Answer cells below - show the Brzozowski minimization commands and display min_dfa1}"
      ]
    },
    {
      "cell_type": "code",
      "metadata": {
        "id": "QB96dt2vjI_Z"
      },
      "source": [
        "min_dfa1 = nfa2dfa(rev_dfa(nfa2dfa(rev_dfa(dfa1))))"
      ],
      "execution_count": 20,
      "outputs": []
    },
    {
      "cell_type": "code",
      "metadata": {
        "id": "CS-PyulrjI_Z",
        "outputId": "d16f36c0-a1bf-44a8-f576-33d873b0867b",
        "colab": {
          "base_uri": "https://localhost:8080/",
          "height": 313
        }
      },
      "source": [
        "dotObj_dfa(min_dfa1, FuseEdges=True)"
      ],
      "execution_count": 21,
      "outputs": [
        {
          "output_type": "execute_result",
          "data": {
            "text/plain": [
              "<graphviz.dot.Digraph at 0x7fc520c5f290>"
            ],
            "image/svg+xml": "<?xml version=\"1.0\" encoding=\"UTF-8\" standalone=\"no\"?>\n<!DOCTYPE svg PUBLIC \"-//W3C//DTD SVG 1.1//EN\"\n \"http://www.w3.org/Graphics/SVG/1.1/DTD/svg11.dtd\">\n<!-- Generated by graphviz version 2.40.1 (20161225.0304)\n -->\n<!-- Title: %3 Pages: 1 -->\n<svg width=\"539pt\" height=\"219pt\"\n viewBox=\"0.00 0.00 538.98 218.53\" xmlns=\"http://www.w3.org/2000/svg\" xmlns:xlink=\"http://www.w3.org/1999/xlink\">\n<g id=\"graph0\" class=\"graph\" transform=\"scale(1 1) rotate(0) translate(4 214.5335)\">\n<title>%3</title>\n<polygon fill=\"#ffffff\" stroke=\"transparent\" points=\"-4,4 -4,-214.5335 534.9792,-214.5335 534.9792,4 -4,4\"/>\n<!-- EMPTY -->\n<g id=\"node1\" class=\"node\">\n<title>EMPTY</title>\n</g>\n<!-- St1 -->\n<g id=\"node2\" class=\"node\">\n<title>St1</title>\n<ellipse fill=\"none\" stroke=\"#000000\" cx=\"114.3979\" cy=\"-108.5335\" rx=\"23.2963\" ry=\"23.2963\"/>\n<text text-anchor=\"middle\" x=\"114.3979\" y=\"-104.8335\" font-family=\"Times,serif\" font-size=\"14.00\" fill=\"#000000\">St1</text>\n</g>\n<!-- EMPTY&#45;&gt;St1 -->\n<g id=\"edge1\" class=\"edge\">\n<title>EMPTY&#45;&gt;St1</title>\n<path fill=\"none\" stroke=\"#000000\" d=\"M54.1742,-108.5335C62.5103,-108.5335 71.7873,-108.5335 80.5137,-108.5335\"/>\n<polygon fill=\"#000000\" stroke=\"#000000\" points=\"80.7846,-112.0336 90.7846,-108.5335 80.7845,-105.0336 80.7846,-112.0336\"/>\n</g>\n<!-- St2 -->\n<g id=\"node4\" class=\"node\">\n<title>St2</title>\n<ellipse fill=\"none\" stroke=\"#000000\" cx=\"207.1938\" cy=\"-47.5335\" rx=\"23.2963\" ry=\"23.2963\"/>\n<text text-anchor=\"middle\" x=\"207.1938\" y=\"-43.8335\" font-family=\"Times,serif\" font-size=\"14.00\" fill=\"#000000\">St2</text>\n</g>\n<!-- St1&#45;&gt;St2 -->\n<g id=\"edge3\" class=\"edge\">\n<title>St1&#45;&gt;St2</title>\n<path fill=\"none\" stroke=\"#000000\" d=\"M133.6248,-94.7413C140.5566,-89.855 148.4749,-84.3716 155.7958,-79.5335 162.9484,-74.8067 170.7606,-69.8435 178.0861,-65.2745\"/>\n<polygon fill=\"#000000\" stroke=\"#000000\" points=\"180.3578,-67.9846 187.0184,-59.7453 176.6735,-62.0327 180.3578,-67.9846\"/>\n<text text-anchor=\"middle\" x=\"160.7958\" y=\"-83.3335\" font-family=\"Times,serif\" font-size=\"14.00\" fill=\"#000000\">a </text>\n</g>\n<!-- St3 -->\n<g id=\"node5\" class=\"node\">\n<title>St3</title>\n<ellipse fill=\"none\" stroke=\"#000000\" cx=\"305.9896\" cy=\"-107.5335\" rx=\"23.3111\" ry=\"23.3111\"/>\n<ellipse fill=\"none\" stroke=\"#000000\" cx=\"305.9896\" cy=\"-107.5335\" rx=\"27.2962\" ry=\"27.2962\"/>\n<text text-anchor=\"middle\" x=\"305.9896\" y=\"-103.8335\" font-family=\"Times,serif\" font-size=\"14.00\" fill=\"#000000\">St3</text>\n</g>\n<!-- St1&#45;&gt;St3 -->\n<g id=\"edge2\" class=\"edge\">\n<title>St1&#45;&gt;St3</title>\n<path fill=\"none\" stroke=\"#000000\" d=\"M137.8908,-108.4109C170.4063,-108.2412 229.4918,-107.9328 268.2396,-107.7305\"/>\n<polygon fill=\"#000000\" stroke=\"#000000\" points=\"268.6086,-111.2287 278.5901,-107.6765 268.572,-104.2288 268.6086,-111.2287\"/>\n<text text-anchor=\"middle\" x=\"207.1938\" y=\"-111.3335\" font-family=\"Times,serif\" font-size=\"14.00\" fill=\"#000000\">b </text>\n</g>\n<!-- St5 -->\n<g id=\"node6\" class=\"node\">\n<title>St5</title>\n<ellipse fill=\"none\" stroke=\"#000000\" cx=\"503.5813\" cy=\"-114.5335\" rx=\"23.3111\" ry=\"23.3111\"/>\n<ellipse fill=\"none\" stroke=\"#000000\" cx=\"503.5813\" cy=\"-114.5335\" rx=\"27.2962\" ry=\"27.2962\"/>\n<text text-anchor=\"middle\" x=\"503.5813\" y=\"-110.8335\" font-family=\"Times,serif\" font-size=\"14.00\" fill=\"#000000\">St5</text>\n</g>\n<!-- St1&#45;&gt;St5 -->\n<g id=\"edge4\" class=\"edge\">\n<title>St1&#45;&gt;St5</title>\n<path fill=\"none\" stroke=\"#000000\" d=\"M125.0339,-129.5938C139.7082,-155.3417 168.7685,-195.5335 207.1938,-195.5335 207.1938,-195.5335 207.1938,-195.5335 402.7855,-195.5335 435.7757,-195.5335 464.1047,-168.8426 482.2531,-146.1039\"/>\n<polygon fill=\"#000000\" stroke=\"#000000\" points=\"485.1826,-148.0345 488.4685,-137.962 479.6185,-143.7869 485.1826,-148.0345\"/>\n<text text-anchor=\"middle\" x=\"305.9896\" y=\"-199.3335\" font-family=\"Times,serif\" font-size=\"14.00\" fill=\"#000000\">c </text>\n</g>\n<!-- St4 -->\n<g id=\"node3\" class=\"node\">\n<title>St4</title>\n<ellipse fill=\"none\" stroke=\"#000000\" cx=\"402.7855\" cy=\"-45.5335\" rx=\"23.2963\" ry=\"23.2963\"/>\n<text text-anchor=\"middle\" x=\"402.7855\" y=\"-41.8335\" font-family=\"Times,serif\" font-size=\"14.00\" fill=\"#000000\">St4</text>\n</g>\n<!-- St4&#45;&gt;St4 -->\n<g id=\"edge11\" class=\"edge\">\n<title>St4&#45;&gt;St4</title>\n<path fill=\"none\" stroke=\"#000000\" d=\"M394.331,-67.6808C393.4087,-77.9548 396.2269,-86.9314 402.7855,-86.9314 406.9871,-86.9314 409.6536,-83.2474 410.785,-77.8983\"/>\n<polygon fill=\"#000000\" stroke=\"#000000\" points=\"414.2916,-77.8266 411.2399,-67.6808 407.2985,-77.5152 414.2916,-77.8266\"/>\n<text text-anchor=\"middle\" x=\"402.7855\" y=\"-90.7314\" font-family=\"Times,serif\" font-size=\"14.00\" fill=\"#000000\">a </text>\n</g>\n<!-- St4&#45;&gt;St5 -->\n<g id=\"edge10\" class=\"edge\">\n<title>St4&#45;&gt;St5</title>\n<path fill=\"none\" stroke=\"#000000\" d=\"M422.2199,-58.8374C436.3144,-68.4858 455.6839,-81.7452 471.9881,-92.9063\"/>\n<polygon fill=\"#000000\" stroke=\"#000000\" points=\"470.4488,-96.0941 480.6777,-98.8548 474.403,-90.3178 470.4488,-96.0941\"/>\n<text text-anchor=\"middle\" x=\"451.1834\" y=\"-100.3335\" font-family=\"Times,serif\" font-size=\"14.00\" fill=\"#000000\">b </text>\n<text text-anchor=\"middle\" x=\"451.1834\" y=\"-85.3335\" font-family=\"Times,serif\" font-size=\"14.00\" fill=\"#000000\"> c </text>\n</g>\n<!-- St2&#45;&gt;St4 -->\n<g id=\"edge8\" class=\"edge\">\n<title>St2&#45;&gt;St4</title>\n<path fill=\"none\" stroke=\"#000000\" d=\"M230.7867,-47.2922C265.223,-46.9401 329.4374,-46.2835 368.916,-45.8798\"/>\n<polygon fill=\"#000000\" stroke=\"#000000\" points=\"369.1452,-49.3778 379.1089,-45.7756 369.0736,-42.3781 369.1452,-49.3778\"/>\n<text text-anchor=\"middle\" x=\"305.9896\" y=\"-50.3335\" font-family=\"Times,serif\" font-size=\"14.00\" fill=\"#000000\">a </text>\n</g>\n<!-- St2&#45;&gt;St3 -->\n<g id=\"edge7\" class=\"edge\">\n<title>St2&#45;&gt;St3</title>\n<path fill=\"none\" stroke=\"#000000\" d=\"M227.5155,-59.629C237.4982,-65.5918 249.6946,-72.9082 260.5917,-79.5335 264.8199,-82.1042 269.261,-84.8217 273.642,-87.5127\"/>\n<polygon fill=\"#000000\" stroke=\"#000000\" points=\"272.1119,-90.6809 282.4623,-92.9437 275.7821,-84.7202 272.1119,-90.6809\"/>\n<text text-anchor=\"middle\" x=\"254.5917\" y=\"-83.3335\" font-family=\"Times,serif\" font-size=\"14.00\" fill=\"#000000\">b </text>\n</g>\n<!-- St2&#45;&gt;St5 -->\n<g id=\"edge9\" class=\"edge\">\n<title>St2&#45;&gt;St5</title>\n<path fill=\"none\" stroke=\"#000000\" d=\"M228.0411,-36.5516C268.4718,-16.8702 359.4233,19.4154 426.1834,-13.5335 454.1649,-27.3435 474.8312,-56.6621 487.736,-80.171\"/>\n<polygon fill=\"#000000\" stroke=\"#000000\" points=\"484.7164,-81.949 492.4638,-89.1759 490.9142,-78.695 484.7164,-81.949\"/>\n<text text-anchor=\"middle\" x=\"356.3875\" y=\"-4.3335\" font-family=\"Times,serif\" font-size=\"14.00\" fill=\"#000000\">c </text>\n</g>\n<!-- St3&#45;&gt;St4 -->\n<g id=\"edge6\" class=\"edge\">\n<title>St3&#45;&gt;St4</title>\n<path fill=\"none\" stroke=\"#000000\" d=\"M329.4212,-92.525C342.9509,-83.8589 360.0652,-72.8968 374.3602,-63.7405\"/>\n<polygon fill=\"#000000\" stroke=\"#000000\" points=\"376.3064,-66.6504 382.8393,-58.3094 372.5308,-60.7559 376.3064,-66.6504\"/>\n<text text-anchor=\"middle\" x=\"356.3875\" y=\"-81.3335\" font-family=\"Times,serif\" font-size=\"14.00\" fill=\"#000000\">a </text>\n</g>\n<!-- St3&#45;&gt;St5 -->\n<g id=\"edge5\" class=\"edge\">\n<title>St3&#45;&gt;St5</title>\n<path fill=\"none\" stroke=\"#000000\" d=\"M333.462,-110.0297C363.9232,-112.5519 414.5287,-116.0142 458.1834,-115.5335 460.5779,-115.5071 463.0432,-115.4729 465.529,-115.4331\"/>\n<polygon fill=\"#000000\" stroke=\"#000000\" points=\"465.7996,-118.9288 475.7329,-115.2438 465.6697,-111.93 465.7996,-118.9288\"/>\n<text text-anchor=\"middle\" x=\"402.7855\" y=\"-133.3335\" font-family=\"Times,serif\" font-size=\"14.00\" fill=\"#000000\">b </text>\n<text text-anchor=\"middle\" x=\"402.7855\" y=\"-118.3335\" font-family=\"Times,serif\" font-size=\"14.00\" fill=\"#000000\"> c </text>\n</g>\n</g>\n</svg>\n"
          },
          "metadata": {},
          "execution_count": 21
        }
      ]
    },
    {
      "cell_type": "markdown",
      "metadata": {
        "id": "CA3dgtPYjI_Z"
      },
      "source": [
        "### Now, check for language equivalence and isomorphism."
      ]
    },
    {
      "cell_type": "markdown",
      "metadata": {
        "id": "HtbToKGPjI_a"
      },
      "source": [
        "### {Answer cells below - show checks for langeq_dfa and iso_dfa}"
      ]
    },
    {
      "cell_type": "code",
      "metadata": {
        "id": "pm-gyeX7jI_a",
        "outputId": "ec0ce8e7-c34f-4a46-c917-8db63e5550f3",
        "colab": {
          "base_uri": "https://localhost:8080/"
        }
      },
      "source": [
        "langeq_dfa(dfa1, min_dfa1)"
      ],
      "execution_count": 22,
      "outputs": [
        {
          "output_type": "execute_result",
          "data": {
            "text/plain": [
              "True"
            ]
          },
          "metadata": {},
          "execution_count": 22
        }
      ]
    },
    {
      "cell_type": "code",
      "metadata": {
        "id": "FmYCFSY2jI_a",
        "outputId": "d24f668a-de73-4ce3-8492-f2a0f09848b3",
        "colab": {
          "base_uri": "https://localhost:8080/"
        }
      },
      "source": [
        "iso_dfa(dfa1, min_dfa1)"
      ],
      "execution_count": 23,
      "outputs": [
        {
          "output_type": "execute_result",
          "data": {
            "text/plain": [
              "False"
            ]
          },
          "metadata": {},
          "execution_count": 23
        }
      ]
    },
    {
      "cell_type": "markdown",
      "metadata": {
        "id": "4Y1-o1b4jI_a"
      },
      "source": [
        "### Here, document isomorphism, describing the Wikipedia article's notion of isomorphism between two graphs G and H. Explain why such a function \"f\" that establishes the isomorphism does not exist between dfa1 and min_dfa1"
      ]
    },
    {
      "cell_type": "markdown",
      "metadata": {
        "id": "D6rreGhNjI_a"
      },
      "source": [
        "### {Answer cells below - answer questions on language equivalence and isomorphism}"
      ]
    },
    {
      "cell_type": "markdown",
      "metadata": {
        "id": "gO_8YK0ijI_a"
      },
      "source": [
        "* Answer steps below\n",
        "*\n",
        "* Why are these DFA language equivalent? Do a few checks by hand on six strings in numeric order\n",
        "*\n",
        "*\n",
        "* Why are these DFA not isomorphic? Why does such an \"f\" function as in the Wikipedia article not exist? Provide reasons in a few steps\n",
        "*\n",
        "*\n",
        "*"
      ]
    },
    {
      "cell_type": "markdown",
      "metadata": {
        "id": "58T3ixS0mQDT"
      },
      "source": [
        "## Question 2: Understanding DFA utilities"
      ]
    },
    {
      "cell_type": "markdown",
      "metadata": {
        "id": "0wpgp01_jI_b"
      },
      "source": [
        "### {Answer cells below - describe the Jove functions requested}"
      ]
    },
    {
      "cell_type": "code",
      "metadata": {
        "id": "sZwYych7Crve",
        "outputId": "3da9e1a9-bf49-4153-d893-76325a7a33d5",
        "colab": {
          "base_uri": "https://localhost:8080/"
        }
      },
      "source": [
        "help(totalize_dfa)\n",
        "help(dotObj_dfa_w_bh)\n",
        "help(comp_dfa)"
      ],
      "execution_count": 24,
      "outputs": [
        {
          "output_type": "stream",
          "name": "stdout",
          "text": [
            "Help on function totalize_dfa in module jove.Def_DFA:\n",
            "\n",
            "totalize_dfa(D)\n",
            "    In : Partially consistent DFA\n",
            "    Out: A consistent DFA \n",
            "    Given a partially specified DFA, make it total by \n",
            "    transitioning to state BH wherever the incoming Delta \n",
            "    has gaps. The returned DFA is structurally consistent.\n",
            "\n",
            "Help on function dotObj_dfa_w_bh in module jove.DotBashers:\n",
            "\n",
            "dotObj_dfa_w_bh(D, FuseEdges=False, dfaName='do_', STATENAME_MAXSIZE=20)\n",
            "    In : D (DFA : partially consistent, states shrunk)\n",
            "         dfaName (string)\n",
            "         STATENAME_MAXSIZE : number\n",
            "    Out: A dot object. \n",
            "    Generate a dot object representing the automaton. \n",
            "    Do not suppress \"black-hole states\".\n",
            "\n",
            "Help on function comp_dfa in module jove.Def_DFA:\n",
            "\n",
            "comp_dfa(D)\n",
            "    In : D (DFA : partially consistent)\n",
            "    Out: Consistent DFA that is D's complement.\n",
            "    Before we begin, make D total. This is crucial, \n",
            "    as the black-hole states if any\n",
            "    become \"white-hole\" states in the complemented DFA \n",
            "    (i.e. really turn into accepting \n",
            "    states from which one can't get out).\n",
            "    Then flip the FINAL and NON-FINAL states.\n",
            "\n"
          ]
        }
      ]
    },
    {
      "cell_type": "markdown",
      "metadata": {
        "id": "K3jtxhvpmjxE"
      },
      "source": [
        "\n",
        "* Learn about a few DFA utilities such as totalize_dfa and dotObj_dfa_w_bh. Understand the behavior of comp_dfa. Use \"help(...)\" and read the documentation. Explanations of your understanding to be provided below under \"Part a\".\n",
        "\n",
        "* Extract an RE by inspecting nfa1 and write it down as RE1_hand. Do this under \"Part b\" below.\n",
        "\n",
        "* Understand the function del_gnfa_states via its help command. Do this under \"Part c\" below."
      ]
    },
    {
      "cell_type": "markdown",
      "metadata": {
        "id": "LXI8rWsQjI_b"
      },
      "source": [
        "### {Answer cells below -  Do the steps below and then obtain pdfa1 and display it}"
      ]
    },
    {
      "cell_type": "markdown",
      "metadata": {
        "id": "KfUW_PBz1Fak"
      },
      "source": [
        "### Part a: \n",
        "\n",
        "* First remove all BH moves from dfa1, calling it the \"partial dfa1\" or pdfa1. Display the DFA using dotObj_dfa_w_bh(...).\n",
        "\n",
        "\n",
        "* Then apply the totalize command and save the result in tot_pdfa1. Display the DFA using dotObj_dfa_w_bh(...). Use the \"FuseEdges\" option. \n",
        "\n",
        "* \n",
        "\n",
        "* What difference do you observe in the displayed DFA after \"totalize\"? Write in a few sentences in the space below.\n",
        "\n",
        "* The main and only difference is all of the BH moves that were present in the earlier DFA dfa1 are present in tot_pdfa1, but are not present in pdfa1.  The reason for this is we removed all of the BH moves from pdfa1 (the moves that, for a state, go to nothing [a black hole] because that state doesn't have a move defined for that value or Delta).  All totalize() does is look through the entire DFA and, for every move from a state that is undefined, have that state go to a BH state and introduce that state into the machine.  Basically, all totalize does is have any undefined move go to BH, which in this case meant putting the exact states we removed to make pdfa1 back in place and this time explicitly show those transitions."
      ]
    },
    {
      "cell_type": "code",
      "metadata": {
        "id": "1VS-Vx6BjI_c"
      },
      "source": [
        "# DFA of nfa1\n",
        "\n",
        "pdfa1 = md2mc('''DFA\n",
        "\n",
        "i_B_I1_I2 : a -> B_I2    !! {FILL HERE} the DFA moves, writing short comments almost per-line  \n",
        "i_B_I1_I2 : b -> f_B_F4\n",
        "i_B_I1_I2 : c -> f_F3\n",
        "\n",
        "B_I2 : a -> B\n",
        "B_I2 : b -> f_B_F4\n",
        "B_I2 : c -> f_F3\n",
        "\n",
        "f_B_F4 : a -> B\n",
        "f_B_F4 : b -> f_F4\n",
        "f_B_F4 : c -> f_F3\n",
        "\n",
        "B : a -> B\n",
        "B : b -> f_F4\n",
        "B : c -> f_F3\n",
        "\n",
        "\n",
        "''')"
      ],
      "execution_count": 25,
      "outputs": []
    },
    {
      "cell_type": "code",
      "metadata": {
        "id": "_rI3eWbvjI_c",
        "outputId": "3d069135-a681-4985-8c34-5acda1d07c27",
        "colab": {
          "base_uri": "https://localhost:8080/",
          "height": 358
        }
      },
      "source": [
        "dotObj_dfa_w_bh(pdfa1)"
      ],
      "execution_count": 26,
      "outputs": [
        {
          "output_type": "execute_result",
          "data": {
            "text/plain": [
              "<graphviz.dot.Digraph at 0x7fc5275bd790>"
            ],
            "image/svg+xml": "<?xml version=\"1.0\" encoding=\"UTF-8\" standalone=\"no\"?>\n<!DOCTYPE svg PUBLIC \"-//W3C//DTD SVG 1.1//EN\"\n \"http://www.w3.org/Graphics/SVG/1.1/DTD/svg11.dtd\">\n<!-- Generated by graphviz version 2.40.1 (20161225.0304)\n -->\n<!-- Title: %3 Pages: 1 -->\n<svg width=\"637pt\" height=\"253pt\"\n viewBox=\"0.00 0.00 636.67 252.60\" xmlns=\"http://www.w3.org/2000/svg\" xmlns:xlink=\"http://www.w3.org/1999/xlink\">\n<g id=\"graph0\" class=\"graph\" transform=\"scale(1 1) rotate(0) translate(4 248.5975)\">\n<title>%3</title>\n<polygon fill=\"#ffffff\" stroke=\"transparent\" points=\"-4,4 -4,-248.5975 632.6736,-248.5975 632.6736,4 -4,4\"/>\n<!-- EMPTY -->\n<g id=\"node1\" class=\"node\">\n<title>EMPTY</title>\n</g>\n<!-- i_B_I1_I2 -->\n<g id=\"node3\" class=\"node\">\n<title>i_B_I1_I2</title>\n<ellipse fill=\"none\" stroke=\"#000000\" cx=\"141.0456\" cy=\"-89\" rx=\"50.0912\" ry=\"50.0912\"/>\n<text text-anchor=\"middle\" x=\"141.0456\" y=\"-85.3\" font-family=\"Times,serif\" font-size=\"14.00\" fill=\"#000000\">i_B_I1_I2</text>\n</g>\n<!-- EMPTY&#45;&gt;i_B_I1_I2 -->\n<g id=\"edge1\" class=\"edge\">\n<title>EMPTY&#45;&gt;i_B_I1_I2</title>\n<path fill=\"none\" stroke=\"#000000\" d=\"M54.0272,-89C62.1538,-89 71.4166,-89 80.7962,-89\"/>\n<polygon fill=\"#000000\" stroke=\"#000000\" points=\"80.9717,-92.5001 90.9717,-89 80.9716,-85.5001 80.9717,-92.5001\"/>\n</g>\n<!-- B_I2 -->\n<g id=\"node2\" class=\"node\">\n<title>B_I2</title>\n<ellipse fill=\"none\" stroke=\"#000000\" cx=\"266.9885\" cy=\"-89\" rx=\"29.795\" ry=\"29.795\"/>\n<text text-anchor=\"middle\" x=\"266.9885\" y=\"-85.3\" font-family=\"Times,serif\" font-size=\"14.00\" fill=\"#000000\">B_I2</text>\n</g>\n<!-- B -->\n<g id=\"node4\" class=\"node\">\n<title>B</title>\n<ellipse fill=\"none\" stroke=\"#000000\" cx=\"497.4787\" cy=\"-165\" rx=\"18\" ry=\"18\"/>\n<text text-anchor=\"middle\" x=\"497.4787\" y=\"-161.3\" font-family=\"Times,serif\" font-size=\"14.00\" fill=\"#000000\">B</text>\n</g>\n<!-- B_I2&#45;&gt;B -->\n<g id=\"edge5\" class=\"edge\">\n<title>B_I2&#45;&gt;B</title>\n<path fill=\"none\" stroke=\"#000000\" d=\"M296.513,-84.2915C331.0587,-80.1666 389.167,-77.616 433.4787,-98 444.4676,-103.0551 464.6326,-125.2934 479.4,-142.7813\"/>\n<polygon fill=\"#000000\" stroke=\"#000000\" points=\"477.063,-145.4443 486.152,-150.8886 482.4419,-140.9646 477.063,-145.4443\"/>\n<text text-anchor=\"middle\" x=\"389.1822\" y=\"-101.8\" font-family=\"Times,serif\" font-size=\"14.00\" fill=\"#000000\">a </text>\n</g>\n<!-- f_B_F4 -->\n<g id=\"node5\" class=\"node\">\n<title>f_B_F4</title>\n<ellipse fill=\"none\" stroke=\"#000000\" cx=\"389.1822\" cy=\"-166\" rx=\"40.1121\" ry=\"40.1121\"/>\n<ellipse fill=\"none\" stroke=\"#000000\" cx=\"389.1822\" cy=\"-166\" rx=\"44.0938\" ry=\"44.0938\"/>\n<text text-anchor=\"middle\" x=\"389.1822\" y=\"-162.3\" font-family=\"Times,serif\" font-size=\"14.00\" fill=\"#000000\">f_B_F4</text>\n</g>\n<!-- B_I2&#45;&gt;f_B_F4 -->\n<g id=\"edge6\" class=\"edge\">\n<title>B_I2&#45;&gt;f_B_F4</title>\n<path fill=\"none\" stroke=\"#000000\" d=\"M292.3071,-104.9544C306.832,-114.1073 325.5224,-125.885 342.6053,-136.6497\"/>\n<polygon fill=\"#000000\" stroke=\"#000000\" points=\"341.0351,-139.7971 351.3614,-142.1673 344.767,-133.8749 341.0351,-139.7971\"/>\n<text text-anchor=\"middle\" x=\"320.8858\" y=\"-129.8\" font-family=\"Times,serif\" font-size=\"14.00\" fill=\"#000000\">b </text>\n</g>\n<!-- f_F3 -->\n<g id=\"node7\" class=\"node\">\n<title>f_F3</title>\n<ellipse fill=\"none\" stroke=\"#000000\" cx=\"596.0761\" cy=\"-95\" rx=\"28.6832\" ry=\"28.6832\"/>\n<ellipse fill=\"none\" stroke=\"#000000\" cx=\"596.0761\" cy=\"-95\" rx=\"32.6952\" ry=\"32.6952\"/>\n<text text-anchor=\"middle\" x=\"596.0761\" y=\"-91.3\" font-family=\"Times,serif\" font-size=\"14.00\" fill=\"#000000\">f_F3</text>\n</g>\n<!-- B_I2&#45;&gt;f_F3 -->\n<g id=\"edge7\" class=\"edge\">\n<title>B_I2&#45;&gt;f_F3</title>\n<path fill=\"none\" stroke=\"#000000\" d=\"M295.9355,-81.2487C302.1432,-79.8974 308.6971,-78.7015 314.8858,-78 399.3446,-68.4263 498.7277,-79.6872 553.8431,-87.9061\"/>\n<polygon fill=\"#000000\" stroke=\"#000000\" points=\"553.5175,-91.3969 563.9321,-89.4508 554.577,-84.4775 553.5175,-91.3969\"/>\n<text text-anchor=\"middle\" x=\"456.4787\" y=\"-81.8\" font-family=\"Times,serif\" font-size=\"14.00\" fill=\"#000000\">c </text>\n</g>\n<!-- i_B_I1_I2&#45;&gt;B_I2 -->\n<g id=\"edge2\" class=\"edge\">\n<title>i_B_I1_I2&#45;&gt;B_I2</title>\n<path fill=\"none\" stroke=\"#000000\" d=\"M191.1834,-89C203.0528,-89 215.5574,-89 226.9122,-89\"/>\n<polygon fill=\"#000000\" stroke=\"#000000\" points=\"226.9658,-92.5001 236.9658,-89 226.9657,-85.5001 226.9658,-92.5001\"/>\n<text text-anchor=\"middle\" x=\"214.0911\" y=\"-92.8\" font-family=\"Times,serif\" font-size=\"14.00\" fill=\"#000000\">a </text>\n</g>\n<!-- i_B_I1_I2&#45;&gt;f_B_F4 -->\n<g id=\"edge3\" class=\"edge\">\n<title>i_B_I1_I2&#45;&gt;f_B_F4</title>\n<path fill=\"none\" stroke=\"#000000\" d=\"M186.9664,-109.1811C202.6859,-115.6768 220.4946,-122.587 237.0911,-128 269.3797,-138.5311 306.3281,-147.8245 335.7214,-154.5846\"/>\n<polygon fill=\"#000000\" stroke=\"#000000\" points=\"335.2565,-158.068 345.7831,-156.8679 336.8057,-151.2416 335.2565,-158.068\"/>\n<text text-anchor=\"middle\" x=\"266.9885\" y=\"-149.8\" font-family=\"Times,serif\" font-size=\"14.00\" fill=\"#000000\">b </text>\n</g>\n<!-- i_B_I1_I2&#45;&gt;f_F3 -->\n<g id=\"edge4\" class=\"edge\">\n<title>i_B_I1_I2&#45;&gt;f_F3</title>\n<path fill=\"none\" stroke=\"#000000\" d=\"M172.8505,-49.9633C196.0856,-26.0501 229.907,0 266.9885,0 266.9885,0 266.9885,0 497.4787,0 531.969,0 559.0362,-30.5186 576.015,-56.9606\"/>\n<polygon fill=\"#000000\" stroke=\"#000000\" points=\"573.1739,-59.0231 581.3824,-65.7217 579.1428,-55.3663 573.1739,-59.0231\"/>\n<text text-anchor=\"middle\" x=\"389.1822\" y=\"-3.8\" font-family=\"Times,serif\" font-size=\"14.00\" fill=\"#000000\">c </text>\n</g>\n<!-- B&#45;&gt;B -->\n<g id=\"edge11\" class=\"edge\">\n<title>B&#45;&gt;B</title>\n<path fill=\"none\" stroke=\"#000000\" d=\"M490.4474,-181.6641C488.8849,-191.625 491.2287,-201 497.4787,-201 501.4826,-201 503.8833,-197.1525 504.681,-191.7682\"/>\n<polygon fill=\"#000000\" stroke=\"#000000\" points=\"508.1788,-191.6033 504.5099,-181.6641 501.1798,-191.7219 508.1788,-191.6033\"/>\n<text text-anchor=\"middle\" x=\"497.4787\" y=\"-204.8\" font-family=\"Times,serif\" font-size=\"14.00\" fill=\"#000000\">a </text>\n</g>\n<!-- f_F4 -->\n<g id=\"node6\" class=\"node\">\n<title>f_F4</title>\n<ellipse fill=\"none\" stroke=\"#000000\" cx=\"596.0761\" cy=\"-212\" rx=\"28.6832\" ry=\"28.6832\"/>\n<ellipse fill=\"none\" stroke=\"#000000\" cx=\"596.0761\" cy=\"-212\" rx=\"32.6952\" ry=\"32.6952\"/>\n<text text-anchor=\"middle\" x=\"596.0761\" y=\"-208.3\" font-family=\"Times,serif\" font-size=\"14.00\" fill=\"#000000\">f_F4</text>\n</g>\n<!-- B&#45;&gt;f_F4 -->\n<g id=\"edge12\" class=\"edge\">\n<title>B&#45;&gt;f_F4</title>\n<path fill=\"none\" stroke=\"#000000\" d=\"M513.76,-172.7611C525.6274,-178.4181 542.219,-186.3271 557.3997,-193.5635\"/>\n<polygon fill=\"#000000\" stroke=\"#000000\" points=\"556.0817,-196.8125 566.6147,-197.9561 559.0939,-190.4937 556.0817,-196.8125\"/>\n<text text-anchor=\"middle\" x=\"539.4787\" y=\"-191.8\" font-family=\"Times,serif\" font-size=\"14.00\" fill=\"#000000\">b </text>\n</g>\n<!-- B&#45;&gt;f_F3 -->\n<g id=\"edge13\" class=\"edge\">\n<title>B&#45;&gt;f_F3</title>\n<path fill=\"none\" stroke=\"#000000\" d=\"M512.4535,-154.3685C525.2985,-145.2491 544.3154,-131.7479 560.9699,-119.9239\"/>\n<polygon fill=\"#000000\" stroke=\"#000000\" points=\"563.2907,-122.5686 569.4186,-113.9257 559.2384,-116.8608 563.2907,-122.5686\"/>\n<text text-anchor=\"middle\" x=\"539.4787\" y=\"-142.8\" font-family=\"Times,serif\" font-size=\"14.00\" fill=\"#000000\">c </text>\n</g>\n<!-- f_B_F4&#45;&gt;B -->\n<g id=\"edge8\" class=\"edge\">\n<title>f_B_F4&#45;&gt;B</title>\n<path fill=\"none\" stroke=\"#000000\" d=\"M433.543,-165.5904C445.5469,-165.4795 458.2146,-165.3626 469.0795,-165.2622\"/>\n<polygon fill=\"#000000\" stroke=\"#000000\" points=\"469.2849,-168.7606 479.2521,-165.1683 469.2202,-161.7609 469.2849,-168.7606\"/>\n<text text-anchor=\"middle\" x=\"456.4787\" y=\"-169.8\" font-family=\"Times,serif\" font-size=\"14.00\" fill=\"#000000\">a </text>\n</g>\n<!-- f_B_F4&#45;&gt;f_F4 -->\n<g id=\"edge9\" class=\"edge\">\n<title>f_B_F4&#45;&gt;f_F4</title>\n<path fill=\"none\" stroke=\"#000000\" d=\"M423.2459,-195.0094C439.2279,-206.7584 459.1979,-218.9616 479.4787,-225 503.8557,-232.258 532.1943,-229.342 554.8292,-224.4505\"/>\n<polygon fill=\"#000000\" stroke=\"#000000\" points=\"555.8673,-227.8017 564.793,-222.0936 554.2559,-220.9897 555.8673,-227.8017\"/>\n<text text-anchor=\"middle\" x=\"497.4787\" y=\"-232.8\" font-family=\"Times,serif\" font-size=\"14.00\" fill=\"#000000\">b </text>\n</g>\n<!-- f_B_F4&#45;&gt;f_F3 -->\n<g id=\"edge10\" class=\"edge\">\n<title>f_B_F4&#45;&gt;f_F3</title>\n<path fill=\"none\" stroke=\"#000000\" d=\"M428.4291,-145.1144C444.0125,-137.4074 462.2913,-129.0809 479.4787,-123 503.6462,-114.4495 531.5418,-107.6463 553.9871,-102.8878\"/>\n<polygon fill=\"#000000\" stroke=\"#000000\" points=\"554.7967,-106.2946 563.8834,-100.8464 553.3824,-99.4389 554.7967,-106.2946\"/>\n<text text-anchor=\"middle\" x=\"497.4787\" y=\"-126.8\" font-family=\"Times,serif\" font-size=\"14.00\" fill=\"#000000\">c </text>\n</g>\n</g>\n</svg>\n"
          },
          "metadata": {},
          "execution_count": 26
        }
      ]
    },
    {
      "cell_type": "code",
      "metadata": {
        "id": "7gb8htLAozrl"
      },
      "source": [
        "tot_pdfa1 = totalize_dfa(pdfa1)"
      ],
      "execution_count": 27,
      "outputs": []
    },
    {
      "cell_type": "code",
      "metadata": {
        "id": "BkUu0N8Oo_Ib",
        "outputId": "26372168-adad-4481-a125-4774d16e2abc",
        "colab": {
          "base_uri": "https://localhost:8080/",
          "height": 356
        }
      },
      "source": [
        "dotObj_dfa_w_bh(tot_pdfa1, FuseEdges=True)"
      ],
      "execution_count": 30,
      "outputs": [
        {
          "output_type": "execute_result",
          "data": {
            "text/plain": [
              "<graphviz.dot.Digraph at 0x7fc520c75ad0>"
            ],
            "image/svg+xml": "<?xml version=\"1.0\" encoding=\"UTF-8\" standalone=\"no\"?>\n<!DOCTYPE svg PUBLIC \"-//W3C//DTD SVG 1.1//EN\"\n \"http://www.w3.org/Graphics/SVG/1.1/DTD/svg11.dtd\">\n<!-- Generated by graphviz version 2.40.1 (20161225.0304)\n -->\n<!-- Title: %3 Pages: 1 -->\n<svg width=\"735pt\" height=\"251pt\"\n viewBox=\"0.00 0.00 734.77 251.00\" xmlns=\"http://www.w3.org/2000/svg\" xmlns:xlink=\"http://www.w3.org/1999/xlink\">\n<g id=\"graph0\" class=\"graph\" transform=\"scale(1 1) rotate(0) translate(4 247)\">\n<title>%3</title>\n<polygon fill=\"#ffffff\" stroke=\"transparent\" points=\"-4,4 -4,-247 730.7693,-247 730.7693,4 -4,4\"/>\n<!-- EMPTY -->\n<g id=\"node1\" class=\"node\">\n<title>EMPTY</title>\n</g>\n<!-- i_B_I1_I2 -->\n<g id=\"node3\" class=\"node\">\n<title>i_B_I1_I2</title>\n<ellipse fill=\"none\" stroke=\"#000000\" cx=\"141.0456\" cy=\"-89\" rx=\"50.0912\" ry=\"50.0912\"/>\n<text text-anchor=\"middle\" x=\"141.0456\" y=\"-85.3\" font-family=\"Times,serif\" font-size=\"14.00\" fill=\"#000000\">i_B_I1_I2</text>\n</g>\n<!-- EMPTY&#45;&gt;i_B_I1_I2 -->\n<g id=\"edge1\" class=\"edge\">\n<title>EMPTY&#45;&gt;i_B_I1_I2</title>\n<path fill=\"none\" stroke=\"#000000\" d=\"M54.0272,-89C62.1538,-89 71.4166,-89 80.7962,-89\"/>\n<polygon fill=\"#000000\" stroke=\"#000000\" points=\"80.9717,-92.5001 90.9717,-89 80.9716,-85.5001 80.9717,-92.5001\"/>\n</g>\n<!-- B_I2 -->\n<g id=\"node2\" class=\"node\">\n<title>B_I2</title>\n<ellipse fill=\"none\" stroke=\"#000000\" cx=\"266.9885\" cy=\"-89\" rx=\"29.795\" ry=\"29.795\"/>\n<text text-anchor=\"middle\" x=\"266.9885\" y=\"-85.3\" font-family=\"Times,serif\" font-size=\"14.00\" fill=\"#000000\">B_I2</text>\n</g>\n<!-- B -->\n<g id=\"node4\" class=\"node\">\n<title>B</title>\n<ellipse fill=\"none\" stroke=\"#000000\" cx=\"497.4787\" cy=\"-165\" rx=\"18\" ry=\"18\"/>\n<text text-anchor=\"middle\" x=\"497.4787\" y=\"-161.3\" font-family=\"Times,serif\" font-size=\"14.00\" fill=\"#000000\">B</text>\n</g>\n<!-- B_I2&#45;&gt;B -->\n<g id=\"edge5\" class=\"edge\">\n<title>B_I2&#45;&gt;B</title>\n<path fill=\"none\" stroke=\"#000000\" d=\"M296.513,-84.2915C331.0587,-80.1666 389.167,-77.616 433.4787,-98 444.4676,-103.0551 464.6326,-125.2934 479.4,-142.7813\"/>\n<polygon fill=\"#000000\" stroke=\"#000000\" points=\"477.063,-145.4443 486.152,-150.8886 482.4419,-140.9646 477.063,-145.4443\"/>\n<text text-anchor=\"middle\" x=\"389.1822\" y=\"-101.8\" font-family=\"Times,serif\" font-size=\"14.00\" fill=\"#000000\">a </text>\n</g>\n<!-- f_B_F4 -->\n<g id=\"node6\" class=\"node\">\n<title>f_B_F4</title>\n<ellipse fill=\"none\" stroke=\"#000000\" cx=\"389.1822\" cy=\"-166\" rx=\"40.1121\" ry=\"40.1121\"/>\n<ellipse fill=\"none\" stroke=\"#000000\" cx=\"389.1822\" cy=\"-166\" rx=\"44.0938\" ry=\"44.0938\"/>\n<text text-anchor=\"middle\" x=\"389.1822\" y=\"-162.3\" font-family=\"Times,serif\" font-size=\"14.00\" fill=\"#000000\">f_B_F4</text>\n</g>\n<!-- B_I2&#45;&gt;f_B_F4 -->\n<g id=\"edge6\" class=\"edge\">\n<title>B_I2&#45;&gt;f_B_F4</title>\n<path fill=\"none\" stroke=\"#000000\" d=\"M292.3071,-104.9544C306.832,-114.1073 325.5224,-125.885 342.6053,-136.6497\"/>\n<polygon fill=\"#000000\" stroke=\"#000000\" points=\"341.0351,-139.7971 351.3614,-142.1673 344.767,-133.8749 341.0351,-139.7971\"/>\n<text text-anchor=\"middle\" x=\"320.8858\" y=\"-129.8\" font-family=\"Times,serif\" font-size=\"14.00\" fill=\"#000000\">b </text>\n</g>\n<!-- f_F3 -->\n<g id=\"node8\" class=\"node\">\n<title>f_F3</title>\n<ellipse fill=\"none\" stroke=\"#000000\" cx=\"596.0761\" cy=\"-112\" rx=\"28.6832\" ry=\"28.6832\"/>\n<ellipse fill=\"none\" stroke=\"#000000\" cx=\"596.0761\" cy=\"-112\" rx=\"32.6952\" ry=\"32.6952\"/>\n<text text-anchor=\"middle\" x=\"596.0761\" y=\"-108.3\" font-family=\"Times,serif\" font-size=\"14.00\" fill=\"#000000\">f_F3</text>\n</g>\n<!-- B_I2&#45;&gt;f_F3 -->\n<g id=\"edge7\" class=\"edge\">\n<title>B_I2&#45;&gt;f_F3</title>\n<path fill=\"none\" stroke=\"#000000\" d=\"M295.9355,-81.2487C302.1432,-79.8974 308.6971,-78.7015 314.8858,-78 367.2584,-72.0634 381.0504,-72.5771 433.4787,-78 475.1533,-82.3106 521.8917,-92.6782 554.5255,-100.8401\"/>\n<polygon fill=\"#000000\" stroke=\"#000000\" points=\"554.0468,-104.3297 564.601,-103.4021 555.7719,-97.5456 554.0468,-104.3297\"/>\n<text text-anchor=\"middle\" x=\"456.4787\" y=\"-85.8\" font-family=\"Times,serif\" font-size=\"14.00\" fill=\"#000000\">c </text>\n</g>\n<!-- i_B_I1_I2&#45;&gt;B_I2 -->\n<g id=\"edge2\" class=\"edge\">\n<title>i_B_I1_I2&#45;&gt;B_I2</title>\n<path fill=\"none\" stroke=\"#000000\" d=\"M191.1834,-89C203.0528,-89 215.5574,-89 226.9122,-89\"/>\n<polygon fill=\"#000000\" stroke=\"#000000\" points=\"226.9658,-92.5001 236.9658,-89 226.9657,-85.5001 226.9658,-92.5001\"/>\n<text text-anchor=\"middle\" x=\"214.0911\" y=\"-92.8\" font-family=\"Times,serif\" font-size=\"14.00\" fill=\"#000000\">a </text>\n</g>\n<!-- i_B_I1_I2&#45;&gt;f_B_F4 -->\n<g id=\"edge3\" class=\"edge\">\n<title>i_B_I1_I2&#45;&gt;f_B_F4</title>\n<path fill=\"none\" stroke=\"#000000\" d=\"M186.9664,-109.1811C202.6859,-115.6768 220.4946,-122.587 237.0911,-128 269.3797,-138.5311 306.3281,-147.8245 335.7214,-154.5846\"/>\n<polygon fill=\"#000000\" stroke=\"#000000\" points=\"335.2565,-158.068 345.7831,-156.8679 336.8057,-151.2416 335.2565,-158.068\"/>\n<text text-anchor=\"middle\" x=\"266.9885\" y=\"-149.8\" font-family=\"Times,serif\" font-size=\"14.00\" fill=\"#000000\">b </text>\n</g>\n<!-- i_B_I1_I2&#45;&gt;f_F3 -->\n<g id=\"edge4\" class=\"edge\">\n<title>i_B_I1_I2&#45;&gt;f_F3</title>\n<path fill=\"none\" stroke=\"#000000\" d=\"M172.8505,-49.9633C196.0856,-26.0501 229.907,0 266.9885,0 266.9885,0 266.9885,0 497.4787,0 537.0899,0 564.5575,-39.9566 580.2565,-72.1384\"/>\n<polygon fill=\"#000000\" stroke=\"#000000\" points=\"577.1712,-73.8042 584.5619,-81.3955 583.5183,-70.8522 577.1712,-73.8042\"/>\n<text text-anchor=\"middle\" x=\"389.1822\" y=\"-3.8\" font-family=\"Times,serif\" font-size=\"14.00\" fill=\"#000000\">c </text>\n</g>\n<!-- B&#45;&gt;B -->\n<g id=\"edge11\" class=\"edge\">\n<title>B&#45;&gt;B</title>\n<path fill=\"none\" stroke=\"#000000\" d=\"M490.4474,-181.6641C488.8849,-191.625 491.2287,-201 497.4787,-201 501.4826,-201 503.8833,-197.1525 504.681,-191.7682\"/>\n<polygon fill=\"#000000\" stroke=\"#000000\" points=\"508.1788,-191.6033 504.5099,-181.6641 501.1798,-191.7219 508.1788,-191.6033\"/>\n<text text-anchor=\"middle\" x=\"497.4787\" y=\"-204.8\" font-family=\"Times,serif\" font-size=\"14.00\" fill=\"#000000\">a </text>\n</g>\n<!-- f_F4 -->\n<g id=\"node7\" class=\"node\">\n<title>f_F4</title>\n<ellipse fill=\"none\" stroke=\"#000000\" cx=\"596.0761\" cy=\"-195\" rx=\"28.6832\" ry=\"28.6832\"/>\n<ellipse fill=\"none\" stroke=\"#000000\" cx=\"596.0761\" cy=\"-195\" rx=\"32.6952\" ry=\"32.6952\"/>\n<text text-anchor=\"middle\" x=\"596.0761\" y=\"-191.3\" font-family=\"Times,serif\" font-size=\"14.00\" fill=\"#000000\">f_F4</text>\n</g>\n<!-- B&#45;&gt;f_F4 -->\n<g id=\"edge12\" class=\"edge\">\n<title>B&#45;&gt;f_F4</title>\n<path fill=\"none\" stroke=\"#000000\" d=\"M515.1059,-170.3634C526.1599,-173.7268 540.8979,-178.2111 554.7688,-182.4315\"/>\n<polygon fill=\"#000000\" stroke=\"#000000\" points=\"554.0648,-185.8757 564.6506,-185.4382 556.1025,-179.1788 554.0648,-185.8757\"/>\n<text text-anchor=\"middle\" x=\"539.4787\" y=\"-183.8\" font-family=\"Times,serif\" font-size=\"14.00\" fill=\"#000000\">b </text>\n</g>\n<!-- B&#45;&gt;f_F3 -->\n<g id=\"edge13\" class=\"edge\">\n<title>B&#45;&gt;f_F3</title>\n<path fill=\"none\" stroke=\"#000000\" d=\"M513.76,-156.2481C525.8308,-149.7596 542.7891,-140.6439 558.179,-132.3712\"/>\n<polygon fill=\"#000000\" stroke=\"#000000\" points=\"559.8593,-135.4416 567.0103,-127.624 556.545,-129.2759 559.8593,-135.4416\"/>\n<text text-anchor=\"middle\" x=\"539.4787\" y=\"-148.8\" font-family=\"Times,serif\" font-size=\"14.00\" fill=\"#000000\">c </text>\n</g>\n<!-- BH -->\n<g id=\"node5\" class=\"node\">\n<title>BH</title>\n<ellipse fill=\"none\" stroke=\"#000000\" cx=\"702.7215\" cy=\"-153\" rx=\"24.0958\" ry=\"24.0958\"/>\n<text text-anchor=\"middle\" x=\"702.7215\" y=\"-149.3\" font-family=\"Times,serif\" font-size=\"14.00\" fill=\"#000000\">BH</text>\n</g>\n<!-- BH&#45;&gt;BH -->\n<g id=\"edge16\" class=\"edge\">\n<title>BH&#45;&gt;BH</title>\n<path fill=\"none\" stroke=\"#000000\" d=\"M693.8994,-175.495C692.937,-185.9303 695.8777,-195.0479 702.7215,-195.0479 707.1057,-195.0479 709.8882,-191.306 711.0688,-185.873\"/>\n<polygon fill=\"#000000\" stroke=\"#000000\" points=\"714.5828,-185.6445 711.5435,-175.495 707.5901,-185.3246 714.5828,-185.6445\"/>\n<text text-anchor=\"middle\" x=\"702.7215\" y=\"-228.8479\" font-family=\"Times,serif\" font-size=\"14.00\" fill=\"#000000\">b </text>\n<text text-anchor=\"middle\" x=\"702.7215\" y=\"-213.8479\" font-family=\"Times,serif\" font-size=\"14.00\" fill=\"#000000\"> a </text>\n<text text-anchor=\"middle\" x=\"702.7215\" y=\"-198.8479\" font-family=\"Times,serif\" font-size=\"14.00\" fill=\"#000000\"> c </text>\n</g>\n<!-- f_B_F4&#45;&gt;B -->\n<g id=\"edge8\" class=\"edge\">\n<title>f_B_F4&#45;&gt;B</title>\n<path fill=\"none\" stroke=\"#000000\" d=\"M433.543,-165.5904C445.5469,-165.4795 458.2146,-165.3626 469.0795,-165.2622\"/>\n<polygon fill=\"#000000\" stroke=\"#000000\" points=\"469.2849,-168.7606 479.2521,-165.1683 469.2202,-161.7609 469.2849,-168.7606\"/>\n<text text-anchor=\"middle\" x=\"456.4787\" y=\"-169.8\" font-family=\"Times,serif\" font-size=\"14.00\" fill=\"#000000\">a </text>\n</g>\n<!-- f_B_F4&#45;&gt;f_F4 -->\n<g id=\"edge9\" class=\"edge\">\n<title>f_B_F4&#45;&gt;f_F4</title>\n<path fill=\"none\" stroke=\"#000000\" d=\"M423.2459,-195.0094C439.2279,-206.7584 459.1979,-218.9616 479.4787,-225 505.5965,-232.7763 535.353,-224.8511 558.268,-215.2004\"/>\n<polygon fill=\"#000000\" stroke=\"#000000\" points=\"559.9459,-218.2839 567.6392,-210.9994 557.0824,-211.8963 559.9459,-218.2839\"/>\n<text text-anchor=\"middle\" x=\"497.4787\" y=\"-231.8\" font-family=\"Times,serif\" font-size=\"14.00\" fill=\"#000000\">b </text>\n</g>\n<!-- f_B_F4&#45;&gt;f_F3 -->\n<g id=\"edge10\" class=\"edge\">\n<title>f_B_F4&#45;&gt;f_F3</title>\n<path fill=\"none\" stroke=\"#000000\" d=\"M428.025,-143.8293C443.5558,-135.9549 461.9041,-127.8497 479.4787,-123 503.3362,-116.4165 530.8666,-113.6068 553.1835,-112.4705\"/>\n<polygon fill=\"#000000\" stroke=\"#000000\" points=\"553.5126,-115.9599 563.3589,-112.0482 553.2223,-108.9659 553.5126,-115.9599\"/>\n<text text-anchor=\"middle\" x=\"497.4787\" y=\"-126.8\" font-family=\"Times,serif\" font-size=\"14.00\" fill=\"#000000\">c </text>\n</g>\n<!-- f_F4&#45;&gt;BH -->\n<g id=\"edge14\" class=\"edge\">\n<title>f_F4&#45;&gt;BH</title>\n<path fill=\"none\" stroke=\"#000000\" d=\"M626.6364,-182.9645C640.4053,-177.5419 656.6669,-171.1376 670.6146,-165.6446\"/>\n<polygon fill=\"#000000\" stroke=\"#000000\" points=\"672.2711,-168.7539 680.293,-161.833 669.706,-162.2408 672.2711,-168.7539\"/>\n<text text-anchor=\"middle\" x=\"653.6736\" y=\"-207.8\" font-family=\"Times,serif\" font-size=\"14.00\" fill=\"#000000\">b </text>\n<text text-anchor=\"middle\" x=\"653.6736\" y=\"-192.8\" font-family=\"Times,serif\" font-size=\"14.00\" fill=\"#000000\"> a </text>\n<text text-anchor=\"middle\" x=\"653.6736\" y=\"-177.8\" font-family=\"Times,serif\" font-size=\"14.00\" fill=\"#000000\"> c </text>\n</g>\n<!-- f_F3&#45;&gt;BH -->\n<g id=\"edge15\" class=\"edge\">\n<title>f_F3&#45;&gt;BH</title>\n<path fill=\"none\" stroke=\"#000000\" d=\"M628.7144,-115.3362C639.1906,-117.1186 650.6663,-119.8429 660.6736,-124 665.7919,-126.1262 670.9173,-128.9428 675.7412,-131.9859\"/>\n<polygon fill=\"#000000\" stroke=\"#000000\" points=\"673.7912,-134.8923 684.0321,-137.6079 677.7198,-129.0987 673.7912,-134.8923\"/>\n<text text-anchor=\"middle\" x=\"653.6736\" y=\"-157.8\" font-family=\"Times,serif\" font-size=\"14.00\" fill=\"#000000\">b </text>\n<text text-anchor=\"middle\" x=\"653.6736\" y=\"-142.8\" font-family=\"Times,serif\" font-size=\"14.00\" fill=\"#000000\"> a </text>\n<text text-anchor=\"middle\" x=\"653.6736\" y=\"-127.8\" font-family=\"Times,serif\" font-size=\"14.00\" fill=\"#000000\"> c </text>\n</g>\n</g>\n</svg>\n"
          },
          "metadata": {},
          "execution_count": 30
        }
      ]
    },
    {
      "cell_type": "markdown",
      "metadata": {
        "id": "TQ3McObOjI_c"
      },
      "source": [
        "### {Answer cells below - answer questions about comp_dfa}"
      ]
    },
    {
      "cell_type": "markdown",
      "metadata": {
        "id": "2Hg51Zt2jI_c"
      },
      "source": [
        "## Understanding comp_dfa\n",
        "\n",
        "Complementing a DFA is supported by the function comp_dfa. Complement pdfa1 using this command and assign it to comp_pdfa1. Compare the result of displaying comp_pdfa1 , pdfa1 and tot_pdfa1. What differences do you see? Explain in 3 bullets.\n",
        "\n",
        "* pdfa1 and tot_pdfa1 have these similarities and differences: {Briefly describe}\n",
        "\n",
        " * The first difference I noticed is that the two DFA, comp_pdfa1 and tot_pdfa1, have the exact same number of and kind of states, while pdfa1 is missing the BH state entirely (which is to be expected) \n",
        "\n",
        "* comp_pdfa1 and tot_pdfa1 have these similarities and differences: {Briefly describe}\n",
        "\n",
        " * The next is that the DFA pdfa1 and tot_pdfa1 have the exact same types of states, namely that B_I2 i_B_I1_I2 and B are all normal states, and f_B_F4 f_F3 and f_F4 are all final states, but in the complemented DFA these normal states are all final states, including the BH state, and the final states are all normal states, with i_B_I1_I2 being an initial state in the pdfa1 and tot_pdfa1 while it is an initial-final state in the complement.\n",
        " \n",
        "* comp_pdfa1 and pdfa1 have these similarities and differences: {Briefly describe}\n",
        "\n",
        " * Aside from what I've already described, there don't seem to be any other differences as all 3 DFA have the same number of states and the same number of and kinds of transitions out of those states throughout the machines."
      ]
    },
    {
      "cell_type": "code",
      "metadata": {
        "id": "Ex-Xg4I5jI_d"
      },
      "source": [
        "comp_pdfa1 = comp_dfa(pdfa1)"
      ],
      "execution_count": 31,
      "outputs": []
    },
    {
      "cell_type": "code",
      "metadata": {
        "id": "brqmG54XjI_d",
        "outputId": "69b7770b-cfb0-4ab3-93bf-96b6b06e564a",
        "colab": {
          "base_uri": "https://localhost:8080/",
          "height": 358
        }
      },
      "source": [
        "dotObj_dfa_w_bh(comp_dfa(pdfa1), FuseEdges=\"True\")"
      ],
      "execution_count": 32,
      "outputs": [
        {
          "output_type": "execute_result",
          "data": {
            "text/plain": [
              "<graphviz.dot.Digraph at 0x7fc520c97110>"
            ],
            "image/svg+xml": "<?xml version=\"1.0\" encoding=\"UTF-8\" standalone=\"no\"?>\n<!DOCTYPE svg PUBLIC \"-//W3C//DTD SVG 1.1//EN\"\n \"http://www.w3.org/Graphics/SVG/1.1/DTD/svg11.dtd\">\n<!-- Generated by graphviz version 2.40.1 (20161225.0304)\n -->\n<!-- Title: %3 Pages: 1 -->\n<svg width=\"751pt\" height=\"253pt\"\n viewBox=\"0.00 0.00 750.77 253.30\" xmlns=\"http://www.w3.org/2000/svg\" xmlns:xlink=\"http://www.w3.org/1999/xlink\">\n<g id=\"graph0\" class=\"graph\" transform=\"scale(1 1) rotate(0) translate(4 249.2964)\">\n<title>%3</title>\n<polygon fill=\"#ffffff\" stroke=\"transparent\" points=\"-4,4 -4,-249.2964 746.7693,-249.2964 746.7693,4 -4,4\"/>\n<!-- EMPTY -->\n<g id=\"node1\" class=\"node\">\n<title>EMPTY</title>\n</g>\n<!-- i_B_I1_I2 -->\n<g id=\"node6\" class=\"node\">\n<title>i_B_I1_I2</title>\n<ellipse fill=\"none\" stroke=\"#000000\" cx=\"145.0456\" cy=\"-116.2964\" rx=\"50.0878\" ry=\"50.0878\"/>\n<ellipse fill=\"none\" stroke=\"#000000\" cx=\"145.0456\" cy=\"-116.2964\" rx=\"54.0912\" ry=\"54.0912\"/>\n<text text-anchor=\"middle\" x=\"145.0456\" y=\"-112.5964\" font-family=\"Times,serif\" font-size=\"14.00\" fill=\"#000000\">i_B_I1_I2</text>\n</g>\n<!-- EMPTY&#45;&gt;i_B_I1_I2 -->\n<g id=\"edge1\" class=\"edge\">\n<title>EMPTY&#45;&gt;i_B_I1_I2</title>\n<path fill=\"none\" stroke=\"#000000\" d=\"M54.082,-116.2964C62.0801,-116.2964 71.1979,-116.2964 80.5003,-116.2964\"/>\n<polygon fill=\"#000000\" stroke=\"#000000\" points=\"80.6226,-119.7965 90.6226,-116.2964 80.6225,-112.7965 80.6226,-119.7965\"/>\n</g>\n<!-- f_B_F4 -->\n<g id=\"node2\" class=\"node\">\n<title>f_B_F4</title>\n<ellipse fill=\"none\" stroke=\"#000000\" cx=\"401.1822\" cy=\"-40.2964\" rx=\"40.0939\" ry=\"40.0939\"/>\n<text text-anchor=\"middle\" x=\"401.1822\" y=\"-36.5964\" font-family=\"Times,serif\" font-size=\"14.00\" fill=\"#000000\">f_B_F4</text>\n</g>\n<!-- f_F4 -->\n<g id=\"node3\" class=\"node\">\n<title>f_F4</title>\n<ellipse fill=\"none\" stroke=\"#000000\" cx=\"608.0761\" cy=\"-50.2964\" rx=\"28.6953\" ry=\"28.6953\"/>\n<text text-anchor=\"middle\" x=\"608.0761\" y=\"-46.5964\" font-family=\"Times,serif\" font-size=\"14.00\" fill=\"#000000\">f_F4</text>\n</g>\n<!-- f_B_F4&#45;&gt;f_F4 -->\n<g id=\"edge9\" class=\"edge\">\n<title>f_B_F4&#45;&gt;f_F4</title>\n<path fill=\"none\" stroke=\"#000000\" d=\"M436.3032,-20.0739C462.5299,-7.5296 499.2514,4.6369 531.4787,-4.2964 547.6648,-8.7832 563.8621,-17.7041 577.1653,-26.5054\"/>\n<polygon fill=\"#000000\" stroke=\"#000000\" points=\"575.2406,-29.4296 585.4603,-32.224 579.2138,-23.6664 575.2406,-29.4296\"/>\n<text text-anchor=\"middle\" x=\"509.4787\" y=\"-8.0964\" font-family=\"Times,serif\" font-size=\"14.00\" fill=\"#000000\">b </text>\n</g>\n<!-- f_F3 -->\n<g id=\"node4\" class=\"node\">\n<title>f_F3</title>\n<ellipse fill=\"none\" stroke=\"#000000\" cx=\"608.0761\" cy=\"-141.2964\" rx=\"28.6953\" ry=\"28.6953\"/>\n<text text-anchor=\"middle\" x=\"608.0761\" y=\"-137.5964\" font-family=\"Times,serif\" font-size=\"14.00\" fill=\"#000000\">f_F3</text>\n</g>\n<!-- f_B_F4&#45;&gt;f_F3 -->\n<g id=\"edge10\" class=\"edge\">\n<title>f_B_F4&#45;&gt;f_F3</title>\n<path fill=\"none\" stroke=\"#000000\" d=\"M428.5209,-69.9144C444.3314,-85.3418 465.423,-103.2438 487.4787,-114.2964 513.1581,-127.165 544.9599,-133.9582 569.4581,-137.511\"/>\n<polygon fill=\"#000000\" stroke=\"#000000\" points=\"569.0966,-140.9937 579.471,-138.8435 570.0201,-134.0548 569.0966,-140.9937\"/>\n<text text-anchor=\"middle\" x=\"509.4787\" y=\"-134.0964\" font-family=\"Times,serif\" font-size=\"14.00\" fill=\"#000000\">c </text>\n</g>\n<!-- B -->\n<g id=\"node7\" class=\"node\">\n<title>B</title>\n<ellipse fill=\"none\" stroke=\"#000000\" cx=\"509.4787\" cy=\"-50.2964\" rx=\"18\" ry=\"18\"/>\n<ellipse fill=\"none\" stroke=\"#000000\" cx=\"509.4787\" cy=\"-50.2964\" rx=\"22\" ry=\"22\"/>\n<text text-anchor=\"middle\" x=\"509.4787\" y=\"-46.5964\" font-family=\"Times,serif\" font-size=\"14.00\" fill=\"#000000\">B</text>\n</g>\n<!-- f_B_F4&#45;&gt;B -->\n<g id=\"edge8\" class=\"edge\">\n<title>f_B_F4&#45;&gt;B</title>\n<path fill=\"none\" stroke=\"#000000\" d=\"M441.5078,-44.0201C453.2656,-45.1058 465.9552,-46.2775 477.1504,-47.3113\"/>\n<polygon fill=\"#000000\" stroke=\"#000000\" points=\"477.0674,-50.8184 487.3469,-48.2528 477.7111,-43.8481 477.0674,-50.8184\"/>\n<text text-anchor=\"middle\" x=\"464.4787\" y=\"-51.0964\" font-family=\"Times,serif\" font-size=\"14.00\" fill=\"#000000\">a </text>\n</g>\n<!-- BH -->\n<g id=\"node8\" class=\"node\">\n<title>BH</title>\n<ellipse fill=\"none\" stroke=\"#000000\" cx=\"714.7215\" cy=\"-95.2964\" rx=\"24.089\" ry=\"24.089\"/>\n<ellipse fill=\"none\" stroke=\"#000000\" cx=\"714.7215\" cy=\"-95.2964\" rx=\"28.0958\" ry=\"28.0958\"/>\n<text text-anchor=\"middle\" x=\"714.7215\" y=\"-91.5964\" font-family=\"Times,serif\" font-size=\"14.00\" fill=\"#000000\">BH</text>\n</g>\n<!-- f_F4&#45;&gt;BH -->\n<g id=\"edge14\" class=\"edge\">\n<title>f_F4&#45;&gt;BH</title>\n<path fill=\"none\" stroke=\"#000000\" d=\"M636.0271,-57.0764C646.4696,-60.0025 658.3044,-63.7954 668.6736,-68.2964 673.1154,-70.2245 677.6622,-72.4902 682.0862,-74.8755\"/>\n<polygon fill=\"#000000\" stroke=\"#000000\" points=\"680.4938,-77.9958 690.9216,-79.8697 683.9384,-71.902 680.4938,-77.9958\"/>\n<text text-anchor=\"middle\" x=\"661.6736\" y=\"-102.0964\" font-family=\"Times,serif\" font-size=\"14.00\" fill=\"#000000\">b </text>\n<text text-anchor=\"middle\" x=\"661.6736\" y=\"-87.0964\" font-family=\"Times,serif\" font-size=\"14.00\" fill=\"#000000\"> a </text>\n<text text-anchor=\"middle\" x=\"661.6736\" y=\"-72.0964\" font-family=\"Times,serif\" font-size=\"14.00\" fill=\"#000000\"> c </text>\n</g>\n<!-- f_F3&#45;&gt;BH -->\n<g id=\"edge15\" class=\"edge\">\n<title>f_F3&#45;&gt;BH</title>\n<path fill=\"none\" stroke=\"#000000\" d=\"M634.4379,-129.9256C647.9981,-124.0766 664.7151,-116.866 679.3779,-110.5414\"/>\n<polygon fill=\"#000000\" stroke=\"#000000\" points=\"680.8669,-113.7109 688.6629,-106.5364 678.0944,-107.2833 680.8669,-113.7109\"/>\n<text text-anchor=\"middle\" x=\"661.6736\" y=\"-155.0964\" font-family=\"Times,serif\" font-size=\"14.00\" fill=\"#000000\">b </text>\n<text text-anchor=\"middle\" x=\"661.6736\" y=\"-140.0964\" font-family=\"Times,serif\" font-size=\"14.00\" fill=\"#000000\"> a </text>\n<text text-anchor=\"middle\" x=\"661.6736\" y=\"-125.0964\" font-family=\"Times,serif\" font-size=\"14.00\" fill=\"#000000\"> c </text>\n</g>\n<!-- B_I2 -->\n<g id=\"node5\" class=\"node\">\n<title>B_I2</title>\n<ellipse fill=\"none\" stroke=\"#000000\" cx=\"278.9885\" cy=\"-116.2964\" rx=\"29.8071\" ry=\"29.8071\"/>\n<ellipse fill=\"none\" stroke=\"#000000\" cx=\"278.9885\" cy=\"-116.2964\" rx=\"33.795\" ry=\"33.795\"/>\n<text text-anchor=\"middle\" x=\"278.9885\" y=\"-112.5964\" font-family=\"Times,serif\" font-size=\"14.00\" fill=\"#000000\">B_I2</text>\n</g>\n<!-- B_I2&#45;&gt;f_B_F4 -->\n<g id=\"edge6\" class=\"edge\">\n<title>B_I2&#45;&gt;f_B_F4</title>\n<path fill=\"none\" stroke=\"#000000\" d=\"M307.9467,-98.2855C322.9714,-88.9407 341.6211,-77.3412 358.2837,-66.9778\"/>\n<polygon fill=\"#000000\" stroke=\"#000000\" points=\"360.1432,-69.943 366.7862,-61.6895 356.4461,-63.9989 360.1432,-69.943\"/>\n<text text-anchor=\"middle\" x=\"336.8858\" y=\"-87.0964\" font-family=\"Times,serif\" font-size=\"14.00\" fill=\"#000000\">b </text>\n</g>\n<!-- B_I2&#45;&gt;f_F3 -->\n<g id=\"edge7\" class=\"edge\">\n<title>B_I2&#45;&gt;f_F3</title>\n<path fill=\"none\" stroke=\"#000000\" d=\"M312.4494,-122.9708C318.5737,-124.1278 324.9152,-125.2832 330.8858,-126.2964 400.2379,-138.0652 417.3657,-143.6061 487.4787,-149.2964 514.9475,-151.5258 521.9204,-150.0742 549.4787,-150.2964 554.8118,-150.3394 556.1696,-150.8044 561.4787,-150.2964 564.3237,-150.0242 567.2532,-149.6605 570.1922,-149.2351\"/>\n<polygon fill=\"#000000\" stroke=\"#000000\" points=\"570.8165,-152.6795 580.1114,-147.5945 569.6742,-145.7733 570.8165,-152.6795\"/>\n<text text-anchor=\"middle\" x=\"464.4787\" y=\"-152.0964\" font-family=\"Times,serif\" font-size=\"14.00\" fill=\"#000000\">c </text>\n</g>\n<!-- B_I2&#45;&gt;B -->\n<g id=\"edge5\" class=\"edge\">\n<title>B_I2&#45;&gt;B</title>\n<path fill=\"none\" stroke=\"#000000\" d=\"M312.8506,-114.1856C346.3434,-111.2903 398.6535,-104.5752 441.4787,-89.2964 455.7788,-84.1946 470.5293,-76.1327 482.6219,-68.6597\"/>\n<polygon fill=\"#000000\" stroke=\"#000000\" points=\"484.755,-71.4504 491.2996,-63.1186 480.9876,-65.5506 484.755,-71.4504\"/>\n<text text-anchor=\"middle\" x=\"401.1822\" y=\"-113.0964\" font-family=\"Times,serif\" font-size=\"14.00\" fill=\"#000000\">a </text>\n</g>\n<!-- i_B_I1_I2&#45;&gt;f_B_F4 -->\n<g id=\"edge3\" class=\"edge\">\n<title>i_B_I1_I2&#45;&gt;f_B_F4</title>\n<path fill=\"none\" stroke=\"#000000\" d=\"M189.4931,-85.2739C206.211,-75.0508 225.8436,-64.6769 245.0911,-58.2964 279.1719,-46.9987 319.4697,-42.5601 350.5825,-40.914\"/>\n<polygon fill=\"#000000\" stroke=\"#000000\" points=\"350.9265,-44.4021 360.7594,-40.4569 350.6124,-37.4092 350.9265,-44.4021\"/>\n<text text-anchor=\"middle\" x=\"278.9885\" y=\"-62.0964\" font-family=\"Times,serif\" font-size=\"14.00\" fill=\"#000000\">b </text>\n</g>\n<!-- i_B_I1_I2&#45;&gt;f_F3 -->\n<g id=\"edge4\" class=\"edge\">\n<title>i_B_I1_I2&#45;&gt;f_F3</title>\n<path fill=\"none\" stroke=\"#000000\" d=\"M174.0276,-162.336C197.8765,-193.9752 234.8637,-230.2964 278.9885,-230.2964 278.9885,-230.2964 278.9885,-230.2964 509.4787,-230.2964 543.7208,-230.2964 571.4124,-200.3519 588.6318,-175.2014\"/>\n<polygon fill=\"#000000\" stroke=\"#000000\" points=\"591.7372,-176.8475 594.2793,-166.5622 585.878,-173.0173 591.7372,-176.8475\"/>\n<text text-anchor=\"middle\" x=\"401.1822\" y=\"-234.0964\" font-family=\"Times,serif\" font-size=\"14.00\" fill=\"#000000\">c </text>\n</g>\n<!-- i_B_I1_I2&#45;&gt;B_I2 -->\n<g id=\"edge2\" class=\"edge\">\n<title>i_B_I1_I2&#45;&gt;B_I2</title>\n<path fill=\"none\" stroke=\"#000000\" d=\"M199.1392,-116.2964C210.924,-116.2964 223.2616,-116.2964 234.6173,-116.2964\"/>\n<polygon fill=\"#000000\" stroke=\"#000000\" points=\"234.7258,-119.7965 244.7258,-116.2964 234.7258,-112.7965 234.7258,-119.7965\"/>\n<text text-anchor=\"middle\" x=\"222.0911\" y=\"-120.0964\" font-family=\"Times,serif\" font-size=\"14.00\" fill=\"#000000\">a </text>\n</g>\n<!-- B&#45;&gt;f_F4 -->\n<g id=\"edge12\" class=\"edge\">\n<title>B&#45;&gt;f_F4</title>\n<path fill=\"none\" stroke=\"#000000\" d=\"M531.852,-50.2964C542.8603,-50.2964 556.4524,-50.2964 569.0965,-50.2964\"/>\n<polygon fill=\"#000000\" stroke=\"#000000\" points=\"569.417,-53.7965 579.4169,-50.2964 569.4169,-46.7965 569.417,-53.7965\"/>\n<text text-anchor=\"middle\" x=\"555.4787\" y=\"-54.0964\" font-family=\"Times,serif\" font-size=\"14.00\" fill=\"#000000\">b </text>\n</g>\n<!-- B&#45;&gt;f_F3 -->\n<g id=\"edge13\" class=\"edge\">\n<title>B&#45;&gt;f_F3</title>\n<path fill=\"none\" stroke=\"#000000\" d=\"M525.76,-65.3232C540.2742,-78.719 561.8548,-98.6367 579.2784,-114.7177\"/>\n<polygon fill=\"#000000\" stroke=\"#000000\" points=\"577.2286,-117.5888 586.951,-121.7991 581.9762,-112.4448 577.2286,-117.5888\"/>\n<text text-anchor=\"middle\" x=\"555.4787\" y=\"-100.0964\" font-family=\"Times,serif\" font-size=\"14.00\" fill=\"#000000\">c </text>\n</g>\n<!-- B&#45;&gt;B -->\n<g id=\"edge11\" class=\"edge\">\n<title>B&#45;&gt;B</title>\n<path fill=\"none\" stroke=\"#000000\" d=\"M501.4724,-70.8772C500.3646,-81.1412 503.0333,-90.2964 509.4787,-90.2964 513.6077,-90.2964 516.1868,-86.5391 517.2161,-81.14\"/>\n<polygon fill=\"#000000\" stroke=\"#000000\" points=\"520.7217,-80.9655 517.4849,-70.8772 513.7241,-80.7821 520.7217,-80.9655\"/>\n<text text-anchor=\"middle\" x=\"509.4787\" y=\"-94.0964\" font-family=\"Times,serif\" font-size=\"14.00\" fill=\"#000000\">a </text>\n</g>\n<!-- BH&#45;&gt;BH -->\n<g id=\"edge16\" class=\"edge\">\n<title>BH&#45;&gt;BH</title>\n<path fill=\"none\" stroke=\"#000000\" d=\"M705.031,-121.7955C704.4835,-132.4236 707.7136,-141.3443 714.7215,-141.3443 719.3203,-141.3443 722.2923,-137.5025 723.6374,-131.8575\"/>\n<polygon fill=\"#000000\" stroke=\"#000000\" points=\"727.134,-132.0347 724.4119,-121.7955 720.1547,-131.4974 727.134,-132.0347\"/>\n<text text-anchor=\"middle\" x=\"714.7215\" y=\"-175.1443\" font-family=\"Times,serif\" font-size=\"14.00\" fill=\"#000000\">b </text>\n<text text-anchor=\"middle\" x=\"714.7215\" y=\"-160.1443\" font-family=\"Times,serif\" font-size=\"14.00\" fill=\"#000000\"> a </text>\n<text text-anchor=\"middle\" x=\"714.7215\" y=\"-145.1443\" font-family=\"Times,serif\" font-size=\"14.00\" fill=\"#000000\"> c </text>\n</g>\n</g>\n</svg>\n"
          },
          "metadata": {},
          "execution_count": 32
        }
      ]
    },
    {
      "cell_type": "code",
      "metadata": {
        "id": "Vq0a77k-1Fal"
      },
      "source": [
        "tot_pdfa1 = totalize_dfa(pdfa1)"
      ],
      "execution_count": 36,
      "outputs": []
    },
    {
      "cell_type": "code",
      "metadata": {
        "id": "fEPJLOkHjI_d",
        "outputId": "0226cc76-7f57-465f-ae1f-478c1b91f246",
        "colab": {
          "base_uri": "https://localhost:8080/",
          "height": 356
        }
      },
      "source": [
        "dotObj_dfa_w_bh(tot_pdfa1, FuseEdges=True)"
      ],
      "execution_count": 37,
      "outputs": [
        {
          "output_type": "execute_result",
          "data": {
            "text/plain": [
              "<graphviz.dot.Digraph at 0x7fc520cc1bd0>"
            ],
            "image/svg+xml": "<?xml version=\"1.0\" encoding=\"UTF-8\" standalone=\"no\"?>\n<!DOCTYPE svg PUBLIC \"-//W3C//DTD SVG 1.1//EN\"\n \"http://www.w3.org/Graphics/SVG/1.1/DTD/svg11.dtd\">\n<!-- Generated by graphviz version 2.40.1 (20161225.0304)\n -->\n<!-- Title: %3 Pages: 1 -->\n<svg width=\"735pt\" height=\"251pt\"\n viewBox=\"0.00 0.00 734.77 251.00\" xmlns=\"http://www.w3.org/2000/svg\" xmlns:xlink=\"http://www.w3.org/1999/xlink\">\n<g id=\"graph0\" class=\"graph\" transform=\"scale(1 1) rotate(0) translate(4 247)\">\n<title>%3</title>\n<polygon fill=\"#ffffff\" stroke=\"transparent\" points=\"-4,4 -4,-247 730.7693,-247 730.7693,4 -4,4\"/>\n<!-- EMPTY -->\n<g id=\"node1\" class=\"node\">\n<title>EMPTY</title>\n</g>\n<!-- i_B_I1_I2 -->\n<g id=\"node3\" class=\"node\">\n<title>i_B_I1_I2</title>\n<ellipse fill=\"none\" stroke=\"#000000\" cx=\"141.0456\" cy=\"-89\" rx=\"50.0912\" ry=\"50.0912\"/>\n<text text-anchor=\"middle\" x=\"141.0456\" y=\"-85.3\" font-family=\"Times,serif\" font-size=\"14.00\" fill=\"#000000\">i_B_I1_I2</text>\n</g>\n<!-- EMPTY&#45;&gt;i_B_I1_I2 -->\n<g id=\"edge1\" class=\"edge\">\n<title>EMPTY&#45;&gt;i_B_I1_I2</title>\n<path fill=\"none\" stroke=\"#000000\" d=\"M54.0272,-89C62.1538,-89 71.4166,-89 80.7962,-89\"/>\n<polygon fill=\"#000000\" stroke=\"#000000\" points=\"80.9717,-92.5001 90.9717,-89 80.9716,-85.5001 80.9717,-92.5001\"/>\n</g>\n<!-- B_I2 -->\n<g id=\"node2\" class=\"node\">\n<title>B_I2</title>\n<ellipse fill=\"none\" stroke=\"#000000\" cx=\"266.9885\" cy=\"-89\" rx=\"29.795\" ry=\"29.795\"/>\n<text text-anchor=\"middle\" x=\"266.9885\" y=\"-85.3\" font-family=\"Times,serif\" font-size=\"14.00\" fill=\"#000000\">B_I2</text>\n</g>\n<!-- B -->\n<g id=\"node4\" class=\"node\">\n<title>B</title>\n<ellipse fill=\"none\" stroke=\"#000000\" cx=\"497.4787\" cy=\"-165\" rx=\"18\" ry=\"18\"/>\n<text text-anchor=\"middle\" x=\"497.4787\" y=\"-161.3\" font-family=\"Times,serif\" font-size=\"14.00\" fill=\"#000000\">B</text>\n</g>\n<!-- B_I2&#45;&gt;B -->\n<g id=\"edge5\" class=\"edge\">\n<title>B_I2&#45;&gt;B</title>\n<path fill=\"none\" stroke=\"#000000\" d=\"M296.513,-84.2915C331.0587,-80.1666 389.167,-77.616 433.4787,-98 444.4676,-103.0551 464.6326,-125.2934 479.4,-142.7813\"/>\n<polygon fill=\"#000000\" stroke=\"#000000\" points=\"477.063,-145.4443 486.152,-150.8886 482.4419,-140.9646 477.063,-145.4443\"/>\n<text text-anchor=\"middle\" x=\"389.1822\" y=\"-101.8\" font-family=\"Times,serif\" font-size=\"14.00\" fill=\"#000000\">a </text>\n</g>\n<!-- f_B_F4 -->\n<g id=\"node6\" class=\"node\">\n<title>f_B_F4</title>\n<ellipse fill=\"none\" stroke=\"#000000\" cx=\"389.1822\" cy=\"-166\" rx=\"40.1121\" ry=\"40.1121\"/>\n<ellipse fill=\"none\" stroke=\"#000000\" cx=\"389.1822\" cy=\"-166\" rx=\"44.0938\" ry=\"44.0938\"/>\n<text text-anchor=\"middle\" x=\"389.1822\" y=\"-162.3\" font-family=\"Times,serif\" font-size=\"14.00\" fill=\"#000000\">f_B_F4</text>\n</g>\n<!-- B_I2&#45;&gt;f_B_F4 -->\n<g id=\"edge6\" class=\"edge\">\n<title>B_I2&#45;&gt;f_B_F4</title>\n<path fill=\"none\" stroke=\"#000000\" d=\"M292.3071,-104.9544C306.832,-114.1073 325.5224,-125.885 342.6053,-136.6497\"/>\n<polygon fill=\"#000000\" stroke=\"#000000\" points=\"341.0351,-139.7971 351.3614,-142.1673 344.767,-133.8749 341.0351,-139.7971\"/>\n<text text-anchor=\"middle\" x=\"320.8858\" y=\"-129.8\" font-family=\"Times,serif\" font-size=\"14.00\" fill=\"#000000\">b </text>\n</g>\n<!-- f_F3 -->\n<g id=\"node8\" class=\"node\">\n<title>f_F3</title>\n<ellipse fill=\"none\" stroke=\"#000000\" cx=\"596.0761\" cy=\"-112\" rx=\"28.6832\" ry=\"28.6832\"/>\n<ellipse fill=\"none\" stroke=\"#000000\" cx=\"596.0761\" cy=\"-112\" rx=\"32.6952\" ry=\"32.6952\"/>\n<text text-anchor=\"middle\" x=\"596.0761\" y=\"-108.3\" font-family=\"Times,serif\" font-size=\"14.00\" fill=\"#000000\">f_F3</text>\n</g>\n<!-- B_I2&#45;&gt;f_F3 -->\n<g id=\"edge7\" class=\"edge\">\n<title>B_I2&#45;&gt;f_F3</title>\n<path fill=\"none\" stroke=\"#000000\" d=\"M295.9355,-81.2487C302.1432,-79.8974 308.6971,-78.7015 314.8858,-78 367.2584,-72.0634 381.0504,-72.5771 433.4787,-78 475.1533,-82.3106 521.8917,-92.6782 554.5255,-100.8401\"/>\n<polygon fill=\"#000000\" stroke=\"#000000\" points=\"554.0468,-104.3297 564.601,-103.4021 555.7719,-97.5456 554.0468,-104.3297\"/>\n<text text-anchor=\"middle\" x=\"456.4787\" y=\"-85.8\" font-family=\"Times,serif\" font-size=\"14.00\" fill=\"#000000\">c </text>\n</g>\n<!-- i_B_I1_I2&#45;&gt;B_I2 -->\n<g id=\"edge2\" class=\"edge\">\n<title>i_B_I1_I2&#45;&gt;B_I2</title>\n<path fill=\"none\" stroke=\"#000000\" d=\"M191.1834,-89C203.0528,-89 215.5574,-89 226.9122,-89\"/>\n<polygon fill=\"#000000\" stroke=\"#000000\" points=\"226.9658,-92.5001 236.9658,-89 226.9657,-85.5001 226.9658,-92.5001\"/>\n<text text-anchor=\"middle\" x=\"214.0911\" y=\"-92.8\" font-family=\"Times,serif\" font-size=\"14.00\" fill=\"#000000\">a </text>\n</g>\n<!-- i_B_I1_I2&#45;&gt;f_B_F4 -->\n<g id=\"edge3\" class=\"edge\">\n<title>i_B_I1_I2&#45;&gt;f_B_F4</title>\n<path fill=\"none\" stroke=\"#000000\" d=\"M186.9664,-109.1811C202.6859,-115.6768 220.4946,-122.587 237.0911,-128 269.3797,-138.5311 306.3281,-147.8245 335.7214,-154.5846\"/>\n<polygon fill=\"#000000\" stroke=\"#000000\" points=\"335.2565,-158.068 345.7831,-156.8679 336.8057,-151.2416 335.2565,-158.068\"/>\n<text text-anchor=\"middle\" x=\"266.9885\" y=\"-149.8\" font-family=\"Times,serif\" font-size=\"14.00\" fill=\"#000000\">b </text>\n</g>\n<!-- i_B_I1_I2&#45;&gt;f_F3 -->\n<g id=\"edge4\" class=\"edge\">\n<title>i_B_I1_I2&#45;&gt;f_F3</title>\n<path fill=\"none\" stroke=\"#000000\" d=\"M172.8505,-49.9633C196.0856,-26.0501 229.907,0 266.9885,0 266.9885,0 266.9885,0 497.4787,0 537.0899,0 564.5575,-39.9566 580.2565,-72.1384\"/>\n<polygon fill=\"#000000\" stroke=\"#000000\" points=\"577.1712,-73.8042 584.5619,-81.3955 583.5183,-70.8522 577.1712,-73.8042\"/>\n<text text-anchor=\"middle\" x=\"389.1822\" y=\"-3.8\" font-family=\"Times,serif\" font-size=\"14.00\" fill=\"#000000\">c </text>\n</g>\n<!-- B&#45;&gt;B -->\n<g id=\"edge11\" class=\"edge\">\n<title>B&#45;&gt;B</title>\n<path fill=\"none\" stroke=\"#000000\" d=\"M490.4474,-181.6641C488.8849,-191.625 491.2287,-201 497.4787,-201 501.4826,-201 503.8833,-197.1525 504.681,-191.7682\"/>\n<polygon fill=\"#000000\" stroke=\"#000000\" points=\"508.1788,-191.6033 504.5099,-181.6641 501.1798,-191.7219 508.1788,-191.6033\"/>\n<text text-anchor=\"middle\" x=\"497.4787\" y=\"-204.8\" font-family=\"Times,serif\" font-size=\"14.00\" fill=\"#000000\">a </text>\n</g>\n<!-- f_F4 -->\n<g id=\"node7\" class=\"node\">\n<title>f_F4</title>\n<ellipse fill=\"none\" stroke=\"#000000\" cx=\"596.0761\" cy=\"-195\" rx=\"28.6832\" ry=\"28.6832\"/>\n<ellipse fill=\"none\" stroke=\"#000000\" cx=\"596.0761\" cy=\"-195\" rx=\"32.6952\" ry=\"32.6952\"/>\n<text text-anchor=\"middle\" x=\"596.0761\" y=\"-191.3\" font-family=\"Times,serif\" font-size=\"14.00\" fill=\"#000000\">f_F4</text>\n</g>\n<!-- B&#45;&gt;f_F4 -->\n<g id=\"edge12\" class=\"edge\">\n<title>B&#45;&gt;f_F4</title>\n<path fill=\"none\" stroke=\"#000000\" d=\"M515.1059,-170.3634C526.1599,-173.7268 540.8979,-178.2111 554.7688,-182.4315\"/>\n<polygon fill=\"#000000\" stroke=\"#000000\" points=\"554.0648,-185.8757 564.6506,-185.4382 556.1025,-179.1788 554.0648,-185.8757\"/>\n<text text-anchor=\"middle\" x=\"539.4787\" y=\"-183.8\" font-family=\"Times,serif\" font-size=\"14.00\" fill=\"#000000\">b </text>\n</g>\n<!-- B&#45;&gt;f_F3 -->\n<g id=\"edge13\" class=\"edge\">\n<title>B&#45;&gt;f_F3</title>\n<path fill=\"none\" stroke=\"#000000\" d=\"M513.76,-156.2481C525.8308,-149.7596 542.7891,-140.6439 558.179,-132.3712\"/>\n<polygon fill=\"#000000\" stroke=\"#000000\" points=\"559.8593,-135.4416 567.0103,-127.624 556.545,-129.2759 559.8593,-135.4416\"/>\n<text text-anchor=\"middle\" x=\"539.4787\" y=\"-148.8\" font-family=\"Times,serif\" font-size=\"14.00\" fill=\"#000000\">c </text>\n</g>\n<!-- BH -->\n<g id=\"node5\" class=\"node\">\n<title>BH</title>\n<ellipse fill=\"none\" stroke=\"#000000\" cx=\"702.7215\" cy=\"-153\" rx=\"24.0958\" ry=\"24.0958\"/>\n<text text-anchor=\"middle\" x=\"702.7215\" y=\"-149.3\" font-family=\"Times,serif\" font-size=\"14.00\" fill=\"#000000\">BH</text>\n</g>\n<!-- BH&#45;&gt;BH -->\n<g id=\"edge16\" class=\"edge\">\n<title>BH&#45;&gt;BH</title>\n<path fill=\"none\" stroke=\"#000000\" d=\"M693.8994,-175.495C692.937,-185.9303 695.8777,-195.0479 702.7215,-195.0479 707.1057,-195.0479 709.8882,-191.306 711.0688,-185.873\"/>\n<polygon fill=\"#000000\" stroke=\"#000000\" points=\"714.5828,-185.6445 711.5435,-175.495 707.5901,-185.3246 714.5828,-185.6445\"/>\n<text text-anchor=\"middle\" x=\"702.7215\" y=\"-228.8479\" font-family=\"Times,serif\" font-size=\"14.00\" fill=\"#000000\">b </text>\n<text text-anchor=\"middle\" x=\"702.7215\" y=\"-213.8479\" font-family=\"Times,serif\" font-size=\"14.00\" fill=\"#000000\"> a </text>\n<text text-anchor=\"middle\" x=\"702.7215\" y=\"-198.8479\" font-family=\"Times,serif\" font-size=\"14.00\" fill=\"#000000\"> c </text>\n</g>\n<!-- f_B_F4&#45;&gt;B -->\n<g id=\"edge8\" class=\"edge\">\n<title>f_B_F4&#45;&gt;B</title>\n<path fill=\"none\" stroke=\"#000000\" d=\"M433.543,-165.5904C445.5469,-165.4795 458.2146,-165.3626 469.0795,-165.2622\"/>\n<polygon fill=\"#000000\" stroke=\"#000000\" points=\"469.2849,-168.7606 479.2521,-165.1683 469.2202,-161.7609 469.2849,-168.7606\"/>\n<text text-anchor=\"middle\" x=\"456.4787\" y=\"-169.8\" font-family=\"Times,serif\" font-size=\"14.00\" fill=\"#000000\">a </text>\n</g>\n<!-- f_B_F4&#45;&gt;f_F4 -->\n<g id=\"edge9\" class=\"edge\">\n<title>f_B_F4&#45;&gt;f_F4</title>\n<path fill=\"none\" stroke=\"#000000\" d=\"M423.2459,-195.0094C439.2279,-206.7584 459.1979,-218.9616 479.4787,-225 505.5965,-232.7763 535.353,-224.8511 558.268,-215.2004\"/>\n<polygon fill=\"#000000\" stroke=\"#000000\" points=\"559.9459,-218.2839 567.6392,-210.9994 557.0824,-211.8963 559.9459,-218.2839\"/>\n<text text-anchor=\"middle\" x=\"497.4787\" y=\"-231.8\" font-family=\"Times,serif\" font-size=\"14.00\" fill=\"#000000\">b </text>\n</g>\n<!-- f_B_F4&#45;&gt;f_F3 -->\n<g id=\"edge10\" class=\"edge\">\n<title>f_B_F4&#45;&gt;f_F3</title>\n<path fill=\"none\" stroke=\"#000000\" d=\"M428.025,-143.8293C443.5558,-135.9549 461.9041,-127.8497 479.4787,-123 503.3362,-116.4165 530.8666,-113.6068 553.1835,-112.4705\"/>\n<polygon fill=\"#000000\" stroke=\"#000000\" points=\"553.5126,-115.9599 563.3589,-112.0482 553.2223,-108.9659 553.5126,-115.9599\"/>\n<text text-anchor=\"middle\" x=\"497.4787\" y=\"-126.8\" font-family=\"Times,serif\" font-size=\"14.00\" fill=\"#000000\">c </text>\n</g>\n<!-- f_F4&#45;&gt;BH -->\n<g id=\"edge14\" class=\"edge\">\n<title>f_F4&#45;&gt;BH</title>\n<path fill=\"none\" stroke=\"#000000\" d=\"M626.6364,-182.9645C640.4053,-177.5419 656.6669,-171.1376 670.6146,-165.6446\"/>\n<polygon fill=\"#000000\" stroke=\"#000000\" points=\"672.2711,-168.7539 680.293,-161.833 669.706,-162.2408 672.2711,-168.7539\"/>\n<text text-anchor=\"middle\" x=\"653.6736\" y=\"-207.8\" font-family=\"Times,serif\" font-size=\"14.00\" fill=\"#000000\">b </text>\n<text text-anchor=\"middle\" x=\"653.6736\" y=\"-192.8\" font-family=\"Times,serif\" font-size=\"14.00\" fill=\"#000000\"> a </text>\n<text text-anchor=\"middle\" x=\"653.6736\" y=\"-177.8\" font-family=\"Times,serif\" font-size=\"14.00\" fill=\"#000000\"> c </text>\n</g>\n<!-- f_F3&#45;&gt;BH -->\n<g id=\"edge15\" class=\"edge\">\n<title>f_F3&#45;&gt;BH</title>\n<path fill=\"none\" stroke=\"#000000\" d=\"M628.7144,-115.3362C639.1906,-117.1186 650.6663,-119.8429 660.6736,-124 665.7919,-126.1262 670.9173,-128.9428 675.7412,-131.9859\"/>\n<polygon fill=\"#000000\" stroke=\"#000000\" points=\"673.7912,-134.8923 684.0321,-137.6079 677.7198,-129.0987 673.7912,-134.8923\"/>\n<text text-anchor=\"middle\" x=\"653.6736\" y=\"-157.8\" font-family=\"Times,serif\" font-size=\"14.00\" fill=\"#000000\">b </text>\n<text text-anchor=\"middle\" x=\"653.6736\" y=\"-142.8\" font-family=\"Times,serif\" font-size=\"14.00\" fill=\"#000000\"> a </text>\n<text text-anchor=\"middle\" x=\"653.6736\" y=\"-127.8\" font-family=\"Times,serif\" font-size=\"14.00\" fill=\"#000000\"> c </text>\n</g>\n</g>\n</svg>\n"
          },
          "metadata": {},
          "execution_count": 37
        }
      ]
    },
    {
      "cell_type": "markdown",
      "metadata": {
        "id": "gAGEONPJ1Fav"
      },
      "source": [
        "## Question 3: understanding re2nfa\n",
        "\n",
        "### nfa1 is repeated below for your convenience"
      ]
    },
    {
      "cell_type": "code",
      "metadata": {
        "id": "o9Q1I741jI_d"
      },
      "source": [
        "# Given NFA\n",
        "\n",
        "nfa1 = md2mc('''NFA\n",
        "I1 : '' -> B\n",
        "I1 : a  -> I2\n",
        "\n",
        "I2 : c  -> F3\n",
        "I2 : b  -> B\n",
        "\n",
        "B : a  -> B\n",
        "B : b  -> F4\n",
        "B : c  -> F3\n",
        "\n",
        "\n",
        "''')\n"
      ],
      "execution_count": 38,
      "outputs": []
    },
    {
      "cell_type": "code",
      "metadata": {
        "id": "7_TcBXMrjI_e",
        "outputId": "ea2a2e15-b264-4bd6-b59a-9c7645d574b4",
        "colab": {
          "base_uri": "https://localhost:8080/",
          "height": 202
        }
      },
      "source": [
        "dotObj_nfa(nfa1)"
      ],
      "execution_count": 39,
      "outputs": [
        {
          "output_type": "execute_result",
          "data": {
            "text/plain": [
              "<graphviz.dot.Digraph at 0x7fc520d95a90>"
            ],
            "image/svg+xml": "<?xml version=\"1.0\" encoding=\"UTF-8\" standalone=\"no\"?>\n<!DOCTYPE svg PUBLIC \"-//W3C//DTD SVG 1.1//EN\"\n \"http://www.w3.org/Graphics/SVG/1.1/DTD/svg11.dtd\">\n<!-- Generated by graphviz version 2.40.1 (20161225.0304)\n -->\n<!-- Title: %3 Pages: 1 -->\n<svg width=\"402pt\" height=\"136pt\"\n viewBox=\"0.00 0.00 401.99 135.60\" xmlns=\"http://www.w3.org/2000/svg\" xmlns:xlink=\"http://www.w3.org/1999/xlink\">\n<g id=\"graph0\" class=\"graph\" transform=\"scale(1 1) rotate(0) translate(4 131.5963)\">\n<title>%3</title>\n<polygon fill=\"#ffffff\" stroke=\"transparent\" points=\"-4,4 -4,-131.5963 397.9896,-131.5963 397.9896,4 -4,4\"/>\n<!-- EMPTY -->\n<g id=\"node1\" class=\"node\">\n<title>EMPTY</title>\n</g>\n<!-- I2 -->\n<g id=\"node3\" class=\"node\">\n<title>I2</title>\n<ellipse fill=\"none\" stroke=\"#000000\" cx=\"193.545\" cy=\"-81.7982\" rx=\"18.6979\" ry=\"18.6979\"/>\n<text text-anchor=\"middle\" x=\"193.545\" y=\"-78.0982\" font-family=\"Times,serif\" font-size=\"14.00\" fill=\"#000000\">I2</text>\n</g>\n<!-- EMPTY&#45;&gt;I2 -->\n<g id=\"edge1\" class=\"edge\">\n<title>EMPTY&#45;&gt;I2</title>\n<path fill=\"none\" stroke=\"#000000\" d=\"M54.129,-66.7302C84.4711,-70.0096 133.4281,-75.3008 164.5205,-78.6612\"/>\n<polygon fill=\"#000000\" stroke=\"#000000\" points=\"164.3952,-82.168 174.7135,-79.7629 165.1475,-75.2085 164.3952,-82.168\"/>\n</g>\n<!-- I1 -->\n<g id=\"node4\" class=\"node\">\n<title>I1</title>\n<ellipse fill=\"none\" stroke=\"#000000\" cx=\"109.8483\" cy=\"-40.7982\" rx=\"18.6979\" ry=\"18.6979\"/>\n<text text-anchor=\"middle\" x=\"109.8483\" y=\"-37.0982\" font-family=\"Times,serif\" font-size=\"14.00\" fill=\"#000000\">I1</text>\n</g>\n<!-- EMPTY&#45;&gt;I1 -->\n<g id=\"edge2\" class=\"edge\">\n<title>EMPTY&#45;&gt;I1</title>\n<path fill=\"none\" stroke=\"#000000\" d=\"M54.1276,-56.2671C62.9466,-53.8188 72.7508,-51.097 81.6463,-48.6275\"/>\n<polygon fill=\"#000000\" stroke=\"#000000\" points=\"82.8586,-51.9234 91.5579,-45.8759 80.9861,-45.1785 82.8586,-51.9234\"/>\n</g>\n<!-- B -->\n<g id=\"node2\" class=\"node\">\n<title>B</title>\n<ellipse fill=\"none\" stroke=\"#000000\" cx=\"278.3933\" cy=\"-24.7982\" rx=\"18\" ry=\"18\"/>\n<text text-anchor=\"middle\" x=\"278.3933\" y=\"-21.0982\" font-family=\"Times,serif\" font-size=\"14.00\" fill=\"#000000\">B</text>\n</g>\n<!-- B&#45;&gt;B -->\n<g id=\"edge7\" class=\"edge\">\n<title>B&#45;&gt;B</title>\n<path fill=\"none\" stroke=\"#000000\" d=\"M271.3621,-41.4622C269.7996,-51.4232 272.1433,-60.7982 278.3933,-60.7982 282.3972,-60.7982 284.798,-56.9507 285.5956,-51.5664\"/>\n<polygon fill=\"#000000\" stroke=\"#000000\" points=\"289.0935,-51.4015 285.4246,-41.4622 282.0945,-51.5201 289.0935,-51.4015\"/>\n<text text-anchor=\"middle\" x=\"278.3933\" y=\"-64.5982\" font-family=\"Times,serif\" font-size=\"14.00\" fill=\"#000000\">a </text>\n</g>\n<!-- F3 -->\n<g id=\"node5\" class=\"node\">\n<title>F3</title>\n<ellipse fill=\"none\" stroke=\"#000000\" cx=\"369.1915\" cy=\"-102.7982\" rx=\"20.6302\" ry=\"20.6302\"/>\n<ellipse fill=\"none\" stroke=\"#000000\" cx=\"369.1915\" cy=\"-102.7982\" rx=\"24.5979\" ry=\"24.5979\"/>\n<text text-anchor=\"middle\" x=\"369.1915\" y=\"-99.0982\" font-family=\"Times,serif\" font-size=\"14.00\" fill=\"#000000\">F3</text>\n</g>\n<!-- B&#45;&gt;F3 -->\n<g id=\"edge9\" class=\"edge\">\n<title>B&#45;&gt;F3</title>\n<path fill=\"none\" stroke=\"#000000\" d=\"M292.1836,-36.6447C305.4854,-48.0715 325.9742,-65.6724 342.4747,-79.8471\"/>\n<polygon fill=\"#000000\" stroke=\"#000000\" points=\"340.3394,-82.627 350.2056,-86.4884 344.9008,-77.3172 340.3394,-82.627\"/>\n<text text-anchor=\"middle\" x=\"320.3933\" y=\"-67.5982\" font-family=\"Times,serif\" font-size=\"14.00\" fill=\"#000000\">c </text>\n</g>\n<!-- F4 -->\n<g id=\"node6\" class=\"node\">\n<title>F4</title>\n<ellipse fill=\"none\" stroke=\"#000000\" cx=\"369.1915\" cy=\"-24.7982\" rx=\"20.6302\" ry=\"20.6302\"/>\n<ellipse fill=\"none\" stroke=\"#000000\" cx=\"369.1915\" cy=\"-24.7982\" rx=\"24.5979\" ry=\"24.5979\"/>\n<text text-anchor=\"middle\" x=\"369.1915\" y=\"-21.0982\" font-family=\"Times,serif\" font-size=\"14.00\" fill=\"#000000\">F4</text>\n</g>\n<!-- B&#45;&gt;F4 -->\n<g id=\"edge8\" class=\"edge\">\n<title>B&#45;&gt;F4</title>\n<path fill=\"none\" stroke=\"#000000\" d=\"M296.7677,-24.7982C307.4554,-24.7982 321.2849,-24.7982 333.9906,-24.7982\"/>\n<polygon fill=\"#000000\" stroke=\"#000000\" points=\"334.3055,-28.2983 344.3054,-24.7982 334.3054,-21.2983 334.3055,-28.2983\"/>\n<text text-anchor=\"middle\" x=\"320.3933\" y=\"-28.5982\" font-family=\"Times,serif\" font-size=\"14.00\" fill=\"#000000\">b </text>\n</g>\n<!-- I2&#45;&gt;B -->\n<g id=\"edge6\" class=\"edge\">\n<title>I2&#45;&gt;B</title>\n<path fill=\"none\" stroke=\"#000000\" d=\"M209.5043,-71.0769C222.3051,-62.4775 240.4581,-50.2825 254.9162,-40.5698\"/>\n<polygon fill=\"#000000\" stroke=\"#000000\" points=\"257.0109,-43.379 263.36,-34.8973 253.1074,-37.5685 257.0109,-43.379\"/>\n<text text-anchor=\"middle\" x=\"236.3933\" y=\"-60.5982\" font-family=\"Times,serif\" font-size=\"14.00\" fill=\"#000000\">b </text>\n</g>\n<!-- I2&#45;&gt;F3 -->\n<g id=\"edge5\" class=\"edge\">\n<title>I2&#45;&gt;F3</title>\n<path fill=\"none\" stroke=\"#000000\" d=\"M212.3422,-84.0455C241.3398,-87.5124 297.4593,-94.222 334.1115,-98.6041\"/>\n<polygon fill=\"#000000\" stroke=\"#000000\" points=\"334.0069,-102.1164 344.3517,-99.8284 334.8379,-95.1659 334.0069,-102.1164\"/>\n<text text-anchor=\"middle\" x=\"278.3933\" y=\"-97.5982\" font-family=\"Times,serif\" font-size=\"14.00\" fill=\"#000000\">c </text>\n</g>\n<!-- I1&#45;&gt;B -->\n<g id=\"edge3\" class=\"edge\">\n<title>I1&#45;&gt;B</title>\n<path fill=\"none\" stroke=\"#000000\" d=\"M128.855,-38.9939C158.3749,-36.1915 215.4247,-30.7758 249.8904,-27.5039\"/>\n<polygon fill=\"#000000\" stroke=\"#000000\" points=\"250.599,-30.9525 260.2235,-26.523 249.9374,-23.9838 250.599,-30.9525\"/>\n<text text-anchor=\"middle\" x=\"193.545\" y=\"-38.5982\" font-family=\"Times,serif\" font-size=\"14.00\" fill=\"#000000\">&#39;&#39; </text>\n</g>\n<!-- I1&#45;&gt;I2 -->\n<g id=\"edge4\" class=\"edge\">\n<title>I1&#45;&gt;I2</title>\n<path fill=\"none\" stroke=\"#000000\" d=\"M127.9903,-46.8522C136.8226,-50.0288 147.495,-54.2115 156.6967,-58.7982 160.8326,-60.8598 165.1,-63.2524 169.1988,-65.6993\"/>\n<polygon fill=\"#000000\" stroke=\"#000000\" points=\"167.4451,-68.7302 177.7862,-71.0355 171.1397,-62.7846 167.4451,-68.7302\"/>\n<text text-anchor=\"middle\" x=\"151.6967\" y=\"-62.5982\" font-family=\"Times,serif\" font-size=\"14.00\" fill=\"#000000\">a </text>\n</g>\n</g>\n</svg>\n"
          },
          "metadata": {},
          "execution_count": 39
        }
      ]
    },
    {
      "cell_type": "markdown",
      "metadata": {
        "id": "04nrN0RFjI_e"
      },
      "source": [
        "##  {IMPORTANT Answer cells below - RE from nfa1 by inspection and the checks asked}"
      ]
    },
    {
      "cell_type": "markdown",
      "metadata": {
        "id": "b6bWV4AZ1Fan"
      },
      "source": [
        "### Part b: Obtain an RE by looking at nfa1\n",
        "\n",
        "* Follow all paths\n",
        "\n",
        "* Summarize the paths in your head, using the Star operator suitably\n",
        "\n",
        "\n"
      ]
    },
    {
      "cell_type": "code",
      "metadata": {
        "id": "W2GdlsN01Fan"
      },
      "source": [
        "# RE1_hand = \" ... your RE here... \"\n",
        "\n",
        "RE1_hand = \" a*b + aba*b + a*c + aba*c + c + ac + ba*b + ba*c \"\n",
        "# I can't figure out how to rewrite or algebra through the expression that get's something more compact than all the possible paths to a final state, which is just what this is.\n",
        "# Needs a lot of work to fix, doesn't look like the original nfa"
      ],
      "execution_count": 83,
      "outputs": []
    },
    {
      "cell_type": "markdown",
      "metadata": {
        "id": "6LP78wjMjI_f"
      },
      "source": [
        "### Part c : Obtain a DFA out of this RE and confirm it appears OK\n",
        "\n",
        "### we will later check RE1_hand against RE1_automated -- that will catch mistakes if any !!\n"
      ]
    },
    {
      "cell_type": "code",
      "metadata": {
        "id": "b3I5pNkBjI_f",
        "outputId": "7d9a245b-63b3-48c8-892c-f7047b5e7378",
        "colab": {
          "base_uri": "https://localhost:8080/"
        }
      },
      "source": [
        "DFA_RE1_hand = min_dfa(nfa2dfa(re2nfa(RE1_hand)))"
      ],
      "execution_count": 84,
      "outputs": [
        {
          "output_type": "stream",
          "name": "stderr",
          "text": [
            "Generating LALR tables\n"
          ]
        }
      ]
    },
    {
      "cell_type": "code",
      "metadata": {
        "id": "rl3OcmvgjI_f",
        "outputId": "3324ca3b-21c3-4a00-86ee-b616e5796481",
        "colab": {
          "base_uri": "https://localhost:8080/",
          "height": 306
        }
      },
      "source": [
        "dotObj_dfa(DFA_RE1_hand, FuseEdges=True)"
      ],
      "execution_count": 85,
      "outputs": [
        {
          "output_type": "execute_result",
          "data": {
            "text/plain": [
              "<graphviz.dot.Digraph at 0x7fc520c16050>"
            ],
            "image/svg+xml": "<?xml version=\"1.0\" encoding=\"UTF-8\" standalone=\"no\"?>\n<!DOCTYPE svg PUBLIC \"-//W3C//DTD SVG 1.1//EN\"\n \"http://www.w3.org/Graphics/SVG/1.1/DTD/svg11.dtd\">\n<!-- Generated by graphviz version 2.40.1 (20161225.0304)\n -->\n<!-- Title: %3 Pages: 1 -->\n<svg width=\"549pt\" height=\"214pt\"\n viewBox=\"0.00 0.00 549.38 214.00\" xmlns=\"http://www.w3.org/2000/svg\" xmlns:xlink=\"http://www.w3.org/1999/xlink\">\n<g id=\"graph0\" class=\"graph\" transform=\"scale(1 1) rotate(0) translate(4 210)\">\n<title>%3</title>\n<polygon fill=\"#ffffff\" stroke=\"transparent\" points=\"-4,4 -4,-210 545.3783,-210 545.3783,4 -4,4\"/>\n<!-- EMPTY -->\n<g id=\"node1\" class=\"node\">\n<title>EMPTY</title>\n</g>\n<!-- St3 -->\n<g id=\"node3\" class=\"node\">\n<title>St3</title>\n<ellipse fill=\"none\" stroke=\"#000000\" cx=\"114.3979\" cy=\"-60\" rx=\"23.2963\" ry=\"23.2963\"/>\n<text text-anchor=\"middle\" x=\"114.3979\" y=\"-56.3\" font-family=\"Times,serif\" font-size=\"14.00\" fill=\"#000000\">St3</text>\n</g>\n<!-- EMPTY&#45;&gt;St3 -->\n<g id=\"edge1\" class=\"edge\">\n<title>EMPTY&#45;&gt;St3</title>\n<path fill=\"none\" stroke=\"#000000\" d=\"M54.1742,-60C62.5103,-60 71.7873,-60 80.5137,-60\"/>\n<polygon fill=\"#000000\" stroke=\"#000000\" points=\"80.7846,-63.5001 90.7846,-60 80.7845,-56.5001 80.7846,-63.5001\"/>\n</g>\n<!-- St1 -->\n<g id=\"node2\" class=\"node\">\n<title>St1</title>\n<ellipse fill=\"none\" stroke=\"#000000\" cx=\"207.1938\" cy=\"-119\" rx=\"23.2963\" ry=\"23.2963\"/>\n<text text-anchor=\"middle\" x=\"207.1938\" y=\"-115.3\" font-family=\"Times,serif\" font-size=\"14.00\" fill=\"#000000\">St1</text>\n</g>\n<!-- St2 -->\n<g id=\"node4\" class=\"node\">\n<title>St2</title>\n<ellipse fill=\"none\" stroke=\"#000000\" cx=\"402.7855\" cy=\"-117\" rx=\"23.2963\" ry=\"23.2963\"/>\n<text text-anchor=\"middle\" x=\"402.7855\" y=\"-113.3\" font-family=\"Times,serif\" font-size=\"14.00\" fill=\"#000000\">St2</text>\n</g>\n<!-- St1&#45;&gt;St2 -->\n<g id=\"edge8\" class=\"edge\">\n<title>St1&#45;&gt;St2</title>\n<path fill=\"none\" stroke=\"#000000\" d=\"M230.7867,-118.7588C265.223,-118.4066 329.4374,-117.75 368.916,-117.3463\"/>\n<polygon fill=\"#000000\" stroke=\"#000000\" points=\"369.1452,-120.8443 379.1089,-117.2421 369.0736,-113.8446 369.1452,-120.8443\"/>\n<text text-anchor=\"middle\" x=\"305.9896\" y=\"-121.8\" font-family=\"Times,serif\" font-size=\"14.00\" fill=\"#000000\">a </text>\n</g>\n<!-- St10 -->\n<g id=\"node5\" class=\"node\">\n<title>St10</title>\n<ellipse fill=\"none\" stroke=\"#000000\" cx=\"508.7809\" cy=\"-81\" rx=\"28.6832\" ry=\"28.6832\"/>\n<ellipse fill=\"none\" stroke=\"#000000\" cx=\"508.7809\" cy=\"-81\" rx=\"32.6952\" ry=\"32.6952\"/>\n<text text-anchor=\"middle\" x=\"508.7809\" y=\"-77.3\" font-family=\"Times,serif\" font-size=\"14.00\" fill=\"#000000\">St10</text>\n</g>\n<!-- St1&#45;&gt;St10 -->\n<g id=\"edge9\" class=\"edge\">\n<title>St1&#45;&gt;St10</title>\n<path fill=\"none\" stroke=\"#000000\" d=\"M226.0968,-133.2332C264.9721,-160.6391 356.117,-215.2129 426.1834,-182 453.4689,-169.0661 474.7344,-142.2159 488.851,-119.4495\"/>\n<polygon fill=\"#000000\" stroke=\"#000000\" points=\"491.9865,-121.0247 494.0921,-110.6412 485.9708,-117.4452 491.9865,-121.0247\"/>\n<text text-anchor=\"middle\" x=\"356.3875\" y=\"-194.8\" font-family=\"Times,serif\" font-size=\"14.00\" fill=\"#000000\">c </text>\n</g>\n<!-- St5 -->\n<g id=\"node6\" class=\"node\">\n<title>St5</title>\n<ellipse fill=\"none\" stroke=\"#000000\" cx=\"305.9896\" cy=\"-60\" rx=\"23.3111\" ry=\"23.3111\"/>\n<ellipse fill=\"none\" stroke=\"#000000\" cx=\"305.9896\" cy=\"-60\" rx=\"27.2962\" ry=\"27.2962\"/>\n<text text-anchor=\"middle\" x=\"305.9896\" y=\"-56.3\" font-family=\"Times,serif\" font-size=\"14.00\" fill=\"#000000\">St5</text>\n</g>\n<!-- St1&#45;&gt;St5 -->\n<g id=\"edge7\" class=\"edge\">\n<title>St1&#45;&gt;St5</title>\n<path fill=\"none\" stroke=\"#000000\" d=\"M227.3869,-106.7586C234.1235,-102.6873 241.6744,-98.1373 248.5917,-94 256.6079,-89.2054 265.2699,-84.0574 273.3752,-79.2544\"/>\n<polygon fill=\"#000000\" stroke=\"#000000\" points=\"275.4031,-82.1213 282.2257,-74.0156 271.8374,-76.0975 275.4031,-82.1213\"/>\n<text text-anchor=\"middle\" x=\"254.5917\" y=\"-97.8\" font-family=\"Times,serif\" font-size=\"14.00\" fill=\"#000000\">b </text>\n</g>\n<!-- St3&#45;&gt;St1 -->\n<g id=\"edge3\" class=\"edge\">\n<title>St3&#45;&gt;St1</title>\n<path fill=\"none\" stroke=\"#000000\" d=\"M134.5332,-72.8021C147.5113,-81.0536 164.5768,-91.904 178.9078,-101.0157\"/>\n<polygon fill=\"#000000\" stroke=\"#000000\" points=\"177.0999,-104.0137 187.4165,-106.4256 180.8557,-98.1065 177.0999,-104.0137\"/>\n<text text-anchor=\"middle\" x=\"160.7958\" y=\"-94.8\" font-family=\"Times,serif\" font-size=\"14.00\" fill=\"#000000\">a </text>\n</g>\n<!-- St3&#45;&gt;St10 -->\n<g id=\"edge4\" class=\"edge\">\n<title>St3&#45;&gt;St10</title>\n<path fill=\"none\" stroke=\"#000000\" d=\"M129.8589,-41.998C146.853,-24.3246 175.9228,0 207.1938,0 207.1938,0 207.1938,0 402.7855,0 435.1697,0 463.7996,-24.1654 483.1151,-46.0978\"/>\n<polygon fill=\"#000000\" stroke=\"#000000\" points=\"480.6785,-48.6377 489.7995,-54.0282 486.0308,-44.1263 480.6785,-48.6377\"/>\n<text text-anchor=\"middle\" x=\"305.9896\" y=\"-3.8\" font-family=\"Times,serif\" font-size=\"14.00\" fill=\"#000000\">c </text>\n</g>\n<!-- St3&#45;&gt;St5 -->\n<g id=\"edge2\" class=\"edge\">\n<title>St3&#45;&gt;St5</title>\n<path fill=\"none\" stroke=\"#000000\" d=\"M137.8908,-60C170.4063,-60 229.4918,-60 268.2396,-60\"/>\n<polygon fill=\"#000000\" stroke=\"#000000\" points=\"268.5902,-63.5001 278.5901,-60 268.5901,-56.5001 268.5902,-63.5001\"/>\n<text text-anchor=\"middle\" x=\"207.1938\" y=\"-63.8\" font-family=\"Times,serif\" font-size=\"14.00\" fill=\"#000000\">b </text>\n</g>\n<!-- St2&#45;&gt;St2 -->\n<g id=\"edge11\" class=\"edge\">\n<title>St2&#45;&gt;St2</title>\n<path fill=\"none\" stroke=\"#000000\" d=\"M394.331,-139.1473C393.4087,-149.4213 396.2269,-158.3979 402.7855,-158.3979 406.9871,-158.3979 409.6536,-154.7139 410.785,-149.3649\"/>\n<polygon fill=\"#000000\" stroke=\"#000000\" points=\"414.2916,-149.2931 411.2399,-139.1473 407.2985,-148.9817 414.2916,-149.2931\"/>\n<text text-anchor=\"middle\" x=\"402.7855\" y=\"-162.1979\" font-family=\"Times,serif\" font-size=\"14.00\" fill=\"#000000\">a </text>\n</g>\n<!-- St2&#45;&gt;St10 -->\n<g id=\"edge10\" class=\"edge\">\n<title>St2&#45;&gt;St10</title>\n<path fill=\"none\" stroke=\"#000000\" d=\"M425.0056,-109.4532C437.435,-105.2317 453.3209,-99.8363 467.9109,-94.881\"/>\n<polygon fill=\"#000000\" stroke=\"#000000\" points=\"469.4031,-98.0706 477.7462,-91.5405 467.1519,-91.4425 469.4031,-98.0706\"/>\n<text text-anchor=\"middle\" x=\"451.1834\" y=\"-120.8\" font-family=\"Times,serif\" font-size=\"14.00\" fill=\"#000000\">b </text>\n<text text-anchor=\"middle\" x=\"451.1834\" y=\"-105.8\" font-family=\"Times,serif\" font-size=\"14.00\" fill=\"#000000\"> c </text>\n</g>\n<!-- St5&#45;&gt;St2 -->\n<g id=\"edge6\" class=\"edge\">\n<title>St5&#45;&gt;St2</title>\n<path fill=\"none\" stroke=\"#000000\" d=\"M329.9167,-74.0899C343.143,-81.8785 359.6782,-91.6155 373.6525,-99.8445\"/>\n<polygon fill=\"#000000\" stroke=\"#000000\" points=\"372.0124,-102.9404 382.4054,-104.9988 375.5644,-96.9086 372.0124,-102.9404\"/>\n<text text-anchor=\"middle\" x=\"356.3875\" y=\"-94.8\" font-family=\"Times,serif\" font-size=\"14.00\" fill=\"#000000\">a </text>\n</g>\n<!-- St5&#45;&gt;St10 -->\n<g id=\"edge5\" class=\"edge\">\n<title>St5&#45;&gt;St10</title>\n<path fill=\"none\" stroke=\"#000000\" d=\"M333.3657,-55.866C357.8363,-52.8804 394.6001,-50.1465 426.1834,-55 440.274,-57.1653 455.259,-61.294 468.5425,-65.6344\"/>\n<polygon fill=\"#000000\" stroke=\"#000000\" points=\"467.7313,-69.0555 478.3258,-68.9658 469.9878,-62.4291 467.7313,-69.0555\"/>\n<text text-anchor=\"middle\" x=\"402.7855\" y=\"-73.8\" font-family=\"Times,serif\" font-size=\"14.00\" fill=\"#000000\">b </text>\n<text text-anchor=\"middle\" x=\"402.7855\" y=\"-58.8\" font-family=\"Times,serif\" font-size=\"14.00\" fill=\"#000000\"> c </text>\n</g>\n</g>\n</svg>\n"
          },
          "metadata": {},
          "execution_count": 85
        }
      ]
    },
    {
      "cell_type": "markdown",
      "metadata": {
        "id": "5tn3lrpW1Fap"
      },
      "source": [
        "##  Question 4: Understanding del_gnfa_states"
      ]
    },
    {
      "cell_type": "markdown",
      "metadata": {
        "id": "Fqhsan3o1Fao"
      },
      "source": [
        "### Part d: Understand del_gnfa_states via help\n",
        "\n",
        "*Run help( del_gnfa_states )\n",
        "\n",
        "* Now, FULLY understand how to specify its arguments.\n",
        "\n",
        "* YOU CAN FIND MULTIPLE USES OF THIS FUNCTION IN VARIOUS NOTEBOOKS. Please study these notebooks and understand how it works.\n",
        "\n",
        "* In particular, note that you can specify a state elimination order to del_gnfa_states. Youll get to understand and use this in \n",
        " \n",
        "### To do this you need a GNFA and so understand the call mk_gnfa also"
      ]
    },
    {
      "cell_type": "code",
      "metadata": {
        "id": "zIjNrqnkjI_f",
        "outputId": "001d6b59-66d8-4780-ef5c-11a9d81c96cb",
        "colab": {
          "base_uri": "https://localhost:8080/"
        }
      },
      "source": [
        "help(mk_gnfa)"
      ],
      "execution_count": 53,
      "outputs": [
        {
          "output_type": "stream",
          "name": "stdout",
          "text": [
            "Help on function mk_gnfa in module jove.Def_NFA2RE:\n",
            "\n",
            "mk_gnfa(Nin)\n",
            "    Input : Nin, an NFA.\n",
            "    Output: G, a GNFA, with at-most one transition from any\n",
            "            state p to a state q.??true any more?? Note that we have created\n",
            "            an NFA (G+NFA), and so one state can have a transition\n",
            "            to A SET OF STATES !!\n",
            "    Method: Add a new set of states {Real_I} and another, {Real_F}.\n",
            "            Move from state Real_I to the NFA's initial set of states\n",
            "            upon epsilon, and from each state in NFA's F to Real_F.\n",
            "            Return this GNFA.\n",
            "            We will keep GNFA's alphabet implicit (whatever edge\n",
            "            labels exist will be deemed to be in the alphabet.)\n",
            "\n"
          ]
        }
      ]
    },
    {
      "cell_type": "code",
      "metadata": {
        "id": "St7Zo8AY1Fao",
        "outputId": "a3f1d1df-150f-48fc-fe88-822a70821226",
        "colab": {
          "base_uri": "https://localhost:8080/"
        }
      },
      "source": [
        "\n",
        "help(del_gnfa_states) "
      ],
      "execution_count": 54,
      "outputs": [
        {
          "output_type": "stream",
          "name": "stdout",
          "text": [
            "Help on function del_gnfa_states in module jove.Def_NFA2RE:\n",
            "\n",
            "del_gnfa_states(Gin, DelList=[])\n",
            "    Given a GNFA Gin with no unreachable states, \n",
            "    delete all states but f\n",
            "    or Real_I and Real_F.\n",
            "    If DelList is given, follow the state deletion\n",
            "    order mentioned therein; else choose order internally.\n",
            "    \n",
            "    Return a triple (Gfinal, dotObj_List, final_re_str), where\n",
            "      Gfinal       : the final GNFA\n",
            "      dotObj_List  : a list of Dot objects recording the process of\n",
            "                     deleting states and forming intermediate REs\n",
            "      final_re_str : the final RE as a string (ready to be fed to  \n",
            "                     re2nfa for converting back to an NFA)\n",
            "\n"
          ]
        }
      ]
    },
    {
      "cell_type": "markdown",
      "metadata": {
        "id": "eOmufZDa1Fap"
      },
      "source": [
        "### Perform del_gnfa_states on the gnfa obtained from nfa1"
      ]
    },
    {
      "cell_type": "code",
      "metadata": {
        "id": "4XkJaoDL1Far",
        "outputId": "5fc1b364-dce1-4fc9-e08f-f2c09a94d666",
        "colab": {
          "base_uri": "https://localhost:8080/"
        }
      },
      "source": [
        "(Gfinal, DO, RE1_automated) = del_gnfa_states(mk_gnfa(nfa1))"
      ],
      "execution_count": 55,
      "outputs": [
        {
          "output_type": "stream",
          "name": "stdout",
          "text": [
            "**** Eliminating state F3 ****\n",
            "**** Eliminating state B ****\n",
            "**** Eliminating state I2 ****\n",
            "**** Eliminating state I1 ****\n",
            "**** Eliminating state F4 ****\n"
          ]
        }
      ]
    },
    {
      "cell_type": "markdown",
      "metadata": {
        "id": "edTfdd_qjI_g"
      },
      "source": [
        "### {Answer cells : Obtain RE1_automated and check it is equivalent to RE1_hand by isomorphism of min_DFAs}"
      ]
    },
    {
      "cell_type": "code",
      "metadata": {
        "id": "zvc3WnQb1Far",
        "outputId": "d8165fb9-ff86-4a6a-fa85-ec268ef43e09",
        "colab": {
          "base_uri": "https://localhost:8080/",
          "height": 52
        }
      },
      "source": [
        "RE1_automated"
      ],
      "execution_count": 56,
      "outputs": [
        {
          "output_type": "execute_result",
          "data": {
            "application/vnd.google.colaboratory.intrinsic+json": {
              "type": "string"
            },
            "text/plain": [
              "'(((((((a (b ((a)* b))) + ((a)* b)) + ((a)* b)) + (b ((a)* b))) + (b ((a)* b))) + (((((a (((b ((a)* c)) + c) + c)) + ((a)* c)) + ((a)* c)) + (((b ((a)* c)) + c) + c)) + (((b ((a)* c)) + c) + c))) + (((((a (((b ((a)* c)) + c) + c)) + ((a)* c)) + ((a)* c)) + (((b ((a)* c)) + c) + c)) + (((b ((a)* c)) + c) + c)))'"
            ]
          },
          "metadata": {},
          "execution_count": 56
        }
      ]
    },
    {
      "cell_type": "code",
      "metadata": {
        "id": "VYbjB5ZejI_g",
        "outputId": "07e7a0d6-b6e7-4ce1-f924-5b01c3dc4c6e",
        "colab": {
          "base_uri": "https://localhost:8080/"
        }
      },
      "source": [
        "DFA_RE1_automated = min_dfa(nfa2dfa(re2nfa(RE1_automated)))"
      ],
      "execution_count": 57,
      "outputs": [
        {
          "output_type": "stream",
          "name": "stderr",
          "text": [
            "Generating LALR tables\n"
          ]
        }
      ]
    },
    {
      "cell_type": "code",
      "metadata": {
        "id": "uQ7gGd7OjI_g",
        "outputId": "53d20a19-57fa-496c-999c-7d2696da7047",
        "colab": {
          "base_uri": "https://localhost:8080/",
          "height": 313
        }
      },
      "source": [
        "dotObj_dfa(DFA_RE1_automated, FuseEdges=True)"
      ],
      "execution_count": 58,
      "outputs": [
        {
          "output_type": "execute_result",
          "data": {
            "text/plain": [
              "<graphviz.dot.Digraph at 0x7fc520cccc10>"
            ],
            "image/svg+xml": "<?xml version=\"1.0\" encoding=\"UTF-8\" standalone=\"no\"?>\n<!DOCTYPE svg PUBLIC \"-//W3C//DTD SVG 1.1//EN\"\n \"http://www.w3.org/Graphics/SVG/1.1/DTD/svg11.dtd\">\n<!-- Generated by graphviz version 2.40.1 (20161225.0304)\n -->\n<!-- Title: %3 Pages: 1 -->\n<svg width=\"560pt\" height=\"219pt\"\n viewBox=\"0.00 0.00 559.78 218.54\" xmlns=\"http://www.w3.org/2000/svg\" xmlns:xlink=\"http://www.w3.org/1999/xlink\">\n<g id=\"graph0\" class=\"graph\" transform=\"scale(1 1) rotate(0) translate(4 214.5355)\">\n<title>%3</title>\n<polygon fill=\"#ffffff\" stroke=\"transparent\" points=\"-4,4 -4,-214.5355 555.7774,-214.5355 555.7774,4 -4,4\"/>\n<!-- EMPTY -->\n<g id=\"node1\" class=\"node\">\n<title>EMPTY</title>\n</g>\n<!-- St1 -->\n<g id=\"node2\" class=\"node\">\n<title>St1</title>\n<ellipse fill=\"none\" stroke=\"#000000\" cx=\"114.3979\" cy=\"-111.5355\" rx=\"23.2963\" ry=\"23.2963\"/>\n<text text-anchor=\"middle\" x=\"114.3979\" y=\"-107.8355\" font-family=\"Times,serif\" font-size=\"14.00\" fill=\"#000000\">St1</text>\n</g>\n<!-- EMPTY&#45;&gt;St1 -->\n<g id=\"edge1\" class=\"edge\">\n<title>EMPTY&#45;&gt;St1</title>\n<path fill=\"none\" stroke=\"#000000\" d=\"M54.1742,-111.5355C62.5103,-111.5355 71.7873,-111.5355 80.5137,-111.5355\"/>\n<polygon fill=\"#000000\" stroke=\"#000000\" points=\"80.7846,-115.0356 90.7846,-111.5355 80.7845,-108.0356 80.7846,-115.0356\"/>\n</g>\n<!-- St2 -->\n<g id=\"node4\" class=\"node\">\n<title>St2</title>\n<ellipse fill=\"none\" stroke=\"#000000\" cx=\"207.1938\" cy=\"-49.5355\" rx=\"23.2963\" ry=\"23.2963\"/>\n<text text-anchor=\"middle\" x=\"207.1938\" y=\"-45.8355\" font-family=\"Times,serif\" font-size=\"14.00\" fill=\"#000000\">St2</text>\n</g>\n<!-- St1&#45;&gt;St2 -->\n<g id=\"edge3\" class=\"edge\">\n<title>St1&#45;&gt;St2</title>\n<path fill=\"none\" stroke=\"#000000\" d=\"M133.6624,-97.7998C140.5978,-92.9189 148.5087,-87.4244 155.7958,-82.5355 163.1378,-77.6099 171.1493,-72.3923 178.6153,-67.5955\"/>\n<polygon fill=\"#000000\" stroke=\"#000000\" points=\"180.5154,-70.5349 187.0565,-62.2003 176.7456,-64.6367 180.5154,-70.5349\"/>\n<text text-anchor=\"middle\" x=\"160.7958\" y=\"-86.3355\" font-family=\"Times,serif\" font-size=\"14.00\" fill=\"#000000\">a </text>\n</g>\n<!-- St15 -->\n<g id=\"node5\" class=\"node\">\n<title>St15</title>\n<ellipse fill=\"none\" stroke=\"#000000\" cx=\"519.1799\" cy=\"-114.5355\" rx=\"28.6832\" ry=\"28.6832\"/>\n<ellipse fill=\"none\" stroke=\"#000000\" cx=\"519.1799\" cy=\"-114.5355\" rx=\"32.6952\" ry=\"32.6952\"/>\n<text text-anchor=\"middle\" x=\"519.1799\" y=\"-110.8355\" font-family=\"Times,serif\" font-size=\"14.00\" fill=\"#000000\">St15</text>\n</g>\n<!-- St1&#45;&gt;St15 -->\n<g id=\"edge4\" class=\"edge\">\n<title>St1&#45;&gt;St15</title>\n<path fill=\"none\" stroke=\"#000000\" d=\"M125.4809,-132.2996C140.4384,-157.1744 169.5999,-195.5355 207.1938,-195.5355 207.1938,-195.5355 207.1938,-195.5355 413.1845,-195.5355 445.5688,-195.5355 474.1987,-171.3701 493.5141,-149.4378\"/>\n<polygon fill=\"#000000\" stroke=\"#000000\" points=\"496.4299,-151.4092 500.1986,-141.5073 491.0776,-146.8978 496.4299,-151.4092\"/>\n<text text-anchor=\"middle\" x=\"311.1892\" y=\"-199.3355\" font-family=\"Times,serif\" font-size=\"14.00\" fill=\"#000000\">c </text>\n</g>\n<!-- St10 -->\n<g id=\"node6\" class=\"node\">\n<title>St10</title>\n<ellipse fill=\"none\" stroke=\"#000000\" cx=\"311.1892\" cy=\"-111.5355\" rx=\"28.6832\" ry=\"28.6832\"/>\n<ellipse fill=\"none\" stroke=\"#000000\" cx=\"311.1892\" cy=\"-111.5355\" rx=\"32.6952\" ry=\"32.6952\"/>\n<text text-anchor=\"middle\" x=\"311.1892\" y=\"-107.8355\" font-family=\"Times,serif\" font-size=\"14.00\" fill=\"#000000\">St10</text>\n</g>\n<!-- St1&#45;&gt;St10 -->\n<g id=\"edge2\" class=\"edge\">\n<title>St1&#45;&gt;St10</title>\n<path fill=\"none\" stroke=\"#000000\" d=\"M138.1355,-111.5355C170.3232,-111.5355 228.3684,-111.5355 268.2952,-111.5355\"/>\n<polygon fill=\"#000000\" stroke=\"#000000\" points=\"268.5335,-115.0356 278.5335,-111.5355 268.5335,-108.0356 268.5335,-115.0356\"/>\n<text text-anchor=\"middle\" x=\"207.1938\" y=\"-115.3355\" font-family=\"Times,serif\" font-size=\"14.00\" fill=\"#000000\">b </text>\n</g>\n<!-- St3 -->\n<g id=\"node3\" class=\"node\">\n<title>St3</title>\n<ellipse fill=\"none\" stroke=\"#000000\" cx=\"413.1845\" cy=\"-45.5355\" rx=\"23.2963\" ry=\"23.2963\"/>\n<text text-anchor=\"middle\" x=\"413.1845\" y=\"-41.8355\" font-family=\"Times,serif\" font-size=\"14.00\" fill=\"#000000\">St3</text>\n</g>\n<!-- St3&#45;&gt;St3 -->\n<g id=\"edge11\" class=\"edge\">\n<title>St3&#45;&gt;St3</title>\n<path fill=\"none\" stroke=\"#000000\" d=\"M404.7301,-67.6828C403.8078,-77.9568 406.626,-86.9334 413.1845,-86.9334 417.3861,-86.9334 420.0527,-83.2494 421.1841,-77.9004\"/>\n<polygon fill=\"#000000\" stroke=\"#000000\" points=\"424.6907,-77.8286 421.639,-67.6828 417.6976,-77.5172 424.6907,-77.8286\"/>\n<text text-anchor=\"middle\" x=\"413.1845\" y=\"-90.7334\" font-family=\"Times,serif\" font-size=\"14.00\" fill=\"#000000\">a </text>\n</g>\n<!-- St3&#45;&gt;St15 -->\n<g id=\"edge10\" class=\"edge\">\n<title>St3&#45;&gt;St15</title>\n<path fill=\"none\" stroke=\"#000000\" d=\"M433.1215,-58.5139C447.2161,-67.6891 466.5051,-80.2457 483.2494,-91.1458\"/>\n<polygon fill=\"#000000\" stroke=\"#000000\" points=\"481.4425,-94.1457 491.7327,-96.6681 485.2615,-88.2792 481.4425,-94.1457\"/>\n<text text-anchor=\"middle\" x=\"461.5825\" y=\"-98.3355\" font-family=\"Times,serif\" font-size=\"14.00\" fill=\"#000000\">b </text>\n<text text-anchor=\"middle\" x=\"461.5825\" y=\"-83.3355\" font-family=\"Times,serif\" font-size=\"14.00\" fill=\"#000000\"> c </text>\n</g>\n<!-- St2&#45;&gt;St3 -->\n<g id=\"edge8\" class=\"edge\">\n<title>St2&#45;&gt;St3</title>\n<path fill=\"none\" stroke=\"#000000\" d=\"M230.8235,-49.0767C267.2793,-48.3688 337.3953,-47.0072 379.2633,-46.1942\"/>\n<polygon fill=\"#000000\" stroke=\"#000000\" points=\"379.5838,-49.6887 389.514,-45.9952 379.4479,-42.6901 379.5838,-49.6887\"/>\n<text text-anchor=\"middle\" x=\"311.1892\" y=\"-52.3355\" font-family=\"Times,serif\" font-size=\"14.00\" fill=\"#000000\">a </text>\n</g>\n<!-- St2&#45;&gt;St15 -->\n<g id=\"edge9\" class=\"edge\">\n<title>St2&#45;&gt;St15</title>\n<path fill=\"none\" stroke=\"#000000\" d=\"M227.9604,-38.6423C269.6364,-18.3771 365.5505,20.1351 436.5825,-13.5355 463.8679,-26.4694 485.1335,-53.3196 499.2501,-76.086\"/>\n<polygon fill=\"#000000\" stroke=\"#000000\" points=\"496.3699,-78.0903 504.4912,-84.8944 502.3855,-74.5109 496.3699,-78.0903\"/>\n<text text-anchor=\"middle\" x=\"366.7866\" y=\"-4.3355\" font-family=\"Times,serif\" font-size=\"14.00\" fill=\"#000000\">c </text>\n</g>\n<!-- St2&#45;&gt;St10 -->\n<g id=\"edge7\" class=\"edge\">\n<title>St2&#45;&gt;St10</title>\n<path fill=\"none\" stroke=\"#000000\" d=\"M227.7399,-61.7847C240.9023,-69.6319 258.3715,-80.0467 273.9241,-89.3188\"/>\n<polygon fill=\"#000000\" stroke=\"#000000\" points=\"272.4311,-92.5035 282.8128,-94.6181 276.0157,-86.4909 272.4311,-92.5035\"/>\n<text text-anchor=\"middle\" x=\"254.5917\" y=\"-84.3355\" font-family=\"Times,serif\" font-size=\"14.00\" fill=\"#000000\">b </text>\n</g>\n<!-- St10&#45;&gt;St3 -->\n<g id=\"edge6\" class=\"edge\">\n<title>St10&#45;&gt;St3</title>\n<path fill=\"none\" stroke=\"#000000\" d=\"M338.7906,-93.675C353.0567,-84.4435 370.4415,-73.194 384.817,-63.8918\"/>\n<polygon fill=\"#000000\" stroke=\"#000000\" points=\"386.8299,-66.7582 393.324,-58.387 383.027,-60.8813 386.8299,-66.7582\"/>\n<text text-anchor=\"middle\" x=\"366.7866\" y=\"-82.3355\" font-family=\"Times,serif\" font-size=\"14.00\" fill=\"#000000\">a </text>\n</g>\n<!-- St10&#45;&gt;St15 -->\n<g id=\"edge5\" class=\"edge\">\n<title>St10&#45;&gt;St15</title>\n<path fill=\"none\" stroke=\"#000000\" d=\"M344.1459,-112.0109C379.8969,-112.5265 437.1035,-113.3517 476.3224,-113.9173\"/>\n<polygon fill=\"#000000\" stroke=\"#000000\" points=\"476.3279,-117.4177 486.3774,-114.0624 476.4289,-110.4184 476.3279,-117.4177\"/>\n<text text-anchor=\"middle\" x=\"413.1845\" y=\"-131.3355\" font-family=\"Times,serif\" font-size=\"14.00\" fill=\"#000000\">b </text>\n<text text-anchor=\"middle\" x=\"413.1845\" y=\"-116.3355\" font-family=\"Times,serif\" font-size=\"14.00\" fill=\"#000000\"> c </text>\n</g>\n</g>\n</svg>\n"
          },
          "metadata": {},
          "execution_count": 58
        }
      ]
    },
    {
      "cell_type": "markdown",
      "metadata": {
        "id": "RuOdJwCojI_h"
      },
      "source": [
        "## {IMPORTANT Answer cell below: this iso_dfa must pass -- if not, debug RE1_hand !! }"
      ]
    },
    {
      "cell_type": "code",
      "metadata": {
        "id": "k14c5EtLjI_h",
        "outputId": "a6c323ce-6b6b-4300-a5da-4308fa699beb",
        "colab": {
          "base_uri": "https://localhost:8080/"
        }
      },
      "source": [
        "iso_dfa(DFA_RE1_hand, DFA_RE1_automated)"
      ],
      "execution_count": 86,
      "outputs": [
        {
          "output_type": "execute_result",
          "data": {
            "text/plain": [
              "True"
            ]
          },
          "metadata": {},
          "execution_count": 86
        }
      ]
    },
    {
      "cell_type": "markdown",
      "metadata": {
        "id": "SrFKBgbl1Fau"
      },
      "source": [
        "### Part e: List DO[0], DO[1], ... and also GFinal\n",
        "\n"
      ]
    },
    {
      "cell_type": "code",
      "metadata": {
        "id": "ITE6hltC1Fau",
        "outputId": "ba8b9de8-1b13-4370-a2d1-4d6ef2c13abc",
        "colab": {
          "base_uri": "https://localhost:8080/",
          "height": 162
        }
      },
      "source": [
        "dotObj_gnfa(Gfinal)"
      ],
      "execution_count": 87,
      "outputs": [
        {
          "output_type": "execute_result",
          "data": {
            "text/plain": [
              "<graphviz.dot.Digraph at 0x7fc520c097d0>"
            ],
            "image/svg+xml": "<?xml version=\"1.0\" encoding=\"UTF-8\" standalone=\"no\"?>\n<!DOCTYPE svg PUBLIC \"-//W3C//DTD SVG 1.1//EN\"\n \"http://www.w3.org/Graphics/SVG/1.1/DTD/svg11.dtd\">\n<!-- Generated by graphviz version 2.40.1 (20161225.0304)\n -->\n<!-- Title: %3 Pages: 1 -->\n<svg width=\"3612pt\" height=\"91pt\"\n viewBox=\"0.00 0.00 3611.59 91.39\" xmlns=\"http://www.w3.org/2000/svg\" xmlns:xlink=\"http://www.w3.org/1999/xlink\">\n<g id=\"graph0\" class=\"graph\" transform=\"scale(1 1) rotate(0) translate(4 87.3933)\">\n<title>%3</title>\n<polygon fill=\"#ffffff\" stroke=\"transparent\" points=\"-4,4 -4,-87.3933 3607.5871,-87.3933 3607.5871,4 -4,4\"/>\n<!-- EMPTY -->\n<g id=\"node1\" class=\"node\">\n<title>EMPTY</title>\n</g>\n<!-- Real_I -->\n<g id=\"node2\" class=\"node\">\n<title>Real_I</title>\n<ellipse fill=\"none\" stroke=\"#000000\" cx=\"126.0969\" cy=\"-41.6967\" rx=\"35.194\" ry=\"35.194\"/>\n<text text-anchor=\"middle\" x=\"126.0969\" y=\"-37.9967\" font-family=\"Times,serif\" font-size=\"14.00\" fill=\"#000000\">Real_I</text>\n</g>\n<!-- EMPTY&#45;&gt;Real_I -->\n<g id=\"edge1\" class=\"edge\">\n<title>EMPTY&#45;&gt;Real_I</title>\n<path fill=\"none\" stroke=\"#000000\" d=\"M54.0787,-41.6967C62.3227,-41.6967 71.6196,-41.6967 80.7269,-41.6967\"/>\n<polygon fill=\"#000000\" stroke=\"#000000\" points=\"80.8626,-45.1968 90.8626,-41.6967 80.8625,-38.1968 80.8626,-45.1968\"/>\n</g>\n<!-- Real_F -->\n<g id=\"node3\" class=\"node\">\n<title>Real_F</title>\n<ellipse fill=\"none\" stroke=\"#000000\" cx=\"3561.8904\" cy=\"-41.6967\" rx=\"37.8753\" ry=\"37.8753\"/>\n<ellipse fill=\"none\" stroke=\"#000000\" cx=\"3561.8904\" cy=\"-41.6967\" rx=\"41.8942\" ry=\"41.8942\"/>\n<text text-anchor=\"middle\" x=\"3561.8904\" y=\"-37.9967\" font-family=\"Times,serif\" font-size=\"14.00\" fill=\"#000000\">Real_F</text>\n</g>\n<!-- Real_I&#45;&gt;Real_F -->\n<g id=\"edge2\" class=\"edge\">\n<title>Real_I&#45;&gt;Real_F</title>\n<path fill=\"none\" stroke=\"#000000\" d=\"M161.2213,-41.6967C495.1845,-41.6967 3106.8888,-41.6967 3509.7778,-41.6967\"/>\n<polygon fill=\"#000000\" stroke=\"#000000\" points=\"3509.971,-45.1968 3519.9709,-41.6967 3509.9709,-38.1968 3509.971,-45.1968\"/>\n<text text-anchor=\"middle\" x=\"1840.6938\" y=\"-45.4967\" font-family=\"Times,serif\" font-size=\"14.00\" fill=\"#000000\">(&#39;+&#39;, ((&#39;+&#39;, ((&#39;+&#39;, ((&#39;+&#39;, ((&#39;+&#39;, ((&#39;+&#39;, ((&#39;.&#39;, (&#39;a&#39;, (&#39;.&#39;, (&#39;b&#39;, (&#39;.&#39;, ((&#39;*&#39;, &#39;a&#39;), &#39;b&#39;)))))), (&#39;.&#39;, ((&#39;*&#39;, &#39;a&#39;), &#39;b&#39;)))), (&#39;.&#39;, ((&#39;*&#39;, &#39;a&#39;), &#39;b&#39;)))), (&#39;.&#39;, (&#39;b&#39;, (&#39;.&#39;, ((&#39;*&#39;, &#39;a&#39;), &#39;b&#39;)))))), (&#39;.&#39;, (&#39;b&#39;, (&#39;.&#39;, ((&#39;*&#39;, &#39;a&#39;), &#39;b&#39;)))))), (&#39;+&#39;, ((&#39;+&#39;, ((&#39;+&#39;, ((&#39;+&#39;, ((&#39;.&#39;, (&#39;a&#39;, (&#39;+&#39;, ((&#39;+&#39;, ((&#39;.&#39;, (&#39;b&#39;, (&#39;.&#39;, ((&#39;*&#39;, &#39;a&#39;), &#39;c&#39;)))), &#39;c&#39;)), &#39;c&#39;)))), (&#39;.&#39;, ((&#39;*&#39;, &#39;a&#39;), &#39;c&#39;)))), (&#39;.&#39;, ((&#39;*&#39;, &#39;a&#39;), &#39;c&#39;)))), (&#39;+&#39;, ((&#39;+&#39;, ((&#39;.&#39;, (&#39;b&#39;, (&#39;.&#39;, ((&#39;*&#39;, &#39;a&#39;), &#39;c&#39;)))), &#39;c&#39;)), &#39;c&#39;)))), (&#39;+&#39;, ((&#39;+&#39;, ((&#39;.&#39;, (&#39;b&#39;, (&#39;.&#39;, ((&#39;*&#39;, &#39;a&#39;), &#39;c&#39;)))), &#39;c&#39;)), &#39;c&#39;)))))), (&#39;+&#39;, ((&#39;+&#39;, ((&#39;+&#39;, ((&#39;+&#39;, ((&#39;.&#39;, (&#39;a&#39;, (&#39;+&#39;, ((&#39;+&#39;, ((&#39;.&#39;, (&#39;b&#39;, (&#39;.&#39;, ((&#39;*&#39;, &#39;a&#39;), &#39;c&#39;)))), &#39;c&#39;)), &#39;c&#39;)))), (&#39;.&#39;, ((&#39;*&#39;, &#39;a&#39;), &#39;c&#39;)))), (&#39;.&#39;, ((&#39;*&#39;, &#39;a&#39;), &#39;c&#39;)))), (&#39;+&#39;, ((&#39;+&#39;, ((&#39;.&#39;, (&#39;b&#39;, (&#39;.&#39;, ((&#39;*&#39;, &#39;a&#39;), &#39;c&#39;)))), &#39;c&#39;)), &#39;c&#39;)))), (&#39;+&#39;, ((&#39;+&#39;, ((&#39;.&#39;, (&#39;b&#39;, (&#39;.&#39;, ((&#39;*&#39;, &#39;a&#39;), &#39;c&#39;)))), &#39;c&#39;)), &#39;c&#39;)))))) </text>\n</g>\n</g>\n</svg>\n"
          },
          "metadata": {},
          "execution_count": 87
        }
      ]
    },
    {
      "cell_type": "markdown",
      "metadata": {
        "id": "P5xUsdhujI_h"
      },
      "source": [
        "### {Answer cells below: Explain how DO[0], DO[1] etc  correspond with the NFA to RE conversion you learned. Explain each DO[n] in some bullets"
      ]
    },
    {
      "cell_type": "markdown",
      "metadata": {
        "id": "LYShkL_4jI_i"
      },
      "source": [
        "* \n",
        "* DO[0] captures no states, as this is the first stage all that has happened is a GNFA was built from the NFA and the introduced G."
      ]
    },
    {
      "cell_type": "code",
      "metadata": {
        "id": "BSzUQF17jI_i",
        "outputId": "a5785292-1f6f-4c34-f5f6-079ea8f950af",
        "colab": {
          "base_uri": "https://localhost:8080/",
          "height": 201
        }
      },
      "source": [
        "DO[0]"
      ],
      "execution_count": 88,
      "outputs": [
        {
          "output_type": "execute_result",
          "data": {
            "text/plain": [
              "<graphviz.dot.Digraph at 0x7fc520c5ded0>"
            ],
            "image/svg+xml": "<?xml version=\"1.0\" encoding=\"UTF-8\" standalone=\"no\"?>\n<!DOCTYPE svg PUBLIC \"-//W3C//DTD SVG 1.1//EN\"\n \"http://www.w3.org/Graphics/SVG/1.1/DTD/svg11.dtd\">\n<!-- Generated by graphviz version 2.40.1 (20161225.0304)\n -->\n<!-- Title: %3 Pages: 1 -->\n<svg width=\"638pt\" height=\"135pt\"\n viewBox=\"0.00 0.00 637.58 135.10\" xmlns=\"http://www.w3.org/2000/svg\" xmlns:xlink=\"http://www.w3.org/1999/xlink\">\n<g id=\"graph0\" class=\"graph\" transform=\"scale(1 1) rotate(0) translate(4 131.0969)\">\n<title>%3</title>\n<polygon fill=\"#ffffff\" stroke=\"transparent\" points=\"-4,4 -4,-131.0969 633.5767,-131.0969 633.5767,4 -4,4\"/>\n<!-- EMPTY -->\n<g id=\"node1\" class=\"node\">\n<title>EMPTY</title>\n</g>\n<!-- Real_I -->\n<g id=\"node4\" class=\"node\">\n<title>Real_I</title>\n<ellipse fill=\"none\" stroke=\"#000000\" cx=\"126.0969\" cy=\"-35.0969\" rx=\"35.194\" ry=\"35.194\"/>\n<text text-anchor=\"middle\" x=\"126.0969\" y=\"-31.3969\" font-family=\"Times,serif\" font-size=\"14.00\" fill=\"#000000\">Real_I</text>\n</g>\n<!-- EMPTY&#45;&gt;Real_I -->\n<g id=\"edge1\" class=\"edge\">\n<title>EMPTY&#45;&gt;Real_I</title>\n<path fill=\"none\" stroke=\"#000000\" d=\"M54.0787,-35.0969C62.3227,-35.0969 71.6196,-35.0969 80.7269,-35.0969\"/>\n<polygon fill=\"#000000\" stroke=\"#000000\" points=\"80.8626,-38.597 90.8626,-35.0969 80.8625,-31.597 80.8626,-38.597\"/>\n</g>\n<!-- F3 -->\n<g id=\"node2\" class=\"node\">\n<title>F3</title>\n<ellipse fill=\"none\" stroke=\"#000000\" cx=\"480.3852\" cy=\"-30.0969\" rx=\"20.5982\" ry=\"20.5982\"/>\n<text text-anchor=\"middle\" x=\"480.3852\" y=\"-26.3969\" font-family=\"Times,serif\" font-size=\"14.00\" fill=\"#000000\">F3</text>\n</g>\n<!-- Real_F -->\n<g id=\"node8\" class=\"node\">\n<title>Real_F</title>\n<ellipse fill=\"none\" stroke=\"#000000\" cx=\"587.88\" cy=\"-60.0969\" rx=\"37.8753\" ry=\"37.8753\"/>\n<ellipse fill=\"none\" stroke=\"#000000\" cx=\"587.88\" cy=\"-60.0969\" rx=\"41.8942\" ry=\"41.8942\"/>\n<text text-anchor=\"middle\" x=\"587.88\" y=\"-56.3969\" font-family=\"Times,serif\" font-size=\"14.00\" fill=\"#000000\">Real_F</text>\n</g>\n<!-- F3&#45;&gt;Real_F -->\n<g id=\"edge11\" class=\"edge\">\n<title>F3&#45;&gt;Real_F</title>\n<path fill=\"none\" stroke=\"#000000\" d=\"M500.6042,-35.7397C511.1693,-38.6882 524.6124,-42.4399 537.7641,-46.1104\"/>\n<polygon fill=\"#000000\" stroke=\"#000000\" points=\"537.1392,-49.5697 547.712,-48.8867 539.021,-42.8273 537.1392,-49.5697\"/>\n<text text-anchor=\"middle\" x=\"523.6834\" y=\"-47.8969\" font-family=\"Times,serif\" font-size=\"14.00\" fill=\"#000000\">&#39;&#39; </text>\n</g>\n<!-- B -->\n<g id=\"node3\" class=\"node\">\n<title>B</title>\n<ellipse fill=\"none\" stroke=\"#000000\" cx=\"393.5871\" cy=\"-76.0969\" rx=\"18\" ry=\"18\"/>\n<text text-anchor=\"middle\" x=\"393.5871\" y=\"-72.3969\" font-family=\"Times,serif\" font-size=\"14.00\" fill=\"#000000\">B</text>\n</g>\n<!-- B&#45;&gt;F3 -->\n<g id=\"edge8\" class=\"edge\">\n<title>B&#45;&gt;F3</title>\n<path fill=\"none\" stroke=\"#000000\" d=\"M409.5072,-67.6598C421.6316,-61.2343 438.6168,-52.2327 452.9204,-44.6523\"/>\n<polygon fill=\"#000000\" stroke=\"#000000\" points=\"454.6578,-47.6927 461.8547,-39.9174 451.3799,-41.5076 454.6578,-47.6927\"/>\n<text text-anchor=\"middle\" x=\"435.5871\" y=\"-58.8969\" font-family=\"Times,serif\" font-size=\"14.00\" fill=\"#000000\">c </text>\n</g>\n<!-- B&#45;&gt;B -->\n<g id=\"edge6\" class=\"edge\">\n<title>B&#45;&gt;B</title>\n<path fill=\"none\" stroke=\"#000000\" d=\"M386.2043,-92.7609C384.5636,-102.7219 387.0246,-112.0969 393.5871,-112.0969 397.7912,-112.0969 400.312,-108.2494 401.1495,-102.8651\"/>\n<polygon fill=\"#000000\" stroke=\"#000000\" points=\"404.6472,-102.6971 400.9699,-92.7609 397.6483,-102.8216 404.6472,-102.6971\"/>\n<text text-anchor=\"middle\" x=\"393.5871\" y=\"-115.8969\" font-family=\"Times,serif\" font-size=\"14.00\" fill=\"#000000\">a </text>\n</g>\n<!-- F4 -->\n<g id=\"node6\" class=\"node\">\n<title>F4</title>\n<ellipse fill=\"none\" stroke=\"#000000\" cx=\"480.3852\" cy=\"-90.0969\" rx=\"20.5982\" ry=\"20.5982\"/>\n<text text-anchor=\"middle\" x=\"480.3852\" y=\"-86.3969\" font-family=\"Times,serif\" font-size=\"14.00\" fill=\"#000000\">F4</text>\n</g>\n<!-- B&#45;&gt;F4 -->\n<g id=\"edge7\" class=\"edge\">\n<title>B&#45;&gt;F4</title>\n<path fill=\"none\" stroke=\"#000000\" d=\"M411.5717,-78.9977C422.5115,-80.7622 436.7778,-83.0633 449.4823,-85.1124\"/>\n<polygon fill=\"#000000\" stroke=\"#000000\" points=\"449.2496,-88.6201 459.6794,-86.7572 450.3643,-81.7094 449.2496,-88.6201\"/>\n<text text-anchor=\"middle\" x=\"435.5871\" y=\"-86.8969\" font-family=\"Times,serif\" font-size=\"14.00\" fill=\"#000000\">b </text>\n</g>\n<!-- I1 -->\n<g id=\"node5\" class=\"node\">\n<title>I1</title>\n<ellipse fill=\"none\" stroke=\"#000000\" cx=\"225.0421\" cy=\"-71.0969\" rx=\"18.6979\" ry=\"18.6979\"/>\n<text text-anchor=\"middle\" x=\"225.0421\" y=\"-67.3969\" font-family=\"Times,serif\" font-size=\"14.00\" fill=\"#000000\">I1</text>\n</g>\n<!-- Real_I&#45;&gt;I1 -->\n<g id=\"edge10\" class=\"edge\">\n<title>Real_I&#45;&gt;I1</title>\n<path fill=\"none\" stroke=\"#000000\" d=\"M159.3195,-47.1845C171.8637,-51.7486 185.9759,-56.8831 197.8985,-61.221\"/>\n<polygon fill=\"#000000\" stroke=\"#000000\" points=\"196.7221,-64.5174 207.3161,-64.6475 199.1155,-57.9393 196.7221,-64.5174\"/>\n<text text-anchor=\"middle\" x=\"183.6938\" y=\"-60.8969\" font-family=\"Times,serif\" font-size=\"14.00\" fill=\"#000000\">&#39;&#39; </text>\n</g>\n<!-- I2 -->\n<g id=\"node7\" class=\"node\">\n<title>I2</title>\n<ellipse fill=\"none\" stroke=\"#000000\" cx=\"308.7388\" cy=\"-23.0969\" rx=\"18.6979\" ry=\"18.6979\"/>\n<text text-anchor=\"middle\" x=\"308.7388\" y=\"-19.3969\" font-family=\"Times,serif\" font-size=\"14.00\" fill=\"#000000\">I2</text>\n</g>\n<!-- Real_I&#45;&gt;I2 -->\n<g id=\"edge9\" class=\"edge\">\n<title>Real_I&#45;&gt;I2</title>\n<path fill=\"none\" stroke=\"#000000\" d=\"M161.1642,-31.7381C175.162,-30.4743 191.4317,-29.1015 206.1938,-28.0969 230.9149,-26.4146 259.026,-25.085 279.5556,-24.2211\"/>\n<polygon fill=\"#000000\" stroke=\"#000000\" points=\"279.9776,-27.7068 289.8262,-23.8011 279.6915,-20.7127 279.9776,-27.7068\"/>\n<text text-anchor=\"middle\" x=\"225.0421\" y=\"-31.8969\" font-family=\"Times,serif\" font-size=\"14.00\" fill=\"#000000\">&#39;&#39; </text>\n</g>\n<!-- I1&#45;&gt;B -->\n<g id=\"edge2\" class=\"edge\">\n<title>I1&#45;&gt;B</title>\n<path fill=\"none\" stroke=\"#000000\" d=\"M244.0487,-71.6607C273.5687,-72.5365 330.6184,-74.2289 365.0842,-75.2513\"/>\n<polygon fill=\"#000000\" stroke=\"#000000\" points=\"365.3178,-78.7597 375.4172,-75.5579 365.5255,-71.7628 365.3178,-78.7597\"/>\n<text text-anchor=\"middle\" x=\"308.7388\" y=\"-76.8969\" font-family=\"Times,serif\" font-size=\"14.00\" fill=\"#000000\">&#39;&#39; </text>\n</g>\n<!-- I1&#45;&gt;I2 -->\n<g id=\"edge3\" class=\"edge\">\n<title>I1&#45;&gt;I2</title>\n<path fill=\"none\" stroke=\"#000000\" d=\"M241.5779,-61.6136C253.4998,-54.7764 269.812,-45.4213 283.3748,-37.6431\"/>\n<polygon fill=\"#000000\" stroke=\"#000000\" points=\"285.3039,-40.5716 292.2373,-32.5604 281.8214,-34.4993 285.3039,-40.5716\"/>\n<text text-anchor=\"middle\" x=\"266.8904\" y=\"-52.8969\" font-family=\"Times,serif\" font-size=\"14.00\" fill=\"#000000\">a </text>\n</g>\n<!-- F4&#45;&gt;Real_F -->\n<g id=\"edge12\" class=\"edge\">\n<title>F4&#45;&gt;Real_F</title>\n<path fill=\"none\" stroke=\"#000000\" d=\"M500.6042,-84.4541C511.1693,-81.5056 524.6124,-77.7538 537.7641,-74.0834\"/>\n<polygon fill=\"#000000\" stroke=\"#000000\" points=\"539.021,-77.3665 547.712,-71.3071 537.1392,-70.6241 539.021,-77.3665\"/>\n<text text-anchor=\"middle\" x=\"523.6834\" y=\"-81.8969\" font-family=\"Times,serif\" font-size=\"14.00\" fill=\"#000000\">&#39;&#39; </text>\n</g>\n<!-- I2&#45;&gt;F3 -->\n<g id=\"edge4\" class=\"edge\">\n<title>I2&#45;&gt;F3</title>\n<path fill=\"none\" stroke=\"#000000\" d=\"M327.7638,-23.8728C357.1108,-25.0696 413.729,-27.3785 449.1464,-28.8229\"/>\n<polygon fill=\"#000000\" stroke=\"#000000\" points=\"449.2694,-32.3308 459.4038,-29.2412 449.5547,-25.3366 449.2694,-32.3308\"/>\n<text text-anchor=\"middle\" x=\"393.5871\" y=\"-31.8969\" font-family=\"Times,serif\" font-size=\"14.00\" fill=\"#000000\">c </text>\n</g>\n<!-- I2&#45;&gt;B -->\n<g id=\"edge5\" class=\"edge\">\n<title>I2&#45;&gt;B</title>\n<path fill=\"none\" stroke=\"#000000\" d=\"M325.0663,-33.0248C334.5795,-38.834 346.7916,-46.334 357.5871,-53.0969 361.5114,-55.5553 365.663,-58.1827 369.6975,-60.7503\"/>\n<polygon fill=\"#000000\" stroke=\"#000000\" points=\"367.8974,-63.7536 378.2089,-66.1873 371.6657,-57.8544 367.8974,-63.7536\"/>\n<text text-anchor=\"middle\" x=\"351.5871\" y=\"-56.8969\" font-family=\"Times,serif\" font-size=\"14.00\" fill=\"#000000\">b </text>\n</g>\n</g>\n</svg>\n"
          },
          "metadata": {},
          "execution_count": 88
        }
      ]
    },
    {
      "cell_type": "markdown",
      "metadata": {
        "id": "QXSy6BfkjI_i"
      },
      "source": [
        "* \n",
        "* DO[1] captures state F3, connecting states B and I2 to Real_F with c."
      ]
    },
    {
      "cell_type": "code",
      "metadata": {
        "id": "APyYiIBsjI_i",
        "outputId": "543cd88c-6f23-42e3-f54e-1a1161dd12b3",
        "colab": {
          "base_uri": "https://localhost:8080/",
          "height": 218
        }
      },
      "source": [
        "DO[1]"
      ],
      "execution_count": 89,
      "outputs": [
        {
          "output_type": "execute_result",
          "data": {
            "text/plain": [
              "<graphviz.dot.Digraph at 0x7fc520e53f10>"
            ],
            "image/svg+xml": "<?xml version=\"1.0\" encoding=\"UTF-8\" standalone=\"no\"?>\n<!DOCTYPE svg PUBLIC \"-//W3C//DTD SVG 1.1//EN\"\n \"http://www.w3.org/Graphics/SVG/1.1/DTD/svg11.dtd\">\n<!-- Generated by graphviz version 2.40.1 (20161225.0304)\n -->\n<!-- Title: %3 Pages: 1 -->\n<svg width=\"652pt\" height=\"148pt\"\n viewBox=\"0.00 0.00 651.58 147.90\" xmlns=\"http://www.w3.org/2000/svg\" xmlns:xlink=\"http://www.w3.org/1999/xlink\">\n<g id=\"graph0\" class=\"graph\" transform=\"scale(1 1) rotate(0) translate(4 143.895)\">\n<title>%3</title>\n<polygon fill=\"#ffffff\" stroke=\"transparent\" points=\"-4,4 -4,-143.895 647.5767,-143.895 647.5767,4 -4,4\"/>\n<!-- EMPTY -->\n<g id=\"node1\" class=\"node\">\n<title>EMPTY</title>\n</g>\n<!-- Real_I -->\n<g id=\"node3\" class=\"node\">\n<title>Real_I</title>\n<ellipse fill=\"none\" stroke=\"#000000\" cx=\"126.0969\" cy=\"-35.0969\" rx=\"35.194\" ry=\"35.194\"/>\n<text text-anchor=\"middle\" x=\"126.0969\" y=\"-31.3969\" font-family=\"Times,serif\" font-size=\"14.00\" fill=\"#000000\">Real_I</text>\n</g>\n<!-- EMPTY&#45;&gt;Real_I -->\n<g id=\"edge1\" class=\"edge\">\n<title>EMPTY&#45;&gt;Real_I</title>\n<path fill=\"none\" stroke=\"#000000\" d=\"M54.0787,-35.0969C62.3227,-35.0969 71.6196,-35.0969 80.7269,-35.0969\"/>\n<polygon fill=\"#000000\" stroke=\"#000000\" points=\"80.8626,-38.597 90.8626,-35.0969 80.8625,-31.597 80.8626,-38.597\"/>\n</g>\n<!-- B -->\n<g id=\"node2\" class=\"node\">\n<title>B</title>\n<ellipse fill=\"none\" stroke=\"#000000\" cx=\"400.5871\" cy=\"-73.0969\" rx=\"18\" ry=\"18\"/>\n<text text-anchor=\"middle\" x=\"400.5871\" y=\"-69.3969\" font-family=\"Times,serif\" font-size=\"14.00\" fill=\"#000000\">B</text>\n</g>\n<!-- B&#45;&gt;B -->\n<g id=\"edge7\" class=\"edge\">\n<title>B&#45;&gt;B</title>\n<path fill=\"none\" stroke=\"#000000\" d=\"M393.2043,-89.7609C391.5636,-99.7219 394.0246,-109.0969 400.5871,-109.0969 404.7912,-109.0969 407.312,-105.2494 408.1495,-99.8651\"/>\n<polygon fill=\"#000000\" stroke=\"#000000\" points=\"411.6472,-99.6971 407.9699,-89.7609 404.6483,-99.8216 411.6472,-99.6971\"/>\n<text text-anchor=\"middle\" x=\"400.5871\" y=\"-112.8969\" font-family=\"Times,serif\" font-size=\"14.00\" fill=\"#000000\">a </text>\n</g>\n<!-- F4 -->\n<g id=\"node5\" class=\"node\">\n<title>F4</title>\n<ellipse fill=\"none\" stroke=\"#000000\" cx=\"487.3852\" cy=\"-119.0969\" rx=\"20.5982\" ry=\"20.5982\"/>\n<text text-anchor=\"middle\" x=\"487.3852\" y=\"-115.3969\" font-family=\"Times,serif\" font-size=\"14.00\" fill=\"#000000\">F4</text>\n</g>\n<!-- B&#45;&gt;F4 -->\n<g id=\"edge8\" class=\"edge\">\n<title>B&#45;&gt;F4</title>\n<path fill=\"none\" stroke=\"#000000\" d=\"M416.5072,-81.534C428.6316,-87.9595 445.6168,-96.9611 459.9204,-104.5415\"/>\n<polygon fill=\"#000000\" stroke=\"#000000\" points=\"458.3799,-107.6861 468.8547,-109.2763 461.6578,-101.501 458.3799,-107.6861\"/>\n<text text-anchor=\"middle\" x=\"442.5871\" y=\"-100.8969\" font-family=\"Times,serif\" font-size=\"14.00\" fill=\"#000000\">b </text>\n</g>\n<!-- Real_F -->\n<g id=\"node7\" class=\"node\">\n<title>Real_F</title>\n<ellipse fill=\"none\" stroke=\"#000000\" cx=\"601.88\" cy=\"-65.0969\" rx=\"37.8753\" ry=\"37.8753\"/>\n<ellipse fill=\"none\" stroke=\"#000000\" cx=\"601.88\" cy=\"-65.0969\" rx=\"41.8942\" ry=\"41.8942\"/>\n<text text-anchor=\"middle\" x=\"601.88\" y=\"-61.3969\" font-family=\"Times,serif\" font-size=\"14.00\" fill=\"#000000\">Real_F</text>\n</g>\n<!-- B&#45;&gt;Real_F -->\n<g id=\"edge2\" class=\"edge\">\n<title>B&#45;&gt;Real_F</title>\n<path fill=\"none\" stroke=\"#000000\" d=\"M418.8055,-72.3728C448.103,-71.2085 506.758,-68.8773 549.8116,-67.1662\"/>\n<polygon fill=\"#000000\" stroke=\"#000000\" points=\"549.9892,-70.662 559.8423,-66.7676 549.7112,-63.6676 549.9892,-70.662\"/>\n<text text-anchor=\"middle\" x=\"487.3852\" y=\"-73.8969\" font-family=\"Times,serif\" font-size=\"14.00\" fill=\"#000000\">c </text>\n</g>\n<!-- I1 -->\n<g id=\"node4\" class=\"node\">\n<title>I1</title>\n<ellipse fill=\"none\" stroke=\"#000000\" cx=\"232.0421\" cy=\"-71.0969\" rx=\"18.6979\" ry=\"18.6979\"/>\n<text text-anchor=\"middle\" x=\"232.0421\" y=\"-67.3969\" font-family=\"Times,serif\" font-size=\"14.00\" fill=\"#000000\">I1</text>\n</g>\n<!-- Real_I&#45;&gt;I1 -->\n<g id=\"edge10\" class=\"edge\">\n<title>Real_I&#45;&gt;I1</title>\n<path fill=\"none\" stroke=\"#000000\" d=\"M159.3279,-46.3887C173.7385,-51.2854 190.4236,-56.955 204.1735,-61.6272\"/>\n<polygon fill=\"#000000\" stroke=\"#000000\" points=\"203.4352,-65.0728 214.0296,-64.9763 205.6874,-58.445 203.4352,-65.0728\"/>\n<text text-anchor=\"middle\" x=\"187.1938\" y=\"-61.8969\" font-family=\"Times,serif\" font-size=\"14.00\" fill=\"#000000\">&quot;&quot; </text>\n</g>\n<!-- I2 -->\n<g id=\"node6\" class=\"node\">\n<title>I2</title>\n<ellipse fill=\"none\" stroke=\"#000000\" cx=\"315.7388\" cy=\"-23.0969\" rx=\"18.6979\" ry=\"18.6979\"/>\n<text text-anchor=\"middle\" x=\"315.7388\" y=\"-19.3969\" font-family=\"Times,serif\" font-size=\"14.00\" fill=\"#000000\">I2</text>\n</g>\n<!-- Real_I&#45;&gt;I2 -->\n<g id=\"edge9\" class=\"edge\">\n<title>Real_I&#45;&gt;I2</title>\n<path fill=\"none\" stroke=\"#000000\" d=\"M161.2525,-32.0181C177.113,-30.6943 196.0876,-29.2011 213.1938,-28.0969 237.9206,-26.5008 266.0312,-25.1638 286.5592,-24.2751\"/>\n<polygon fill=\"#000000\" stroke=\"#000000\" points=\"286.9857,-27.7602 296.8288,-23.8405 286.6897,-20.7665 286.9857,-27.7602\"/>\n<text text-anchor=\"middle\" x=\"232.0421\" y=\"-31.8969\" font-family=\"Times,serif\" font-size=\"14.00\" fill=\"#000000\">&quot;&quot; </text>\n</g>\n<!-- I1&#45;&gt;B -->\n<g id=\"edge4\" class=\"edge\">\n<title>I1&#45;&gt;B</title>\n<path fill=\"none\" stroke=\"#000000\" d=\"M251.0487,-71.3224C280.5687,-71.6727 337.6184,-72.3497 372.0842,-72.7587\"/>\n<polygon fill=\"#000000\" stroke=\"#000000\" points=\"372.3764,-76.2623 382.4172,-72.8813 372.4595,-69.2628 372.3764,-76.2623\"/>\n<text text-anchor=\"middle\" x=\"315.7388\" y=\"-75.8969\" font-family=\"Times,serif\" font-size=\"14.00\" fill=\"#000000\">&quot;&quot; </text>\n</g>\n<!-- I1&#45;&gt;I2 -->\n<g id=\"edge5\" class=\"edge\">\n<title>I1&#45;&gt;I2</title>\n<path fill=\"none\" stroke=\"#000000\" d=\"M248.5779,-61.6136C260.4998,-54.7764 276.812,-45.4213 290.3748,-37.6431\"/>\n<polygon fill=\"#000000\" stroke=\"#000000\" points=\"292.3039,-40.5716 299.2373,-32.5604 288.8214,-34.4993 292.3039,-40.5716\"/>\n<text text-anchor=\"middle\" x=\"273.8904\" y=\"-52.8969\" font-family=\"Times,serif\" font-size=\"14.00\" fill=\"#000000\">a </text>\n</g>\n<!-- F4&#45;&gt;Real_F -->\n<g id=\"edge11\" class=\"edge\">\n<title>F4&#45;&gt;Real_F</title>\n<path fill=\"none\" stroke=\"#000000\" d=\"M506.2917,-110.1799C519.4751,-103.9621 537.679,-95.3765 554.6662,-87.3647\"/>\n<polygon fill=\"#000000\" stroke=\"#000000\" points=\"556.3873,-90.4228 563.9388,-82.9914 553.4012,-84.0916 556.3873,-90.4228\"/>\n<text text-anchor=\"middle\" x=\"534.1834\" y=\"-102.8969\" font-family=\"Times,serif\" font-size=\"14.00\" fill=\"#000000\">&quot;&quot; </text>\n</g>\n<!-- I2&#45;&gt;B -->\n<g id=\"edge6\" class=\"edge\">\n<title>I2&#45;&gt;B</title>\n<path fill=\"none\" stroke=\"#000000\" d=\"M332.0984,-32.7374C344.5813,-40.0934 361.9798,-50.3461 376.1168,-58.6769\"/>\n<polygon fill=\"#000000\" stroke=\"#000000\" points=\"374.4591,-61.7625 384.8514,-63.8241 378.013,-55.7317 374.4591,-61.7625\"/>\n<text text-anchor=\"middle\" x=\"358.5871\" y=\"-54.8969\" font-family=\"Times,serif\" font-size=\"14.00\" fill=\"#000000\">b </text>\n</g>\n<!-- I2&#45;&gt;Real_F -->\n<g id=\"edge3\" class=\"edge\">\n<title>I2&#45;&gt;Real_F</title>\n<path fill=\"none\" stroke=\"#000000\" d=\"M334.5133,-25.8526C377.7675,-32.2015 485.6796,-48.0409 550.4138,-57.5426\"/>\n<polygon fill=\"#000000\" stroke=\"#000000\" points=\"550.0137,-61.0213 560.416,-59.0108 551.0303,-54.0955 550.0137,-61.0213\"/>\n<text text-anchor=\"middle\" x=\"442.5871\" y=\"-46.8969\" font-family=\"Times,serif\" font-size=\"14.00\" fill=\"#000000\">c </text>\n</g>\n</g>\n</svg>\n"
          },
          "metadata": {},
          "execution_count": 89
        }
      ]
    },
    {
      "cell_type": "markdown",
      "metadata": {
        "id": "Sek-oT5YjI_i"
      },
      "source": [
        "* \n",
        "* DO[2] captures state B, creating paths from I1 and I2 to F4 and from I1 and I2 to Real_F"
      ]
    },
    {
      "cell_type": "code",
      "metadata": {
        "id": "xjbWKX2fjI_i",
        "outputId": "da73acf5-db0d-4ec9-f474-9e7d0ad0e896",
        "colab": {
          "base_uri": "https://localhost:8080/",
          "height": 230
        }
      },
      "source": [
        "DO[2]"
      ],
      "execution_count": 90,
      "outputs": [
        {
          "output_type": "execute_result",
          "data": {
            "text/plain": [
              "<graphviz.dot.Digraph at 0x7fc520be9c50>"
            ],
            "image/svg+xml": "<?xml version=\"1.0\" encoding=\"UTF-8\" standalone=\"no\"?>\n<!DOCTYPE svg PUBLIC \"-//W3C//DTD SVG 1.1//EN\"\n \"http://www.w3.org/Graphics/SVG/1.1/DTD/svg11.dtd\">\n<!-- Generated by graphviz version 2.40.1 (20161225.0304)\n -->\n<!-- Title: %3 Pages: 1 -->\n<svg width=\"687pt\" height=\"157pt\"\n viewBox=\"0.00 0.00 687.28 156.87\" xmlns=\"http://www.w3.org/2000/svg\" xmlns:xlink=\"http://www.w3.org/1999/xlink\">\n<g id=\"graph0\" class=\"graph\" transform=\"scale(1 1) rotate(0) translate(4 152.871)\">\n<title>%3</title>\n<polygon fill=\"#ffffff\" stroke=\"transparent\" points=\"-4,4 -4,-152.871 683.2837,-152.871 683.2837,4 -4,4\"/>\n<!-- EMPTY -->\n<g id=\"node1\" class=\"node\">\n<title>EMPTY</title>\n</g>\n<!-- Real_I -->\n<g id=\"node4\" class=\"node\">\n<title>Real_I</title>\n<ellipse fill=\"none\" stroke=\"#000000\" cx=\"126.0969\" cy=\"-83.871\" rx=\"35.194\" ry=\"35.194\"/>\n<text text-anchor=\"middle\" x=\"126.0969\" y=\"-80.171\" font-family=\"Times,serif\" font-size=\"14.00\" fill=\"#000000\">Real_I</text>\n</g>\n<!-- EMPTY&#45;&gt;Real_I -->\n<g id=\"edge1\" class=\"edge\">\n<title>EMPTY&#45;&gt;Real_I</title>\n<path fill=\"none\" stroke=\"#000000\" d=\"M54.0787,-83.871C62.3227,-83.871 71.6196,-83.871 80.7269,-83.871\"/>\n<polygon fill=\"#000000\" stroke=\"#000000\" points=\"80.8626,-87.3711 90.8626,-83.871 80.8625,-80.3711 80.8626,-87.3711\"/>\n</g>\n<!-- I2 -->\n<g id=\"node2\" class=\"node\">\n<title>I2</title>\n<ellipse fill=\"none\" stroke=\"#000000\" cx=\"320.3904\" cy=\"-67.871\" rx=\"18.6979\" ry=\"18.6979\"/>\n<text text-anchor=\"middle\" x=\"320.3904\" y=\"-64.171\" font-family=\"Times,serif\" font-size=\"14.00\" fill=\"#000000\">I2</text>\n</g>\n<!-- F4 -->\n<g id=\"node5\" class=\"node\">\n<title>F4</title>\n<ellipse fill=\"none\" stroke=\"#000000\" cx=\"495.3904\" cy=\"-53.871\" rx=\"20.5982\" ry=\"20.5982\"/>\n<text text-anchor=\"middle\" x=\"495.3904\" y=\"-50.171\" font-family=\"Times,serif\" font-size=\"14.00\" fill=\"#000000\">F4</text>\n</g>\n<!-- I2&#45;&gt;F4 -->\n<g id=\"edge3\" class=\"edge\">\n<title>I2&#45;&gt;F4</title>\n<path fill=\"none\" stroke=\"#000000\" d=\"M339.4516,-66.3461C369.5256,-63.9402 428.2766,-59.2401 464.4532,-56.346\"/>\n<polygon fill=\"#000000\" stroke=\"#000000\" points=\"464.7682,-59.832 474.4572,-55.5456 464.2099,-52.8543 464.7682,-59.832\"/>\n<text text-anchor=\"middle\" x=\"395.3904\" y=\"-68.671\" font-family=\"Times,serif\" font-size=\"14.00\" fill=\"#000000\">(b ((a)* b)) </text>\n</g>\n<!-- Real_F -->\n<g id=\"node6\" class=\"node\">\n<title>Real_F</title>\n<ellipse fill=\"none\" stroke=\"#000000\" cx=\"637.5871\" cy=\"-94.871\" rx=\"37.8753\" ry=\"37.8753\"/>\n<ellipse fill=\"none\" stroke=\"#000000\" cx=\"637.5871\" cy=\"-94.871\" rx=\"41.8942\" ry=\"41.8942\"/>\n<text text-anchor=\"middle\" x=\"637.5871\" y=\"-91.171\" font-family=\"Times,serif\" font-size=\"14.00\" fill=\"#000000\">Real_F</text>\n</g>\n<!-- I2&#45;&gt;Real_F -->\n<g id=\"edge2\" class=\"edge\">\n<title>I2&#45;&gt;Real_F</title>\n<path fill=\"none\" stroke=\"#000000\" d=\"M337.7929,-75.9553C345.0816,-78.976 353.741,-82.1003 361.8904,-83.871 448.9088,-102.7783 472.8817,-93.2031 561.8904,-95.871 569.4719,-96.0982 577.4821,-96.1722 585.3424,-96.1504\"/>\n<polygon fill=\"#000000\" stroke=\"#000000\" points=\"585.5679,-99.6489 595.5405,-96.0715 585.5137,-92.6491 585.5679,-99.6489\"/>\n<text text-anchor=\"middle\" x=\"495.3904\" y=\"-100.671\" font-family=\"Times,serif\" font-size=\"14.00\" fill=\"#000000\">((b ((a)* c)) + c) </text>\n</g>\n<!-- I2&#45;&gt;Real_F -->\n<g id=\"edge6\" class=\"edge\">\n<title>I2&#45;&gt;Real_F</title>\n<path fill=\"none\" stroke=\"#000000\" d=\"M335.9452,-57.1769C372.866,-33.1972 468.3492,20.5414 543.8904,-8.871 567.4429,-18.0413 588.6662,-36.2053 604.9342,-53.4866\"/>\n<polygon fill=\"#000000\" stroke=\"#000000\" points=\"602.7387,-56.2755 612.0506,-61.3291 607.9226,-51.5715 602.7387,-56.2755\"/>\n<text text-anchor=\"middle\" x=\"495.3904\" y=\"-12.671\" font-family=\"Times,serif\" font-size=\"14.00\" fill=\"#000000\">c </text>\n</g>\n<!-- I1 -->\n<g id=\"node3\" class=\"node\">\n<title>I1</title>\n<ellipse fill=\"none\" stroke=\"#000000\" cx=\"232.0421\" cy=\"-124.871\" rx=\"18.6979\" ry=\"18.6979\"/>\n<text text-anchor=\"middle\" x=\"232.0421\" y=\"-121.171\" font-family=\"Times,serif\" font-size=\"14.00\" fill=\"#000000\">I1</text>\n</g>\n<!-- I1&#45;&gt;I2 -->\n<g id=\"edge7\" class=\"edge\">\n<title>I1&#45;&gt;I2</title>\n<path fill=\"none\" stroke=\"#000000\" d=\"M248.2465,-114.4163C261.5721,-105.819 280.6663,-93.4999 295.8639,-83.6948\"/>\n<polygon fill=\"#000000\" stroke=\"#000000\" points=\"297.7833,-86.6218 304.2887,-78.2594 293.9883,-80.7397 297.7833,-86.6218\"/>\n<text text-anchor=\"middle\" x=\"273.8904\" y=\"-103.671\" font-family=\"Times,serif\" font-size=\"14.00\" fill=\"#000000\">a </text>\n</g>\n<!-- I1&#45;&gt;F4 -->\n<g id=\"edge5\" class=\"edge\">\n<title>I1&#45;&gt;F4</title>\n<path fill=\"none\" stroke=\"#000000\" d=\"M250.8712,-122.4199C286.3541,-117.4807 365.2722,-104.9654 428.8904,-83.871 441.9455,-79.5422 455.8909,-73.4877 467.6221,-67.9504\"/>\n<polygon fill=\"#000000\" stroke=\"#000000\" points=\"469.4084,-70.9744 476.8874,-63.4701 466.361,-64.6726 469.4084,-70.9744\"/>\n<text text-anchor=\"middle\" x=\"320.3904\" y=\"-119.671\" font-family=\"Times,serif\" font-size=\"14.00\" fill=\"#000000\">((a)* b) </text>\n</g>\n<!-- I1&#45;&gt;Real_F -->\n<g id=\"edge4\" class=\"edge\">\n<title>I1&#45;&gt;Real_F</title>\n<path fill=\"none\" stroke=\"#000000\" d=\"M250.2682,-130.1015C256.1619,-131.5827 262.7587,-133.0217 268.8904,-133.871 281.2251,-135.5794 284.44,-134.6487 296.8904,-134.871 406.975,-136.8362 434.5849,-129.0913 543.8904,-115.871 559.0536,-114.037 562.9333,-113.9643 577.8904,-110.871 581.0427,-110.2191 584.2759,-109.5002 587.5279,-108.739\"/>\n<polygon fill=\"#000000\" stroke=\"#000000\" points=\"588.3961,-112.1299 597.2777,-106.3534 586.7323,-105.3305 588.3961,-112.1299\"/>\n<text text-anchor=\"middle\" x=\"395.3904\" y=\"-137.671\" font-family=\"Times,serif\" font-size=\"14.00\" fill=\"#000000\">((a)* c) </text>\n</g>\n<!-- Real_I&#45;&gt;I2 -->\n<g id=\"edge8\" class=\"edge\">\n<title>Real_I&#45;&gt;I2</title>\n<path fill=\"none\" stroke=\"#000000\" d=\"M161.282,-80.9735C198.5449,-77.9049 256.6822,-73.1173 291.4042,-70.258\"/>\n<polygon fill=\"#000000\" stroke=\"#000000\" points=\"291.7003,-73.7456 301.3792,-69.4366 291.1257,-66.7692 291.7003,-73.7456\"/>\n<text text-anchor=\"middle\" x=\"232.0421\" y=\"-80.671\" font-family=\"Times,serif\" font-size=\"14.00\" fill=\"#000000\">&quot;&quot; </text>\n</g>\n<!-- Real_I&#45;&gt;I1 -->\n<g id=\"edge9\" class=\"edge\">\n<title>Real_I&#45;&gt;I1</title>\n<path fill=\"none\" stroke=\"#000000\" d=\"M159.0379,-96.6189C173.7016,-102.2937 190.7671,-108.8979 204.7095,-114.2935\"/>\n<polygon fill=\"#000000\" stroke=\"#000000\" points=\"203.6416,-117.6331 214.2309,-117.9782 206.168,-111.1049 203.6416,-117.6331\"/>\n<text text-anchor=\"middle\" x=\"187.1938\" y=\"-114.671\" font-family=\"Times,serif\" font-size=\"14.00\" fill=\"#000000\">&quot;&quot; </text>\n</g>\n<!-- F4&#45;&gt;Real_F -->\n<g id=\"edge10\" class=\"edge\">\n<title>F4&#45;&gt;Real_F</title>\n<path fill=\"none\" stroke=\"#000000\" d=\"M515.4621,-59.6583C534.183,-65.0562 562.8799,-73.3304 587.7528,-80.5021\"/>\n<polygon fill=\"#000000\" stroke=\"#000000\" points=\"586.8452,-83.883 597.4235,-83.2905 588.7846,-77.157 586.8452,-83.883\"/>\n<text text-anchor=\"middle\" x=\"569.8904\" y=\"-80.671\" font-family=\"Times,serif\" font-size=\"14.00\" fill=\"#000000\">&quot;&quot; </text>\n</g>\n</g>\n</svg>\n"
          },
          "metadata": {},
          "execution_count": 90
        }
      ]
    },
    {
      "cell_type": "markdown",
      "metadata": {
        "id": "e02mMopjjI_i"
      },
      "source": [
        "* \n",
        "* DO[3] captures state I2, resulting in multiple paths from I1 to Real_F and multiple paths from I1 to F4."
      ]
    },
    {
      "cell_type": "code",
      "metadata": {
        "id": "wUoE7ejNjI_i",
        "outputId": "b440bf88-77c1-4fee-cf61-0861acc53530",
        "colab": {
          "base_uri": "https://localhost:8080/",
          "height": 252
        }
      },
      "source": [
        "DO[3]"
      ],
      "execution_count": 91,
      "outputs": [
        {
          "output_type": "execute_result",
          "data": {
            "text/plain": [
              "<graphviz.dot.Digraph at 0x7fc5209371d0>"
            ],
            "image/svg+xml": "<?xml version=\"1.0\" encoding=\"UTF-8\" standalone=\"no\"?>\n<!DOCTYPE svg PUBLIC \"-//W3C//DTD SVG 1.1//EN\"\n \"http://www.w3.org/Graphics/SVG/1.1/DTD/svg11.dtd\">\n<!-- Generated by graphviz version 2.40.1 (20161225.0304)\n -->\n<!-- Title: %3 Pages: 1 -->\n<svg width=\"826pt\" height=\"173pt\"\n viewBox=\"0.00 0.00 825.59 172.70\" xmlns=\"http://www.w3.org/2000/svg\" xmlns:xlink=\"http://www.w3.org/1999/xlink\">\n<g id=\"graph0\" class=\"graph\" transform=\"scale(1 1) rotate(0) translate(4 168.6967)\">\n<title>%3</title>\n<polygon fill=\"#ffffff\" stroke=\"transparent\" points=\"-4,4 -4,-168.6967 821.5871,-168.6967 821.5871,4 -4,4\"/>\n<!-- EMPTY -->\n<g id=\"node1\" class=\"node\">\n<title>EMPTY</title>\n</g>\n<!-- Real_I -->\n<g id=\"node4\" class=\"node\">\n<title>Real_I</title>\n<ellipse fill=\"none\" stroke=\"#000000\" cx=\"126.0969\" cy=\"-83.6967\" rx=\"35.194\" ry=\"35.194\"/>\n<text text-anchor=\"middle\" x=\"126.0969\" y=\"-79.9967\" font-family=\"Times,serif\" font-size=\"14.00\" fill=\"#000000\">Real_I</text>\n</g>\n<!-- EMPTY&#45;&gt;Real_I -->\n<g id=\"edge1\" class=\"edge\">\n<title>EMPTY&#45;&gt;Real_I</title>\n<path fill=\"none\" stroke=\"#000000\" d=\"M54.0787,-83.6967C62.3227,-83.6967 71.6196,-83.6967 80.7269,-83.6967\"/>\n<polygon fill=\"#000000\" stroke=\"#000000\" points=\"80.8626,-87.1968 90.8626,-83.6967 80.8625,-80.1968 80.8626,-87.1968\"/>\n</g>\n<!-- F4 -->\n<g id=\"node2\" class=\"node\">\n<title>F4</title>\n<ellipse fill=\"none\" stroke=\"#000000\" cx=\"576.1938\" cy=\"-130.6967\" rx=\"20.5982\" ry=\"20.5982\"/>\n<text text-anchor=\"middle\" x=\"576.1938\" y=\"-126.9967\" font-family=\"Times,serif\" font-size=\"14.00\" fill=\"#000000\">F4</text>\n</g>\n<!-- Real_F -->\n<g id=\"node5\" class=\"node\">\n<title>Real_F</title>\n<ellipse fill=\"none\" stroke=\"#000000\" cx=\"775.8904\" cy=\"-41.6967\" rx=\"37.8753\" ry=\"37.8753\"/>\n<ellipse fill=\"none\" stroke=\"#000000\" cx=\"775.8904\" cy=\"-41.6967\" rx=\"41.8942\" ry=\"41.8942\"/>\n<text text-anchor=\"middle\" x=\"775.8904\" y=\"-37.9967\" font-family=\"Times,serif\" font-size=\"14.00\" fill=\"#000000\">Real_F</text>\n</g>\n<!-- F4&#45;&gt;Real_F -->\n<g id=\"edge9\" class=\"edge\">\n<title>F4&#45;&gt;Real_F</title>\n<path fill=\"none\" stroke=\"#000000\" d=\"M596.3142,-125.3997C624.1047,-117.6979 675.4232,-102.0749 716.1938,-81.6967 721.9059,-78.8416 727.7204,-75.529 733.368,-72.0561\"/>\n<polygon fill=\"#000000\" stroke=\"#000000\" points=\"735.5168,-74.837 742.0667,-66.5094 731.7532,-68.9348 735.5168,-74.837\"/>\n<text text-anchor=\"middle\" x=\"708.1938\" y=\"-91.4967\" font-family=\"Times,serif\" font-size=\"14.00\" fill=\"#000000\">&quot;&quot; </text>\n</g>\n<!-- I1 -->\n<g id=\"node3\" class=\"node\">\n<title>I1</title>\n<ellipse fill=\"none\" stroke=\"#000000\" cx=\"246.6938\" cy=\"-83.6967\" rx=\"18.6979\" ry=\"18.6979\"/>\n<text text-anchor=\"middle\" x=\"246.6938\" y=\"-79.9967\" font-family=\"Times,serif\" font-size=\"14.00\" fill=\"#000000\">I1</text>\n</g>\n<!-- I1&#45;&gt;F4 -->\n<g id=\"edge5\" class=\"edge\">\n<title>I1&#45;&gt;F4</title>\n<path fill=\"none\" stroke=\"#000000\" d=\"M261.4019,-96.0789C271.1678,-103.5166 284.6429,-112.3546 298.1938,-116.6967 384.3019,-144.2881 493.048,-139.0255 545.3403,-134.1951\"/>\n<polygon fill=\"#000000\" stroke=\"#000000\" points=\"545.709,-137.6758 555.3184,-133.2137 545.0238,-130.7094 545.709,-137.6758\"/>\n<text text-anchor=\"middle\" x=\"375.1938\" y=\"-141.4967\" font-family=\"Times,serif\" font-size=\"14.00\" fill=\"#000000\">((a (b ((a)* b))) + ((a)* b)) </text>\n</g>\n<!-- I1&#45;&gt;F4 -->\n<g id=\"edge7\" class=\"edge\">\n<title>I1&#45;&gt;F4</title>\n<path fill=\"none\" stroke=\"#000000\" d=\"M265.8172,-83.7782C302.3059,-84.203 384.2805,-86.4537 452.1938,-97.6967 485.0319,-103.133 521.7783,-113.4648 546.6846,-121.1258\"/>\n<polygon fill=\"#000000\" stroke=\"#000000\" points=\"545.6749,-124.4771 556.2638,-124.1204 547.7636,-117.796 545.6749,-124.4771\"/>\n<text text-anchor=\"middle\" x=\"375.1938\" y=\"-101.4967\" font-family=\"Times,serif\" font-size=\"14.00\" fill=\"#000000\">((a)* b) </text>\n</g>\n<!-- I1&#45;&gt;Real_F -->\n<g id=\"edge4\" class=\"edge\">\n<title>I1&#45;&gt;Real_F</title>\n<path fill=\"none\" stroke=\"#000000\" d=\"M265.5282,-82.2019C339.1794,-76.3565 609.2665,-54.9209 723.8932,-45.8234\"/>\n<polygon fill=\"#000000\" stroke=\"#000000\" points=\"724.4716,-49.2886 734.1633,-45.0083 723.9177,-42.3106 724.4716,-49.2886\"/>\n<text text-anchor=\"middle\" x=\"576.1938\" y=\"-68.4967\" font-family=\"Times,serif\" font-size=\"14.00\" fill=\"#000000\">((a (((b ((a)* c)) + c) + c)) + ((a)* c)) </text>\n</g>\n<!-- I1&#45;&gt;Real_F -->\n<g id=\"edge6\" class=\"edge\">\n<title>I1&#45;&gt;Real_F</title>\n<path fill=\"none\" stroke=\"#000000\" d=\"M264.0238,-75.6273C273.8719,-71.2979 286.5299,-66.1566 298.1938,-62.6967 462.4164,-13.9818 511.2454,-18.7943 682.1938,-29.6967 695.8878,-30.57 710.6396,-32.1544 724.2947,-33.8917\"/>\n<polygon fill=\"#000000\" stroke=\"#000000\" points=\"724.1146,-37.3983 734.4874,-35.2408 725.0331,-30.4588 724.1146,-37.3983\"/>\n<text text-anchor=\"middle\" x=\"576.1938\" y=\"-33.4967\" font-family=\"Times,serif\" font-size=\"14.00\" fill=\"#000000\">((a)* c) </text>\n</g>\n<!-- Real_I&#45;&gt;F4 -->\n<g id=\"edge3\" class=\"edge\">\n<title>Real_I&#45;&gt;F4</title>\n<path fill=\"none\" stroke=\"#000000\" d=\"M156.9627,-100.7832C190.5353,-118.3119 246.3575,-144.4239 298.1938,-154.6967 387.329,-172.3613 495.0949,-151.2541 546.334,-138.7093\"/>\n<polygon fill=\"#000000\" stroke=\"#000000\" points=\"547.2507,-142.0879 556.0947,-136.254 545.5429,-135.2994 547.2507,-142.0879\"/>\n<text text-anchor=\"middle\" x=\"246.6938\" y=\"-153.4967\" font-family=\"Times,serif\" font-size=\"14.00\" fill=\"#000000\">(b ((a)* b)) </text>\n</g>\n<!-- Real_I&#45;&gt;I1 -->\n<g id=\"edge8\" class=\"edge\">\n<title>Real_I&#45;&gt;I1</title>\n<path fill=\"none\" stroke=\"#000000\" d=\"M161.3027,-83.6967C179.0963,-83.6967 200.4379,-83.6967 217.3343,-83.6967\"/>\n<polygon fill=\"#000000\" stroke=\"#000000\" points=\"217.7137,-87.1968 227.7137,-83.6967 217.7137,-80.1968 217.7137,-87.1968\"/>\n<text text-anchor=\"middle\" x=\"187.1938\" y=\"-87.4967\" font-family=\"Times,serif\" font-size=\"14.00\" fill=\"#000000\">&quot;&quot; </text>\n</g>\n<!-- Real_I&#45;&gt;Real_F -->\n<g id=\"edge2\" class=\"edge\">\n<title>Real_I&#45;&gt;Real_F</title>\n<path fill=\"none\" stroke=\"#000000\" d=\"M156.494,-65.5895C189.8945,-46.8347 245.7824,-18.7543 298.1938,-7.6967 351.9869,3.6525 677.742,-17.037 682.1938,-17.6967 696.4957,-19.8158 711.7763,-23.2244 725.7592,-26.8153\"/>\n<polygon fill=\"#000000\" stroke=\"#000000\" points=\"725.116,-30.2657 735.6792,-29.4464 726.9107,-23.4996 725.116,-30.2657\"/>\n<text text-anchor=\"middle\" x=\"375.1938\" y=\"-11.4967\" font-family=\"Times,serif\" font-size=\"14.00\" fill=\"#000000\">(((b ((a)* c)) + c) + c) </text>\n</g>\n</g>\n</svg>\n"
          },
          "metadata": {},
          "execution_count": 91
        }
      ]
    },
    {
      "cell_type": "markdown",
      "metadata": {
        "id": "Y1WrYOfhjI_j"
      },
      "source": [
        "* \n",
        "* DO[4] captures state I1, merging the various paths you could take to get from I1 to Real_F and the paths you could take to get to F4, leaving two paths to F4 and Real_F each."
      ]
    },
    {
      "cell_type": "code",
      "metadata": {
        "id": "_1T3cGrgjI_j",
        "outputId": "8d3d7ef2-db86-469c-c121-d9207fd481b5",
        "colab": {
          "base_uri": "https://localhost:8080/",
          "height": 234
        }
      },
      "source": [
        "DO[4]"
      ],
      "execution_count": 92,
      "outputs": [
        {
          "output_type": "execute_result",
          "data": {
            "text/plain": [
              "<graphviz.dot.Digraph at 0x7fc520c97190>"
            ],
            "image/svg+xml": "<?xml version=\"1.0\" encoding=\"UTF-8\" standalone=\"no\"?>\n<!DOCTYPE svg PUBLIC \"-//W3C//DTD SVG 1.1//EN\"\n \"http://www.w3.org/Graphics/SVG/1.1/DTD/svg11.dtd\">\n<!-- Generated by graphviz version 2.40.1 (20161225.0304)\n -->\n<!-- Title: %3 Pages: 1 -->\n<svg width=\"1076pt\" height=\"145pt\"\n viewBox=\"0.00 0.00 1075.59 144.70\" xmlns=\"http://www.w3.org/2000/svg\" xmlns:xlink=\"http://www.w3.org/1999/xlink\">\n<g id=\"graph0\" class=\"graph\" transform=\"scale(1 1) rotate(0) translate(4 140.6967)\">\n<title>%3</title>\n<polygon fill=\"#ffffff\" stroke=\"transparent\" points=\"-4,4 -4,-140.6967 1071.5871,-140.6967 1071.5871,4 -4,4\"/>\n<!-- EMPTY -->\n<g id=\"node1\" class=\"node\">\n<title>EMPTY</title>\n</g>\n<!-- Real_I -->\n<g id=\"node3\" class=\"node\">\n<title>Real_I</title>\n<ellipse fill=\"none\" stroke=\"#000000\" cx=\"126.0969\" cy=\"-57.6967\" rx=\"35.194\" ry=\"35.194\"/>\n<text text-anchor=\"middle\" x=\"126.0969\" y=\"-53.9967\" font-family=\"Times,serif\" font-size=\"14.00\" fill=\"#000000\">Real_I</text>\n</g>\n<!-- EMPTY&#45;&gt;Real_I -->\n<g id=\"edge1\" class=\"edge\">\n<title>EMPTY&#45;&gt;Real_I</title>\n<path fill=\"none\" stroke=\"#000000\" d=\"M54.0787,-57.6967C62.3227,-57.6967 71.6196,-57.6967 80.7269,-57.6967\"/>\n<polygon fill=\"#000000\" stroke=\"#000000\" points=\"80.8626,-61.1968 90.8626,-57.6967 80.8625,-54.1968 80.8626,-61.1968\"/>\n</g>\n<!-- F4 -->\n<g id=\"node2\" class=\"node\">\n<title>F4</title>\n<ellipse fill=\"none\" stroke=\"#000000\" cx=\"719.1938\" cy=\"-95.6967\" rx=\"20.5982\" ry=\"20.5982\"/>\n<text text-anchor=\"middle\" x=\"719.1938\" y=\"-91.9967\" font-family=\"Times,serif\" font-size=\"14.00\" fill=\"#000000\">F4</text>\n</g>\n<!-- Real_F -->\n<g id=\"node4\" class=\"node\">\n<title>Real_F</title>\n<ellipse fill=\"none\" stroke=\"#000000\" cx=\"1025.8904\" cy=\"-41.6967\" rx=\"37.8753\" ry=\"37.8753\"/>\n<ellipse fill=\"none\" stroke=\"#000000\" cx=\"1025.8904\" cy=\"-41.6967\" rx=\"41.8942\" ry=\"41.8942\"/>\n<text text-anchor=\"middle\" x=\"1025.8904\" y=\"-37.9967\" font-family=\"Times,serif\" font-size=\"14.00\" fill=\"#000000\">Real_F</text>\n</g>\n<!-- F4&#45;&gt;Real_F -->\n<g id=\"edge6\" class=\"edge\">\n<title>F4&#45;&gt;Real_F</title>\n<path fill=\"none\" stroke=\"#000000\" d=\"M740.1002,-92.814C782.768,-86.8203 882.8844,-72.1903 966.1938,-55.6967 969.178,-55.1058 972.24,-54.4724 975.325,-53.8134\"/>\n<polygon fill=\"#000000\" stroke=\"#000000\" points=\"976.1765,-57.2098 985.1901,-51.6416 974.6714,-50.3735 976.1765,-57.2098\"/>\n<text text-anchor=\"middle\" x=\"958.1938\" y=\"-61.4967\" font-family=\"Times,serif\" font-size=\"14.00\" fill=\"#000000\">&quot;&quot; </text>\n</g>\n<!-- Real_I&#45;&gt;F4 -->\n<g id=\"edge3\" class=\"edge\">\n<title>Real_I&#45;&gt;F4</title>\n<path fill=\"none\" stroke=\"#000000\" d=\"M154.2166,-79.0969C161.9201,-83.8318 170.5429,-88.184 179.1938,-90.6967 365.9306,-144.934 604.5432,-114.5683 688.3974,-101.0868\"/>\n<polygon fill=\"#000000\" stroke=\"#000000\" points=\"689.2168,-104.4991 698.5147,-99.4198 688.0787,-97.5922 689.2168,-104.4991\"/>\n<text text-anchor=\"middle\" x=\"333.6938\" y=\"-125.4967\" font-family=\"Times,serif\" font-size=\"14.00\" fill=\"#000000\">((((a (b ((a)* b))) + ((a)* b)) + ((a)* b)) + (b ((a)* b))) </text>\n</g>\n<!-- Real_I&#45;&gt;F4 -->\n<g id=\"edge5\" class=\"edge\">\n<title>Real_I&#45;&gt;F4</title>\n<path fill=\"none\" stroke=\"#000000\" d=\"M161.3475,-58.3004C226.1389,-59.579 368.4941,-63.1735 488.1938,-71.6967 560.0881,-76.8159 644.2129,-86.4882 688.4317,-91.8587\"/>\n<polygon fill=\"#000000\" stroke=\"#000000\" points=\"688.1752,-95.3534 698.5264,-93.0945 689.0258,-88.4052 688.1752,-95.3534\"/>\n<text text-anchor=\"middle\" x=\"333.6938\" y=\"-75.4967\" font-family=\"Times,serif\" font-size=\"14.00\" fill=\"#000000\">(b ((a)* b)) </text>\n</g>\n<!-- Real_I&#45;&gt;Real_F -->\n<g id=\"edge2\" class=\"edge\">\n<title>Real_I&#45;&gt;Real_F</title>\n<path fill=\"none\" stroke=\"#000000\" d=\"M161.2237,-56.2688C167.2185,-56.0551 173.3843,-55.8541 179.1938,-55.6967 480.0344,-47.5445 841.1404,-43.478 973.7694,-42.1757\"/>\n<polygon fill=\"#000000\" stroke=\"#000000\" points=\"974.0708,-45.6731 984.0362,-42.076 974.0027,-38.6734 974.0708,-45.6731\"/>\n<text text-anchor=\"middle\" x=\"719.1938\" y=\"-51.4967\" font-family=\"Times,serif\" font-size=\"14.00\" fill=\"#000000\">((((a (((b ((a)* c)) + c) + c)) + ((a)* c)) + ((a)* c)) + (((b ((a)* c)) + c) + c)) </text>\n</g>\n<!-- Real_I&#45;&gt;Real_F -->\n<g id=\"edge4\" class=\"edge\">\n<title>Real_I&#45;&gt;Real_F</title>\n<path fill=\"none\" stroke=\"#000000\" d=\"M160.1969,-48.4275C166.4764,-46.9837 173.0038,-45.6553 179.1938,-44.6967 510.0591,6.5428 599.0581,10.74 932.1938,-22.6967 946.2805,-24.1105 961.3819,-26.6915 975.258,-29.5049\"/>\n<polygon fill=\"#000000\" stroke=\"#000000\" points=\"974.6066,-32.9445 985.1133,-31.5813 976.0497,-26.0948 974.6066,-32.9445\"/>\n<text text-anchor=\"middle\" x=\"719.1938\" y=\"-26.4967\" font-family=\"Times,serif\" font-size=\"14.00\" fill=\"#000000\">(((b ((a)* c)) + c) + c) </text>\n</g>\n</g>\n</svg>\n"
          },
          "metadata": {},
          "execution_count": 92
        }
      ]
    },
    {
      "cell_type": "markdown",
      "metadata": {
        "id": "E3opssgpjI_j"
      },
      "source": [
        "* \n",
        "* DO[5] captures state F4, merging the two paths to it together leaving 3 paths to Real_F from Real_I instead of 4."
      ]
    },
    {
      "cell_type": "code",
      "metadata": {
        "id": "m-G34ljqjI_j",
        "outputId": "e889446f-c082-479f-ac06-a1f5bb8e169a",
        "colab": {
          "base_uri": "https://localhost:8080/",
          "height": 305
        }
      },
      "source": [
        "DO[5]"
      ],
      "execution_count": 93,
      "outputs": [
        {
          "output_type": "execute_result",
          "data": {
            "text/plain": [
              "<graphviz.dot.Digraph at 0x7fc520c97350>"
            ],
            "image/svg+xml": "<?xml version=\"1.0\" encoding=\"UTF-8\" standalone=\"no\"?>\n<!DOCTYPE svg PUBLIC \"-//W3C//DTD SVG 1.1//EN\"\n \"http://www.w3.org/Graphics/SVG/1.1/DTD/svg11.dtd\">\n<!-- Generated by graphviz version 2.40.1 (20161225.0304)\n -->\n<!-- Title: %3 Pages: 1 -->\n<svg width=\"1280pt\" height=\"198pt\"\n viewBox=\"0.00 0.00 1279.59 197.64\" xmlns=\"http://www.w3.org/2000/svg\" xmlns:xlink=\"http://www.w3.org/1999/xlink\">\n<g id=\"graph0\" class=\"graph\" transform=\"scale(1 1) rotate(0) translate(4 193.6423)\">\n<title>%3</title>\n<polygon fill=\"#ffffff\" stroke=\"transparent\" points=\"-4,4 -4,-193.6423 1275.5871,-193.6423 1275.5871,4 -4,4\"/>\n<!-- EMPTY -->\n<g id=\"node1\" class=\"node\">\n<title>EMPTY</title>\n</g>\n<!-- Real_I -->\n<g id=\"node2\" class=\"node\">\n<title>Real_I</title>\n<ellipse fill=\"none\" stroke=\"#000000\" cx=\"126.0969\" cy=\"-113.6423\" rx=\"35.194\" ry=\"35.194\"/>\n<text text-anchor=\"middle\" x=\"126.0969\" y=\"-109.9423\" font-family=\"Times,serif\" font-size=\"14.00\" fill=\"#000000\">Real_I</text>\n</g>\n<!-- EMPTY&#45;&gt;Real_I -->\n<g id=\"edge1\" class=\"edge\">\n<title>EMPTY&#45;&gt;Real_I</title>\n<path fill=\"none\" stroke=\"#000000\" d=\"M54.0787,-113.6423C62.3227,-113.6423 71.6196,-113.6423 80.7269,-113.6423\"/>\n<polygon fill=\"#000000\" stroke=\"#000000\" points=\"80.8626,-117.1424 90.8626,-113.6423 80.8625,-110.1424 80.8626,-117.1424\"/>\n</g>\n<!-- Real_F -->\n<g id=\"node3\" class=\"node\">\n<title>Real_F</title>\n<ellipse fill=\"none\" stroke=\"#000000\" cx=\"1229.8904\" cy=\"-113.6423\" rx=\"37.8753\" ry=\"37.8753\"/>\n<ellipse fill=\"none\" stroke=\"#000000\" cx=\"1229.8904\" cy=\"-113.6423\" rx=\"41.8942\" ry=\"41.8942\"/>\n<text text-anchor=\"middle\" x=\"1229.8904\" y=\"-109.9423\" font-family=\"Times,serif\" font-size=\"14.00\" fill=\"#000000\">Real_F</text>\n</g>\n<!-- Real_I&#45;&gt;Real_F -->\n<g id=\"edge2\" class=\"edge\">\n<title>Real_I&#45;&gt;Real_F</title>\n<path fill=\"none\" stroke=\"#000000\" d=\"M159.466,-125.3108C165.9346,-127.1113 172.717,-128.6877 179.1938,-129.6423 614.9304,-193.8676 733.5193,-187.1466 1170.1938,-129.6423 1173.3852,-129.2221 1176.6484,-128.6806 1179.9228,-128.052\"/>\n<polygon fill=\"#000000\" stroke=\"#000000\" points=\"1180.6813,-131.469 1189.7187,-125.9395 1179.2056,-124.6263 1180.6813,-131.469\"/>\n<text text-anchor=\"middle\" x=\"674.6938\" y=\"-178.4423\" font-family=\"Times,serif\" font-size=\"14.00\" fill=\"#000000\">((((((a (b ((a)* b))) + ((a)* b)) + ((a)* b)) + (b ((a)* b))) + (b ((a)* b))) + (((((a (((b ((a)* c)) + c) + c)) + ((a)* c)) + ((a)* c)) + (((b ((a)* c)) + c) + c)) + (((b ((a)* c)) + c) + c))) </text>\n</g>\n<!-- Real_I&#45;&gt;Real_F -->\n<g id=\"edge3\" class=\"edge\">\n<title>Real_I&#45;&gt;Real_F</title>\n<path fill=\"none\" stroke=\"#000000\" d=\"M161.2152,-111.3778C167.2111,-111.0715 173.3794,-110.8065 179.1938,-110.6423 619.4628,-98.2145 729.8881,-99.5857 1170.1938,-110.6423 1172.7354,-110.7062 1175.3372,-110.7852 1177.9646,-110.8761\"/>\n<polygon fill=\"#000000\" stroke=\"#000000\" points=\"1178.0209,-114.3809 1188.151,-111.2773 1178.2965,-107.3863 1178.0209,-114.3809\"/>\n<text text-anchor=\"middle\" x=\"674.6938\" y=\"-114.4423\" font-family=\"Times,serif\" font-size=\"14.00\" fill=\"#000000\">((((a (((b ((a)* c)) + c) + c)) + ((a)* c)) + ((a)* c)) + (((b ((a)* c)) + c) + c)) </text>\n</g>\n<!-- Real_I&#45;&gt;Real_F -->\n<g id=\"edge4\" class=\"edge\">\n<title>Real_I&#45;&gt;Real_F</title>\n<path fill=\"none\" stroke=\"#000000\" d=\"M154.9101,-93.1545C162.4674,-88.833 170.8477,-84.9004 179.1938,-82.6423 604.3526,32.3849 742.3191,21.8304 1170.1938,-82.6423 1175.1713,-83.8577 1180.1962,-85.567 1185.1059,-87.5653\"/>\n<polygon fill=\"#000000\" stroke=\"#000000\" points=\"1183.8059,-90.818 1194.3631,-91.7104 1186.6667,-84.4292 1183.8059,-90.818\"/>\n<text text-anchor=\"middle\" x=\"674.6938\" y=\"-86.4423\" font-family=\"Times,serif\" font-size=\"14.00\" fill=\"#000000\">(((b ((a)* c)) + c) + c) </text>\n</g>\n</g>\n</svg>\n"
          },
          "metadata": {},
          "execution_count": 93
        }
      ]
    },
    {
      "cell_type": "markdown",
      "metadata": {
        "id": "Z-h_GIH-BJRn"
      },
      "source": [
        "* \n",
        "* In the last stage, Gfinal, the 3 paths to Real_F are collapsed into 1 singular expression, yielding the (very large) regular expression that represents the original NFA."
      ]
    },
    {
      "cell_type": "code",
      "metadata": {
        "id": "4DmLera_jI_j",
        "outputId": "67d943df-0906-4949-e00d-01144dbcf2f0",
        "colab": {
          "base_uri": "https://localhost:8080/",
          "height": 162
        }
      },
      "source": [
        "dotObj_gnfa(Gfinal)"
      ],
      "execution_count": 94,
      "outputs": [
        {
          "output_type": "execute_result",
          "data": {
            "text/plain": [
              "<graphviz.dot.Digraph at 0x7fc520dd9dd0>"
            ],
            "image/svg+xml": "<?xml version=\"1.0\" encoding=\"UTF-8\" standalone=\"no\"?>\n<!DOCTYPE svg PUBLIC \"-//W3C//DTD SVG 1.1//EN\"\n \"http://www.w3.org/Graphics/SVG/1.1/DTD/svg11.dtd\">\n<!-- Generated by graphviz version 2.40.1 (20161225.0304)\n -->\n<!-- Title: %3 Pages: 1 -->\n<svg width=\"3612pt\" height=\"91pt\"\n viewBox=\"0.00 0.00 3611.59 91.39\" xmlns=\"http://www.w3.org/2000/svg\" xmlns:xlink=\"http://www.w3.org/1999/xlink\">\n<g id=\"graph0\" class=\"graph\" transform=\"scale(1 1) rotate(0) translate(4 87.3933)\">\n<title>%3</title>\n<polygon fill=\"#ffffff\" stroke=\"transparent\" points=\"-4,4 -4,-87.3933 3607.5871,-87.3933 3607.5871,4 -4,4\"/>\n<!-- EMPTY -->\n<g id=\"node1\" class=\"node\">\n<title>EMPTY</title>\n</g>\n<!-- Real_I -->\n<g id=\"node2\" class=\"node\">\n<title>Real_I</title>\n<ellipse fill=\"none\" stroke=\"#000000\" cx=\"126.0969\" cy=\"-41.6967\" rx=\"35.194\" ry=\"35.194\"/>\n<text text-anchor=\"middle\" x=\"126.0969\" y=\"-37.9967\" font-family=\"Times,serif\" font-size=\"14.00\" fill=\"#000000\">Real_I</text>\n</g>\n<!-- EMPTY&#45;&gt;Real_I -->\n<g id=\"edge1\" class=\"edge\">\n<title>EMPTY&#45;&gt;Real_I</title>\n<path fill=\"none\" stroke=\"#000000\" d=\"M54.0787,-41.6967C62.3227,-41.6967 71.6196,-41.6967 80.7269,-41.6967\"/>\n<polygon fill=\"#000000\" stroke=\"#000000\" points=\"80.8626,-45.1968 90.8626,-41.6967 80.8625,-38.1968 80.8626,-45.1968\"/>\n</g>\n<!-- Real_F -->\n<g id=\"node3\" class=\"node\">\n<title>Real_F</title>\n<ellipse fill=\"none\" stroke=\"#000000\" cx=\"3561.8904\" cy=\"-41.6967\" rx=\"37.8753\" ry=\"37.8753\"/>\n<ellipse fill=\"none\" stroke=\"#000000\" cx=\"3561.8904\" cy=\"-41.6967\" rx=\"41.8942\" ry=\"41.8942\"/>\n<text text-anchor=\"middle\" x=\"3561.8904\" y=\"-37.9967\" font-family=\"Times,serif\" font-size=\"14.00\" fill=\"#000000\">Real_F</text>\n</g>\n<!-- Real_I&#45;&gt;Real_F -->\n<g id=\"edge2\" class=\"edge\">\n<title>Real_I&#45;&gt;Real_F</title>\n<path fill=\"none\" stroke=\"#000000\" d=\"M161.2213,-41.6967C495.1845,-41.6967 3106.8888,-41.6967 3509.7778,-41.6967\"/>\n<polygon fill=\"#000000\" stroke=\"#000000\" points=\"3509.971,-45.1968 3519.9709,-41.6967 3509.9709,-38.1968 3509.971,-45.1968\"/>\n<text text-anchor=\"middle\" x=\"1840.6938\" y=\"-45.4967\" font-family=\"Times,serif\" font-size=\"14.00\" fill=\"#000000\">(&#39;+&#39;, ((&#39;+&#39;, ((&#39;+&#39;, ((&#39;+&#39;, ((&#39;+&#39;, ((&#39;+&#39;, ((&#39;.&#39;, (&#39;a&#39;, (&#39;.&#39;, (&#39;b&#39;, (&#39;.&#39;, ((&#39;*&#39;, &#39;a&#39;), &#39;b&#39;)))))), (&#39;.&#39;, ((&#39;*&#39;, &#39;a&#39;), &#39;b&#39;)))), (&#39;.&#39;, ((&#39;*&#39;, &#39;a&#39;), &#39;b&#39;)))), (&#39;.&#39;, (&#39;b&#39;, (&#39;.&#39;, ((&#39;*&#39;, &#39;a&#39;), &#39;b&#39;)))))), (&#39;.&#39;, (&#39;b&#39;, (&#39;.&#39;, ((&#39;*&#39;, &#39;a&#39;), &#39;b&#39;)))))), (&#39;+&#39;, ((&#39;+&#39;, ((&#39;+&#39;, ((&#39;+&#39;, ((&#39;.&#39;, (&#39;a&#39;, (&#39;+&#39;, ((&#39;+&#39;, ((&#39;.&#39;, (&#39;b&#39;, (&#39;.&#39;, ((&#39;*&#39;, &#39;a&#39;), &#39;c&#39;)))), &#39;c&#39;)), &#39;c&#39;)))), (&#39;.&#39;, ((&#39;*&#39;, &#39;a&#39;), &#39;c&#39;)))), (&#39;.&#39;, ((&#39;*&#39;, &#39;a&#39;), &#39;c&#39;)))), (&#39;+&#39;, ((&#39;+&#39;, ((&#39;.&#39;, (&#39;b&#39;, (&#39;.&#39;, ((&#39;*&#39;, &#39;a&#39;), &#39;c&#39;)))), &#39;c&#39;)), &#39;c&#39;)))), (&#39;+&#39;, ((&#39;+&#39;, ((&#39;.&#39;, (&#39;b&#39;, (&#39;.&#39;, ((&#39;*&#39;, &#39;a&#39;), &#39;c&#39;)))), &#39;c&#39;)), &#39;c&#39;)))))), (&#39;+&#39;, ((&#39;+&#39;, ((&#39;+&#39;, ((&#39;+&#39;, ((&#39;.&#39;, (&#39;a&#39;, (&#39;+&#39;, ((&#39;+&#39;, ((&#39;.&#39;, (&#39;b&#39;, (&#39;.&#39;, ((&#39;*&#39;, &#39;a&#39;), &#39;c&#39;)))), &#39;c&#39;)), &#39;c&#39;)))), (&#39;.&#39;, ((&#39;*&#39;, &#39;a&#39;), &#39;c&#39;)))), (&#39;.&#39;, ((&#39;*&#39;, &#39;a&#39;), &#39;c&#39;)))), (&#39;+&#39;, ((&#39;+&#39;, ((&#39;.&#39;, (&#39;b&#39;, (&#39;.&#39;, ((&#39;*&#39;, &#39;a&#39;), &#39;c&#39;)))), &#39;c&#39;)), &#39;c&#39;)))), (&#39;+&#39;, ((&#39;+&#39;, ((&#39;.&#39;, (&#39;b&#39;, (&#39;.&#39;, ((&#39;*&#39;, &#39;a&#39;), &#39;c&#39;)))), &#39;c&#39;)), &#39;c&#39;)))))) </text>\n</g>\n</g>\n</svg>\n"
          },
          "metadata": {},
          "execution_count": 94
        }
      ]
    },
    {
      "cell_type": "markdown",
      "metadata": {
        "id": "V9nRzOHS1Fax"
      },
      "source": [
        "# END\n"
      ]
    }
  ]
}